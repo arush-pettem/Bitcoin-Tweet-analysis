{
 "cells": [
  {
   "cell_type": "code",
   "execution_count": 1,
   "id": "b3deb046",
   "metadata": {
    "_cell_guid": "b1076dfc-b9ad-4769-8c92-a6c4dae69d19",
    "_uuid": "8f2839f25d086af736a60e9eeb907d3b93b6e0e5",
    "execution": {
     "iopub.execute_input": "2025-04-20T13:49:02.966632Z",
     "iopub.status.busy": "2025-04-20T13:49:02.966344Z",
     "iopub.status.idle": "2025-04-20T13:49:04.554527Z",
     "shell.execute_reply": "2025-04-20T13:49:04.553603Z"
    },
    "papermill": {
     "duration": 1.592795,
     "end_time": "2025-04-20T13:49:04.555741",
     "exception": false,
     "start_time": "2025-04-20T13:49:02.962946",
     "status": "completed"
    },
    "tags": []
   },
   "outputs": [
    {
     "name": "stdout",
     "output_type": "stream",
     "text": [
      "/kaggle/input/bitcoin-tweets/Bitcoin_tweets_dataset_2.csv\n",
      "/kaggle/input/bitcoin-tweets/Bitcoin_tweets.csv\n"
     ]
    }
   ],
   "source": [
    "# This Python 3 environment comes with many helpful analytics libraries installed\n",
    "# It is defined by the kaggle/python Docker image: https://github.com/kaggle/docker-python\n",
    "# For example, here's several helpful packages to load\n",
    "\n",
    "import numpy as np # linear algebra\n",
    "import pandas as pd # data processing, CSV file I/O (e.g. pd.read_csv)\n",
    "\n",
    "# Input data files are available in the read-only \"../input/\" directory\n",
    "# For example, running this (by clicking run or pressing Shift+Enter) will list all files under the input directory\n",
    "\n",
    "import os\n",
    "for dirname, _, filenames in os.walk('/kaggle/input'):\n",
    "    for filename in filenames:\n",
    "        print(os.path.join(dirname, filename))\n",
    "\n",
    "# You can write up to 20GB to the current directory (/kaggle/working/) that gets preserved as output when you create a version using \"Save & Run All\" \n",
    "# You can also write temporary files to /kaggle/temp/, but they won't be saved outside of the current session"
   ]
  },
  {
   "cell_type": "code",
   "execution_count": 2,
   "id": "fa1b4218",
   "metadata": {
    "execution": {
     "iopub.execute_input": "2025-04-20T13:49:04.561147Z",
     "iopub.status.busy": "2025-04-20T13:49:04.560458Z",
     "iopub.status.idle": "2025-04-20T13:49:44.897832Z",
     "shell.execute_reply": "2025-04-20T13:49:44.897020Z"
    },
    "papermill": {
     "duration": 40.341594,
     "end_time": "2025-04-20T13:49:44.899487",
     "exception": false,
     "start_time": "2025-04-20T13:49:04.557893",
     "status": "completed"
    },
    "tags": []
   },
   "outputs": [
    {
     "name": "stdout",
     "output_type": "stream",
     "text": [
      "Requirement already satisfied: scikit-learn in /usr/local/lib/python3.11/dist-packages (1.2.2)\r\n",
      "Collecting scikit-learn\r\n",
      "  Downloading scikit_learn-1.6.1-cp311-cp311-manylinux_2_17_x86_64.manylinux2014_x86_64.whl.metadata (18 kB)\r\n",
      "Requirement already satisfied: numpy in /usr/local/lib/python3.11/dist-packages (1.26.4)\r\n",
      "Collecting numpy\r\n",
      "  Downloading numpy-2.2.5-cp311-cp311-manylinux_2_17_x86_64.manylinux2014_x86_64.whl.metadata (62 kB)\r\n",
      "\u001b[2K     \u001b[90m━━━━━━━━━━━━━━━━━━━━━━━━━━━━━━━━━━━━━━━━\u001b[0m \u001b[32m62.0/62.0 kB\u001b[0m \u001b[31m1.9 MB/s\u001b[0m eta \u001b[36m0:00:00\u001b[0m\r\n",
      "\u001b[?25hRequirement already satisfied: pandas in /usr/local/lib/python3.11/dist-packages (2.2.3)\r\n",
      "Requirement already satisfied: joblib in /usr/local/lib/python3.11/dist-packages (1.4.2)\r\n",
      "Requirement already satisfied: optuna in /usr/local/lib/python3.11/dist-packages (4.2.1)\r\n",
      "Collecting optuna\r\n",
      "  Downloading optuna-4.3.0-py3-none-any.whl.metadata (17 kB)\r\n",
      "Requirement already satisfied: xgboost in /usr/local/lib/python3.11/dist-packages (2.0.3)\r\n",
      "Collecting xgboost\r\n",
      "  Downloading xgboost-3.0.0-py3-none-manylinux_2_28_x86_64.whl.metadata (2.1 kB)\r\n",
      "Requirement already satisfied: lightgbm in /usr/local/lib/python3.11/dist-packages (4.6.0)\r\n",
      "Requirement already satisfied: matplotlib in /usr/local/lib/python3.11/dist-packages (3.7.5)\r\n",
      "Collecting matplotlib\r\n",
      "  Downloading matplotlib-3.10.1-cp311-cp311-manylinux_2_17_x86_64.manylinux2014_x86_64.whl.metadata (11 kB)\r\n",
      "Requirement already satisfied: seaborn in /usr/local/lib/python3.11/dist-packages (0.12.2)\r\n",
      "Collecting seaborn\r\n",
      "  Downloading seaborn-0.13.2-py3-none-any.whl.metadata (5.4 kB)\r\n",
      "Requirement already satisfied: tqdm in /usr/local/lib/python3.11/dist-packages (4.67.1)\r\n",
      "Requirement already satisfied: scipy>=1.6.0 in /usr/local/lib/python3.11/dist-packages (from scikit-learn) (1.15.2)\r\n",
      "Requirement already satisfied: threadpoolctl>=3.1.0 in /usr/local/lib/python3.11/dist-packages (from scikit-learn) (3.6.0)\r\n",
      "Requirement already satisfied: python-dateutil>=2.8.2 in /usr/local/lib/python3.11/dist-packages (from pandas) (2.9.0.post0)\r\n",
      "Requirement already satisfied: pytz>=2020.1 in /usr/local/lib/python3.11/dist-packages (from pandas) (2025.2)\r\n",
      "Requirement already satisfied: tzdata>=2022.7 in /usr/local/lib/python3.11/dist-packages (from pandas) (2025.2)\r\n",
      "Requirement already satisfied: alembic>=1.5.0 in /usr/local/lib/python3.11/dist-packages (from optuna) (1.15.2)\r\n",
      "Requirement already satisfied: colorlog in /usr/local/lib/python3.11/dist-packages (from optuna) (6.9.0)\r\n",
      "Requirement already satisfied: packaging>=20.0 in /usr/local/lib/python3.11/dist-packages (from optuna) (24.2)\r\n",
      "Requirement already satisfied: sqlalchemy>=1.4.2 in /usr/local/lib/python3.11/dist-packages (from optuna) (2.0.38)\r\n",
      "Requirement already satisfied: PyYAML in /usr/local/lib/python3.11/dist-packages (from optuna) (6.0.2)\r\n",
      "Requirement already satisfied: nvidia-nccl-cu12 in /usr/local/lib/python3.11/dist-packages (from xgboost) (2.21.5)\r\n",
      "Requirement already satisfied: contourpy>=1.0.1 in /usr/local/lib/python3.11/dist-packages (from matplotlib) (1.3.1)\r\n",
      "Requirement already satisfied: cycler>=0.10 in /usr/local/lib/python3.11/dist-packages (from matplotlib) (0.12.1)\r\n",
      "Requirement already satisfied: fonttools>=4.22.0 in /usr/local/lib/python3.11/dist-packages (from matplotlib) (4.56.0)\r\n",
      "Requirement already satisfied: kiwisolver>=1.3.1 in /usr/local/lib/python3.11/dist-packages (from matplotlib) (1.4.8)\r\n",
      "Requirement already satisfied: pillow>=8 in /usr/local/lib/python3.11/dist-packages (from matplotlib) (11.1.0)\r\n",
      "Requirement already satisfied: pyparsing>=2.3.1 in /usr/local/lib/python3.11/dist-packages (from matplotlib) (3.2.1)\r\n",
      "Requirement already satisfied: Mako in /usr/local/lib/python3.11/dist-packages (from alembic>=1.5.0->optuna) (1.3.9)\r\n",
      "Requirement already satisfied: typing-extensions>=4.12 in /usr/local/lib/python3.11/dist-packages (from alembic>=1.5.0->optuna) (4.13.1)\r\n",
      "Requirement already satisfied: six>=1.5 in /usr/local/lib/python3.11/dist-packages (from python-dateutil>=2.8.2->pandas) (1.17.0)\r\n",
      "Requirement already satisfied: greenlet!=0.4.17 in /usr/local/lib/python3.11/dist-packages (from sqlalchemy>=1.4.2->optuna) (3.1.1)\r\n",
      "Requirement already satisfied: MarkupSafe>=0.9.2 in /usr/local/lib/python3.11/dist-packages (from Mako->alembic>=1.5.0->optuna) (3.0.2)\r\n",
      "Downloading scikit_learn-1.6.1-cp311-cp311-manylinux_2_17_x86_64.manylinux2014_x86_64.whl (13.5 MB)\r\n",
      "\u001b[2K   \u001b[90m━━━━━━━━━━━━━━━━━━━━━━━━━━━━━━━━━━━━━━━━\u001b[0m \u001b[32m13.5/13.5 MB\u001b[0m \u001b[31m89.8 MB/s\u001b[0m eta \u001b[36m0:00:00\u001b[0m\r\n",
      "\u001b[?25hDownloading numpy-2.2.5-cp311-cp311-manylinux_2_17_x86_64.manylinux2014_x86_64.whl (16.4 MB)\r\n",
      "\u001b[2K   \u001b[90m━━━━━━━━━━━━━━━━━━━━━━━━━━━━━━━━━━━━━━━━\u001b[0m \u001b[32m16.4/16.4 MB\u001b[0m \u001b[31m80.5 MB/s\u001b[0m eta \u001b[36m0:00:00\u001b[0m\r\n",
      "\u001b[?25hDownloading optuna-4.3.0-py3-none-any.whl (386 kB)\r\n",
      "\u001b[2K   \u001b[90m━━━━━━━━━━━━━━━━━━━━━━━━━━━━━━━━━━━━━━━━\u001b[0m \u001b[32m386.6/386.6 kB\u001b[0m \u001b[31m22.8 MB/s\u001b[0m eta \u001b[36m0:00:00\u001b[0m\r\n",
      "\u001b[?25hDownloading xgboost-3.0.0-py3-none-manylinux_2_28_x86_64.whl (253.9 MB)\r\n",
      "\u001b[2K   \u001b[90m━━━━━━━━━━━━━━━━━━━━━━━━━━━━━━━━━━━━━━━━\u001b[0m \u001b[32m253.9/253.9 MB\u001b[0m \u001b[31m6.7 MB/s\u001b[0m eta \u001b[36m0:00:00\u001b[0m\r\n",
      "\u001b[?25hDownloading matplotlib-3.10.1-cp311-cp311-manylinux_2_17_x86_64.manylinux2014_x86_64.whl (8.6 MB)\r\n",
      "\u001b[2K   \u001b[90m━━━━━━━━━━━━━━━━━━━━━━━━━━━━━━━━━━━━━━━━\u001b[0m \u001b[32m8.6/8.6 MB\u001b[0m \u001b[31m87.3 MB/s\u001b[0m eta \u001b[36m0:00:00\u001b[0m\r\n",
      "\u001b[?25hDownloading seaborn-0.13.2-py3-none-any.whl (294 kB)\r\n",
      "\u001b[2K   \u001b[90m━━━━━━━━━━━━━━━━━━━━━━━━━━━━━━━━━━━━━━━━\u001b[0m \u001b[32m294.9/294.9 kB\u001b[0m \u001b[31m13.2 MB/s\u001b[0m eta \u001b[36m0:00:00\u001b[0m\r\n",
      "\u001b[?25hInstalling collected packages: numpy, xgboost, scikit-learn, optuna, matplotlib, seaborn\r\n",
      "  Attempting uninstall: numpy\r\n",
      "    Found existing installation: numpy 1.26.4\r\n",
      "    Uninstalling numpy-1.26.4:\r\n",
      "      Successfully uninstalled numpy-1.26.4\r\n",
      "  Attempting uninstall: xgboost\r\n",
      "    Found existing installation: xgboost 2.0.3\r\n",
      "    Uninstalling xgboost-2.0.3:\r\n",
      "      Successfully uninstalled xgboost-2.0.3\r\n",
      "  Attempting uninstall: scikit-learn\r\n",
      "    Found existing installation: scikit-learn 1.2.2\r\n",
      "    Uninstalling scikit-learn-1.2.2:\r\n",
      "      Successfully uninstalled scikit-learn-1.2.2\r\n",
      "  Attempting uninstall: optuna\r\n",
      "    Found existing installation: optuna 4.2.1\r\n",
      "    Uninstalling optuna-4.2.1:\r\n",
      "      Successfully uninstalled optuna-4.2.1\r\n",
      "  Attempting uninstall: matplotlib\r\n",
      "    Found existing installation: matplotlib 3.7.5\r\n",
      "    Uninstalling matplotlib-3.7.5:\r\n",
      "      Successfully uninstalled matplotlib-3.7.5\r\n",
      "  Attempting uninstall: seaborn\r\n",
      "    Found existing installation: seaborn 0.12.2\r\n",
      "    Uninstalling seaborn-0.12.2:\r\n",
      "      Successfully uninstalled seaborn-0.12.2\r\n",
      "\u001b[31mERROR: pip's dependency resolver does not currently take into account all the packages that are installed. This behaviour is the source of the following dependency conflicts.\r\n",
      "mkl-umath 0.1.1 requires numpy<1.27.0,>=1.26.4, but you have numpy 2.2.5 which is incompatible.\r\n",
      "mkl-random 1.2.4 requires numpy<1.27.0,>=1.26.4, but you have numpy 2.2.5 which is incompatible.\r\n",
      "mkl-fft 1.3.8 requires numpy<1.27.0,>=1.26.4, but you have numpy 2.2.5 which is incompatible.\r\n",
      "numba 0.60.0 requires numpy<2.1,>=1.22, but you have numpy 2.2.5 which is incompatible.\r\n",
      "category-encoders 2.7.0 requires scikit-learn<1.6.0,>=1.0.0, but you have scikit-learn 1.6.1 which is incompatible.\r\n",
      "datasets 3.5.0 requires fsspec[http]<=2024.12.0,>=2023.1.0, but you have fsspec 2025.3.2 which is incompatible.\r\n",
      "ydata-profiling 4.16.1 requires matplotlib<=3.10,>=3.5, but you have matplotlib 3.10.1 which is incompatible.\r\n",
      "ydata-profiling 4.16.1 requires numpy<2.2,>=1.16.0, but you have numpy 2.2.5 which is incompatible.\r\n",
      "catboost 1.2.7 requires numpy<2.0,>=1.16.0, but you have numpy 2.2.5 which is incompatible.\r\n",
      "google-colab 1.0.0 requires notebook==6.5.5, but you have notebook 6.5.4 which is incompatible.\r\n",
      "google-colab 1.0.0 requires pandas==2.2.2, but you have pandas 2.2.3 which is incompatible.\r\n",
      "gensim 4.3.3 requires numpy<2.0,>=1.18.5, but you have numpy 2.2.5 which is incompatible.\r\n",
      "gensim 4.3.3 requires scipy<1.14.0,>=1.7.0, but you have scipy 1.15.2 which is incompatible.\r\n",
      "dopamine-rl 4.1.2 requires gymnasium>=1.0.0, but you have gymnasium 0.29.0 which is incompatible.\r\n",
      "thinc 8.2.5 requires numpy<2.0.0,>=1.19.0; python_version >= \"3.9\", but you have numpy 2.2.5 which is incompatible.\r\n",
      "pandas-gbq 0.26.1 requires google-api-core<3.0.0dev,>=2.10.2, but you have google-api-core 1.34.1 which is incompatible.\r\n",
      "bigframes 1.36.0 requires rich<14,>=12.4.4, but you have rich 14.0.0 which is incompatible.\r\n",
      "pytensor 2.27.1 requires numpy<2,>=1.17.0, but you have numpy 2.2.5 which is incompatible.\r\n",
      "ibis-framework 9.2.0 requires rich<14,>=12.4.4, but you have rich 14.0.0 which is incompatible.\r\n",
      "ibis-framework 9.2.0 requires toolz<1,>=0.11, but you have toolz 1.0.0 which is incompatible.\r\n",
      "langchain 0.3.18 requires numpy<2,>=1.26.4; python_version < \"3.12\", but you have numpy 2.2.5 which is incompatible.\r\n",
      "tensorflow 2.18.0 requires numpy<2.1.0,>=1.26.0, but you have numpy 2.2.5 which is incompatible.\r\n",
      "pylibcugraph-cu12 24.12.0 requires pylibraft-cu12==24.12.*, but you have pylibraft-cu12 25.2.0 which is incompatible.\r\n",
      "pylibcugraph-cu12 24.12.0 requires rmm-cu12==24.12.*, but you have rmm-cu12 25.2.0 which is incompatible.\u001b[0m\u001b[31m\r\n",
      "\u001b[0mSuccessfully installed matplotlib-3.10.1 numpy-2.2.5 optuna-4.3.0 scikit-learn-1.6.1 seaborn-0.13.2 xgboost-3.0.0\r\n"
     ]
    }
   ],
   "source": [
    "!pip install --upgrade scikit-learn numpy pandas joblib optuna xgboost lightgbm matplotlib seaborn tqdm"
   ]
  },
  {
   "cell_type": "code",
   "execution_count": 3,
   "id": "d8ce0a58",
   "metadata": {
    "execution": {
     "iopub.execute_input": "2025-04-20T13:49:44.915016Z",
     "iopub.status.busy": "2025-04-20T13:49:44.914805Z",
     "iopub.status.idle": "2025-04-20T13:51:25.417897Z",
     "shell.execute_reply": "2025-04-20T13:51:25.417165Z"
    },
    "papermill": {
     "duration": 100.562486,
     "end_time": "2025-04-20T13:51:25.469010",
     "exception": false,
     "start_time": "2025-04-20T13:49:44.906524",
     "status": "completed"
    },
    "tags": []
   },
   "outputs": [
    {
     "name": "stderr",
     "output_type": "stream",
     "text": [
      "Preprocessing tweets: 800it [00:00, 2738.31it/s]"
     ]
    },
    {
     "name": "stdout",
     "output_type": "stream",
     "text": [
      "Skipping row due to insufficient columns: ['👉https://t.co/dwh8jR9uho']\n",
      "Skipping row due to insufficient columns: ['$ALPH 3.16%']\n",
      "Skipping row due to insufficient columns: ['$BDP 3.05%']\n",
      "Skipping row due to insufficient columns: ['$BLOCK 0.77%']\n",
      "Skipping row due to insufficient columns: ['$ALI 0.41%']\n",
      "Skipping row due to insufficient columns: ['$CFX 0.4%']\n",
      "Skipping row due to insufficient columns: [' #ALPH #BDP #BLOCK #ALI #CFX #crypto #cryptonews #cryptoAlerts #blockchain  #cryptotrading #cryptoprices #altcoins #bitcoin', \"['cryptocurrency', 'price', 'GateIo', 'ALPH', 'BDP', 'BLOCK', 'ALI', 'CFX', 'crypto', 'cryptonews', 'cryptoAlerts', 'blockchain', 'cryptotrading', 'cryptoprices', 'altcoins', 'bitcoin']\", 'Crypto Frog', 'False']\n"
     ]
    },
    {
     "name": "stderr",
     "output_type": "stream",
     "text": [
      "Preprocessing tweets: 1684it [00:00, 2837.07it/s]"
     ]
    },
    {
     "name": "stdout",
     "output_type": "stream",
     "text": [
      "Skipping row due to insufficient columns: ['👉https://t.co/XsdBPI7qf6']\n",
      "Skipping row due to insufficient columns: ['$ORB 3.74%']\n",
      "Skipping row due to insufficient columns: ['$KAR 0.95%']\n",
      "Skipping row due to insufficient columns: ['$CHAT 0.65%']\n",
      "Skipping row due to insufficient columns: ['$LAT 0.48%']\n",
      "Skipping row due to insufficient columns: ['$CMT 0.4%']\n",
      "Skipping row due to insufficient columns: [' #ORB #KAR #CHAT #LAT #CMT #crypto #cryptonews #cryptoAlerts #blockchain  #cryptotrading #cryptoprices #altcoins #bitcoin', \"['cryptocurrency', 'price', 'OKX', 'ORB', 'KAR', 'CHAT', 'LAT', 'CMT', 'crypto', 'cryptonews', 'cryptoAlerts', 'blockchain', 'cryptotrading', 'cryptoprices', 'altcoins', 'bitcoin']\", 'Crypto Frog', 'False']\n",
      "Skipping row due to insufficient columns: ['👉https://t.co/dwh8jR9uho']\n",
      "Skipping row due to insufficient columns: ['$ALPH 4.49%']\n",
      "Skipping row due to insufficient columns: ['$LQTY 0.94%']\n",
      "Skipping row due to insufficient columns: ['$VELO 0.72%']\n",
      "Skipping row due to insufficient columns: ['$CQT 0.63%']\n",
      "Skipping row due to insufficient columns: ['$AFC 0.42%']\n",
      "Skipping row due to insufficient columns: [' #ALPH #LQTY #VELO #CQT #AFC #crypto #cryptonews #cryptoAlerts #blockchain  #cryptotrading #cryptoprices #altcoins #bitcoin', \"['cryptocurrency', 'price', 'GateIo', 'ALPH', 'LQTY', 'VELO', 'CQT', 'AFC', 'crypto', 'cryptonews', 'cryptoAlerts', 'blockchain', 'cryptotrading', 'cryptoprices', 'altcoins', 'bitcoin']\", 'Crypto Frog', 'False']\n"
     ]
    },
    {
     "name": "stderr",
     "output_type": "stream",
     "text": [
      "Preprocessing tweets: 3730it [00:01, 2914.04it/s]"
     ]
    },
    {
     "name": "stdout",
     "output_type": "stream",
     "text": [
      "Skipping row due to insufficient columns: ['👉https://t.co/dwh8jR9uho']\n",
      "Skipping row due to insufficient columns: ['$T23 7.3%']\n",
      "Skipping row due to insufficient columns: ['$FET 0.44%']\n",
      "Skipping row due to insufficient columns: ['$PBR 0.41%']\n",
      "Skipping row due to insufficient columns: ['$WRX 0.38%']\n",
      "Skipping row due to insufficient columns: ['$PCX 0.37%']\n",
      "Skipping row due to insufficient columns: [' #T23 #FET #PBR #WRX #PCX #crypto #cryptonews #cryptoAlerts #blockchain  #cryptotrading #cryptoprices #altcoins #bitcoin', \"['cryptocurrency', 'price', 'GateIo', 'T23', 'FET', 'PBR', 'WRX', 'PCX', 'crypto', 'cryptonews', 'cryptoAlerts', 'blockchain', 'cryptotrading', 'cryptoprices', 'altcoins', 'bitcoin']\", 'Crypto Frog', 'False']\n",
      "Skipping row due to insufficient columns: ['👉https://t.co/dwh8jR9uho']\n",
      "Skipping row due to insufficient columns: ['$SGB 6.21%']\n",
      "Skipping row due to insufficient columns: ['$AGIX 0.57%']\n",
      "Skipping row due to insufficient columns: ['$T23 0.48%']\n",
      "Skipping row due to insufficient columns: ['$ACA 0.4%']\n",
      "Skipping row due to insufficient columns: ['$TRB 0.38%']\n",
      "Skipping row due to insufficient columns: [' #SGB #AGIX #T23 #ACA #TRB #crypto #cryptonews #cryptoAlerts #blockchain  #cryptotrading #cryptoprices #altcoins #bitcoin', \"['cryptocurrency', 'price', 'GateIo', 'SGB', 'AGIX', 'T23', 'ACA', 'TRB', 'crypto', 'cryptonews', 'cryptoAlerts', 'blockchain', 'cryptotrading', 'cryptoprices', 'altcoins', 'bitcoin']\", 'Crypto Frog', 'False']\n"
     ]
    },
    {
     "name": "stderr",
     "output_type": "stream",
     "text": [
      "Preprocessing tweets: 4334it [00:01, 2902.62it/s]"
     ]
    },
    {
     "name": "stdout",
     "output_type": "stream",
     "text": [
      "Skipping row due to insufficient columns: ['👉https://t.co/dwh8jR9uho']\n",
      "Skipping row due to insufficient columns: ['$PRIME 3.79%']\n",
      "Skipping row due to insufficient columns: ['$BS 1.62%']\n",
      "Skipping row due to insufficient columns: ['$VELO 1.5%']\n",
      "Skipping row due to insufficient columns: ['$ADS 1.07%']\n",
      "Skipping row due to insufficient columns: ['$PLCU 0.77%']\n",
      "Skipping row due to insufficient columns: [' #PRIME #BS #VELO #ADS #PLCU #crypto #cryptonews #cryptoAlerts #blockchain  #cryptotrading #cryptoprices #altcoins #bitcoin', \"['cryptocurrency', 'price', 'GateIo', 'PRIME', 'BS', 'VELO', 'ADS', 'PLCU', 'crypto', 'cryptonews', 'cryptoAlerts', 'blockchain', 'cryptotrading', 'cryptoprices', 'altcoins', 'bitcoin']\", 'Crypto Frog', 'False']\n",
      "Skipping row due to insufficient columns: ['👉https://t.co/Rms8bPm9sh']\n",
      "Skipping row due to insufficient columns: ['$PERL 6.21%']\n",
      "Skipping row due to insufficient columns: ['$FOR 0.83%']\n",
      "Skipping row due to insufficient columns: ['$SSV 0.38%']\n",
      "Skipping row due to insufficient columns: ['$ATM 0.31%']\n",
      "Skipping row due to insufficient columns: [' #PERL #FOR #SSV #ATM #crypto #cryptonews #cryptoAlerts #blockchain  #cryptotrading #cryptoprices #altcoins #bitcoin', \"['cryptocurrency', 'price', 'Binance', 'PERL', 'FOR', 'SSV', 'ATM', 'crypto', 'cryptonews', 'cryptoAlerts', 'blockchain', 'cryptotrading', 'cryptoprices', 'altcoins', 'bitcoin']\", 'Crypto Frog', 'False']\n",
      "Skipping row due to insufficient columns: ['👉https://t.co/Rms8bPm9sh']\n",
      "Skipping row due to insufficient columns: ['$PERL 3.2%']\n",
      "Skipping row due to insufficient columns: ['$CVP 0.47%']\n",
      "Skipping row due to insufficient columns: ['$FXS 0.37%']\n",
      "Skipping row due to insufficient columns: [' #PERL #CVP #FXS #crypto #cryptonews #cryptoAlerts #blockchain  #cryptotrading #cryptoprices #altcoins #bitcoin', \"['cryptocurrency', 'price', 'Binance', 'PERL', 'CVP', 'FXS', 'crypto', 'cryptonews', 'cryptoAlerts', 'blockchain', 'cryptotrading', 'cryptoprices', 'altcoins', 'bitcoin']\", 'Crypto Frog', 'False']\n"
     ]
    },
    {
     "name": "stderr",
     "output_type": "stream",
     "text": [
      "Preprocessing tweets: 4934it [00:01, 2954.14it/s]"
     ]
    },
    {
     "name": "stdout",
     "output_type": "stream",
     "text": [
      "Skipping row due to insufficient columns: ['Coin: $PRIME']\n",
      "Skipping row due to insufficient columns: ['Pairs:']\n",
      "Skipping row due to insufficient columns: ['#PRIME/#USDT']\n",
      "Skipping row due to insufficient columns: ['#newcoinlisting #crypto #cryptonews #cryptoAlerts #altcoins #bitcoin #blockchain #cryptocurrency #cryptotrading', \"['Bybit', 'PRIME', 'USDT', 'newcoinlisting', 'crypto', 'cryptonews', 'cryptoAlerts', 'altcoins', 'bitcoin', 'blockchain', 'cryptocurrency', 'cryptotrading']\", 'CoinListingBot', 'False']\n",
      "Skipping row due to insufficient columns: ['👉https://t.co/dwh8jR9uho']\n",
      "Skipping row due to insufficient columns: ['$ATD 3.97%']\n",
      "Skipping row due to insufficient columns: ['$EPK 2.04%']\n",
      "Skipping row due to insufficient columns: ['$YFI 0.74%']\n",
      "Skipping row due to insufficient columns: ['$FIL 0.62%']\n",
      "Skipping row due to insufficient columns: ['$OLY 0.44%']\n",
      "Skipping row due to insufficient columns: [' #ATD #EPK #YFI #FIL #OLY #crypto #cryptonews #cryptoAlerts #blockchain  #cryptotrading #cryptoprices #altcoins #bitcoin', \"['cryptocurrency', 'price', 'GateIo', 'ATD', 'EPK', 'YFI', 'FIL', 'OLY', 'crypto', 'cryptonews', 'cryptoAlerts', 'blockchain', 'cryptotrading', 'cryptoprices', 'altcoins', 'bitcoin']\", 'Crypto Frog', 'False']\n",
      "Skipping row due to insufficient columns: ['👉https://t.co/dwh8jR9uho']\n",
      "Skipping row due to insufficient columns: ['$REALM 4.05%']\n",
      "Skipping row due to insufficient columns: ['$CFX 0.38%']\n",
      "Skipping row due to insufficient columns: ['$HFT 0.37%']\n",
      "Skipping row due to insufficient columns: ['$HMT 0.35%']\n",
      "Skipping row due to insufficient columns: ['$DIO 0.33%']\n",
      "Skipping row due to insufficient columns: [' #REALM #CFX #HFT #HMT #DIO #crypto #cryptonews #cryptoAlerts #blockchain  #cryptotrading #cryptoprices #altcoins #bitcoin', \"['cryptocurrency', 'price', 'GateIo', 'REALM', 'CFX', 'HFT', 'HMT', 'DIO', 'crypto', 'cryptonews', 'cryptoAlerts', 'blockchain', 'cryptotrading', 'cryptoprices', 'altcoins', 'bitcoin']\", 'Crypto Frog', 'False']\n"
     ]
    },
    {
     "name": "stderr",
     "output_type": "stream",
     "text": [
      "Preprocessing tweets: 6135it [00:02, 2980.34it/s]"
     ]
    },
    {
     "name": "stdout",
     "output_type": "stream",
     "text": [
      "Skipping row due to insufficient columns: ['👉https://t.co/dwh8jR9uho']\n",
      "Skipping row due to insufficient columns: ['$POP 5.29%']\n",
      "Skipping row due to insufficient columns: ['$SOLO 0.97%']\n",
      "Skipping row due to insufficient columns: ['$BDP 0.81%']\n",
      "Skipping row due to insufficient columns: ['$AGIX 0.8%']\n",
      "Skipping row due to insufficient columns: ['$MOOV 0.73%']\n",
      "Skipping row due to insufficient columns: [' #POP #SOLO #BDP #AGIX #MOOV #crypto #cryptonews #cryptoAlerts #blockchain  #cryptotrading #cryptoprices #altcoins #bitcoin', \"['cryptocurrency', 'price', 'GateIo', 'POP', 'SOLO', 'BDP', 'AGIX', 'MOOV', 'crypto', 'cryptonews', 'cryptoAlerts', 'blockchain', 'cryptotrading', 'cryptoprices', 'altcoins', 'bitcoin']\", 'Crypto Frog', 'False']\n",
      "Skipping row due to insufficient columns: ['Coin: $BLACK']\n",
      "Skipping row due to insufficient columns: ['Pairs:']\n",
      "Skipping row due to insufficient columns: ['#BLACK/#USDT']\n",
      "Skipping row due to insufficient columns: ['#newcoinlisting #crypto #cryptonews #cryptoAlerts #altcoins #bitcoin #blockchain #cryptocurrency #cryptotrading', \"['Azbit', 'BLACK', 'USDT', 'newcoinlisting', 'crypto', 'cryptonews', 'cryptoAlerts', 'altcoins', 'bitcoin', 'blockchain', 'cryptocurrency', 'cryptotrading']\", 'CoinListingBot', 'False']\n",
      "Skipping row due to insufficient columns: ['Coin: $CDS']\n",
      "Skipping row due to insufficient columns: ['Pairs:']\n",
      "Skipping row due to insufficient columns: ['#CDS/#USDT']\n",
      "Skipping row due to insufficient columns: ['#newcoinlisting #crypto #cryptonews #cryptoAlerts #altcoins #bitcoin #blockchain #cryptocurrency #cryptotrading', \"['Azbit', 'CDS', 'USDT', 'newcoinlisting', 'crypto', 'cryptonews', 'cryptoAlerts', 'altcoins', 'bitcoin', 'blockchain', 'cryptocurrency', 'cryptotrading']\", 'CoinListingBot', 'False']\n",
      "Skipping row due to insufficient columns: ['👉https://t.co/dwh8jR9uho']\n",
      "Skipping row due to insufficient columns: ['$XNFT 5.53%']\n",
      "Skipping row due to insufficient columns: ['$ADX 1.44%']\n",
      "Skipping row due to insufficient columns: ['$ASTR 0.87%']\n",
      "Skipping row due to insufficient columns: ['$THG 0.66%']\n",
      "Skipping row due to insufficient columns: ['$FIO 0.4%']\n",
      "Skipping row due to insufficient columns: [' #XNFT #ADX #ASTR #THG #FIO #crypto #cryptonews #cryptoAlerts #blockchain  #cryptotrading #cryptoprices #altcoins #bitcoin', \"['cryptocurrency', 'price', 'GateIo', 'XNFT', 'ADX', 'ASTR', 'THG', 'FIO', 'crypto', 'cryptonews', 'cryptoAlerts', 'blockchain', 'cryptotrading', 'cryptoprices', 'altcoins', 'bitcoin']\", 'Crypto Frog', 'False']\n"
     ]
    },
    {
     "name": "stderr",
     "output_type": "stream",
     "text": [
      "Preprocessing tweets: 7046it [00:02, 2977.02it/s]"
     ]
    },
    {
     "name": "stdout",
     "output_type": "stream",
     "text": [
      "Skipping row due to insufficient columns: ['Coin: $PRIME']\n",
      "Skipping row due to insufficient columns: ['Pairs:']\n",
      "Skipping row due to insufficient columns: ['#PRIME/#USDT']\n",
      "Skipping row due to insufficient columns: ['#newcoinlisting #crypto #cryptonews #cryptoAlerts #altcoins #bitcoin #blockchain #cryptocurrency #cryptotrading', \"['GateIo', 'PRIME', 'USDT', 'newcoinlisting', 'crypto', 'cryptonews', 'cryptoAlerts', 'altcoins', 'bitcoin', 'blockchain', 'cryptocurrency', 'cryptotrading']\", 'CoinListingBot', 'False']\n",
      "Skipping row due to insufficient columns: ['👉https://t.co/dwh8jR9uho']\n",
      "Skipping row due to insufficient columns: ['$D2T 3.13%']\n",
      "Skipping row due to insufficient columns: ['$KLAY 0.44%']\n",
      "Skipping row due to insufficient columns: ['$LOA 0.38%']\n",
      "Skipping row due to insufficient columns: ['$PAW 0.38%']\n",
      "Skipping row due to insufficient columns: ['$NCT 0.37%']\n",
      "Skipping row due to insufficient columns: [' #D2T #KLAY #LOA #PAW #NCT #crypto #cryptonews #cryptoAlerts #blockchain  #cryptotrading #cryptoprices #altcoins #bitcoin', \"['cryptocurrency', 'price', 'GateIo', 'D2T', 'KLAY', 'LOA', 'PAW', 'NCT', 'crypto', 'cryptonews', 'cryptoAlerts', 'blockchain', 'cryptotrading', 'cryptoprices', 'altcoins', 'bitcoin']\", 'Crypto Frog', 'False']\n",
      "Skipping row due to insufficient columns: ['Coin: $PRIME']\n",
      "Skipping row due to insufficient columns: ['Pairs:']\n",
      "Skipping row due to insufficient columns: ['#PRIME/#USDT']\n",
      "Skipping row due to insufficient columns: ['#newcoinlisting #crypto #cryptonews #cryptoAlerts #altcoins #bitcoin #blockchain #cryptocurrency #cryptotrading', \"['Bilaxy', 'PRIME', 'USDT', 'newcoinlisting', 'crypto', 'cryptonews', 'cryptoAlerts', 'altcoins', 'bitcoin', 'blockchain', 'cryptocurrency', 'cryptotrading']\", 'CoinListingBot', 'False']\n",
      "Skipping row due to insufficient columns: ['Coin: $MEMAG']\n",
      "Skipping row due to insufficient columns: ['Pairs:']\n",
      "Skipping row due to insufficient columns: ['#MEMAG/#USDT']\n",
      "Skipping row due to insufficient columns: ['#newcoinlisting #crypto #cryptonews #cryptoAlerts #altcoins #bitcoin #blockchain #cryptocurrency #cryptotrading', \"['Bilaxy', 'MEMAG', 'USDT', 'newcoinlisting', 'crypto', 'cryptonews', 'cryptoAlerts', 'altcoins', 'bitcoin', 'blockchain', 'cryptocurrency', 'cryptotrading']\", 'CoinListingBot', 'False']\n"
     ]
    },
    {
     "name": "stderr",
     "output_type": "stream",
     "text": [
      "Preprocessing tweets: 7633it [00:02, 2876.45it/s]"
     ]
    },
    {
     "name": "stdout",
     "output_type": "stream",
     "text": [
      "Skipping row due to insufficient columns: ['👉https://t.co/dwh8jR9uho']\n",
      "Skipping row due to insufficient columns: ['$PERL 3.19%']\n",
      "Skipping row due to insufficient columns: ['$DFL 0.88%']\n",
      "Skipping row due to insufficient columns: ['$XOR 0.62%']\n",
      "Skipping row due to insufficient columns: ['$CSPR 0.41%']\n",
      "Skipping row due to insufficient columns: ['$ISKY 0.35%']\n",
      "Skipping row due to insufficient columns: [' #PERL #DFL #XOR #CSPR #ISKY #crypto #cryptonews #cryptoAlerts #blockchain  #cryptotrading #cryptoprices #altcoins #bitcoin', \"['cryptocurrency', 'price', 'GateIo', 'PERL', 'DFL', 'XOR', 'CSPR', 'ISKY', 'crypto', 'cryptonews', 'cryptoAlerts', 'blockchain', 'cryptotrading', 'cryptoprices', 'altcoins', 'bitcoin']\", 'Crypto Frog', 'False']\n",
      "Skipping row due to insufficient columns: ['Coin: $PRIME']\n",
      "Skipping row due to insufficient columns: ['Pairs:']\n",
      "Skipping row due to insufficient columns: ['#PRIME/#USD']\n",
      "Skipping row due to insufficient columns: ['#newcoinlisting #crypto #cryptonews #cryptoAlerts #altcoins #bitcoin #blockchain #cryptocurrency #cryptotrading', \"['CoinbasePro', 'PRIME', 'USD', 'newcoinlisting', 'crypto', 'cryptonews', 'cryptoAlerts', 'altcoins', 'bitcoin', 'blockchain', 'cryptocurrency', 'cryptotrading']\", 'CoinListingBot', 'False']\n",
      "Skipping row due to insufficient columns: ['Coin: $WEBAI']\n",
      "Skipping row due to insufficient columns: ['Pairs:']\n",
      "Skipping row due to insufficient columns: ['#WEBAI/#USDT']\n",
      "Skipping row due to insufficient columns: ['#newcoinlisting #crypto #cryptonews #cryptoAlerts #altcoins #bitcoin #blockchain #cryptocurrency #cryptotrading', \"['BitMart', 'WEBAI', 'USDT', 'newcoinlisting', 'crypto', 'cryptonews', 'cryptoAlerts', 'altcoins', 'bitcoin', 'blockchain', 'cryptocurrency', 'cryptotrading']\", 'CoinListingBot', 'False']\n",
      "Skipping row due to insufficient columns: ['👉https://t.co/YFfSerrmK2']\n",
      "Skipping row due to insufficient columns: ['$LXT 4.76%']\n",
      "Skipping row due to insufficient columns: ['$FTT 0.6%']\n",
      "Skipping row due to insufficient columns: ['$BLUR 0.51%']\n",
      "Skipping row due to insufficient columns: [' #LXT #FTT #BLUR #crypto #cryptonews #cryptoAlerts #blockchain  #cryptotrading #cryptoprices #altcoins #bitcoin', \"['cryptocurrency', 'price', 'Huobi', 'LXT', 'FTT', 'BLUR', 'crypto', 'cryptonews', 'cryptoAlerts', 'blockchain', 'cryptotrading', 'cryptoprices', 'altcoins', 'bitcoin']\", 'Crypto Frog', 'False']\n"
     ]
    },
    {
     "name": "stderr",
     "output_type": "stream",
     "text": [
      "Preprocessing tweets: 8574it [00:02, 3073.74it/s]"
     ]
    },
    {
     "name": "stdout",
     "output_type": "stream",
     "text": [
      "Skipping row due to insufficient columns: ['👉https://t.co/dwh8jR9uho']\n",
      "Skipping row due to insufficient columns: ['$ALN 3.56%']\n",
      "Skipping row due to insufficient columns: ['$KING 0.55%']\n",
      "Skipping row due to insufficient columns: ['$FIS 0.54%']\n",
      "Skipping row due to insufficient columns: ['$ISP 0.53%']\n",
      "Skipping row due to insufficient columns: ['$RADAR 0.49%']\n",
      "Skipping row due to insufficient columns: [' #ALN #KING #FIS #ISP #RADAR #crypto #cryptonews #cryptoAlerts #blockchain  #cryptotrading #cryptoprices #altcoins #bitcoin', \"['cryptocurrency', 'price', 'GateIo', 'ALN', 'KING', 'FIS', 'ISP', 'RADAR', 'crypto', 'cryptonews', 'cryptoAlerts', 'blockchain', 'cryptotrading', 'cryptoprices', 'altcoins', 'bitcoin']\", 'Crypto Frog', 'False']\n",
      "Skipping row due to insufficient columns: ['👉https://t.co/dwh8jR9uho']\n",
      "Skipping row due to insufficient columns: ['$SPO 3.16%']\n",
      "Skipping row due to insufficient columns: ['$DFYN 1.61%']\n",
      "Skipping row due to insufficient columns: ['$ALPH 1.45%']\n",
      "Skipping row due to insufficient columns: ['$REN 0.53%']\n",
      "Skipping row due to insufficient columns: ['$TRU 0.52%']\n",
      "Skipping row due to insufficient columns: [' #SPO #DFYN #ALPH #REN #TRU #crypto #cryptonews #cryptoAlerts #blockchain  #cryptotrading #cryptoprices #altcoins #bitcoin', \"['cryptocurrency', 'price', 'GateIo', 'SPO', 'DFYN', 'ALPH', 'REN', 'TRU', 'crypto', 'cryptonews', 'cryptoAlerts', 'blockchain', 'cryptotrading', 'cryptoprices', 'altcoins', 'bitcoin']\", 'Crypto Frog', 'False']\n",
      "Skipping row due to insufficient columns: ['👉https://t.co/AdJlZWUXsw']\n",
      "Skipping row due to insufficient columns: ['$DGH 9.81%']\n",
      "Skipping row due to insufficient columns: ['$GHST 1.39%']\n",
      "Skipping row due to insufficient columns: ['$OG 0.91%']\n",
      "Skipping row due to insufficient columns: ['$LQTY 0.89%']\n",
      "Skipping row due to insufficient columns: [' #DGH #GHST #OG #LQTY #crypto #cryptonews #cryptoAlerts #blockchain  #cryptotrading #cryptoprices #altcoins #bitcoin', \"['cryptocurrency', 'price', 'MEXC', 'DGH', 'GHST', 'OG', 'LQTY', 'crypto', 'cryptonews', 'cryptoAlerts', 'blockchain', 'cryptotrading', 'cryptoprices', 'altcoins', 'bitcoin']\", 'Crypto Frog', 'False']\n",
      "Skipping row due to insufficient columns: ['Coin: $MARU']\n",
      "Skipping row due to insufficient columns: ['Pairs:']\n",
      "Skipping row due to insufficient columns: ['#MARU/#USDT']\n",
      "Skipping row due to insufficient columns: ['#newcoinlisting #crypto #cryptonews #cryptoAlerts #altcoins #bitcoin #blockchain #cryptocurrency #cryptotrading', \"['DexTrade', 'MARU', 'USDT', 'newcoinlisting', 'crypto', 'cryptonews', 'cryptoAlerts', 'altcoins', 'bitcoin', 'blockchain', 'cryptocurrency', 'cryptotrading']\", 'CoinListingBot', 'False']\n",
      "Skipping row due to insufficient columns: ['Coin: $MASK']\n",
      "Skipping row due to insufficient columns: ['Pairs:']\n",
      "Skipping row due to insufficient columns: ['#MASK/#USDT']\n",
      "Skipping row due to insufficient columns: ['#MASK/#BNB']\n",
      "Skipping row due to insufficient columns: ['#newcoinlisting #crypto #cryptonews #cryptoAlerts #altcoins #bitcoin #blockchain #cryptocurrency #cryptotrading', \"['DexTrade', 'MASK', 'USDT', 'MASK', 'BNB', 'newcoinlisting', 'crypto', 'cryptonews', 'cryptoAlerts', 'altcoins', 'bitcoin', 'blockchain', 'cryptocurrency', 'cryptotrading']\", 'CoinListingBot', 'False']\n",
      "Skipping row due to insufficient columns: ['👉https://t.co/dwh8jR9uho']\n",
      "Skipping row due to insufficient columns: ['$TOKE 7.22%']\n",
      "Skipping row due to insufficient columns: ['$RDN 0.97%']\n",
      "Skipping row due to insufficient columns: ['$TPT 0.73%']\n",
      "Skipping row due to insufficient columns: ['$PAW 0.67%']\n",
      "Skipping row due to insufficient columns: ['$EDEN 0.61%']\n",
      "Skipping row due to insufficient columns: [' #TOKE #RDN #TPT #PAW #EDEN #crypto #cryptonews #cryptoAlerts #blockchain  #cryptotrading #cryptoprices #altcoins #bitcoin', \"['cryptocurrency', 'price', 'GateIo', 'TOKE', 'RDN', 'TPT', 'PAW', 'EDEN', 'crypto', 'cryptonews', 'cryptoAlerts', 'blockchain', 'cryptotrading', 'cryptoprices', 'altcoins', 'bitcoin']\", 'Crypto Frog', 'False']\n",
      "Skipping row due to insufficient columns: ['👉https://t.co/dwh8jR9uho']\n",
      "Skipping row due to insufficient columns: ['$WEMIX 3.24%']\n",
      "Skipping row due to insufficient columns: ['$BS 1.3%']\n",
      "Skipping row due to insufficient columns: ['$PAW 0.84%']\n",
      "Skipping row due to insufficient columns: ['$SMART 0.79%']\n",
      "Skipping row due to insufficient columns: ['$ACH 0.76%']\n",
      "Skipping row due to insufficient columns: [' #WEMIX #BS #PAW #SMART #ACH #crypto #cryptonews #cryptoAlerts #blockchain  #cryptotrading #cryptoprices #altcoins #bitcoin', \"['cryptocurrency', 'price', 'GateIo', 'WEMIX', 'BS', 'PAW', 'SMART', 'ACH', 'crypto', 'cryptonews', 'cryptoAlerts', 'blockchain', 'cryptotrading', 'cryptoprices', 'altcoins', 'bitcoin']\", 'Crypto Frog', 'False']\n",
      "Skipping row due to insufficient columns: ['👉https://t.co/dl7U8qNh0J']\n",
      "Skipping row due to insufficient columns: ['$PKF 3.95%']\n",
      "Skipping row due to insufficient columns: ['$LQTY 2.12%']\n",
      "Skipping row due to insufficient columns: ['$NBP 1.51%']\n",
      "Skipping row due to insufficient columns: ['$WAXP 0.43%']\n",
      "Skipping row due to insufficient columns: ['$DV 0.34%']\n",
      "Skipping row due to insufficient columns: [' #PKF #LQTY #NBP #WAXP #DV #crypto #cryptonews #cryptoAlerts #blockchain  #cryptotrading #cryptoprices #altcoins #bitcoin', \"['cryptocurrency', 'price', 'GateIo', 'PKF', 'LQTY', 'NBP', 'WAXP', 'DV', 'crypto', 'cryptonews', 'cryptoAlerts', 'blockchain', 'cryptotrading', 'cryptoprices', 'altcoins', 'bitcoin']\", 'Twitter for iPhone', 'False']\n",
      "Skipping row due to insufficient columns: ['👉https://t.co/dwh8jR9uho']\n",
      "Skipping row due to insufficient columns: ['$PKF 3.95%']\n",
      "Skipping row due to insufficient columns: ['$LQTY 2.12%']\n",
      "Skipping row due to insufficient columns: ['$NBP 1.51%']\n",
      "Skipping row due to insufficient columns: ['$WAXP 0.43%']\n",
      "Skipping row due to insufficient columns: ['$DV 0.34%']\n",
      "Skipping row due to insufficient columns: [' #PKF #LQTY #NBP #WAXP #DV #crypto #cryptonews #cryptoAlerts #blockchain  #cryptotrading #cryptoprices #altcoins #bitcoin', \"['cryptocurrency', 'price', 'GateIo', 'PKF', 'LQTY', 'NBP', 'WAXP', 'DV', 'crypto', 'cryptonews', 'cryptoAlerts', 'blockchain', 'cryptotrading', 'cryptoprices', 'altcoins', 'bitcoin']\", 'Crypto Frog', 'False']\n",
      "Skipping row due to insufficient columns: ['Coin: $FLOKI']\n",
      "Skipping row due to insufficient columns: ['Pairs:']\n",
      "Skipping row due to insufficient columns: ['#FLOKI/#DOGE']\n",
      "Skipping row due to insufficient columns: ['#newcoinlisting #crypto #cryptonews #cryptoAlerts #altcoins #bitcoin #blockchain #cryptocurrency #cryptotrading', \"['BitMart', 'FLOKI', 'DOGE', 'newcoinlisting', 'crypto', 'cryptonews', 'cryptoAlerts', 'altcoins', 'bitcoin', 'blockchain', 'cryptocurrency', 'cryptotrading']\", 'CoinListingBot', 'False']\n",
      "Skipping row due to insufficient columns: ['👉https://t.co/YFfSerrmK2']\n",
      "Skipping row due to insufficient columns: ['$EUL 9.36%']\n",
      "Skipping row due to insufficient columns: ['$FX 0.72%']\n",
      "Skipping row due to insufficient columns: ['$EVMOS 0.46%']\n",
      "Skipping row due to insufficient columns: [' #EUL #FX #EVMOS #crypto #cryptonews #cryptoAlerts #blockchain  #cryptotrading #cryptoprices #altcoins #bitcoin', \"['cryptocurrency', 'price', 'Huobi', 'EUL', 'FX', 'EVMOS', 'crypto', 'cryptonews', 'cryptoAlerts', 'blockchain', 'cryptotrading', 'cryptoprices', 'altcoins', 'bitcoin']\", 'Crypto Frog', 'False']\n"
     ]
    },
    {
     "name": "stderr",
     "output_type": "stream",
     "text": [
      "Preprocessing tweets: 9494it [00:03, 3040.70it/s]"
     ]
    },
    {
     "name": "stdout",
     "output_type": "stream",
     "text": [
      "Skipping row due to insufficient columns: ['👉https://t.co/dwh8jR9uho']\n",
      "Skipping row due to insufficient columns: ['$NXD 5.41%']\n",
      "Skipping row due to insufficient columns: ['$GAFI 0.97%']\n",
      "Skipping row due to insufficient columns: ['$ORB 0.89%']\n",
      "Skipping row due to insufficient columns: ['$CTRC 0.85%']\n",
      "Skipping row due to insufficient columns: ['$ALN 0.63%']\n",
      "Skipping row due to insufficient columns: [' #NXD #GAFI #ORB #CTRC #ALN #crypto #cryptonews #cryptoAlerts #blockchain  #cryptotrading #cryptoprices #altcoins #bitcoin', \"['cryptocurrency', 'price', 'GateIo', 'NXD', 'GAFI', 'ORB', 'CTRC', 'ALN', 'crypto', 'cryptonews', 'cryptoAlerts', 'blockchain', 'cryptotrading', 'cryptoprices', 'altcoins', 'bitcoin']\", 'Crypto Frog', 'False']\n"
     ]
    },
    {
     "name": "stderr",
     "output_type": "stream",
     "text": [
      "Preprocessing tweets: 10100it [00:03, 2997.34it/s]"
     ]
    },
    {
     "name": "stdout",
     "output_type": "stream",
     "text": [
      "Skipping row due to insufficient columns: ['👉https://t.co/XsdBPI7qf6']\n",
      "Skipping row due to insufficient columns: ['$DNA 3.47%']\n",
      "Skipping row due to insufficient columns: ['$BICO 1.23%']\n",
      "Skipping row due to insufficient columns: ['$ZRX 0.42%']\n",
      "Skipping row due to insufficient columns: ['$MDT 0.42%']\n",
      "Skipping row due to insufficient columns: ['$ALCX 0.42%']\n",
      "Skipping row due to insufficient columns: [' #DNA #BICO #ZRX #MDT #ALCX #crypto #cryptonews #cryptoAlerts #blockchain  #cryptotrading #cryptoprices #altcoins #bitcoin', \"['cryptocurrency', 'price', 'OKX', 'DNA', 'BICO', 'ZRX', 'MDT', 'ALCX', 'crypto', 'cryptonews', 'cryptoAlerts', 'blockchain', 'cryptotrading', 'cryptoprices', 'altcoins', 'bitcoin']\", 'Crypto Frog', 'False']\n",
      "Skipping row due to insufficient columns: ['👉https://t.co/dwh8jR9uho']\n",
      "Skipping row due to insufficient columns: ['$PAW 4.91%']\n",
      "Skipping row due to insufficient columns: ['$LQTY 0.55%']\n",
      "Skipping row due to insufficient columns: ['$QRDO 0.54%']\n",
      "Skipping row due to insufficient columns: ['$APT 0.51%']\n",
      "Skipping row due to insufficient columns: ['$FTT 0.51%']\n",
      "Skipping row due to insufficient columns: [' #PAW #LQTY #QRDO #APT #FTT #crypto #cryptonews #cryptoAlerts #blockchain  #cryptotrading #cryptoprices #altcoins #bitcoin', \"['cryptocurrency', 'price', 'GateIo', 'PAW', 'LQTY', 'QRDO', 'APT', 'FTT', 'crypto', 'cryptonews', 'cryptoAlerts', 'blockchain', 'cryptotrading', 'cryptoprices', 'altcoins', 'bitcoin']\", 'Crypto Frog', 'False']\n",
      "Skipping row due to insufficient columns: ['Coin: $VENICE']\n",
      "Skipping row due to insufficient columns: ['Pairs:']\n",
      "Skipping row due to insufficient columns: ['#VENICE/#USDT']\n",
      "Skipping row due to insufficient columns: ['#newcoinlisting #crypto #cryptonews #cryptoAlerts #altcoins #bitcoin #blockchain #cryptocurrency #cryptotrading', \"['BitMart', 'VENICE', 'USDT', 'newcoinlisting', 'crypto', 'cryptonews', 'cryptoAlerts', 'altcoins', 'bitcoin', 'blockchain', 'cryptocurrency', 'cryptotrading']\", 'CoinListingBot', 'False']\n",
      "Skipping row due to insufficient columns: ['👉https://t.co/XsdBPI7qf6']\n",
      "Skipping row due to insufficient columns: ['$CFG 4.39%']\n",
      "Skipping row due to insufficient columns: ['$OAS 0.74%']\n",
      "Skipping row due to insufficient columns: ['$CHZ 0.56%']\n",
      "Skipping row due to insufficient columns: ['$MOVR 0.4%']\n",
      "Skipping row due to insufficient columns: ['$STX 0.36%']\n",
      "Skipping row due to insufficient columns: [' #CFG #OAS #CHZ #MOVR #STX #crypto #cryptonews #cryptoAlerts #blockchain  #cryptotrading #cryptoprices #altcoins #bitcoin', \"['cryptocurrency', 'price', 'OKX', 'CFG', 'OAS', 'CHZ', 'MOVR', 'STX', 'crypto', 'cryptonews', 'cryptoAlerts', 'blockchain', 'cryptotrading', 'cryptoprices', 'altcoins', 'bitcoin']\", 'Crypto Frog', 'False']\n"
     ]
    },
    {
     "name": "stderr",
     "output_type": "stream",
     "text": [
      "Preprocessing tweets: 10696it [00:03, 2933.07it/s]"
     ]
    },
    {
     "name": "stdout",
     "output_type": "stream",
     "text": [
      "Skipping row due to insufficient columns: ['Coin: $AZERO']\n",
      "Skipping row due to insufficient columns: ['Pairs:']\n",
      "Skipping row due to insufficient columns: ['#AZERO/#USDT']\n",
      "Skipping row due to insufficient columns: ['#newcoinlisting #crypto #cryptonews #cryptoAlerts #altcoins #bitcoin #blockchain #cryptocurrency #cryptotrading', \"['Bitget', 'AZERO', 'USDT', 'newcoinlisting', 'crypto', 'cryptonews', 'cryptoAlerts', 'altcoins', 'bitcoin', 'blockchain', 'cryptocurrency', 'cryptotrading']\", 'CoinListingBot', 'False']\n",
      "Skipping row due to insufficient columns: ['Coin: $OATH']\n",
      "Skipping row due to insufficient columns: ['Pairs:']\n",
      "Skipping row due to insufficient columns: ['#OATH/#USDT']\n",
      "Skipping row due to insufficient columns: ['#newcoinlisting #crypto #cryptonews #cryptoAlerts #altcoins #bitcoin #blockchain #cryptocurrency #cryptotrading', \"['MEXC', 'OATH', 'USDT', 'newcoinlisting', 'crypto', 'cryptonews', 'cryptoAlerts', 'altcoins', 'bitcoin', 'blockchain', 'cryptocurrency', 'cryptotrading']\", 'CoinListingBot', 'False']\n",
      "Skipping row due to insufficient columns: ['Coin: $AX']\n",
      "Skipping row due to insufficient columns: ['Pairs:']\n",
      "Skipping row due to insufficient columns: ['#AX/#USDT']\n",
      "Skipping row due to insufficient columns: ['#newcoinlisting #crypto #cryptonews #cryptoAlerts #altcoins #bitcoin #blockchain #cryptocurrency #cryptotrading', \"['MEXC', 'AX', 'USDT', 'newcoinlisting', 'crypto', 'cryptonews', 'cryptoAlerts', 'altcoins', 'bitcoin', 'blockchain', 'cryptocurrency', 'cryptotrading']\", 'CoinListingBot', 'False']\n"
     ]
    },
    {
     "name": "stderr",
     "output_type": "stream",
     "text": [
      "Preprocessing tweets: 11578it [00:03, 2900.64it/s]"
     ]
    },
    {
     "name": "stdout",
     "output_type": "stream",
     "text": [
      "Skipping row due to insufficient columns: ['👉https://t.co/dwh8jR9uho']\n",
      "Skipping row due to insufficient columns: ['$WNZ 6.12%']\n",
      "Skipping row due to insufficient columns: ['$K21 1.58%']\n",
      "Skipping row due to insufficient columns: ['$ICX 0.77%']\n",
      "Skipping row due to insufficient columns: ['$LBK 0.66%']\n",
      "Skipping row due to insufficient columns: ['$WAXP 0.63%']\n",
      "Skipping row due to insufficient columns: [' #WNZ #K21 #ICX #LBK #WAXP #crypto #cryptonews #cryptoAlerts #blockchain  #cryptotrading #cryptoprices #altcoins #bitcoin', \"['cryptocurrency', 'price', 'GateIo', 'WNZ', 'K21', 'ICX', 'LBK', 'WAXP', 'crypto', 'cryptonews', 'cryptoAlerts', 'blockchain', 'cryptotrading', 'cryptoprices', 'altcoins', 'bitcoin']\", 'Crypto Frog', 'False']\n",
      "Skipping row due to insufficient columns: ['👉https://t.co/dwh8jR9uho']\n",
      "Skipping row due to insufficient columns: ['$CATE 3.74%']\n",
      "Skipping row due to insufficient columns: ['$EFI 0.82%']\n",
      "Skipping row due to insufficient columns: ['$EWT 0.75%']\n",
      "Skipping row due to insufficient columns: ['$PLACE 0.73%']\n",
      "Skipping row due to insufficient columns: ['$ZEE 0.71%']\n",
      "Skipping row due to insufficient columns: [' #CATE #EFI #EWT #PLACE #ZEE #crypto #cryptonews #cryptoAlerts #blockchain  #cryptotrading #cryptoprices #altcoins #bitcoin', \"['cryptocurrency', 'price', 'GateIo', 'CATE', 'EFI', 'EWT', 'PLACE', 'ZEE', 'crypto', 'cryptonews', 'cryptoAlerts', 'blockchain', 'cryptotrading', 'cryptoprices', 'altcoins', 'bitcoin']\", 'Crypto Frog', 'False']\n"
     ]
    },
    {
     "name": "stderr",
     "output_type": "stream",
     "text": [
      "Preprocessing tweets: 12468it [00:04, 2952.46it/s]"
     ]
    },
    {
     "name": "stdout",
     "output_type": "stream",
     "text": [
      "Skipping row due to insufficient columns: ['Coin: $PIVN']\n",
      "Skipping row due to insufficient columns: ['Pairs:']\n",
      "Skipping row due to insufficient columns: ['#PIVN/#USDT']\n",
      "Skipping row due to insufficient columns: ['#newcoinlisting #crypto #cryptonews #cryptoAlerts #altcoins #bitcoin #blockchain #cryptocurrency #cryptotrading', \"['MEXC', 'PIVN', 'USDT', 'newcoinlisting', 'crypto', 'cryptonews', 'cryptoAlerts', 'altcoins', 'bitcoin', 'blockchain', 'cryptocurrency', 'cryptotrading']\", 'CoinListingBot', 'False']\n",
      "Skipping row due to insufficient columns: ['Coin: $GRV']\n",
      "Skipping row due to insufficient columns: ['Pairs:']\n",
      "Skipping row due to insufficient columns: ['#GRV/#USDT']\n",
      "Skipping row due to insufficient columns: ['#newcoinlisting #crypto #cryptonews #cryptoAlerts #altcoins #bitcoin #blockchain #cryptocurrency #cryptotrading', \"['Coinsbit', 'GRV', 'USDT', 'newcoinlisting', 'crypto', 'cryptonews', 'cryptoAlerts', 'altcoins', 'bitcoin', 'blockchain', 'cryptocurrency', 'cryptotrading']\", 'CoinListingBot', 'False']\n",
      "Skipping row due to insufficient columns: ['👉https://t.co/dwh8jR9uho']\n",
      "Skipping row due to insufficient columns: ['$MMM 3.67%']\n",
      "Skipping row due to insufficient columns: ['$HNS 1.92%']\n",
      "Skipping row due to insufficient columns: ['$DAFI 1.3%']\n",
      "Skipping row due to insufficient columns: ['$VXT 1.03%']\n",
      "Skipping row due to insufficient columns: ['$STX 0.78%']\n",
      "Skipping row due to insufficient columns: [' #MMM #HNS #DAFI #VXT #STX #crypto #cryptonews #cryptoAlerts #blockchain  #cryptotrading #cryptoprices #altcoins #bitcoin', \"['cryptocurrency', 'price', 'GateIo', 'MMM', 'HNS', 'DAFI', 'VXT', 'STX', 'crypto', 'cryptonews', 'cryptoAlerts', 'blockchain', 'cryptotrading', 'cryptoprices', 'altcoins', 'bitcoin']\", 'Crypto Frog', 'False']\n"
     ]
    },
    {
     "name": "stderr",
     "output_type": "stream",
     "text": [
      "Preprocessing tweets: 13060it [00:04, 2923.67it/s]"
     ]
    },
    {
     "name": "stdout",
     "output_type": "stream",
     "text": [
      "Skipping row due to insufficient columns: ['Coin: $CGOLD']\n",
      "Skipping row due to insufficient columns: ['Pairs:']\n",
      "Skipping row due to insufficient columns: ['#CGOLD/#USDT']\n",
      "Skipping row due to insufficient columns: ['#newcoinlisting #crypto #cryptonews #cryptoAlerts #altcoins #bitcoin #blockchain #cryptocurrency #cryptotrading', \"['P2PB2B', 'CGOLD', 'USDT', 'newcoinlisting', 'crypto', 'cryptonews', 'cryptoAlerts', 'altcoins', 'bitcoin', 'blockchain', 'cryptocurrency', 'cryptotrading']\", 'CoinListingBot', 'False']\n",
      "Skipping row due to insufficient columns: ['👉https://t.co/dwh8jR9uho']\n",
      "Skipping row due to insufficient columns: ['$SHOE 5.04%']\n",
      "Skipping row due to insufficient columns: ['$LPT 0.87%']\n",
      "Skipping row due to insufficient columns: ['$REN 0.69%']\n",
      "Skipping row due to insufficient columns: ['$WAXL 0.4%']\n",
      "Skipping row due to insufficient columns: ['$PHA 0.34%']\n",
      "Skipping row due to insufficient columns: [' #SHOE #LPT #REN #WAXL #PHA #crypto #cryptonews #cryptoAlerts #blockchain  #cryptotrading #cryptoprices #altcoins #bitcoin', \"['cryptocurrency', 'price', 'GateIo', 'SHOE', 'LPT', 'REN', 'WAXL', 'PHA', 'crypto', 'cryptonews', 'cryptoAlerts', 'blockchain', 'cryptotrading', 'cryptoprices', 'altcoins', 'bitcoin']\", 'Crypto Frog', 'False']\n"
     ]
    },
    {
     "name": "stderr",
     "output_type": "stream",
     "text": [
      "Preprocessing tweets: 14235it [00:04, 2877.45it/s]"
     ]
    },
    {
     "name": "stdout",
     "output_type": "stream",
     "text": [
      "Skipping row due to insufficient columns: ['Coin: $PEPES']\n",
      "Skipping row due to insufficient columns: ['Pairs:']\n",
      "Skipping row due to insufficient columns: ['#PEPES/#USDT']\n",
      "Skipping row due to insufficient columns: ['#newcoinlisting #crypto #cryptonews #cryptoAlerts #altcoins #bitcoin #blockchain #cryptocurrency #cryptotrading', \"['CoinW', 'PEPES', 'USDT', 'newcoinlisting', 'crypto', 'cryptonews', 'cryptoAlerts', 'altcoins', 'bitcoin', 'blockchain', 'cryptocurrency', 'cryptotrading']\", 'CoinListingBot', 'False']\n",
      "Skipping row due to insufficient columns: ['Coin: $PRIME']\n",
      "Skipping row due to insufficient columns: ['Pairs:']\n",
      "Skipping row due to insufficient columns: ['#PRIME/#USDT']\n",
      "Skipping row due to insufficient columns: ['#newcoinlisting #crypto #cryptonews #cryptoAlerts #altcoins #bitcoin #blockchain #cryptocurrency #cryptotrading', \"['CoinW', 'PRIME', 'USDT', 'newcoinlisting', 'crypto', 'cryptonews', 'cryptoAlerts', 'altcoins', 'bitcoin', 'blockchain', 'cryptocurrency', 'cryptotrading']\", 'CoinListingBot', 'False']\n",
      "Skipping row due to insufficient columns: ['👉https://t.co/XsdBPI7qf6']\n",
      "Skipping row due to insufficient columns: ['$LDN 5.07%']\n",
      "Skipping row due to insufficient columns: ['$ANC 1.08%']\n",
      "Skipping row due to insufficient columns: ['$RIO 0.77%']\n",
      "Skipping row due to insufficient columns: ['$CNTM 0.55%']\n",
      "Skipping row due to insufficient columns: ['$RPL 0.5%']\n",
      "Skipping row due to insufficient columns: [' #LDN #ANC #RIO #CNTM #RPL #crypto #cryptonews #cryptoAlerts #blockchain  #cryptotrading #cryptoprices #altcoins #bitcoin', \"['cryptocurrency', 'price', 'OKX', 'LDN', 'ANC', 'RIO', 'CNTM', 'RPL', 'crypto', 'cryptonews', 'cryptoAlerts', 'blockchain', 'cryptotrading', 'cryptoprices', 'altcoins', 'bitcoin']\", 'Crypto Frog', 'False']\n"
     ]
    },
    {
     "name": "stderr",
     "output_type": "stream",
     "text": [
      "Preprocessing tweets: 15147it [00:05, 2995.81it/s]"
     ]
    },
    {
     "name": "stdout",
     "output_type": "stream",
     "text": [
      "Skipping row due to insufficient columns: ['Coin: $MEMAG']\n",
      "Skipping row due to insufficient columns: ['Pairs:']\n",
      "Skipping row due to insufficient columns: ['#MEMAG/#USDT']\n",
      "Skipping row due to insufficient columns: ['#newcoinlisting #crypto #cryptonews #cryptoAlerts #altcoins #bitcoin #blockchain #cryptocurrency #cryptotrading', \"['XT', 'MEMAG', 'USDT', 'newcoinlisting', 'crypto', 'cryptonews', 'cryptoAlerts', 'altcoins', 'bitcoin', 'blockchain', 'cryptocurrency', 'cryptotrading']\", 'CoinListingBot', 'False']\n",
      "Skipping row due to insufficient columns: ['Coin: $LYO']\n",
      "Skipping row due to insufficient columns: ['Pairs:']\n",
      "Skipping row due to insufficient columns: ['#LYO/#USDT']\n",
      "Skipping row due to insufficient columns: ['#newcoinlisting #crypto #cryptonews #cryptoAlerts #altcoins #bitcoin #blockchain #cryptocurrency #cryptotrading', \"['BKEX', 'LYO', 'USDT', 'newcoinlisting', 'crypto', 'cryptonews', 'cryptoAlerts', 'altcoins', 'bitcoin', 'blockchain', 'cryptocurrency', 'cryptotrading']\", 'CoinListingBot', 'False']\n",
      "Skipping row due to insufficient columns: ['Coin: $LOOM']\n",
      "Skipping row due to insufficient columns: ['Pairs:']\n",
      "Skipping row due to insufficient columns: ['#LOOM/#USDT']\n",
      "Skipping row due to insufficient columns: ['#newcoinlisting #crypto #cryptonews #cryptoAlerts #altcoins #bitcoin #blockchain #cryptocurrency #cryptotrading', \"['Tapbit', 'LOOM', 'USDT', 'newcoinlisting', 'crypto', 'cryptonews', 'cryptoAlerts', 'altcoins', 'bitcoin', 'blockchain', 'cryptocurrency', 'cryptotrading']\", 'CoinListingBot', 'False']\n",
      "Skipping row due to insufficient columns: ['Coin: $AGLD']\n",
      "Skipping row due to insufficient columns: ['Pairs:']\n",
      "Skipping row due to insufficient columns: ['#AGLD/#USDT']\n",
      "Skipping row due to insufficient columns: ['#AGLD/#BTC']\n",
      "Skipping row due to insufficient columns: ['#newcoinlisting #crypto #cryptonews #cryptoAlerts #altcoins #bitcoin #blockchain #cryptocurrency #cryptotrading', \"['FMFWio', 'AGLD', 'USDT', 'AGLD', 'BTC', 'newcoinlisting', 'crypto', 'cryptonews', 'cryptoAlerts', 'altcoins', 'bitcoin', 'blockchain', 'cryptocurrency', 'cryptotrading']\", 'CoinListingBot', 'False']\n",
      "Skipping row due to insufficient columns: ['Coin: $KAS3S']\n",
      "Skipping row due to insufficient columns: ['Pairs:']\n",
      "Skipping row due to insufficient columns: ['#KAS3S/#USDT']\n",
      "Skipping row due to insufficient columns: ['#newcoinlisting #crypto #cryptonews #cryptoAlerts #altcoins #bitcoin #blockchain #cryptocurrency #cryptotrading', \"['MEXC', 'KAS3S', 'USDT', 'newcoinlisting', 'crypto', 'cryptonews', 'cryptoAlerts', 'altcoins', 'bitcoin', 'blockchain', 'cryptocurrency', 'cryptotrading']\", 'CoinListingBot', 'False']\n",
      "Skipping row due to insufficient columns: ['Coin: $KAS3L']\n",
      "Skipping row due to insufficient columns: ['Pairs:']\n",
      "Skipping row due to insufficient columns: ['#KAS3L/#USDT']\n",
      "Skipping row due to insufficient columns: ['#newcoinlisting #crypto #cryptonews #cryptoAlerts #altcoins #bitcoin #blockchain #cryptocurrency #cryptotrading', \"['MEXC', 'KAS3L', 'USDT', 'newcoinlisting', 'crypto', 'cryptonews', 'cryptoAlerts', 'altcoins', 'bitcoin', 'blockchain', 'cryptocurrency', 'cryptotrading']\", 'CoinListingBot', 'False']\n",
      "Skipping row due to insufficient columns: ['Coin: $SPOOL']\n",
      "Skipping row due to insufficient columns: ['Pairs:']\n",
      "Skipping row due to insufficient columns: ['#SPOOL/#USDT']\n",
      "Skipping row due to insufficient columns: ['#newcoinlisting #crypto #cryptonews #cryptoAlerts #altcoins #bitcoin #blockchain #cryptocurrency #cryptotrading', \"['Hotbit', 'SPOOL', 'USDT', 'newcoinlisting', 'crypto', 'cryptonews', 'cryptoAlerts', 'altcoins', 'bitcoin', 'blockchain', 'cryptocurrency', 'cryptotrading']\", 'CoinListingBot', 'False']\n",
      "Skipping row due to insufficient columns: ['Coin: $GTC']\n",
      "Skipping row due to insufficient columns: ['Pairs:']\n",
      "Skipping row due to insufficient columns: ['#GTC/#USDT']\n",
      "Skipping row due to insufficient columns: ['#newcoinlisting #crypto #cryptonews #cryptoAlerts #altcoins #bitcoin #blockchain #cryptocurrency #cryptotrading', \"['Tapbit', 'GTC', 'USDT', 'newcoinlisting', 'crypto', 'cryptonews', 'cryptoAlerts', 'altcoins', 'bitcoin', 'blockchain', 'cryptocurrency', 'cryptotrading']\", 'CoinListingBot', 'False']\n",
      "Skipping row due to insufficient columns: ['Coin: $SSV']\n",
      "Skipping row due to insufficient columns: ['Pairs:']\n",
      "Skipping row due to insufficient columns: ['#SSV/#USDT']\n",
      "Skipping row due to insufficient columns: ['#SSV/#USDC']\n",
      "Skipping row due to insufficient columns: ['#newcoinlisting #crypto #cryptonews #cryptoAlerts #altcoins #bitcoin #blockchain #cryptocurrency #cryptotrading', \"['OKX', 'SSV', 'USDT', 'SSV', 'USDC', 'newcoinlisting', 'crypto', 'cryptonews', 'cryptoAlerts', 'altcoins', 'bitcoin', 'blockchain', 'cryptocurrency', 'cryptotrading']\", 'CoinListingBot', 'False']\n",
      "Skipping row due to insufficient columns: ['Coin: $RPL']\n",
      "Skipping row due to insufficient columns: ['Pairs:']\n",
      "Skipping row due to insufficient columns: ['#RPL/#USDT']\n",
      "Skipping row due to insufficient columns: ['#RPL/#USDC']\n",
      "Skipping row due to insufficient columns: ['#newcoinlisting #crypto #cryptonews #cryptoAlerts #altcoins #bitcoin #blockchain #cryptocurrency #cryptotrading', \"['OKX', 'RPL', 'USDT', 'RPL', 'USDC', 'newcoinlisting', 'crypto', 'cryptonews', 'cryptoAlerts', 'altcoins', 'bitcoin', 'blockchain', 'cryptocurrency', 'cryptotrading']\", 'CoinListingBot', 'False']\n",
      "Skipping row due to insufficient columns: ['Coin: $USHA']\n",
      "Skipping row due to insufficient columns: ['Pairs:']\n",
      "Skipping row due to insufficient columns: ['#USHA/#USDT']\n",
      "Skipping row due to insufficient columns: ['#newcoinlisting #crypto #cryptonews #cryptoAlerts #altcoins #bitcoin #blockchain #cryptocurrency #cryptotrading', \"['BitMart', 'USHA', 'USDT', 'newcoinlisting', 'crypto', 'cryptonews', 'cryptoAlerts', 'altcoins', 'bitcoin', 'blockchain', 'cryptocurrency', 'cryptotrading']\", 'CoinListingBot', 'False']\n"
     ]
    },
    {
     "name": "stderr",
     "output_type": "stream",
     "text": [
      "Preprocessing tweets: 16105it [00:05, 3104.87it/s]"
     ]
    },
    {
     "name": "stdout",
     "output_type": "stream",
     "text": [
      "Skipping row due to insufficient columns: ['Coin: $SHIBCAT']\n",
      "Skipping row due to insufficient columns: ['Pairs:']\n",
      "Skipping row due to insufficient columns: ['#SHIBCAT/#USDT']\n",
      "Skipping row due to insufficient columns: ['#newcoinlisting #crypto #cryptonews #cryptoAlerts #altcoins #bitcoin #blockchain #cryptocurrency #cryptotrading', \"['BKEX', 'SHIBCAT', 'USDT', 'newcoinlisting', 'crypto', 'cryptonews', 'cryptoAlerts', 'altcoins', 'bitcoin', 'blockchain', 'cryptocurrency', 'cryptotrading']\", 'CoinListingBot', 'False']\n",
      "Skipping row due to insufficient columns: ['Coin: $GOAL']\n",
      "Skipping row due to insufficient columns: ['Pairs:']\n",
      "Skipping row due to insufficient columns: ['#GOAL/#USDT']\n",
      "Skipping row due to insufficient columns: ['#newcoinlisting #crypto #cryptonews #cryptoAlerts #altcoins #bitcoin #blockchain #cryptocurrency #cryptotrading', \"['ZT', 'GOAL', 'USDT', 'newcoinlisting', 'crypto', 'cryptonews', 'cryptoAlerts', 'altcoins', 'bitcoin', 'blockchain', 'cryptocurrency', 'cryptotrading']\", 'CoinListingBot', 'False']\n",
      "Skipping row due to insufficient columns: ['👉https://t.co/dwh8jR9uho']\n",
      "Skipping row due to insufficient columns: ['$BABY 4.26%']\n",
      "Skipping row due to insufficient columns: ['$POKT 0.97%']\n",
      "Skipping row due to insufficient columns: ['$VRA 0.55%']\n",
      "Skipping row due to insufficient columns: ['$ISP 0.47%']\n",
      "Skipping row due to insufficient columns: ['$PBX 0.45%']\n",
      "Skipping row due to insufficient columns: [' #BABY #POKT #VRA #ISP #PBX #crypto #cryptonews #cryptoAlerts #blockchain  #cryptotrading #cryptoprices #altcoins #bitcoin', \"['cryptocurrency', 'price', 'GateIo', 'BABY', 'POKT', 'VRA', 'ISP', 'PBX', 'crypto', 'cryptonews', 'cryptoAlerts', 'blockchain', 'cryptotrading', 'cryptoprices', 'altcoins', 'bitcoin']\", 'Crypto Frog', 'False']\n",
      "Skipping row due to insufficient columns: ['👉https://t.co/dwh8jR9uho']\n",
      "Skipping row due to insufficient columns: ['$GZONE 4.2%']\n",
      "Skipping row due to insufficient columns: ['$SDAO 1.04%']\n",
      "Skipping row due to insufficient columns: ['$MAGIC 1%']\n",
      "Skipping row due to insufficient columns: ['$ANC 0.87%']\n",
      "Skipping row due to insufficient columns: ['$SRM 0.86%']\n",
      "Skipping row due to insufficient columns: [' #GZONE #SDAO #MAGIC #ANC #SRM #crypto #cryptonews #cryptoAlerts #blockchain  #cryptotrading #cryptoprices #altcoins #bitcoin', \"['cryptocurrency', 'price', 'GateIo', 'GZONE', 'SDAO', 'MAGIC', 'ANC', 'SRM', 'crypto', 'cryptonews', 'cryptoAlerts', 'blockchain', 'cryptotrading', 'cryptoprices', 'altcoins', 'bitcoin']\", 'Crypto Frog', 'False']\n",
      "Skipping row due to insufficient columns: ['👉https://t.co/XsdBPI7qf6']\n",
      "Skipping row due to insufficient columns: ['$LDN 3.5%']\n",
      "Skipping row due to insufficient columns: ['$APIX 1.09%']\n",
      "Skipping row due to insufficient columns: ['$DYDX 0.78%']\n",
      "Skipping row due to insufficient columns: ['$MILO 0.75%']\n",
      "Skipping row due to insufficient columns: ['$MDT 0.5%']\n",
      "Skipping row due to insufficient columns: [' #LDN #APIX #DYDX #MILO #MDT #crypto #cryptonews #cryptoAlerts #blockchain  #cryptotrading #cryptoprices #altcoins #bitcoin', \"['cryptocurrency', 'price', 'OKX', 'LDN', 'APIX', 'DYDX', 'MILO', 'MDT', 'crypto', 'cryptonews', 'cryptoAlerts', 'blockchain', 'cryptotrading', 'cryptoprices', 'altcoins', 'bitcoin']\", 'Crypto Frog', 'False']\n",
      "Skipping row due to insufficient columns: ['Coin: $DYDX']\n",
      "Skipping row due to insufficient columns: ['Pairs:']\n",
      "Skipping row due to insufficient columns: ['#DYDX/#USDT']\n",
      "Skipping row due to insufficient columns: ['#newcoinlisting #crypto #cryptonews #cryptoAlerts #altcoins #bitcoin #blockchain #cryptocurrency #cryptotrading', \"['BTCEX', 'DYDX', 'USDT', 'newcoinlisting', 'crypto', 'cryptonews', 'cryptoAlerts', 'altcoins', 'bitcoin', 'blockchain', 'cryptocurrency', 'cryptotrading']\", 'CoinListingBot', 'False']\n",
      "Skipping row due to insufficient columns: ['Coin: $COMP']\n",
      "Skipping row due to insufficient columns: ['Pairs:']\n",
      "Skipping row due to insufficient columns: ['#COMP/#USDT']\n",
      "Skipping row due to insufficient columns: ['#newcoinlisting #crypto #cryptonews #cryptoAlerts #altcoins #bitcoin #blockchain #cryptocurrency #cryptotrading', \"['BTCEX', 'COMP', 'USDT', 'newcoinlisting', 'crypto', 'cryptonews', 'cryptoAlerts', 'altcoins', 'bitcoin', 'blockchain', 'cryptocurrency', 'cryptotrading']\", 'CoinListingBot', 'False']\n",
      "Skipping row due to insufficient columns: ['Coin: $BAT']\n",
      "Skipping row due to insufficient columns: ['Pairs:']\n",
      "Skipping row due to insufficient columns: ['#BAT/#USDT']\n",
      "Skipping row due to insufficient columns: ['#newcoinlisting #crypto #cryptonews #cryptoAlerts #altcoins #bitcoin #blockchain #cryptocurrency #cryptotrading', \"['BTCEX', 'BAT', 'USDT', 'newcoinlisting', 'crypto', 'cryptonews', 'cryptoAlerts', 'altcoins', 'bitcoin', 'blockchain', 'cryptocurrency', 'cryptotrading']\", 'CoinListingBot', 'False']\n",
      "Skipping row due to insufficient columns: ['👉https://t.co/dwh8jR9uho']\n",
      "Skipping row due to insufficient columns: ['$PAW 4.21%']\n",
      "Skipping row due to insufficient columns: ['$ALPH 2.27%']\n",
      "Skipping row due to insufficient columns: ['$VELO 1.06%']\n",
      "Skipping row due to insufficient columns: ['$OPS 0.98%']\n",
      "Skipping row due to insufficient columns: ['$LQTY 0.88%']\n",
      "Skipping row due to insufficient columns: [' #PAW #ALPH #VELO #OPS #LQTY #crypto #cryptonews #cryptoAlerts #blockchain  #cryptotrading #cryptoprices #altcoins #bitcoin', \"['cryptocurrency', 'price', 'GateIo', 'PAW', 'ALPH', 'VELO', 'OPS', 'LQTY', 'crypto', 'cryptonews', 'cryptoAlerts', 'blockchain', 'cryptotrading', 'cryptoprices', 'altcoins', 'bitcoin']\", 'Crypto Frog', 'False']\n",
      "Skipping row due to insufficient columns: ['Coin: $3P']\n",
      "Skipping row due to insufficient columns: ['Pairs:']\n",
      "Skipping row due to insufficient columns: ['#3P/#USDT']\n",
      "Skipping row due to insufficient columns: ['#newcoinlisting #crypto #cryptonews #cryptoAlerts #altcoins #bitcoin #blockchain #cryptocurrency #cryptotrading', \"['BitMart', '3P', 'USDT', 'newcoinlisting', 'crypto', 'cryptonews', 'cryptoAlerts', 'altcoins', 'bitcoin', 'blockchain', 'cryptocurrency', 'cryptotrading']\", 'CoinListingBot', 'False']\n"
     ]
    },
    {
     "name": "stderr",
     "output_type": "stream",
     "text": [
      "Preprocessing tweets: 16739it [00:05, 3071.05it/s]"
     ]
    },
    {
     "name": "stdout",
     "output_type": "stream",
     "text": [
      "Skipping row due to insufficient columns: ['Coin: $PEPES']\n",
      "Skipping row due to insufficient columns: ['Pairs:']\n",
      "Skipping row due to insufficient columns: ['#PEPES/#USDT']\n",
      "Skipping row due to insufficient columns: ['#newcoinlisting #crypto #cryptonews #cryptoAlerts #altcoins #bitcoin #blockchain #cryptocurrency #cryptotrading', \"['MEXC', 'PEPES', 'USDT', 'newcoinlisting', 'crypto', 'cryptonews', 'cryptoAlerts', 'altcoins', 'bitcoin', 'blockchain', 'cryptocurrency', 'cryptotrading']\", 'CoinListingBot', 'False']\n",
      "Skipping row due to insufficient columns: ['Coin: $LQTY']\n",
      "Skipping row due to insufficient columns: ['Pairs:']\n",
      "Skipping row due to insufficient columns: ['#LQTY/#USDT']\n",
      "Skipping row due to insufficient columns: ['#newcoinlisting #crypto #cryptonews #cryptoAlerts #altcoins #bitcoin #blockchain #cryptocurrency #cryptotrading', \"['LBank', 'LQTY', 'USDT', 'newcoinlisting', 'crypto', 'cryptonews', 'cryptoAlerts', 'altcoins', 'bitcoin', 'blockchain', 'cryptocurrency', 'cryptotrading']\", 'CoinListingBot', 'False']\n",
      "Skipping row due to insufficient columns: ['Coin: $PHL']\n",
      "Skipping row due to insufficient columns: ['Pairs:']\n",
      "Skipping row due to insufficient columns: ['#PHL/#USDT']\n",
      "Skipping row due to insufficient columns: ['#newcoinlisting #crypto #cryptonews #cryptoAlerts #altcoins #bitcoin #blockchain #cryptocurrency #cryptotrading', \"['XT', 'PHL', 'USDT', 'newcoinlisting', 'crypto', 'cryptonews', 'cryptoAlerts', 'altcoins', 'bitcoin', 'blockchain', 'cryptocurrency', 'cryptotrading']\", 'CoinListingBot', 'False']\n",
      "Skipping row due to insufficient columns: ['Coin: $RDNT']\n",
      "Skipping row due to insufficient columns: ['Pairs:']\n",
      "Skipping row due to insufficient columns: ['#RDNT/#USDT']\n",
      "Skipping row due to insufficient columns: ['#newcoinlisting #crypto #cryptonews #cryptoAlerts #altcoins #bitcoin #blockchain #cryptocurrency #cryptotrading', \"['BingX', 'RDNT', 'USDT', 'newcoinlisting', 'crypto', 'cryptonews', 'cryptoAlerts', 'altcoins', 'bitcoin', 'blockchain', 'cryptocurrency', 'cryptotrading']\", 'CoinListingBot', 'False']\n",
      "Skipping row due to insufficient columns: ['Coin: $VELODROME']\n",
      "Skipping row due to insufficient columns: ['Pairs:']\n",
      "Skipping row due to insufficient columns: ['#VELODROME/#USDT']\n",
      "Skipping row due to insufficient columns: ['#newcoinlisting #crypto #cryptonews #cryptoAlerts #altcoins #bitcoin #blockchain #cryptocurrency #cryptotrading', \"['BingX', 'VELODROME', 'USDT', 'newcoinlisting', 'crypto', 'cryptonews', 'cryptoAlerts', 'altcoins', 'bitcoin', 'blockchain', 'cryptocurrency', 'cryptotrading']\", 'CoinListingBot', 'False']\n",
      "Skipping row due to insufficient columns: ['Coin: $BETA']\n",
      "Skipping row due to insufficient columns: ['Pairs:']\n",
      "Skipping row due to insufficient columns: ['#BETA/#USDT']\n",
      "Skipping row due to insufficient columns: ['#newcoinlisting #crypto #cryptonews #cryptoAlerts #altcoins #bitcoin #blockchain #cryptocurrency #cryptotrading', \"['BingX', 'BETA', 'USDT', 'newcoinlisting', 'crypto', 'cryptonews', 'cryptoAlerts', 'altcoins', 'bitcoin', 'blockchain', 'cryptocurrency', 'cryptotrading']\", 'CoinListingBot', 'False']\n",
      "Skipping row due to insufficient columns: ['Coin: $DATA']\n",
      "Skipping row due to insufficient columns: ['Pairs:']\n",
      "Skipping row due to insufficient columns: ['#DATA/#USDT']\n",
      "Skipping row due to insufficient columns: ['#newcoinlisting #crypto #cryptonews #cryptoAlerts #altcoins #bitcoin #blockchain #cryptocurrency #cryptotrading', \"['BingX', 'DATA', 'USDT', 'newcoinlisting', 'crypto', 'cryptonews', 'cryptoAlerts', 'altcoins', 'bitcoin', 'blockchain', 'cryptocurrency', 'cryptotrading']\", 'CoinListingBot', 'False']\n",
      "Skipping row due to insufficient columns: ['Coin: $COS']\n",
      "Skipping row due to insufficient columns: ['Pairs:']\n",
      "Skipping row due to insufficient columns: ['#COS/#USDT']\n",
      "Skipping row due to insufficient columns: ['#newcoinlisting #crypto #cryptonews #cryptoAlerts #altcoins #bitcoin #blockchain #cryptocurrency #cryptotrading', \"['BingX', 'COS', 'USDT', 'newcoinlisting', 'crypto', 'cryptonews', 'cryptoAlerts', 'altcoins', 'bitcoin', 'blockchain', 'cryptocurrency', 'cryptotrading']\", 'CoinListingBot', 'False']\n",
      "Skipping row due to insufficient columns: ['Coin: $DEGO']\n",
      "Skipping row due to insufficient columns: ['Pairs:']\n",
      "Skipping row due to insufficient columns: ['#DEGO/#USDT']\n",
      "Skipping row due to insufficient columns: ['#newcoinlisting #crypto #cryptonews #cryptoAlerts #altcoins #bitcoin #blockchain #cryptocurrency #cryptotrading', \"['BingX', 'DEGO', 'USDT', 'newcoinlisting', 'crypto', 'cryptonews', 'cryptoAlerts', 'altcoins', 'bitcoin', 'blockchain', 'cryptocurrency', 'cryptotrading']\", 'CoinListingBot', 'False']\n",
      "Skipping row due to insufficient columns: ['Coin: $VIDT']\n",
      "Skipping row due to insufficient columns: ['Pairs:']\n",
      "Skipping row due to insufficient columns: ['#VIDT/#USDT']\n",
      "Skipping row due to insufficient columns: ['#newcoinlisting #crypto #cryptonews #cryptoAlerts #altcoins #bitcoin #blockchain #cryptocurrency #cryptotrading', \"['BingX', 'VIDT', 'USDT', 'newcoinlisting', 'crypto', 'cryptonews', 'cryptoAlerts', 'altcoins', 'bitcoin', 'blockchain', 'cryptocurrency', 'cryptotrading']\", 'CoinListingBot', 'False']\n",
      "Skipping row due to insufficient columns: ['Coin: $PRIME']\n",
      "Skipping row due to insufficient columns: ['Pairs:']\n",
      "Skipping row due to insufficient columns: ['#PRIME/#USDT']\n",
      "Skipping row due to insufficient columns: ['#newcoinlisting #crypto #cryptonews #cryptoAlerts #altcoins #bitcoin #blockchain #cryptocurrency #cryptotrading', \"['MEXC', 'PRIME', 'USDT', 'newcoinlisting', 'crypto', 'cryptonews', 'cryptoAlerts', 'altcoins', 'bitcoin', 'blockchain', 'cryptocurrency', 'cryptotrading']\", 'CoinListingBot', 'False']\n"
     ]
    },
    {
     "name": "stderr",
     "output_type": "stream",
     "text": [
      "Preprocessing tweets: 17663it [00:06, 2970.91it/s]"
     ]
    },
    {
     "name": "stdout",
     "output_type": "stream",
     "text": [
      "Skipping row due to insufficient columns: ['Coin: $LIAIPAD']\n",
      "Skipping row due to insufficient columns: ['Pairs:']\n",
      "Skipping row due to insufficient columns: ['#LIAIPAD/#USDT']\n",
      "Skipping row due to insufficient columns: ['#newcoinlisting #crypto #cryptonews #cryptoAlerts #altcoins #bitcoin #blockchain #cryptocurrency #cryptotrading', \"['BitMart', 'LIAIPAD', 'USDT', 'newcoinlisting', 'crypto', 'cryptonews', 'cryptoAlerts', 'altcoins', 'bitcoin', 'blockchain', 'cryptocurrency', 'cryptotrading']\", 'CoinListingBot', 'False']\n",
      "Skipping row due to insufficient columns: ['👉https://t.co/dwh8jR9uho']\n",
      "Skipping row due to insufficient columns: ['$IGU 3.05%']\n",
      "Skipping row due to insufficient columns: ['$DBC 2.31%']\n",
      "Skipping row due to insufficient columns: ['$CFX 0.67%']\n",
      "Skipping row due to insufficient columns: ['$LUFFY 0.48%']\n",
      "Skipping row due to insufficient columns: ['$KINT 0.35%']\n",
      "Skipping row due to insufficient columns: [' #IGU #DBC #CFX #LUFFY #KINT #crypto #cryptonews #cryptoAlerts #blockchain  #cryptotrading #cryptoprices #altcoins #bitcoin', \"['cryptocurrency', 'price', 'GateIo', 'IGU', 'DBC', 'CFX', 'LUFFY', 'KINT', 'crypto', 'cryptonews', 'cryptoAlerts', 'blockchain', 'cryptotrading', 'cryptoprices', 'altcoins', 'bitcoin']\", 'Crypto Frog', 'False']\n",
      "Skipping row due to insufficient columns: ['👉https://t.co/XsdBPI7qf6']\n",
      "Skipping row due to insufficient columns: ['$IGU 4.18%']\n",
      "Skipping row due to insufficient columns: ['$QOM 1.02%']\n",
      "Skipping row due to insufficient columns: ['$CFX 0.56%']\n",
      "Skipping row due to insufficient columns: ['$FAME 0.39%']\n",
      "Skipping row due to insufficient columns: ['$LAT 0.31%']\n",
      "Skipping row due to insufficient columns: [' #IGU #QOM #CFX #FAME #LAT #crypto #cryptonews #cryptoAlerts #blockchain  #cryptotrading #cryptoprices #altcoins #bitcoin', \"['cryptocurrency', 'price', 'OKX', 'IGU', 'QOM', 'CFX', 'FAME', 'LAT', 'crypto', 'cryptonews', 'cryptoAlerts', 'blockchain', 'cryptotrading', 'cryptoprices', 'altcoins', 'bitcoin']\", 'Crypto Frog', 'False']\n",
      "Skipping row due to insufficient columns: ['Coin: $DAG']\n",
      "Skipping row due to insufficient columns: ['Pairs:']\n",
      "Skipping row due to insufficient columns: ['#DAG/#USDT']\n",
      "Skipping row due to insufficient columns: ['#newcoinlisting #crypto #cryptonews #cryptoAlerts #altcoins #bitcoin #blockchain #cryptocurrency #cryptotrading', \"['CoinEx', 'DAG', 'USDT', 'newcoinlisting', 'crypto', 'cryptonews', 'cryptoAlerts', 'altcoins', 'bitcoin', 'blockchain', 'cryptocurrency', 'cryptotrading']\", 'CoinListingBot', 'False']\n",
      "Skipping row due to insufficient columns: ['Coin: $LQTY']\n",
      "Skipping row due to insufficient columns: ['Pairs:']\n",
      "Skipping row due to insufficient columns: ['#LQTY/#USDT']\n",
      "Skipping row due to insufficient columns: ['#newcoinlisting #crypto #cryptonews #cryptoAlerts #altcoins #bitcoin #blockchain #cryptocurrency #cryptotrading', \"['XT', 'LQTY', 'USDT', 'newcoinlisting', 'crypto', 'cryptonews', 'cryptoAlerts', 'altcoins', 'bitcoin', 'blockchain', 'cryptocurrency', 'cryptotrading']\", 'CoinListingBot', 'False']\n"
     ]
    },
    {
     "name": "stderr",
     "output_type": "stream",
     "text": [
      "Preprocessing tweets: 18264it [00:06, 2933.93it/s]"
     ]
    },
    {
     "name": "stdout",
     "output_type": "stream",
     "text": [
      "Skipping row due to insufficient columns: ['Coin: $TOMI']\n",
      "Skipping row due to insufficient columns: ['Pairs:']\n",
      "Skipping row due to insufficient columns: ['#TOMI/#USDT']\n",
      "Skipping row due to insufficient columns: ['#newcoinlisting #crypto #cryptonews #cryptoAlerts #altcoins #bitcoin #blockchain #cryptocurrency #cryptotrading', \"['Hotbit', 'TOMI', 'USDT', 'newcoinlisting', 'crypto', 'cryptonews', 'cryptoAlerts', 'altcoins', 'bitcoin', 'blockchain', 'cryptocurrency', 'cryptotrading']\", 'CoinListingBot', 'False']\n",
      "Skipping row due to insufficient columns: ['👉https://t.co/XsdBPI7qf6']\n",
      "Skipping row due to insufficient columns: ['$MILO 3.24%']\n",
      "Skipping row due to insufficient columns: ['$QOM 0.61%']\n",
      "Skipping row due to insufficient columns: ['$BCD 0.45%']\n",
      "Skipping row due to insufficient columns: ['$PSTAKE 0.39%']\n",
      "Skipping row due to insufficient columns: ['$XCH 0.36%']\n",
      "Skipping row due to insufficient columns: [' #MILO #QOM #BCD #PSTAKE #XCH #crypto #cryptonews #cryptoAlerts #blockchain  #cryptotrading #cryptoprices #altcoins #bitcoin', \"['cryptocurrency', 'price', 'OKX', 'MILO', 'QOM', 'BCD', 'PSTAKE', 'XCH', 'crypto', 'cryptonews', 'cryptoAlerts', 'blockchain', 'cryptotrading', 'cryptoprices', 'altcoins', 'bitcoin']\", 'Crypto Frog', 'False']\n",
      "Skipping row due to insufficient columns: ['Coin: $SONNE']\n",
      "Skipping row due to insufficient columns: ['Pairs:']\n",
      "Skipping row due to insufficient columns: ['#SONNE/#USDT']\n",
      "Skipping row due to insufficient columns: ['#newcoinlisting #crypto #cryptonews #cryptoAlerts #altcoins #bitcoin #blockchain #cryptocurrency #cryptotrading', \"['Bitget', 'SONNE', 'USDT', 'newcoinlisting', 'crypto', 'cryptonews', 'cryptoAlerts', 'altcoins', 'bitcoin', 'blockchain', 'cryptocurrency', 'cryptotrading']\", 'CoinListingBot', 'False']\n",
      "Skipping row due to insufficient columns: ['Coin: $FLM']\n",
      "Skipping row due to insufficient columns: ['Pairs:']\n",
      "Skipping row due to insufficient columns: ['#FLM/#USDT']\n",
      "Skipping row due to insufficient columns: ['#newcoinlisting #crypto #cryptonews #cryptoAlerts #altcoins #bitcoin #blockchain #cryptocurrency #cryptotrading', \"['Bitget', 'FLM', 'USDT', 'newcoinlisting', 'crypto', 'cryptonews', 'cryptoAlerts', 'altcoins', 'bitcoin', 'blockchain', 'cryptocurrency', 'cryptotrading']\", 'CoinListingBot', 'False']\n",
      "Skipping row due to insufficient columns: ['Coin: $NEO']\n",
      "Skipping row due to insufficient columns: ['Pairs:']\n",
      "Skipping row due to insufficient columns: ['#NEO/#USDT']\n",
      "Skipping row due to insufficient columns: ['#newcoinlisting #crypto #cryptonews #cryptoAlerts #altcoins #bitcoin #blockchain #cryptocurrency #cryptotrading', \"['Bitget', 'NEO', 'USDT', 'newcoinlisting', 'crypto', 'cryptonews', 'cryptoAlerts', 'altcoins', 'bitcoin', 'blockchain', 'cryptocurrency', 'cryptotrading']\", 'CoinListingBot', 'False']\n",
      "Skipping row due to insufficient columns: ['Coin: $LQTY']\n",
      "Skipping row due to insufficient columns: ['Pairs:']\n",
      "Skipping row due to insufficient columns: ['#LQTY/#USDT']\n",
      "Skipping row due to insufficient columns: ['#newcoinlisting #crypto #cryptonews #cryptoAlerts #altcoins #bitcoin #blockchain #cryptocurrency #cryptotrading', \"['BitMart', 'LQTY', 'USDT', 'newcoinlisting', 'crypto', 'cryptonews', 'cryptoAlerts', 'altcoins', 'bitcoin', 'blockchain', 'cryptocurrency', 'cryptotrading']\", 'CoinListingBot', 'False']\n"
     ]
    },
    {
     "name": "stderr",
     "output_type": "stream",
     "text": [
      "Preprocessing tweets: 18851it [00:06, 2716.03it/s]"
     ]
    },
    {
     "name": "stdout",
     "output_type": "stream",
     "text": [
      "Skipping row due to insufficient columns: ['👉https://t.co/XsdBPI7qf6']\n",
      "Skipping row due to insufficient columns: ['$IGU 4.22%']\n",
      "Skipping row due to insufficient columns: ['$T 0.75%']\n",
      "Skipping row due to insufficient columns: ['$CFX 0.7%']\n",
      "Skipping row due to insufficient columns: ['$UTK 0.69%']\n",
      "Skipping row due to insufficient columns: ['$REN 0.65%']\n",
      "Skipping row due to insufficient columns: [' #IGU #T #CFX #UTK #REN #crypto #cryptonews #cryptoAlerts #blockchain  #cryptotrading #cryptoprices #altcoins #bitcoin', \"['cryptocurrency', 'price', 'OKX', 'IGU', 'T', 'CFX', 'UTK', 'REN', 'crypto', 'cryptonews', 'cryptoAlerts', 'blockchain', 'cryptotrading', 'cryptoprices', 'altcoins', 'bitcoin']\", 'Crypto Frog', 'False']\n",
      "Skipping row due to insufficient columns: ['Coin: $CDS']\n",
      "Skipping row due to insufficient columns: ['Pairs:']\n",
      "Skipping row due to insufficient columns: ['#CDS/#USDT']\n",
      "Skipping row due to insufficient columns: ['#newcoinlisting #crypto #cryptonews #cryptoAlerts #altcoins #bitcoin #blockchain #cryptocurrency #cryptotrading', \"['P2PB2B', 'CDS', 'USDT', 'newcoinlisting', 'crypto', 'cryptonews', 'cryptoAlerts', 'altcoins', 'bitcoin', 'blockchain', 'cryptocurrency', 'cryptotrading']\", 'CoinListingBot', 'False']\n",
      "Skipping row due to insufficient columns: ['👉https://t.co/dwh8jR9uho']\n",
      "Skipping row due to insufficient columns: ['$YLD 3.26%']\n",
      "Skipping row due to insufficient columns: ['$ASTO 1.78%']\n",
      "Skipping row due to insufficient columns: ['$SMART 1%']\n",
      "Skipping row due to insufficient columns: ['$PNT 0.78%']\n",
      "Skipping row due to insufficient columns: ['$HIGH 0.64%']\n",
      "Skipping row due to insufficient columns: [' #YLD #ASTO #SMART #PNT #HIGH #crypto #cryptonews #cryptoAlerts #blockchain  #cryptotrading #cryptoprices #altcoins #bitcoin', \"['cryptocurrency', 'price', 'GateIo', 'YLD', 'ASTO', 'SMART', 'PNT', 'HIGH', 'crypto', 'cryptonews', 'cryptoAlerts', 'blockchain', 'cryptotrading', 'cryptoprices', 'altcoins', 'bitcoin']\", 'Crypto Frog', 'False']\n",
      "Skipping row due to insufficient columns: ['👉https://t.co/AdJlZWUXsw']\n",
      "Skipping row due to insufficient columns: ['$SCT 4.03%']\n",
      "Skipping row due to insufficient columns: ['$VELO 1.92%']\n",
      "Skipping row due to insufficient columns: ['$APT 0.33%']\n",
      "Skipping row due to insufficient columns: [' #SCT #VELO #APT #crypto #cryptonews #cryptoAlerts #blockchain  #cryptotrading #cryptoprices #altcoins #bitcoin', \"['cryptocurrency', 'price', 'MEXC', 'SCT', 'VELO', 'APT', 'crypto', 'cryptonews', 'cryptoAlerts', 'blockchain', 'cryptotrading', 'cryptoprices', 'altcoins', 'bitcoin']\", 'Crypto Frog', 'False']\n",
      "Skipping row due to insufficient columns: ['👉https://t.co/dwh8jR9uho']\n",
      "Skipping row due to insufficient columns: ['$PNT 3.99%']\n",
      "Skipping row due to insufficient columns: ['$PAW 0.9%']\n",
      "Skipping row due to insufficient columns: ['$AKT 0.58%']\n",
      "Skipping row due to insufficient columns: ['$AGIX 0.56%']\n",
      "Skipping row due to insufficient columns: ['$SRK 0.52%']\n",
      "Skipping row due to insufficient columns: [' #PNT #PAW #AKT #AGIX #SRK #crypto #cryptonews #cryptoAlerts #blockchain  #cryptotrading #cryptoprices #altcoins #bitcoin', \"['cryptocurrency', 'price', 'GateIo', 'PNT', 'PAW', 'AKT', 'AGIX', 'SRK', 'crypto', 'cryptonews', 'cryptoAlerts', 'blockchain', 'cryptotrading', 'cryptoprices', 'altcoins', 'bitcoin']\", 'Crypto Frog', 'False']\n"
     ]
    },
    {
     "name": "stderr",
     "output_type": "stream",
     "text": [
      "Preprocessing tweets: 19746it [00:06, 2842.23it/s]"
     ]
    },
    {
     "name": "stdout",
     "output_type": "stream",
     "text": [
      "Skipping row due to insufficient columns: ['Coin: $AREA']\n",
      "Skipping row due to insufficient columns: ['Pairs:']\n",
      "Skipping row due to insufficient columns: ['#AREA/#USDT']\n",
      "Skipping row due to insufficient columns: ['#newcoinlisting #crypto #cryptonews #cryptoAlerts #altcoins #bitcoin #blockchain #cryptocurrency #cryptotrading', \"['Hotbit', 'AREA', 'USDT', 'newcoinlisting', 'crypto', 'cryptonews', 'cryptoAlerts', 'altcoins', 'bitcoin', 'blockchain', 'cryptocurrency', 'cryptotrading']\", 'CoinListingBot', 'False']\n",
      "Skipping row due to insufficient columns: ['👉https://t.co/XsdBPI7qf6']\n",
      "Skipping row due to insufficient columns: ['$MRST 7.84%']\n",
      "Skipping row due to insufficient columns: ['$ZKS 2.58%']\n",
      "Skipping row due to insufficient columns: ['$STX 1.5%']\n",
      "Skipping row due to insufficient columns: ['$CFX 1.16%']\n",
      "Skipping row due to insufficient columns: ['$FIL 0.64%']\n",
      "Skipping row due to insufficient columns: [' #MRST #ZKS #STX #CFX #FIL #crypto #cryptonews #cryptoAlerts #blockchain  #cryptotrading #cryptoprices #altcoins #bitcoin', \"['cryptocurrency', 'price', 'OKX', 'MRST', 'ZKS', 'STX', 'CFX', 'FIL', 'crypto', 'cryptonews', 'cryptoAlerts', 'blockchain', 'cryptotrading', 'cryptoprices', 'altcoins', 'bitcoin']\", 'Crypto Frog', 'False']\n",
      "Skipping row due to insufficient columns: ['Coin: $GRAIL']\n",
      "Skipping row due to insufficient columns: ['Pairs:']\n",
      "Skipping row due to insufficient columns: ['#GRAIL/#USDT']\n",
      "Skipping row due to insufficient columns: ['#newcoinlisting #crypto #cryptonews #cryptoAlerts #altcoins #bitcoin #blockchain #cryptocurrency #cryptotrading', \"['GateIo', 'GRAIL', 'USDT', 'newcoinlisting', 'crypto', 'cryptonews', 'cryptoAlerts', 'altcoins', 'bitcoin', 'blockchain', 'cryptocurrency', 'cryptotrading']\", 'CoinListingBot', 'False']\n",
      "Skipping row due to insufficient columns: ['👉https://t.co/dwh8jR9uho']\n",
      "Skipping row due to insufficient columns: ['$CMP 3.81%']\n",
      "Skipping row due to insufficient columns: ['$KMON 2.81%']\n",
      "Skipping row due to insufficient columns: ['$AAVE 1.08%']\n",
      "Skipping row due to insufficient columns: ['$MDT 1.01%']\n",
      "Skipping row due to insufficient columns: ['$ALI 0.89%']\n",
      "Skipping row due to insufficient columns: [' #CMP #KMON #AAVE #MDT #ALI #crypto #cryptonews #cryptoAlerts #blockchain  #cryptotrading #cryptoprices #altcoins #bitcoin', \"['cryptocurrency', 'price', 'GateIo', 'CMP', 'KMON', 'AAVE', 'MDT', 'ALI', 'crypto', 'cryptonews', 'cryptoAlerts', 'blockchain', 'cryptotrading', 'cryptoprices', 'altcoins', 'bitcoin']\", 'Crypto Frog', 'False']\n",
      "Skipping row due to insufficient columns: ['Coin: $OFI']\n",
      "Skipping row due to insufficient columns: ['Pairs:']\n",
      "Skipping row due to insufficient columns: ['#OFI/#USDT']\n",
      "Skipping row due to insufficient columns: ['#newcoinlisting #crypto #cryptonews #cryptoAlerts #altcoins #bitcoin #blockchain #cryptocurrency #cryptotrading', \"['Bilaxy', 'OFI', 'USDT', 'newcoinlisting', 'crypto', 'cryptonews', 'cryptoAlerts', 'altcoins', 'bitcoin', 'blockchain', 'cryptocurrency', 'cryptotrading']\", 'CoinListingBot', 'False']\n"
     ]
    },
    {
     "name": "stderr",
     "output_type": "stream",
     "text": [
      "Preprocessing tweets: 20690it [00:07, 3042.23it/s]"
     ]
    },
    {
     "name": "stdout",
     "output_type": "stream",
     "text": [
      "Skipping row due to insufficient columns: ['Coin: $XCH']\n",
      "Skipping row due to insufficient columns: ['Pairs:']\n",
      "Skipping row due to insufficient columns: ['#XCH/#USDT']\n",
      "Skipping row due to insufficient columns: ['#newcoinlisting #crypto #cryptonews #cryptoAlerts #altcoins #bitcoin #blockchain #cryptocurrency #cryptotrading', \"['Bitrue', 'XCH', 'USDT', 'newcoinlisting', 'crypto', 'cryptonews', 'cryptoAlerts', 'altcoins', 'bitcoin', 'blockchain', 'cryptocurrency', 'cryptotrading']\", 'CoinListingBot', 'False']\n",
      "Skipping row due to insufficient columns: ['👉https://t.co/YFfSerrmK2']\n",
      "Skipping row due to insufficient columns: ['$UUU 4.47%']\n",
      "Skipping row due to insufficient columns: ['$APT 0.46%']\n",
      "Skipping row due to insufficient columns: ['$IMX 0.34%']\n",
      "Skipping row due to insufficient columns: [' #UUU #APT #IMX #crypto #cryptonews #cryptoAlerts #blockchain  #cryptotrading #cryptoprices #altcoins #bitcoin', \"['cryptocurrency', 'price', 'Huobi', 'UUU', 'APT', 'IMX', 'crypto', 'cryptonews', 'cryptoAlerts', 'blockchain', 'cryptotrading', 'cryptoprices', 'altcoins', 'bitcoin']\", 'Crypto Frog', 'False']\n",
      "Skipping row due to insufficient columns: ['👉https://t.co/dwh8jR9uho']\n",
      "Skipping row due to insufficient columns: ['$D2T 3.71%']\n",
      "Skipping row due to insufficient columns: ['$WATT 1.14%']\n",
      "Skipping row due to insufficient columns: ['$RDNT 1.13%']\n",
      "Skipping row due to insufficient columns: ['$SHFT 0.72%']\n",
      "Skipping row due to insufficient columns: ['$FIO 0.62%']\n",
      "Skipping row due to insufficient columns: [' #D2T #WATT #RDNT #SHFT #FIO #crypto #cryptonews #cryptoAlerts #blockchain  #cryptotrading #cryptoprices #altcoins #bitcoin', \"['cryptocurrency', 'price', 'GateIo', 'D2T', 'WATT', 'RDNT', 'SHFT', 'FIO', 'crypto', 'cryptonews', 'cryptoAlerts', 'blockchain', 'cryptotrading', 'cryptoprices', 'altcoins', 'bitcoin']\", 'Crypto Frog', 'False']\n",
      "Skipping row due to insufficient columns: ['👉https://t.co/dwh8jR9uho']\n",
      "Skipping row due to insufficient columns: ['$VENT 3.63%']\n",
      "Skipping row due to insufficient columns: ['$D2T 1.56%']\n",
      "Skipping row due to insufficient columns: ['$WATT 1.36%']\n",
      "Skipping row due to insufficient columns: ['$XCN 0.66%']\n",
      "Skipping row due to insufficient columns: ['$TRU 0.62%']\n",
      "Skipping row due to insufficient columns: [' #VENT #D2T #WATT #XCN #TRU #crypto #cryptonews #cryptoAlerts #blockchain  #cryptotrading #cryptoprices #altcoins #bitcoin', \"['cryptocurrency', 'price', 'GateIo', 'VENT', 'D2T', 'WATT', 'XCN', 'TRU', 'crypto', 'cryptonews', 'cryptoAlerts', 'blockchain', 'cryptotrading', 'cryptoprices', 'altcoins', 'bitcoin']\", 'Crypto Frog', 'False']\n",
      "Skipping row due to insufficient columns: ['Coin: $PLS']\n",
      "Skipping row due to insufficient columns: ['Pairs:']\n",
      "Skipping row due to insufficient columns: ['#PLS/#USDT']\n",
      "Skipping row due to insufficient columns: ['#newcoinlisting #crypto #cryptonews #cryptoAlerts #altcoins #bitcoin #blockchain #cryptocurrency #cryptotrading', \"['BKEX', 'PLS', 'USDT', 'newcoinlisting', 'crypto', 'cryptonews', 'cryptoAlerts', 'altcoins', 'bitcoin', 'blockchain', 'cryptocurrency', 'cryptotrading']\", 'CoinListingBot', 'False']\n",
      "Skipping row due to insufficient columns: ['👉https://t.co/XsdBPI7qf6']\n",
      "Skipping row due to insufficient columns: ['$LDN 4.95%']\n",
      "Skipping row due to insufficient columns: ['$BTM 1.55%']\n",
      "Skipping row due to insufficient columns: ['$REN 0.61%']\n",
      "Skipping row due to insufficient columns: ['$VELO 0.52%']\n",
      "Skipping row due to insufficient columns: ['$AR 0.4%']\n",
      "Skipping row due to insufficient columns: [' #LDN #BTM #REN #VELO #AR #crypto #cryptonews #cryptoAlerts #blockchain  #cryptotrading #cryptoprices #altcoins #bitcoin', \"['cryptocurrency', 'price', 'OKX', 'LDN', 'BTM', 'REN', 'VELO', 'AR', 'crypto', 'cryptonews', 'cryptoAlerts', 'blockchain', 'cryptotrading', 'cryptoprices', 'altcoins', 'bitcoin']\", 'Crypto Frog', 'False']\n",
      "Skipping row due to insufficient columns: ['👉https://t.co/dwh8jR9uho']\n",
      "Skipping row due to insufficient columns: ['$NFTL 3.36%']\n",
      "Skipping row due to insufficient columns: ['$WATT 2.54%']\n",
      "Skipping row due to insufficient columns: ['$ATA 0.51%']\n",
      "Skipping row due to insufficient columns: ['$SDAO 0.49%']\n",
      "Skipping row due to insufficient columns: ['$ACH 0.48%']\n",
      "Skipping row due to insufficient columns: [' #NFTL #WATT #ATA #SDAO #ACH #crypto #cryptonews #cryptoAlerts #blockchain  #cryptotrading #cryptoprices #altcoins #bitcoin', \"['cryptocurrency', 'price', 'GateIo', 'NFTL', 'WATT', 'ATA', 'SDAO', 'ACH', 'crypto', 'cryptonews', 'cryptoAlerts', 'blockchain', 'cryptotrading', 'cryptoprices', 'altcoins', 'bitcoin']\", 'Crypto Frog', 'False']\n",
      "Skipping row due to insufficient columns: ['👉https://t.co/XsdBPI7qf6']\n",
      "Skipping row due to insufficient columns: ['$LDN 7.72%']\n",
      "Skipping row due to insufficient columns: ['$PNK 0.76%']\n",
      "Skipping row due to insufficient columns: ['$BAL 0.49%']\n",
      "Skipping row due to insufficient columns: ['$LPT 0.43%']\n",
      "Skipping row due to insufficient columns: ['$LDO 0.41%']\n",
      "Skipping row due to insufficient columns: [' #LDN #PNK #BAL #LPT #LDO #crypto #cryptonews #cryptoAlerts #blockchain  #cryptotrading #cryptoprices #altcoins #bitcoin', \"['cryptocurrency', 'price', 'OKX', 'LDN', 'PNK', 'BAL', 'LPT', 'LDO', 'crypto', 'cryptonews', 'cryptoAlerts', 'blockchain', 'cryptotrading', 'cryptoprices', 'altcoins', 'bitcoin']\", 'Crypto Frog', 'False']\n",
      "Skipping row due to insufficient columns: ['Coin: $AIPAD']\n",
      "Skipping row due to insufficient columns: ['Pairs:']\n",
      "Skipping row due to insufficient columns: ['#AIPAD/#USDT']\n",
      "Skipping row due to insufficient columns: ['#newcoinlisting #crypto #cryptonews #cryptoAlerts #altcoins #bitcoin #blockchain #cryptocurrency #cryptotrading', \"['KuCoin', 'AIPAD', 'USDT', 'newcoinlisting', 'crypto', 'cryptonews', 'cryptoAlerts', 'altcoins', 'bitcoin', 'blockchain', 'cryptocurrency', 'cryptotrading']\", 'CoinListingBot', 'False']\n",
      "Skipping row due to insufficient columns: ['👉https://t.co/dwh8jR9uho']\n",
      "Skipping row due to insufficient columns: ['$TRR 4.41%']\n",
      "Skipping row due to insufficient columns: ['$SPS 0.78%']\n",
      "Skipping row due to insufficient columns: ['$GOAL 0.47%']\n",
      "Skipping row due to insufficient columns: ['$DREP 0.46%']\n",
      "Skipping row due to insufficient columns: ['$CQT 0.44%']\n",
      "Skipping row due to insufficient columns: [' #TRR #SPS #GOAL #DREP #CQT #crypto #cryptonews #cryptoAlerts #blockchain  #cryptotrading #cryptoprices #altcoins #bitcoin', \"['cryptocurrency', 'price', 'GateIo', 'TRR', 'SPS', 'GOAL', 'DREP', 'CQT', 'crypto', 'cryptonews', 'cryptoAlerts', 'blockchain', 'cryptotrading', 'cryptoprices', 'altcoins', 'bitcoin']\", 'Crypto Frog', 'False']\n",
      "Skipping row due to insufficient columns: ['👉https://t.co/XsdBPI7qf6']\n",
      "Skipping row due to insufficient columns: ['$LDN 6.44%']\n",
      "Skipping row due to insufficient columns: ['$CMT 0.79%']\n",
      "Skipping row due to insufficient columns: ['$NMR 0.52%']\n",
      "Skipping row due to insufficient columns: ['$BAL 0.34%']\n",
      "Skipping row due to insufficient columns: ['$SLP 0.31%']\n",
      "Skipping row due to insufficient columns: [' #LDN #CMT #NMR #BAL #SLP #crypto #cryptonews #cryptoAlerts #blockchain  #cryptotrading #cryptoprices #altcoins #bitcoin', \"['cryptocurrency', 'price', 'OKX', 'LDN', 'CMT', 'NMR', 'BAL', 'SLP', 'crypto', 'cryptonews', 'cryptoAlerts', 'blockchain', 'cryptotrading', 'cryptoprices', 'altcoins', 'bitcoin']\", 'Crypto Frog', 'False']\n",
      "Skipping row due to insufficient columns: ['Coin: $ORAI']\n",
      "Skipping row due to insufficient columns: ['Pairs:']\n",
      "Skipping row due to insufficient columns: ['#ORAI/#USDT']\n",
      "Skipping row due to insufficient columns: ['#newcoinlisting #crypto #cryptonews #cryptoAlerts #altcoins #bitcoin #blockchain #cryptocurrency #cryptotrading', \"['CoinEx', 'ORAI', 'USDT', 'newcoinlisting', 'crypto', 'cryptonews', 'cryptoAlerts', 'altcoins', 'bitcoin', 'blockchain', 'cryptocurrency', 'cryptotrading']\", 'CoinListingBot', 'False']\n"
     ]
    },
    {
     "name": "stderr",
     "output_type": "stream",
     "text": [
      "Preprocessing tweets: 21454it [00:07, 3253.79it/s]"
     ]
    },
    {
     "name": "stdout",
     "output_type": "stream",
     "text": [
      "Skipping row due to insufficient columns: ['Coin: $BLZ']\n",
      "Skipping row due to insufficient columns: ['Pairs:']\n",
      "Skipping row due to insufficient columns: ['#BLZ/#USDT']\n",
      "Skipping row due to insufficient columns: ['#newcoinlisting #crypto #cryptonews #cryptoAlerts #altcoins #bitcoin #blockchain #cryptocurrency #cryptotrading', \"['KuCoin', 'BLZ', 'USDT', 'newcoinlisting', 'crypto', 'cryptonews', 'cryptoAlerts', 'altcoins', 'bitcoin', 'blockchain', 'cryptocurrency', 'cryptotrading']\", 'CoinListingBot', 'False']\n",
      "Skipping row due to insufficient columns: ['Coin: $GALA']\n",
      "Skipping row due to insufficient columns: ['Pairs:']\n",
      "Skipping row due to insufficient columns: ['#GALA/#USDT']\n",
      "Skipping row due to insufficient columns: ['#newcoinlisting #crypto #cryptonews #cryptoAlerts #altcoins #bitcoin #blockchain #cryptocurrency #cryptotrading', \"['AscendEX', 'GALA', 'USDT', 'newcoinlisting', 'crypto', 'cryptonews', 'cryptoAlerts', 'altcoins', 'bitcoin', 'blockchain', 'cryptocurrency', 'cryptotrading']\", 'CoinListingBot', 'False']\n",
      "Skipping row due to insufficient columns: ['Coin: $LDO']\n",
      "Skipping row due to insufficient columns: ['Pairs:']\n",
      "Skipping row due to insufficient columns: ['#LDO/#USDT']\n",
      "Skipping row due to insufficient columns: ['#newcoinlisting #crypto #cryptonews #cryptoAlerts #altcoins #bitcoin #blockchain #cryptocurrency #cryptotrading', \"['AscendEX', 'LDO', 'USDT', 'newcoinlisting', 'crypto', 'cryptonews', 'cryptoAlerts', 'altcoins', 'bitcoin', 'blockchain', 'cryptocurrency', 'cryptotrading']\", 'CoinListingBot', 'False']\n",
      "Skipping row due to insufficient columns: ['Coin: $RPL']\n",
      "Skipping row due to insufficient columns: ['Pairs:']\n",
      "Skipping row due to insufficient columns: ['#RPL/#USDT']\n",
      "Skipping row due to insufficient columns: ['#newcoinlisting #crypto #cryptonews #cryptoAlerts #altcoins #bitcoin #blockchain #cryptocurrency #cryptotrading', \"['AscendEX', 'RPL', 'USDT', 'newcoinlisting', 'crypto', 'cryptonews', 'cryptoAlerts', 'altcoins', 'bitcoin', 'blockchain', 'cryptocurrency', 'cryptotrading']\", 'CoinListingBot', 'False']\n",
      "Skipping row due to insufficient columns: ['Coin: $SSV']\n",
      "Skipping row due to insufficient columns: ['Pairs:']\n",
      "Skipping row due to insufficient columns: ['#SSV/#USDT']\n",
      "Skipping row due to insufficient columns: ['#newcoinlisting #crypto #cryptonews #cryptoAlerts #altcoins #bitcoin #blockchain #cryptocurrency #cryptotrading', \"['AscendEX', 'SSV', 'USDT', 'newcoinlisting', 'crypto', 'cryptonews', 'cryptoAlerts', 'altcoins', 'bitcoin', 'blockchain', 'cryptocurrency', 'cryptotrading']\", 'CoinListingBot', 'False']\n",
      "Skipping row due to insufficient columns: ['Coin: $COCOS3S']\n",
      "Skipping row due to insufficient columns: ['Pairs:']\n",
      "Skipping row due to insufficient columns: ['#COCOS3S/#USDT']\n",
      "Skipping row due to insufficient columns: ['#newcoinlisting #crypto #cryptonews #cryptoAlerts #altcoins #bitcoin #blockchain #cryptocurrency #cryptotrading', \"['Bitrue', 'COCOS3S', 'USDT', 'newcoinlisting', 'crypto', 'cryptonews', 'cryptoAlerts', 'altcoins', 'bitcoin', 'blockchain', 'cryptocurrency', 'cryptotrading']\", 'CoinListingBot', 'False']\n",
      "Skipping row due to insufficient columns: ['Coin: $STX3S']\n",
      "Skipping row due to insufficient columns: ['Pairs:']\n",
      "Skipping row due to insufficient columns: ['#STX3S/#USDT']\n",
      "Skipping row due to insufficient columns: ['#newcoinlisting #crypto #cryptonews #cryptoAlerts #altcoins #bitcoin #blockchain #cryptocurrency #cryptotrading', \"['Bitrue', 'STX3S', 'USDT', 'newcoinlisting', 'crypto', 'cryptonews', 'cryptoAlerts', 'altcoins', 'bitcoin', 'blockchain', 'cryptocurrency', 'cryptotrading']\", 'CoinListingBot', 'False']\n",
      "Skipping row due to insufficient columns: ['Coin: $ASTR3S']\n",
      "Skipping row due to insufficient columns: ['Pairs:']\n",
      "Skipping row due to insufficient columns: ['#ASTR3S/#USDT']\n",
      "Skipping row due to insufficient columns: ['#newcoinlisting #crypto #cryptonews #cryptoAlerts #altcoins #bitcoin #blockchain #cryptocurrency #cryptotrading', \"['Bitrue', 'ASTR3S', 'USDT', 'newcoinlisting', 'crypto', 'cryptonews', 'cryptoAlerts', 'altcoins', 'bitcoin', 'blockchain', 'cryptocurrency', 'cryptotrading']\", 'CoinListingBot', 'False']\n",
      "Skipping row due to insufficient columns: ['Coin: $COCOS3L']\n",
      "Skipping row due to insufficient columns: ['Pairs:']\n",
      "Skipping row due to insufficient columns: ['#COCOS3L/#USDT']\n",
      "Skipping row due to insufficient columns: ['#newcoinlisting #crypto #cryptonews #cryptoAlerts #altcoins #bitcoin #blockchain #cryptocurrency #cryptotrading', \"['Bitrue', 'COCOS3L', 'USDT', 'newcoinlisting', 'crypto', 'cryptonews', 'cryptoAlerts', 'altcoins', 'bitcoin', 'blockchain', 'cryptocurrency', 'cryptotrading']\", 'CoinListingBot', 'False']\n",
      "Skipping row due to insufficient columns: ['Coin: $AGIX3S']\n",
      "Skipping row due to insufficient columns: ['Pairs:']\n",
      "Skipping row due to insufficient columns: ['#AGIX3S/#USDT']\n",
      "Skipping row due to insufficient columns: ['#newcoinlisting #crypto #cryptonews #cryptoAlerts #altcoins #bitcoin #blockchain #cryptocurrency #cryptotrading', \"['Bitrue', 'AGIX3S', 'USDT', 'newcoinlisting', 'crypto', 'cryptonews', 'cryptoAlerts', 'altcoins', 'bitcoin', 'blockchain', 'cryptocurrency', 'cryptotrading']\", 'CoinListingBot', 'False']\n",
      "Skipping row due to insufficient columns: ['Coin: $AGIX3L']\n",
      "Skipping row due to insufficient columns: ['Pairs:']\n",
      "Skipping row due to insufficient columns: ['#AGIX3L/#USDT']\n",
      "Skipping row due to insufficient columns: ['#newcoinlisting #crypto #cryptonews #cryptoAlerts #altcoins #bitcoin #blockchain #cryptocurrency #cryptotrading', \"['Bitrue', 'AGIX3L', 'USDT', 'newcoinlisting', 'crypto', 'cryptonews', 'cryptoAlerts', 'altcoins', 'bitcoin', 'blockchain', 'cryptocurrency', 'cryptotrading']\", 'CoinListingBot', 'False']\n",
      "Skipping row due to insufficient columns: ['Coin: $PHB3L']\n",
      "Skipping row due to insufficient columns: ['Pairs:']\n",
      "Skipping row due to insufficient columns: ['#PHB3L/#USDT']\n",
      "Skipping row due to insufficient columns: ['#newcoinlisting #crypto #cryptonews #cryptoAlerts #altcoins #bitcoin #blockchain #cryptocurrency #cryptotrading', \"['Bitrue', 'PHB3L', 'USDT', 'newcoinlisting', 'crypto', 'cryptonews', 'cryptoAlerts', 'altcoins', 'bitcoin', 'blockchain', 'cryptocurrency', 'cryptotrading']\", 'CoinListingBot', 'False']\n",
      "Skipping row due to insufficient columns: ['Coin: $ASTR3L']\n",
      "Skipping row due to insufficient columns: ['Pairs:']\n",
      "Skipping row due to insufficient columns: ['#ASTR3L/#USDT']\n",
      "Skipping row due to insufficient columns: ['#newcoinlisting #crypto #cryptonews #cryptoAlerts #altcoins #bitcoin #blockchain #cryptocurrency #cryptotrading', \"['Bitrue', 'ASTR3L', 'USDT', 'newcoinlisting', 'crypto', 'cryptonews', 'cryptoAlerts', 'altcoins', 'bitcoin', 'blockchain', 'cryptocurrency', 'cryptotrading']\", 'CoinListingBot', 'False']\n",
      "Skipping row due to insufficient columns: ['Coin: $GMX3S']\n",
      "Skipping row due to insufficient columns: ['Pairs:']\n",
      "Skipping row due to insufficient columns: ['#GMX3S/#USDT']\n",
      "Skipping row due to insufficient columns: ['#newcoinlisting #crypto #cryptonews #cryptoAlerts #altcoins #bitcoin #blockchain #cryptocurrency #cryptotrading', \"['Bitrue', 'GMX3S', 'USDT', 'newcoinlisting', 'crypto', 'cryptonews', 'cryptoAlerts', 'altcoins', 'bitcoin', 'blockchain', 'cryptocurrency', 'cryptotrading']\", 'CoinListingBot', 'False']\n",
      "Skipping row due to insufficient columns: ['Coin: $CFX3S']\n",
      "Skipping row due to insufficient columns: ['Pairs:']\n",
      "Skipping row due to insufficient columns: ['#CFX3S/#USDT']\n",
      "Skipping row due to insufficient columns: ['#newcoinlisting #crypto #cryptonews #cryptoAlerts #altcoins #bitcoin #blockchain #cryptocurrency #cryptotrading', \"['Bitrue', 'CFX3S', 'USDT', 'newcoinlisting', 'crypto', 'cryptonews', 'cryptoAlerts', 'altcoins', 'bitcoin', 'blockchain', 'cryptocurrency', 'cryptotrading']\", 'CoinListingBot', 'False']\n",
      "Skipping row due to insufficient columns: ['Coin: $STX3L']\n",
      "Skipping row due to insufficient columns: ['Pairs:']\n",
      "Skipping row due to insufficient columns: ['#STX3L/#USDT']\n",
      "Skipping row due to insufficient columns: ['#newcoinlisting #crypto #cryptonews #cryptoAlerts #altcoins #bitcoin #blockchain #cryptocurrency #cryptotrading', \"['Bitrue', 'STX3L', 'USDT', 'newcoinlisting', 'crypto', 'cryptonews', 'cryptoAlerts', 'altcoins', 'bitcoin', 'blockchain', 'cryptocurrency', 'cryptotrading']\", 'CoinListingBot', 'False']\n",
      "Skipping row due to insufficient columns: ['Coin: $GMX3L']\n",
      "Skipping row due to insufficient columns: ['Pairs:']\n",
      "Skipping row due to insufficient columns: ['#GMX3L/#USDT']\n",
      "Skipping row due to insufficient columns: ['#newcoinlisting #crypto #cryptonews #cryptoAlerts #altcoins #bitcoin #blockchain #cryptocurrency #cryptotrading', \"['Bitrue', 'GMX3L', 'USDT', 'newcoinlisting', 'crypto', 'cryptonews', 'cryptoAlerts', 'altcoins', 'bitcoin', 'blockchain', 'cryptocurrency', 'cryptotrading']\", 'CoinListingBot', 'False']\n",
      "Skipping row due to insufficient columns: ['Coin: $PHB3S']\n",
      "Skipping row due to insufficient columns: ['Pairs:']\n",
      "Skipping row due to insufficient columns: ['#PHB3S/#USDT']\n",
      "Skipping row due to insufficient columns: ['#newcoinlisting #crypto #cryptonews #cryptoAlerts #altcoins #bitcoin #blockchain #cryptocurrency #cryptotrading', \"['Bitrue', 'PHB3S', 'USDT', 'newcoinlisting', 'crypto', 'cryptonews', 'cryptoAlerts', 'altcoins', 'bitcoin', 'blockchain', 'cryptocurrency', 'cryptotrading']\", 'CoinListingBot', 'False']\n",
      "Skipping row due to insufficient columns: ['Coin: $CFX3L']\n",
      "Skipping row due to insufficient columns: ['Pairs:']\n",
      "Skipping row due to insufficient columns: ['#CFX3L/#USDT']\n",
      "Skipping row due to insufficient columns: ['#newcoinlisting #crypto #cryptonews #cryptoAlerts #altcoins #bitcoin #blockchain #cryptocurrency #cryptotrading', \"['Bitrue', 'CFX3L', 'USDT', 'newcoinlisting', 'crypto', 'cryptonews', 'cryptoAlerts', 'altcoins', 'bitcoin', 'blockchain', 'cryptocurrency', 'cryptotrading']\", 'CoinListingBot', 'False']\n",
      "Skipping row due to insufficient columns: ['Coin: $ACH3L']\n",
      "Skipping row due to insufficient columns: ['Pairs:']\n",
      "Skipping row due to insufficient columns: ['#ACH3L/#USDT']\n",
      "Skipping row due to insufficient columns: ['#newcoinlisting #crypto #cryptonews #cryptoAlerts #altcoins #bitcoin #blockchain #cryptocurrency #cryptotrading', \"['Bitrue', 'ACH3L', 'USDT', 'newcoinlisting', 'crypto', 'cryptonews', 'cryptoAlerts', 'altcoins', 'bitcoin', 'blockchain', 'cryptocurrency', 'cryptotrading']\", 'CoinListingBot', 'False']\n",
      "Skipping row due to insufficient columns: ['Coin: $ACH3S']\n",
      "Skipping row due to insufficient columns: ['Pairs:']\n",
      "Skipping row due to insufficient columns: ['#ACH3S/#USDT']\n",
      "Skipping row due to insufficient columns: ['#newcoinlisting #crypto #cryptonews #cryptoAlerts #altcoins #bitcoin #blockchain #cryptocurrency #cryptotrading', \"['Bitrue', 'ACH3S', 'USDT', 'newcoinlisting', 'crypto', 'cryptonews', 'cryptoAlerts', 'altcoins', 'bitcoin', 'blockchain', 'cryptocurrency', 'cryptotrading']\", 'CoinListingBot', 'False']\n",
      "Skipping row due to insufficient columns: ['Coin: $SSV3L']\n",
      "Skipping row due to insufficient columns: ['Pairs:']\n",
      "Skipping row due to insufficient columns: ['#SSV3L/#USDT']\n",
      "Skipping row due to insufficient columns: ['#newcoinlisting #crypto #cryptonews #cryptoAlerts #altcoins #bitcoin #blockchain #cryptocurrency #cryptotrading', \"['Bitrue', 'SSV3L', 'USDT', 'newcoinlisting', 'crypto', 'cryptonews', 'cryptoAlerts', 'altcoins', 'bitcoin', 'blockchain', 'cryptocurrency', 'cryptotrading']\", 'CoinListingBot', 'False']\n",
      "Skipping row due to insufficient columns: ['Coin: $SSV3S']\n",
      "Skipping row due to insufficient columns: ['Pairs:']\n",
      "Skipping row due to insufficient columns: ['#SSV3S/#USDT']\n",
      "Skipping row due to insufficient columns: ['#newcoinlisting #crypto #cryptonews #cryptoAlerts #altcoins #bitcoin #blockchain #cryptocurrency #cryptotrading', \"['Bitrue', 'SSV3S', 'USDT', 'newcoinlisting', 'crypto', 'cryptonews', 'cryptoAlerts', 'altcoins', 'bitcoin', 'blockchain', 'cryptocurrency', 'cryptotrading']\", 'CoinListingBot', 'False']\n",
      "Skipping row due to insufficient columns: ['👉https://t.co/dwh8jR9uho']\n",
      "Skipping row due to insufficient columns: ['$DELFI 3.62%']\n",
      "Skipping row due to insufficient columns: ['$1EARTH 0.56%']\n",
      "Skipping row due to insufficient columns: ['$IMX 0.4%']\n",
      "Skipping row due to insufficient columns: ['$BYN 0.35%']\n",
      "Skipping row due to insufficient columns: [' #DELFI #1EARTH #IMX #BYN #crypto #cryptonews #cryptoAlerts #blockchain  #cryptotrading #cryptoprices #altcoins #bitcoin', \"['cryptocurrency', 'price', 'GateIo', 'DELFI', '1EARTH', 'IMX', 'BYN', 'crypto', 'cryptonews', 'cryptoAlerts', 'blockchain', 'cryptotrading', 'cryptoprices', 'altcoins', 'bitcoin']\", 'Crypto Frog', 'False']\n",
      "Skipping row due to insufficient columns: ['👉https://t.co/AdJlZWUXsw']\n",
      "Skipping row due to insufficient columns: ['$MEVR 4%']\n",
      "Skipping row due to insufficient columns: ['$CVR 0.44%']\n",
      "Skipping row due to insufficient columns: ['$SCT 0.34%']\n",
      "Skipping row due to insufficient columns: ['$RIF 0.3%']\n",
      "Skipping row due to insufficient columns: [' #MEVR #CVR #SCT #RIF #crypto #cryptonews #cryptoAlerts #blockchain  #cryptotrading #cryptoprices #altcoins #bitcoin', \"['cryptocurrency', 'price', 'MEXC', 'MEVR', 'CVR', 'SCT', 'RIF', 'crypto', 'cryptonews', 'cryptoAlerts', 'blockchain', 'cryptotrading', 'cryptoprices', 'altcoins', 'bitcoin']\", 'Crypto Frog', 'False']\n"
     ]
    },
    {
     "name": "stderr",
     "output_type": "stream",
     "text": [
      "Preprocessing tweets: 22415it [00:07, 3062.22it/s]"
     ]
    },
    {
     "name": "stdout",
     "output_type": "stream",
     "text": [
      "Skipping row due to insufficient columns: ['👉https://t.co/XsdBPI7qf6']\n",
      "Skipping row due to insufficient columns: ['$LDN 4.27%']\n",
      "Skipping row due to insufficient columns: ['$MILO 1.06%']\n",
      "Skipping row due to insufficient columns: ['$ZBC 0.95%']\n",
      "Skipping row due to insufficient columns: ['$VELO 0.79%']\n",
      "Skipping row due to insufficient columns: ['$EM 0.6%']\n",
      "Skipping row due to insufficient columns: [' #LDN #MILO #ZBC #VELO #EM #crypto #cryptonews #cryptoAlerts #blockchain  #cryptotrading #cryptoprices #altcoins #bitcoin', \"['cryptocurrency', 'price', 'OKX', 'LDN', 'MILO', 'ZBC', 'VELO', 'EM', 'crypto', 'cryptonews', 'cryptoAlerts', 'blockchain', 'cryptotrading', 'cryptoprices', 'altcoins', 'bitcoin']\", 'Crypto Frog', 'False']\n",
      "Skipping row due to insufficient columns: ['👉https://t.co/XsdBPI7qf6']\n",
      "Skipping row due to insufficient columns: ['$LDN 3.48%']\n",
      "Skipping row due to insufficient columns: ['$ROAD 0.69%']\n",
      "Skipping row due to insufficient columns: ['$BAL 0.43%']\n",
      "Skipping row due to insufficient columns: ['$ANC 0.37%']\n",
      "Skipping row due to insufficient columns: ['$CFG 0.36%']\n",
      "Skipping row due to insufficient columns: [' #LDN #ROAD #BAL #ANC #CFG #crypto #cryptonews #cryptoAlerts #blockchain  #cryptotrading #cryptoprices #altcoins #bitcoin', \"['cryptocurrency', 'price', 'OKX', 'LDN', 'ROAD', 'BAL', 'ANC', 'CFG', 'crypto', 'cryptonews', 'cryptoAlerts', 'blockchain', 'cryptotrading', 'cryptoprices', 'altcoins', 'bitcoin']\", 'Crypto Frog', 'False']\n"
     ]
    },
    {
     "name": "stderr",
     "output_type": "stream",
     "text": [
      "Preprocessing tweets: 23652it [00:08, 3026.76it/s]"
     ]
    },
    {
     "name": "stdout",
     "output_type": "stream",
     "text": [
      "Skipping row due to insufficient columns: ['👉https://t.co/dwh8jR9uho']\n",
      "Skipping row due to insufficient columns: ['$GMM 3.2%']\n",
      "Skipping row due to insufficient columns: ['$AGIX 1.52%']\n",
      "Skipping row due to insufficient columns: ['$MILO 1.38%']\n",
      "Skipping row due to insufficient columns: ['$GOAL 0.75%']\n",
      "Skipping row due to insufficient columns: ['$SNX 0.73%']\n",
      "Skipping row due to insufficient columns: [' #GMM #AGIX #MILO #GOAL #SNX #crypto #cryptonews #cryptoAlerts #blockchain  #cryptotrading #cryptoprices #altcoins #bitcoin', \"['cryptocurrency', 'price', 'GateIo', 'GMM', 'AGIX', 'MILO', 'GOAL', 'SNX', 'crypto', 'cryptonews', 'cryptoAlerts', 'blockchain', 'cryptotrading', 'cryptoprices', 'altcoins', 'bitcoin']\", 'Crypto Frog', 'False']\n",
      "Skipping row due to insufficient columns: ['👉https://t.co/dwh8jR9uho']\n",
      "Skipping row due to insufficient columns: ['$FROG 3.1%']\n",
      "Skipping row due to insufficient columns: ['$XTAG 1.01%']\n",
      "Skipping row due to insufficient columns: ['$ORB 0.74%']\n",
      "Skipping row due to insufficient columns: ['$ALI 0.65%']\n",
      "Skipping row due to insufficient columns: ['$BTO 0.61%']\n",
      "Skipping row due to insufficient columns: [' #FROG #XTAG #ORB #ALI #BTO #crypto #cryptonews #cryptoAlerts #blockchain  #cryptotrading #cryptoprices #altcoins #bitcoin', \"['cryptocurrency', 'price', 'GateIo', 'FROG', 'XTAG', 'ORB', 'ALI', 'BTO', 'crypto', 'cryptonews', 'cryptoAlerts', 'blockchain', 'cryptotrading', 'cryptoprices', 'altcoins', 'bitcoin']\", 'Crypto Frog', 'False']\n",
      "Skipping row due to insufficient columns: ['👉https://t.co/dwh8jR9uho']\n",
      "Skipping row due to insufficient columns: ['$SNTR 4.91%']\n",
      "Skipping row due to insufficient columns: ['$DYP 0.46%']\n",
      "Skipping row due to insufficient columns: ['$GST 0.42%']\n",
      "Skipping row due to insufficient columns: ['$GBPT 0.3%']\n",
      "Skipping row due to insufficient columns: [' #SNTR #DYP #GST #GBPT #crypto #cryptonews #cryptoAlerts #blockchain  #cryptotrading #cryptoprices #altcoins #bitcoin', \"['cryptocurrency', 'price', 'GateIo', 'SNTR', 'DYP', 'GST', 'GBPT', 'crypto', 'cryptonews', 'cryptoAlerts', 'blockchain', 'cryptotrading', 'cryptoprices', 'altcoins', 'bitcoin']\", 'Crypto Frog', 'False']\n"
     ]
    },
    {
     "name": "stderr",
     "output_type": "stream",
     "text": [
      "Preprocessing tweets: 24557it [00:08, 2886.52it/s]"
     ]
    },
    {
     "name": "stdout",
     "output_type": "stream",
     "text": [
      "Skipping row due to insufficient columns: ['👉https://t.co/dwh8jR9uho']\n",
      "Skipping row due to insufficient columns: ['$REM 5.19%']\n",
      "Skipping row due to insufficient columns: ['$SOV 1.44%']\n",
      "Skipping row due to insufficient columns: ['$DODO 0.74%']\n",
      "Skipping row due to insufficient columns: ['$CSIX 0.65%']\n",
      "Skipping row due to insufficient columns: ['$GOAL 0.52%']\n",
      "Skipping row due to insufficient columns: [' #REM #SOV #DODO #CSIX #GOAL #crypto #cryptonews #cryptoAlerts #blockchain  #cryptotrading #cryptoprices #altcoins #bitcoin', \"['cryptocurrency', 'price', 'GateIo', 'REM', 'SOV', 'DODO', 'CSIX', 'GOAL', 'crypto', 'cryptonews', 'cryptoAlerts', 'blockchain', 'cryptotrading', 'cryptoprices', 'altcoins', 'bitcoin']\", 'Crypto Frog', 'False']\n",
      "Skipping row due to insufficient columns: ['👉https://t.co/dwh8jR9uho']\n",
      "Skipping row due to insufficient columns: ['$DOG 3.52%']\n",
      "Skipping row due to insufficient columns: ['$TWT 0.86%']\n",
      "Skipping row due to insufficient columns: ['$O3 0.8%']\n",
      "Skipping row due to insufficient columns: ['$SGB 0.79%']\n",
      "Skipping row due to insufficient columns: ['$REALM 0.75%']\n",
      "Skipping row due to insufficient columns: [' #DOG #TWT #O3 #SGB #REALM #crypto #cryptonews #cryptoAlerts #blockchain  #cryptotrading #cryptoprices #altcoins #bitcoin', \"['cryptocurrency', 'price', 'GateIo', 'DOG', 'TWT', 'O3', 'SGB', 'REALM', 'crypto', 'cryptonews', 'cryptoAlerts', 'blockchain', 'cryptotrading', 'cryptoprices', 'altcoins', 'bitcoin']\", 'Crypto Frog', 'False']\n",
      "Skipping row due to insufficient columns: ['👉https://t.co/dwh8jR9uho']\n",
      "Skipping row due to insufficient columns: ['$GO 3.98%']\n",
      "Skipping row due to insufficient columns: ['$ORION 1.18%']\n",
      "Skipping row due to insufficient columns: ['$STG 0.58%']\n",
      "Skipping row due to insufficient columns: ['$CHNG 0.56%']\n",
      "Skipping row due to insufficient columns: ['$TORN 0.54%']\n",
      "Skipping row due to insufficient columns: [' #GO #ORION #STG #CHNG #TORN #crypto #cryptonews #cryptoAlerts #blockchain  #cryptotrading #cryptoprices #altcoins #bitcoin', \"['cryptocurrency', 'price', 'GateIo', 'GO', 'ORION', 'STG', 'CHNG', 'TORN', 'crypto', 'cryptonews', 'cryptoAlerts', 'blockchain', 'cryptotrading', 'cryptoprices', 'altcoins', 'bitcoin']\", 'Crypto Frog', 'False']\n"
     ]
    },
    {
     "name": "stderr",
     "output_type": "stream",
     "text": [
      "Preprocessing tweets: 25157it [00:08, 2940.66it/s]"
     ]
    },
    {
     "name": "stdout",
     "output_type": "stream",
     "text": [
      "Skipping row due to insufficient columns: ['👉https://t.co/XsdBPI7qf6']\n",
      "Skipping row due to insufficient columns: ['$SD 3.42%']\n",
      "Skipping row due to insufficient columns: ['$QOM 0.92%']\n",
      "Skipping row due to insufficient columns: ['$ORS 0.34%']\n",
      "Skipping row due to insufficient columns: ['$LEASH 0.3%']\n",
      "Skipping row due to insufficient columns: [' #SD #QOM #ORS #LEASH #crypto #cryptonews #cryptoAlerts #blockchain  #cryptotrading #cryptoprices #altcoins #bitcoin', \"['cryptocurrency', 'price', 'OKX', 'SD', 'QOM', 'ORS', 'LEASH', 'crypto', 'cryptonews', 'cryptoAlerts', 'blockchain', 'cryptotrading', 'cryptoprices', 'altcoins', 'bitcoin']\", 'Crypto Frog', 'False']\n",
      "Skipping row due to insufficient columns: ['👉https://t.co/dwh8jR9uho']\n",
      "Skipping row due to insufficient columns: ['$ZLK 5.06%']\n",
      "Skipping row due to insufficient columns: ['$STND 1.31%']\n",
      "Skipping row due to insufficient columns: ['$ZONE 0.74%']\n",
      "Skipping row due to insufficient columns: ['$BNX 0.69%']\n",
      "Skipping row due to insufficient columns: ['$GMX 0.62%']\n",
      "Skipping row due to insufficient columns: [' #ZLK #STND #ZONE #BNX #GMX #crypto #cryptonews #cryptoAlerts #blockchain  #cryptotrading #cryptoprices #altcoins #bitcoin', \"['cryptocurrency', 'price', 'GateIo', 'ZLK', 'STND', 'ZONE', 'BNX', 'GMX', 'crypto', 'cryptonews', 'cryptoAlerts', 'blockchain', 'cryptotrading', 'cryptoprices', 'altcoins', 'bitcoin']\", 'Crypto Frog', 'False']\n",
      "Skipping row due to insufficient columns: ['👉https://t.co/dwh8jR9uho']\n",
      "Skipping row due to insufficient columns: ['$TXT 3.8%']\n",
      "Skipping row due to insufficient columns: ['$POP 0.74%']\n",
      "Skipping row due to insufficient columns: ['$QRDO 0.66%']\n",
      "Skipping row due to insufficient columns: ['$GAFI 0.37%']\n",
      "Skipping row due to insufficient columns: ['$GOAL 0.36%']\n",
      "Skipping row due to insufficient columns: [' #TXT #POP #QRDO #GAFI #GOAL #crypto #cryptonews #cryptoAlerts #blockchain  #cryptotrading #cryptoprices #altcoins #bitcoin', \"['cryptocurrency', 'price', 'GateIo', 'TXT', 'POP', 'QRDO', 'GAFI', 'GOAL', 'crypto', 'cryptonews', 'cryptoAlerts', 'blockchain', 'cryptotrading', 'cryptoprices', 'altcoins', 'bitcoin']\", 'Crypto Frog', 'False']\n",
      "Skipping row due to insufficient columns: ['👉https://t.co/AdJlZWUXsw']\n",
      "Skipping row due to insufficient columns: ['$DUX 9.85%']\n",
      "Skipping row due to insufficient columns: ['$NBS 0.32%']\n",
      "Skipping row due to insufficient columns: ['$OGN 0.3%']\n",
      "Skipping row due to insufficient columns: [' #DUX #NBS #OGN #crypto #cryptonews #cryptoAlerts #blockchain  #cryptotrading #cryptoprices #altcoins #bitcoin', \"['cryptocurrency', 'price', 'MEXC', 'DUX', 'NBS', 'OGN', 'crypto', 'cryptonews', 'cryptoAlerts', 'blockchain', 'cryptotrading', 'cryptoprices', 'altcoins', 'bitcoin']\", 'Crypto Frog', 'False']\n",
      "Skipping row due to insufficient columns: ['Coin: $ATX']\n",
      "Skipping row due to insufficient columns: ['Pairs:']\n",
      "Skipping row due to insufficient columns: ['#ATX/#USDT']\n",
      "Skipping row due to insufficient columns: ['#newcoinlisting #crypto #cryptonews #cryptoAlerts #altcoins #bitcoin #blockchain #cryptocurrency #cryptotrading', \"['BitMart', 'ATX', 'USDT', 'newcoinlisting', 'crypto', 'cryptonews', 'cryptoAlerts', 'altcoins', 'bitcoin', 'blockchain', 'cryptocurrency', 'cryptotrading']\", 'CoinListingBot', 'False']\n",
      "Skipping row due to insufficient columns: ['Coin: $CBYTE']\n",
      "Skipping row due to insufficient columns: ['Pairs:']\n",
      "Skipping row due to insufficient columns: ['#CBYTE/#BUSD']\n",
      "Skipping row due to insufficient columns: ['#newcoinlisting #crypto #cryptonews #cryptoAlerts #altcoins #bitcoin #blockchain #cryptocurrency #cryptotrading', \"['Bilaxy', 'CBYTE', 'BUSD', 'newcoinlisting', 'crypto', 'cryptonews', 'cryptoAlerts', 'altcoins', 'bitcoin', 'blockchain', 'cryptocurrency', 'cryptotrading']\", 'CoinListingBot', 'False']\n"
     ]
    },
    {
     "name": "stderr",
     "output_type": "stream",
     "text": [
      "Preprocessing tweets: 26076it [00:08, 2965.05it/s]"
     ]
    },
    {
     "name": "stdout",
     "output_type": "stream",
     "text": [
      "Skipping row due to insufficient columns: ['👉https://t.co/dwh8jR9uho']\n",
      "Skipping row due to insufficient columns: ['$TXT 4.37%']\n",
      "Skipping row due to insufficient columns: ['$CORE 1.06%']\n",
      "Skipping row due to insufficient columns: ['$LDO 0.89%']\n",
      "Skipping row due to insufficient columns: ['$VEGA 0.79%']\n",
      "Skipping row due to insufficient columns: ['$FXS 0.69%']\n",
      "Skipping row due to insufficient columns: [' #TXT #CORE #LDO #VEGA #FXS #crypto #cryptonews #cryptoAlerts #blockchain  #cryptotrading #cryptoprices #altcoins #bitcoin', \"['cryptocurrency', 'price', 'GateIo', 'TXT', 'CORE', 'LDO', 'VEGA', 'FXS', 'crypto', 'cryptonews', 'cryptoAlerts', 'blockchain', 'cryptotrading', 'cryptoprices', 'altcoins', 'bitcoin']\", 'Crypto Frog', 'False']\n",
      "Skipping row due to insufficient columns: ['👉https://t.co/AdJlZWUXsw']\n",
      "Skipping row due to insufficient columns: ['$IMGNAI 3.82%']\n",
      "Skipping row due to insufficient columns: ['$ORT 1.31%']\n",
      "Skipping row due to insufficient columns: ['$TOKE 0.76%']\n",
      "Skipping row due to insufficient columns: [' #IMGNAI #ORT #TOKE #crypto #cryptonews #cryptoAlerts #blockchain  #cryptotrading #cryptoprices #altcoins #bitcoin', \"['cryptocurrency', 'price', 'MEXC', 'IMGNAI', 'ORT', 'TOKE', 'crypto', 'cryptonews', 'cryptoAlerts', 'blockchain', 'cryptotrading', 'cryptoprices', 'altcoins', 'bitcoin']\", 'Crypto Frog', 'False']\n",
      "Skipping row due to insufficient columns: ['👉https://t.co/dwh8jR9uho']\n",
      "Skipping row due to insufficient columns: ['$ZONE 10.2%']\n",
      "Skipping row due to insufficient columns: ['$DC 0.72%']\n",
      "Skipping row due to insufficient columns: ['$ISP 0.42%']\n",
      "Skipping row due to insufficient columns: ['$AXL 0.36%']\n",
      "Skipping row due to insufficient columns: ['$FTRB 0.35%']\n",
      "Skipping row due to insufficient columns: [' #ZONE #DC #ISP #AXL #FTRB #crypto #cryptonews #cryptoAlerts #blockchain  #cryptotrading #cryptoprices #altcoins #bitcoin', \"['cryptocurrency', 'price', 'GateIo', 'ZONE', 'DC', 'ISP', 'AXL', 'FTRB', 'crypto', 'cryptonews', 'cryptoAlerts', 'blockchain', 'cryptotrading', 'cryptoprices', 'altcoins', 'bitcoin']\", 'Crypto Frog', 'False']\n",
      "Skipping row due to insufficient columns: ['👉https://t.co/dwh8jR9uho']\n",
      "Skipping row due to insufficient columns: ['$GOAL 4.05%']\n",
      "Skipping row due to insufficient columns: ['$JAM 2.62%']\n",
      "Skipping row due to insufficient columns: ['$HOD 1.28%']\n",
      "Skipping row due to insufficient columns: ['$ARCX 0.64%']\n",
      "Skipping row due to insufficient columns: ['$POR 0.52%']\n",
      "Skipping row due to insufficient columns: [' #GOAL #JAM #HOD #ARCX #POR #crypto #cryptonews #cryptoAlerts #blockchain  #cryptotrading #cryptoprices #altcoins #bitcoin', \"['cryptocurrency', 'price', 'GateIo', 'GOAL', 'JAM', 'HOD', 'ARCX', 'POR', 'crypto', 'cryptonews', 'cryptoAlerts', 'blockchain', 'cryptotrading', 'cryptoprices', 'altcoins', 'bitcoin']\", 'Crypto Frog', 'False']\n"
     ]
    },
    {
     "name": "stderr",
     "output_type": "stream",
     "text": [
      "Preprocessing tweets: 27600it [00:09, 3017.60it/s]"
     ]
    },
    {
     "name": "stdout",
     "output_type": "stream",
     "text": [
      "Skipping row due to insufficient columns: ['👉https://t.co/dwh8jR9uho']\n",
      "Skipping row due to insufficient columns: ['$PSP 4.61%']\n",
      "Skipping row due to insufficient columns: ['$ANGLE 1.14%']\n",
      "Skipping row due to insufficient columns: ['$FAME 0.74%']\n",
      "Skipping row due to insufficient columns: ['$PHA 0.71%']\n",
      "Skipping row due to insufficient columns: ['$ACH 0.58%']\n",
      "Skipping row due to insufficient columns: [' #PSP #ANGLE #FAME #PHA #ACH #crypto #cryptonews #cryptoAlerts #blockchain  #cryptotrading #cryptoprices #altcoins #bitcoin', \"['cryptocurrency', 'price', 'GateIo', 'PSP', 'ANGLE', 'FAME', 'PHA', 'ACH', 'crypto', 'cryptonews', 'cryptoAlerts', 'blockchain', 'cryptotrading', 'cryptoprices', 'altcoins', 'bitcoin']\", 'Crypto Frog', 'False']\n",
      "Skipping row due to insufficient columns: ['Coin: $MEPAD']\n",
      "Skipping row due to insufficient columns: ['Pairs:']\n",
      "Skipping row due to insufficient columns: ['#MEPAD/#USDT']\n",
      "Skipping row due to insufficient columns: ['#newcoinlisting #crypto #cryptonews #cryptoAlerts #altcoins #bitcoin #blockchain #cryptocurrency #cryptotrading', \"['BitMart', 'MEPAD', 'USDT', 'newcoinlisting', 'crypto', 'cryptonews', 'cryptoAlerts', 'altcoins', 'bitcoin', 'blockchain', 'cryptocurrency', 'cryptotrading']\", 'CoinListingBot', 'False']\n"
     ]
    },
    {
     "name": "stderr",
     "output_type": "stream",
     "text": [
      "Preprocessing tweets: 28499it [00:09, 2944.75it/s]"
     ]
    },
    {
     "name": "stdout",
     "output_type": "stream",
     "text": [
      "Skipping row due to insufficient columns: ['👉https://t.co/dwh8jR9uho']\n",
      "Skipping row due to insufficient columns: ['$BYN 5.77%']\n",
      "Skipping row due to insufficient columns: ['$RLC 1.17%']\n",
      "Skipping row due to insufficient columns: ['$CREDIT 0.77%']\n",
      "Skipping row due to insufficient columns: ['$UOS 0.76%']\n",
      "Skipping row due to insufficient columns: ['$ISP 0.73%']\n",
      "Skipping row due to insufficient columns: [' #BYN #RLC #CREDIT #UOS #ISP #crypto #cryptonews #cryptoAlerts #blockchain  #cryptotrading #cryptoprices #altcoins #bitcoin', \"['cryptocurrency', 'price', 'GateIo', 'BYN', 'RLC', 'CREDIT', 'UOS', 'ISP', 'crypto', 'cryptonews', 'cryptoAlerts', 'blockchain', 'cryptotrading', 'cryptoprices', 'altcoins', 'bitcoin']\", 'Crypto Frog', 'False']\n"
     ]
    },
    {
     "name": "stderr",
     "output_type": "stream",
     "text": [
      "Preprocessing tweets: 29137it [00:09, 3062.40it/s]"
     ]
    },
    {
     "name": "stdout",
     "output_type": "stream",
     "text": [
      "Skipping row due to insufficient columns: ['👉https://t.co/dwh8jR9uho']\n",
      "Skipping row due to insufficient columns: ['$ICONS 3.7%']\n",
      "Skipping row due to insufficient columns: ['$SRM 1.24%']\n",
      "Skipping row due to insufficient columns: ['$HAM 0.79%']\n",
      "Skipping row due to insufficient columns: ['$AGIX 0.78%']\n",
      "Skipping row due to insufficient columns: ['$MXC 0.6%']\n",
      "Skipping row due to insufficient columns: [' #ICONS #SRM #HAM #AGIX #MXC #crypto #cryptonews #cryptoAlerts #blockchain  #cryptotrading #cryptoprices #altcoins #bitcoin', \"['cryptocurrency', 'price', 'GateIo', 'ICONS', 'SRM', 'HAM', 'AGIX', 'MXC', 'crypto', 'cryptonews', 'cryptoAlerts', 'blockchain', 'cryptotrading', 'cryptoprices', 'altcoins', 'bitcoin']\", 'Crypto Frog', 'False']\n",
      "Skipping row due to insufficient columns: ['👉https://t.co/dwh8jR9uho']\n",
      "Skipping row due to insufficient columns: ['$KFT 3.92%']\n",
      "Skipping row due to insufficient columns: ['$GGG 1.24%']\n",
      "Skipping row due to insufficient columns: ['$LINA 0.71%']\n",
      "Skipping row due to insufficient columns: ['$REN 0.59%']\n",
      "Skipping row due to insufficient columns: ['$APT 0.48%']\n",
      "Skipping row due to insufficient columns: [' #KFT #GGG #LINA #REN #APT #crypto #cryptonews #cryptoAlerts #blockchain  #cryptotrading #cryptoprices #altcoins #bitcoin', \"['cryptocurrency', 'price', 'GateIo', 'KFT', 'GGG', 'LINA', 'REN', 'APT', 'crypto', 'cryptonews', 'cryptoAlerts', 'blockchain', 'cryptotrading', 'cryptoprices', 'altcoins', 'bitcoin']\", 'Crypto Frog', 'False']\n",
      "Skipping row due to insufficient columns: ['👉https://t.co/dwh8jR9uho']\n",
      "Skipping row due to insufficient columns: ['$MTS 3.04%']\n",
      "Skipping row due to insufficient columns: ['$TOMI 2.24%']\n",
      "Skipping row due to insufficient columns: ['$AKITA 1.14%']\n",
      "Skipping row due to insufficient columns: ['$GOZ 0.67%']\n",
      "Skipping row due to insufficient columns: ['$STX 0.52%']\n",
      "Skipping row due to insufficient columns: [' #MTS #TOMI #AKITA #GOZ #STX #crypto #cryptonews #cryptoAlerts #blockchain  #cryptotrading #cryptoprices #altcoins #bitcoin', \"['cryptocurrency', 'price', 'GateIo', 'MTS', 'TOMI', 'AKITA', 'GOZ', 'STX', 'crypto', 'cryptonews', 'cryptoAlerts', 'blockchain', 'cryptotrading', 'cryptoprices', 'altcoins', 'bitcoin']\", 'Crypto Frog', 'False']\n"
     ]
    },
    {
     "name": "stderr",
     "output_type": "stream",
     "text": [
      "Preprocessing tweets: 29775it [00:10, 3126.75it/s]"
     ]
    },
    {
     "name": "stdout",
     "output_type": "stream",
     "text": [
      "Skipping row due to insufficient columns: ['👉https://t.co/dwh8jR9uho']\n",
      "Skipping row due to insufficient columns: ['$DMS 3.32%']\n",
      "Skipping row due to insufficient columns: ['$BNC 1.45%']\n",
      "Skipping row due to insufficient columns: ['$NVIR 0.71%']\n",
      "Skipping row due to insufficient columns: ['$ALU 0.53%']\n",
      "Skipping row due to insufficient columns: ['$DOME 0.47%']\n",
      "Skipping row due to insufficient columns: [' #DMS #BNC #NVIR #ALU #DOME #crypto #cryptonews #cryptoAlerts #blockchain  #cryptotrading #cryptoprices #altcoins #bitcoin', \"['cryptocurrency', 'price', 'GateIo', 'DMS', 'BNC', 'NVIR', 'ALU', 'DOME', 'crypto', 'cryptonews', 'cryptoAlerts', 'blockchain', 'cryptotrading', 'cryptoprices', 'altcoins', 'bitcoin']\", 'Crypto Frog', 'False']\n",
      "Skipping row due to insufficient columns: ['👉https://t.co/dwh8jR9uho']\n",
      "Skipping row due to insufficient columns: ['$HAM 3.42%']\n",
      "Skipping row due to insufficient columns: ['$CSTR 1.36%']\n",
      "Skipping row due to insufficient columns: ['$KART 1.15%']\n",
      "Skipping row due to insufficient columns: ['$DOME 0.74%']\n",
      "Skipping row due to insufficient columns: ['$IMX 0.74%']\n",
      "Skipping row due to insufficient columns: [' #HAM #CSTR #KART #DOME #IMX #crypto #cryptonews #cryptoAlerts #blockchain  #cryptotrading #cryptoprices #altcoins #bitcoin', \"['cryptocurrency', 'price', 'GateIo', 'HAM', 'CSTR', 'KART', 'DOME', 'IMX', 'crypto', 'cryptonews', 'cryptoAlerts', 'blockchain', 'cryptotrading', 'cryptoprices', 'altcoins', 'bitcoin']\", 'Crypto Frog', 'False']\n",
      "Skipping row due to insufficient columns: ['👉https://t.co/dwh8jR9uho']\n",
      "Skipping row due to insufficient columns: ['$CRF 4.2%']\n",
      "Skipping row due to insufficient columns: ['$STX 1.1%']\n",
      "Skipping row due to insufficient columns: ['$GOAL 0.87%']\n",
      "Skipping row due to insufficient columns: ['$RNDR 0.81%']\n",
      "Skipping row due to insufficient columns: ['$ALU 0.73%']\n",
      "Skipping row due to insufficient columns: [' #CRF #STX #GOAL #RNDR #ALU #crypto #cryptonews #cryptoAlerts #blockchain  #cryptotrading #cryptoprices #altcoins #bitcoin', \"['cryptocurrency', 'price', 'GateIo', 'CRF', 'STX', 'GOAL', 'RNDR', 'ALU', 'crypto', 'cryptonews', 'cryptoAlerts', 'blockchain', 'cryptotrading', 'cryptoprices', 'altcoins', 'bitcoin']\", 'Crypto Frog', 'False']\n",
      "Skipping row due to insufficient columns: ['👉https://t.co/dwh8jR9uho']\n",
      "Skipping row due to insufficient columns: ['$ADP 3.28%']\n",
      "Skipping row due to insufficient columns: ['$FLUX 0.74%']\n",
      "Skipping row due to insufficient columns: ['$ACH 0.48%']\n",
      "Skipping row due to insufficient columns: ['$KFT 0.43%']\n",
      "Skipping row due to insufficient columns: ['$BNX 0.33%']\n",
      "Skipping row due to insufficient columns: [' #ADP #FLUX #ACH #KFT #BNX #crypto #cryptonews #cryptoAlerts #blockchain  #cryptotrading #cryptoprices #altcoins #bitcoin', \"['cryptocurrency', 'price', 'GateIo', 'ADP', 'FLUX', 'ACH', 'KFT', 'BNX', 'crypto', 'cryptonews', 'cryptoAlerts', 'blockchain', 'cryptotrading', 'cryptoprices', 'altcoins', 'bitcoin']\", 'Crypto Frog', 'False']\n",
      "Skipping row due to insufficient columns: ['👉https://t.co/XsdBPI7qf6']\n",
      "Skipping row due to insufficient columns: ['$CMT 10.93%']\n",
      "Skipping row due to insufficient columns: ['$FAME 0.78%']\n",
      "Skipping row due to insufficient columns: ['$CQT 0.56%']\n",
      "Skipping row due to insufficient columns: ['$CHE 0.33%']\n",
      "Skipping row due to insufficient columns: ['$PSTAKE 0.31%']\n",
      "Skipping row due to insufficient columns: [' #CMT #FAME #CQT #CHE #PSTAKE #crypto #cryptonews #cryptoAlerts #blockchain  #cryptotrading #cryptoprices #altcoins #bitcoin', \"['cryptocurrency', 'price', 'OKX', 'CMT', 'FAME', 'CQT', 'CHE', 'PSTAKE', 'crypto', 'cryptonews', 'cryptoAlerts', 'blockchain', 'cryptotrading', 'cryptoprices', 'altcoins', 'bitcoin']\", 'Crypto Frog', 'False']\n"
     ]
    },
    {
     "name": "stderr",
     "output_type": "stream",
     "text": [
      "Preprocessing tweets: 30701it [00:10, 2969.42it/s]"
     ]
    },
    {
     "name": "stdout",
     "output_type": "stream",
     "text": [
      "Skipping row due to insufficient columns: ['👉https://t.co/XsdBPI7qf6']\n",
      "Skipping row due to insufficient columns: ['$KCASH 5.49%']\n",
      "Skipping row due to insufficient columns: ['$VELO 0.71%']\n",
      "Skipping row due to insufficient columns: ['$MDT 0.5%']\n",
      "Skipping row due to insufficient columns: ['$ARG 0.44%']\n",
      "Skipping row due to insufficient columns: ['$CELT 0.41%']\n",
      "Skipping row due to insufficient columns: [' #KCASH #VELO #MDT #ARG #CELT #crypto #cryptonews #cryptoAlerts #blockchain  #cryptotrading #cryptoprices #altcoins #bitcoin', \"['cryptocurrency', 'price', 'OKX', 'KCASH', 'VELO', 'MDT', 'ARG', 'CELT', 'crypto', 'cryptonews', 'cryptoAlerts', 'blockchain', 'cryptotrading', 'cryptoprices', 'altcoins', 'bitcoin']\", 'Crypto Frog', 'False']\n",
      "Skipping row due to insufficient columns: ['👉https://t.co/dwh8jR9uho']\n",
      "Skipping row due to insufficient columns: ['$ALU 3.1%']\n",
      "Skipping row due to insufficient columns: ['$LUNR 2.37%']\n",
      "Skipping row due to insufficient columns: ['$PAW 0.76%']\n",
      "Skipping row due to insufficient columns: ['$MDT 0.72%']\n",
      "Skipping row due to insufficient columns: ['$PERP 0.65%']\n",
      "Skipping row due to insufficient columns: [' #ALU #LUNR #PAW #MDT #PERP #crypto #cryptonews #cryptoAlerts #blockchain  #cryptotrading #cryptoprices #altcoins #bitcoin', \"['cryptocurrency', 'price', 'GateIo', 'ALU', 'LUNR', 'PAW', 'MDT', 'PERP', 'crypto', 'cryptonews', 'cryptoAlerts', 'blockchain', 'cryptotrading', 'cryptoprices', 'altcoins', 'bitcoin']\", 'Crypto Frog', 'False']\n",
      "Skipping row due to insufficient columns: ['👉https://t.co/dwh8jR9uho']\n",
      "Skipping row due to insufficient columns: ['$ZTG 3.55%']\n",
      "Skipping row due to insufficient columns: ['$CELT 0.95%']\n",
      "Skipping row due to insufficient columns: ['$BNC 0.57%']\n",
      "Skipping row due to insufficient columns: ['$SFUND 0.51%']\n",
      "Skipping row due to insufficient columns: ['$HSF 0.51%']\n",
      "Skipping row due to insufficient columns: [' #ZTG #CELT #BNC #SFUND #HSF #crypto #cryptonews #cryptoAlerts #blockchain  #cryptotrading #cryptoprices #altcoins #bitcoin', \"['cryptocurrency', 'price', 'GateIo', 'ZTG', 'CELT', 'BNC', 'SFUND', 'HSF', 'crypto', 'cryptonews', 'cryptoAlerts', 'blockchain', 'cryptotrading', 'cryptoprices', 'altcoins', 'bitcoin']\", 'Crypto Frog', 'False']\n"
     ]
    },
    {
     "name": "stderr",
     "output_type": "stream",
     "text": [
      "Preprocessing tweets: 31291it [00:10, 2879.21it/s]"
     ]
    },
    {
     "name": "stdout",
     "output_type": "stream",
     "text": [
      "Skipping row due to insufficient columns: ['👉https://t.co/XsdBPI7qf6']\n",
      "Skipping row due to insufficient columns: ['$ZYRO 4.58%']\n",
      "Skipping row due to insufficient columns: ['$CNTM 1.56%']\n",
      "Skipping row due to insufficient columns: ['$LBA 0.81%']\n",
      "Skipping row due to insufficient columns: ['$DEVT 0.69%']\n",
      "Skipping row due to insufficient columns: ['$BZZ 0.5%']\n",
      "Skipping row due to insufficient columns: [' #ZYRO #CNTM #LBA #DEVT #BZZ #crypto #cryptonews #cryptoAlerts #blockchain  #cryptotrading #cryptoprices #altcoins #bitcoin', \"['cryptocurrency', 'price', 'OKX', 'ZYRO', 'CNTM', 'LBA', 'DEVT', 'BZZ', 'crypto', 'cryptonews', 'cryptoAlerts', 'blockchain', 'cryptotrading', 'cryptoprices', 'altcoins', 'bitcoin']\", 'Crypto Frog', 'False']\n",
      "Skipping row due to insufficient columns: ['👉https://t.co/XsdBPI7qf6']\n",
      "Skipping row due to insufficient columns: ['$LDN 3.11%']\n",
      "Skipping row due to insufficient columns: ['$MDT 1.73%']\n",
      "Skipping row due to insufficient columns: ['$CONV 1.54%']\n",
      "Skipping row due to insufficient columns: ['$AKITA 0.57%']\n",
      "Skipping row due to insufficient columns: ['$KOL 0.57%']\n",
      "Skipping row due to insufficient columns: [' #LDN #MDT #CONV #AKITA #KOL #crypto #cryptonews #cryptoAlerts #blockchain  #cryptotrading #cryptoprices #altcoins #bitcoin', \"['cryptocurrency', 'price', 'OKX', 'LDN', 'MDT', 'CONV', 'AKITA', 'KOL', 'crypto', 'cryptonews', 'cryptoAlerts', 'blockchain', 'cryptotrading', 'cryptoprices', 'altcoins', 'bitcoin']\", 'Crypto Frog', 'False']\n",
      "Skipping row due to insufficient columns: ['Coin: $LQTY']\n",
      "Skipping row due to insufficient columns: ['Pairs:']\n",
      "Skipping row due to insufficient columns: ['#LQTY/#USDT']\n",
      "Skipping row due to insufficient columns: ['#LQTY/#BTC']\n",
      "Skipping row due to insufficient columns: ['#newcoinlisting #crypto #cryptonews #cryptoAlerts #altcoins #bitcoin #blockchain #cryptocurrency #cryptotrading', \"['CoinDCX', 'LQTY', 'USDT', 'LQTY', 'BTC', 'newcoinlisting', 'crypto', 'cryptonews', 'cryptoAlerts', 'altcoins', 'bitcoin', 'blockchain', 'cryptocurrency', 'cryptotrading']\", 'CoinListingBot', 'False']\n",
      "Skipping row due to insufficient columns: ['Coin: $BNBTIGER']\n",
      "Skipping row due to insufficient columns: ['Pairs:']\n",
      "Skipping row due to insufficient columns: ['#BNBTIGER/#USDT']\n",
      "Skipping row due to insufficient columns: ['#newcoinlisting #crypto #cryptonews #cryptoAlerts #altcoins #bitcoin #blockchain #cryptocurrency #cryptotrading', \"['BKEX', 'BNBTIGER', 'USDT', 'newcoinlisting', 'crypto', 'cryptonews', 'cryptoAlerts', 'altcoins', 'bitcoin', 'blockchain', 'cryptocurrency', 'cryptotrading']\", 'CoinListingBot', 'False']\n"
     ]
    },
    {
     "name": "stderr",
     "output_type": "stream",
     "text": [
      "Preprocessing tweets: 32188it [00:10, 2922.87it/s]"
     ]
    },
    {
     "name": "stdout",
     "output_type": "stream",
     "text": [
      "Skipping row due to insufficient columns: ['👉https://t.co/dwh8jR9uho']\n",
      "Skipping row due to insufficient columns: ['$ALPH 3.9%']\n",
      "Skipping row due to insufficient columns: ['$AGIX 0.97%']\n",
      "Skipping row due to insufficient columns: ['$ALU 0.81%']\n",
      "Skipping row due to insufficient columns: ['$ADP 0.74%']\n",
      "Skipping row due to insufficient columns: ['$SOLO 0.69%']\n",
      "Skipping row due to insufficient columns: [' #ALPH #AGIX #ALU #ADP #SOLO #crypto #cryptonews #cryptoAlerts #blockchain  #cryptotrading #cryptoprices #altcoins #bitcoin', \"['cryptocurrency', 'price', 'GateIo', 'ALPH', 'AGIX', 'ALU', 'ADP', 'SOLO', 'crypto', 'cryptonews', 'cryptoAlerts', 'blockchain', 'cryptotrading', 'cryptoprices', 'altcoins', 'bitcoin']\", 'Crypto Frog', 'False']\n",
      "Skipping row due to insufficient columns: ['Coin: $DYDX']\n",
      "Skipping row due to insufficient columns: ['Pairs:']\n",
      "Skipping row due to insufficient columns: ['#DYDX/#USDT']\n",
      "Skipping row due to insufficient columns: ['#DYDX/#BTC']\n",
      "Skipping row due to insufficient columns: ['#newcoinlisting #crypto #cryptonews #cryptoAlerts #altcoins #bitcoin #blockchain #cryptocurrency #cryptotrading', \"['DexTrade', 'DYDX', 'USDT', 'DYDX', 'BTC', 'newcoinlisting', 'crypto', 'cryptonews', 'cryptoAlerts', 'altcoins', 'bitcoin', 'blockchain', 'cryptocurrency', 'cryptotrading']\", 'CoinListingBot', 'False']\n",
      "Skipping row due to insufficient columns: ['👉https://t.co/XsdBPI7qf6']\n",
      "Skipping row due to insufficient columns: ['$TRADE 7.24%']\n",
      "Skipping row due to insufficient columns: ['$SNT 1.05%']\n",
      "Skipping row due to insufficient columns: ['$ZBC 0.44%']\n",
      "Skipping row due to insufficient columns: ['$VELO 0.38%']\n",
      "Skipping row due to insufficient columns: ['$PIT 0.35%']\n",
      "Skipping row due to insufficient columns: [' #TRADE #SNT #ZBC #VELO #PIT #crypto #cryptonews #cryptoAlerts #blockchain  #cryptotrading #cryptoprices #altcoins #bitcoin', \"['cryptocurrency', 'price', 'OKX', 'TRADE', 'SNT', 'ZBC', 'VELO', 'PIT', 'crypto', 'cryptonews', 'cryptoAlerts', 'blockchain', 'cryptotrading', 'cryptoprices', 'altcoins', 'bitcoin']\", 'Crypto Frog', 'False']\n"
     ]
    },
    {
     "name": "stderr",
     "output_type": "stream",
     "text": [
      "Preprocessing tweets: 32780it [00:11, 2918.29it/s]"
     ]
    },
    {
     "name": "stdout",
     "output_type": "stream",
     "text": [
      "Skipping row due to insufficient columns: ['👉https://t.co/dwh8jR9uho']\n",
      "Skipping row due to insufficient columns: ['$WGRT 6.13%']\n",
      "Skipping row due to insufficient columns: ['$RADAR 1.37%']\n",
      "Skipping row due to insufficient columns: ['$ADS 0.52%']\n",
      "Skipping row due to insufficient columns: ['$WOO 0.48%']\n",
      "Skipping row due to insufficient columns: ['$FXS 0.41%']\n",
      "Skipping row due to insufficient columns: [' #WGRT #RADAR #ADS #WOO #FXS #crypto #cryptonews #cryptoAlerts #blockchain  #cryptotrading #cryptoprices #altcoins #bitcoin', \"['cryptocurrency', 'price', 'GateIo', 'WGRT', 'RADAR', 'ADS', 'WOO', 'FXS', 'crypto', 'cryptonews', 'cryptoAlerts', 'blockchain', 'cryptotrading', 'cryptoprices', 'altcoins', 'bitcoin']\", 'Crypto Frog', 'False']\n",
      "Skipping row due to insufficient columns: ['👉https://t.co/XsdBPI7qf6']\n",
      "Skipping row due to insufficient columns: ['$TOWN 4.11%']\n",
      "Skipping row due to insufficient columns: ['$ZKS 2.46%']\n",
      "Skipping row due to insufficient columns: ['$CFX 0.66%']\n",
      "Skipping row due to insufficient columns: ['$SLP 0.62%']\n",
      "Skipping row due to insufficient columns: ['$CSPR 0.58%']\n",
      "Skipping row due to insufficient columns: [' #TOWN #ZKS #CFX #SLP #CSPR #crypto #cryptonews #cryptoAlerts #blockchain  #cryptotrading #cryptoprices #altcoins #bitcoin', \"['cryptocurrency', 'price', 'OKX', 'TOWN', 'ZKS', 'CFX', 'SLP', 'CSPR', 'crypto', 'cryptonews', 'cryptoAlerts', 'blockchain', 'cryptotrading', 'cryptoprices', 'altcoins', 'bitcoin']\", 'Crypto Frog', 'False']\n"
     ]
    },
    {
     "name": "stderr",
     "output_type": "stream",
     "text": [
      "Preprocessing tweets: 34266it [00:11, 2900.93it/s]"
     ]
    },
    {
     "name": "stdout",
     "output_type": "stream",
     "text": [
      "Skipping row due to insufficient columns: ['👉https://t.co/AdJlZWUXsw']\n",
      "Skipping row due to insufficient columns: ['$LBA 3.65%']\n",
      "Skipping row due to insufficient columns: ['$QRDO 0.47%']\n",
      "Skipping row due to insufficient columns: ['$BONE 0.42%']\n",
      "Skipping row due to insufficient columns: [' #LBA #QRDO #BONE #crypto #cryptonews #cryptoAlerts #blockchain  #cryptotrading #cryptoprices #altcoins #bitcoin', \"['cryptocurrency', 'price', 'MEXC', 'LBA', 'QRDO', 'BONE', 'crypto', 'cryptonews', 'cryptoAlerts', 'blockchain', 'cryptotrading', 'cryptoprices', 'altcoins', 'bitcoin']\", 'Crypto Frog', 'False']\n",
      "Skipping row due to insufficient columns: ['👉https://t.co/YFfSerrmK2']\n",
      "Skipping row due to insufficient columns: ['$GRAIL 3.01%']\n",
      "Skipping row due to insufficient columns: ['$AMP 0.45%']\n",
      "Skipping row due to insufficient columns: ['$SNT 0.33%']\n",
      "Skipping row due to insufficient columns: [' #GRAIL #AMP #SNT #crypto #cryptonews #cryptoAlerts #blockchain  #cryptotrading #cryptoprices #altcoins #bitcoin', \"['cryptocurrency', 'price', 'Huobi', 'GRAIL', 'AMP', 'SNT', 'crypto', 'cryptonews', 'cryptoAlerts', 'blockchain', 'cryptotrading', 'cryptoprices', 'altcoins', 'bitcoin']\", 'Crypto Frog', 'False']\n",
      "Skipping row due to insufficient columns: ['👉https://t.co/dwh8jR9uho']\n",
      "Skipping row due to insufficient columns: ['$PERA 3.19%']\n",
      "Skipping row due to insufficient columns: ['$LQTY 2.56%']\n",
      "Skipping row due to insufficient columns: ['$EJS 2.42%']\n",
      "Skipping row due to insufficient columns: ['$GST 1.29%']\n",
      "Skipping row due to insufficient columns: ['$RNDR 1.16%']\n",
      "Skipping row due to insufficient columns: [' #PERA #LQTY #EJS #GST #RNDR #crypto #cryptonews #cryptoAlerts #blockchain  #cryptotrading #cryptoprices #altcoins #bitcoin', \"['cryptocurrency', 'price', 'GateIo', 'PERA', 'LQTY', 'EJS', 'GST', 'RNDR', 'crypto', 'cryptonews', 'cryptoAlerts', 'blockchain', 'cryptotrading', 'cryptoprices', 'altcoins', 'bitcoin']\", 'Crypto Frog', 'False']\n",
      "Skipping row due to insufficient columns: ['👉https://t.co/dwh8jR9uho']\n",
      "Skipping row due to insufficient columns: ['$SENC 3.7%']\n",
      "Skipping row due to insufficient columns: ['$ETHF 0.43%']\n",
      "Skipping row due to insufficient columns: ['$WLKN 0.35%']\n",
      "Skipping row due to insufficient columns: ['$STARL 0.33%']\n",
      "Skipping row due to insufficient columns: [' #SENC #ETHF #WLKN #STARL #crypto #cryptonews #cryptoAlerts #blockchain  #cryptotrading #cryptoprices #altcoins #bitcoin', \"['cryptocurrency', 'price', 'GateIo', 'SENC', 'ETHF', 'WLKN', 'STARL', 'crypto', 'cryptonews', 'cryptoAlerts', 'blockchain', 'cryptotrading', 'cryptoprices', 'altcoins', 'bitcoin']\", 'Crypto Frog', 'False']\n"
     ]
    },
    {
     "name": "stderr",
     "output_type": "stream",
     "text": [
      "Preprocessing tweets: 35158it [00:11, 2927.94it/s]"
     ]
    },
    {
     "name": "stdout",
     "output_type": "stream",
     "text": [
      "Skipping row due to insufficient columns: ['👉https://t.co/dwh8jR9uho']\n",
      "Skipping row due to insufficient columns: ['$PKF 3.97%']\n",
      "Skipping row due to insufficient columns: ['$KING 1.85%']\n",
      "Skipping row due to insufficient columns: ['$USTC 0.77%']\n",
      "Skipping row due to insufficient columns: ['$MDT 0.71%']\n",
      "Skipping row due to insufficient columns: ['$GNS 0.65%']\n",
      "Skipping row due to insufficient columns: [' #PKF #KING #USTC #MDT #GNS #crypto #cryptonews #cryptoAlerts #blockchain  #cryptotrading #cryptoprices #altcoins #bitcoin', \"['cryptocurrency', 'price', 'GateIo', 'PKF', 'KING', 'USTC', 'MDT', 'GNS', 'crypto', 'cryptonews', 'cryptoAlerts', 'blockchain', 'cryptotrading', 'cryptoprices', 'altcoins', 'bitcoin']\", 'Crypto Frog', 'False']\n",
      "Skipping row due to insufficient columns: ['👉https://t.co/XsdBPI7qf6']\n",
      "Skipping row due to insufficient columns: ['$CELT 3.46%']\n",
      "Skipping row due to insufficient columns: ['$AZY 1.83%']\n",
      "Skipping row due to insufficient columns: ['$LOOKS 0.59%']\n",
      "Skipping row due to insufficient columns: ['$ERN 0.55%']\n",
      "Skipping row due to insufficient columns: ['$APIX 0.53%']\n",
      "Skipping row due to insufficient columns: [' #CELT #AZY #LOOKS #ERN #APIX #crypto #cryptonews #cryptoAlerts #blockchain  #cryptotrading #cryptoprices #altcoins #bitcoin', \"['cryptocurrency', 'price', 'OKX', 'CELT', 'AZY', 'LOOKS', 'ERN', 'APIX', 'crypto', 'cryptonews', 'cryptoAlerts', 'blockchain', 'cryptotrading', 'cryptoprices', 'altcoins', 'bitcoin']\", 'Crypto Frog', 'False']\n"
     ]
    },
    {
     "name": "stderr",
     "output_type": "stream",
     "text": [
      "Preprocessing tweets: 36102it [00:12, 3032.47it/s]"
     ]
    },
    {
     "name": "stdout",
     "output_type": "stream",
     "text": [
      "Skipping row due to insufficient columns: ['👉https://t.co/XsdBPI7qf6']\n",
      "Skipping row due to insufficient columns: ['$CELT 3.47%']\n",
      "Skipping row due to insufficient columns: ['$AZY 0.96%']\n",
      "Skipping row due to insufficient columns: ['$MDT 0.63%']\n",
      "Skipping row due to insufficient columns: ['$MDA 0.63%']\n",
      "Skipping row due to insufficient columns: ['$DORA 0.38%']\n",
      "Skipping row due to insufficient columns: [' #CELT #AZY #MDT #MDA #DORA #crypto #cryptonews #cryptoAlerts #blockchain  #cryptotrading #cryptoprices #altcoins #bitcoin', \"['cryptocurrency', 'price', 'OKX', 'CELT', 'AZY', 'MDT', 'MDA', 'DORA', 'crypto', 'cryptonews', 'cryptoAlerts', 'blockchain', 'cryptotrading', 'cryptoprices', 'altcoins', 'bitcoin']\", 'Crypto Frog', 'False']\n",
      "Skipping row due to insufficient columns: ['👉https://t.co/dwh8jR9uho']\n",
      "Skipping row due to insufficient columns: ['$SENC 3.99%']\n",
      "Skipping row due to insufficient columns: ['$WEAR 2%']\n",
      "Skipping row due to insufficient columns: ['$ALU 1.49%']\n",
      "Skipping row due to insufficient columns: ['$KING 1.19%']\n",
      "Skipping row due to insufficient columns: ['$ETHF 1.15%']\n",
      "Skipping row due to insufficient columns: [' #SENC #WEAR #ALU #KING #ETHF #crypto #cryptonews #cryptoAlerts #blockchain  #cryptotrading #cryptoprices #altcoins #bitcoin', \"['cryptocurrency', 'price', 'GateIo', 'SENC', 'WEAR', 'ALU', 'KING', 'ETHF', 'crypto', 'cryptonews', 'cryptoAlerts', 'blockchain', 'cryptotrading', 'cryptoprices', 'altcoins', 'bitcoin']\", 'Crypto Frog', 'False']\n",
      "Skipping row due to insufficient columns: ['👉https://t.co/dwh8jR9uho']\n",
      "Skipping row due to insufficient columns: ['$ALPH 3.65%']\n",
      "Skipping row due to insufficient columns: ['$CKB 1.86%']\n",
      "Skipping row due to insufficient columns: ['$DREP 0.6%']\n",
      "Skipping row due to insufficient columns: ['$DC 0.52%']\n",
      "Skipping row due to insufficient columns: ['$SDN 0.48%']\n",
      "Skipping row due to insufficient columns: [' #ALPH #CKB #DREP #DC #SDN #crypto #cryptonews #cryptoAlerts #blockchain  #cryptotrading #cryptoprices #altcoins #bitcoin', \"['cryptocurrency', 'price', 'GateIo', 'ALPH', 'CKB', 'DREP', 'DC', 'SDN', 'crypto', 'cryptonews', 'cryptoAlerts', 'blockchain', 'cryptotrading', 'cryptoprices', 'altcoins', 'bitcoin']\", 'Crypto Frog', 'False']\n",
      "Skipping row due to insufficient columns: ['👉https://t.co/XsdBPI7qf6']\n",
      "Skipping row due to insufficient columns: ['$CNTM 3.86%']\n",
      "Skipping row due to insufficient columns: ['$CHE 1.02%']\n",
      "Skipping row due to insufficient columns: ['$AZY 0.66%']\n",
      "Skipping row due to insufficient columns: ['$EFI 0.42%']\n",
      "Skipping row due to insufficient columns: ['$ELON 0.31%']\n",
      "Skipping row due to insufficient columns: [' #CNTM #CHE #AZY #EFI #ELON #crypto #cryptonews #cryptoAlerts #blockchain  #cryptotrading #cryptoprices #altcoins #bitcoin', \"['cryptocurrency', 'price', 'OKX', 'CNTM', 'CHE', 'AZY', 'EFI', 'ELON', 'crypto', 'cryptonews', 'cryptoAlerts', 'blockchain', 'cryptotrading', 'cryptoprices', 'altcoins', 'bitcoin']\", 'Crypto Frog', 'False']\n",
      "Skipping row due to insufficient columns: ['👉https://t.co/XsdBPI7qf6']\n",
      "Skipping row due to insufficient columns: ['$CELT 3.08%']\n",
      "Skipping row due to insufficient columns: ['$NMR 1%']\n",
      "Skipping row due to insufficient columns: ['$BORA 0.95%']\n",
      "Skipping row due to insufficient columns: ['$AZY 0.36%']\n",
      "Skipping row due to insufficient columns: ['$MOVEZ 0.33%']\n",
      "Skipping row due to insufficient columns: [' #CELT #NMR #BORA #AZY #MOVEZ #crypto #cryptonews #cryptoAlerts #blockchain  #cryptotrading #cryptoprices #altcoins #bitcoin', \"['cryptocurrency', 'price', 'OKX', 'CELT', 'NMR', 'BORA', 'AZY', 'MOVEZ', 'crypto', 'cryptonews', 'cryptoAlerts', 'blockchain', 'cryptotrading', 'cryptoprices', 'altcoins', 'bitcoin']\", 'Crypto Frog', 'False']\n",
      "Skipping row due to insufficient columns: ['Coin: $LQTY']\n",
      "Skipping row due to insufficient columns: ['Pairs:']\n",
      "Skipping row due to insufficient columns: ['#LQTY/#BTC']\n",
      "Skipping row due to insufficient columns: ['#LQTY/#USDT']\n",
      "Skipping row due to insufficient columns: ['#newcoinlisting #crypto #cryptonews #cryptoAlerts #altcoins #bitcoin #blockchain #cryptocurrency #cryptotrading', \"['MandalaExchange', 'LQTY', 'BTC', 'LQTY', 'USDT', 'newcoinlisting', 'crypto', 'cryptonews', 'cryptoAlerts', 'altcoins', 'bitcoin', 'blockchain', 'cryptocurrency', 'cryptotrading']\", 'CoinListingBot', 'False']\n"
     ]
    },
    {
     "name": "stderr",
     "output_type": "stream",
     "text": [
      "Preprocessing tweets: 37074it [00:12, 3164.67it/s]"
     ]
    },
    {
     "name": "stdout",
     "output_type": "stream",
     "text": [
      "Skipping row due to insufficient columns: ['Coin: $REQ']\n",
      "Skipping row due to insufficient columns: ['Pairs:']\n",
      "Skipping row due to insufficient columns: ['#REQ/#USDT']\n",
      "Skipping row due to insufficient columns: ['#newcoinlisting #crypto #cryptonews #cryptoAlerts #altcoins #bitcoin #blockchain #cryptocurrency #cryptotrading', \"['BingX', 'REQ', 'USDT', 'newcoinlisting', 'crypto', 'cryptonews', 'cryptoAlerts', 'altcoins', 'bitcoin', 'blockchain', 'cryptocurrency', 'cryptotrading']\", 'CoinListingBot', 'False']\n",
      "Skipping row due to insufficient columns: ['Coin: $OG']\n",
      "Skipping row due to insufficient columns: ['Pairs:']\n",
      "Skipping row due to insufficient columns: ['#OG/#USDT']\n",
      "Skipping row due to insufficient columns: ['#newcoinlisting #crypto #cryptonews #cryptoAlerts #altcoins #bitcoin #blockchain #cryptocurrency #cryptotrading', \"['BingX', 'OG', 'USDT', 'newcoinlisting', 'crypto', 'cryptonews', 'cryptoAlerts', 'altcoins', 'bitcoin', 'blockchain', 'cryptocurrency', 'cryptotrading']\", 'CoinListingBot', 'False']\n",
      "Skipping row due to insufficient columns: ['Coin: $KAVA']\n",
      "Skipping row due to insufficient columns: ['Pairs:']\n",
      "Skipping row due to insufficient columns: ['#KAVA/#USDT']\n",
      "Skipping row due to insufficient columns: ['#newcoinlisting #crypto #cryptonews #cryptoAlerts #altcoins #bitcoin #blockchain #cryptocurrency #cryptotrading', \"['BingX', 'KAVA', 'USDT', 'newcoinlisting', 'crypto', 'cryptonews', 'cryptoAlerts', 'altcoins', 'bitcoin', 'blockchain', 'cryptocurrency', 'cryptotrading']\", 'CoinListingBot', 'False']\n",
      "Skipping row due to insufficient columns: ['Coin: $LOKA']\n",
      "Skipping row due to insufficient columns: ['Pairs:']\n",
      "Skipping row due to insufficient columns: ['#LOKA/#USDT']\n",
      "Skipping row due to insufficient columns: ['#newcoinlisting #crypto #cryptonews #cryptoAlerts #altcoins #bitcoin #blockchain #cryptocurrency #cryptotrading', \"['BingX', 'LOKA', 'USDT', 'newcoinlisting', 'crypto', 'cryptonews', 'cryptoAlerts', 'altcoins', 'bitcoin', 'blockchain', 'cryptocurrency', 'cryptotrading']\", 'CoinListingBot', 'False']\n",
      "Skipping row due to insufficient columns: ['Coin: $FIO']\n",
      "Skipping row due to insufficient columns: ['Pairs:']\n",
      "Skipping row due to insufficient columns: ['#FIO/#USDT']\n",
      "Skipping row due to insufficient columns: ['#newcoinlisting #crypto #cryptonews #cryptoAlerts #altcoins #bitcoin #blockchain #cryptocurrency #cryptotrading', \"['BingX', 'FIO', 'USDT', 'newcoinlisting', 'crypto', 'cryptonews', 'cryptoAlerts', 'altcoins', 'bitcoin', 'blockchain', 'cryptocurrency', 'cryptotrading']\", 'CoinListingBot', 'False']\n",
      "Skipping row due to insufficient columns: ['Coin: $DREP']\n",
      "Skipping row due to insufficient columns: ['Pairs:']\n",
      "Skipping row due to insufficient columns: ['#DREP/#USDT']\n",
      "Skipping row due to insufficient columns: ['#newcoinlisting #crypto #cryptonews #cryptoAlerts #altcoins #bitcoin #blockchain #cryptocurrency #cryptotrading', \"['BingX', 'DREP', 'USDT', 'newcoinlisting', 'crypto', 'cryptonews', 'cryptoAlerts', 'altcoins', 'bitcoin', 'blockchain', 'cryptocurrency', 'cryptotrading']\", 'CoinListingBot', 'False']\n",
      "Skipping row due to insufficient columns: ['Coin: $DOCK']\n",
      "Skipping row due to insufficient columns: ['Pairs:']\n",
      "Skipping row due to insufficient columns: ['#DOCK/#USDT']\n",
      "Skipping row due to insufficient columns: ['#newcoinlisting #crypto #cryptonews #cryptoAlerts #altcoins #bitcoin #blockchain #cryptocurrency #cryptotrading', \"['BingX', 'DOCK', 'USDT', 'newcoinlisting', 'crypto', 'cryptonews', 'cryptoAlerts', 'altcoins', 'bitcoin', 'blockchain', 'cryptocurrency', 'cryptotrading']\", 'CoinListingBot', 'False']\n",
      "Skipping row due to insufficient columns: ['Coin: $DEXE']\n",
      "Skipping row due to insufficient columns: ['Pairs:']\n",
      "Skipping row due to insufficient columns: ['#DEXE/#USDT']\n",
      "Skipping row due to insufficient columns: ['#newcoinlisting #crypto #cryptonews #cryptoAlerts #altcoins #bitcoin #blockchain #cryptocurrency #cryptotrading', \"['BingX', 'DEXE', 'USDT', 'newcoinlisting', 'crypto', 'cryptonews', 'cryptoAlerts', 'altcoins', 'bitcoin', 'blockchain', 'cryptocurrency', 'cryptotrading']\", 'CoinListingBot', 'False']\n",
      "Skipping row due to insufficient columns: ['👉https://t.co/dwh8jRa26W']\n",
      "Skipping row due to insufficient columns: ['$LQTY 3.22%']\n",
      "Skipping row due to insufficient columns: ['$CAPS 2.43%']\n",
      "Skipping row due to insufficient columns: ['$BNX 0.63%']\n",
      "Skipping row due to insufficient columns: ['$ADP 0.61%']\n",
      "Skipping row due to insufficient columns: ['$MNW 0.59%']\n",
      "Skipping row due to insufficient columns: [' #LQTY #CAPS #BNX #ADP #MNW #crypto #cryptonews #cryptoAlerts #blockchain  #cryptotrading #cryptoprices #altcoins #bitcoin', \"['cryptocurrency', 'price', 'GateIo', 'LQTY', 'CAPS', 'BNX', 'ADP', 'MNW', 'crypto', 'cryptonews', 'cryptoAlerts', 'blockchain', 'cryptotrading', 'cryptoprices', 'altcoins', 'bitcoin']\", 'Crypto Frog', 'False']\n",
      "Skipping row due to insufficient columns: ['Coin: $VITE']\n",
      "Skipping row due to insufficient columns: ['Pairs:']\n",
      "Skipping row due to insufficient columns: ['#VITE/#USDT']\n",
      "Skipping row due to insufficient columns: ['#newcoinlisting #crypto #cryptonews #cryptoAlerts #altcoins #bitcoin #blockchain #cryptocurrency #cryptotrading', \"['BingX', 'VITE', 'USDT', 'newcoinlisting', 'crypto', 'cryptonews', 'cryptoAlerts', 'altcoins', 'bitcoin', 'blockchain', 'cryptocurrency', 'cryptotrading']\", 'CoinListingBot', 'False']\n",
      "Skipping row due to insufficient columns: ['Coin: $VET']\n",
      "Skipping row due to insufficient columns: ['Pairs:']\n",
      "Skipping row due to insufficient columns: ['#VET/#USDT']\n",
      "Skipping row due to insufficient columns: ['#newcoinlisting #crypto #cryptonews #cryptoAlerts #altcoins #bitcoin #blockchain #cryptocurrency #cryptotrading', \"['BingX', 'VET', 'USDT', 'newcoinlisting', 'crypto', 'cryptonews', 'cryptoAlerts', 'altcoins', 'bitcoin', 'blockchain', 'cryptocurrency', 'cryptotrading']\", 'CoinListingBot', 'False']\n",
      "Skipping row due to insufficient columns: ['Coin: $TFUEL']\n",
      "Skipping row due to insufficient columns: ['Pairs:']\n",
      "Skipping row due to insufficient columns: ['#TFUEL/#USDT']\n",
      "Skipping row due to insufficient columns: ['#newcoinlisting #crypto #cryptonews #cryptoAlerts #altcoins #bitcoin #blockchain #cryptocurrency #cryptotrading', \"['BingX', 'TFUEL', 'USDT', 'newcoinlisting', 'crypto', 'cryptonews', 'cryptoAlerts', 'altcoins', 'bitcoin', 'blockchain', 'cryptocurrency', 'cryptotrading']\", 'CoinListingBot', 'False']\n",
      "Skipping row due to insufficient columns: ['Coin: $STRAX']\n",
      "Skipping row due to insufficient columns: ['Pairs:']\n",
      "Skipping row due to insufficient columns: ['#STRAX/#USDT']\n",
      "Skipping row due to insufficient columns: ['#newcoinlisting #crypto #cryptonews #cryptoAlerts #altcoins #bitcoin #blockchain #cryptocurrency #cryptotrading', \"['BingX', 'STRAX', 'USDT', 'newcoinlisting', 'crypto', 'cryptonews', 'cryptoAlerts', 'altcoins', 'bitcoin', 'blockchain', 'cryptocurrency', 'cryptotrading']\", 'CoinListingBot', 'False']\n",
      "Skipping row due to insufficient columns: ['Coin: $STPT']\n",
      "Skipping row due to insufficient columns: ['Pairs:']\n",
      "Skipping row due to insufficient columns: ['#STPT/#USDT']\n",
      "Skipping row due to insufficient columns: ['#newcoinlisting #crypto #cryptonews #cryptoAlerts #altcoins #bitcoin #blockchain #cryptocurrency #cryptotrading', \"['BingX', 'STPT', 'USDT', 'newcoinlisting', 'crypto', 'cryptonews', 'cryptoAlerts', 'altcoins', 'bitcoin', 'blockchain', 'cryptocurrency', 'cryptotrading']\", 'CoinListingBot', 'False']\n",
      "Skipping row due to insufficient columns: ['Coin: $LQTY']\n",
      "Skipping row due to insufficient columns: ['Pairs:']\n",
      "Skipping row due to insufficient columns: ['#LQTY/#BTC']\n",
      "Skipping row due to insufficient columns: ['#LQTY/#USDT']\n",
      "Skipping row due to insufficient columns: ['#newcoinlisting #crypto #cryptonews #cryptoAlerts #altcoins #bitcoin #blockchain #cryptocurrency #cryptotrading', \"['Nominex', 'LQTY', 'BTC', 'LQTY', 'USDT', 'newcoinlisting', 'crypto', 'cryptonews', 'cryptoAlerts', 'altcoins', 'bitcoin', 'blockchain', 'cryptocurrency', 'cryptotrading']\", 'CoinListingBot', 'False']\n",
      "Skipping row due to insufficient columns: ['Coin: $LQTY']\n",
      "Skipping row due to insufficient columns: ['Pairs:']\n",
      "Skipping row due to insufficient columns: ['#LQTY/#USDT']\n",
      "Skipping row due to insufficient columns: ['#newcoinlisting #crypto #cryptonews #cryptoAlerts #altcoins #bitcoin #blockchain #cryptocurrency #cryptotrading', \"['Digifinex', 'LQTY', 'USDT', 'newcoinlisting', 'crypto', 'cryptonews', 'cryptoAlerts', 'altcoins', 'bitcoin', 'blockchain', 'cryptocurrency', 'cryptotrading']\", 'CoinListingBot', 'False']\n",
      "Skipping row due to insufficient columns: ['Coin: $LQTY']\n",
      "Skipping row due to insufficient columns: ['Pairs:']\n",
      "Skipping row due to insufficient columns: ['#LQTY/#USDT']\n",
      "Skipping row due to insufficient columns: ['#LQTY/#BTC']\n",
      "Skipping row due to insufficient columns: ['#newcoinlisting #crypto #cryptonews #cryptoAlerts #altcoins #bitcoin #blockchain #cryptocurrency #cryptotrading', \"['Binance', 'LQTY', 'USDT', 'LQTY', 'BTC', 'newcoinlisting', 'crypto', 'cryptonews', 'cryptoAlerts', 'altcoins', 'bitcoin', 'blockchain', 'cryptocurrency', 'cryptotrading']\", 'CoinListingBot', 'False']\n",
      "Skipping row due to insufficient columns: ['Coin: $MZR']\n",
      "Skipping row due to insufficient columns: ['Pairs:']\n",
      "Skipping row due to insufficient columns: ['#MZR/#USDT']\n",
      "Skipping row due to insufficient columns: ['#newcoinlisting #crypto #cryptonews #cryptoAlerts #altcoins #bitcoin #blockchain #cryptocurrency #cryptotrading', \"['LBank', 'MZR', 'USDT', 'newcoinlisting', 'crypto', 'cryptonews', 'cryptoAlerts', 'altcoins', 'bitcoin', 'blockchain', 'cryptocurrency', 'cryptotrading']\", 'CoinListingBot', 'False']\n",
      "Skipping row due to insufficient columns: ['Coin: $NXRA']\n",
      "Skipping row due to insufficient columns: ['Pairs:']\n",
      "Skipping row due to insufficient columns: ['#NXRA/#USDT']\n",
      "Skipping row due to insufficient columns: ['#newcoinlisting #crypto #cryptonews #cryptoAlerts #altcoins #bitcoin #blockchain #cryptocurrency #cryptotrading', \"['Bitrue', 'NXRA', 'USDT', 'newcoinlisting', 'crypto', 'cryptonews', 'cryptoAlerts', 'altcoins', 'bitcoin', 'blockchain', 'cryptocurrency', 'cryptotrading']\", 'CoinListingBot', 'False']\n",
      "Skipping row due to insufficient columns: ['👉https://t.co/dwh8jR9uho']\n",
      "Skipping row due to insufficient columns: ['$LGX 5.13%']\n",
      "Skipping row due to insufficient columns: ['$JOY 1.12%']\n",
      "Skipping row due to insufficient columns: ['$PNG 1.02%']\n",
      "Skipping row due to insufficient columns: ['$CNAME 0.85%']\n",
      "Skipping row due to insufficient columns: ['$PNT 0.78%']\n",
      "Skipping row due to insufficient columns: [' #LGX #JOY #PNG #CNAME #PNT #crypto #cryptonews #cryptoAlerts #blockchain  #cryptotrading #cryptoprices #altcoins #bitcoin', \"['cryptocurrency', 'price', 'GateIo', 'LGX', 'JOY', 'PNG', 'CNAME', 'PNT', 'crypto', 'cryptonews', 'cryptoAlerts', 'blockchain', 'cryptotrading', 'cryptoprices', 'altcoins', 'bitcoin']\", 'Crypto Frog', 'False']\n",
      "Skipping row due to insufficient columns: ['Coin: $XX']\n",
      "Skipping row due to insufficient columns: ['Pairs:']\n",
      "Skipping row due to insufficient columns: ['#XX/#USDT']\n",
      "Skipping row due to insufficient columns: ['#newcoinlisting #crypto #cryptonews #cryptoAlerts #altcoins #bitcoin #blockchain #cryptocurrency #cryptotrading', \"['CoinW', 'XX', 'USDT', 'newcoinlisting', 'crypto', 'cryptonews', 'cryptoAlerts', 'altcoins', 'bitcoin', 'blockchain', 'cryptocurrency', 'cryptotrading']\", 'CoinListingBot', 'False']\n"
     ]
    },
    {
     "name": "stderr",
     "output_type": "stream",
     "text": [
      "Preprocessing tweets: 37695it [00:12, 2946.17it/s]"
     ]
    },
    {
     "name": "stdout",
     "output_type": "stream",
     "text": [
      "Skipping row due to insufficient columns: ['Coin: $DPX']\n",
      "Skipping row due to insufficient columns: ['Pairs:']\n",
      "Skipping row due to insufficient columns: ['#DPX/#USDT']\n",
      "Skipping row due to insufficient columns: ['#newcoinlisting #crypto #cryptonews #cryptoAlerts #altcoins #bitcoin #blockchain #cryptocurrency #cryptotrading', \"['BingX', 'DPX', 'USDT', 'newcoinlisting', 'crypto', 'cryptonews', 'cryptoAlerts', 'altcoins', 'bitcoin', 'blockchain', 'cryptocurrency', 'cryptotrading']\", 'CoinListingBot', 'False']\n",
      "Skipping row due to insufficient columns: ['Coin: $MTK']\n",
      "Skipping row due to insufficient columns: ['Pairs:']\n",
      "Skipping row due to insufficient columns: ['#MTK/#USDT']\n",
      "Skipping row due to insufficient columns: ['#newcoinlisting #crypto #cryptonews #cryptoAlerts #altcoins #bitcoin #blockchain #cryptocurrency #cryptotrading', \"['CoinTiger', 'MTK', 'USDT', 'newcoinlisting', 'crypto', 'cryptonews', 'cryptoAlerts', 'altcoins', 'bitcoin', 'blockchain', 'cryptocurrency', 'cryptotrading']\", 'CoinListingBot', 'False']\n",
      "Skipping row due to insufficient columns: ['Coin: $GAMIX']\n",
      "Skipping row due to insufficient columns: ['Pairs:']\n",
      "Skipping row due to insufficient columns: ['#GAMIX/#USDT']\n",
      "Skipping row due to insufficient columns: ['#newcoinlisting #crypto #cryptonews #cryptoAlerts #altcoins #bitcoin #blockchain #cryptocurrency #cryptotrading', \"['CoinTiger', 'GAMIX', 'USDT', 'newcoinlisting', 'crypto', 'cryptonews', 'cryptoAlerts', 'altcoins', 'bitcoin', 'blockchain', 'cryptocurrency', 'cryptotrading']\", 'CoinListingBot', 'False']\n",
      "Skipping row due to insufficient columns: ['Coin: $WTE']\n",
      "Skipping row due to insufficient columns: ['Pairs:']\n",
      "Skipping row due to insufficient columns: ['#WTE/#USDT']\n",
      "Skipping row due to insufficient columns: ['#newcoinlisting #crypto #cryptonews #cryptoAlerts #altcoins #bitcoin #blockchain #cryptocurrency #cryptotrading', \"['CoinTiger', 'WTE', 'USDT', 'newcoinlisting', 'crypto', 'cryptonews', 'cryptoAlerts', 'altcoins', 'bitcoin', 'blockchain', 'cryptocurrency', 'cryptotrading']\", 'CoinListingBot', 'False']\n",
      "Skipping row due to insufficient columns: ['Coin: $ARU']\n",
      "Skipping row due to insufficient columns: ['Pairs:']\n",
      "Skipping row due to insufficient columns: ['#ARU/#USDT']\n",
      "Skipping row due to insufficient columns: ['#newcoinlisting #crypto #cryptonews #cryptoAlerts #altcoins #bitcoin #blockchain #cryptocurrency #cryptotrading', \"['CoinTiger', 'ARU', 'USDT', 'newcoinlisting', 'crypto', 'cryptonews', 'cryptoAlerts', 'altcoins', 'bitcoin', 'blockchain', 'cryptocurrency', 'cryptotrading']\", 'CoinListingBot', 'False']\n",
      "Skipping row due to insufficient columns: ['Coin: $VSTA']\n",
      "Skipping row due to insufficient columns: ['Pairs:']\n",
      "Skipping row due to insufficient columns: ['#VSTA/#USDT']\n",
      "Skipping row due to insufficient columns: ['#newcoinlisting #crypto #cryptonews #cryptoAlerts #altcoins #bitcoin #blockchain #cryptocurrency #cryptotrading', \"['ZT', 'VSTA', 'USDT', 'newcoinlisting', 'crypto', 'cryptonews', 'cryptoAlerts', 'altcoins', 'bitcoin', 'blockchain', 'cryptocurrency', 'cryptotrading']\", 'CoinListingBot', 'False']\n",
      "Skipping row due to insufficient columns: ['Coin: $DPX']\n",
      "Skipping row due to insufficient columns: ['Pairs:']\n",
      "Skipping row due to insufficient columns: ['#DPX/#USDT']\n",
      "Skipping row due to insufficient columns: ['#newcoinlisting #crypto #cryptonews #cryptoAlerts #altcoins #bitcoin #blockchain #cryptocurrency #cryptotrading', \"['Bybit', 'DPX', 'USDT', 'newcoinlisting', 'crypto', 'cryptonews', 'cryptoAlerts', 'altcoins', 'bitcoin', 'blockchain', 'cryptocurrency', 'cryptotrading']\", 'CoinListingBot', 'False']\n",
      "Skipping row due to insufficient columns: ['Coin: $LGC']\n",
      "Skipping row due to insufficient columns: ['Pairs:']\n",
      "Skipping row due to insufficient columns: ['#LGC/#USDT']\n",
      "Skipping row due to insufficient columns: ['#newcoinlisting #crypto #cryptonews #cryptoAlerts #altcoins #bitcoin #blockchain #cryptocurrency #cryptotrading', \"['BTCEX', 'LGC', 'USDT', 'newcoinlisting', 'crypto', 'cryptonews', 'cryptoAlerts', 'altcoins', 'bitcoin', 'blockchain', 'cryptocurrency', 'cryptotrading']\", 'CoinListingBot', 'False']\n"
     ]
    },
    {
     "name": "stderr",
     "output_type": "stream",
     "text": [
      "Preprocessing tweets: 38332it [00:12, 3019.71it/s]"
     ]
    },
    {
     "name": "stdout",
     "output_type": "stream",
     "text": [
      "Skipping row due to insufficient columns: ['👉https://t.co/XsdBPI7qf6']\n",
      "Skipping row due to insufficient columns: ['$BRWL 7.11%']\n",
      "Skipping row due to insufficient columns: ['$FITFI 0.39%']\n",
      "Skipping row due to insufficient columns: ['$FAME 0.39%']\n",
      "Skipping row due to insufficient columns: ['$INX 0.39%']\n",
      "Skipping row due to insufficient columns: [' #BRWL #FITFI #FAME #INX #crypto #cryptonews #cryptoAlerts #blockchain  #cryptotrading #cryptoprices #altcoins #bitcoin', \"['cryptocurrency', 'price', 'OKX', 'BRWL', 'FITFI', 'FAME', 'INX', 'crypto', 'cryptonews', 'cryptoAlerts', 'blockchain', 'cryptotrading', 'cryptoprices', 'altcoins', 'bitcoin']\", 'Crypto Frog', 'False']\n",
      "Skipping row due to insufficient columns: ['👉https://t.co/dwh8jR9uho']\n",
      "Skipping row due to insufficient columns: ['$FAN 3.73%']\n",
      "Skipping row due to insufficient columns: ['$BNX 1.83%']\n",
      "Skipping row due to insufficient columns: ['$MEPAD 1.06%']\n",
      "Skipping row due to insufficient columns: ['$NBT 1%']\n",
      "Skipping row due to insufficient columns: ['$ADS 0.95%']\n",
      "Skipping row due to insufficient columns: [' #FAN #BNX #MEPAD #NBT #ADS #crypto #cryptonews #cryptoAlerts #blockchain  #cryptotrading #cryptoprices #altcoins #bitcoin', \"['cryptocurrency', 'price', 'GateIo', 'FAN', 'BNX', 'MEPAD', 'NBT', 'ADS', 'crypto', 'cryptonews', 'cryptoAlerts', 'blockchain', 'cryptotrading', 'cryptoprices', 'altcoins', 'bitcoin']\", 'Crypto Frog', 'False']\n",
      "Skipping row due to insufficient columns: ['Coin: $CATSHIRA']\n",
      "Skipping row due to insufficient columns: ['Pairs:']\n",
      "Skipping row due to insufficient columns: ['#CATSHIRA/#USDT']\n",
      "Skipping row due to insufficient columns: ['#newcoinlisting #crypto #cryptonews #cryptoAlerts #altcoins #bitcoin #blockchain #cryptocurrency #cryptotrading', \"['DexTrade', 'CATSHIRA', 'USDT', 'newcoinlisting', 'crypto', 'cryptonews', 'cryptoAlerts', 'altcoins', 'bitcoin', 'blockchain', 'cryptocurrency', 'cryptotrading']\", 'CoinListingBot', 'False']\n",
      "Skipping row due to insufficient columns: ['Coin: $KSN']\n",
      "Skipping row due to insufficient columns: ['Pairs:']\n",
      "Skipping row due to insufficient columns: ['#KSN/#USDT']\n",
      "Skipping row due to insufficient columns: ['#newcoinlisting #crypto #cryptonews #cryptoAlerts #altcoins #bitcoin #blockchain #cryptocurrency #cryptotrading', \"['BitMart', 'KSN', 'USDT', 'newcoinlisting', 'crypto', 'cryptonews', 'cryptoAlerts', 'altcoins', 'bitcoin', 'blockchain', 'cryptocurrency', 'cryptotrading']\", 'CoinListingBot', 'False']\n",
      "Skipping row due to insufficient columns: ['👉https://t.co/dwh8jR9uho']\n",
      "Skipping row due to insufficient columns: ['$GMM 4.84%']\n",
      "Skipping row due to insufficient columns: ['$PSTAKE 1.49%']\n",
      "Skipping row due to insufficient columns: ['$LN 0.91%']\n",
      "Skipping row due to insufficient columns: ['$CHNG 0.89%']\n",
      "Skipping row due to insufficient columns: ['$SOV 0.37%']\n",
      "Skipping row due to insufficient columns: [' #GMM #PSTAKE #LN #CHNG #SOV #crypto #cryptonews #cryptoAlerts #blockchain  #cryptotrading #cryptoprices #altcoins #bitcoin', \"['cryptocurrency', 'price', 'GateIo', 'GMM', 'PSTAKE', 'LN', 'CHNG', 'SOV', 'crypto', 'cryptonews', 'cryptoAlerts', 'blockchain', 'cryptotrading', 'cryptoprices', 'altcoins', 'bitcoin']\", 'Crypto Frog', 'False']\n",
      "Skipping row due to insufficient columns: ['Coin: $LQTY']\n",
      "Skipping row due to insufficient columns: ['Pairs:']\n",
      "Skipping row due to insufficient columns: ['#LQTY/#USDT']\n",
      "Skipping row due to insufficient columns: ['#newcoinlisting #crypto #cryptonews #cryptoAlerts #altcoins #bitcoin #blockchain #cryptocurrency #cryptotrading', \"['GateIo', 'LQTY', 'USDT', 'newcoinlisting', 'crypto', 'cryptonews', 'cryptoAlerts', 'altcoins', 'bitcoin', 'blockchain', 'cryptocurrency', 'cryptotrading']\", 'CoinListingBot', 'False']\n"
     ]
    },
    {
     "name": "stderr",
     "output_type": "stream",
     "text": [
      "Preprocessing tweets: 39235it [00:13, 2921.32it/s]"
     ]
    },
    {
     "name": "stdout",
     "output_type": "stream",
     "text": [
      "Skipping row due to insufficient columns: ['👉https://t.co/dwh8jR9uho']\n",
      "Skipping row due to insufficient columns: ['$FDC 6.81%']\n",
      "Skipping row due to insufficient columns: ['$SMART 1.24%']\n",
      "Skipping row due to insufficient columns: ['$PCX 1.19%']\n",
      "Skipping row due to insufficient columns: ['$B3X 1.16%']\n",
      "Skipping row due to insufficient columns: ['$BDP 1.12%']\n",
      "Skipping row due to insufficient columns: [' #FDC #SMART #PCX #B3X #BDP #crypto #cryptonews #cryptoAlerts #blockchain  #cryptotrading #cryptoprices #altcoins #bitcoin', \"['cryptocurrency', 'price', 'GateIo', 'FDC', 'SMART', 'PCX', 'B3X', 'BDP', 'crypto', 'cryptonews', 'cryptoAlerts', 'blockchain', 'cryptotrading', 'cryptoprices', 'altcoins', 'bitcoin']\", 'Crypto Frog', 'False']\n",
      "Skipping row due to insufficient columns: ['Coin: $BTCVB']\n",
      "Skipping row due to insufficient columns: ['Pairs:']\n",
      "Skipping row due to insufficient columns: ['#BTCVB/#USDT']\n",
      "Skipping row due to insufficient columns: ['#newcoinlisting #crypto #cryptonews #cryptoAlerts #altcoins #bitcoin #blockchain #cryptocurrency #cryptotrading', \"['BitForex', 'BTCVB', 'USDT', 'newcoinlisting', 'crypto', 'cryptonews', 'cryptoAlerts', 'altcoins', 'bitcoin', 'blockchain', 'cryptocurrency', 'cryptotrading']\", 'CoinListingBot', 'False']\n",
      "Skipping row due to insufficient columns: ['Coin: $BTCVB1']\n",
      "Skipping row due to insufficient columns: ['Pairs:']\n",
      "Skipping row due to insufficient columns: ['#BTCVB1/#USDT']\n",
      "Skipping row due to insufficient columns: ['#newcoinlisting #crypto #cryptonews #cryptoAlerts #altcoins #bitcoin #blockchain #cryptocurrency #cryptotrading', \"['BitForex', 'BTCVB1', 'USDT', 'newcoinlisting', 'crypto', 'cryptonews', 'cryptoAlerts', 'altcoins', 'bitcoin', 'blockchain', 'cryptocurrency', 'cryptotrading']\", 'CoinListingBot', 'False']\n",
      "Skipping row due to insufficient columns: ['Coin: $ZZ']\n",
      "Skipping row due to insufficient columns: ['Pairs:']\n",
      "Skipping row due to insufficient columns: ['#ZZ/#USDT']\n",
      "Skipping row due to insufficient columns: ['#newcoinlisting #crypto #cryptonews #cryptoAlerts #altcoins #bitcoin #blockchain #cryptocurrency #cryptotrading', \"['Digifinex', 'ZZ', 'USDT', 'newcoinlisting', 'crypto', 'cryptonews', 'cryptoAlerts', 'altcoins', 'bitcoin', 'blockchain', 'cryptocurrency', 'cryptotrading']\", 'CoinListingBot', 'False']\n",
      "Skipping row due to insufficient columns: ['Coin: $SWISE']\n",
      "Skipping row due to insufficient columns: ['Pairs:']\n",
      "Skipping row due to insufficient columns: ['#SWISE/#USDT']\n",
      "Skipping row due to insufficient columns: ['#newcoinlisting #crypto #cryptonews #cryptoAlerts #altcoins #bitcoin #blockchain #cryptocurrency #cryptotrading', \"['Poloniex', 'SWISE', 'USDT', 'newcoinlisting', 'crypto', 'cryptonews', 'cryptoAlerts', 'altcoins', 'bitcoin', 'blockchain', 'cryptocurrency', 'cryptotrading']\", 'CoinListingBot', 'False']\n"
     ]
    },
    {
     "name": "stderr",
     "output_type": "stream",
     "text": [
      "Preprocessing tweets: 39819it [00:13, 2877.19it/s]"
     ]
    },
    {
     "name": "stdout",
     "output_type": "stream",
     "text": [
      "Skipping row due to insufficient columns: ['👉https://t.co/XsdBPI7qf6']\n",
      "Skipping row due to insufficient columns: ['$MRST 3.51%']\n",
      "Skipping row due to insufficient columns: ['$CHAT 0.44%']\n",
      "Skipping row due to insufficient columns: ['$TRADE 0.4%']\n",
      "Skipping row due to insufficient columns: ['$CELT 0.31%']\n",
      "Skipping row due to insufficient columns: [' #MRST #CHAT #TRADE #CELT #crypto #cryptonews #cryptoAlerts #blockchain  #cryptotrading #cryptoprices #altcoins #bitcoin', \"['cryptocurrency', 'price', 'OKX', 'MRST', 'CHAT', 'TRADE', 'CELT', 'crypto', 'cryptonews', 'cryptoAlerts', 'blockchain', 'cryptotrading', 'cryptoprices', 'altcoins', 'bitcoin']\", 'Crypto Frog', 'False']\n",
      "Skipping row due to insufficient columns: ['Coin: $$BUY']\n",
      "Skipping row due to insufficient columns: ['Pairs:']\n",
      "Skipping row due to insufficient columns: ['#$BUY/#USDT']\n",
      "Skipping row due to insufficient columns: ['#newcoinlisting #crypto #cryptonews #cryptoAlerts #altcoins #bitcoin #blockchain #cryptocurrency #cryptotrading', \"['BitMart', 'USDT', 'newcoinlisting', 'crypto', 'cryptonews', 'cryptoAlerts', 'altcoins', 'bitcoin', 'blockchain', 'cryptocurrency', 'cryptotrading']\", 'CoinListingBot', 'False']\n",
      "Skipping row due to insufficient columns: []\n",
      "Skipping row due to insufficient columns: ['🔥 https://t.co/rPAnYoDL62']\n",
      "Skipping row due to insufficient columns: []\n",
      "Skipping row due to insufficient columns: ['Standard Renewal | place your bid: https://t.co/dX1y6RhZx6']\n",
      "Skipping row due to insufficient columns: []\n",
      "Skipping row due to insufficient columns: ['#domains #domainnames #startup #defi #domain #blockchain #crypto #bitcoin\\xa0\\xa0\\xa0']\n",
      "Skipping row due to insufficient columns: ['#ethereum #btc \\xa0\\xa0']\n",
      "Skipping row due to insufficient columns: [' #gem #NFTs #Gemhunters #Hunters #AI #Web3 #DomainForSale https://t.co/A5YSQYPP66', \"['domains', 'domainnames', 'startup', 'defi', 'domain', 'blockchain', 'crypto', 'bitcoin', 'ethereum', 'btc', 'gem', 'NFTs', 'Gemhunters', 'Hunters', 'AI', 'Web3', 'DomainForSale']\", 'Twitter for iPhone', 'False']\n",
      "Skipping row due to insufficient columns: ['Coin: $SMMT']\n",
      "Skipping row due to insufficient columns: ['Pairs:']\n",
      "Skipping row due to insufficient columns: ['#SMMT/#USDT']\n",
      "Skipping row due to insufficient columns: ['#newcoinlisting #crypto #cryptonews #cryptoAlerts #altcoins #bitcoin #blockchain #cryptocurrency #cryptotrading', \"['VinDAX', 'SMMT', 'USDT', 'newcoinlisting', 'crypto', 'cryptonews', 'cryptoAlerts', 'altcoins', 'bitcoin', 'blockchain', 'cryptocurrency', 'cryptotrading']\", 'CoinListingBot', 'False']\n",
      "Skipping row due to insufficient columns: ['Coin: $SMMT']\n",
      "Skipping row due to insufficient columns: ['Pairs:']\n",
      "Skipping row due to insufficient columns: ['#SMMT/#BTC']\n",
      "Skipping row due to insufficient columns: ['#SMMT/#ETH']\n",
      "Skipping row due to insufficient columns: ['#newcoinlisting #crypto #cryptonews #cryptoAlerts #altcoins #bitcoin #blockchain #cryptocurrency #cryptotrading', \"['VinDAX', 'SMMT', 'BTC', 'SMMT', 'ETH', 'newcoinlisting', 'crypto', 'cryptonews', 'cryptoAlerts', 'altcoins', 'bitcoin', 'blockchain', 'cryptocurrency', 'cryptotrading']\", 'CoinListingBot', 'False']\n",
      "Skipping row due to insufficient columns: ['Coin: $AIFLOKI']\n",
      "Skipping row due to insufficient columns: ['Pairs:']\n",
      "Skipping row due to insufficient columns: ['#AIFLOKI/#USDT']\n",
      "Skipping row due to insufficient columns: ['#newcoinlisting #crypto #cryptonews #cryptoAlerts #altcoins #bitcoin #blockchain #cryptocurrency #cryptotrading', \"['VinDAX', 'AIFLOKI', 'USDT', 'newcoinlisting', 'crypto', 'cryptonews', 'cryptoAlerts', 'altcoins', 'bitcoin', 'blockchain', 'cryptocurrency', 'cryptotrading']\", 'CoinListingBot', 'False']\n"
     ]
    },
    {
     "name": "stderr",
     "output_type": "stream",
     "text": [
      "Preprocessing tweets: 40445it [00:13, 2941.32it/s]"
     ]
    },
    {
     "name": "stdout",
     "output_type": "stream",
     "text": [
      "Skipping row due to insufficient columns: ['Coin: $LQTY']\n",
      "Skipping row due to insufficient columns: ['Pairs:']\n",
      "Skipping row due to insufficient columns: ['#LQTY/#USDT']\n",
      "Skipping row due to insufficient columns: ['#newcoinlisting #crypto #cryptonews #cryptoAlerts #altcoins #bitcoin #blockchain #cryptocurrency #cryptotrading', \"['BingX', 'LQTY', 'USDT', 'newcoinlisting', 'crypto', 'cryptonews', 'cryptoAlerts', 'altcoins', 'bitcoin', 'blockchain', 'cryptocurrency', 'cryptotrading']\", 'CoinListingBot', 'False']\n",
      "Skipping row due to insufficient columns: ['Coin: $RIF']\n",
      "Skipping row due to insufficient columns: ['Pairs:']\n",
      "Skipping row due to insufficient columns: ['#RIF/#USDT']\n",
      "Skipping row due to insufficient columns: ['#newcoinlisting #crypto #cryptonews #cryptoAlerts #altcoins #bitcoin #blockchain #cryptocurrency #cryptotrading', \"['BingX', 'RIF', 'USDT', 'newcoinlisting', 'crypto', 'cryptonews', 'cryptoAlerts', 'altcoins', 'bitcoin', 'blockchain', 'cryptocurrency', 'cryptotrading']\", 'CoinListingBot', 'False']\n",
      "Skipping row due to insufficient columns: ['👉https://t.co/dwh8jR9uho']\n",
      "Skipping row due to insufficient columns: ['$DUCK 3.48%']\n",
      "Skipping row due to insufficient columns: ['$TPT 0.95%']\n",
      "Skipping row due to insufficient columns: ['$HERO 0.45%']\n",
      "Skipping row due to insufficient columns: ['$BNX 0.41%']\n",
      "Skipping row due to insufficient columns: ['$STPT 0.39%']\n",
      "Skipping row due to insufficient columns: [' #DUCK #TPT #HERO #BNX #STPT #crypto #cryptonews #cryptoAlerts #blockchain  #cryptotrading #cryptoprices #altcoins #bitcoin', \"['cryptocurrency', 'price', 'GateIo', 'DUCK', 'TPT', 'HERO', 'BNX', 'STPT', 'crypto', 'cryptonews', 'cryptoAlerts', 'blockchain', 'cryptotrading', 'cryptoprices', 'altcoins', 'bitcoin']\", 'Crypto Frog', 'False']\n",
      "Skipping row due to insufficient columns: ['👉https://t.co/dwh8jRa26W']\n",
      "Skipping row due to insufficient columns: ['$ADP 3.11%']\n",
      "Skipping row due to insufficient columns: ['$SIDUS 1.25%']\n",
      "Skipping row due to insufficient columns: ['$STX 0.72%']\n",
      "Skipping row due to insufficient columns: ['$CKB 0.69%']\n",
      "Skipping row due to insufficient columns: ['$PAW 0.64%']\n",
      "Skipping row due to insufficient columns: [' #ADP #SIDUS #STX #CKB #PAW #crypto #cryptonews #cryptoAlerts #blockchain  #cryptotrading #cryptoprices #altcoins #bitcoin', \"['cryptocurrency', 'price', 'GateIo', 'ADP', 'SIDUS', 'STX', 'CKB', 'PAW', 'crypto', 'cryptonews', 'cryptoAlerts', 'blockchain', 'cryptotrading', 'cryptoprices', 'altcoins', 'bitcoin']\", 'Crypto Frog', 'False']\n",
      "Skipping row due to insufficient columns: ['👉https://t.co/dwh8jR9uho']\n",
      "Skipping row due to insufficient columns: ['$GMM 3.93%']\n",
      "Skipping row due to insufficient columns: ['$HGET 1.21%']\n",
      "Skipping row due to insufficient columns: ['$NBT 0.84%']\n",
      "Skipping row due to insufficient columns: [' #GMM #HGET #NBT #crypto #cryptonews #cryptoAlerts #blockchain  #cryptotrading #cryptoprices #altcoins #bitcoin', \"['cryptocurrency', 'price', 'GateIo', 'GMM', 'HGET', 'NBT', 'crypto', 'cryptonews', 'cryptoAlerts', 'blockchain', 'cryptotrading', 'cryptoprices', 'altcoins', 'bitcoin']\", 'Crypto Frog', 'False']\n",
      "Skipping row due to insufficient columns: ['Coin: $DFA']\n",
      "Skipping row due to insufficient columns: ['Pairs:']\n",
      "Skipping row due to insufficient columns: ['#DFA/#USDT']\n",
      "Skipping row due to insufficient columns: ['#newcoinlisting #crypto #cryptonews #cryptoAlerts #altcoins #bitcoin #blockchain #cryptocurrency #cryptotrading', \"['P2PB2B', 'DFA', 'USDT', 'newcoinlisting', 'crypto', 'cryptonews', 'cryptoAlerts', 'altcoins', 'bitcoin', 'blockchain', 'cryptocurrency', 'cryptotrading']\", 'CoinListingBot', 'False']\n"
     ]
    },
    {
     "name": "stderr",
     "output_type": "stream",
     "text": [
      "Preprocessing tweets: 41031it [00:13, 2899.62it/s]"
     ]
    },
    {
     "name": "stdout",
     "output_type": "stream",
     "text": [
      "Skipping row due to insufficient columns: ['Coin: $ARCH']\n",
      "Skipping row due to insufficient columns: ['Pairs:']\n",
      "Skipping row due to insufficient columns: ['#ARCH/#USDT']\n",
      "Skipping row due to insufficient columns: ['#newcoinlisting #crypto #cryptonews #cryptoAlerts #altcoins #bitcoin #blockchain #cryptocurrency #cryptotrading', \"['Finexbox', 'ARCH', 'USDT', 'newcoinlisting', 'crypto', 'cryptonews', 'cryptoAlerts', 'altcoins', 'bitcoin', 'blockchain', 'cryptocurrency', 'cryptotrading']\", 'CoinListingBot', 'False']\n",
      "Skipping row due to insufficient columns: ['Coin: $INDEX']\n",
      "Skipping row due to insufficient columns: ['Pairs:']\n",
      "Skipping row due to insufficient columns: ['#INDEX/#USDT']\n",
      "Skipping row due to insufficient columns: ['#newcoinlisting #crypto #cryptonews #cryptoAlerts #altcoins #bitcoin #blockchain #cryptocurrency #cryptotrading', \"['CoinEx', 'INDEX', 'USDT', 'newcoinlisting', 'crypto', 'cryptonews', 'cryptoAlerts', 'altcoins', 'bitcoin', 'blockchain', 'cryptocurrency', 'cryptotrading']\", 'CoinListingBot', 'False']\n",
      "Skipping row due to insufficient columns: ['Coin: $BRUSH']\n",
      "Skipping row due to insufficient columns: ['Pairs:']\n",
      "Skipping row due to insufficient columns: ['#BRUSH/#USDT']\n",
      "Skipping row due to insufficient columns: ['#newcoinlisting #crypto #cryptonews #cryptoAlerts #altcoins #bitcoin #blockchain #cryptocurrency #cryptotrading', \"['Hotbit', 'BRUSH', 'USDT', 'newcoinlisting', 'crypto', 'cryptonews', 'cryptoAlerts', 'altcoins', 'bitcoin', 'blockchain', 'cryptocurrency', 'cryptotrading']\", 'CoinListingBot', 'False']\n",
      "Skipping row due to insufficient columns: ['👉https://t.co/dwh8jR9uho']\n",
      "Skipping row due to insufficient columns: ['$GMM 4.47%']\n",
      "Skipping row due to insufficient columns: ['$FAME 2.28%']\n",
      "Skipping row due to insufficient columns: ['$DEP 0.54%']\n",
      "Skipping row due to insufficient columns: ['$DMTR 0.52%']\n",
      "Skipping row due to insufficient columns: ['$ADP 0.42%']\n",
      "Skipping row due to insufficient columns: [' #GMM #FAME #DEP #DMTR #ADP #crypto #cryptonews #cryptoAlerts #blockchain  #cryptotrading #cryptoprices #altcoins #bitcoin', \"['cryptocurrency', 'price', 'GateIo', 'GMM', 'FAME', 'DEP', 'DMTR', 'ADP', 'crypto', 'cryptonews', 'cryptoAlerts', 'blockchain', 'cryptotrading', 'cryptoprices', 'altcoins', 'bitcoin']\", 'Crypto Frog', 'False']\n",
      "Skipping row due to insufficient columns: ['👉https://t.co/XsdBPI7qf6']\n",
      "Skipping row due to insufficient columns: ['$KINE 8.61%']\n",
      "Skipping row due to insufficient columns: ['$CELT 1.35%']\n",
      "Skipping row due to insufficient columns: ['$NMR 1.07%']\n",
      "Skipping row due to insufficient columns: ['$RADAR 0.83%']\n",
      "Skipping row due to insufficient columns: ['$DYDX 0.8%']\n",
      "Skipping row due to insufficient columns: [' #KINE #CELT #NMR #RADAR #DYDX #crypto #cryptonews #cryptoAlerts #blockchain  #cryptotrading #cryptoprices #altcoins #bitcoin', \"['cryptocurrency', 'price', 'OKX', 'KINE', 'CELT', 'NMR', 'RADAR', 'DYDX', 'crypto', 'cryptonews', 'cryptoAlerts', 'blockchain', 'cryptotrading', 'cryptoprices', 'altcoins', 'bitcoin']\", 'Crypto Frog', 'False']\n",
      "Skipping row due to insufficient columns: ['👉https://t.co/dwh8jR9uho']\n",
      "Skipping row due to insufficient columns: ['$ZAM 6.36%']\n",
      "Skipping row due to insufficient columns: ['$QUICK 0.77%']\n",
      "Skipping row due to insufficient columns: ['$CQT 0.77%']\n",
      "Skipping row due to insufficient columns: ['$CNAME 0.58%']\n",
      "Skipping row due to insufficient columns: ['$DF 0.37%']\n",
      "Skipping row due to insufficient columns: [' #ZAM #QUICK #CQT #CNAME #DF #crypto #cryptonews #cryptoAlerts #blockchain  #cryptotrading #cryptoprices #altcoins #bitcoin', \"['cryptocurrency', 'price', 'GateIo', 'ZAM', 'QUICK', 'CQT', 'CNAME', 'DF', 'crypto', 'cryptonews', 'cryptoAlerts', 'blockchain', 'cryptotrading', 'cryptoprices', 'altcoins', 'bitcoin']\", 'Crypto Frog', 'False']\n",
      "Skipping row due to insufficient columns: ['👉https://t.co/YFfSerrmK2']\n",
      "Skipping row due to insufficient columns: ['$BIX 4.42%']\n",
      "Skipping row due to insufficient columns: ['$DUSK 0.32%']\n",
      "Skipping row due to insufficient columns: ['$FIS 0.32%']\n",
      "Skipping row due to insufficient columns: [' #BIX #DUSK #FIS #crypto #cryptonews #cryptoAlerts #blockchain  #cryptotrading #cryptoprices #altcoins #bitcoin', \"['cryptocurrency', 'price', 'Huobi', 'BIX', 'DUSK', 'FIS', 'crypto', 'cryptonews', 'cryptoAlerts', 'blockchain', 'cryptotrading', 'cryptoprices', 'altcoins', 'bitcoin']\", 'Crypto Frog', 'False']\n",
      "Skipping row due to insufficient columns: ['👉https://t.co/dwh8jR9uho']\n",
      "Skipping row due to insufficient columns: ['$GMM 3.09%']\n",
      "Skipping row due to insufficient columns: ['$SLC 1.23%']\n",
      "Skipping row due to insufficient columns: ['$COS 0.61%']\n",
      "Skipping row due to insufficient columns: ['$ZBC 0.47%']\n",
      "Skipping row due to insufficient columns: ['$WEMIX 0.38%']\n",
      "Skipping row due to insufficient columns: [' #GMM #SLC #COS #ZBC #WEMIX #crypto #cryptonews #cryptoAlerts #blockchain  #cryptotrading #cryptoprices #altcoins #bitcoin', \"['cryptocurrency', 'price', 'GateIo', 'GMM', 'SLC', 'COS', 'ZBC', 'WEMIX', 'crypto', 'cryptonews', 'cryptoAlerts', 'blockchain', 'cryptotrading', 'cryptoprices', 'altcoins', 'bitcoin']\", 'Crypto Frog', 'False']\n"
     ]
    },
    {
     "name": "stderr",
     "output_type": "stream",
     "text": [
      "Preprocessing tweets: 41976it [00:14, 2987.22it/s]"
     ]
    },
    {
     "name": "stdout",
     "output_type": "stream",
     "text": [
      "Skipping row due to insufficient columns: ['👉https://t.co/dwh8jR9uho']\n",
      "Skipping row due to insufficient columns: ['$SOV 4.91%']\n",
      "Skipping row due to insufficient columns: ['$FDC 2.72%']\n",
      "Skipping row due to insufficient columns: ['$RNDR 0.95%']\n",
      "Skipping row due to insufficient columns: ['$FIDA 0.92%']\n",
      "Skipping row due to insufficient columns: ['$WOOP 0.75%']\n",
      "Skipping row due to insufficient columns: [' #SOV #FDC #RNDR #FIDA #WOOP #crypto #cryptonews #cryptoAlerts #blockchain  #cryptotrading #cryptoprices #altcoins #bitcoin', \"['cryptocurrency', 'price', 'GateIo', 'SOV', 'FDC', 'RNDR', 'FIDA', 'WOOP', 'crypto', 'cryptonews', 'cryptoAlerts', 'blockchain', 'cryptotrading', 'cryptoprices', 'altcoins', 'bitcoin']\", 'Crypto Frog', 'False']\n",
      "Skipping row due to insufficient columns: ['Coin: $COCOS']\n",
      "Skipping row due to insufficient columns: ['Pairs:']\n",
      "Skipping row due to insufficient columns: ['#COCOS/#USDT']\n",
      "Skipping row due to insufficient columns: ['#newcoinlisting #crypto #cryptonews #cryptoAlerts #altcoins #bitcoin #blockchain #cryptocurrency #cryptotrading', \"['HotcoinGlobal', 'COCOS', 'USDT', 'newcoinlisting', 'crypto', 'cryptonews', 'cryptoAlerts', 'altcoins', 'bitcoin', 'blockchain', 'cryptocurrency', 'cryptotrading']\", 'CoinListingBot', 'False']\n",
      "Skipping row due to insufficient columns: ['Coin: $EUROC']\n",
      "Skipping row due to insufficient columns: ['Pairs:']\n",
      "Skipping row due to insufficient columns: ['#EUROC/#EUR']\n",
      "Skipping row due to insufficient columns: ['#EUROC/#USDC']\n",
      "Skipping row due to insufficient columns: ['#newcoinlisting #crypto #cryptonews #cryptoAlerts #altcoins #bitcoin #blockchain #cryptocurrency #cryptotrading', \"['Bittrex', 'EUROC', 'EUR', 'EUROC', 'USDC', 'newcoinlisting', 'crypto', 'cryptonews', 'cryptoAlerts', 'altcoins', 'bitcoin', 'blockchain', 'cryptocurrency', 'cryptotrading']\", 'CoinListingBot', 'False']\n",
      "Skipping row due to insufficient columns: ['Coin: $GNS']\n",
      "Skipping row due to insufficient columns: ['Pairs:']\n",
      "Skipping row due to insufficient columns: ['#GNS/#USDT']\n",
      "Skipping row due to insufficient columns: ['#newcoinlisting #crypto #cryptonews #cryptoAlerts #altcoins #bitcoin #blockchain #cryptocurrency #cryptotrading', \"['HotcoinGlobal', 'GNS', 'USDT', 'newcoinlisting', 'crypto', 'cryptonews', 'cryptoAlerts', 'altcoins', 'bitcoin', 'blockchain', 'cryptocurrency', 'cryptotrading']\", 'CoinListingBot', 'False']\n",
      "Skipping row due to insufficient columns: ['👉https://t.co/dwh8jR9uho']\n",
      "Skipping row due to insufficient columns: ['$WATT 3.11%']\n",
      "Skipping row due to insufficient columns: ['$CKB 0.68%']\n",
      "Skipping row due to insufficient columns: ['$BIRD 0.66%']\n",
      "Skipping row due to insufficient columns: ['$BFC 0.61%']\n",
      "Skipping row due to insufficient columns: ['$VELO 0.44%']\n",
      "Skipping row due to insufficient columns: [' #WATT #CKB #BIRD #BFC #VELO #crypto #cryptonews #cryptoAlerts #blockchain  #cryptotrading #cryptoprices #altcoins #bitcoin', \"['cryptocurrency', 'price', 'GateIo', 'WATT', 'CKB', 'BIRD', 'BFC', 'VELO', 'crypto', 'cryptonews', 'cryptoAlerts', 'blockchain', 'cryptotrading', 'cryptoprices', 'altcoins', 'bitcoin']\", 'Crypto Frog', 'False']\n",
      "Skipping row due to insufficient columns: ['👉https://t.co/XsdBPI7qf6']\n",
      "Skipping row due to insufficient columns: ['$LDN 10.36%']\n",
      "Skipping row due to insufficient columns: ['$QOM 0.45%']\n",
      "Skipping row due to insufficient columns: ['$CSPR 0.44%']\n",
      "Skipping row due to insufficient columns: ['$EOS 0.41%']\n",
      "Skipping row due to insufficient columns: ['$LAT 0.39%']\n",
      "Skipping row due to insufficient columns: [' #LDN #QOM #CSPR #EOS #LAT #crypto #cryptonews #cryptoAlerts #blockchain  #cryptotrading #cryptoprices #altcoins #bitcoin', \"['cryptocurrency', 'price', 'OKX', 'LDN', 'QOM', 'CSPR', 'EOS', 'LAT', 'crypto', 'cryptonews', 'cryptoAlerts', 'blockchain', 'cryptotrading', 'cryptoprices', 'altcoins', 'bitcoin']\", 'Crypto Frog', 'False']\n",
      "Skipping row due to insufficient columns: ['👉https://t.co/XsdBPI7qf6']\n",
      "Skipping row due to insufficient columns: ['$LDN 3.42%']\n",
      "Skipping row due to insufficient columns: ['$CELT 0.47%']\n",
      "Skipping row due to insufficient columns: ['$EOS 0.44%']\n",
      "Skipping row due to insufficient columns: ['$SUN 0.44%']\n",
      "Skipping row due to insufficient columns: ['$LINK 0.37%']\n",
      "Skipping row due to insufficient columns: [' #LDN #CELT #EOS #SUN #LINK #crypto #cryptonews #cryptoAlerts #blockchain  #cryptotrading #cryptoprices #altcoins #bitcoin', \"['cryptocurrency', 'price', 'OKX', 'LDN', 'CELT', 'EOS', 'SUN', 'LINK', 'crypto', 'cryptonews', 'cryptoAlerts', 'blockchain', 'cryptotrading', 'cryptoprices', 'altcoins', 'bitcoin']\", 'Crypto Frog', 'False']\n"
     ]
    },
    {
     "name": "stderr",
     "output_type": "stream",
     "text": [
      "Preprocessing tweets: 42588it [00:14, 3021.53it/s]"
     ]
    },
    {
     "name": "stdout",
     "output_type": "stream",
     "text": [
      "Skipping row due to insufficient columns: ['👉https://t.co/dwh8jR9uho']\n",
      "Skipping row due to insufficient columns: ['$SFM 3.03%']\n",
      "Skipping row due to insufficient columns: ['$NRFB 1.12%']\n",
      "Skipping row due to insufficient columns: ['$GMM 0.73%']\n",
      "Skipping row due to insufficient columns: ['$CSTR 0.66%']\n",
      "Skipping row due to insufficient columns: ['$DAO 0.4%']\n",
      "Skipping row due to insufficient columns: [' #SFM #NRFB #GMM #CSTR #DAO #crypto #cryptonews #cryptoAlerts #blockchain  #cryptotrading #cryptoprices #altcoins #bitcoin', \"['cryptocurrency', 'price', 'GateIo', 'SFM', 'NRFB', 'GMM', 'CSTR', 'DAO', 'crypto', 'cryptonews', 'cryptoAlerts', 'blockchain', 'cryptotrading', 'cryptoprices', 'altcoins', 'bitcoin']\", 'Crypto Frog', 'False']\n",
      "Skipping row due to insufficient columns: ['👉https://t.co/dwh8jR9uho']\n",
      "Skipping row due to insufficient columns: ['$GMM 4.28%']\n",
      "Skipping row due to insufficient columns: ['$DREP 0.99%']\n",
      "Skipping row due to insufficient columns: ['$AGIX 0.78%']\n",
      "Skipping row due to insufficient columns: ['$PAW 0.42%']\n",
      "Skipping row due to insufficient columns: ['$FIS 0.33%']\n",
      "Skipping row due to insufficient columns: [' #GMM #DREP #AGIX #PAW #FIS #crypto #cryptonews #cryptoAlerts #blockchain  #cryptotrading #cryptoprices #altcoins #bitcoin', \"['cryptocurrency', 'price', 'GateIo', 'GMM', 'DREP', 'AGIX', 'PAW', 'FIS', 'crypto', 'cryptonews', 'cryptoAlerts', 'blockchain', 'cryptotrading', 'cryptoprices', 'altcoins', 'bitcoin']\", 'Crypto Frog', 'False']\n",
      "Skipping row due to insufficient columns: ['Coin: $CRYS']\n",
      "Skipping row due to insufficient columns: ['Pairs:']\n",
      "Skipping row due to insufficient columns: ['#CRYS/#USDT']\n",
      "Skipping row due to insufficient columns: ['#newcoinlisting #crypto #cryptonews #cryptoAlerts #altcoins #bitcoin #blockchain #cryptocurrency #cryptotrading', \"['LBank', 'CRYS', 'USDT', 'newcoinlisting', 'crypto', 'cryptonews', 'cryptoAlerts', 'altcoins', 'bitcoin', 'blockchain', 'cryptocurrency', 'cryptotrading']\", 'CoinListingBot', 'False']\n",
      "Skipping row due to insufficient columns: ['Coin: $PUSH']\n",
      "Skipping row due to insufficient columns: ['Pairs:']\n",
      "Skipping row due to insufficient columns: ['#PUSH/#USD']\n",
      "Skipping row due to insufficient columns: ['#newcoinlisting #crypto #cryptonews #cryptoAlerts #altcoins #bitcoin #blockchain #cryptocurrency #cryptotrading', \"['CryptoCom', 'PUSH', 'USD', 'newcoinlisting', 'crypto', 'cryptonews', 'cryptoAlerts', 'altcoins', 'bitcoin', 'blockchain', 'cryptocurrency', 'cryptotrading']\", 'CoinListingBot', 'False']\n",
      "Skipping row due to insufficient columns: ['👉https://t.co/XsdBPI7qf6']\n",
      "Skipping row due to insufficient columns: ['$CELT 3.32%']\n",
      "Skipping row due to insufficient columns: ['$PRQ 0.67%']\n",
      "Skipping row due to insufficient columns: ['$GM 0.33%']\n",
      "Skipping row due to insufficient columns: [' #CELT #PRQ #GM #crypto #cryptonews #cryptoAlerts #blockchain  #cryptotrading #cryptoprices #altcoins #bitcoin', \"['cryptocurrency', 'price', 'OKX', 'CELT', 'PRQ', 'GM', 'crypto', 'cryptonews', 'cryptoAlerts', 'blockchain', 'cryptotrading', 'cryptoprices', 'altcoins', 'bitcoin']\", 'Crypto Frog', 'False']\n",
      "Skipping row due to insufficient columns: ['👉https://t.co/dwh8jR9uho']\n",
      "Skipping row due to insufficient columns: ['$XTAG 3.08%']\n",
      "Skipping row due to insufficient columns: ['$ORB 0.79%']\n",
      "Skipping row due to insufficient columns: ['$XCH 0.68%']\n",
      "Skipping row due to insufficient columns: ['$ISP 0.58%']\n",
      "Skipping row due to insufficient columns: ['$CHESS 0.51%']\n",
      "Skipping row due to insufficient columns: [' #XTAG #ORB #XCH #ISP #CHESS #crypto #cryptonews #cryptoAlerts #blockchain  #cryptotrading #cryptoprices #altcoins #bitcoin', \"['cryptocurrency', 'price', 'GateIo', 'XTAG', 'ORB', 'XCH', 'ISP', 'CHESS', 'crypto', 'cryptonews', 'cryptoAlerts', 'blockchain', 'cryptotrading', 'cryptoprices', 'altcoins', 'bitcoin']\", 'Crypto Frog', 'False']\n",
      "Skipping row due to insufficient columns: ['👉https://t.co/dwh8jR9uho']\n",
      "Skipping row due to insufficient columns: ['$EOSDAC 7.37%']\n",
      "Skipping row due to insufficient columns: ['$GMM 3.66%']\n",
      "Skipping row due to insufficient columns: ['$ASTR 1.69%']\n",
      "Skipping row due to insufficient columns: ['$KIN 1.67%']\n",
      "Skipping row due to insufficient columns: ['$SD 0.88%']\n",
      "Skipping row due to insufficient columns: [' #EOSDAC #GMM #ASTR #KIN #SD #crypto #cryptonews #cryptoAlerts #blockchain  #cryptotrading #cryptoprices #altcoins #bitcoin', \"['cryptocurrency', 'price', 'GateIo', 'EOSDAC', 'GMM', 'ASTR', 'KIN', 'SD', 'crypto', 'cryptonews', 'cryptoAlerts', 'blockchain', 'cryptotrading', 'cryptoprices', 'altcoins', 'bitcoin']\", 'Crypto Frog', 'False']\n"
     ]
    },
    {
     "name": "stderr",
     "output_type": "stream",
     "text": [
      "Preprocessing tweets: 43558it [00:14, 3145.28it/s]"
     ]
    },
    {
     "name": "stdout",
     "output_type": "stream",
     "text": [
      "Skipping row due to insufficient columns: ['👉https://t.co/XsdBPI7qf6']\n",
      "Skipping row due to insufficient columns: ['$CGL 4.56%']\n",
      "Skipping row due to insufficient columns: ['$VELO 0.68%']\n",
      "Skipping row due to insufficient columns: ['$SNX 0.48%']\n",
      "Skipping row due to insufficient columns: ['$GRT 0.43%']\n",
      "Skipping row due to insufficient columns: ['$ANC 0.37%']\n",
      "Skipping row due to insufficient columns: [' #CGL #VELO #SNX #GRT #ANC #crypto #cryptonews #cryptoAlerts #blockchain  #cryptotrading #cryptoprices #altcoins #bitcoin', \"['cryptocurrency', 'price', 'OKX', 'CGL', 'VELO', 'SNX', 'GRT', 'ANC', 'crypto', 'cryptonews', 'cryptoAlerts', 'blockchain', 'cryptotrading', 'cryptoprices', 'altcoins', 'bitcoin']\", 'Crypto Frog', 'False']\n",
      "Skipping row due to insufficient columns: ['👉https://t.co/dwh8jR9uho']\n",
      "Skipping row due to insufficient columns: ['$GMM 3.04%']\n",
      "Skipping row due to insufficient columns: ['$SOV 2.02%']\n",
      "Skipping row due to insufficient columns: ['$CHNG 1%']\n",
      "Skipping row due to insufficient columns: ['$RNDR 0.61%']\n",
      "Skipping row due to insufficient columns: ['$QRDO 0.49%']\n",
      "Skipping row due to insufficient columns: [' #GMM #SOV #CHNG #RNDR #QRDO #crypto #cryptonews #cryptoAlerts #blockchain  #cryptotrading #cryptoprices #altcoins #bitcoin', \"['cryptocurrency', 'price', 'GateIo', 'GMM', 'SOV', 'CHNG', 'RNDR', 'QRDO', 'crypto', 'cryptonews', 'cryptoAlerts', 'blockchain', 'cryptotrading', 'cryptoprices', 'altcoins', 'bitcoin']\", 'Crypto Frog', 'False']\n",
      "Skipping row due to insufficient columns: ['👉https://t.co/XsdBPI7Y4E']\n",
      "Skipping row due to insufficient columns: ['$CELT 3.68%']\n",
      "Skipping row due to insufficient columns: ['$CGL 1.13%']\n",
      "Skipping row due to insufficient columns: ['$DIA 0.73%']\n",
      "Skipping row due to insufficient columns: ['$DEP 0.45%']\n",
      "Skipping row due to insufficient columns: ['$STARL 0.42%']\n",
      "Skipping row due to insufficient columns: [' #CELT #CGL #DIA #DEP #STARL #crypto #cryptonews #cryptoAlerts #blockchain  #cryptotrading #cryptoprices #altcoins #bitcoin', \"['cryptocurrency', 'price', 'OKX', 'CELT', 'CGL', 'DIA', 'DEP', 'STARL', 'crypto', 'cryptonews', 'cryptoAlerts', 'blockchain', 'cryptotrading', 'cryptoprices', 'altcoins', 'bitcoin']\", 'Crypto Frog', 'False']\n",
      "Skipping row due to insufficient columns: ['Coin: $GRAIL']\n",
      "Skipping row due to insufficient columns: ['Pairs:']\n",
      "Skipping row due to insufficient columns: ['#GRAIL/#USDT']\n",
      "Skipping row due to insufficient columns: ['#newcoinlisting #crypto #cryptonews #cryptoAlerts #altcoins #bitcoin #blockchain #cryptocurrency #cryptotrading', \"['KuCoin', 'GRAIL', 'USDT', 'newcoinlisting', 'crypto', 'cryptonews', 'cryptoAlerts', 'altcoins', 'bitcoin', 'blockchain', 'cryptocurrency', 'cryptotrading']\", 'CoinListingBot', 'False']\n",
      "Skipping row due to insufficient columns: ['Coin: $GNS']\n",
      "Skipping row due to insufficient columns: ['Pairs:']\n",
      "Skipping row due to insufficient columns: ['#GNS/#USDT']\n",
      "Skipping row due to insufficient columns: ['#newcoinlisting #crypto #cryptonews #cryptoAlerts #altcoins #bitcoin #blockchain #cryptocurrency #cryptotrading', \"['KuCoin', 'GNS', 'USDT', 'newcoinlisting', 'crypto', 'cryptonews', 'cryptoAlerts', 'altcoins', 'bitcoin', 'blockchain', 'cryptocurrency', 'cryptotrading']\", 'CoinListingBot', 'False']\n",
      "Skipping row due to insufficient columns: ['Coin: $SYN']\n",
      "Skipping row due to insufficient columns: ['Pairs:']\n",
      "Skipping row due to insufficient columns: ['#SYN/#USDT']\n",
      "Skipping row due to insufficient columns: ['#newcoinlisting #crypto #cryptonews #cryptoAlerts #altcoins #bitcoin #blockchain #cryptocurrency #cryptotrading', \"['KuCoin', 'SYN', 'USDT', 'newcoinlisting', 'crypto', 'cryptonews', 'cryptoAlerts', 'altcoins', 'bitcoin', 'blockchain', 'cryptocurrency', 'cryptotrading']\", 'CoinListingBot', 'False']\n",
      "Skipping row due to insufficient columns: ['Coin: $VUSD']\n",
      "Skipping row due to insufficient columns: ['Pairs:']\n",
      "Skipping row due to insufficient columns: ['#VBTC/#VUSD']\n",
      "Skipping row due to insufficient columns: ['#newcoinlisting #crypto #cryptonews #cryptoAlerts #altcoins #bitcoin #blockchain #cryptocurrency #cryptotrading', \"['Hotbit', 'VBTC', 'VUSD', 'newcoinlisting', 'crypto', 'cryptonews', 'cryptoAlerts', 'altcoins', 'bitcoin', 'blockchain', 'cryptocurrency', 'cryptotrading']\", 'CoinListingBot', 'False']\n",
      "Skipping row due to insufficient columns: ['Coin: $VBTC']\n",
      "Skipping row due to insufficient columns: ['Pairs:']\n",
      "Skipping row due to insufficient columns: ['#VBTC/#VUSD']\n",
      "Skipping row due to insufficient columns: ['#newcoinlisting #crypto #cryptonews #cryptoAlerts #altcoins #bitcoin #blockchain #cryptocurrency #cryptotrading', \"['Hotbit', 'VBTC', 'VUSD', 'newcoinlisting', 'crypto', 'cryptonews', 'cryptoAlerts', 'altcoins', 'bitcoin', 'blockchain', 'cryptocurrency', 'cryptotrading']\", 'CoinListingBot', 'False']\n",
      "Skipping row due to insufficient columns: ['Coin: $HOP']\n",
      "Skipping row due to insufficient columns: ['Pairs:']\n",
      "Skipping row due to insufficient columns: ['#HOP/#USDT']\n",
      "Skipping row due to insufficient columns: ['#newcoinlisting #crypto #cryptonews #cryptoAlerts #altcoins #bitcoin #blockchain #cryptocurrency #cryptotrading', \"['BKEX', 'HOP', 'USDT', 'newcoinlisting', 'crypto', 'cryptonews', 'cryptoAlerts', 'altcoins', 'bitcoin', 'blockchain', 'cryptocurrency', 'cryptotrading']\", 'CoinListingBot', 'False']\n",
      "Skipping row due to insufficient columns: ['👉https://t.co/XsdBPI7qf6']\n",
      "Skipping row due to insufficient columns: ['$ORB 3.62%']\n",
      "Skipping row due to insufficient columns: ['$CNTM 0.78%']\n",
      "Skipping row due to insufficient columns: ['$CVP 0.53%']\n",
      "Skipping row due to insufficient columns: ['$CELT 0.46%']\n",
      "Skipping row due to insufficient columns: ['$FITFI 0.38%']\n",
      "Skipping row due to insufficient columns: [' #ORB #CNTM #CVP #CELT #FITFI #crypto #cryptonews #cryptoAlerts #blockchain  #cryptotrading #cryptoprices #altcoins #bitcoin', \"['cryptocurrency', 'price', 'OKX', 'ORB', 'CNTM', 'CVP', 'CELT', 'FITFI', 'crypto', 'cryptonews', 'cryptoAlerts', 'blockchain', 'cryptotrading', 'cryptoprices', 'altcoins', 'bitcoin']\", 'Crypto Frog', 'False']\n",
      "Skipping row due to insufficient columns: ['Coin: $DPX']\n",
      "Skipping row due to insufficient columns: ['Pairs:']\n",
      "Skipping row due to insufficient columns: ['#DPX/#USDT']\n",
      "Skipping row due to insufficient columns: ['#newcoinlisting #crypto #cryptonews #cryptoAlerts #altcoins #bitcoin #blockchain #cryptocurrency #cryptotrading', \"['KuCoin', 'DPX', 'USDT', 'newcoinlisting', 'crypto', 'cryptonews', 'cryptoAlerts', 'altcoins', 'bitcoin', 'blockchain', 'cryptocurrency', 'cryptotrading']\", 'CoinListingBot', 'False']\n",
      "Skipping row due to insufficient columns: ['Coin: $RDNT']\n",
      "Skipping row due to insufficient columns: ['Pairs:']\n",
      "Skipping row due to insufficient columns: ['#RDNT/#USDT']\n",
      "Skipping row due to insufficient columns: ['#newcoinlisting #crypto #cryptonews #cryptoAlerts #altcoins #bitcoin #blockchain #cryptocurrency #cryptotrading', \"['KuCoin', 'RDNT', 'USDT', 'newcoinlisting', 'crypto', 'cryptonews', 'cryptoAlerts', 'altcoins', 'bitcoin', 'blockchain', 'cryptocurrency', 'cryptotrading']\", 'CoinListingBot', 'False']\n",
      "Skipping row due to insufficient columns: ['👉https://t.co/dwh8jR9uho']\n",
      "Skipping row due to insufficient columns: ['$WATT 3.13%']\n",
      "Skipping row due to insufficient columns: ['$ALI 0.87%']\n",
      "Skipping row due to insufficient columns: ['$GRT 0.84%']\n",
      "Skipping row due to insufficient columns: ['$GOAL 0.63%']\n",
      "Skipping row due to insufficient columns: ['$AGIX 0.6%']\n",
      "Skipping row due to insufficient columns: [' #WATT #ALI #GRT #GOAL #AGIX #crypto #cryptonews #cryptoAlerts #blockchain  #cryptotrading #cryptoprices #altcoins #bitcoin', \"['cryptocurrency', 'price', 'GateIo', 'WATT', 'ALI', 'GRT', 'GOAL', 'AGIX', 'crypto', 'cryptonews', 'cryptoAlerts', 'blockchain', 'cryptotrading', 'cryptoprices', 'altcoins', 'bitcoin']\", 'Crypto Frog', 'False']\n",
      "Skipping row due to insufficient columns: ['👉https://t.co/XsdBPI7qf6']\n",
      "Skipping row due to insufficient columns: ['$INX 6.01%']\n",
      "Skipping row due to insufficient columns: ['$GLM 0.6%']\n",
      "Skipping row due to insufficient columns: ['$CGL 0.56%']\n",
      "Skipping row due to insufficient columns: ['$MAGIC 0.48%']\n",
      "Skipping row due to insufficient columns: ['$KCASH 0.46%']\n",
      "Skipping row due to insufficient columns: [' #INX #GLM #CGL #MAGIC #KCASH #crypto #cryptonews #cryptoAlerts #blockchain  #cryptotrading #cryptoprices #altcoins #bitcoin', \"['cryptocurrency', 'price', 'OKX', 'INX', 'GLM', 'CGL', 'MAGIC', 'KCASH', 'crypto', 'cryptonews', 'cryptoAlerts', 'blockchain', 'cryptotrading', 'cryptoprices', 'altcoins', 'bitcoin']\", 'Crypto Frog', 'False']\n"
     ]
    },
    {
     "name": "stderr",
     "output_type": "stream",
     "text": [
      "Preprocessing tweets: 44182it [00:14, 3038.34it/s]"
     ]
    },
    {
     "name": "stdout",
     "output_type": "stream",
     "text": [
      "Skipping row due to insufficient columns: ['Coin: $TXA']\n",
      "Skipping row due to insufficient columns: ['Pairs:']\n",
      "Skipping row due to insufficient columns: ['#TXA/#USDT']\n",
      "Skipping row due to insufficient columns: ['#newcoinlisting #crypto #cryptonews #cryptoAlerts #altcoins #bitcoin #blockchain #cryptocurrency #cryptotrading', \"['XT', 'TXA', 'USDT', 'newcoinlisting', 'crypto', 'cryptonews', 'cryptoAlerts', 'altcoins', 'bitcoin', 'blockchain', 'cryptocurrency', 'cryptotrading']\", 'CoinListingBot', 'False']\n",
      "Skipping row due to insufficient columns: ['👉https://t.co/dwh8jR9uho']\n",
      "Skipping row due to insufficient columns: ['$GMM 4.5%']\n",
      "Skipping row due to insufficient columns: ['$DMTR 1.07%']\n",
      "Skipping row due to insufficient columns: ['$DODO 0.87%']\n",
      "Skipping row due to insufficient columns: ['$STX 0.83%']\n",
      "Skipping row due to insufficient columns: ['$SDAO 0.48%']\n",
      "Skipping row due to insufficient columns: [' #GMM #DMTR #DODO #STX #SDAO #crypto #cryptonews #cryptoAlerts #blockchain  #cryptotrading #cryptoprices #altcoins #bitcoin', \"['cryptocurrency', 'price', 'GateIo', 'GMM', 'DMTR', 'DODO', 'STX', 'SDAO', 'crypto', 'cryptonews', 'cryptoAlerts', 'blockchain', 'cryptotrading', 'cryptoprices', 'altcoins', 'bitcoin']\", 'Crypto Frog', 'False']\n",
      "Skipping row due to insufficient columns: ['Coin: $SOLID']\n",
      "Skipping row due to insufficient columns: ['Pairs:']\n",
      "Skipping row due to insufficient columns: ['#SOLID/#USDT']\n",
      "Skipping row due to insufficient columns: ['#newcoinlisting #crypto #cryptonews #cryptoAlerts #altcoins #bitcoin #blockchain #cryptocurrency #cryptotrading', \"['MEXC', 'SOLID', 'USDT', 'newcoinlisting', 'crypto', 'cryptonews', 'cryptoAlerts', 'altcoins', 'bitcoin', 'blockchain', 'cryptocurrency', 'cryptotrading']\", 'CoinListingBot', 'False']\n",
      "Skipping row due to insufficient columns: ['... https://t.co/gTbe2pXv6V', \"['Bitcoin', 'btc', 'Crypto', 'CryptocurrencyMarket', 'BNB', 'BitcoinHodlDay', 'bitcoinHunter', 'bitcoinprice', 'BITCOIN88', 'cryptocurrency', 'Radix']\", 'cryptocoin5555', 'False']\n"
     ]
    },
    {
     "name": "stderr",
     "output_type": "stream",
     "text": [
      "Preprocessing tweets: 45373it [00:15, 2922.55it/s]"
     ]
    },
    {
     "name": "stdout",
     "output_type": "stream",
     "text": [
      "Skipping row due to insufficient columns: ['👉https://t.co/dwh8jR9uho']\n",
      "Skipping row due to insufficient columns: ['$METAX 3.5%']\n",
      "Skipping row due to insufficient columns: ['$PNG 0.65%']\n",
      "Skipping row due to insufficient columns: ['$TORN 0.58%']\n",
      "Skipping row due to insufficient columns: ['$TNC 0.5%']\n",
      "Skipping row due to insufficient columns: ['$XEM 0.5%']\n",
      "Skipping row due to insufficient columns: [' #METAX #PNG #TORN #TNC #XEM #crypto #cryptonews #cryptoAlerts #blockchain  #cryptotrading #cryptoprices #altcoins #bitcoin', \"['cryptocurrency', 'price', 'GateIo', 'METAX', 'PNG', 'TORN', 'TNC', 'XEM', 'crypto', 'cryptonews', 'cryptoAlerts', 'blockchain', 'cryptotrading', 'cryptoprices', 'altcoins', 'bitcoin']\", 'Crypto Frog', 'False']\n",
      "Skipping row due to insufficient columns: ['👉https://t.co/XsdBPI7qf6']\n",
      "Skipping row due to insufficient columns: ['$KINE 3.59%']\n",
      "Skipping row due to insufficient columns: ['$MRST 2.67%']\n",
      "Skipping row due to insufficient columns: ['$INX 0.78%']\n",
      "Skipping row due to insufficient columns: ['$LUNA 0.51%']\n",
      "Skipping row due to insufficient columns: ['$ZYRO 0.48%']\n",
      "Skipping row due to insufficient columns: [' #KINE #MRST #INX #LUNA #ZYRO #crypto #cryptonews #cryptoAlerts #blockchain  #cryptotrading #cryptoprices #altcoins #bitcoin', \"['cryptocurrency', 'price', 'OKX', 'KINE', 'MRST', 'INX', 'LUNA', 'ZYRO', 'crypto', 'cryptonews', 'cryptoAlerts', 'blockchain', 'cryptotrading', 'cryptoprices', 'altcoins', 'bitcoin']\", 'Crypto Frog', 'False']\n"
     ]
    },
    {
     "name": "stderr",
     "output_type": "stream",
     "text": [
      "Preprocessing tweets: 46568it [00:15, 2960.66it/s]"
     ]
    },
    {
     "name": "stdout",
     "output_type": "stream",
     "text": [
      "Skipping row due to insufficient columns: ['👉https://t.co/AdJlZWUXsw']\n",
      "Skipping row due to insufficient columns: ['$SCT 7.02%']\n",
      "Skipping row due to insufficient columns: ['$STARL 0.46%']\n",
      "Skipping row due to insufficient columns: ['$CQT 0.37%']\n",
      "Skipping row due to insufficient columns: [' #SCT #STARL #CQT #crypto #cryptonews #cryptoAlerts #blockchain  #cryptotrading #cryptoprices #altcoins #bitcoin', \"['cryptocurrency', 'price', 'MEXC', 'SCT', 'STARL', 'CQT', 'crypto', 'cryptonews', 'cryptoAlerts', 'blockchain', 'cryptotrading', 'cryptoprices', 'altcoins', 'bitcoin']\", 'Crypto Frog', 'False']\n",
      "Skipping row due to insufficient columns: ['Coin: $KMON']\n",
      "Skipping row due to insufficient columns: ['Pairs:']\n",
      "Skipping row due to insufficient columns: ['#KMON/#USDT']\n",
      "Skipping row due to insufficient columns: ['#newcoinlisting #crypto #cryptonews #cryptoAlerts #altcoins #bitcoin #blockchain #cryptocurrency #cryptotrading', \"['Phemex', 'KMON', 'USDT', 'newcoinlisting', 'crypto', 'cryptonews', 'cryptoAlerts', 'altcoins', 'bitcoin', 'blockchain', 'cryptocurrency', 'cryptotrading']\", 'CoinListingBot', 'False']\n",
      "Skipping row due to insufficient columns: ['👉https://t.co/YFfSerrmK2']\n",
      "Skipping row due to insufficient columns: ['$ORBR 8.94%']\n",
      "Skipping row due to insufficient columns: ['$SNT 0.38%']\n",
      "Skipping row due to insufficient columns: ['$AGIX 0.32%']\n",
      "Skipping row due to insufficient columns: [' #ORBR #SNT #AGIX #crypto #cryptonews #cryptoAlerts #blockchain  #cryptotrading #cryptoprices #altcoins #bitcoin', \"['cryptocurrency', 'price', 'Huobi', 'ORBR', 'SNT', 'AGIX', 'crypto', 'cryptonews', 'cryptoAlerts', 'blockchain', 'cryptotrading', 'cryptoprices', 'altcoins', 'bitcoin']\", 'Crypto Frog', 'False']\n"
     ]
    },
    {
     "name": "stderr",
     "output_type": "stream",
     "text": [
      "Preprocessing tweets: 47159it [00:15, 2927.87it/s]"
     ]
    },
    {
     "name": "stdout",
     "output_type": "stream",
     "text": [
      "Skipping row due to insufficient columns: ['👉https://t.co/dwh8jR9uho']\n",
      "Skipping row due to insufficient columns: ['$CSTR 5.64%']\n",
      "Skipping row due to insufficient columns: ['$CAPS 1%']\n",
      "Skipping row due to insufficient columns: ['$GZONE 0.99%']\n",
      "Skipping row due to insufficient columns: ['$SNX 0.61%']\n",
      "Skipping row due to insufficient columns: ['$SNT 0.49%']\n",
      "Skipping row due to insufficient columns: [' #CSTR #CAPS #GZONE #SNX #SNT #crypto #cryptonews #cryptoAlerts #blockchain  #cryptotrading #cryptoprices #altcoins #bitcoin', \"['cryptocurrency', 'price', 'GateIo', 'CSTR', 'CAPS', 'GZONE', 'SNX', 'SNT', 'crypto', 'cryptonews', 'cryptoAlerts', 'blockchain', 'cryptotrading', 'cryptoprices', 'altcoins', 'bitcoin']\", 'Crypto Frog', 'False']\n",
      "Skipping row due to insufficient columns: ['👉https://t.co/AdJlZWUXsw']\n",
      "Skipping row due to insufficient columns: ['$DUX 5.29%']\n",
      "Skipping row due to insufficient columns: ['$WNCG 0.74%']\n",
      "Skipping row due to insufficient columns: ['$CAW 0.71%']\n",
      "Skipping row due to insufficient columns: ['$STOS 0.32%']\n",
      "Skipping row due to insufficient columns: [' #DUX #WNCG #CAW #STOS #crypto #cryptonews #cryptoAlerts #blockchain  #cryptotrading #cryptoprices #altcoins #bitcoin', \"['cryptocurrency', 'price', 'MEXC', 'DUX', 'WNCG', 'CAW', 'STOS', 'crypto', 'cryptonews', 'cryptoAlerts', 'blockchain', 'cryptotrading', 'cryptoprices', 'altcoins', 'bitcoin']\", 'Crypto Frog', 'False']\n"
     ]
    },
    {
     "name": "stderr",
     "output_type": "stream",
     "text": [
      "Preprocessing tweets: 47761it [00:16, 2973.76it/s]"
     ]
    },
    {
     "name": "stdout",
     "output_type": "stream",
     "text": [
      "Skipping row due to insufficient columns: ['👉https://t.co/dwh8jR9uho']\n",
      "Skipping row due to insufficient columns: ['$PAW 7.9%']\n",
      "Skipping row due to insufficient columns: ['$XIL 1.66%']\n",
      "Skipping row due to insufficient columns: ['$CELT 1.31%']\n",
      "Skipping row due to insufficient columns: ['$VELO 0.86%']\n",
      "Skipping row due to insufficient columns: ['$WLKN 0.82%']\n",
      "Skipping row due to insufficient columns: [' #PAW #XIL #CELT #VELO #WLKN #crypto #cryptonews #cryptoAlerts #blockchain  #cryptotrading #cryptoprices #altcoins #bitcoin', \"['cryptocurrency', 'price', 'GateIo', 'PAW', 'XIL', 'CELT', 'VELO', 'WLKN', 'crypto', 'cryptonews', 'cryptoAlerts', 'blockchain', 'cryptotrading', 'cryptoprices', 'altcoins', 'bitcoin']\", 'Crypto Frog', 'False']\n",
      "Skipping row due to insufficient columns: ['👉https://t.co/AdJlZWUXsw']\n",
      "Skipping row due to insufficient columns: ['$SCT 6.61%']\n",
      "Skipping row due to insufficient columns: ['$PMON 0.42%']\n",
      "Skipping row due to insufficient columns: ['$HBAR 0.41%']\n",
      "Skipping row due to insufficient columns: [' #SCT #PMON #HBAR #crypto #cryptonews #cryptoAlerts #blockchain  #cryptotrading #cryptoprices #altcoins #bitcoin', \"['cryptocurrency', 'price', 'MEXC', 'SCT', 'PMON', 'HBAR', 'crypto', 'cryptonews', 'cryptoAlerts', 'blockchain', 'cryptotrading', 'cryptoprices', 'altcoins', 'bitcoin']\", 'Crypto Frog', 'False']\n",
      "Skipping row due to insufficient columns: ['👉https://t.co/dwh8jR9uho']\n",
      "Skipping row due to insufficient columns: ['$PAW 3.05%']\n",
      "Skipping row due to insufficient columns: ['$WAXL 0.78%']\n",
      "Skipping row due to insufficient columns: ['$EJS 0.61%']\n",
      "Skipping row due to insufficient columns: ['$XETA 0.49%']\n",
      "Skipping row due to insufficient columns: ['$YFX 0.41%']\n",
      "Skipping row due to insufficient columns: [' #PAW #WAXL #EJS #XETA #YFX #crypto #cryptonews #cryptoAlerts #blockchain  #cryptotrading #cryptoprices #altcoins #bitcoin', \"['cryptocurrency', 'price', 'GateIo', 'PAW', 'WAXL', 'EJS', 'XETA', 'YFX', 'crypto', 'cryptonews', 'cryptoAlerts', 'blockchain', 'cryptotrading', 'cryptoprices', 'altcoins', 'bitcoin']\", 'Crypto Frog', 'False']\n",
      "Skipping row due to insufficient columns: ['👉https://t.co/dwh8jR9uho']\n",
      "Skipping row due to insufficient columns: ['$KINT 3.5%']\n",
      "Skipping row due to insufficient columns: ['$PNG 0.84%']\n",
      "Skipping row due to insufficient columns: ['$DPY 0.54%']\n",
      "Skipping row due to insufficient columns: ['$ISP 0.53%']\n",
      "Skipping row due to insufficient columns: ['$T23 0.47%']\n",
      "Skipping row due to insufficient columns: [' #KINT #PNG #DPY #ISP #T23 #crypto #cryptonews #cryptoAlerts #blockchain  #cryptotrading #cryptoprices #altcoins #bitcoin', \"['cryptocurrency', 'price', 'GateIo', 'KINT', 'PNG', 'DPY', 'ISP', 'T23', 'crypto', 'cryptonews', 'cryptoAlerts', 'blockchain', 'cryptotrading', 'cryptoprices', 'altcoins', 'bitcoin']\", 'Crypto Frog', 'False']\n",
      "Skipping row due to insufficient columns: ['👉https://t.co/dwh8jR9uho']\n",
      "Skipping row due to insufficient columns: ['$MMM 3.82%']\n",
      "Skipping row due to insufficient columns: ['$SWAP 1.18%']\n",
      "Skipping row due to insufficient columns: ['$LOWB 0.67%']\n",
      "Skipping row due to insufficient columns: ['$RITE 0.4%']\n",
      "Skipping row due to insufficient columns: ['$SNX 0.4%']\n",
      "Skipping row due to insufficient columns: [' #MMM #SWAP #LOWB #RITE #SNX #crypto #cryptonews #cryptoAlerts #blockchain  #cryptotrading #cryptoprices #altcoins #bitcoin', \"['cryptocurrency', 'price', 'GateIo', 'MMM', 'SWAP', 'LOWB', 'RITE', 'SNX', 'crypto', 'cryptonews', 'cryptoAlerts', 'blockchain', 'cryptotrading', 'cryptoprices', 'altcoins', 'bitcoin']\", 'Crypto Frog', 'False']\n"
     ]
    },
    {
     "name": "stderr",
     "output_type": "stream",
     "text": [
      "Preprocessing tweets: 48683it [00:16, 2957.93it/s]"
     ]
    },
    {
     "name": "stdout",
     "output_type": "stream",
     "text": [
      "Skipping row due to insufficient columns: ['👉https://t.co/dwh8jR9uho']\n",
      "Skipping row due to insufficient columns: ['$ZONE 3.47%']\n",
      "Skipping row due to insufficient columns: ['$FRM 1.81%']\n",
      "Skipping row due to insufficient columns: ['$POLS 0.52%']\n",
      "Skipping row due to insufficient columns: ['$XEM 0.51%']\n",
      "Skipping row due to insufficient columns: ['$FLUX 0.49%']\n",
      "Skipping row due to insufficient columns: [' #ZONE #FRM #POLS #XEM #FLUX #crypto #cryptonews #cryptoAlerts #blockchain  #cryptotrading #cryptoprices #altcoins #bitcoin', \"['cryptocurrency', 'price', 'GateIo', 'ZONE', 'FRM', 'POLS', 'XEM', 'FLUX', 'crypto', 'cryptonews', 'cryptoAlerts', 'blockchain', 'cryptotrading', 'cryptoprices', 'altcoins', 'bitcoin']\", 'Crypto Frog', 'False']\n",
      "Skipping row due to insufficient columns: ['👉https://t.co/dwh8jR9uho']\n",
      "Skipping row due to insufficient columns: ['$BCX 5.98%']\n",
      "Skipping row due to insufficient columns: ['$DOCK 2.59%']\n",
      "Skipping row due to insufficient columns: ['$TOKE 0.61%']\n",
      "Skipping row due to insufficient columns: ['$GAFI 0.58%']\n",
      "Skipping row due to insufficient columns: ['$HSF 0.55%']\n",
      "Skipping row due to insufficient columns: [' #BCX #DOCK #TOKE #GAFI #HSF #crypto #cryptonews #cryptoAlerts #blockchain  #cryptotrading #cryptoprices #altcoins #bitcoin', \"['cryptocurrency', 'price', 'GateIo', 'BCX', 'DOCK', 'TOKE', 'GAFI', 'HSF', 'crypto', 'cryptonews', 'cryptoAlerts', 'blockchain', 'cryptotrading', 'cryptoprices', 'altcoins', 'bitcoin']\", 'Crypto Frog', 'False']\n",
      "Skipping row due to insufficient columns: ['Coin: $CASTLE']\n",
      "Skipping row due to insufficient columns: ['Pairs:']\n",
      "Skipping row due to insufficient columns: ['#CASTLE/#USDT']\n",
      "Skipping row due to insufficient columns: ['#newcoinlisting #crypto #cryptonews #cryptoAlerts #altcoins #bitcoin #blockchain #cryptocurrency #cryptotrading', \"['Coinsbit', 'CASTLE', 'USDT', 'newcoinlisting', 'crypto', 'cryptonews', 'cryptoAlerts', 'altcoins', 'bitcoin', 'blockchain', 'cryptocurrency', 'cryptotrading']\", 'CoinListingBot', 'False']\n",
      "Skipping row due to insufficient columns: ['👉https://t.co/dwh8jR9uho']\n",
      "Skipping row due to insufficient columns: ['$KGC 5.5%']\n",
      "Skipping row due to insufficient columns: ['$BNX 0.6%']\n",
      "Skipping row due to insufficient columns: ['$AGLD 0.47%']\n",
      "Skipping row due to insufficient columns: ['$FITFI 0.36%']\n",
      "Skipping row due to insufficient columns: ['$SOLO 0.35%']\n",
      "Skipping row due to insufficient columns: [' #KGC #BNX #AGLD #FITFI #SOLO #crypto #cryptonews #cryptoAlerts #blockchain  #cryptotrading #cryptoprices #altcoins #bitcoin', \"['cryptocurrency', 'price', 'GateIo', 'KGC', 'BNX', 'AGLD', 'FITFI', 'SOLO', 'crypto', 'cryptonews', 'cryptoAlerts', 'blockchain', 'cryptotrading', 'cryptoprices', 'altcoins', 'bitcoin']\", 'Crypto Frog', 'False']\n"
     ]
    },
    {
     "name": "stderr",
     "output_type": "stream",
     "text": [
      "Preprocessing tweets: 49824it [00:16, 2745.90it/s]"
     ]
    },
    {
     "name": "stdout",
     "output_type": "stream",
     "text": [
      "Skipping row due to insufficient columns: ['👉https://t.co/dwh8jR9uho']\n",
      "Skipping row due to insufficient columns: ['$RDN 3.84%']\n",
      "Skipping row due to insufficient columns: ['$BDP 1.14%']\n",
      "Skipping row due to insufficient columns: ['$ILV 0.48%']\n",
      "Skipping row due to insufficient columns: ['$LIFE 0.46%']\n",
      "Skipping row due to insufficient columns: ['$DC 0.44%']\n",
      "Skipping row due to insufficient columns: [' #RDN #BDP #ILV #LIFE #DC #crypto #cryptonews #cryptoAlerts #blockchain  #cryptotrading #cryptoprices #altcoins #bitcoin', \"['cryptocurrency', 'price', 'GateIo', 'RDN', 'BDP', 'ILV', 'LIFE', 'DC', 'crypto', 'cryptonews', 'cryptoAlerts', 'blockchain', 'cryptotrading', 'cryptoprices', 'altcoins', 'bitcoin']\", 'Crypto Frog', 'False']\n",
      "Skipping row due to insufficient columns: ['👉https://t.co/dwh8jR9uho']\n",
      "Skipping row due to insufficient columns: ['$XIL 3.99%']\n",
      "Skipping row due to insufficient columns: ['$XTAG 2.54%']\n",
      "Skipping row due to insufficient columns: ['$PNT 1.51%']\n",
      "Skipping row due to insufficient columns: ['$BONK 0.72%']\n",
      "Skipping row due to insufficient columns: ['$AGLD 0.69%']\n",
      "Skipping row due to insufficient columns: [' #XIL #XTAG #PNT #BONK #AGLD #crypto #cryptonews #cryptoAlerts #blockchain  #cryptotrading #cryptoprices #altcoins #bitcoin', \"['cryptocurrency', 'price', 'GateIo', 'XIL', 'XTAG', 'PNT', 'BONK', 'AGLD', 'crypto', 'cryptonews', 'cryptoAlerts', 'blockchain', 'cryptotrading', 'cryptoprices', 'altcoins', 'bitcoin']\", 'Crypto Frog', 'False']\n"
     ]
    },
    {
     "name": "stderr",
     "output_type": "stream",
     "text": [
      "Preprocessing tweets: 50423it [00:17, 2860.68it/s]"
     ]
    },
    {
     "name": "stdout",
     "output_type": "stream",
     "text": [
      "Skipping row due to insufficient columns: ['👉https://t.co/dwh8jR9uho']\n",
      "Skipping row due to insufficient columns: ['$RITE 3.6%']\n",
      "Skipping row due to insufficient columns: ['$OAS 0.9%']\n",
      "Skipping row due to insufficient columns: ['$PAW 0.75%']\n",
      "Skipping row due to insufficient columns: ['$SMART 0.68%']\n",
      "Skipping row due to insufficient columns: ['$DC 0.51%']\n",
      "Skipping row due to insufficient columns: [' #RITE #OAS #PAW #SMART #DC #crypto #cryptonews #cryptoAlerts #blockchain  #cryptotrading #cryptoprices #altcoins #bitcoin', \"['cryptocurrency', 'price', 'GateIo', 'RITE', 'OAS', 'PAW', 'SMART', 'DC', 'crypto', 'cryptonews', 'cryptoAlerts', 'blockchain', 'cryptotrading', 'cryptoprices', 'altcoins', 'bitcoin']\", 'Crypto Frog', 'False']\n",
      "Skipping row due to insufficient columns: ['👉https://t.co/dwh8jR9uho']\n",
      "Skipping row due to insufficient columns: ['$BCX 4.23%']\n",
      "Skipping row due to insufficient columns: ['$PNT 0.87%']\n",
      "Skipping row due to insufficient columns: ['$GOAL 0.51%']\n",
      "Skipping row due to insufficient columns: ['$SNX 0.51%']\n",
      "Skipping row due to insufficient columns: ['$MANA 0.45%']\n",
      "Skipping row due to insufficient columns: [' #BCX #PNT #GOAL #SNX #MANA #crypto #cryptonews #cryptoAlerts #blockchain  #cryptotrading #cryptoprices #altcoins #bitcoin', \"['cryptocurrency', 'price', 'GateIo', 'BCX', 'PNT', 'GOAL', 'SNX', 'MANA', 'crypto', 'cryptonews', 'cryptoAlerts', 'blockchain', 'cryptotrading', 'cryptoprices', 'altcoins', 'bitcoin']\", 'Crypto Frog', 'False']\n",
      "Skipping row due to insufficient columns: ['👉https://t.co/dwh8jR9uho']\n",
      "Skipping row due to insufficient columns: ['$APX 4.51%']\n",
      "Skipping row due to insufficient columns: ['$VRX 1.67%']\n",
      "Skipping row due to insufficient columns: ['$TWT 0.72%']\n",
      "Skipping row due to insufficient columns: ['$QUACK 0.66%']\n",
      "Skipping row due to insufficient columns: ['$PAW 0.62%']\n",
      "Skipping row due to insufficient columns: [' #APX #VRX #TWT #QUACK #PAW #crypto #cryptonews #cryptoAlerts #blockchain  #cryptotrading #cryptoprices #altcoins #bitcoin', \"['cryptocurrency', 'price', 'GateIo', 'APX', 'VRX', 'TWT', 'QUACK', 'PAW', 'crypto', 'cryptonews', 'cryptoAlerts', 'blockchain', 'cryptotrading', 'cryptoprices', 'altcoins', 'bitcoin']\", 'Crypto Frog', 'False']\n"
     ]
    },
    {
     "name": "stderr",
     "output_type": "stream",
     "text": [
      "Preprocessing tweets: 51293it [00:17, 2882.46it/s]"
     ]
    },
    {
     "name": "stdout",
     "output_type": "stream",
     "text": [
      "Skipping row due to insufficient columns: ['Coin: $GOAL']\n",
      "Skipping row due to insufficient columns: ['Pairs:']\n",
      "Skipping row due to insufficient columns: ['#GOAL/#BUSD']\n",
      "Skipping row due to insufficient columns: ['#newcoinlisting #crypto #cryptonews #cryptoAlerts #altcoins #bitcoin #blockchain #cryptocurrency #cryptotrading', \"['Bilaxy', 'GOAL', 'BUSD', 'newcoinlisting', 'crypto', 'cryptonews', 'cryptoAlerts', 'altcoins', 'bitcoin', 'blockchain', 'cryptocurrency', 'cryptotrading']\", 'CoinListingBot', 'False']\n",
      "Skipping row due to insufficient columns: ['👉https://t.co/dwh8jR9uho']\n",
      "Skipping row due to insufficient columns: ['$CSTR 6.83%']\n",
      "Skipping row due to insufficient columns: ['$XDB 0.43%']\n",
      "Skipping row due to insufficient columns: ['$KLAY 0.38%']\n",
      "Skipping row due to insufficient columns: ['$SNX 0.37%']\n",
      "Skipping row due to insufficient columns: ['$LDO 0.37%']\n",
      "Skipping row due to insufficient columns: [' #CSTR #XDB #KLAY #SNX #LDO #crypto #cryptonews #cryptoAlerts #blockchain  #cryptotrading #cryptoprices #altcoins #bitcoin', \"['cryptocurrency', 'price', 'GateIo', 'CSTR', 'XDB', 'KLAY', 'SNX', 'LDO', 'crypto', 'cryptonews', 'cryptoAlerts', 'blockchain', 'cryptotrading', 'cryptoprices', 'altcoins', 'bitcoin']\", 'Crypto Frog', 'False']\n"
     ]
    },
    {
     "name": "stderr",
     "output_type": "stream",
     "text": [
      "Preprocessing tweets: 51892it [00:17, 2882.92it/s]"
     ]
    },
    {
     "name": "stdout",
     "output_type": "stream",
     "text": [
      "Skipping row due to insufficient columns: ['👉https://t.co/dwh8jR9uho']\n",
      "Skipping row due to insufficient columns: ['$XTAG 3.48%']\n",
      "Skipping row due to insufficient columns: ['$VINU 0.4%']\n",
      "Skipping row due to insufficient columns: ['$RAY 0.38%']\n",
      "Skipping row due to insufficient columns: ['$OGN 0.37%']\n",
      "Skipping row due to insufficient columns: ['$LGX 0.36%']\n",
      "Skipping row due to insufficient columns: [' #XTAG #VINU #RAY #OGN #LGX #crypto #cryptonews #cryptoAlerts #blockchain  #cryptotrading #cryptoprices #altcoins #bitcoin', \"['cryptocurrency', 'price', 'GateIo', 'XTAG', 'VINU', 'RAY', 'OGN', 'LGX', 'crypto', 'cryptonews', 'cryptoAlerts', 'blockchain', 'cryptotrading', 'cryptoprices', 'altcoins', 'bitcoin']\", 'Crypto Frog', 'False']\n",
      "Skipping row due to insufficient columns: ['👉https://t.co/dwh8jR9uho']\n",
      "Skipping row due to insufficient columns: ['$NXD 3.21%']\n",
      "Skipping row due to insufficient columns: ['$SWAP 0.96%']\n",
      "Skipping row due to insufficient columns: ['$HAM 0.69%']\n",
      "Skipping row due to insufficient columns: ['$DAFI 0.39%']\n",
      "Skipping row due to insufficient columns: ['$AGIX 0.35%']\n",
      "Skipping row due to insufficient columns: [' #NXD #SWAP #HAM #DAFI #AGIX #crypto #cryptonews #cryptoAlerts #blockchain  #cryptotrading #cryptoprices #altcoins #bitcoin', \"['cryptocurrency', 'price', 'GateIo', 'NXD', 'SWAP', 'HAM', 'DAFI', 'AGIX', 'crypto', 'cryptonews', 'cryptoAlerts', 'blockchain', 'cryptotrading', 'cryptoprices', 'altcoins', 'bitcoin']\", 'Crypto Frog', 'False']\n",
      "Skipping row due to insufficient columns: ['👉https://t.co/XsdBPI7qf6']\n",
      "Skipping row due to insufficient columns: ['$GOAL 3.91%']\n",
      "Skipping row due to insufficient columns: ['$BTM 1.7%']\n",
      "Skipping row due to insufficient columns: ['$SD 0.48%']\n",
      "Skipping row due to insufficient columns: ['$CFX 0.41%']\n",
      "Skipping row due to insufficient columns: ['$ELT 0.37%']\n",
      "Skipping row due to insufficient columns: [' #GOAL #BTM #SD #CFX #ELT #crypto #cryptonews #cryptoAlerts #blockchain  #cryptotrading #cryptoprices #altcoins #bitcoin', \"['cryptocurrency', 'price', 'OKX', 'GOAL', 'BTM', 'SD', 'CFX', 'ELT', 'crypto', 'cryptonews', 'cryptoAlerts', 'blockchain', 'cryptotrading', 'cryptoprices', 'altcoins', 'bitcoin']\", 'Crypto Frog', 'False']\n"
     ]
    },
    {
     "name": "stderr",
     "output_type": "stream",
     "text": [
      "Preprocessing tweets: 52774it [00:17, 2913.63it/s]"
     ]
    },
    {
     "name": "stdout",
     "output_type": "stream",
     "text": [
      "Skipping row due to insufficient columns: ['👉https://t.co/XsdBPI7qf6']\n",
      "Skipping row due to insufficient columns: ['$TAKI 3.15%']\n",
      "Skipping row due to insufficient columns: ['$CNTM 1.31%']\n",
      "Skipping row due to insufficient columns: ['$CELT 1.07%']\n",
      "Skipping row due to insufficient columns: ['$CSPR 0.93%']\n",
      "Skipping row due to insufficient columns: ['$ENJ 0.46%']\n",
      "Skipping row due to insufficient columns: [' #TAKI #CNTM #CELT #CSPR #ENJ #crypto #cryptonews #cryptoAlerts #blockchain  #cryptotrading #cryptoprices #altcoins #bitcoin', \"['cryptocurrency', 'price', 'OKX', 'TAKI', 'CNTM', 'CELT', 'CSPR', 'ENJ', 'crypto', 'cryptonews', 'cryptoAlerts', 'blockchain', 'cryptotrading', 'cryptoprices', 'altcoins', 'bitcoin']\", 'Crypto Frog', 'False']\n",
      "Skipping row due to insufficient columns: ['👉https://t.co/Rms8bPm9sh']\n",
      "Skipping row due to insufficient columns: ['$PNT 3.2%']\n",
      "Skipping row due to insufficient columns: ['$HFT 0.57%']\n",
      "Skipping row due to insufficient columns: ['$SYN 0.53%']\n",
      "Skipping row due to insufficient columns: ['$AGLD 0.47%']\n",
      "Skipping row due to insufficient columns: [' #PNT #HFT #SYN #AGLD #crypto #cryptonews #cryptoAlerts #blockchain  #cryptotrading #cryptoprices #altcoins #bitcoin', \"['cryptocurrency', 'price', 'Binance', 'PNT', 'HFT', 'SYN', 'AGLD', 'crypto', 'cryptonews', 'cryptoAlerts', 'blockchain', 'cryptotrading', 'cryptoprices', 'altcoins', 'bitcoin']\", 'Crypto Frog', 'False']\n",
      "Skipping row due to insufficient columns: ['Coin: $DCNT']\n",
      "Skipping row due to insufficient columns: ['Pairs:']\n",
      "Skipping row due to insufficient columns: ['#DCNT/#USDT']\n",
      "Skipping row due to insufficient columns: ['#newcoinlisting #crypto #cryptonews #cryptoAlerts #altcoins #bitcoin #blockchain #cryptocurrency #cryptotrading', \"['LaToken', 'DCNT', 'USDT', 'newcoinlisting', 'crypto', 'cryptonews', 'cryptoAlerts', 'altcoins', 'bitcoin', 'blockchain', 'cryptocurrency', 'cryptotrading']\", 'CoinListingBot', 'False']\n"
     ]
    },
    {
     "name": "stderr",
     "output_type": "stream",
     "text": [
      "Preprocessing tweets: 53383it [00:18, 2971.09it/s]"
     ]
    },
    {
     "name": "stdout",
     "output_type": "stream",
     "text": [
      "Skipping row due to insufficient columns: ['👉https://t.co/dwh8jR9uho']\n",
      "Skipping row due to insufficient columns: ['$FNF 9.85%']\n",
      "Skipping row due to insufficient columns: ['$CHESS 0.81%']\n",
      "Skipping row due to insufficient columns: ['$SDAO 0.68%']\n",
      "Skipping row due to insufficient columns: ['$ANC 0.42%']\n",
      "Skipping row due to insufficient columns: ['$ICX 0.35%']\n",
      "Skipping row due to insufficient columns: [' #FNF #CHESS #SDAO #ANC #ICX #crypto #cryptonews #cryptoAlerts #blockchain  #cryptotrading #cryptoprices #altcoins #bitcoin', \"['cryptocurrency', 'price', 'GateIo', 'FNF', 'CHESS', 'SDAO', 'ANC', 'ICX', 'crypto', 'cryptonews', 'cryptoAlerts', 'blockchain', 'cryptotrading', 'cryptoprices', 'altcoins', 'bitcoin']\", 'Crypto Frog', 'False']\n",
      "Skipping row due to insufficient columns: ['👉https://t.co/XsdBPI7qf6']\n",
      "Skipping row due to insufficient columns: ['$LDN 4.7%']\n",
      "Skipping row due to insufficient columns: ['$DOME 0.47%']\n",
      "Skipping row due to insufficient columns: ['$DMD 0.35%']\n",
      "Skipping row due to insufficient columns: ['$BLUR 0.33%']\n",
      "Skipping row due to insufficient columns: [' #LDN #DOME #DMD #BLUR #crypto #cryptonews #cryptoAlerts #blockchain  #cryptotrading #cryptoprices #altcoins #bitcoin', \"['cryptocurrency', 'price', 'OKX', 'LDN', 'DOME', 'DMD', 'BLUR', 'crypto', 'cryptonews', 'cryptoAlerts', 'blockchain', 'cryptotrading', 'cryptoprices', 'altcoins', 'bitcoin']\", 'Crypto Frog', 'False']\n",
      "Skipping row due to insufficient columns: ['👉https://t.co/dwh8jR9uho']\n",
      "Skipping row due to insufficient columns: ['$BTM 3.14%']\n",
      "Skipping row due to insufficient columns: ['$HIGH 1.05%']\n",
      "Skipping row due to insufficient columns: ['$BNX 0.86%']\n",
      "Skipping row due to insufficient columns: ['$DFYN 0.83%']\n",
      "Skipping row due to insufficient columns: ['$SRM 0.74%']\n",
      "Skipping row due to insufficient columns: [' #BTM #HIGH #BNX #DFYN #SRM #crypto #cryptonews #cryptoAlerts #blockchain  #cryptotrading #cryptoprices #altcoins #bitcoin', \"['cryptocurrency', 'price', 'GateIo', 'BTM', 'HIGH', 'BNX', 'DFYN', 'SRM', 'crypto', 'cryptonews', 'cryptoAlerts', 'blockchain', 'cryptotrading', 'cryptoprices', 'altcoins', 'bitcoin']\", 'Crypto Frog', 'False']\n"
     ]
    },
    {
     "name": "stderr",
     "output_type": "stream",
     "text": [
      "Preprocessing tweets: 54296it [00:18, 3016.16it/s]"
     ]
    },
    {
     "name": "stdout",
     "output_type": "stream",
     "text": [
      "Skipping row due to insufficient columns: ['👉https://t.co/dwh8jR9uho']\n",
      "Skipping row due to insufficient columns: ['$PAW 3.78%']\n",
      "Skipping row due to insufficient columns: ['$BYN 3.39%']\n",
      "Skipping row due to insufficient columns: ['$ALCX 0.62%']\n",
      "Skipping row due to insufficient columns: ['$BDP 0.62%']\n",
      "Skipping row due to insufficient columns: ['$BTM 0.53%']\n",
      "Skipping row due to insufficient columns: [' #PAW #BYN #ALCX #BDP #BTM #crypto #cryptonews #cryptoAlerts #blockchain  #cryptotrading #cryptoprices #altcoins #bitcoin', \"['cryptocurrency', 'price', 'GateIo', 'PAW', 'BYN', 'ALCX', 'BDP', 'BTM', 'crypto', 'cryptonews', 'cryptoAlerts', 'blockchain', 'cryptotrading', 'cryptoprices', 'altcoins', 'bitcoin']\", 'Crypto Frog', 'False']\n",
      "Skipping row due to insufficient columns: ['👉https://t.co/dwh8jR9uho']\n",
      "Skipping row due to insufficient columns: ['$PAW 3.09%']\n",
      "Skipping row due to insufficient columns: ['$REF 1.07%']\n",
      "Skipping row due to insufficient columns: ['$STX 0.88%']\n",
      "Skipping row due to insufficient columns: ['$FET 0.65%']\n",
      "Skipping row due to insufficient columns: ['$LDO 0.63%']\n",
      "Skipping row due to insufficient columns: [' #PAW #REF #STX #FET #LDO #crypto #cryptonews #cryptoAlerts #blockchain  #cryptotrading #cryptoprices #altcoins #bitcoin', \"['cryptocurrency', 'price', 'GateIo', 'PAW', 'REF', 'STX', 'FET', 'LDO', 'crypto', 'cryptonews', 'cryptoAlerts', 'blockchain', 'cryptotrading', 'cryptoprices', 'altcoins', 'bitcoin']\", 'Crypto Frog', 'False']\n",
      "Skipping row due to insufficient columns: ['👉https://t.co/XsdBPI7qf6']\n",
      "Skipping row due to insufficient columns: ['$EM 3.55%']\n",
      "Skipping row due to insufficient columns: ['$AGLD 1.76%']\n",
      "Skipping row due to insufficient columns: ['$FITFI 0.74%']\n",
      "Skipping row due to insufficient columns: ['$CNTM 0.54%']\n",
      "Skipping row due to insufficient columns: ['$GMX 0.52%']\n",
      "Skipping row due to insufficient columns: [' #EM #AGLD #FITFI #CNTM #GMX #crypto #cryptonews #cryptoAlerts #blockchain  #cryptotrading #cryptoprices #altcoins #bitcoin', \"['cryptocurrency', 'price', 'OKX', 'EM', 'AGLD', 'FITFI', 'CNTM', 'GMX', 'crypto', 'cryptonews', 'cryptoAlerts', 'blockchain', 'cryptotrading', 'cryptoprices', 'altcoins', 'bitcoin']\", 'Crypto Frog', 'False']\n"
     ]
    },
    {
     "name": "stderr",
     "output_type": "stream",
     "text": [
      "Preprocessing tweets: 54907it [00:18, 3006.41it/s]"
     ]
    },
    {
     "name": "stdout",
     "output_type": "stream",
     "text": [
      "Skipping row due to insufficient columns: ['Coin: $KCT']\n",
      "Skipping row due to insufficient columns: ['Pairs:']\n",
      "Skipping row due to insufficient columns: ['#KCT/#USDT']\n",
      "Skipping row due to insufficient columns: ['#newcoinlisting #crypto #cryptonews #cryptoAlerts #altcoins #bitcoin #blockchain #cryptocurrency #cryptotrading', \"['Bilaxy', 'KCT', 'USDT', 'newcoinlisting', 'crypto', 'cryptonews', 'cryptoAlerts', 'altcoins', 'bitcoin', 'blockchain', 'cryptocurrency', 'cryptotrading']\", 'CoinListingBot', 'False']\n",
      "Skipping row due to insufficient columns: ['👉https://t.co/dwh8jR9uho']\n",
      "Skipping row due to insufficient columns: ['$FDC 4.64%']\n",
      "Skipping row due to insufficient columns: ['$RDN 3.88%']\n",
      "Skipping row due to insufficient columns: ['$SCRT 1%']\n",
      "Skipping row due to insufficient columns: ['$SWP 0.82%']\n",
      "Skipping row due to insufficient columns: ['$STX 0.65%']\n",
      "Skipping row due to insufficient columns: [' #FDC #RDN #SCRT #SWP #STX #crypto #cryptonews #cryptoAlerts #blockchain  #cryptotrading #cryptoprices #altcoins #bitcoin', \"['cryptocurrency', 'price', 'GateIo', 'FDC', 'RDN', 'SCRT', 'SWP', 'STX', 'crypto', 'cryptonews', 'cryptoAlerts', 'blockchain', 'cryptotrading', 'cryptoprices', 'altcoins', 'bitcoin']\", 'Crypto Frog', 'False']\n",
      "Skipping row due to insufficient columns: ['👉https://t.co/dwh8jR9uho']\n",
      "Skipping row due to insufficient columns: ['$ALU 5.55%']\n",
      "Skipping row due to insufficient columns: ['$STOS 1.1%']\n",
      "Skipping row due to insufficient columns: ['$XEM 0.61%']\n",
      "Skipping row due to insufficient columns: ['$RNDR 0.5%']\n",
      "Skipping row due to insufficient columns: ['$INJ 0.42%']\n",
      "Skipping row due to insufficient columns: [' #ALU #STOS #XEM #RNDR #INJ #crypto #cryptonews #cryptoAlerts #blockchain  #cryptotrading #cryptoprices #altcoins #bitcoin', \"['cryptocurrency', 'price', 'GateIo', 'ALU', 'STOS', 'XEM', 'RNDR', 'INJ', 'crypto', 'cryptonews', 'cryptoAlerts', 'blockchain', 'cryptotrading', 'cryptoprices', 'altcoins', 'bitcoin']\", 'Crypto Frog', 'False']\n",
      "Skipping row due to insufficient columns: ['👉https://t.co/XsdBPI7qf6']\n",
      "Skipping row due to insufficient columns: ['$TAKI 3.58%']\n",
      "Skipping row due to insufficient columns: ['$CHE 0.45%']\n",
      "Skipping row due to insufficient columns: ['$DCR 0.41%']\n",
      "Skipping row due to insufficient columns: ['$CGL 0.4%']\n",
      "Skipping row due to insufficient columns: ['$BADGER 0.35%']\n",
      "Skipping row due to insufficient columns: [' #TAKI #CHE #DCR #CGL #BADGER #crypto #cryptonews #cryptoAlerts #blockchain  #cryptotrading #cryptoprices #altcoins #bitcoin', \"['cryptocurrency', 'price', 'OKX', 'TAKI', 'CHE', 'DCR', 'CGL', 'BADGER', 'crypto', 'cryptonews', 'cryptoAlerts', 'blockchain', 'cryptotrading', 'cryptoprices', 'altcoins', 'bitcoin']\", 'Crypto Frog', 'False']\n"
     ]
    },
    {
     "name": "stderr",
     "output_type": "stream",
     "text": [
      "Preprocessing tweets: 55846it [00:18, 3078.78it/s]"
     ]
    },
    {
     "name": "stdout",
     "output_type": "stream",
     "text": [
      "Skipping row due to insufficient columns: ['👉https://t.co/XsdBPI7qf6']\n",
      "Skipping row due to insufficient columns: ['$CELT 3.53%']\n",
      "Skipping row due to insufficient columns: ['$CORE 1.04%']\n",
      "Skipping row due to insufficient columns: ['$MASK 0.77%']\n",
      "Skipping row due to insufficient columns: ['$CNTM 0.62%']\n",
      "Skipping row due to insufficient columns: ['$DEP 0.46%']\n",
      "Skipping row due to insufficient columns: [' #CELT #CORE #MASK #CNTM #DEP #crypto #cryptonews #cryptoAlerts #blockchain  #cryptotrading #cryptoprices #altcoins #bitcoin', \"['cryptocurrency', 'price', 'OKX', 'CELT', 'CORE', 'MASK', 'CNTM', 'DEP', 'crypto', 'cryptonews', 'cryptoAlerts', 'blockchain', 'cryptotrading', 'cryptoprices', 'altcoins', 'bitcoin']\", 'Crypto Frog', 'False']\n",
      "Skipping row due to insufficient columns: ['👉https://t.co/XsdBPI7qf6']\n",
      "Skipping row due to insufficient columns: ['$CELT 3.28%']\n",
      "Skipping row due to insufficient columns: ['$ALCX 1.22%']\n",
      "Skipping row due to insufficient columns: ['$MOVR 1.15%']\n",
      "Skipping row due to insufficient columns: ['$SNX 1.13%']\n",
      "Skipping row due to insufficient columns: ['$CFX 0.64%']\n",
      "Skipping row due to insufficient columns: [' #CELT #ALCX #MOVR #SNX #CFX #crypto #cryptonews #cryptoAlerts #blockchain  #cryptotrading #cryptoprices #altcoins #bitcoin', \"['cryptocurrency', 'price', 'OKX', 'CELT', 'ALCX', 'MOVR', 'SNX', 'CFX', 'crypto', 'cryptonews', 'cryptoAlerts', 'blockchain', 'cryptotrading', 'cryptoprices', 'altcoins', 'bitcoin']\", 'Crypto Frog', 'False']\n",
      "Skipping row due to insufficient columns: ['👉https://t.co/XsdBPI7qf6']\n",
      "Skipping row due to insufficient columns: ['$CELT 4.06%']\n",
      "Skipping row due to insufficient columns: ['$PSTAKE 0.98%']\n",
      "Skipping row due to insufficient columns: ['$SC 0.87%']\n",
      "Skipping row due to insufficient columns: ['$TAKI 0.75%']\n",
      "Skipping row due to insufficient columns: ['$INX 0.71%']\n",
      "Skipping row due to insufficient columns: [' #CELT #PSTAKE #SC #TAKI #INX #crypto #cryptonews #cryptoAlerts #blockchain  #cryptotrading #cryptoprices #altcoins #bitcoin', \"['cryptocurrency', 'price', 'OKX', 'CELT', 'PSTAKE', 'SC', 'TAKI', 'INX', 'crypto', 'cryptonews', 'cryptoAlerts', 'blockchain', 'cryptotrading', 'cryptoprices', 'altcoins', 'bitcoin']\", 'Crypto Frog', 'False']\n",
      "Skipping row due to insufficient columns: ['👉https://t.co/XsdBPI7qf6']\n",
      "Skipping row due to insufficient columns: ['$RNT 5.88%']\n",
      "Skipping row due to insufficient columns: ['$SC 1.43%']\n",
      "Skipping row due to insufficient columns: ['$BZZ 1.42%']\n",
      "Skipping row due to insufficient columns: ['$TRADE 0.81%']\n",
      "Skipping row due to insufficient columns: ['$TAKI 0.76%']\n",
      "Skipping row due to insufficient columns: [' #RNT #SC #BZZ #TRADE #TAKI #crypto #cryptonews #cryptoAlerts #blockchain  #cryptotrading #cryptoprices #altcoins #bitcoin', \"['cryptocurrency', 'price', 'OKX', 'RNT', 'SC', 'BZZ', 'TRADE', 'TAKI', 'crypto', 'cryptonews', 'cryptoAlerts', 'blockchain', 'cryptotrading', 'cryptoprices', 'altcoins', 'bitcoin']\", 'Crypto Frog', 'False']\n",
      "Skipping row due to insufficient columns: ['👉https://t.co/XsdBPI7qf6']\n",
      "Skipping row due to insufficient columns: ['$CELT 3.07%']\n",
      "Skipping row due to insufficient columns: ['$TAKI 1.61%']\n",
      "Skipping row due to insufficient columns: ['$GF 0.78%']\n",
      "Skipping row due to insufficient columns: ['$CGL 0.52%']\n",
      "Skipping row due to insufficient columns: ['$KINE 0.5%']\n",
      "Skipping row due to insufficient columns: [' #CELT #TAKI #GF #CGL #KINE #crypto #cryptonews #cryptoAlerts #blockchain  #cryptotrading #cryptoprices #altcoins #bitcoin', \"['cryptocurrency', 'price', 'OKX', 'CELT', 'TAKI', 'GF', 'CGL', 'KINE', 'crypto', 'cryptonews', 'cryptoAlerts', 'blockchain', 'cryptotrading', 'cryptoprices', 'altcoins', 'bitcoin']\", 'Crypto Frog', 'False']\n"
     ]
    },
    {
     "name": "stderr",
     "output_type": "stream",
     "text": [
      "Preprocessing tweets: 56463it [00:19, 3012.99it/s]"
     ]
    },
    {
     "name": "stdout",
     "output_type": "stream",
     "text": [
      "Skipping row due to insufficient columns: ['👉https://t.co/dwh8jR9uho']\n",
      "Skipping row due to insufficient columns: ['$DMS 8.79%']\n",
      "Skipping row due to insufficient columns: ['$EGS 1.23%']\n",
      "Skipping row due to insufficient columns: ['$SDN 0.38%']\n",
      "Skipping row due to insufficient columns: ['$DHX 0.3%']\n",
      "Skipping row due to insufficient columns: [' #DMS #EGS #SDN #DHX #crypto #cryptonews #cryptoAlerts #blockchain  #cryptotrading #cryptoprices #altcoins #bitcoin', \"['cryptocurrency', 'price', 'GateIo', 'DMS', 'EGS', 'SDN', 'DHX', 'crypto', 'cryptonews', 'cryptoAlerts', 'blockchain', 'cryptotrading', 'cryptoprices', 'altcoins', 'bitcoin']\", 'Crypto Frog', 'False']\n",
      "Skipping row due to insufficient columns: ['👉https://t.co/XsdBPI7qf6']\n",
      "Skipping row due to insufficient columns: ['$TAKI 3.48%']\n",
      "Skipping row due to insufficient columns: ['$TUP 0.99%']\n",
      "Skipping row due to insufficient columns: ['$GAS 0.93%']\n",
      "Skipping row due to insufficient columns: ['$GF 0.79%']\n",
      "Skipping row due to insufficient columns: ['$CELT 0.65%']\n",
      "Skipping row due to insufficient columns: [' #TAKI #TUP #GAS #GF #CELT #crypto #cryptonews #cryptoAlerts #blockchain  #cryptotrading #cryptoprices #altcoins #bitcoin', \"['cryptocurrency', 'price', 'OKX', 'TAKI', 'TUP', 'GAS', 'GF', 'CELT', 'crypto', 'cryptonews', 'cryptoAlerts', 'blockchain', 'cryptotrading', 'cryptoprices', 'altcoins', 'bitcoin']\", 'Crypto Frog', 'False']\n",
      "Skipping row due to insufficient columns: ['Coin: $BAND']\n",
      "Skipping row due to insufficient columns: ['Pairs:']\n",
      "Skipping row due to insufficient columns: ['#BAND/#USDT']\n",
      "Skipping row due to insufficient columns: ['#newcoinlisting #crypto #cryptonews #cryptoAlerts #altcoins #bitcoin #blockchain #cryptocurrency #cryptotrading', \"['DexTrade', 'BAND', 'USDT', 'newcoinlisting', 'crypto', 'cryptonews', 'cryptoAlerts', 'altcoins', 'bitcoin', 'blockchain', 'cryptocurrency', 'cryptotrading']\", 'CoinListingBot', 'False']\n",
      "Skipping row due to insufficient columns: ['Coin: $BAND']\n",
      "Skipping row due to insufficient columns: ['Pairs:']\n",
      "Skipping row due to insufficient columns: ['#BAND/#BTC']\n",
      "Skipping row due to insufficient columns: ['#newcoinlisting #crypto #cryptonews #cryptoAlerts #altcoins #bitcoin #blockchain #cryptocurrency #cryptotrading', \"['DexTrade', 'BAND', 'BTC', 'newcoinlisting', 'crypto', 'cryptonews', 'cryptoAlerts', 'altcoins', 'bitcoin', 'blockchain', 'cryptocurrency', 'cryptotrading']\", 'CoinListingBot', 'False']\n",
      "Skipping row due to insufficient columns: ['Coin: $SBONK']\n",
      "Skipping row due to insufficient columns: ['Pairs:']\n",
      "Skipping row due to insufficient columns: ['#SBONK/#USDT']\n",
      "Skipping row due to insufficient columns: ['#newcoinlisting #crypto #cryptonews #cryptoAlerts #altcoins #bitcoin #blockchain #cryptocurrency #cryptotrading', \"['P2PB2B', 'SBONK', 'USDT', 'newcoinlisting', 'crypto', 'cryptonews', 'cryptoAlerts', 'altcoins', 'bitcoin', 'blockchain', 'cryptocurrency', 'cryptotrading']\", 'CoinListingBot', 'False']\n",
      "Skipping row due to insufficient columns: ['👉https://t.co/dwh8jR9uho']\n",
      "Skipping row due to insufficient columns: ['$SPA 3.75%']\n",
      "Skipping row due to insufficient columns: ['$BNX 0.88%']\n",
      "Skipping row due to insufficient columns: ['$DIGG 0.69%']\n",
      "Skipping row due to insufficient columns: ['$SMT 0.68%']\n",
      "Skipping row due to insufficient columns: ['$STAR 0.6%']\n",
      "Skipping row due to insufficient columns: [' #SPA #BNX #DIGG #SMT #STAR #crypto #cryptonews #cryptoAlerts #blockchain  #cryptotrading #cryptoprices #altcoins #bitcoin', \"['cryptocurrency', 'price', 'GateIo', 'SPA', 'BNX', 'DIGG', 'SMT', 'STAR', 'crypto', 'cryptonews', 'cryptoAlerts', 'blockchain', 'cryptotrading', 'cryptoprices', 'altcoins', 'bitcoin']\", 'Crypto Frog', 'False']\n",
      "Skipping row due to insufficient columns: ['👉https://t.co/dwh8jR9uho']\n",
      "Skipping row due to insufficient columns: ['$MELI 3.2%']\n",
      "Skipping row due to insufficient columns: ['$PAW 1.56%']\n",
      "Skipping row due to insufficient columns: ['$ASTR 0.92%']\n",
      "Skipping row due to insufficient columns: ['$SAND 0.65%']\n",
      "Skipping row due to insufficient columns: ['$GAL 0.6%']\n",
      "Skipping row due to insufficient columns: [' #MELI #PAW #ASTR #SAND #GAL #crypto #cryptonews #cryptoAlerts #blockchain  #cryptotrading #cryptoprices #altcoins #bitcoin', \"['cryptocurrency', 'price', 'GateIo', 'MELI', 'PAW', 'ASTR', 'SAND', 'GAL', 'crypto', 'cryptonews', 'cryptoAlerts', 'blockchain', 'cryptotrading', 'cryptoprices', 'altcoins', 'bitcoin']\", 'Crypto Frog', 'False']\n"
     ]
    },
    {
     "name": "stderr",
     "output_type": "stream",
     "text": [
      "Preprocessing tweets: 57073it [00:19, 3001.30it/s]"
     ]
    },
    {
     "name": "stdout",
     "output_type": "stream",
     "text": [
      "Skipping row due to insufficient columns: ['Coin: $SBG']\n",
      "Skipping row due to insufficient columns: ['Pairs:']\n",
      "Skipping row due to insufficient columns: ['#SBG/#USDT']\n",
      "Skipping row due to insufficient columns: ['#newcoinlisting #crypto #cryptonews #cryptoAlerts #altcoins #bitcoin #blockchain #cryptocurrency #cryptotrading', \"['MEXC', 'SBG', 'USDT', 'newcoinlisting', 'crypto', 'cryptonews', 'cryptoAlerts', 'altcoins', 'bitcoin', 'blockchain', 'cryptocurrency', 'cryptotrading']\", 'CoinListingBot', 'False']\n",
      "Skipping row due to insufficient columns: ['Coin: $VSTA']\n",
      "Skipping row due to insufficient columns: ['Pairs:']\n",
      "Skipping row due to insufficient columns: ['#VSTA/#USDT']\n",
      "Skipping row due to insufficient columns: ['#newcoinlisting #crypto #cryptonews #cryptoAlerts #altcoins #bitcoin #blockchain #cryptocurrency #cryptotrading', \"['MEXC', 'VSTA', 'USDT', 'newcoinlisting', 'crypto', 'cryptonews', 'cryptoAlerts', 'altcoins', 'bitcoin', 'blockchain', 'cryptocurrency', 'cryptotrading']\", 'CoinListingBot', 'False']\n",
      "Skipping row due to insufficient columns: ['👉https://t.co/dwh8jR9uho']\n",
      "Skipping row due to insufficient columns: ['$XEM 3.16%']\n",
      "Skipping row due to insufficient columns: ['$BNC 0.83%']\n",
      "Skipping row due to insufficient columns: ['$ONG 0.8%']\n",
      "Skipping row due to insufficient columns: ['$GOVI 0.55%']\n",
      "Skipping row due to insufficient columns: ['$VOXEL 0.53%']\n",
      "Skipping row due to insufficient columns: [' #XEM #BNC #ONG #GOVI #VOXEL #crypto #cryptonews #cryptoAlerts #blockchain  #cryptotrading #cryptoprices #altcoins #bitcoin', \"['cryptocurrency', 'price', 'GateIo', 'XEM', 'BNC', 'ONG', 'GOVI', 'VOXEL', 'crypto', 'cryptonews', 'cryptoAlerts', 'blockchain', 'cryptotrading', 'cryptoprices', 'altcoins', 'bitcoin']\", 'Crypto Frog', 'False']\n",
      "Skipping row due to insufficient columns: ['👉https://t.co/YFfSerrmK2']\n",
      "Skipping row due to insufficient columns: ['$DBC 5.3%']\n",
      "Skipping row due to insufficient columns: ['$ANKR 0.49%']\n",
      "Skipping row due to insufficient columns: ['$FIS 0.42%']\n",
      "Skipping row due to insufficient columns: [' #DBC #ANKR #FIS #crypto #cryptonews #cryptoAlerts #blockchain  #cryptotrading #cryptoprices #altcoins #bitcoin', \"['cryptocurrency', 'price', 'Huobi', 'DBC', 'ANKR', 'FIS', 'crypto', 'cryptonews', 'cryptoAlerts', 'blockchain', 'cryptotrading', 'cryptoprices', 'altcoins', 'bitcoin']\", 'Crypto Frog', 'False']\n"
     ]
    },
    {
     "name": "stderr",
     "output_type": "stream",
     "text": [
      "Preprocessing tweets: 57664it [00:19, 2576.86it/s]"
     ]
    },
    {
     "name": "stdout",
     "output_type": "stream",
     "text": [
      "Skipping row due to insufficient columns: ['Coin: $BTCVB']\n",
      "Skipping row due to insufficient columns: ['Pairs:']\n",
      "Skipping row due to insufficient columns: ['#BTCVB/#USDT']\n",
      "Skipping row due to insufficient columns: ['#newcoinlisting #crypto #cryptonews #cryptoAlerts #altcoins #bitcoin #blockchain #cryptocurrency #cryptotrading', \"['Biconomy', 'BTCVB', 'USDT', 'newcoinlisting', 'crypto', 'cryptonews', 'cryptoAlerts', 'altcoins', 'bitcoin', 'blockchain', 'cryptocurrency', 'cryptotrading']\", 'CoinListingBot', 'False']\n",
      "Skipping row due to insufficient columns: ['Coin: $DAO']\n",
      "Skipping row due to insufficient columns: ['Pairs:']\n",
      "Skipping row due to insufficient columns: ['#DAO/#USDT']\n",
      "Skipping row due to insufficient columns: ['#newcoinlisting #crypto #cryptonews #cryptoAlerts #altcoins #bitcoin #blockchain #cryptocurrency #cryptotrading', \"['Coinstore', 'DAO', 'USDT', 'newcoinlisting', 'crypto', 'cryptonews', 'cryptoAlerts', 'altcoins', 'bitcoin', 'blockchain', 'cryptocurrency', 'cryptotrading']\", 'CoinListingBot', 'False']\n"
     ]
    },
    {
     "name": "stderr",
     "output_type": "stream",
     "text": [
      "Preprocessing tweets: 58522it [00:19, 2724.79it/s]"
     ]
    },
    {
     "name": "stdout",
     "output_type": "stream",
     "text": [
      "Skipping row due to insufficient columns: ['👉https://t.co/XsdBPI7qf6']\n",
      "Skipping row due to insufficient columns: ['$XEM 3.4%']\n",
      "Skipping row due to insufficient columns: ['$MLN 1.2%']\n",
      "Skipping row due to insufficient columns: ['$SNT 0.96%']\n",
      "Skipping row due to insufficient columns: ['$BADGER 0.62%']\n",
      "Skipping row due to insufficient columns: ['$SLP 0.61%']\n",
      "Skipping row due to insufficient columns: [' #XEM #MLN #SNT #BADGER #SLP #crypto #cryptonews #cryptoAlerts #blockchain  #cryptotrading #cryptoprices #altcoins #bitcoin', \"['cryptocurrency', 'price', 'OKX', 'XEM', 'MLN', 'SNT', 'BADGER', 'SLP', 'crypto', 'cryptonews', 'cryptoAlerts', 'blockchain', 'cryptotrading', 'cryptoprices', 'altcoins', 'bitcoin']\", 'Crypto Frog', 'False']\n",
      "Skipping row due to insufficient columns: ['👉https://t.co/dwh8jR9uho']\n",
      "Skipping row due to insufficient columns: ['$SLRS 3.19%']\n",
      "Skipping row due to insufficient columns: ['$SNFT 2.01%']\n",
      "Skipping row due to insufficient columns: ['$MCG 1.53%']\n",
      "Skipping row due to insufficient columns: ['$SOS 0.84%']\n",
      "Skipping row due to insufficient columns: ['$FNCY 0.65%']\n",
      "Skipping row due to insufficient columns: [' #SLRS #SNFT #MCG #SOS #FNCY #crypto #cryptonews #cryptoAlerts #blockchain  #cryptotrading #cryptoprices #altcoins #bitcoin', \"['cryptocurrency', 'price', 'GateIo', 'SLRS', 'SNFT', 'MCG', 'SOS', 'FNCY', 'crypto', 'cryptonews', 'cryptoAlerts', 'blockchain', 'cryptotrading', 'cryptoprices', 'altcoins', 'bitcoin']\", 'Crypto Frog', 'False']\n"
     ]
    },
    {
     "name": "stderr",
     "output_type": "stream",
     "text": [
      "Preprocessing tweets: 59387it [00:20, 2829.78it/s]"
     ]
    },
    {
     "name": "stdout",
     "output_type": "stream",
     "text": [
      "Skipping row due to insufficient columns: ['👉https://t.co/XsdBPI7qf6']\n",
      "Skipping row due to insufficient columns: ['$CGL 5.23%']\n",
      "Skipping row due to insufficient columns: ['$BORING 0.46%']\n",
      "Skipping row due to insufficient columns: ['$LDN 0.42%']\n",
      "Skipping row due to insufficient columns: ['$NYM 0.34%']\n",
      "Skipping row due to insufficient columns: [' #CGL #BORING #LDN #NYM #crypto #cryptonews #cryptoAlerts #blockchain  #cryptotrading #cryptoprices #altcoins #bitcoin', \"['cryptocurrency', 'price', 'OKX', 'CGL', 'BORING', 'LDN', 'NYM', 'crypto', 'cryptonews', 'cryptoAlerts', 'blockchain', 'cryptotrading', 'cryptoprices', 'altcoins', 'bitcoin']\", 'Crypto Frog', 'False']\n",
      "Skipping row due to insufficient columns: ['👉https://t.co/XsdBPI7qf6']\n",
      "Skipping row due to insufficient columns: ['$CGL 6.07%']\n",
      "Skipping row due to insufficient columns: ['$XEM 2.36%']\n",
      "Skipping row due to insufficient columns: ['$HYC 0.65%']\n",
      "Skipping row due to insufficient columns: ['$SNT 0.41%']\n",
      "Skipping row due to insufficient columns: ['$SLP 0.3%']\n",
      "Skipping row due to insufficient columns: [' #CGL #XEM #HYC #SNT #SLP #crypto #cryptonews #cryptoAlerts #blockchain  #cryptotrading #cryptoprices #altcoins #bitcoin', \"['cryptocurrency', 'price', 'OKX', 'CGL', 'XEM', 'HYC', 'SNT', 'SLP', 'crypto', 'cryptonews', 'cryptoAlerts', 'blockchain', 'cryptotrading', 'cryptoprices', 'altcoins', 'bitcoin']\", 'Crypto Frog', 'False']\n",
      "Skipping row due to insufficient columns: ['👉https://t.co/dwh8jR9uho']\n",
      "Skipping row due to insufficient columns: ['$PRT 3.71%']\n",
      "Skipping row due to insufficient columns: ['$ABBC 0.51%']\n",
      "Skipping row due to insufficient columns: ['$CFX 0.41%']\n",
      "Skipping row due to insufficient columns: ['$XCN 0.31%']\n",
      "Skipping row due to insufficient columns: [' #PRT #ABBC #CFX #XCN #crypto #cryptonews #cryptoAlerts #blockchain  #cryptotrading #cryptoprices #altcoins #bitcoin', \"['cryptocurrency', 'price', 'GateIo', 'PRT', 'ABBC', 'CFX', 'XCN', 'crypto', 'cryptonews', 'cryptoAlerts', 'blockchain', 'cryptotrading', 'cryptoprices', 'altcoins', 'bitcoin']\", 'Crypto Frog', 'False']\n"
     ]
    },
    {
     "name": "stderr",
     "output_type": "stream",
     "text": [
      "Preprocessing tweets: 59973it [00:20, 2850.17it/s]"
     ]
    },
    {
     "name": "stdout",
     "output_type": "stream",
     "text": [
      "Skipping row due to insufficient columns: ['👉https://t.co/dwh8jR9uho']\n",
      "Skipping row due to insufficient columns: ['$FDC 7.95%']\n",
      "Skipping row due to insufficient columns: ['$RIF 0.7%']\n",
      "Skipping row due to insufficient columns: ['$SIDUS 0.61%']\n",
      "Skipping row due to insufficient columns: ['$RBC 0.49%']\n",
      "Skipping row due to insufficient columns: ['$RARE 0.43%']\n",
      "Skipping row due to insufficient columns: [' #FDC #RIF #SIDUS #RBC #RARE #crypto #cryptonews #cryptoAlerts #blockchain  #cryptotrading #cryptoprices #altcoins #bitcoin', \"['cryptocurrency', 'price', 'GateIo', 'FDC', 'RIF', 'SIDUS', 'RBC', 'RARE', 'crypto', 'cryptonews', 'cryptoAlerts', 'blockchain', 'cryptotrading', 'cryptoprices', 'altcoins', 'bitcoin']\", 'Crypto Frog', 'False']\n",
      "Skipping row due to insufficient columns: ['Coin: $SLK']\n",
      "Skipping row due to insufficient columns: ['Pairs:']\n",
      "Skipping row due to insufficient columns: ['#SLK/#USDT']\n",
      "Skipping row due to insufficient columns: ['#newcoinlisting #crypto #cryptonews #cryptoAlerts #altcoins #bitcoin #blockchain #cryptocurrency #cryptotrading', \"['GateIo', 'SLK', 'USDT', 'newcoinlisting', 'crypto', 'cryptonews', 'cryptoAlerts', 'altcoins', 'bitcoin', 'blockchain', 'cryptocurrency', 'cryptotrading']\", 'CoinListingBot', 'False']\n",
      "Skipping row due to insufficient columns: ['Coin: $CGL']\n",
      "Skipping row due to insufficient columns: ['Pairs:']\n",
      "Skipping row due to insufficient columns: ['#CGL/#USDT']\n",
      "Skipping row due to insufficient columns: ['#newcoinlisting #crypto #cryptonews #cryptoAlerts #altcoins #bitcoin #blockchain #cryptocurrency #cryptotrading', \"['OKX', 'CGL', 'USDT', 'newcoinlisting', 'crypto', 'cryptonews', 'cryptoAlerts', 'altcoins', 'bitcoin', 'blockchain', 'cryptocurrency', 'cryptotrading']\", 'CoinListingBot', 'False']\n"
     ]
    },
    {
     "name": "stderr",
     "output_type": "stream",
     "text": [
      "Preprocessing tweets: 60546it [00:20, 2841.94it/s]"
     ]
    },
    {
     "name": "stdout",
     "output_type": "stream",
     "text": [
      "Skipping row due to insufficient columns: ['👉https://t.co/dwh8jR9uho']\n",
      "Skipping row due to insufficient columns: ['$GOAL 3.39%']\n",
      "Skipping row due to insufficient columns: ['$DAR 0.43%']\n",
      "Skipping row due to insufficient columns: ['$VOXEL 0.39%']\n",
      "Skipping row due to insufficient columns: ['$UFO 0.38%']\n",
      "Skipping row due to insufficient columns: [' #GOAL #DAR #VOXEL #UFO #crypto #cryptonews #cryptoAlerts #blockchain  #cryptotrading #cryptoprices #altcoins #bitcoin', \"['cryptocurrency', 'price', 'GateIo', 'GOAL', 'DAR', 'VOXEL', 'UFO', 'crypto', 'cryptonews', 'cryptoAlerts', 'blockchain', 'cryptotrading', 'cryptoprices', 'altcoins', 'bitcoin']\", 'Crypto Frog', 'False']\n",
      "Skipping row due to insufficient columns: ['👉https://t.co/dwh8jR9uho']\n",
      "Skipping row due to insufficient columns: ['$CARE 3.64%']\n",
      "Skipping row due to insufficient columns: ['$STND 0.79%']\n",
      "Skipping row due to insufficient columns: ['$FLUX 0.73%']\n",
      "Skipping row due to insufficient columns: ['$FORM 0.5%']\n",
      "Skipping row due to insufficient columns: ['$OP 0.45%']\n",
      "Skipping row due to insufficient columns: [' #CARE #STND #FLUX #FORM #OP #crypto #cryptonews #cryptoAlerts #blockchain  #cryptotrading #cryptoprices #altcoins #bitcoin', \"['cryptocurrency', 'price', 'GateIo', 'CARE', 'STND', 'FLUX', 'FORM', 'OP', 'crypto', 'cryptonews', 'cryptoAlerts', 'blockchain', 'cryptotrading', 'cryptoprices', 'altcoins', 'bitcoin']\", 'Crypto Frog', 'False']\n",
      "Skipping row due to insufficient columns: ['👉https://t.co/dwh8jR9uho']\n",
      "Skipping row due to insufficient columns: ['$FDC 7.65%']\n",
      "Skipping row due to insufficient columns: ['$RIF 0.89%']\n",
      "Skipping row due to insufficient columns: ['$T23 0.79%']\n",
      "Skipping row due to insufficient columns: ['$MCG 0.59%']\n",
      "Skipping row due to insufficient columns: ['$STBU 0.53%']\n",
      "Skipping row due to insufficient columns: [' #FDC #RIF #T23 #MCG #STBU #crypto #cryptonews #cryptoAlerts #blockchain  #cryptotrading #cryptoprices #altcoins #bitcoin', \"['cryptocurrency', 'price', 'GateIo', 'FDC', 'RIF', 'T23', 'MCG', 'STBU', 'crypto', 'cryptonews', 'cryptoAlerts', 'blockchain', 'cryptotrading', 'cryptoprices', 'altcoins', 'bitcoin']\", 'Crypto Frog', 'False']\n",
      "Skipping row due to insufficient columns: ['👉https://t.co/dwh8jR9uho']\n",
      "Skipping row due to insufficient columns: ['$SN 6.61%']\n",
      "Skipping row due to insufficient columns: ['$KFT 6.44%']\n",
      "Skipping row due to insufficient columns: ['$FXF 1.33%']\n",
      "Skipping row due to insufficient columns: ['$PRIMAL 1.02%']\n",
      "Skipping row due to insufficient columns: ['$JULD 0.86%']\n",
      "Skipping row due to insufficient columns: [' #SN #KFT #FXF #PRIMAL #JULD #crypto #cryptonews #cryptoAlerts #blockchain  #cryptotrading #cryptoprices #altcoins #bitcoin', \"['cryptocurrency', 'price', 'GateIo', 'SN', 'KFT', 'FXF', 'PRIMAL', 'JULD', 'crypto', 'cryptonews', 'cryptoAlerts', 'blockchain', 'cryptotrading', 'cryptoprices', 'altcoins', 'bitcoin']\", 'Crypto Frog', 'False']\n"
     ]
    },
    {
     "name": "stderr",
     "output_type": "stream",
     "text": [
      "Preprocessing tweets: 62842it [00:21, 2773.17it/s]"
     ]
    },
    {
     "name": "stdout",
     "output_type": "stream",
     "text": [
      "Skipping row due to insufficient columns: []\n",
      "Skipping row due to insufficient columns: ['Via https://t.co/p6iec02QvX']\n",
      "Skipping row due to insufficient columns: []\n",
      "Skipping row due to insufficient columns: ['#btc    #4chan  #cryptocurrency https://t.co/mBzgRpkhBg', \"['btc', '4chan', 'cryptocurrency']\", 'topstonks', 'False']\n"
     ]
    },
    {
     "name": "stderr",
     "output_type": "stream",
     "text": [
      "Preprocessing tweets: 63693it [00:21, 2758.64it/s]"
     ]
    },
    {
     "name": "stdout",
     "output_type": "stream",
     "text": [
      "Skipping row due to insufficient columns: []\n",
      "Skipping row due to insufficient columns: ['Via https://t.co/p6iec02QvX']\n",
      "Skipping row due to insufficient columns: []\n",
      "Skipping row due to insufficient columns: ['#btc    #4chan  #altcoin https://t.co/vgXRXTNiSv', \"['btc', '4chan', 'altcoin']\", 'topstonks', 'False']\n"
     ]
    },
    {
     "name": "stderr",
     "output_type": "stream",
     "text": [
      "Preprocessing tweets: 64247it [00:21, 2752.76it/s]"
     ]
    },
    {
     "name": "stdout",
     "output_type": "stream",
     "text": [
      "Skipping row due to insufficient columns: []\n",
      "Skipping row due to insufficient columns: ['Via https://t.co/p6iec02QvX']\n",
      "Skipping row due to insufficient columns: []\n",
      "Skipping row due to insufficient columns: ['#btc    #4chan  #blockchain https://t.co/ju0NXf796x', \"['btc', '4chan', 'blockchain']\", 'topstonks', 'False']\n"
     ]
    },
    {
     "name": "stderr",
     "output_type": "stream",
     "text": [
      "Preprocessing tweets: 65127it [00:22, 2838.13it/s]"
     ]
    },
    {
     "name": "stdout",
     "output_type": "stream",
     "text": [
      "Skipping row due to insufficient columns: []\n",
      "Skipping row due to insufficient columns: ['Via https://t.co/p6iec02QvX']\n",
      "Skipping row due to insufficient columns: []\n",
      "Skipping row due to insufficient columns: ['#btc    #4chan  #blockchain https://t.co/jJGRPeKGtw', \"['btc', '4chan', 'blockchain']\", 'topstonks', 'False']\n",
      "Skipping row due to insufficient columns: []\n",
      "Skipping row due to insufficient columns: ['Via https://t.co/p6iec02QvX']\n",
      "Skipping row due to insufficient columns: []\n",
      "Skipping row due to insufficient columns: ['#btc    #4chan  #altcoin https://t.co/ZsbOXCOjHh', \"['btc', '4chan', 'altcoin']\", 'topstonks', 'False']\n"
     ]
    },
    {
     "name": "stderr",
     "output_type": "stream",
     "text": [
      "Preprocessing tweets: 66552it [00:22, 2798.41it/s]"
     ]
    },
    {
     "name": "stdout",
     "output_type": "stream",
     "text": [
      "Skipping row due to insufficient columns: []\n",
      "Skipping row due to insufficient columns: ['Via https://t.co/p6iec02QvX']\n",
      "Skipping row due to insufficient columns: []\n",
      "Skipping row due to insufficient columns: ['#btc    #4chan  #cryptocurrency https://t.co/Q7d5FMKcgk', \"['btc', '4chan', 'cryptocurrency']\", 'topstonks', 'False']\n"
     ]
    },
    {
     "name": "stderr",
     "output_type": "stream",
     "text": [
      "Preprocessing tweets: 69190it [00:23, 2914.24it/s]"
     ]
    },
    {
     "name": "stdout",
     "output_type": "stream",
     "text": [
      "Skipping row due to insufficient columns: []\n",
      "Skipping row due to insufficient columns: ['Via https://t.co/p6iec02QvX']\n",
      "Skipping row due to insufficient columns: []\n",
      "Skipping row due to insufficient columns: ['#btc    #4chan  #altcoin https://t.co/0L1kJQ9l7e', \"['btc', '4chan', 'altcoin']\", 'topstonks', 'False']\n"
     ]
    },
    {
     "name": "stderr",
     "output_type": "stream",
     "text": [
      "Preprocessing tweets: 69766it [00:23, 2799.75it/s]"
     ]
    },
    {
     "name": "stdout",
     "output_type": "stream",
     "text": [
      "Skipping row due to insufficient columns: []\n",
      "Skipping row due to insufficient columns: ['Via https://t.co/p6iec02QvX']\n",
      "Skipping row due to insufficient columns: []\n",
      "Skipping row due to insufficient columns: ['#btc    #4chan  #blockchain https://t.co/aAtRnO8aOn', \"['btc', '4chan', 'blockchain']\", 'topstonks', 'False']\n",
      "Skipping row due to insufficient columns: []\n",
      "Skipping row due to insufficient columns: ['Via https://t.co/p6iec02QvX']\n",
      "Skipping row due to insufficient columns: []\n",
      "Skipping row due to insufficient columns: ['#btc    #4chan  #cryptocurrency https://t.co/WFcK71rRmn', \"['btc', '4chan', 'cryptocurrency']\", 'topstonks', 'False']\n"
     ]
    },
    {
     "name": "stderr",
     "output_type": "stream",
     "text": [
      "Preprocessing tweets: 71510it [00:24, 2849.03it/s]"
     ]
    },
    {
     "name": "stdout",
     "output_type": "stream",
     "text": [
      "Skipping row due to insufficient columns: []\n",
      "Skipping row due to insufficient columns: ['Via https://t.co/p6iec02QvX']\n",
      "Skipping row due to insufficient columns: []\n",
      "Skipping row due to insufficient columns: ['#btc    #4chan  #crypto https://t.co/MQ1OfPQTLH', \"['btc', '4chan', 'crypto']\", 'topstonks', 'False']\n"
     ]
    },
    {
     "name": "stderr",
     "output_type": "stream",
     "text": [
      "Preprocessing tweets: 73036it [00:24, 3064.49it/s]"
     ]
    },
    {
     "name": "stdout",
     "output_type": "stream",
     "text": [
      "Skipping row due to insufficient columns: ['👉https://t.co/dwh8jR9uho']\n",
      "Skipping row due to insufficient columns: ['$KFT 3.47%']\n",
      "Skipping row due to insufficient columns: ['$LIFE 1.8%']\n",
      "Skipping row due to insufficient columns: ['$BLUR 0.45%']\n",
      "Skipping row due to insufficient columns: ['$FLUX 0.38%']\n",
      "Skipping row due to insufficient columns: ['$SGB 0.37%']\n",
      "Skipping row due to insufficient columns: [' #KFT #LIFE #BLUR #FLUX #SGB #crypto #cryptonews #cryptoAlerts #blockchain  #cryptotrading #cryptoprices #altcoins #bitcoin', \"['cryptocurrency', 'price', 'GateIo', 'KFT', 'LIFE', 'BLUR', 'FLUX', 'SGB', 'crypto', 'cryptonews', 'cryptoAlerts', 'blockchain', 'cryptotrading', 'cryptoprices', 'altcoins', 'bitcoin']\", 'Crypto Frog', 'False']\n",
      "Skipping row due to insufficient columns: ['👉https://t.co/AdJlZWUXsw']\n",
      "Skipping row due to insufficient columns: ['$MELD 4.15%']\n",
      "Skipping row due to insufficient columns: ['$CHE 0.68%']\n",
      "Skipping row due to insufficient columns: ['$ICB 0.56%']\n",
      "Skipping row due to insufficient columns: ['$VELO 0.33%']\n",
      "Skipping row due to insufficient columns: [' #MELD #CHE #ICB #VELO #crypto #cryptonews #cryptoAlerts #blockchain  #cryptotrading #cryptoprices #altcoins #bitcoin', \"['cryptocurrency', 'price', 'MEXC', 'MELD', 'CHE', 'ICB', 'VELO', 'crypto', 'cryptonews', 'cryptoAlerts', 'blockchain', 'cryptotrading', 'cryptoprices', 'altcoins', 'bitcoin']\", 'Crypto Frog', 'False']\n",
      "Skipping row due to insufficient columns: ['👉https://t.co/XsdBPI7qf6']\n",
      "Skipping row due to insufficient columns: ['$HYC 4.56%']\n",
      "Skipping row due to insufficient columns: ['$QOM 1.09%']\n",
      "Skipping row due to insufficient columns: ['$KLAY 0.87%']\n",
      "Skipping row due to insufficient columns: ['$BLOK 0.35%']\n",
      "Skipping row due to insufficient columns: ['$ANC 0.32%']\n",
      "Skipping row due to insufficient columns: [' #HYC #QOM #KLAY #BLOK #ANC #crypto #cryptonews #cryptoAlerts #blockchain  #cryptotrading #cryptoprices #altcoins #bitcoin', \"['cryptocurrency', 'price', 'OKX', 'HYC', 'QOM', 'KLAY', 'BLOK', 'ANC', 'crypto', 'cryptonews', 'cryptoAlerts', 'blockchain', 'cryptotrading', 'cryptoprices', 'altcoins', 'bitcoin']\", 'Crypto Frog', 'False']\n",
      "Skipping row due to insufficient columns: ['Jeff', 'Sierra Leone']\n",
      "Skipping row due to insufficient columns: ['👉https://t.co/dwh8jR9uho']\n",
      "Skipping row due to insufficient columns: ['$RAGE 8.31%']\n",
      "Skipping row due to insufficient columns: ['$PAW 1.91%']\n",
      "Skipping row due to insufficient columns: ['$BLOCK 1%']\n",
      "Skipping row due to insufficient columns: ['$XYO 0.8%']\n",
      "Skipping row due to insufficient columns: ['$NCT 0.54%']\n",
      "Skipping row due to insufficient columns: [' #RAGE #PAW #BLOCK #XYO #NCT #crypto #cryptonews #cryptoAlerts #blockchain  #cryptotrading #cryptoprices #altcoins #bitcoin', \"['cryptocurrency', 'price', 'GateIo', 'RAGE', 'PAW', 'BLOCK', 'XYO', 'NCT', 'crypto', 'cryptonews', 'cryptoAlerts', 'blockchain', 'cryptotrading', 'cryptoprices', 'altcoins', 'bitcoin']\", 'Crypto Frog', 'False']\n"
     ]
    },
    {
     "name": "stderr",
     "output_type": "stream",
     "text": [
      "Preprocessing tweets: 74273it [00:25, 3064.99it/s]"
     ]
    },
    {
     "name": "stdout",
     "output_type": "stream",
     "text": [
      "Skipping row due to insufficient columns: ['👉https://t.co/dwh8jR9uho']\n",
      "Skipping row due to insufficient columns: ['$LIKE 3.03%']\n",
      "Skipping row due to insufficient columns: ['$SD 1.05%']\n",
      "Skipping row due to insufficient columns: ['$GLMR 0.72%']\n",
      "Skipping row due to insufficient columns: ['$LIME 0.43%']\n",
      "Skipping row due to insufficient columns: ['$SOLO 0.42%']\n",
      "Skipping row due to insufficient columns: [' #LIKE #SD #GLMR #LIME #SOLO #crypto #cryptonews #cryptoAlerts #blockchain  #cryptotrading #cryptoprices #altcoins #bitcoin', \"['cryptocurrency', 'price', 'GateIo', 'LIKE', 'SD', 'GLMR', 'LIME', 'SOLO', 'crypto', 'cryptonews', 'cryptoAlerts', 'blockchain', 'cryptotrading', 'cryptoprices', 'altcoins', 'bitcoin']\", 'Crypto Frog', 'False']\n",
      "Skipping row due to insufficient columns: ['👉https://t.co/dwh8jR9uho']\n",
      "Skipping row due to insufficient columns: ['$CSTR 6.7%']\n",
      "Skipping row due to insufficient columns: ['$BTG 0.72%']\n",
      "Skipping row due to insufficient columns: ['$BTCST 0.49%']\n",
      "Skipping row due to insufficient columns: ['$AAG 0.47%']\n",
      "Skipping row due to insufficient columns: ['$INJ 0.42%']\n",
      "Skipping row due to insufficient columns: [' #CSTR #BTG #BTCST #AAG #INJ #crypto #cryptonews #cryptoAlerts #blockchain  #cryptotrading #cryptoprices #altcoins #bitcoin', \"['cryptocurrency', 'price', 'GateIo', 'CSTR', 'BTG', 'BTCST', 'AAG', 'INJ', 'crypto', 'cryptonews', 'cryptoAlerts', 'blockchain', 'cryptotrading', 'cryptoprices', 'altcoins', 'bitcoin']\", 'Crypto Frog', 'False']\n",
      "Skipping row due to insufficient columns: ['👉https://t.co/dwh8jR9uho']\n",
      "Skipping row due to insufficient columns: ['$PAW 3.03%']\n",
      "Skipping row due to insufficient columns: ['$ALI 1.62%']\n",
      "Skipping row due to insufficient columns: ['$ETHA 0.97%']\n",
      "Skipping row due to insufficient columns: ['$STOS 0.94%']\n",
      "Skipping row due to insufficient columns: ['$NBOT 0.92%']\n",
      "Skipping row due to insufficient columns: [' #PAW #ALI #ETHA #STOS #NBOT #crypto #cryptonews #cryptoAlerts #blockchain  #cryptotrading #cryptoprices #altcoins #bitcoin', \"['cryptocurrency', 'price', 'GateIo', 'PAW', 'ALI', 'ETHA', 'STOS', 'NBOT', 'crypto', 'cryptonews', 'cryptoAlerts', 'blockchain', 'cryptotrading', 'cryptoprices', 'altcoins', 'bitcoin']\", 'Crypto Frog', 'False']\n",
      "Skipping row due to insufficient columns: ['👉https://t.co/dwh8jR9uho']\n",
      "Skipping row due to insufficient columns: ['$BYN 8%']\n",
      "Skipping row due to insufficient columns: ['$HEART 1.59%']\n",
      "Skipping row due to insufficient columns: ['$WWY 0.83%']\n",
      "Skipping row due to insufficient columns: ['$POLC 0.71%']\n",
      "Skipping row due to insufficient columns: ['$DODO 0.71%']\n",
      "Skipping row due to insufficient columns: [' #BYN #HEART #WWY #POLC #DODO #crypto #cryptonews #cryptoAlerts #blockchain  #cryptotrading #cryptoprices #altcoins #bitcoin', \"['cryptocurrency', 'price', 'GateIo', 'BYN', 'HEART', 'WWY', 'POLC', 'DODO', 'crypto', 'cryptonews', 'cryptoAlerts', 'blockchain', 'cryptotrading', 'cryptoprices', 'altcoins', 'bitcoin']\", 'Crypto Frog', 'False']\n"
     ]
    },
    {
     "name": "stderr",
     "output_type": "stream",
     "text": [
      "Preprocessing tweets: 75199it [00:25, 3035.80it/s]"
     ]
    },
    {
     "name": "stdout",
     "output_type": "stream",
     "text": [
      "Skipping row due to insufficient columns: ['👉https://t.co/dwh8jR9uho']\n",
      "Skipping row due to insufficient columns: ['$ORT 4.37%']\n",
      "Skipping row due to insufficient columns: ['$IHT 1%']\n",
      "Skipping row due to insufficient columns: ['$XOR 0.76%']\n",
      "Skipping row due to insufficient columns: ['$BASE 0.72%']\n",
      "Skipping row due to insufficient columns: ['$TWT 0.55%']\n",
      "Skipping row due to insufficient columns: [' #ORT #IHT #XOR #BASE #TWT #crypto #cryptonews #cryptoAlerts #blockchain  #cryptotrading #cryptoprices #altcoins #bitcoin', \"['cryptocurrency', 'price', 'GateIo', 'ORT', 'IHT', 'XOR', 'BASE', 'TWT', 'crypto', 'cryptonews', 'cryptoAlerts', 'blockchain', 'cryptotrading', 'cryptoprices', 'altcoins', 'bitcoin']\", 'Crypto Frog', 'False']\n",
      "Skipping row due to insufficient columns: ['🤞Ronald🎃', 'San Marino']\n",
      "Skipping row due to insufficient columns: ['👉https://t.co/dwh8jR9uho']\n",
      "Skipping row due to insufficient columns: ['$ONC 4.16%']\n",
      "Skipping row due to insufficient columns: ['$BONK 0.41%']\n",
      "Skipping row due to insufficient columns: ['$TKO 0.38%']\n",
      "Skipping row due to insufficient columns: [' #ONC #BONK #TKO #crypto #cryptonews #cryptoAlerts #blockchain  #cryptotrading #cryptoprices #altcoins #bitcoin', \"['cryptocurrency', 'price', 'GateIo', 'ONC', 'BONK', 'TKO', 'crypto', 'cryptonews', 'cryptoAlerts', 'blockchain', 'cryptotrading', 'cryptoprices', 'altcoins', 'bitcoin']\", 'Crypto Frog', 'False']\n",
      "Skipping row due to insufficient columns: ['👉https://t.co/dwh8jR9uho']\n",
      "Skipping row due to insufficient columns: ['$PAW 5.05%']\n",
      "Skipping row due to insufficient columns: ['$SFP 0.58%']\n",
      "Skipping row due to insufficient columns: ['$UFO 0.5%']\n",
      "Skipping row due to insufficient columns: ['$VELO 0.45%']\n",
      "Skipping row due to insufficient columns: ['$MASK 0.44%']\n",
      "Skipping row due to insufficient columns: [' #PAW #SFP #UFO #VELO #MASK #crypto #cryptonews #cryptoAlerts #blockchain  #cryptotrading #cryptoprices #altcoins #bitcoin', \"['cryptocurrency', 'price', 'GateIo', 'PAW', 'SFP', 'UFO', 'VELO', 'MASK', 'crypto', 'cryptonews', 'cryptoAlerts', 'blockchain', 'cryptotrading', 'cryptoprices', 'altcoins', 'bitcoin']\", 'Crypto Frog', 'False']\n"
     ]
    },
    {
     "name": "stderr",
     "output_type": "stream",
     "text": [
      "Preprocessing tweets: 75807it [00:25, 3012.50it/s]"
     ]
    },
    {
     "name": "stdout",
     "output_type": "stream",
     "text": [
      "Skipping row due to insufficient columns: ['👉https://t.co/dwh8jR9uho']\n",
      "Skipping row due to insufficient columns: ['$PAW 3.44%']\n",
      "Skipping row due to insufficient columns: ['$FEAR 3.15%']\n",
      "Skipping row due to insufficient columns: ['$OAS 1.58%']\n",
      "Skipping row due to insufficient columns: ['$ARV 1%']\n",
      "Skipping row due to insufficient columns: ['$VELO 0.92%']\n",
      "Skipping row due to insufficient columns: [' #PAW #FEAR #OAS #ARV #VELO #crypto #cryptonews #cryptoAlerts #blockchain  #cryptotrading #cryptoprices #altcoins #bitcoin', \"['cryptocurrency', 'price', 'GateIo', 'PAW', 'FEAR', 'OAS', 'ARV', 'VELO', 'crypto', 'cryptonews', 'cryptoAlerts', 'blockchain', 'cryptotrading', 'cryptoprices', 'altcoins', 'bitcoin']\", 'Crypto Frog', 'False']\n",
      "Skipping row due to insufficient columns: ['👉https://t.co/dwh8jR9uho']\n",
      "Skipping row due to insufficient columns: ['$PAW 3.93%']\n",
      "Skipping row due to insufficient columns: ['$STOS 1.77%']\n",
      "Skipping row due to insufficient columns: ['$CNAME 1.6%']\n",
      "Skipping row due to insufficient columns: ['$VAI 1.37%']\n",
      "Skipping row due to insufficient columns: ['$CFX 0.88%']\n",
      "Skipping row due to insufficient columns: [' #PAW #STOS #CNAME #VAI #CFX #crypto #cryptonews #cryptoAlerts #blockchain  #cryptotrading #cryptoprices #altcoins #bitcoin', \"['cryptocurrency', 'price', 'GateIo', 'PAW', 'STOS', 'CNAME', 'VAI', 'CFX', 'crypto', 'cryptonews', 'cryptoAlerts', 'blockchain', 'cryptotrading', 'cryptoprices', 'altcoins', 'bitcoin']\", 'Crypto Frog', 'False']\n"
     ]
    },
    {
     "name": "stderr",
     "output_type": "stream",
     "text": [
      "Preprocessing tweets: 76733it [00:26, 3017.42it/s]"
     ]
    },
    {
     "name": "stdout",
     "output_type": "stream",
     "text": [
      "Skipping row due to insufficient columns: ['👉https://t.co/dwh8jR9uho']\n",
      "Skipping row due to insufficient columns: ['$GOF 4.8%']\n",
      "Skipping row due to insufficient columns: ['$PAW 3.4%']\n",
      "Skipping row due to insufficient columns: ['$VELO 1.79%']\n",
      "Skipping row due to insufficient columns: ['$VRA 1.29%']\n",
      "Skipping row due to insufficient columns: ['$ARV 1%']\n",
      "Skipping row due to insufficient columns: [' #GOF #PAW #VELO #VRA #ARV #crypto #cryptonews #cryptoAlerts #blockchain  #cryptotrading #cryptoprices #altcoins #bitcoin', \"['cryptocurrency', 'price', 'GateIo', 'GOF', 'PAW', 'VELO', 'VRA', 'ARV', 'crypto', 'cryptonews', 'cryptoAlerts', 'blockchain', 'cryptotrading', 'cryptoprices', 'altcoins', 'bitcoin']\", 'Crypto Frog', 'False']\n",
      "Skipping row due to insufficient columns: ['👉https://t.co/dwh8jR9uho']\n",
      "Skipping row due to insufficient columns: ['$PAW 5.86%']\n",
      "Skipping row due to insufficient columns: ['$DODO 0.88%']\n",
      "Skipping row due to insufficient columns: ['$VELO 0.82%']\n",
      "Skipping row due to insufficient columns: ['$ACS 0.51%']\n",
      "Skipping row due to insufficient columns: ['$ANKR 0.48%']\n",
      "Skipping row due to insufficient columns: [' #PAW #DODO #VELO #ACS #ANKR #crypto #cryptonews #cryptoAlerts #blockchain  #cryptotrading #cryptoprices #altcoins #bitcoin', \"['cryptocurrency', 'price', 'GateIo', 'PAW', 'DODO', 'VELO', 'ACS', 'ANKR', 'crypto', 'cryptonews', 'cryptoAlerts', 'blockchain', 'cryptotrading', 'cryptoprices', 'altcoins', 'bitcoin']\", 'Crypto Frog', 'False']\n"
     ]
    },
    {
     "name": "stderr",
     "output_type": "stream",
     "text": [
      "Preprocessing tweets: 77336it [00:26, 2985.62it/s]"
     ]
    },
    {
     "name": "stdout",
     "output_type": "stream",
     "text": [
      "Skipping row due to insufficient columns: ['👉https://t.co/dwh8jR9uho']\n",
      "Skipping row due to insufficient columns: ['$PAW 6.62%']\n",
      "Skipping row due to insufficient columns: ['$INDI 0.8%']\n",
      "Skipping row due to insufficient columns: ['$FITFI 0.65%']\n",
      "Skipping row due to insufficient columns: ['$KEY 0.57%']\n",
      "Skipping row due to insufficient columns: ['$FIU 0.55%']\n",
      "Skipping row due to insufficient columns: [' #PAW #INDI #FITFI #KEY #FIU #crypto #cryptonews #cryptoAlerts #blockchain  #cryptotrading #cryptoprices #altcoins #bitcoin', \"['cryptocurrency', 'price', 'GateIo', 'PAW', 'INDI', 'FITFI', 'KEY', 'FIU', 'crypto', 'cryptonews', 'cryptoAlerts', 'blockchain', 'cryptotrading', 'cryptoprices', 'altcoins', 'bitcoin']\", 'Crypto Frog', 'False']\n",
      "Skipping row due to insufficient columns: ['👉https://t.co/dwh8jR9uho']\n",
      "Skipping row due to insufficient columns: ['$KFT 5.12%']\n",
      "Skipping row due to insufficient columns: ['$BTS 1.19%']\n",
      "Skipping row due to insufficient columns: ['$SOLO 0.8%']\n",
      "Skipping row due to insufficient columns: ['$FTT 0.74%']\n",
      "Skipping row due to insufficient columns: ['$WLKN 0.69%']\n",
      "Skipping row due to insufficient columns: [' #KFT #BTS #SOLO #FTT #WLKN #crypto #cryptonews #cryptoAlerts #blockchain  #cryptotrading #cryptoprices #altcoins #bitcoin', \"['cryptocurrency', 'price', 'GateIo', 'KFT', 'BTS', 'SOLO', 'FTT', 'WLKN', 'crypto', 'cryptonews', 'cryptoAlerts', 'blockchain', 'cryptotrading', 'cryptoprices', 'altcoins', 'bitcoin']\", 'Crypto Frog', 'False']\n",
      "Skipping row due to insufficient columns: ['👉https://t.co/dwh8jR9uho']\n",
      "Skipping row due to insufficient columns: ['$NVG 15%']\n",
      "Skipping row due to insufficient columns: ['$SDAO 0.75%']\n",
      "Skipping row due to insufficient columns: ['$SHOPX 0.64%']\n",
      "Skipping row due to insufficient columns: ['$DOP 0.51%']\n",
      "Skipping row due to insufficient columns: ['$XCN 0.46%']\n",
      "Skipping row due to insufficient columns: [' #NVG #SDAO #SHOPX #DOP #XCN #crypto #cryptonews #cryptoAlerts #blockchain  #cryptotrading #cryptoprices #altcoins #bitcoin', \"['cryptocurrency', 'price', 'GateIo', 'NVG', 'SDAO', 'SHOPX', 'DOP', 'XCN', 'crypto', 'cryptonews', 'cryptoAlerts', 'blockchain', 'cryptotrading', 'cryptoprices', 'altcoins', 'bitcoin']\", 'Crypto Frog', 'False']\n"
     ]
    },
    {
     "name": "stderr",
     "output_type": "stream",
     "text": [
      "Preprocessing tweets: 78204it [00:26, 2750.18it/s]"
     ]
    },
    {
     "name": "stdout",
     "output_type": "stream",
     "text": [
      "Skipping row due to insufficient columns: ['👉https://t.co/AdJlZWUXsw']\n",
      "Skipping row due to insufficient columns: ['$PAC 3.01%']\n",
      "Skipping row due to insufficient columns: ['$SPA 1.01%']\n",
      "Skipping row due to insufficient columns: ['$ICB 0.77%']\n",
      "Skipping row due to insufficient columns: [' #PAC #SPA #ICB #crypto #cryptonews #cryptoAlerts #blockchain  #cryptotrading #cryptoprices #altcoins #bitcoin', \"['cryptocurrency', 'price', 'MEXC', 'PAC', 'SPA', 'ICB', 'crypto', 'cryptonews', 'cryptoAlerts', 'blockchain', 'cryptotrading', 'cryptoprices', 'altcoins', 'bitcoin']\", 'Crypto Frog', 'False']\n"
     ]
    },
    {
     "name": "stderr",
     "output_type": "stream",
     "text": [
      "Preprocessing tweets: 78806it [00:26, 2879.18it/s]"
     ]
    },
    {
     "name": "stdout",
     "output_type": "stream",
     "text": [
      "Skipping row due to insufficient columns: ['👉https://t.co/XsdBPI7qf6']\n",
      "Skipping row due to insufficient columns: ['$KCASH 3.25%']\n",
      "Skipping row due to insufficient columns: ['$PSTAKE 0.48%']\n",
      "Skipping row due to insufficient columns: ['$VELO 0.39%']\n",
      "Skipping row due to insufficient columns: ['$SAITAMA 0.33%']\n",
      "Skipping row due to insufficient columns: [' #KCASH #PSTAKE #VELO #SAITAMA #crypto #cryptonews #cryptoAlerts #blockchain  #cryptotrading #cryptoprices #altcoins #bitcoin', \"['cryptocurrency', 'price', 'OKX', 'KCASH', 'PSTAKE', 'VELO', 'SAITAMA', 'crypto', 'cryptonews', 'cryptoAlerts', 'blockchain', 'cryptotrading', 'cryptoprices', 'altcoins', 'bitcoin']\", 'Crypto Frog', 'False']\n",
      "Skipping row due to insufficient columns: ['👉https://t.co/dwh8jR9uho']\n",
      "Skipping row due to insufficient columns: ['$LMR 5.68%']\n",
      "Skipping row due to insufficient columns: ['$CTRC 2.9%']\n",
      "Skipping row due to insufficient columns: ['$XWG 0.64%']\n",
      "Skipping row due to insufficient columns: ['$KLAY 0.39%']\n",
      "Skipping row due to insufficient columns: ['$SYN 0.39%']\n",
      "Skipping row due to insufficient columns: [' #LMR #CTRC #XWG #KLAY #SYN #crypto #cryptonews #cryptoAlerts #blockchain  #cryptotrading #cryptoprices #altcoins #bitcoin', \"['cryptocurrency', 'price', 'GateIo', 'LMR', 'CTRC', 'XWG', 'KLAY', 'SYN', 'crypto', 'cryptonews', 'cryptoAlerts', 'blockchain', 'cryptotrading', 'cryptoprices', 'altcoins', 'bitcoin']\", 'Crypto Frog', 'False']\n",
      "Skipping row due to insufficient columns: ['Coin: $SD']\n",
      "Skipping row due to insufficient columns: ['Pairs:']\n",
      "Skipping row due to insufficient columns: ['#SD/#USDT']\n",
      "Skipping row due to insufficient columns: ['#newcoinlisting #crypto #cryptonews #cryptoAlerts #altcoins #bitcoin #blockchain #cryptocurrency #cryptotrading', \"['MEXC', 'SD', 'USDT', 'newcoinlisting', 'crypto', 'cryptonews', 'cryptoAlerts', 'altcoins', 'bitcoin', 'blockchain', 'cryptocurrency', 'cryptotrading']\", 'CoinListingBot', 'False']\n",
      "Skipping row due to insufficient columns: ['👉https://t.co/dwh8jR9uho']\n",
      "Skipping row due to insufficient columns: ['$CTRC 4.25%']\n",
      "Skipping row due to insufficient columns: ['$PAW 1.36%']\n",
      "Skipping row due to insufficient columns: ['$SLP 0.87%']\n",
      "Skipping row due to insufficient columns: ['$CHO 0.71%']\n",
      "Skipping row due to insufficient columns: ['$GHST 0.57%']\n",
      "Skipping row due to insufficient columns: [' #CTRC #PAW #SLP #CHO #GHST #crypto #cryptonews #cryptoAlerts #blockchain  #cryptotrading #cryptoprices #altcoins #bitcoin', \"['cryptocurrency', 'price', 'GateIo', 'CTRC', 'PAW', 'SLP', 'CHO', 'GHST', 'crypto', 'cryptonews', 'cryptoAlerts', 'blockchain', 'cryptotrading', 'cryptoprices', 'altcoins', 'bitcoin']\", 'Crypto Frog', 'False']\n",
      "Skipping row due to insufficient columns: ['👉https://t.co/dwh8jR9uho']\n",
      "Skipping row due to insufficient columns: ['$PAW 3.71%']\n",
      "Skipping row due to insufficient columns: ['$CRT 2.9%']\n",
      "Skipping row due to insufficient columns: ['$MENGO 1.14%']\n",
      "Skipping row due to insufficient columns: ['$BLUR 1.08%']\n",
      "Skipping row due to insufficient columns: ['$IGU 0.97%']\n",
      "Skipping row due to insufficient columns: [' #PAW #CRT #MENGO #BLUR #IGU #crypto #cryptonews #cryptoAlerts #blockchain  #cryptotrading #cryptoprices #altcoins #bitcoin', \"['cryptocurrency', 'price', 'GateIo', 'PAW', 'CRT', 'MENGO', 'BLUR', 'IGU', 'crypto', 'cryptonews', 'cryptoAlerts', 'blockchain', 'cryptotrading', 'cryptoprices', 'altcoins', 'bitcoin']\", 'Crypto Frog', 'False']\n"
     ]
    },
    {
     "name": "stderr",
     "output_type": "stream",
     "text": [
      "Preprocessing tweets: 79725it [00:27, 2806.64it/s]"
     ]
    },
    {
     "name": "stdout",
     "output_type": "stream",
     "text": [
      "Skipping row due to insufficient columns: ['👉https://t.co/XsdBPI7qf6']\n",
      "Skipping row due to insufficient columns: ['$PPT 7.04%']\n",
      "Skipping row due to insufficient columns: ['$RADAR 2.13%']\n",
      "Skipping row due to insufficient columns: ['$CORE 0.93%']\n",
      "Skipping row due to insufficient columns: ['$CVT 0.71%']\n",
      "Skipping row due to insufficient columns: ['$ELT 0.38%']\n",
      "Skipping row due to insufficient columns: [' #PPT #RADAR #CORE #CVT #ELT #crypto #cryptonews #cryptoAlerts #blockchain  #cryptotrading #cryptoprices #altcoins #bitcoin', \"['cryptocurrency', 'price', 'OKX', 'PPT', 'RADAR', 'CORE', 'CVT', 'ELT', 'crypto', 'cryptonews', 'cryptoAlerts', 'blockchain', 'cryptotrading', 'cryptoprices', 'altcoins', 'bitcoin']\", 'Crypto Frog', 'False']\n",
      "Skipping row due to insufficient columns: ['👉https://t.co/XsdBPI7qf6']\n",
      "Skipping row due to insufficient columns: ['$DOSE 21.43%']\n",
      "Skipping row due to insufficient columns: ['$CVT 5.64%']\n",
      "Skipping row due to insufficient columns: ['$CELT 3.13%']\n",
      "Skipping row due to insufficient columns: ['$PPT 2.12%']\n",
      "Skipping row due to insufficient columns: ['$SFG 2.08%']\n",
      "Skipping row due to insufficient columns: [' #DOSE #CVT #CELT #PPT #SFG #crypto #cryptonews #cryptoAlerts #blockchain  #cryptotrading #cryptoprices #altcoins #bitcoin', \"['cryptocurrency', 'price', 'OKX', 'DOSE', 'CVT', 'CELT', 'PPT', 'SFG', 'crypto', 'cryptonews', 'cryptoAlerts', 'blockchain', 'cryptotrading', 'cryptoprices', 'altcoins', 'bitcoin']\", 'Crypto Frog', 'False']\n"
     ]
    },
    {
     "name": "stderr",
     "output_type": "stream",
     "text": [
      "Preprocessing tweets: 80321it [00:27, 2858.89it/s]"
     ]
    },
    {
     "name": "stdout",
     "output_type": "stream",
     "text": [
      "Skipping row due to insufficient columns: ['Jeff', 'Sierra Leone']\n",
      "Skipping row due to insufficient columns: ['👉https://t.co/dwh8jR9uho']\n",
      "Skipping row due to insufficient columns: ['$BVT 4.07%']\n",
      "Skipping row due to insufficient columns: ['$SWP 2.73%']\n",
      "Skipping row due to insufficient columns: ['$SAITO 0.76%']\n",
      "Skipping row due to insufficient columns: ['$XCN 0.49%']\n",
      "Skipping row due to insufficient columns: ['$DIA 0.44%']\n",
      "Skipping row due to insufficient columns: [' #BVT #SWP #SAITO #XCN #DIA #crypto #cryptonews #cryptoAlerts #blockchain  #cryptotrading #cryptoprices #altcoins #bitcoin', \"['cryptocurrency', 'price', 'GateIo', 'BVT', 'SWP', 'SAITO', 'XCN', 'DIA', 'crypto', 'cryptonews', 'cryptoAlerts', 'blockchain', 'cryptotrading', 'cryptoprices', 'altcoins', 'bitcoin']\", 'Crypto Frog', 'False']\n",
      "Skipping row due to insufficient columns: ['🤞Ronald🎃', 'San Marino']\n",
      "Skipping row due to insufficient columns: ['🤞Ronald🎃', 'San Marino']\n",
      "Skipping row due to insufficient columns: ['👉https://t.co/YFfSerrmK2']\n",
      "Skipping row due to insufficient columns: ['$BORING 3.64%']\n",
      "Skipping row due to insufficient columns: ['$WOOF 0.63%']\n",
      "Skipping row due to insufficient columns: ['$BLUR 0.41%']\n",
      "Skipping row due to insufficient columns: [' #BORING #WOOF #BLUR #crypto #cryptonews #cryptoAlerts #blockchain  #cryptotrading #cryptoprices #altcoins #bitcoin', \"['cryptocurrency', 'price', 'Huobi', 'BORING', 'WOOF', 'BLUR', 'crypto', 'cryptonews', 'cryptoAlerts', 'blockchain', 'cryptotrading', 'cryptoprices', 'altcoins', 'bitcoin']\", 'Crypto Frog', 'False']\n",
      "Skipping row due to insufficient columns: ['😂Joseph', 'Vietnam']\n"
     ]
    },
    {
     "name": "stderr",
     "output_type": "stream",
     "text": [
      "Preprocessing tweets: 81231it [00:27, 2975.75it/s]"
     ]
    },
    {
     "name": "stdout",
     "output_type": "stream",
     "text": [
      "Skipping row due to insufficient columns: ['👉https://t.co/dwh8jR9uho']\n",
      "Skipping row due to insufficient columns: ['$PAW 3.6%']\n",
      "Skipping row due to insufficient columns: ['$K21 1.98%']\n",
      "Skipping row due to insufficient columns: ['$VRX 1.43%']\n",
      "Skipping row due to insufficient columns: ['$DYP 0.7%']\n",
      "Skipping row due to insufficient columns: ['$ONG 0.42%']\n",
      "Skipping row due to insufficient columns: [' #PAW #K21 #VRX #DYP #ONG #crypto #cryptonews #cryptoAlerts #blockchain  #cryptotrading #cryptoprices #altcoins #bitcoin', \"['cryptocurrency', 'price', 'GateIo', 'PAW', 'K21', 'VRX', 'DYP', 'ONG', 'crypto', 'cryptonews', 'cryptoAlerts', 'blockchain', 'cryptotrading', 'cryptoprices', 'altcoins', 'bitcoin']\", 'Crypto Frog', 'False']\n",
      "Skipping row due to insufficient columns: ['👉https://t.co/dwh8jR9uho']\n",
      "Skipping row due to insufficient columns: ['$PAW 4.32%']\n",
      "Skipping row due to insufficient columns: ['$MNZ 3.69%']\n",
      "Skipping row due to insufficient columns: ['$LMR 1.5%']\n",
      "Skipping row due to insufficient columns: ['$QUACK 1.05%']\n",
      "Skipping row due to insufficient columns: ['$CHO 0.89%']\n",
      "Skipping row due to insufficient columns: [' #PAW #MNZ #LMR #QUACK #CHO #crypto #cryptonews #cryptoAlerts #blockchain  #cryptotrading #cryptoprices #altcoins #bitcoin', \"['cryptocurrency', 'price', 'GateIo', 'PAW', 'MNZ', 'LMR', 'QUACK', 'CHO', 'crypto', 'cryptonews', 'cryptoAlerts', 'blockchain', 'cryptotrading', 'cryptoprices', 'altcoins', 'bitcoin']\", 'Crypto Frog', 'False']\n"
     ]
    },
    {
     "name": "stderr",
     "output_type": "stream",
     "text": [
      "Preprocessing tweets: 82185it [00:28, 3093.16it/s]"
     ]
    },
    {
     "name": "stdout",
     "output_type": "stream",
     "text": [
      "Skipping row due to insufficient columns: ['👉https://t.co/dwh8jR9uho']\n",
      "Skipping row due to insufficient columns: ['$DMLG 4.04%']\n",
      "Skipping row due to insufficient columns: ['$ADS 0.69%']\n",
      "Skipping row due to insufficient columns: ['$HFT 0.5%']\n",
      "Skipping row due to insufficient columns: ['$FORM 0.43%']\n",
      "Skipping row due to insufficient columns: ['$USTC 0.32%']\n",
      "Skipping row due to insufficient columns: [' #DMLG #ADS #HFT #FORM #USTC #crypto #cryptonews #cryptoAlerts #blockchain  #cryptotrading #cryptoprices #altcoins #bitcoin', \"['cryptocurrency', 'price', 'GateIo', 'DMLG', 'ADS', 'HFT', 'FORM', 'USTC', 'crypto', 'cryptonews', 'cryptoAlerts', 'blockchain', 'cryptotrading', 'cryptoprices', 'altcoins', 'bitcoin']\", 'Crypto Frog', 'False']\n",
      "Skipping row due to insufficient columns: ['👉https://t.co/dwh8jR9uho']\n",
      "Skipping row due to insufficient columns: ['$PAW 7.59%']\n",
      "Skipping row due to insufficient columns: ['$BRISE 0.8%']\n",
      "Skipping row due to insufficient columns: ['$FIO 0.52%']\n",
      "Skipping row due to insufficient columns: ['$CFX 0.5%']\n",
      "Skipping row due to insufficient columns: ['$INJ 0.49%']\n",
      "Skipping row due to insufficient columns: [' #PAW #BRISE #FIO #CFX #INJ #crypto #cryptonews #cryptoAlerts #blockchain  #cryptotrading #cryptoprices #altcoins #bitcoin', \"['cryptocurrency', 'price', 'GateIo', 'PAW', 'BRISE', 'FIO', 'CFX', 'INJ', 'crypto', 'cryptonews', 'cryptoAlerts', 'blockchain', 'cryptotrading', 'cryptoprices', 'altcoins', 'bitcoin']\", 'Crypto Frog', 'False']\n",
      "Skipping row due to insufficient columns: ['👉https://t.co/dwh8jR9uho']\n",
      "Skipping row due to insufficient columns: ['$PAW 7.85%']\n",
      "Skipping row due to insufficient columns: ['$CTRC 3.09%']\n",
      "Skipping row due to insufficient columns: ['$VIDYX 1.13%']\n",
      "Skipping row due to insufficient columns: ['$ING 0.99%']\n",
      "Skipping row due to insufficient columns: ['$BDP 0.72%']\n",
      "Skipping row due to insufficient columns: [' #PAW #CTRC #VIDYX #ING #BDP #crypto #cryptonews #cryptoAlerts #blockchain  #cryptotrading #cryptoprices #altcoins #bitcoin', \"['cryptocurrency', 'price', 'GateIo', 'PAW', 'CTRC', 'VIDYX', 'ING', 'BDP', 'crypto', 'cryptonews', 'cryptoAlerts', 'blockchain', 'cryptotrading', 'cryptoprices', 'altcoins', 'bitcoin']\", 'Crypto Frog', 'False']\n",
      "Skipping row due to insufficient columns: ['👉https://t.co/dwh8jR9uho']\n",
      "Skipping row due to insufficient columns: ['$PAW 5.07%']\n",
      "Skipping row due to insufficient columns: ['$KFT 1.54%']\n",
      "Skipping row due to insufficient columns: ['$POLC 0.73%']\n",
      "Skipping row due to insufficient columns: ['$EGAME 0.61%']\n",
      "Skipping row due to insufficient columns: ['$HFT 0.45%']\n",
      "Skipping row due to insufficient columns: [' #PAW #KFT #POLC #EGAME #HFT #crypto #cryptonews #cryptoAlerts #blockchain  #cryptotrading #cryptoprices #altcoins #bitcoin', \"['cryptocurrency', 'price', 'GateIo', 'PAW', 'KFT', 'POLC', 'EGAME', 'HFT', 'crypto', 'cryptonews', 'cryptoAlerts', 'blockchain', 'cryptotrading', 'cryptoprices', 'altcoins', 'bitcoin']\", 'Crypto Frog', 'False']\n",
      "Skipping row due to insufficient columns: ['👉https://t.co/dwh8jR9uho']\n",
      "Skipping row due to insufficient columns: ['$PAW 7.32%']\n",
      "Skipping row due to insufficient columns: ['$CHNG 0.49%']\n",
      "Skipping row due to insufficient columns: ['$DYDX 0.4%']\n",
      "Skipping row due to insufficient columns: ['$VRA 0.39%']\n",
      "Skipping row due to insufficient columns: ['$HFT 0.38%']\n",
      "Skipping row due to insufficient columns: [' #PAW #CHNG #DYDX #VRA #HFT #crypto #cryptonews #cryptoAlerts #blockchain  #cryptotrading #cryptoprices #altcoins #bitcoin', \"['cryptocurrency', 'price', 'GateIo', 'PAW', 'CHNG', 'DYDX', 'VRA', 'HFT', 'crypto', 'cryptonews', 'cryptoAlerts', 'blockchain', 'cryptotrading', 'cryptoprices', 'altcoins', 'bitcoin']\", 'Crypto Frog', 'False']\n"
     ]
    },
    {
     "name": "stderr",
     "output_type": "stream",
     "text": [
      "Preprocessing tweets: 83733it [00:28, 3086.30it/s]"
     ]
    },
    {
     "name": "stdout",
     "output_type": "stream",
     "text": [
      "Skipping row due to insufficient columns: ['👉https://t.co/dwh8jR9uho']\n",
      "Skipping row due to insufficient columns: ['$KPAD 3.47%']\n",
      "Skipping row due to insufficient columns: ['$SD 2.04%']\n",
      "Skipping row due to insufficient columns: ['$KISHU 0.75%']\n",
      "Skipping row due to insufficient columns: ['$DERC 0.65%']\n",
      "Skipping row due to insufficient columns: [' #KPAD #SD #KISHU #DERC #crypto #cryptonews #cryptoAlerts #blockchain  #cryptotrading #cryptoprices #altcoins #bitcoin', \"['cryptocurrency', 'price', 'GateIo', 'KPAD', 'SD', 'KISHU', 'DERC', 'crypto', 'cryptonews', 'cryptoAlerts', 'blockchain', 'cryptotrading', 'cryptoprices', 'altcoins', 'bitcoin']\", 'Crypto Frog', 'False']\n",
      "Skipping row due to insufficient columns: ['👉https://t.co/AdJlZWUXsw']\n",
      "Skipping row due to insufficient columns: ['$CPAY 3.26%']\n",
      "Skipping row due to insufficient columns: ['$XSPECTAR 1.4%']\n",
      "Skipping row due to insufficient columns: ['$UMEE 0.43%']\n",
      "Skipping row due to insufficient columns: [' #CPAY #XSPECTAR #UMEE #crypto #cryptonews #cryptoAlerts #blockchain  #cryptotrading #cryptoprices #altcoins #bitcoin', \"['cryptocurrency', 'price', 'MEXC', 'CPAY', 'XSPECTAR', 'UMEE', 'crypto', 'cryptonews', 'cryptoAlerts', 'blockchain', 'cryptotrading', 'cryptoprices', 'altcoins', 'bitcoin']\", 'Crypto Frog', 'False']\n",
      "Skipping row due to insufficient columns: ['👉https://t.co/XsdBPI7qf6']\n",
      "Skipping row due to insufficient columns: ['$ORB 4.04%']\n",
      "Skipping row due to insufficient columns: ['$ANW 0.69%']\n",
      "Skipping row due to insufficient columns: ['$MXT 0.54%']\n",
      "Skipping row due to insufficient columns: ['$LAT 0.48%']\n",
      "Skipping row due to insufficient columns: ['$CFX 0.4%']\n",
      "Skipping row due to insufficient columns: [' #ORB #ANW #MXT #LAT #CFX #crypto #cryptonews #cryptoAlerts #blockchain  #cryptotrading #cryptoprices #altcoins #bitcoin', \"['cryptocurrency', 'price', 'OKX', 'ORB', 'ANW', 'MXT', 'LAT', 'CFX', 'crypto', 'cryptonews', 'cryptoAlerts', 'blockchain', 'cryptotrading', 'cryptoprices', 'altcoins', 'bitcoin']\", 'Crypto Frog', 'False']\n"
     ]
    },
    {
     "name": "stderr",
     "output_type": "stream",
     "text": [
      "Preprocessing tweets: 84354it [00:28, 2802.58it/s]"
     ]
    },
    {
     "name": "stdout",
     "output_type": "stream",
     "text": [
      "Skipping row due to insufficient columns: ['👉https://t.co/dwh8jR9uho']\n",
      "Skipping row due to insufficient columns: ['$CTRC 4.48%']\n",
      "Skipping row due to insufficient columns: ['$SIDUS 1.09%']\n",
      "Skipping row due to insufficient columns: ['$CHO 0.64%']\n",
      "Skipping row due to insufficient columns: ['$LDO 0.52%']\n",
      "Skipping row due to insufficient columns: ['$ASW 0.49%']\n",
      "Skipping row due to insufficient columns: [' #CTRC #SIDUS #CHO #LDO #ASW #crypto #cryptonews #cryptoAlerts #blockchain  #cryptotrading #cryptoprices #altcoins #bitcoin', \"['cryptocurrency', 'price', 'GateIo', 'CTRC', 'SIDUS', 'CHO', 'LDO', 'ASW', 'crypto', 'cryptonews', 'cryptoAlerts', 'blockchain', 'cryptotrading', 'cryptoprices', 'altcoins', 'bitcoin']\", 'Crypto Frog', 'False']\n",
      "Skipping row due to insufficient columns: ['👉https://t.co/dwh8jR9uho']\n",
      "Skipping row due to insufficient columns: ['$DES 3.22%']\n",
      "Skipping row due to insufficient columns: ['$STOS 1.32%']\n",
      "Skipping row due to insufficient columns: ['$PAW 0.74%']\n",
      "Skipping row due to insufficient columns: ['$VELO 0.68%']\n",
      "Skipping row due to insufficient columns: ['$TRVL 0.44%']\n",
      "Skipping row due to insufficient columns: [' #DES #STOS #PAW #VELO #TRVL #crypto #cryptonews #cryptoAlerts #blockchain  #cryptotrading #cryptoprices #altcoins #bitcoin', \"['cryptocurrency', 'price', 'GateIo', 'DES', 'STOS', 'PAW', 'VELO', 'TRVL', 'crypto', 'cryptonews', 'cryptoAlerts', 'blockchain', 'cryptotrading', 'cryptoprices', 'altcoins', 'bitcoin']\", 'Crypto Frog', 'False']\n",
      "Skipping row due to insufficient columns: ['👉https://t.co/dwh8jR9uho']\n",
      "Skipping row due to insufficient columns: ['$MNZ 9.19%']\n",
      "Skipping row due to insufficient columns: ['$SMT 0.82%']\n",
      "Skipping row due to insufficient columns: ['$HFT 0.61%']\n",
      "Skipping row due to insufficient columns: ['$ALCX 0.61%']\n",
      "Skipping row due to insufficient columns: ['$JST 0.57%']\n",
      "Skipping row due to insufficient columns: [' #MNZ #SMT #HFT #ALCX #JST #crypto #cryptonews #cryptoAlerts #blockchain  #cryptotrading #cryptoprices #altcoins #bitcoin', \"['cryptocurrency', 'price', 'GateIo', 'MNZ', 'SMT', 'HFT', 'ALCX', 'JST', 'crypto', 'cryptonews', 'cryptoAlerts', 'blockchain', 'cryptotrading', 'cryptoprices', 'altcoins', 'bitcoin']\", 'Crypto Frog', 'False']\n"
     ]
    },
    {
     "name": "stderr",
     "output_type": "stream",
     "text": [
      "Preprocessing tweets: 86302it [00:29, 3180.22it/s]"
     ]
    },
    {
     "name": "stdout",
     "output_type": "stream",
     "text": [
      "Skipping row due to insufficient columns: ['👉https://t.co/dwh8jR9uho']\n",
      "Skipping row due to insufficient columns: ['$JAM 3.12%']\n",
      "Skipping row due to insufficient columns: ['$XDB 0.79%']\n",
      "Skipping row due to insufficient columns: ['$BNX 0.5%']\n",
      "Skipping row due to insufficient columns: ['$DODO 0.49%']\n",
      "Skipping row due to insufficient columns: ['$WOO 0.48%']\n",
      "Skipping row due to insufficient columns: [' #JAM #XDB #BNX #DODO #WOO #crypto #cryptonews #cryptoAlerts #blockchain  #cryptotrading #cryptoprices #altcoins #bitcoin', \"['cryptocurrency', 'price', 'GateIo', 'JAM', 'XDB', 'BNX', 'DODO', 'WOO', 'crypto', 'cryptonews', 'cryptoAlerts', 'blockchain', 'cryptotrading', 'cryptoprices', 'altcoins', 'bitcoin']\", 'Crypto Frog', 'False']\n",
      "Skipping row due to insufficient columns: ['👉https://t.co/dwh8jR9uho']\n",
      "Skipping row due to insufficient columns: ['$JAM 5%']\n",
      "Skipping row due to insufficient columns: ['$ALPH 1.9%']\n",
      "Skipping row due to insufficient columns: ['$BDP 0.99%']\n",
      "Skipping row due to insufficient columns: ['$CKB 0.86%']\n",
      "Skipping row due to insufficient columns: ['$CELL 0.46%']\n",
      "Skipping row due to insufficient columns: [' #JAM #ALPH #BDP #CKB #CELL #crypto #cryptonews #cryptoAlerts #blockchain  #cryptotrading #cryptoprices #altcoins #bitcoin', \"['cryptocurrency', 'price', 'GateIo', 'JAM', 'ALPH', 'BDP', 'CKB', 'CELL', 'crypto', 'cryptonews', 'cryptoAlerts', 'blockchain', 'cryptotrading', 'cryptoprices', 'altcoins', 'bitcoin']\", 'Crypto Frog', 'False']\n",
      "Skipping row due to insufficient columns: ['👉https://t.co/AdJlZWUXsw']\n",
      "Skipping row due to insufficient columns: ['$CPAY 3.26%']\n",
      "Skipping row due to insufficient columns: ['$BOO 2.33%']\n",
      "Skipping row due to insufficient columns: ['$PHB 0.37%']\n",
      "Skipping row due to insufficient columns: ['$DMD 0.32%']\n",
      "Skipping row due to insufficient columns: [' #CPAY #BOO #PHB #DMD #crypto #cryptonews #cryptoAlerts #blockchain  #cryptotrading #cryptoprices #altcoins #bitcoin', \"['cryptocurrency', 'price', 'MEXC', 'CPAY', 'BOO', 'PHB', 'DMD', 'crypto', 'cryptonews', 'cryptoAlerts', 'blockchain', 'cryptotrading', 'cryptoprices', 'altcoins', 'bitcoin']\", 'Crypto Frog', 'False']\n",
      "Skipping row due to insufficient columns: ['👉https://t.co/dwh8jR9uho']\n",
      "Skipping row due to insufficient columns: ['$CTRC 3.14%']\n",
      "Skipping row due to insufficient columns: ['$DAG 0.77%']\n",
      "Skipping row due to insufficient columns: ['$XOR 0.71%']\n",
      "Skipping row due to insufficient columns: ['$BASE 0.46%']\n",
      "Skipping row due to insufficient columns: ['$SLIM 0.34%']\n",
      "Skipping row due to insufficient columns: [' #CTRC #DAG #XOR #BASE #SLIM #crypto #cryptonews #cryptoAlerts #blockchain  #cryptotrading #cryptoprices #altcoins #bitcoin', \"['cryptocurrency', 'price', 'GateIo', 'CTRC', 'DAG', 'XOR', 'BASE', 'SLIM', 'crypto', 'cryptonews', 'cryptoAlerts', 'blockchain', 'cryptotrading', 'cryptoprices', 'altcoins', 'bitcoin']\", 'Crypto Frog', 'False']\n"
     ]
    },
    {
     "name": "stderr",
     "output_type": "stream",
     "text": [
      "Preprocessing tweets: 86970it [00:29, 3269.19it/s]"
     ]
    },
    {
     "name": "stdout",
     "output_type": "stream",
     "text": [
      "Skipping row due to insufficient columns: ['👉https://t.co/dwh8jR9uho']\n",
      "Skipping row due to insufficient columns: ['$DES 3.3%']\n",
      "Skipping row due to insufficient columns: ['$RADAR 2.27%']\n",
      "Skipping row due to insufficient columns: ['$CQT 1.04%']\n",
      "Skipping row due to insufficient columns: ['$NEO 0.42%']\n",
      "Skipping row due to insufficient columns: ['$USTC 0.42%']\n",
      "Skipping row due to insufficient columns: [' #DES #RADAR #CQT #NEO #USTC #crypto #cryptonews #cryptoAlerts #blockchain  #cryptotrading #cryptoprices #altcoins #bitcoin', \"['cryptocurrency', 'price', 'GateIo', 'DES', 'RADAR', 'CQT', 'NEO', 'USTC', 'crypto', 'cryptonews', 'cryptoAlerts', 'blockchain', 'cryptotrading', 'cryptoprices', 'altcoins', 'bitcoin']\", 'Crypto Frog', 'False']\n",
      "Skipping row due to insufficient columns: ['Coin: $OPENX']\n",
      "Skipping row due to insufficient columns: ['Pairs:']\n",
      "Skipping row due to insufficient columns: ['#OPENX/#USDT']\n",
      "Skipping row due to insufficient columns: ['#newcoinlisting #crypto #cryptonews #cryptoAlerts #altcoins #bitcoin #blockchain #cryptocurrency #cryptotrading', \"['BKEX', 'OPENX', 'USDT', 'newcoinlisting', 'crypto', 'cryptonews', 'cryptoAlerts', 'altcoins', 'bitcoin', 'blockchain', 'cryptocurrency', 'cryptotrading']\", 'CoinListingBot', 'False']\n",
      "Skipping row due to insufficient columns: ['👉https://t.co/dwh8jR9uho']\n",
      "Skipping row due to insufficient columns: ['$KPAD 8.09%']\n",
      "Skipping row due to insufficient columns: ['$OCT 1.18%']\n",
      "Skipping row due to insufficient columns: ['$D2T 1.06%']\n",
      "Skipping row due to insufficient columns: ['$TIP 0.99%']\n",
      "Skipping row due to insufficient columns: ['$RNDR 0.73%']\n",
      "Skipping row due to insufficient columns: [' #KPAD #OCT #D2T #TIP #RNDR #crypto #cryptonews #cryptoAlerts #blockchain  #cryptotrading #cryptoprices #altcoins #bitcoin', \"['cryptocurrency', 'price', 'GateIo', 'KPAD', 'OCT', 'D2T', 'TIP', 'RNDR', 'crypto', 'cryptonews', 'cryptoAlerts', 'blockchain', 'cryptotrading', 'cryptoprices', 'altcoins', 'bitcoin']\", 'Crypto Frog', 'False']\n",
      "Skipping row due to insufficient columns: ['👉https://t.co/dwh8jR9uho']\n",
      "Skipping row due to insufficient columns: ['$PAW 4.11%']\n",
      "Skipping row due to insufficient columns: ['$KEY 0.55%']\n",
      "Skipping row due to insufficient columns: ['$OCT 0.42%']\n",
      "Skipping row due to insufficient columns: ['$DG 0.37%']\n",
      "Skipping row due to insufficient columns: ['$WING 0.34%']\n",
      "Skipping row due to insufficient columns: [' #PAW #KEY #OCT #DG #WING #crypto #cryptonews #cryptoAlerts #blockchain  #cryptotrading #cryptoprices #altcoins #bitcoin', \"['cryptocurrency', 'price', 'GateIo', 'PAW', 'KEY', 'OCT', 'DG', 'WING', 'crypto', 'cryptonews', 'cryptoAlerts', 'blockchain', 'cryptotrading', 'cryptoprices', 'altcoins', 'bitcoin']\", 'Crypto Frog', 'False']\n",
      "Skipping row due to insufficient columns: ['👉https://t.co/dwh8jR9uho']\n",
      "Skipping row due to insufficient columns: ['$FROG 3.17%']\n",
      "Skipping row due to insufficient columns: ['$XOR 0.54%']\n",
      "Skipping row due to insufficient columns: ['$STX 0.53%']\n",
      "Skipping row due to insufficient columns: ['$LIKE 0.49%']\n",
      "Skipping row due to insufficient columns: ['$CTRC 0.47%']\n",
      "Skipping row due to insufficient columns: [' #FROG #XOR #STX #LIKE #CTRC #crypto #cryptonews #cryptoAlerts #blockchain  #cryptotrading #cryptoprices #altcoins #bitcoin', \"['cryptocurrency', 'price', 'GateIo', 'FROG', 'XOR', 'STX', 'LIKE', 'CTRC', 'crypto', 'cryptonews', 'cryptoAlerts', 'blockchain', 'cryptotrading', 'cryptoprices', 'altcoins', 'bitcoin']\", 'Crypto Frog', 'False']\n"
     ]
    },
    {
     "name": "stderr",
     "output_type": "stream",
     "text": [
      "Preprocessing tweets: 88325it [00:30, 3349.92it/s]"
     ]
    },
    {
     "name": "stdout",
     "output_type": "stream",
     "text": [
      "Skipping row due to insufficient columns: ['👉https://t.co/AdJlZWUXsw']\n",
      "Skipping row due to insufficient columns: ['$GHD 4.84%']\n",
      "Skipping row due to insufficient columns: ['$UNIC 1.86%']\n",
      "Skipping row due to insufficient columns: ['$QRDO 0.56%']\n",
      "Skipping row due to insufficient columns: ['$ZIL 0.31%']\n",
      "Skipping row due to insufficient columns: [' #GHD #UNIC #QRDO #ZIL #crypto #cryptonews #cryptoAlerts #blockchain  #cryptotrading #cryptoprices #altcoins #bitcoin', \"['cryptocurrency', 'price', 'MEXC', 'GHD', 'UNIC', 'QRDO', 'ZIL', 'crypto', 'cryptonews', 'cryptoAlerts', 'blockchain', 'cryptotrading', 'cryptoprices', 'altcoins', 'bitcoin']\", 'Crypto Frog', 'False']\n",
      "Skipping row due to insufficient columns: ['👉https://t.co/dwh8jR9uho']\n",
      "Skipping row due to insufficient columns: ['$PAW 4.56%']\n",
      "Skipping row due to insufficient columns: ['$DG 0.7%']\n",
      "Skipping row due to insufficient columns: ['$ANKR 0.59%']\n",
      "Skipping row due to insufficient columns: ['$VLX 0.55%']\n",
      "Skipping row due to insufficient columns: ['$STOX 0.5%']\n",
      "Skipping row due to insufficient columns: [' #PAW #DG #ANKR #VLX #STOX #crypto #cryptonews #cryptoAlerts #blockchain  #cryptotrading #cryptoprices #altcoins #bitcoin', \"['cryptocurrency', 'price', 'GateIo', 'PAW', 'DG', 'ANKR', 'VLX', 'STOX', 'crypto', 'cryptonews', 'cryptoAlerts', 'blockchain', 'cryptotrading', 'cryptoprices', 'altcoins', 'bitcoin']\", 'Crypto Frog', 'False']\n",
      "Skipping row due to insufficient columns: ['👉https://t.co/dwh8jR9uho']\n",
      "Skipping row due to insufficient columns: ['$PAW 4.12%']\n",
      "Skipping row due to insufficient columns: ['$BASE 0.92%']\n",
      "Skipping row due to insufficient columns: ['$SD 0.61%']\n",
      "Skipping row due to insufficient columns: ['$SOLO 0.49%']\n",
      "Skipping row due to insufficient columns: ['$AAVE 0.47%']\n",
      "Skipping row due to insufficient columns: [' #PAW #BASE #SD #SOLO #AAVE #crypto #cryptonews #cryptoAlerts #blockchain  #cryptotrading #cryptoprices #altcoins #bitcoin', \"['cryptocurrency', 'price', 'GateIo', 'PAW', 'BASE', 'SD', 'SOLO', 'AAVE', 'crypto', 'cryptonews', 'cryptoAlerts', 'blockchain', 'cryptotrading', 'cryptoprices', 'altcoins', 'bitcoin']\", 'Crypto Frog', 'False']\n",
      "Skipping row due to insufficient columns: ['👉https://t.co/dwh8jR9uho']\n",
      "Skipping row due to insufficient columns: ['$MNZ 4.06%']\n",
      "Skipping row due to insufficient columns: ['$KINT 1.57%']\n",
      "Skipping row due to insufficient columns: ['$ETHA 0.92%']\n",
      "Skipping row due to insufficient columns: ['$REALM 0.87%']\n",
      "Skipping row due to insufficient columns: ['$O3 0.84%']\n",
      "Skipping row due to insufficient columns: [' #MNZ #KINT #ETHA #REALM #O3 #crypto #cryptonews #cryptoAlerts #blockchain  #cryptotrading #cryptoprices #altcoins #bitcoin', \"['cryptocurrency', 'price', 'GateIo', 'MNZ', 'KINT', 'ETHA', 'REALM', 'O3', 'crypto', 'cryptonews', 'cryptoAlerts', 'blockchain', 'cryptotrading', 'cryptoprices', 'altcoins', 'bitcoin']\", 'Crypto Frog', 'False']\n",
      "Skipping row due to insufficient columns: ['👉https://t.co/dwh8jR9uho']\n",
      "Skipping row due to insufficient columns: ['$ORO 4.46%']\n",
      "Skipping row due to insufficient columns: ['$ANML 0.85%']\n",
      "Skipping row due to insufficient columns: ['$GFT 0.54%']\n",
      "Skipping row due to insufficient columns: ['$ACS 0.4%']\n",
      "Skipping row due to insufficient columns: ['$DX 0.38%']\n",
      "Skipping row due to insufficient columns: [' #ORO #ANML #GFT #ACS #DX #crypto #cryptonews #cryptoAlerts #blockchain  #cryptotrading #cryptoprices #altcoins #bitcoin', \"['cryptocurrency', 'price', 'GateIo', 'ORO', 'ANML', 'GFT', 'ACS', 'DX', 'crypto', 'cryptonews', 'cryptoAlerts', 'blockchain', 'cryptotrading', 'cryptoprices', 'altcoins', 'bitcoin']\", 'Crypto Frog', 'False']\n",
      "Skipping row due to insufficient columns: ['👉https://t.co/AdJlZWUXsw']\n",
      "Skipping row due to insufficient columns: ['$CPAY 3.29%']\n",
      "Skipping row due to insufficient columns: ['$MAF 1.36%']\n",
      "Skipping row due to insufficient columns: ['$ANKR 0.45%']\n",
      "Skipping row due to insufficient columns: ['$MBL 0.35%']\n",
      "Skipping row due to insufficient columns: [' #CPAY #MAF #ANKR #MBL #crypto #cryptonews #cryptoAlerts #blockchain  #cryptotrading #cryptoprices #altcoins #bitcoin', \"['cryptocurrency', 'price', 'MEXC', 'CPAY', 'MAF', 'ANKR', 'MBL', 'crypto', 'cryptonews', 'cryptoAlerts', 'blockchain', 'cryptotrading', 'cryptoprices', 'altcoins', 'bitcoin']\", 'Crypto Frog', 'False']\n"
     ]
    },
    {
     "name": "stderr",
     "output_type": "stream",
     "text": [
      "Preprocessing tweets: 89412it [00:30, 3567.71it/s]"
     ]
    },
    {
     "name": "stdout",
     "output_type": "stream",
     "text": [
      "Skipping row due to insufficient columns: ['👉https://t.co/dwh8jR9uho']\n",
      "Skipping row due to insufficient columns: ['$PAW 3.77%']\n",
      "Skipping row due to insufficient columns: ['$SUDO 0.92%']\n",
      "Skipping row due to insufficient columns: ['$RIF 0.71%']\n",
      "Skipping row due to insufficient columns: ['$SLP 0.55%']\n",
      "Skipping row due to insufficient columns: ['$QUACK 0.49%']\n",
      "Skipping row due to insufficient columns: [' #PAW #SUDO #RIF #SLP #QUACK #crypto #cryptonews #cryptoAlerts #blockchain  #cryptotrading #cryptoprices #altcoins #bitcoin', \"['cryptocurrency', 'price', 'GateIo', 'PAW', 'SUDO', 'RIF', 'SLP', 'QUACK', 'crypto', 'cryptonews', 'cryptoAlerts', 'blockchain', 'cryptotrading', 'cryptoprices', 'altcoins', 'bitcoin']\", 'Crypto Frog', 'False']\n",
      "Skipping row due to insufficient columns: ['Coin: $TERA2']\n",
      "Skipping row due to insufficient columns: ['Pairs:']\n",
      "Skipping row due to insufficient columns: ['#TERA2/#USDT']\n",
      "Skipping row due to insufficient columns: ['#newcoinlisting #crypto #cryptonews #cryptoAlerts #altcoins #bitcoin #blockchain #cryptocurrency #cryptotrading', \"['Bilaxy', 'TERA2', 'USDT', 'newcoinlisting', 'crypto', 'cryptonews', 'cryptoAlerts', 'altcoins', 'bitcoin', 'blockchain', 'cryptocurrency', 'cryptotrading']\", 'CoinListingBot', 'False']\n",
      "Skipping row due to insufficient columns: ['👉https://t.co/AdJlZWUXsw']\n",
      "Skipping row due to insufficient columns: ['$MSB 5.97%']\n",
      "Skipping row due to insufficient columns: ['$PSTAKE 0.46%']\n",
      "Skipping row due to insufficient columns: ['$ALM 0.33%']\n",
      "Skipping row due to insufficient columns: [' #MSB #PSTAKE #ALM #crypto #cryptonews #cryptoAlerts #blockchain  #cryptotrading #cryptoprices #altcoins #bitcoin', \"['cryptocurrency', 'price', 'MEXC', 'MSB', 'PSTAKE', 'ALM', 'crypto', 'cryptonews', 'cryptoAlerts', 'blockchain', 'cryptotrading', 'cryptoprices', 'altcoins', 'bitcoin']\", 'Crypto Frog', 'False']\n",
      "Skipping row due to insufficient columns: ['👉https://t.co/dwh8jR9uho']\n",
      "Skipping row due to insufficient columns: ['$VRX 3.44%']\n",
      "Skipping row due to insufficient columns: ['$BNX 0.54%']\n",
      "Skipping row due to insufficient columns: ['$SLP 0.43%']\n",
      "Skipping row due to insufficient columns: ['$XEC 0.32%']\n",
      "Skipping row due to insufficient columns: ['$CHESS 0.31%']\n",
      "Skipping row due to insufficient columns: [' #VRX #BNX #SLP #XEC #CHESS #crypto #cryptonews #cryptoAlerts #blockchain  #cryptotrading #cryptoprices #altcoins #bitcoin', \"['cryptocurrency', 'price', 'GateIo', 'VRX', 'BNX', 'SLP', 'XEC', 'CHESS', 'crypto', 'cryptonews', 'cryptoAlerts', 'blockchain', 'cryptotrading', 'cryptoprices', 'altcoins', 'bitcoin']\", 'Crypto Frog', 'False']\n",
      "Skipping row due to insufficient columns: ['👉https://t.co/dwh8jR9uho']\n",
      "Skipping row due to insufficient columns: ['$DOGGO 3.94%']\n",
      "Skipping row due to insufficient columns: ['$KEY 1.01%']\n",
      "Skipping row due to insufficient columns: ['$BNX 0.72%']\n",
      "Skipping row due to insufficient columns: ['$DYDX 0.37%']\n",
      "Skipping row due to insufficient columns: ['$CKB 0.37%']\n",
      "Skipping row due to insufficient columns: [' #DOGGO #KEY #BNX #DYDX #CKB #crypto #cryptonews #cryptoAlerts #blockchain  #cryptotrading #cryptoprices #altcoins #bitcoin', \"['cryptocurrency', 'price', 'GateIo', 'DOGGO', 'KEY', 'BNX', 'DYDX', 'CKB', 'crypto', 'cryptonews', 'cryptoAlerts', 'blockchain', 'cryptotrading', 'cryptoprices', 'altcoins', 'bitcoin']\", 'Crypto Frog', 'False']\n"
     ]
    },
    {
     "name": "stderr",
     "output_type": "stream",
     "text": [
      "Preprocessing tweets: 90111it [00:30, 3289.71it/s]"
     ]
    },
    {
     "name": "stdout",
     "output_type": "stream",
     "text": [
      "Skipping row due to insufficient columns: ['Coin: $GOAL']\n",
      "Skipping row due to insufficient columns: ['Pairs:']\n",
      "Skipping row due to insufficient columns: ['#GOAL/#USDT']\n",
      "Skipping row due to insufficient columns: ['#newcoinlisting #crypto #cryptonews #cryptoAlerts #altcoins #bitcoin #blockchain #cryptocurrency #cryptotrading', \"['GateIo', 'GOAL', 'USDT', 'newcoinlisting', 'crypto', 'cryptonews', 'cryptoAlerts', 'altcoins', 'bitcoin', 'blockchain', 'cryptocurrency', 'cryptotrading']\", 'CoinListingBot', 'False']\n",
      "Skipping row due to insufficient columns: ['👉https://t.co/XsdBPI7qf6']\n",
      "Skipping row due to insufficient columns: ['$LDN 4.35%']\n",
      "Skipping row due to insufficient columns: ['$CLV 0.37%']\n",
      "Skipping row due to insufficient columns: ['$APIX 0.35%']\n",
      "Skipping row due to insufficient columns: ['$WSB 0.34%']\n",
      "Skipping row due to insufficient columns: ['$VELO 0.32%']\n",
      "Skipping row due to insufficient columns: [' #LDN #CLV #APIX #WSB #VELO #crypto #cryptonews #cryptoAlerts #blockchain  #cryptotrading #cryptoprices #altcoins #bitcoin', \"['cryptocurrency', 'price', 'OKX', 'LDN', 'CLV', 'APIX', 'WSB', 'VELO', 'crypto', 'cryptonews', 'cryptoAlerts', 'blockchain', 'cryptotrading', 'cryptoprices', 'altcoins', 'bitcoin']\", 'Crypto Frog', 'False']\n",
      "Skipping row due to insufficient columns: ['👉https://t.co/XsdBPI7qf6']\n",
      "Skipping row due to insufficient columns: ['$LDN 3.84%']\n",
      "Skipping row due to insufficient columns: ['$PNK 0.76%']\n",
      "Skipping row due to insufficient columns: ['$QOM 0.66%']\n",
      "Skipping row due to insufficient columns: ['$GFT 0.47%']\n",
      "Skipping row due to insufficient columns: ['$AR 0.4%']\n",
      "Skipping row due to insufficient columns: [' #LDN #PNK #QOM #GFT #AR #crypto #cryptonews #cryptoAlerts #blockchain  #cryptotrading #cryptoprices #altcoins #bitcoin', \"['cryptocurrency', 'price', 'OKX', 'LDN', 'PNK', 'QOM', 'GFT', 'AR', 'crypto', 'cryptonews', 'cryptoAlerts', 'blockchain', 'cryptotrading', 'cryptoprices', 'altcoins', 'bitcoin']\", 'Crypto Frog', 'False']\n",
      "Skipping row due to insufficient columns: ['👉https://t.co/dwh8jR9uho']\n",
      "Skipping row due to insufficient columns: ['$THE 3.2%']\n",
      "Skipping row due to insufficient columns: ['$ALN 1.69%']\n",
      "Skipping row due to insufficient columns: ['$HELLO 0.64%']\n",
      "Skipping row due to insufficient columns: ['$RVN 0.61%']\n",
      "Skipping row due to insufficient columns: ['$TOMO 0.4%']\n",
      "Skipping row due to insufficient columns: [' #THE #ALN #HELLO #RVN #TOMO #crypto #cryptonews #cryptoAlerts #blockchain  #cryptotrading #cryptoprices #altcoins #bitcoin', \"['cryptocurrency', 'price', 'GateIo', 'THE', 'ALN', 'HELLO', 'RVN', 'TOMO', 'crypto', 'cryptonews', 'cryptoAlerts', 'blockchain', 'cryptotrading', 'cryptoprices', 'altcoins', 'bitcoin']\", 'Crypto Frog', 'False']\n"
     ]
    },
    {
     "name": "stderr",
     "output_type": "stream",
     "text": [
      "Preprocessing tweets: 90789it [00:30, 3263.20it/s]"
     ]
    },
    {
     "name": "stdout",
     "output_type": "stream",
     "text": [
      "Skipping row due to insufficient columns: ['👉https://t.co/XsdBPI7qf6']\n",
      "Skipping row due to insufficient columns: ['$MDA 8.99%']\n",
      "Skipping row due to insufficient columns: ['$MXT 1.03%']\n",
      "Skipping row due to insufficient columns: ['$PNK 0.76%']\n",
      "Skipping row due to insufficient columns: ['$CFX 0.63%']\n",
      "Skipping row due to insufficient columns: ['$YOU 0.44%']\n",
      "Skipping row due to insufficient columns: [' #MDA #MXT #PNK #CFX #YOU #crypto #cryptonews #cryptoAlerts #blockchain  #cryptotrading #cryptoprices #altcoins #bitcoin', \"['cryptocurrency', 'price', 'OKX', 'MDA', 'MXT', 'PNK', 'CFX', 'YOU', 'crypto', 'cryptonews', 'cryptoAlerts', 'blockchain', 'cryptotrading', 'cryptoprices', 'altcoins', 'bitcoin']\", 'Crypto Frog', 'False']\n",
      "Skipping row due to insufficient columns: ['👉https://t.co/XsdBPI7qf6']\n",
      "Skipping row due to insufficient columns: ['$MDA 4.21%']\n",
      "Skipping row due to insufficient columns: ['$CHE 1.21%']\n",
      "Skipping row due to insufficient columns: ['$QOM 1.15%']\n",
      "Skipping row due to insufficient columns: ['$CHAT 0.63%']\n",
      "Skipping row due to insufficient columns: ['$BRWL 0.59%']\n",
      "Skipping row due to insufficient columns: [' #MDA #CHE #QOM #CHAT #BRWL #crypto #cryptonews #cryptoAlerts #blockchain  #cryptotrading #cryptoprices #altcoins #bitcoin', \"['cryptocurrency', 'price', 'OKX', 'MDA', 'CHE', 'QOM', 'CHAT', 'BRWL', 'crypto', 'cryptonews', 'cryptoAlerts', 'blockchain', 'cryptotrading', 'cryptoprices', 'altcoins', 'bitcoin']\", 'Crypto Frog', 'False']\n",
      "Skipping row due to insufficient columns: ['👉https://t.co/XsdBPI7qf6']\n",
      "Skipping row due to insufficient columns: ['$MDA 3.62%']\n",
      "Skipping row due to insufficient columns: ['$MXT 0.96%']\n",
      "Skipping row due to insufficient columns: ['$MAGIC 0.79%']\n",
      "Skipping row due to insufficient columns: ['$KONO 0.72%']\n",
      "Skipping row due to insufficient columns: ['$KLAY 0.54%']\n",
      "Skipping row due to insufficient columns: [' #MDA #MXT #MAGIC #KONO #KLAY #crypto #cryptonews #cryptoAlerts #blockchain  #cryptotrading #cryptoprices #altcoins #bitcoin', \"['cryptocurrency', 'price', 'OKX', 'MDA', 'MXT', 'MAGIC', 'KONO', 'KLAY', 'crypto', 'cryptonews', 'cryptoAlerts', 'blockchain', 'cryptotrading', 'cryptoprices', 'altcoins', 'bitcoin']\", 'Crypto Frog', 'False']\n",
      "Skipping row due to insufficient columns: ['👉https://t.co/dwh8jR9uho']\n",
      "Skipping row due to insufficient columns: ['$FIRE 4.15%']\n",
      "Skipping row due to insufficient columns: ['$SRM 0.98%']\n",
      "Skipping row due to insufficient columns: ['$RNDR 0.87%']\n",
      "Skipping row due to insufficient columns: ['$FIO 0.84%']\n",
      "Skipping row due to insufficient columns: ['$GFT 0.78%']\n",
      "Skipping row due to insufficient columns: [' #FIRE #SRM #RNDR #FIO #GFT #crypto #cryptonews #cryptoAlerts #blockchain  #cryptotrading #cryptoprices #altcoins #bitcoin', \"['cryptocurrency', 'price', 'GateIo', 'FIRE', 'SRM', 'RNDR', 'FIO', 'GFT', 'crypto', 'cryptonews', 'cryptoAlerts', 'blockchain', 'cryptotrading', 'cryptoprices', 'altcoins', 'bitcoin']\", 'Crypto Frog', 'False']\n",
      "Skipping row due to insufficient columns: ['Jeff', 'Sierra Leone']\n",
      "Skipping row due to insufficient columns: ['👉https://t.co/XsdBPI7qf6']\n",
      "Skipping row due to insufficient columns: ['$MDA 9.31%']\n",
      "Skipping row due to insufficient columns: ['$KLAY 0.81%']\n",
      "Skipping row due to insufficient columns: ['$PNK 0.77%']\n",
      "Skipping row due to insufficient columns: ['$RADAR 0.58%']\n",
      "Skipping row due to insufficient columns: ['$MKR 0.4%']\n",
      "Skipping row due to insufficient columns: [' #MDA #KLAY #PNK #RADAR #MKR #crypto #cryptonews #cryptoAlerts #blockchain  #cryptotrading #cryptoprices #altcoins #bitcoin', \"['cryptocurrency', 'price', 'OKX', 'MDA', 'KLAY', 'PNK', 'RADAR', 'MKR', 'crypto', 'cryptonews', 'cryptoAlerts', 'blockchain', 'cryptotrading', 'cryptoprices', 'altcoins', 'bitcoin']\", 'Crypto Frog', 'False']\n",
      "Skipping row due to insufficient columns: ['👉https://t.co/XsdBPI7qf6']\n",
      "Skipping row due to insufficient columns: ['$MDA 10.1%']\n",
      "Skipping row due to insufficient columns: ['$AST 2.01%']\n",
      "Skipping row due to insufficient columns: ['$NEO 0.51%']\n",
      "Skipping row due to insufficient columns: ['$STARL 0.5%']\n",
      "Skipping row due to insufficient columns: ['$QTUM 0.43%']\n",
      "Skipping row due to insufficient columns: [' #MDA #AST #NEO #STARL #QTUM #crypto #cryptonews #cryptoAlerts #blockchain  #cryptotrading #cryptoprices #altcoins #bitcoin', \"['cryptocurrency', 'price', 'OKX', 'MDA', 'AST', 'NEO', 'STARL', 'QTUM', 'crypto', 'cryptonews', 'cryptoAlerts', 'blockchain', 'cryptotrading', 'cryptoprices', 'altcoins', 'bitcoin']\", 'Crypto Frog', 'False']\n",
      "Skipping row due to insufficient columns: ['👉https://t.co/dwh8jR9uho']\n",
      "Skipping row due to insufficient columns: ['$PAW 3.39%']\n",
      "Skipping row due to insufficient columns: ['$SDAO 0.66%']\n",
      "Skipping row due to insufficient columns: ['$KLAY 0.59%']\n",
      "Skipping row due to insufficient columns: ['$RSR 0.57%']\n",
      "Skipping row due to insufficient columns: ['$STX 0.54%']\n",
      "Skipping row due to insufficient columns: [' #PAW #SDAO #KLAY #RSR #STX #crypto #cryptonews #cryptoAlerts #blockchain  #cryptotrading #cryptoprices #altcoins #bitcoin', \"['cryptocurrency', 'price', 'GateIo', 'PAW', 'SDAO', 'KLAY', 'RSR', 'STX', 'crypto', 'cryptonews', 'cryptoAlerts', 'blockchain', 'cryptotrading', 'cryptoprices', 'altcoins', 'bitcoin']\", 'Crypto Frog', 'False']\n"
     ]
    },
    {
     "name": "stderr",
     "output_type": "stream",
     "text": [
      "Preprocessing tweets: 91420it [00:31, 2824.33it/s]"
     ]
    },
    {
     "name": "stdout",
     "output_type": "stream",
     "text": [
      "Skipping row due to insufficient columns: ['👉https://t.co/dwh8jR9uho']\n",
      "Skipping row due to insufficient columns: ['$PTS 3.89%']\n",
      "Skipping row due to insufficient columns: ['$VRX 1.86%']\n",
      "Skipping row due to insufficient columns: ['$LN 1.37%']\n",
      "Skipping row due to insufficient columns: ['$ANKR 0.71%']\n",
      "Skipping row due to insufficient columns: ['$RSS3 0.69%']\n",
      "Skipping row due to insufficient columns: [' #PTS #VRX #LN #ANKR #RSS3 #crypto #cryptonews #cryptoAlerts #blockchain  #cryptotrading #cryptoprices #altcoins #bitcoin', \"['cryptocurrency', 'price', 'GateIo', 'PTS', 'VRX', 'LN', 'ANKR', 'RSS3', 'crypto', 'cryptonews', 'cryptoAlerts', 'blockchain', 'cryptotrading', 'cryptoprices', 'altcoins', 'bitcoin']\", 'Crypto Frog', 'False']\n",
      "Skipping row due to insufficient columns: ['👉https://t.co/XsdBPI7qf6']\n",
      "Skipping row due to insufficient columns: ['$SKEB 3.72%']\n",
      "Skipping row due to insufficient columns: ['$BADGER 0.42%']\n",
      "Skipping row due to insufficient columns: ['$MOF 0.35%']\n",
      "Skipping row due to insufficient columns: [' #SKEB #BADGER #MOF #crypto #cryptonews #cryptoAlerts #blockchain  #cryptotrading #cryptoprices #altcoins #bitcoin', \"['cryptocurrency', 'price', 'OKX', 'SKEB', 'BADGER', 'MOF', 'crypto', 'cryptonews', 'cryptoAlerts', 'blockchain', 'cryptotrading', 'cryptoprices', 'altcoins', 'bitcoin']\", 'Crypto Frog', 'False']\n",
      "Skipping row due to insufficient columns: ['👉https://t.co/dwh8jR9uho']\n",
      "Skipping row due to insufficient columns: ['$NBP 3.16%']\n",
      "Skipping row due to insufficient columns: ['$DHX 1.04%']\n",
      "Skipping row due to insufficient columns: ['$STX 0.8%']\n",
      "Skipping row due to insufficient columns: ['$DUSK 0.62%']\n",
      "Skipping row due to insufficient columns: ['$KIN 0.42%']\n",
      "Skipping row due to insufficient columns: [' #NBP #DHX #STX #DUSK #KIN #crypto #cryptonews #cryptoAlerts #blockchain  #cryptotrading #cryptoprices #altcoins #bitcoin', \"['cryptocurrency', 'price', 'GateIo', 'NBP', 'DHX', 'STX', 'DUSK', 'KIN', 'crypto', 'cryptonews', 'cryptoAlerts', 'blockchain', 'cryptotrading', 'cryptoprices', 'altcoins', 'bitcoin']\", 'Crypto Frog', 'False']\n"
     ]
    },
    {
     "name": "stderr",
     "output_type": "stream",
     "text": [
      "Preprocessing tweets: 91996it [00:31, 2821.61it/s]"
     ]
    },
    {
     "name": "stdout",
     "output_type": "stream",
     "text": [
      "Skipping row due to insufficient columns: ['👉https://t.co/dwh8jR9uho']\n",
      "Skipping row due to insufficient columns: ['$MED 3.27%']\n",
      "Skipping row due to insufficient columns: ['$GRT 0.55%']\n",
      "Skipping row due to insufficient columns: ['$ZBC 0.5%']\n",
      "Skipping row due to insufficient columns: ['$BACON 0.35%']\n",
      "Skipping row due to insufficient columns: ['$YFI 0.33%']\n",
      "Skipping row due to insufficient columns: [' #MED #GRT #ZBC #BACON #YFI #crypto #cryptonews #cryptoAlerts #blockchain  #cryptotrading #cryptoprices #altcoins #bitcoin', \"['cryptocurrency', 'price', 'GateIo', 'MED', 'GRT', 'ZBC', 'BACON', 'YFI', 'crypto', 'cryptonews', 'cryptoAlerts', 'blockchain', 'cryptotrading', 'cryptoprices', 'altcoins', 'bitcoin']\", 'Crypto Frog', 'False']\n",
      "Skipping row due to insufficient columns: ['👉https://t.co/dwh8jR9uho']\n",
      "Skipping row due to insufficient columns: ['$CRE 3.21%']\n",
      "Skipping row due to insufficient columns: ['$MESA 0.79%']\n",
      "Skipping row due to insufficient columns: ['$NCT 0.63%']\n",
      "Skipping row due to insufficient columns: [' #CRE #MESA #NCT #crypto #cryptonews #cryptoAlerts #blockchain  #cryptotrading #cryptoprices #altcoins #bitcoin', \"['cryptocurrency', 'price', 'GateIo', 'CRE', 'MESA', 'NCT', 'crypto', 'cryptonews', 'cryptoAlerts', 'blockchain', 'cryptotrading', 'cryptoprices', 'altcoins', 'bitcoin']\", 'Crypto Frog', 'False']\n",
      "Skipping row due to insufficient columns: ['👉https://t.co/dwh8jR9uho']\n",
      "Skipping row due to insufficient columns: ['$LION 6.3%']\n",
      "Skipping row due to insufficient columns: ['$GFT 0.4%']\n",
      "Skipping row due to insufficient columns: ['$DOGA 0.31%']\n",
      "Skipping row due to insufficient columns: [' #LION #GFT #DOGA #crypto #cryptonews #cryptoAlerts #blockchain  #cryptotrading #cryptoprices #altcoins #bitcoin', \"['cryptocurrency', 'price', 'GateIo', 'LION', 'GFT', 'DOGA', 'crypto', 'cryptonews', 'cryptoAlerts', 'blockchain', 'cryptotrading', 'cryptoprices', 'altcoins', 'bitcoin']\", 'Crypto Frog', 'False']\n"
     ]
    },
    {
     "name": "stderr",
     "output_type": "stream",
     "text": [
      "Preprocessing tweets: 92869it [00:31, 2786.62it/s]"
     ]
    },
    {
     "name": "stdout",
     "output_type": "stream",
     "text": [
      "Skipping row due to insufficient columns: ['👉https://t.co/XsdBPI7qf6']\n",
      "Skipping row due to insufficient columns: ['$RADAR 3.34%']\n",
      "Skipping row due to insufficient columns: ['$KONO 2%']\n",
      "Skipping row due to insufficient columns: ['$SLP 0.91%']\n",
      "Skipping row due to insufficient columns: ['$USTC 0.36%']\n",
      "Skipping row due to insufficient columns: ['$VELO 0.33%']\n",
      "Skipping row due to insufficient columns: [' #RADAR #KONO #SLP #USTC #VELO #crypto #cryptonews #cryptoAlerts #blockchain  #cryptotrading #cryptoprices #altcoins #bitcoin', \"['cryptocurrency', 'price', 'OKX', 'RADAR', 'KONO', 'SLP', 'USTC', 'VELO', 'crypto', 'cryptonews', 'cryptoAlerts', 'blockchain', 'cryptotrading', 'cryptoprices', 'altcoins', 'bitcoin']\", 'Crypto Frog', 'False']\n",
      "Skipping row due to insufficient columns: ['👉https://t.co/XsdBPI7qf6']\n",
      "Skipping row due to insufficient columns: ['$CVT 3.28%']\n",
      "Skipping row due to insufficient columns: ['$KONO 3.09%']\n",
      "Skipping row due to insufficient columns: ['$TOWN 1%']\n",
      "Skipping row due to insufficient columns: ['$KNC 0.86%']\n",
      "Skipping row due to insufficient columns: ['$ZRX 0.48%']\n",
      "Skipping row due to insufficient columns: [' #CVT #KONO #TOWN #KNC #ZRX #crypto #cryptonews #cryptoAlerts #blockchain  #cryptotrading #cryptoprices #altcoins #bitcoin', \"['cryptocurrency', 'price', 'OKX', 'CVT', 'KONO', 'TOWN', 'KNC', 'ZRX', 'crypto', 'cryptonews', 'cryptoAlerts', 'blockchain', 'cryptotrading', 'cryptoprices', 'altcoins', 'bitcoin']\", 'Crypto Frog', 'False']\n",
      "Skipping row due to insufficient columns: ['𝔍𝔬𝔰𝔢𝔭𝔥👾', 'South Korea']\n",
      "Skipping row due to insufficient columns: ['👉https://t.co/dwh8jR9uho']\n",
      "Skipping row due to insufficient columns: ['$OAS 3.37%']\n",
      "Skipping row due to insufficient columns: ['$KYL 1.13%']\n",
      "Skipping row due to insufficient columns: ['$MEPAD 0.98%']\n",
      "Skipping row due to insufficient columns: ['$XPR 0.8%']\n",
      "Skipping row due to insufficient columns: ['$ACS 0.61%']\n",
      "Skipping row due to insufficient columns: [' #OAS #KYL #MEPAD #XPR #ACS #crypto #cryptonews #cryptoAlerts #blockchain  #cryptotrading #cryptoprices #altcoins #bitcoin', \"['cryptocurrency', 'price', 'GateIo', 'OAS', 'KYL', 'MEPAD', 'XPR', 'ACS', 'crypto', 'cryptonews', 'cryptoAlerts', 'blockchain', 'cryptotrading', 'cryptoprices', 'altcoins', 'bitcoin']\", 'Crypto Frog', 'False']\n"
     ]
    },
    {
     "name": "stderr",
     "output_type": "stream",
     "text": [
      "Preprocessing tweets: 93450it [00:31, 2847.91it/s]"
     ]
    },
    {
     "name": "stdout",
     "output_type": "stream",
     "text": [
      "Skipping row due to insufficient columns: ['🤨𝐓𝐡𝐨𝐦𝐚𝐬😘', 'Serbia']\n",
      "Skipping row due to insufficient columns: ['👉https://t.co/dwh8jR9uho']\n",
      "Skipping row due to insufficient columns: ['$THN 3.2%']\n",
      "Skipping row due to insufficient columns: ['$ATLAS 0.77%']\n",
      "Skipping row due to insufficient columns: ['$BOA 0.7%']\n",
      "Skipping row due to insufficient columns: ['$EMON 0.49%']\n",
      "Skipping row due to insufficient columns: ['$BICO 0.41%']\n",
      "Skipping row due to insufficient columns: [' #THN #ATLAS #BOA #EMON #BICO #crypto #cryptonews #cryptoAlerts #blockchain  #cryptotrading #cryptoprices #altcoins #bitcoin', \"['cryptocurrency', 'price', 'GateIo', 'THN', 'ATLAS', 'BOA', 'EMON', 'BICO', 'crypto', 'cryptonews', 'cryptoAlerts', 'blockchain', 'cryptotrading', 'cryptoprices', 'altcoins', 'bitcoin']\", 'Crypto Frog', 'False']\n"
     ]
    },
    {
     "name": "stderr",
     "output_type": "stream",
     "text": [
      "Preprocessing tweets: 94356it [00:32, 2969.19it/s]"
     ]
    },
    {
     "name": "stdout",
     "output_type": "stream",
     "text": [
      "Skipping row due to insufficient columns: ['👉https://t.co/dwh8jR9uho']\n",
      "Skipping row due to insufficient columns: ['$DMS 3.08%']\n",
      "Skipping row due to insufficient columns: ['$STX 0.75%']\n",
      "Skipping row due to insufficient columns: ['$ANC 0.38%']\n",
      "Skipping row due to insufficient columns: [' #DMS #STX #ANC #crypto #cryptonews #cryptoAlerts #blockchain  #cryptotrading #cryptoprices #altcoins #bitcoin', \"['cryptocurrency', 'price', 'GateIo', 'DMS', 'STX', 'ANC', 'crypto', 'cryptonews', 'cryptoAlerts', 'blockchain', 'cryptotrading', 'cryptoprices', 'altcoins', 'bitcoin']\", 'Crypto Frog', 'False']\n",
      "Skipping row due to insufficient columns: ['👉https://t.co/dwh8jR9uho']\n",
      "Skipping row due to insufficient columns: ['$PAW 4.52%']\n",
      "Skipping row due to insufficient columns: ['$ANC 1.34%']\n",
      "Skipping row due to insufficient columns: ['$NKN 0.63%']\n",
      "Skipping row due to insufficient columns: ['$INJ 0.59%']\n",
      "Skipping row due to insufficient columns: ['$FITFI 0.58%']\n",
      "Skipping row due to insufficient columns: [' #PAW #ANC #NKN #INJ #FITFI #crypto #cryptonews #cryptoAlerts #blockchain  #cryptotrading #cryptoprices #altcoins #bitcoin', \"['cryptocurrency', 'price', 'GateIo', 'PAW', 'ANC', 'NKN', 'INJ', 'FITFI', 'crypto', 'cryptonews', 'cryptoAlerts', 'blockchain', 'cryptotrading', 'cryptoprices', 'altcoins', 'bitcoin']\", 'Crypto Frog', 'False']\n",
      "Skipping row due to insufficient columns: ['👉https://t.co/dwh8jR9uho']\n",
      "Skipping row due to insufficient columns: ['$YIN 3.3%']\n",
      "Skipping row due to insufficient columns: ['$CFX 0.65%']\n",
      "Skipping row due to insufficient columns: ['$BEL 0.51%']\n",
      "Skipping row due to insufficient columns: ['$WEMIX 0.46%']\n",
      "Skipping row due to insufficient columns: ['$HFT 0.42%']\n",
      "Skipping row due to insufficient columns: [' #YIN #CFX #BEL #WEMIX #HFT #crypto #cryptonews #cryptoAlerts #blockchain  #cryptotrading #cryptoprices #altcoins #bitcoin', \"['cryptocurrency', 'price', 'GateIo', 'YIN', 'CFX', 'BEL', 'WEMIX', 'HFT', 'crypto', 'cryptonews', 'cryptoAlerts', 'blockchain', 'cryptotrading', 'cryptoprices', 'altcoins', 'bitcoin']\", 'Crypto Frog', 'False']\n",
      "Skipping row due to insufficient columns: ['👉https://t.co/dwh8jR9uho']\n",
      "Skipping row due to insufficient columns: ['$TXT 3.14%']\n",
      "Skipping row due to insufficient columns: ['$WOM 0.92%']\n",
      "Skipping row due to insufficient columns: ['$STX 0.87%']\n",
      "Skipping row due to insufficient columns: ['$CORE 0.85%']\n",
      "Skipping row due to insufficient columns: ['$PAW 0.82%']\n",
      "Skipping row due to insufficient columns: [' #TXT #WOM #STX #CORE #PAW #crypto #cryptonews #cryptoAlerts #blockchain  #cryptotrading #cryptoprices #altcoins #bitcoin', \"['cryptocurrency', 'price', 'GateIo', 'TXT', 'WOM', 'STX', 'CORE', 'PAW', 'crypto', 'cryptonews', 'cryptoAlerts', 'blockchain', 'cryptotrading', 'cryptoprices', 'altcoins', 'bitcoin']\", 'Crypto Frog', 'False']\n"
     ]
    },
    {
     "name": "stderr",
     "output_type": "stream",
     "text": [
      "Preprocessing tweets: 96455it [00:32, 2945.09it/s]"
     ]
    },
    {
     "name": "stdout",
     "output_type": "stream",
     "text": [
      "Skipping row due to insufficient columns: ['👾Mark🖖', 'Sri Lanka']\n"
     ]
    },
    {
     "name": "stderr",
     "output_type": "stream",
     "text": [
      "Preprocessing tweets: 97336it [00:33, 2878.15it/s]"
     ]
    },
    {
     "name": "stdout",
     "output_type": "stream",
     "text": [
      "Skipping row due to insufficient columns: ['👉https://t.co/dwh8jR9uho']\n",
      "Skipping row due to insufficient columns: ['$WEAR 7%']\n",
      "Skipping row due to insufficient columns: ['$XWG 1.7%']\n",
      "Skipping row due to insufficient columns: ['$SIS 0.81%']\n",
      "Skipping row due to insufficient columns: ['$ANKR 0.7%']\n",
      "Skipping row due to insufficient columns: ['$DF 0.52%']\n",
      "Skipping row due to insufficient columns: [' #WEAR #XWG #SIS #ANKR #DF #crypto #cryptonews #cryptoAlerts #blockchain  #cryptotrading #cryptoprices #altcoins #bitcoin', \"['cryptocurrency', 'price', 'GateIo', 'WEAR', 'XWG', 'SIS', 'ANKR', 'DF', 'crypto', 'cryptonews', 'cryptoAlerts', 'blockchain', 'cryptotrading', 'cryptoprices', 'altcoins', 'bitcoin']\", 'Crypto Frog', 'False']\n",
      "Skipping row due to insufficient columns: ['renato_mathias', 'Nepal']\n",
      "Skipping row due to insufficient columns: ['👉https://t.co/dwh8jR9uho']\n",
      "Skipping row due to insufficient columns: ['$DUCK 3.95%']\n",
      "Skipping row due to insufficient columns: ['$STG 0.85%']\n",
      "Skipping row due to insufficient columns: ['$TNC 0.81%']\n",
      "Skipping row due to insufficient columns: ['$WEAR 0.61%']\n",
      "Skipping row due to insufficient columns: ['$ALU 0.54%']\n",
      "Skipping row due to insufficient columns: [' #DUCK #STG #TNC #WEAR #ALU #crypto #cryptonews #cryptoAlerts #blockchain  #cryptotrading #cryptoprices #altcoins #bitcoin', \"['cryptocurrency', 'price', 'GateIo', 'DUCK', 'STG', 'TNC', 'WEAR', 'ALU', 'crypto', 'cryptonews', 'cryptoAlerts', 'blockchain', 'cryptotrading', 'cryptoprices', 'altcoins', 'bitcoin']\", 'Crypto Frog', 'False']\n",
      "Skipping row due to insufficient columns: ['👉https://t.co/XsdBPI7qf6']\n",
      "Skipping row due to insufficient columns: ['$ANW 3.88%']\n",
      "Skipping row due to insufficient columns: ['$ALCX 0.82%']\n",
      "Skipping row due to insufficient columns: ['$CHAT 0.6%']\n",
      "Skipping row due to insufficient columns: ['$VELO 0.48%']\n",
      "Skipping row due to insufficient columns: ['$LITH 0.42%']\n",
      "Skipping row due to insufficient columns: [' #ANW #ALCX #CHAT #VELO #LITH #crypto #cryptonews #cryptoAlerts #blockchain  #cryptotrading #cryptoprices #altcoins #bitcoin', \"['cryptocurrency', 'price', 'OKX', 'ANW', 'ALCX', 'CHAT', 'VELO', 'LITH', 'crypto', 'cryptonews', 'cryptoAlerts', 'blockchain', 'cryptotrading', 'cryptoprices', 'altcoins', 'bitcoin']\", 'Crypto Frog', 'False']\n",
      "Skipping row due to insufficient columns: ['r_g_c', 'Kazakhstan']\n"
     ]
    },
    {
     "name": "stderr",
     "output_type": "stream",
     "text": [
      "Preprocessing tweets: 98543it [00:33, 2940.65it/s]"
     ]
    },
    {
     "name": "stdout",
     "output_type": "stream",
     "text": [
      "Skipping row due to insufficient columns: ['👉https://t.co/XsdBPI7qf6']\n",
      "Skipping row due to insufficient columns: ['$LDN 3.02%']\n",
      "Skipping row due to insufficient columns: ['$DNA 0.32%']\n",
      "Skipping row due to insufficient columns: ['$CHAT 0.32%']\n",
      "Skipping row due to insufficient columns: [' #LDN #DNA #CHAT #crypto #cryptonews #cryptoAlerts #blockchain  #cryptotrading #cryptoprices #altcoins #bitcoin', \"['cryptocurrency', 'price', 'OKX', 'LDN', 'DNA', 'CHAT', 'crypto', 'cryptonews', 'cryptoAlerts', 'blockchain', 'cryptotrading', 'cryptoprices', 'altcoins', 'bitcoin']\", 'Crypto Frog', 'False']\n",
      "Skipping row due to insufficient columns: ['simeonallenmk2', 'Israel']\n",
      "Skipping row due to insufficient columns: ['👉https://t.co/dwh8jR9uho']\n",
      "Skipping row due to insufficient columns: ['$RATIO 4.7%']\n",
      "Skipping row due to insufficient columns: ['$XCAD 0.6%']\n",
      "Skipping row due to insufficient columns: ['$CHO 0.53%']\n",
      "Skipping row due to insufficient columns: ['$XVG 0.35%']\n",
      "Skipping row due to insufficient columns: ['$GFI 0.35%']\n",
      "Skipping row due to insufficient columns: [' #RATIO #XCAD #CHO #XVG #GFI #crypto #cryptonews #cryptoAlerts #blockchain  #cryptotrading #cryptoprices #altcoins #bitcoin', \"['cryptocurrency', 'price', 'GateIo', 'RATIO', 'XCAD', 'CHO', 'XVG', 'GFI', 'crypto', 'cryptonews', 'cryptoAlerts', 'blockchain', 'cryptotrading', 'cryptoprices', 'altcoins', 'bitcoin']\", 'Crypto Frog', 'False']\n"
     ]
    },
    {
     "name": "stderr",
     "output_type": "stream",
     "text": [
      "Preprocessing tweets: 99741it [00:33, 2927.31it/s]"
     ]
    },
    {
     "name": "stdout",
     "output_type": "stream",
     "text": [
      "Skipping row due to insufficient columns: ['👉https://t.co/dwh8jR9uho']\n",
      "Skipping row due to insufficient columns: ['$BYN 5.57%']\n",
      "Skipping row due to insufficient columns: ['$SMT 0.49%']\n",
      "Skipping row due to insufficient columns: ['$DYDX 0.47%']\n",
      "Skipping row due to insufficient columns: ['$KABY 0.43%']\n",
      "Skipping row due to insufficient columns: [' #BYN #SMT #DYDX #KABY #crypto #cryptonews #cryptoAlerts #blockchain  #cryptotrading #cryptoprices #altcoins #bitcoin', \"['cryptocurrency', 'price', 'GateIo', 'BYN', 'SMT', 'DYDX', 'KABY', 'crypto', 'cryptonews', 'cryptoAlerts', 'blockchain', 'cryptotrading', 'cryptoprices', 'altcoins', 'bitcoin']\", 'Crypto Frog', 'False']\n",
      "Skipping row due to insufficient columns: ['👉https://t.co/dwh8jR9uho']\n",
      "Skipping row due to insufficient columns: ['$JULD 6.48%']\n",
      "Skipping row due to insufficient columns: ['$ALN 2.02%']\n",
      "Skipping row due to insufficient columns: ['$TIFI 0.71%']\n",
      "Skipping row due to insufficient columns: ['$DAR 0.67%']\n",
      "Skipping row due to insufficient columns: ['$CHO 0.64%']\n",
      "Skipping row due to insufficient columns: [' #JULD #ALN #TIFI #DAR #CHO #crypto #cryptonews #cryptoAlerts #blockchain  #cryptotrading #cryptoprices #altcoins #bitcoin', \"['cryptocurrency', 'price', 'GateIo', 'JULD', 'ALN', 'TIFI', 'DAR', 'CHO', 'crypto', 'cryptonews', 'cryptoAlerts', 'blockchain', 'cryptotrading', 'cryptoprices', 'altcoins', 'bitcoin']\", 'Crypto Frog', 'False']\n"
     ]
    },
    {
     "name": "stderr",
     "output_type": "stream",
     "text": [
      "Preprocessing tweets: 100689it [00:34, 3079.50it/s]"
     ]
    },
    {
     "name": "stdout",
     "output_type": "stream",
     "text": [
      "Skipping row due to insufficient columns: ['👉https://t.co/dwh8jR9uho']\n",
      "Skipping row due to insufficient columns: ['$STBU 3.51%']\n",
      "Skipping row due to insufficient columns: ['$FDC 0.74%']\n",
      "Skipping row due to insufficient columns: ['$VOXEL 0.62%']\n",
      "Skipping row due to insufficient columns: ['$NEO 0.41%']\n",
      "Skipping row due to insufficient columns: ['$ATA 0.39%']\n",
      "Skipping row due to insufficient columns: [' #STBU #FDC #VOXEL #NEO #ATA #crypto #cryptonews #cryptoAlerts #blockchain  #cryptotrading #cryptoprices #altcoins #bitcoin', \"['cryptocurrency', 'price', 'GateIo', 'STBU', 'FDC', 'VOXEL', 'NEO', 'ATA', 'crypto', 'cryptonews', 'cryptoAlerts', 'blockchain', 'cryptotrading', 'cryptoprices', 'altcoins', 'bitcoin']\", 'Crypto Frog', 'False']\n",
      "Skipping row due to insufficient columns: ['👉https://t.co/dwh8jR9uho']\n",
      "Skipping row due to insufficient columns: ['$DIS 4.85%']\n",
      "Skipping row due to insufficient columns: ['$SUDO 0.7%']\n",
      "Skipping row due to insufficient columns: ['$SHFT 0.59%']\n",
      "Skipping row due to insufficient columns: ['$URUS 0.5%']\n",
      "Skipping row due to insufficient columns: ['$RLY 0.41%']\n",
      "Skipping row due to insufficient columns: [' #DIS #SUDO #SHFT #URUS #RLY #crypto #cryptonews #cryptoAlerts #blockchain  #cryptotrading #cryptoprices #altcoins #bitcoin', \"['cryptocurrency', 'price', 'GateIo', 'DIS', 'SUDO', 'SHFT', 'URUS', 'RLY', 'crypto', 'cryptonews', 'cryptoAlerts', 'blockchain', 'cryptotrading', 'cryptoprices', 'altcoins', 'bitcoin']\", 'Crypto Frog', 'False']\n"
     ]
    },
    {
     "name": "stderr",
     "output_type": "stream",
     "text": [
      "Preprocessing tweets: 101615it [00:34, 3048.41it/s]"
     ]
    },
    {
     "name": "stdout",
     "output_type": "stream",
     "text": [
      "Skipping row due to insufficient columns: ['👉https://t.co/AdJlZWUXsw']\n",
      "Skipping row due to insufficient columns: ['$ATPAY 3.35%']\n",
      "Skipping row due to insufficient columns: ['$CVR 0.47%']\n",
      "Skipping row due to insufficient columns: ['$DTR 0.45%']\n",
      "Skipping row due to insufficient columns: [' #ATPAY #CVR #DTR #crypto #cryptonews #cryptoAlerts #blockchain  #cryptotrading #cryptoprices #altcoins #bitcoin', \"['cryptocurrency', 'price', 'MEXC', 'ATPAY', 'CVR', 'DTR', 'crypto', 'cryptonews', 'cryptoAlerts', 'blockchain', 'cryptotrading', 'cryptoprices', 'altcoins', 'bitcoin']\", 'Crypto Frog', 'False']\n",
      "Skipping row due to insufficient columns: ['norbert_the_avenger', 'Cameroon']\n",
      "Skipping row due to insufficient columns: ['hesk_tits', 'Guinea']\n",
      "Skipping row due to insufficient columns: ['aowaineh', 'Afghanistan']\n",
      "Skipping row due to insufficient columns: ['👉https://t.co/dwh8jR9uho']\n",
      "Skipping row due to insufficient columns: ['$ATK 4.37%']\n",
      "Skipping row due to insufficient columns: ['$LQTY 0.79%']\n",
      "Skipping row due to insufficient columns: ['$KEY 0.67%']\n",
      "Skipping row due to insufficient columns: ['$XWG 0.65%']\n",
      "Skipping row due to insufficient columns: ['$RLY 0.54%']\n",
      "Skipping row due to insufficient columns: [' #ATK #LQTY #KEY #XWG #RLY #crypto #cryptonews #cryptoAlerts #blockchain  #cryptotrading #cryptoprices #altcoins #bitcoin', \"['cryptocurrency', 'price', 'GateIo', 'ATK', 'LQTY', 'KEY', 'XWG', 'RLY', 'crypto', 'cryptonews', 'cryptoAlerts', 'blockchain', 'cryptotrading', 'cryptoprices', 'altcoins', 'bitcoin']\", 'Crypto Frog', 'False']\n"
     ]
    },
    {
     "name": "stderr",
     "output_type": "stream",
     "text": [
      "Preprocessing tweets: 102223it [00:34, 3002.87it/s]"
     ]
    },
    {
     "name": "stdout",
     "output_type": "stream",
     "text": [
      "Skipping row due to insufficient columns: ['👉https://t.co/YFfSerrmK2']\n",
      "Skipping row due to insufficient columns: ['$BBC 3.14%']\n",
      "Skipping row due to insufficient columns: ['$LAT 0.56%']\n",
      "Skipping row due to insufficient columns: ['$WTC 0.34%']\n",
      "Skipping row due to insufficient columns: [' #BBC #LAT #WTC #crypto #cryptonews #cryptoAlerts #blockchain  #cryptotrading #cryptoprices #altcoins #bitcoin', \"['cryptocurrency', 'price', 'Huobi', 'BBC', 'LAT', 'WTC', 'crypto', 'cryptonews', 'cryptoAlerts', 'blockchain', 'cryptotrading', 'cryptoprices', 'altcoins', 'bitcoin']\", 'Crypto Frog', 'False']\n",
      "Skipping row due to insufficient columns: ['👉https://t.co/dwh8jR9uho']\n",
      "Skipping row due to insufficient columns: ['$DMS 6.36%']\n",
      "Skipping row due to insufficient columns: ['$CHO 1.56%']\n",
      "Skipping row due to insufficient columns: ['$MAPE 0.62%']\n",
      "Skipping row due to insufficient columns: ['$ERG 0.41%']\n",
      "Skipping row due to insufficient columns: ['$FIS 0.38%']\n",
      "Skipping row due to insufficient columns: [' #DMS #CHO #MAPE #ERG #FIS #crypto #cryptonews #cryptoAlerts #blockchain  #cryptotrading #cryptoprices #altcoins #bitcoin', \"['cryptocurrency', 'price', 'GateIo', 'DMS', 'CHO', 'MAPE', 'ERG', 'FIS', 'crypto', 'cryptonews', 'cryptoAlerts', 'blockchain', 'cryptotrading', 'cryptoprices', 'altcoins', 'bitcoin']\", 'Crypto Frog', 'False']\n",
      "Skipping row due to insufficient columns: ['👉https://t.co/dwh8jR9uho']\n",
      "Skipping row due to insufficient columns: ['$KTON 3.75%']\n",
      "Skipping row due to insufficient columns: ['$BTS 2.36%']\n",
      "Skipping row due to insufficient columns: ['$FIS 0.97%']\n",
      "Skipping row due to insufficient columns: ['$RIF 0.9%']\n",
      "Skipping row due to insufficient columns: ['$VOXEL 0.69%']\n",
      "Skipping row due to insufficient columns: [' #KTON #BTS #FIS #RIF #VOXEL #crypto #cryptonews #cryptoAlerts #blockchain  #cryptotrading #cryptoprices #altcoins #bitcoin', \"['cryptocurrency', 'price', 'GateIo', 'KTON', 'BTS', 'FIS', 'RIF', 'VOXEL', 'crypto', 'cryptonews', 'cryptoAlerts', 'blockchain', 'cryptotrading', 'cryptoprices', 'altcoins', 'bitcoin']\", 'Crypto Frog', 'False']\n"
     ]
    },
    {
     "name": "stderr",
     "output_type": "stream",
     "text": [
      "Preprocessing tweets: 103120it [00:35, 2875.31it/s]"
     ]
    },
    {
     "name": "stdout",
     "output_type": "stream",
     "text": [
      "Skipping row due to insufficient columns: ['Coin: $NYM']\n",
      "Skipping row due to insufficient columns: ['Pairs:']\n",
      "Skipping row due to insufficient columns: ['#NYM/#USDT']\n",
      "Skipping row due to insufficient columns: ['#newcoinlisting #crypto #cryptonews #cryptoAlerts #altcoins #bitcoin #blockchain #cryptocurrency #cryptotrading', \"['LaToken', 'NYM', 'USDT', 'newcoinlisting', 'crypto', 'cryptonews', 'cryptoAlerts', 'altcoins', 'bitcoin', 'blockchain', 'cryptocurrency', 'cryptotrading']\", 'CoinListingBot', 'False']\n",
      "Skipping row due to insufficient columns: ['👉https://t.co/dwh8jR9uho']\n",
      "Skipping row due to insufficient columns: ['$LIFE 4.9%']\n",
      "Skipping row due to insufficient columns: ['$GRND 0.86%']\n",
      "Skipping row due to insufficient columns: ['$MAPE 0.71%']\n",
      "Skipping row due to insufficient columns: ['$SWASH 0.52%']\n",
      "Skipping row due to insufficient columns: [' #LIFE #GRND #MAPE #SWASH #crypto #cryptonews #cryptoAlerts #blockchain  #cryptotrading #cryptoprices #altcoins #bitcoin', \"['cryptocurrency', 'price', 'GateIo', 'LIFE', 'GRND', 'MAPE', 'SWASH', 'crypto', 'cryptonews', 'cryptoAlerts', 'blockchain', 'cryptotrading', 'cryptoprices', 'altcoins', 'bitcoin']\", 'Crypto Frog', 'False']\n",
      "Skipping row due to insufficient columns: ['👉https://t.co/dwh8jR9uho']\n",
      "Skipping row due to insufficient columns: ['$LFW 3.37%']\n",
      "Skipping row due to insufficient columns: ['$XDB 0.82%']\n",
      "Skipping row due to insufficient columns: ['$SGB 0.7%']\n",
      "Skipping row due to insufficient columns: ['$CFX 0.57%']\n",
      "Skipping row due to insufficient columns: ['$AUDIO 0.5%']\n",
      "Skipping row due to insufficient columns: [' #LFW #XDB #SGB #CFX #AUDIO #crypto #cryptonews #cryptoAlerts #blockchain  #cryptotrading #cryptoprices #altcoins #bitcoin', \"['cryptocurrency', 'price', 'GateIo', 'LFW', 'XDB', 'SGB', 'CFX', 'AUDIO', 'crypto', 'cryptonews', 'cryptoAlerts', 'blockchain', 'cryptotrading', 'cryptoprices', 'altcoins', 'bitcoin']\", 'Crypto Frog', 'False']\n",
      "Skipping row due to insufficient columns: ['👉https://t.co/XsdBPI7qf6']\n",
      "Skipping row due to insufficient columns: ['$INT 5.56%']\n",
      "Skipping row due to insufficient columns: ['$MOF 0.83%']\n",
      "Skipping row due to insufficient columns: ['$ANW 0.8%']\n",
      "Skipping row due to insufficient columns: ['$CNTM 0.66%']\n",
      "Skipping row due to insufficient columns: ['$VSYS 0.55%']\n",
      "Skipping row due to insufficient columns: [' #INT #MOF #ANW #CNTM #VSYS #crypto #cryptonews #cryptoAlerts #blockchain  #cryptotrading #cryptoprices #altcoins #bitcoin', \"['cryptocurrency', 'price', 'OKX', 'INT', 'MOF', 'ANW', 'CNTM', 'VSYS', 'crypto', 'cryptonews', 'cryptoAlerts', 'blockchain', 'cryptotrading', 'cryptoprices', 'altcoins', 'bitcoin']\", 'Crypto Frog', 'False']\n",
      "Skipping row due to insufficient columns: ['👉https://t.co/XsdBPI7qf6']\n",
      "Skipping row due to insufficient columns: ['$CHAT 3.32%']\n",
      "Skipping row due to insufficient columns: ['$ANC 0.84%']\n",
      "Skipping row due to insufficient columns: ['$RADAR 0.48%']\n",
      "Skipping row due to insufficient columns: ['$SLP 0.34%']\n",
      "Skipping row due to insufficient columns: ['$TUP 0.34%']\n",
      "Skipping row due to insufficient columns: [' #CHAT #ANC #RADAR #SLP #TUP #crypto #cryptonews #cryptoAlerts #blockchain  #cryptotrading #cryptoprices #altcoins #bitcoin', \"['cryptocurrency', 'price', 'OKX', 'CHAT', 'ANC', 'RADAR', 'SLP', 'TUP', 'crypto', 'cryptonews', 'cryptoAlerts', 'blockchain', 'cryptotrading', 'cryptoprices', 'altcoins', 'bitcoin']\", 'Crypto Frog', 'False']\n"
     ]
    },
    {
     "name": "stderr",
     "output_type": "stream",
     "text": [
      "Preprocessing tweets: 103703it [00:35, 2893.45it/s]"
     ]
    },
    {
     "name": "stdout",
     "output_type": "stream",
     "text": [
      "Skipping row due to insufficient columns: ['👉https://t.co/AdJlZWUXsw']\n",
      "Skipping row due to insufficient columns: ['$EGC 4.39%']\n",
      "Skipping row due to insufficient columns: ['$HE 2.07%']\n",
      "Skipping row due to insufficient columns: ['$IRIS 0.45%']\n",
      "Skipping row due to insufficient columns: ['$TRU 0.34%']\n",
      "Skipping row due to insufficient columns: [' #EGC #HE #IRIS #TRU #crypto #cryptonews #cryptoAlerts #blockchain  #cryptotrading #cryptoprices #altcoins #bitcoin', \"['cryptocurrency', 'price', 'MEXC', 'EGC', 'HE', 'IRIS', 'TRU', 'crypto', 'cryptonews', 'cryptoAlerts', 'blockchain', 'cryptotrading', 'cryptoprices', 'altcoins', 'bitcoin']\", 'Crypto Frog', 'False']\n",
      "Skipping row due to insufficient columns: ['👉https://t.co/XsdBPI7qf6']\n",
      "Skipping row due to insufficient columns: ['$ANW 4.2%']\n",
      "Skipping row due to insufficient columns: ['$CELT 1.68%']\n",
      "Skipping row due to insufficient columns: ['$RADAR 1.03%']\n",
      "Skipping row due to insufficient columns: ['$SRM 1.02%']\n",
      "Skipping row due to insufficient columns: ['$CMT 0.87%']\n",
      "Skipping row due to insufficient columns: [' #ANW #CELT #RADAR #SRM #CMT #crypto #cryptonews #cryptoAlerts #blockchain  #cryptotrading #cryptoprices #altcoins #bitcoin', \"['cryptocurrency', 'price', 'OKX', 'ANW', 'CELT', 'RADAR', 'SRM', 'CMT', 'crypto', 'cryptonews', 'cryptoAlerts', 'blockchain', 'cryptotrading', 'cryptoprices', 'altcoins', 'bitcoin']\", 'Crypto Frog', 'False']\n",
      "Skipping row due to insufficient columns: ['👉https://t.co/XsdBPI7qf6']\n",
      "Skipping row due to insufficient columns: ['$ANW 3.51%']\n",
      "Skipping row due to insufficient columns: ['$TRUE 0.98%']\n",
      "Skipping row due to insufficient columns: ['$PNK 0.69%']\n",
      "Skipping row due to insufficient columns: ['$CMT 0.44%']\n",
      "Skipping row due to insufficient columns: ['$VELO 0.39%']\n",
      "Skipping row due to insufficient columns: [' #ANW #TRUE #PNK #CMT #VELO #crypto #cryptonews #cryptoAlerts #blockchain  #cryptotrading #cryptoprices #altcoins #bitcoin', \"['cryptocurrency', 'price', 'OKX', 'ANW', 'TRUE', 'PNK', 'CMT', 'VELO', 'crypto', 'cryptonews', 'cryptoAlerts', 'blockchain', 'cryptotrading', 'cryptoprices', 'altcoins', 'bitcoin']\", 'Crypto Frog', 'False']\n",
      "Skipping row due to insufficient columns: ['👉https://t.co/XsdBPI7qf6']\n",
      "Skipping row due to insufficient columns: ['$CHAT 4.15%']\n",
      "Skipping row due to insufficient columns: ['$RADAR 1.31%']\n",
      "Skipping row due to insufficient columns: ['$QOM 0.97%']\n",
      "Skipping row due to insufficient columns: ['$HDAO 0.97%']\n",
      "Skipping row due to insufficient columns: ['$ANW 0.84%']\n",
      "Skipping row due to insufficient columns: [' #CHAT #RADAR #QOM #HDAO #ANW #crypto #cryptonews #cryptoAlerts #blockchain  #cryptotrading #cryptoprices #altcoins #bitcoin', \"['cryptocurrency', 'price', 'OKX', 'CHAT', 'RADAR', 'QOM', 'HDAO', 'ANW', 'crypto', 'cryptonews', 'cryptoAlerts', 'blockchain', 'cryptotrading', 'cryptoprices', 'altcoins', 'bitcoin']\", 'Crypto Frog', 'False']\n",
      "Skipping row due to insufficient columns: ['👉https://t.co/XsdBPI7qf6']\n",
      "Skipping row due to insufficient columns: ['$DNA 3.13%']\n",
      "Skipping row due to insufficient columns: ['$CHAT 1.37%']\n",
      "Skipping row due to insufficient columns: ['$ANW 0.85%']\n",
      "Skipping row due to insufficient columns: ['$CHE 0.61%']\n",
      "Skipping row due to insufficient columns: ['$BRWL 0.58%']\n",
      "Skipping row due to insufficient columns: [' #DNA #CHAT #ANW #CHE #BRWL #crypto #cryptonews #cryptoAlerts #blockchain  #cryptotrading #cryptoprices #altcoins #bitcoin', \"['cryptocurrency', 'price', 'OKX', 'DNA', 'CHAT', 'ANW', 'CHE', 'BRWL', 'crypto', 'cryptonews', 'cryptoAlerts', 'blockchain', 'cryptotrading', 'cryptoprices', 'altcoins', 'bitcoin']\", 'Crypto Frog', 'False']\n"
     ]
    },
    {
     "name": "stderr",
     "output_type": "stream",
     "text": [
      "Preprocessing tweets: 104645it [00:35, 3048.53it/s]"
     ]
    },
    {
     "name": "stdout",
     "output_type": "stream",
     "text": [
      "Skipping row due to insufficient columns: ['👉https://t.co/dwh8jR9uho']\n",
      "Skipping row due to insufficient columns: ['$DMS 4.17%']\n",
      "Skipping row due to insufficient columns: ['$HMT 0.97%']\n",
      "Skipping row due to insufficient columns: ['$XDB 0.82%']\n",
      "Skipping row due to insufficient columns: ['$XYO 0.71%']\n",
      "Skipping row due to insufficient columns: ['$MKR 0.56%']\n",
      "Skipping row due to insufficient columns: [' #DMS #HMT #XDB #XYO #MKR #crypto #cryptonews #cryptoAlerts #blockchain  #cryptotrading #cryptoprices #altcoins #bitcoin', \"['cryptocurrency', 'price', 'GateIo', 'DMS', 'HMT', 'XDB', 'XYO', 'MKR', 'crypto', 'cryptonews', 'cryptoAlerts', 'blockchain', 'cryptotrading', 'cryptoprices', 'altcoins', 'bitcoin']\", 'Crypto Frog', 'False']\n",
      "Skipping row due to insufficient columns: ['👉https://t.co/AdJlZWUXsw']\n",
      "Skipping row due to insufficient columns: ['$YODE 4.07%']\n",
      "Skipping row due to insufficient columns: ['$BTS 0.72%']\n",
      "Skipping row due to insufficient columns: ['$ARG 0.48%']\n",
      "Skipping row due to insufficient columns: ['$CVR 0.47%']\n",
      "Skipping row due to insufficient columns: [' #YODE #BTS #ARG #CVR #crypto #cryptonews #cryptoAlerts #blockchain  #cryptotrading #cryptoprices #altcoins #bitcoin', \"['cryptocurrency', 'price', 'MEXC', 'YODE', 'BTS', 'ARG', 'CVR', 'crypto', 'cryptonews', 'cryptoAlerts', 'blockchain', 'cryptotrading', 'cryptoprices', 'altcoins', 'bitcoin']\", 'Crypto Frog', 'False']\n",
      "Skipping row due to insufficient columns: ['Coin: $WKT']\n",
      "Skipping row due to insufficient columns: ['Pairs:']\n",
      "Skipping row due to insufficient columns: ['#WKT/#BUSD']\n",
      "Skipping row due to insufficient columns: ['#newcoinlisting #crypto #cryptonews #cryptoAlerts #altcoins #bitcoin #blockchain #cryptocurrency #cryptotrading', \"['Bilaxy', 'WKT', 'BUSD', 'newcoinlisting', 'crypto', 'cryptonews', 'cryptoAlerts', 'altcoins', 'bitcoin', 'blockchain', 'cryptocurrency', 'cryptotrading']\", 'CoinListingBot', 'False']\n",
      "Skipping row due to insufficient columns: ['👉https://t.co/dwh8jR9uho']\n",
      "Skipping row due to insufficient columns: ['$AXL 4.31%']\n",
      "Skipping row due to insufficient columns: ['$SGB 1.29%']\n",
      "Skipping row due to insufficient columns: ['$CHO 0.7%']\n",
      "Skipping row due to insufficient columns: ['$BTS 0.69%']\n",
      "Skipping row due to insufficient columns: ['$RSS3 0.62%']\n",
      "Skipping row due to insufficient columns: [' #AXL #SGB #CHO #BTS #RSS3 #crypto #cryptonews #cryptoAlerts #blockchain  #cryptotrading #cryptoprices #altcoins #bitcoin', \"['cryptocurrency', 'price', 'GateIo', 'AXL', 'SGB', 'CHO', 'BTS', 'RSS3', 'crypto', 'cryptonews', 'cryptoAlerts', 'blockchain', 'cryptotrading', 'cryptoprices', 'altcoins', 'bitcoin']\", 'Crypto Frog', 'False']\n",
      "Skipping row due to insufficient columns: ['jaden_sergio_', 'Mayotte']\n"
     ]
    },
    {
     "name": "stderr",
     "output_type": "stream",
     "text": [
      "Preprocessing tweets: 105828it [00:35, 2850.26it/s]"
     ]
    },
    {
     "name": "stdout",
     "output_type": "stream",
     "text": [
      "Skipping row due to insufficient columns: []\n",
      "Skipping row due to insufficient columns: ['Via https://t.co/p6iec02QvX']\n",
      "Skipping row due to insufficient columns: []\n",
      "Skipping row due to insufficient columns: ['#btc    #4chan  #crypto https://t.co/HpivneaICj', \"['btc', '4chan', 'crypto']\", 'topstonks', 'False']\n",
      "Skipping row due to insufficient columns: ['👉https://t.co/XsdBPI7qf6']\n",
      "Skipping row due to insufficient columns: ['$VALUE 3.55%']\n",
      "Skipping row due to insufficient columns: ['$GFT 1.81%']\n",
      "Skipping row due to insufficient columns: ['$SD 0.41%']\n",
      "Skipping row due to insufficient columns: ['$MINA 0.37%']\n",
      "Skipping row due to insufficient columns: ['$AR 0.34%']\n",
      "Skipping row due to insufficient columns: [' #VALUE #GFT #SD #MINA #AR #crypto #cryptonews #cryptoAlerts #blockchain  #cryptotrading #cryptoprices #altcoins #bitcoin', \"['cryptocurrency', 'price', 'OKX', 'VALUE', 'GFT', 'SD', 'MINA', 'AR', 'crypto', 'cryptonews', 'cryptoAlerts', 'blockchain', 'cryptotrading', 'cryptoprices', 'altcoins', 'bitcoin']\", 'Crypto Frog', 'False']\n"
     ]
    },
    {
     "name": "stderr",
     "output_type": "stream",
     "text": [
      "Preprocessing tweets: 106763it [00:36, 3040.70it/s]"
     ]
    },
    {
     "name": "stdout",
     "output_type": "stream",
     "text": [
      "Skipping row due to insufficient columns: ['👉https://t.co/XsdBPI7qf6']\n",
      "Skipping row due to insufficient columns: ['$LDN 9.52%']\n",
      "Skipping row due to insufficient columns: ['$ANW 1.17%']\n",
      "Skipping row due to insufficient columns: ['$IGU 0.6%']\n",
      "Skipping row due to insufficient columns: ['$THG 0.41%']\n",
      "Skipping row due to insufficient columns: ['$SNT 0.41%']\n",
      "Skipping row due to insufficient columns: [' #LDN #ANW #IGU #THG #SNT #crypto #cryptonews #cryptoAlerts #blockchain  #cryptotrading #cryptoprices #altcoins #bitcoin', \"['cryptocurrency', 'price', 'OKX', 'LDN', 'ANW', 'IGU', 'THG', 'SNT', 'crypto', 'cryptonews', 'cryptoAlerts', 'blockchain', 'cryptotrading', 'cryptoprices', 'altcoins', 'bitcoin']\", 'Crypto Frog', 'False']\n",
      "Skipping row due to insufficient columns: ['👉https://t.co/XsdBPI7qf6']\n",
      "Skipping row due to insufficient columns: ['$LDN 3.07%']\n",
      "Skipping row due to insufficient columns: ['$ORS 1.75%']\n",
      "Skipping row due to insufficient columns: ['$LEASH 0.56%']\n",
      "Skipping row due to insufficient columns: ['$RSS3 0.42%']\n",
      "Skipping row due to insufficient columns: [' #LDN #ORS #LEASH #RSS3 #crypto #cryptonews #cryptoAlerts #blockchain  #cryptotrading #cryptoprices #altcoins #bitcoin', \"['cryptocurrency', 'price', 'OKX', 'LDN', 'ORS', 'LEASH', 'RSS3', 'crypto', 'cryptonews', 'cryptoAlerts', 'blockchain', 'cryptotrading', 'cryptoprices', 'altcoins', 'bitcoin']\", 'Crypto Frog', 'False']\n",
      "Skipping row due to insufficient columns: ['👉https://t.co/dwh8jR9uho']\n",
      "Skipping row due to insufficient columns: ['$DMS 5.29%']\n",
      "Skipping row due to insufficient columns: ['$VOXEL 1.21%']\n",
      "Skipping row due to insufficient columns: ['$MOB 0.73%']\n",
      "Skipping row due to insufficient columns: ['$ALI 0.64%']\n",
      "Skipping row due to insufficient columns: ['$JOY 0.39%']\n",
      "Skipping row due to insufficient columns: [' #DMS #VOXEL #MOB #ALI #JOY #crypto #cryptonews #cryptoAlerts #blockchain  #cryptotrading #cryptoprices #altcoins #bitcoin', \"['cryptocurrency', 'price', 'GateIo', 'DMS', 'VOXEL', 'MOB', 'ALI', 'JOY', 'crypto', 'cryptonews', 'cryptoAlerts', 'blockchain', 'cryptotrading', 'cryptoprices', 'altcoins', 'bitcoin']\", 'Crypto Frog', 'False']\n",
      "Skipping row due to insufficient columns: ['👉https://t.co/XsdBPI7qf6']\n",
      "Skipping row due to insufficient columns: ['$LDN 4.92%']\n",
      "Skipping row due to insufficient columns: ['$CONV 2.38%']\n",
      "Skipping row due to insufficient columns: ['$VELO 1.07%']\n",
      "Skipping row due to insufficient columns: ['$ANC 0.43%']\n",
      "Skipping row due to insufficient columns: ['$APE 0.43%']\n",
      "Skipping row due to insufficient columns: [' #LDN #CONV #VELO #ANC #APE #crypto #cryptonews #cryptoAlerts #blockchain  #cryptotrading #cryptoprices #altcoins #bitcoin', \"['cryptocurrency', 'price', 'OKX', 'LDN', 'CONV', 'VELO', 'ANC', 'APE', 'crypto', 'cryptonews', 'cryptoAlerts', 'blockchain', 'cryptotrading', 'cryptoprices', 'altcoins', 'bitcoin']\", 'Crypto Frog', 'False']\n",
      "Skipping row due to insufficient columns: ['Jason😇', 'United States']\n",
      "Skipping row due to insufficient columns: ['𝔇𝔞𝔳𝔦𝔡', 'Togo']\n",
      "Skipping row due to insufficient columns: ['👉https://t.co/XsdBPI7qf6']\n",
      "Skipping row due to insufficient columns: ['$LDN 5.26%']\n",
      "Skipping row due to insufficient columns: ['$MXC 0.81%']\n",
      "Skipping row due to insufficient columns: ['$MOF 0.74%']\n",
      "Skipping row due to insufficient columns: ['$SSV 0.4%']\n",
      "Skipping row due to insufficient columns: ['$SLP 0.34%']\n",
      "Skipping row due to insufficient columns: [' #LDN #MXC #MOF #SSV #SLP #crypto #cryptonews #cryptoAlerts #blockchain  #cryptotrading #cryptoprices #altcoins #bitcoin', \"['cryptocurrency', 'price', 'OKX', 'LDN', 'MXC', 'MOF', 'SSV', 'SLP', 'crypto', 'cryptonews', 'cryptoAlerts', 'blockchain', 'cryptotrading', 'cryptoprices', 'altcoins', 'bitcoin']\", 'Crypto Frog', 'False']\n"
     ]
    },
    {
     "name": "stderr",
     "output_type": "stream",
     "text": [
      "Preprocessing tweets: 107369it [00:36, 2958.25it/s]"
     ]
    },
    {
     "name": "stdout",
     "output_type": "stream",
     "text": [
      "Skipping row due to insufficient columns: ['rominasaman', 'Lesotho']\n",
      "Skipping row due to insufficient columns: ['daisy_torres777', 'Hungary']\n",
      "Skipping row due to insufficient columns: ['👉https://t.co/dwh8jR9uho']\n",
      "Skipping row due to insufficient columns: ['$GOAL 3.32%']\n",
      "Skipping row due to insufficient columns: ['$VRX 1.41%']\n",
      "Skipping row due to insufficient columns: ['$STOS 1.36%']\n",
      "Skipping row due to insufficient columns: ['$DMS 1.35%']\n",
      "Skipping row due to insufficient columns: ['$BONK 0.89%']\n",
      "Skipping row due to insufficient columns: [' #GOAL #VRX #STOS #DMS #BONK #crypto #cryptonews #cryptoAlerts #blockchain  #cryptotrading #cryptoprices #altcoins #bitcoin', \"['cryptocurrency', 'price', 'GateIo', 'GOAL', 'VRX', 'STOS', 'DMS', 'BONK', 'crypto', 'cryptonews', 'cryptoAlerts', 'blockchain', 'cryptotrading', 'cryptoprices', 'altcoins', 'bitcoin']\", 'Crypto Frog', 'False']\n"
     ]
    },
    {
     "name": "stderr",
     "output_type": "stream",
     "text": [
      "Preprocessing tweets: 108565it [00:36, 2920.92it/s]"
     ]
    },
    {
     "name": "stdout",
     "output_type": "stream",
     "text": [
      "Skipping row due to insufficient columns: ['diki81', 'Armenia']\n",
      "Skipping row due to insufficient columns: ['👉https://t.co/dwh8jR9uho']\n",
      "Skipping row due to insufficient columns: ['$SLK 3.71%']\n",
      "Skipping row due to insufficient columns: ['$IRIS 0.73%']\n",
      "Skipping row due to insufficient columns: ['$LQTY 0.61%']\n",
      "Skipping row due to insufficient columns: ['$WOM 0.52%']\n",
      "Skipping row due to insufficient columns: ['$SRM 0.52%']\n",
      "Skipping row due to insufficient columns: [' #SLK #IRIS #LQTY #WOM #SRM #crypto #cryptonews #cryptoAlerts #blockchain  #cryptotrading #cryptoprices #altcoins #bitcoin', \"['cryptocurrency', 'price', 'GateIo', 'SLK', 'IRIS', 'LQTY', 'WOM', 'SRM', 'crypto', 'cryptonews', 'cryptoAlerts', 'blockchain', 'cryptotrading', 'cryptoprices', 'altcoins', 'bitcoin']\", 'Crypto Frog', 'False']\n"
     ]
    },
    {
     "name": "stderr",
     "output_type": "stream",
     "text": [
      "Preprocessing tweets: 109840it [00:37, 3147.16it/s]"
     ]
    },
    {
     "name": "stdout",
     "output_type": "stream",
     "text": [
      "Skipping row due to insufficient columns: ['👉https://t.co/XsdBPI7qf6']\n",
      "Skipping row due to insufficient columns: ['$FAME 3.29%']\n",
      "Skipping row due to insufficient columns: ['$SAMO 0.71%']\n",
      "Skipping row due to insufficient columns: ['$CNTM 0.39%']\n",
      "Skipping row due to insufficient columns: ['$GFT 0.36%']\n",
      "Skipping row due to insufficient columns: ['$FTM 0.31%']\n",
      "Skipping row due to insufficient columns: [' #FAME #SAMO #CNTM #GFT #FTM #crypto #cryptonews #cryptoAlerts #blockchain  #cryptotrading #cryptoprices #altcoins #bitcoin', \"['cryptocurrency', 'price', 'OKX', 'FAME', 'SAMO', 'CNTM', 'GFT', 'FTM', 'crypto', 'cryptonews', 'cryptoAlerts', 'blockchain', 'cryptotrading', 'cryptoprices', 'altcoins', 'bitcoin']\", 'Crypto Frog', 'False']\n",
      "Skipping row due to insufficient columns: ['👉https://t.co/AdJlZWUXsw']\n",
      "Skipping row due to insufficient columns: ['$IMGNAI 3.19%']\n",
      "Skipping row due to insufficient columns: ['$BABYDOGE 0.54%']\n",
      "Skipping row due to insufficient columns: ['$CTXC 0.37%']\n",
      "Skipping row due to insufficient columns: [' #IMGNAI #BABYDOGE #CTXC #crypto #cryptonews #cryptoAlerts #blockchain  #cryptotrading #cryptoprices #altcoins #bitcoin', \"['cryptocurrency', 'price', 'MEXC', 'IMGNAI', 'BABYDOGE', 'CTXC', 'crypto', 'cryptonews', 'cryptoAlerts', 'blockchain', 'cryptotrading', 'cryptoprices', 'altcoins', 'bitcoin']\", 'Crypto Frog', 'False']\n",
      "Skipping row due to insufficient columns: ['👉https://t.co/dwh8jR9uho']\n",
      "Skipping row due to insufficient columns: ['$PAW 5.89%']\n",
      "Skipping row due to insufficient columns: ['$ZCX 1.44%']\n",
      "Skipping row due to insufficient columns: ['$UNQ 0.82%']\n",
      "Skipping row due to insufficient columns: ['$NYZO 0.43%']\n",
      "Skipping row due to insufficient columns: ['$DFND 0.41%']\n",
      "Skipping row due to insufficient columns: [' #PAW #ZCX #UNQ #NYZO #DFND #crypto #cryptonews #cryptoAlerts #blockchain  #cryptotrading #cryptoprices #altcoins #bitcoin', \"['cryptocurrency', 'price', 'GateIo', 'PAW', 'ZCX', 'UNQ', 'NYZO', 'DFND', 'crypto', 'cryptonews', 'cryptoAlerts', 'blockchain', 'cryptotrading', 'cryptoprices', 'altcoins', 'bitcoin']\", 'Crypto Frog', 'False']\n",
      "Skipping row due to insufficient columns: ['charlesadf', 'India']\n",
      "Skipping row due to insufficient columns: ['👉https://t.co/dwh8jR9uho']\n",
      "Skipping row due to insufficient columns: ['$EZ 8.47%']\n",
      "Skipping row due to insufficient columns: ['$TPT 1.02%']\n",
      "Skipping row due to insufficient columns: ['$PLCU 0.72%']\n",
      "Skipping row due to insufficient columns: ['$LUFFY 0.66%']\n",
      "Skipping row due to insufficient columns: ['$D2T 0.53%']\n",
      "Skipping row due to insufficient columns: [' #EZ #TPT #PLCU #LUFFY #D2T #crypto #cryptonews #cryptoAlerts #blockchain  #cryptotrading #cryptoprices #altcoins #bitcoin', \"['cryptocurrency', 'price', 'GateIo', 'EZ', 'TPT', 'PLCU', 'LUFFY', 'D2T', 'crypto', 'cryptonews', 'cryptoAlerts', 'blockchain', 'cryptotrading', 'cryptoprices', 'altcoins', 'bitcoin']\", 'Crypto Frog', 'False']\n"
     ]
    },
    {
     "name": "stderr",
     "output_type": "stream",
     "text": [
      "Preprocessing tweets: 110469it [00:37, 3010.02it/s]"
     ]
    },
    {
     "name": "stdout",
     "output_type": "stream",
     "text": [
      "Skipping row due to insufficient columns: ['👉https://t.co/dwh8jR9uho']\n",
      "Skipping row due to insufficient columns: ['$OPS 7.71%']\n",
      "Skipping row due to insufficient columns: ['$SIS 0.66%']\n",
      "Skipping row due to insufficient columns: ['$DAG 0.64%']\n",
      "Skipping row due to insufficient columns: ['$ATLAS 0.45%']\n",
      "Skipping row due to insufficient columns: ['$SOLO 0.44%']\n",
      "Skipping row due to insufficient columns: [' #OPS #SIS #DAG #ATLAS #SOLO #crypto #cryptonews #cryptoAlerts #blockchain  #cryptotrading #cryptoprices #altcoins #bitcoin', \"['cryptocurrency', 'price', 'GateIo', 'OPS', 'SIS', 'DAG', 'ATLAS', 'SOLO', 'crypto', 'cryptonews', 'cryptoAlerts', 'blockchain', 'cryptotrading', 'cryptoprices', 'altcoins', 'bitcoin']\", 'Crypto Frog', 'False']\n",
      "Skipping row due to insufficient columns: ['👉https://t.co/dwh8jR9uho']\n",
      "Skipping row due to insufficient columns: ['$PAW 3.13%']\n",
      "Skipping row due to insufficient columns: ['$BONE 1.08%']\n",
      "Skipping row due to insufficient columns: ['$HELLO 0.94%']\n",
      "Skipping row due to insufficient columns: ['$HAM 0.57%']\n",
      "Skipping row due to insufficient columns: ['$BOA 0.35%']\n",
      "Skipping row due to insufficient columns: [' #PAW #BONE #HELLO #HAM #BOA #crypto #cryptonews #cryptoAlerts #blockchain  #cryptotrading #cryptoprices #altcoins #bitcoin', \"['cryptocurrency', 'price', 'GateIo', 'PAW', 'BONE', 'HELLO', 'HAM', 'BOA', 'crypto', 'cryptonews', 'cryptoAlerts', 'blockchain', 'cryptotrading', 'cryptoprices', 'altcoins', 'bitcoin']\", 'Crypto Frog', 'False']\n",
      "Skipping row due to insufficient columns: ['👉https://t.co/dwh8jR9uho']\n",
      "Skipping row due to insufficient columns: ['$NBP 9.15%']\n",
      "Skipping row due to insufficient columns: ['$XOR 1.84%']\n",
      "Skipping row due to insufficient columns: ['$GOAL 0.75%']\n",
      "Skipping row due to insufficient columns: ['$DERC 0.57%']\n",
      "Skipping row due to insufficient columns: ['$IGU 0.42%']\n",
      "Skipping row due to insufficient columns: [' #NBP #XOR #GOAL #DERC #IGU #crypto #cryptonews #cryptoAlerts #blockchain  #cryptotrading #cryptoprices #altcoins #bitcoin', \"['cryptocurrency', 'price', 'GateIo', 'NBP', 'XOR', 'GOAL', 'DERC', 'IGU', 'crypto', 'cryptonews', 'cryptoAlerts', 'blockchain', 'cryptotrading', 'cryptoprices', 'altcoins', 'bitcoin']\", 'Crypto Frog', 'False']\n"
     ]
    },
    {
     "name": "stderr",
     "output_type": "stream",
     "text": [
      "Preprocessing tweets: 111090it [00:37, 3025.37it/s]"
     ]
    },
    {
     "name": "stdout",
     "output_type": "stream",
     "text": [
      "Skipping row due to insufficient columns: ['mmd_rex', 'Belgium']\n",
      "Skipping row due to insufficient columns: ['👉https://t.co/dwh8jR9uho']\n",
      "Skipping row due to insufficient columns: ['$CSTR 4.52%']\n",
      "Skipping row due to insufficient columns: ['$AM 2.1%']\n",
      "Skipping row due to insufficient columns: ['$XDB 1.37%']\n",
      "Skipping row due to insufficient columns: ['$BONK 1.09%']\n",
      "Skipping row due to insufficient columns: ['$ORO 0.37%']\n",
      "Skipping row due to insufficient columns: [' #CSTR #AM #XDB #BONK #ORO #crypto #cryptonews #cryptoAlerts #blockchain  #cryptotrading #cryptoprices #altcoins #bitcoin', \"['cryptocurrency', 'price', 'GateIo', 'CSTR', 'AM', 'XDB', 'BONK', 'ORO', 'crypto', 'cryptonews', 'cryptoAlerts', 'blockchain', 'cryptotrading', 'cryptoprices', 'altcoins', 'bitcoin']\", 'Crypto Frog', 'False']\n",
      "Skipping row due to insufficient columns: ['👉https://t.co/dwh8jR9uho']\n",
      "Skipping row due to insufficient columns: ['$SKYRIM 3.2%']\n",
      "Skipping row due to insufficient columns: ['$DAO 1.09%']\n",
      "Skipping row due to insufficient columns: ['$TWT 0.47%']\n",
      "Skipping row due to insufficient columns: ['$BDP 0.44%']\n",
      "Skipping row due to insufficient columns: ['$CFX 0.44%']\n",
      "Skipping row due to insufficient columns: [' #SKYRIM #DAO #TWT #BDP #CFX #crypto #cryptonews #cryptoAlerts #blockchain  #cryptotrading #cryptoprices #altcoins #bitcoin', \"['cryptocurrency', 'price', 'GateIo', 'SKYRIM', 'DAO', 'TWT', 'BDP', 'CFX', 'crypto', 'cryptonews', 'cryptoAlerts', 'blockchain', 'cryptotrading', 'cryptoprices', 'altcoins', 'bitcoin']\", 'Crypto Frog', 'False']\n",
      "Skipping row due to insufficient columns: ['👉https://t.co/YFfSerrmK2']\n",
      "Skipping row due to insufficient columns: ['$EGAME 3.08%']\n",
      "Skipping row due to insufficient columns: ['$VELO 0.9%']\n",
      "Skipping row due to insufficient columns: ['$USTC 0.41%']\n",
      "Skipping row due to insufficient columns: [' #EGAME #VELO #USTC #crypto #cryptonews #cryptoAlerts #blockchain  #cryptotrading #cryptoprices #altcoins #bitcoin', \"['cryptocurrency', 'price', 'Huobi', 'EGAME', 'VELO', 'USTC', 'crypto', 'cryptonews', 'cryptoAlerts', 'blockchain', 'cryptotrading', 'cryptoprices', 'altcoins', 'bitcoin']\", 'Crypto Frog', 'False']\n",
      "Skipping row due to insufficient columns: ['👉https://t.co/dwh8jR9uho']\n",
      "Skipping row due to insufficient columns: ['$EZ 5.26%']\n",
      "Skipping row due to insufficient columns: ['$SIDUS 0.68%']\n",
      "Skipping row due to insufficient columns: ['$HAI 0.57%']\n",
      "Skipping row due to insufficient columns: ['$CHO 0.52%']\n",
      "Skipping row due to insufficient columns: ['$ZBC 0.46%']\n",
      "Skipping row due to insufficient columns: [' #EZ #SIDUS #HAI #CHO #ZBC #crypto #cryptonews #cryptoAlerts #blockchain  #cryptotrading #cryptoprices #altcoins #bitcoin', \"['cryptocurrency', 'price', 'GateIo', 'EZ', 'SIDUS', 'HAI', 'CHO', 'ZBC', 'crypto', 'cryptonews', 'cryptoAlerts', 'blockchain', 'cryptotrading', 'cryptoprices', 'altcoins', 'bitcoin']\", 'Crypto Frog', 'False']\n",
      "Skipping row due to insufficient columns: ['👉https://t.co/dwh8jR9uho']\n",
      "Skipping row due to insufficient columns: ['$RATIO 4.12%']\n",
      "Skipping row due to insufficient columns: ['$DAR 1.02%']\n",
      "Skipping row due to insufficient columns: ['$EZ 1%']\n",
      "Skipping row due to insufficient columns: ['$TIP 0.4%']\n",
      "Skipping row due to insufficient columns: ['$PROS 0.38%']\n",
      "Skipping row due to insufficient columns: [' #RATIO #DAR #EZ #TIP #PROS #crypto #cryptonews #cryptoAlerts #blockchain  #cryptotrading #cryptoprices #altcoins #bitcoin', \"['cryptocurrency', 'price', 'GateIo', 'RATIO', 'DAR', 'EZ', 'TIP', 'PROS', 'crypto', 'cryptonews', 'cryptoAlerts', 'blockchain', 'cryptotrading', 'cryptoprices', 'altcoins', 'bitcoin']\", 'Crypto Frog', 'False']\n",
      "Skipping row due to insufficient columns: ['👉https://t.co/XsdBPI7qf6']\n",
      "Skipping row due to insufficient columns: ['$MRST 3.93%']\n",
      "Skipping row due to insufficient columns: ['$GOG 0.75%']\n",
      "Skipping row due to insufficient columns: ['$VELO 0.65%']\n",
      "Skipping row due to insufficient columns: ['$KISHU 0.54%']\n",
      "Skipping row due to insufficient columns: ['$LDN 0.48%']\n",
      "Skipping row due to insufficient columns: [' #MRST #GOG #VELO #KISHU #LDN #crypto #cryptonews #cryptoAlerts #blockchain  #cryptotrading #cryptoprices #altcoins #bitcoin', \"['cryptocurrency', 'price', 'OKX', 'MRST', 'GOG', 'VELO', 'KISHU', 'LDN', 'crypto', 'cryptonews', 'cryptoAlerts', 'blockchain', 'cryptotrading', 'cryptoprices', 'altcoins', 'bitcoin']\", 'Crypto Frog', 'False']\n"
     ]
    },
    {
     "name": "stderr",
     "output_type": "stream",
     "text": [
      "Preprocessing tweets: 111992it [00:38, 2910.02it/s]"
     ]
    },
    {
     "name": "stdout",
     "output_type": "stream",
     "text": [
      "Skipping row due to insufficient columns: ['👉https://t.co/XsdBPI7qf6']\n",
      "Skipping row due to insufficient columns: ['$LDN 3.34%']\n",
      "Skipping row due to insufficient columns: ['$TRADE 1.93%']\n",
      "Skipping row due to insufficient columns: ['$VELO 0.51%']\n",
      "Skipping row due to insufficient columns: ['$VRA 0.33%']\n",
      "Skipping row due to insufficient columns: ['$LOOKS 0.3%']\n",
      "Skipping row due to insufficient columns: [' #LDN #TRADE #VELO #VRA #LOOKS #crypto #cryptonews #cryptoAlerts #blockchain  #cryptotrading #cryptoprices #altcoins #bitcoin', \"['cryptocurrency', 'price', 'OKX', 'LDN', 'TRADE', 'VELO', 'VRA', 'LOOKS', 'crypto', 'cryptonews', 'cryptoAlerts', 'blockchain', 'cryptotrading', 'cryptoprices', 'altcoins', 'bitcoin']\", 'Crypto Frog', 'False']\n",
      "Skipping row due to insufficient columns: ['👉https://t.co/dwh8jR9uho']\n",
      "Skipping row due to insufficient columns: ['$DMS 3.05%']\n",
      "Skipping row due to insufficient columns: ['$AQDC 0.78%']\n",
      "Skipping row due to insufficient columns: ['$LAND 0.44%']\n",
      "Skipping row due to insufficient columns: ['$SD 0.37%']\n",
      "Skipping row due to insufficient columns: ['$PHA 0.35%']\n",
      "Skipping row due to insufficient columns: [' #DMS #AQDC #LAND #SD #PHA #crypto #cryptonews #cryptoAlerts #blockchain  #cryptotrading #cryptoprices #altcoins #bitcoin', \"['cryptocurrency', 'price', 'GateIo', 'DMS', 'AQDC', 'LAND', 'SD', 'PHA', 'crypto', 'cryptonews', 'cryptoAlerts', 'blockchain', 'cryptotrading', 'cryptoprices', 'altcoins', 'bitcoin']\", 'Crypto Frog', 'False']\n"
     ]
    },
    {
     "name": "stderr",
     "output_type": "stream",
     "text": [
      "Preprocessing tweets: 113176it [00:38, 2836.57it/s]"
     ]
    },
    {
     "name": "stdout",
     "output_type": "stream",
     "text": [
      "Skipping row due to insufficient columns: ['👉https://t.co/AdJlZWUXsw']\n",
      "Skipping row due to insufficient columns: ['$BUP 4.88%']\n",
      "Skipping row due to insufficient columns: ['$ICB 0.67%']\n",
      "Skipping row due to insufficient columns: ['$BABYDOGE 0.51%']\n",
      "Skipping row due to insufficient columns: [' #BUP #ICB #BABYDOGE #crypto #cryptonews #cryptoAlerts #blockchain  #cryptotrading #cryptoprices #altcoins #bitcoin', \"['cryptocurrency', 'price', 'MEXC', 'BUP', 'ICB', 'BABYDOGE', 'crypto', 'cryptonews', 'cryptoAlerts', 'blockchain', 'cryptotrading', 'cryptoprices', 'altcoins', 'bitcoin']\", 'Crypto Frog', 'False']\n",
      "Skipping row due to insufficient columns: ['👉https://t.co/XsdBPI7qf6']\n",
      "Skipping row due to insufficient columns: ['$KOL 3.92%']\n",
      "Skipping row due to insufficient columns: ['$MDT 1.45%']\n",
      "Skipping row due to insufficient columns: ['$AKITA 0.47%']\n",
      "Skipping row due to insufficient columns: ['$SWEAT 0.4%']\n",
      "Skipping row due to insufficient columns: ['$MASK 0.36%']\n",
      "Skipping row due to insufficient columns: [' #KOL #MDT #AKITA #SWEAT #MASK #crypto #cryptonews #cryptoAlerts #blockchain  #cryptotrading #cryptoprices #altcoins #bitcoin', \"['cryptocurrency', 'price', 'OKX', 'KOL', 'MDT', 'AKITA', 'SWEAT', 'MASK', 'crypto', 'cryptonews', 'cryptoAlerts', 'blockchain', 'cryptotrading', 'cryptoprices', 'altcoins', 'bitcoin']\", 'Crypto Frog', 'False']\n",
      "Skipping row due to insufficient columns: ['gugaa11', 'Cuba']\n"
     ]
    },
    {
     "name": "stderr",
     "output_type": "stream",
     "text": [
      "Preprocessing tweets: 113784it [00:38, 2947.37it/s]"
     ]
    },
    {
     "name": "stdout",
     "output_type": "stream",
     "text": [
      "Skipping row due to insufficient columns: ['👉https://t.co/dwh8jR9uho']\n",
      "Skipping row due to insufficient columns: ['$ALPHR 3.1%']\n",
      "Skipping row due to insufficient columns: ['$NCT 0.69%']\n",
      "Skipping row due to insufficient columns: ['$NEO 0.58%']\n",
      "Skipping row due to insufficient columns: ['$DREP 0.48%']\n",
      "Skipping row due to insufficient columns: ['$GFT 0.45%']\n",
      "Skipping row due to insufficient columns: [' #ALPHR #NCT #NEO #DREP #GFT #crypto #cryptonews #cryptoAlerts #blockchain  #cryptotrading #cryptoprices #altcoins #bitcoin', \"['cryptocurrency', 'price', 'GateIo', 'ALPHR', 'NCT', 'NEO', 'DREP', 'GFT', 'crypto', 'cryptonews', 'cryptoAlerts', 'blockchain', 'cryptotrading', 'cryptoprices', 'altcoins', 'bitcoin']\", 'Crypto Frog', 'False']\n",
      "Skipping row due to insufficient columns: ['👉https://t.co/YFfSerrmK2']\n",
      "Skipping row due to insufficient columns: ['$HAO 4.08%']\n",
      "Skipping row due to insufficient columns: ['$LN 0.5%']\n",
      "Skipping row due to insufficient columns: ['$DC 0.37%']\n",
      "Skipping row due to insufficient columns: ['$QOM 0.31%']\n",
      "Skipping row due to insufficient columns: [' #HAO #LN #DC #QOM #crypto #cryptonews #cryptoAlerts #blockchain  #cryptotrading #cryptoprices #altcoins #bitcoin', \"['cryptocurrency', 'price', 'Huobi', 'HAO', 'LN', 'DC', 'QOM', 'crypto', 'cryptonews', 'cryptoAlerts', 'blockchain', 'cryptotrading', 'cryptoprices', 'altcoins', 'bitcoin']\", 'Crypto Frog', 'False']\n",
      "Skipping row due to insufficient columns: ['👉https://t.co/dwh8jR9uho']\n",
      "Skipping row due to insufficient columns: ['$FXF 3.24%']\n",
      "Skipping row due to insufficient columns: ['$TIFI 1.96%']\n",
      "Skipping row due to insufficient columns: ['$VLX 1.04%']\n",
      "Skipping row due to insufficient columns: ['$UNQ 0.86%']\n",
      "Skipping row due to insufficient columns: ['$NCT 0.39%']\n",
      "Skipping row due to insufficient columns: [' #FXF #TIFI #VLX #UNQ #NCT #crypto #cryptonews #cryptoAlerts #blockchain  #cryptotrading #cryptoprices #altcoins #bitcoin', \"['cryptocurrency', 'price', 'GateIo', 'FXF', 'TIFI', 'VLX', 'UNQ', 'NCT', 'crypto', 'cryptonews', 'cryptoAlerts', 'blockchain', 'cryptotrading', 'cryptoprices', 'altcoins', 'bitcoin']\", 'Crypto Frog', 'False']\n",
      "Skipping row due to insufficient columns: ['👉https://t.co/AdJlZWUXsw']\n",
      "Skipping row due to insufficient columns: ['$DF 3.08%']\n",
      "Skipping row due to insufficient columns: ['$KPC 1.29%']\n",
      "Skipping row due to insufficient columns: ['$WNK 0.67%']\n",
      "Skipping row due to insufficient columns: ['$RSS3 0.4%']\n",
      "Skipping row due to insufficient columns: [' #DF #KPC #WNK #RSS3 #crypto #cryptonews #cryptoAlerts #blockchain  #cryptotrading #cryptoprices #altcoins #bitcoin', \"['cryptocurrency', 'price', 'MEXC', 'DF', 'KPC', 'WNK', 'RSS3', 'crypto', 'cryptonews', 'cryptoAlerts', 'blockchain', 'cryptotrading', 'cryptoprices', 'altcoins', 'bitcoin']\", 'Crypto Frog', 'False']\n"
     ]
    },
    {
     "name": "stderr",
     "output_type": "stream",
     "text": [
      "Preprocessing tweets: 114704it [00:38, 3021.28it/s]"
     ]
    },
    {
     "name": "stdout",
     "output_type": "stream",
     "text": [
      "Skipping row due to insufficient columns: ['👉https://t.co/dwh8jR9uho']\n",
      "Skipping row due to insufficient columns: ['$ALPHR 3.29%']\n",
      "Skipping row due to insufficient columns: ['$BOBA 1.01%']\n",
      "Skipping row due to insufficient columns: ['$DC 0.89%']\n",
      "Skipping row due to insufficient columns: ['$BABY 0.88%']\n",
      "Skipping row due to insufficient columns: ['$KEY 0.68%']\n",
      "Skipping row due to insufficient columns: [' #ALPHR #BOBA #DC #BABY #KEY #crypto #cryptonews #cryptoAlerts #blockchain  #cryptotrading #cryptoprices #altcoins #bitcoin', \"['cryptocurrency', 'price', 'GateIo', 'ALPHR', 'BOBA', 'DC', 'BABY', 'KEY', 'crypto', 'cryptonews', 'cryptoAlerts', 'blockchain', 'cryptotrading', 'cryptoprices', 'altcoins', 'bitcoin']\", 'Crypto Frog', 'False']\n",
      "Skipping row due to insufficient columns: ['👉https://t.co/dwh8jR9uho']\n",
      "Skipping row due to insufficient columns: ['$DMS 4.27%']\n",
      "Skipping row due to insufficient columns: ['$PBX 0.63%']\n",
      "Skipping row due to insufficient columns: ['$VGX 0.63%']\n",
      "Skipping row due to insufficient columns: ['$VELO 0.49%']\n",
      "Skipping row due to insufficient columns: ['$CMP 0.42%']\n",
      "Skipping row due to insufficient columns: [' #DMS #PBX #VGX #VELO #CMP #crypto #cryptonews #cryptoAlerts #blockchain  #cryptotrading #cryptoprices #altcoins #bitcoin', \"['cryptocurrency', 'price', 'GateIo', 'DMS', 'PBX', 'VGX', 'VELO', 'CMP', 'crypto', 'cryptonews', 'cryptoAlerts', 'blockchain', 'cryptotrading', 'cryptoprices', 'altcoins', 'bitcoin']\", 'Crypto Frog', 'False']\n",
      "Skipping row due to insufficient columns: ['👉https://t.co/dwh8jR9uho']\n",
      "Skipping row due to insufficient columns: ['$RATIO 3.47%']\n",
      "Skipping row due to insufficient columns: ['$SLK 1.98%']\n",
      "Skipping row due to insufficient columns: ['$PBX 1.39%']\n",
      "Skipping row due to insufficient columns: ['$FNF 1.12%']\n",
      "Skipping row due to insufficient columns: ['$OXT 0.84%']\n",
      "Skipping row due to insufficient columns: [' #RATIO #SLK #PBX #FNF #OXT #crypto #cryptonews #cryptoAlerts #blockchain  #cryptotrading #cryptoprices #altcoins #bitcoin', \"['cryptocurrency', 'price', 'GateIo', 'RATIO', 'SLK', 'PBX', 'FNF', 'OXT', 'crypto', 'cryptonews', 'cryptoAlerts', 'blockchain', 'cryptotrading', 'cryptoprices', 'altcoins', 'bitcoin']\", 'Crypto Frog', 'False']\n",
      "Skipping row due to insufficient columns: ['kusuma_gr', 'Kuwait']\n",
      "Skipping row due to insufficient columns: ['xsandro3d', 'Burkina Faso']\n",
      "Skipping row due to insufficient columns: ['👉https://t.co/dwh8jR9uho']\n",
      "Skipping row due to insufficient columns: ['$WEAR 3.21%']\n",
      "Skipping row due to insufficient columns: ['$ELEC 2.35%']\n",
      "Skipping row due to insufficient columns: ['$SWAP 1.33%']\n",
      "Skipping row due to insufficient columns: ['$SOLO 0.91%']\n",
      "Skipping row due to insufficient columns: ['$LN 0.52%']\n",
      "Skipping row due to insufficient columns: [' #WEAR #ELEC #SWAP #SOLO #LN #crypto #cryptonews #cryptoAlerts #blockchain  #cryptotrading #cryptoprices #altcoins #bitcoin', \"['cryptocurrency', 'price', 'GateIo', 'WEAR', 'ELEC', 'SWAP', 'SOLO', 'LN', 'crypto', 'cryptonews', 'cryptoAlerts', 'blockchain', 'cryptotrading', 'cryptoprices', 'altcoins', 'bitcoin']\", 'Crypto Frog', 'False']\n"
     ]
    },
    {
     "name": "stderr",
     "output_type": "stream",
     "text": [
      "Preprocessing tweets: 115311it [00:39, 3000.57it/s]"
     ]
    },
    {
     "name": "stdout",
     "output_type": "stream",
     "text": [
      "Skipping row due to insufficient columns: ['👉https://t.co/dwh8jR9uho']\n",
      "Skipping row due to insufficient columns: ['$WEAR 3.8%']\n",
      "Skipping row due to insufficient columns: ['$SWAP 1.35%']\n",
      "Skipping row due to insufficient columns: ['$SLK 0.96%']\n",
      "Skipping row due to insufficient columns: ['$ZBC 0.66%']\n",
      "Skipping row due to insufficient columns: ['$ESS 0.6%']\n",
      "Skipping row due to insufficient columns: [' #WEAR #SWAP #SLK #ZBC #ESS #crypto #cryptonews #cryptoAlerts #blockchain  #cryptotrading #cryptoprices #altcoins #bitcoin', \"['cryptocurrency', 'price', 'GateIo', 'WEAR', 'SWAP', 'SLK', 'ZBC', 'ESS', 'crypto', 'cryptonews', 'cryptoAlerts', 'blockchain', 'cryptotrading', 'cryptoprices', 'altcoins', 'bitcoin']\", 'Crypto Frog', 'False']\n",
      "Skipping row due to insufficient columns: ['👉https://t.co/dwh8jR9uho']\n",
      "Skipping row due to insufficient columns: ['$HDV 4.8%']\n",
      "Skipping row due to insufficient columns: ['$PIT 0.65%']\n",
      "Skipping row due to insufficient columns: ['$PORTO 0.63%']\n",
      "Skipping row due to insufficient columns: ['$LN 0.6%']\n",
      "Skipping row due to insufficient columns: ['$CHNG 0.58%']\n",
      "Skipping row due to insufficient columns: [' #HDV #PIT #PORTO #LN #CHNG #crypto #cryptonews #cryptoAlerts #blockchain  #cryptotrading #cryptoprices #altcoins #bitcoin', \"['cryptocurrency', 'price', 'GateIo', 'HDV', 'PIT', 'PORTO', 'LN', 'CHNG', 'crypto', 'cryptonews', 'cryptoAlerts', 'blockchain', 'cryptotrading', 'cryptoprices', 'altcoins', 'bitcoin']\", 'Crypto Frog', 'False']\n",
      "Skipping row due to insufficient columns: ['👉https://t.co/dwh8jR9uho']\n",
      "Skipping row due to insufficient columns: ['$TVK 3.17%']\n",
      "Skipping row due to insufficient columns: ['$DC 0.48%']\n",
      "Skipping row due to insufficient columns: ['$RAY 0.43%']\n",
      "Skipping row due to insufficient columns: ['$CATE 0.42%']\n",
      "Skipping row due to insufficient columns: ['$PRIME 0.39%']\n",
      "Skipping row due to insufficient columns: [' #TVK #DC #RAY #CATE #PRIME #crypto #cryptonews #cryptoAlerts #blockchain  #cryptotrading #cryptoprices #altcoins #bitcoin', \"['cryptocurrency', 'price', 'GateIo', 'TVK', 'DC', 'RAY', 'CATE', 'PRIME', 'crypto', 'cryptonews', 'cryptoAlerts', 'blockchain', 'cryptotrading', 'cryptoprices', 'altcoins', 'bitcoin']\", 'Crypto Frog', 'False']\n",
      "Skipping row due to insufficient columns: ['👉https://t.co/dwh8jR9uho']\n",
      "Skipping row due to insufficient columns: ['$HAO 7.3%']\n",
      "Skipping row due to insufficient columns: ['$RBLS 0.76%']\n",
      "Skipping row due to insufficient columns: ['$YFI 0.72%']\n",
      "Skipping row due to insufficient columns: ['$SFP 0.71%']\n",
      "Skipping row due to insufficient columns: ['$FIRE 0.53%']\n",
      "Skipping row due to insufficient columns: [' #HAO #RBLS #YFI #SFP #FIRE #crypto #cryptonews #cryptoAlerts #blockchain  #cryptotrading #cryptoprices #altcoins #bitcoin', \"['cryptocurrency', 'price', 'GateIo', 'HAO', 'RBLS', 'YFI', 'SFP', 'FIRE', 'crypto', 'cryptonews', 'cryptoAlerts', 'blockchain', 'cryptotrading', 'cryptoprices', 'altcoins', 'bitcoin']\", 'Crypto Frog', 'False']\n",
      "Skipping row due to insufficient columns: ['👉https://t.co/dwh8jR9uho']\n",
      "Skipping row due to insufficient columns: ['$HAO 3.56%']\n",
      "Skipping row due to insufficient columns: ['$ALU 1.12%']\n",
      "Skipping row due to insufficient columns: ['$MDT 0.67%']\n",
      "Skipping row due to insufficient columns: ['$FEAR 0.59%']\n",
      "Skipping row due to insufficient columns: ['$SERO 0.54%']\n",
      "Skipping row due to insufficient columns: [' #HAO #ALU #MDT #FEAR #SERO #crypto #cryptonews #cryptoAlerts #blockchain  #cryptotrading #cryptoprices #altcoins #bitcoin', \"['cryptocurrency', 'price', 'GateIo', 'HAO', 'ALU', 'MDT', 'FEAR', 'SERO', 'crypto', 'cryptonews', 'cryptoAlerts', 'blockchain', 'cryptotrading', 'cryptoprices', 'altcoins', 'bitcoin']\", 'Crypto Frog', 'False']\n"
     ]
    },
    {
     "name": "stderr",
     "output_type": "stream",
     "text": [
      "Preprocessing tweets: 116249it [00:39, 3033.67it/s]"
     ]
    },
    {
     "name": "stdout",
     "output_type": "stream",
     "text": [
      "Skipping row due to insufficient columns: ['👉https://t.co/XsdBPI7qf6']\n",
      "Skipping row due to insufficient columns: ['$LDN 3.11%']\n",
      "Skipping row due to insufficient columns: ['$CHE 0.59%']\n",
      "Skipping row due to insufficient columns: ['$EFI 0.47%']\n",
      "Skipping row due to insufficient columns: ['$AR 0.33%']\n",
      "Skipping row due to insufficient columns: [' #LDN #CHE #EFI #AR #crypto #cryptonews #cryptoAlerts #blockchain  #cryptotrading #cryptoprices #altcoins #bitcoin', \"['cryptocurrency', 'price', 'OKX', 'LDN', 'CHE', 'EFI', 'AR', 'crypto', 'cryptonews', 'cryptoAlerts', 'blockchain', 'cryptotrading', 'cryptoprices', 'altcoins', 'bitcoin']\", 'Crypto Frog', 'False']\n",
      "Skipping row due to insufficient columns: ['👉https://t.co/dwh8jR9uho']\n",
      "Skipping row due to insufficient columns: ['$SLK 7.87%']\n",
      "Skipping row due to insufficient columns: ['$T23 1.73%']\n",
      "Skipping row due to insufficient columns: ['$MDX 0.96%']\n",
      "Skipping row due to insufficient columns: ['$BDP 0.71%']\n",
      "Skipping row due to insufficient columns: ['$CPOOL 0.52%']\n",
      "Skipping row due to insufficient columns: [' #SLK #T23 #MDX #BDP #CPOOL #crypto #cryptonews #cryptoAlerts #blockchain  #cryptotrading #cryptoprices #altcoins #bitcoin', \"['cryptocurrency', 'price', 'GateIo', 'SLK', 'T23', 'MDX', 'BDP', 'CPOOL', 'crypto', 'cryptonews', 'cryptoAlerts', 'blockchain', 'cryptotrading', 'cryptoprices', 'altcoins', 'bitcoin']\", 'Crypto Frog', 'False']\n",
      "Skipping row due to insufficient columns: ['👉https://t.co/dwh8jR9uho']\n",
      "Skipping row due to insufficient columns: ['$REAL 5.66%']\n",
      "Skipping row due to insufficient columns: ['$QRDO 1.25%']\n",
      "Skipping row due to insufficient columns: ['$ELEC 1.13%']\n",
      "Skipping row due to insufficient columns: ['$PHM 0.65%']\n",
      "Skipping row due to insufficient columns: ['$LTO 0.41%']\n",
      "Skipping row due to insufficient columns: [' #REAL #QRDO #ELEC #PHM #LTO #crypto #cryptonews #cryptoAlerts #blockchain  #cryptotrading #cryptoprices #altcoins #bitcoin', \"['cryptocurrency', 'price', 'GateIo', 'REAL', 'QRDO', 'ELEC', 'PHM', 'LTO', 'crypto', 'cryptonews', 'cryptoAlerts', 'blockchain', 'cryptotrading', 'cryptoprices', 'altcoins', 'bitcoin']\", 'Crypto Frog', 'False']\n",
      "Skipping row due to insufficient columns: ['👉https://t.co/dwh8jR9uho']\n",
      "Skipping row due to insufficient columns: ['$ARES 3.2%']\n",
      "Skipping row due to insufficient columns: ['$XCH 0.97%']\n",
      "Skipping row due to insufficient columns: ['$ADS 0.41%']\n",
      "Skipping row due to insufficient columns: ['$QUACK 0.36%']\n",
      "Skipping row due to insufficient columns: [' #ARES #XCH #ADS #QUACK #crypto #cryptonews #cryptoAlerts #blockchain  #cryptotrading #cryptoprices #altcoins #bitcoin', \"['cryptocurrency', 'price', 'GateIo', 'ARES', 'XCH', 'ADS', 'QUACK', 'crypto', 'cryptonews', 'cryptoAlerts', 'blockchain', 'cryptotrading', 'cryptoprices', 'altcoins', 'bitcoin']\", 'Crypto Frog', 'False']\n",
      "Skipping row due to insufficient columns: ['👉https://t.co/dwh8jR9uho']\n",
      "Skipping row due to insufficient columns: ['$SLK 3.86%']\n",
      "Skipping row due to insufficient columns: ['$GLM 0.82%']\n",
      "Skipping row due to insufficient columns: ['$RLY 0.71%']\n",
      "Skipping row due to insufficient columns: ['$CKB 0.66%']\n",
      "Skipping row due to insufficient columns: ['$PAW 0.52%']\n",
      "Skipping row due to insufficient columns: [' #SLK #GLM #RLY #CKB #PAW #crypto #cryptonews #cryptoAlerts #blockchain  #cryptotrading #cryptoprices #altcoins #bitcoin', \"['cryptocurrency', 'price', 'GateIo', 'SLK', 'GLM', 'RLY', 'CKB', 'PAW', 'crypto', 'cryptonews', 'cryptoAlerts', 'blockchain', 'cryptotrading', 'cryptoprices', 'altcoins', 'bitcoin']\", 'Crypto Frog', 'False']\n"
     ]
    },
    {
     "name": "stderr",
     "output_type": "stream",
     "text": [
      "Preprocessing tweets: 117182it [00:39, 3049.80it/s]"
     ]
    },
    {
     "name": "stdout",
     "output_type": "stream",
     "text": [
      "Skipping row due to insufficient columns: ['👉https://t.co/dwh8jR9uho']\n",
      "Skipping row due to insufficient columns: ['$SLK 4.92%']\n",
      "Skipping row due to insufficient columns: ['$XCAD 0.71%']\n",
      "Skipping row due to insufficient columns: ['$KIN 0.68%']\n",
      "Skipping row due to insufficient columns: ['$MDT 0.54%']\n",
      "Skipping row due to insufficient columns: ['$TRG 0.48%']\n",
      "Skipping row due to insufficient columns: [' #SLK #XCAD #KIN #MDT #TRG #crypto #cryptonews #cryptoAlerts #blockchain  #cryptotrading #cryptoprices #altcoins #bitcoin', \"['cryptocurrency', 'price', 'GateIo', 'SLK', 'XCAD', 'KIN', 'MDT', 'TRG', 'crypto', 'cryptonews', 'cryptoAlerts', 'blockchain', 'cryptotrading', 'cryptoprices', 'altcoins', 'bitcoin']\", 'Crypto Frog', 'False']\n",
      "Skipping row due to insufficient columns: ['👉https://t.co/dwh8jR9uho']\n",
      "Skipping row due to insufficient columns: ['$STAR 3.27%']\n",
      "Skipping row due to insufficient columns: ['$MDT 0.59%']\n",
      "Skipping row due to insufficient columns: ['$AZERO 0.5%']\n",
      "Skipping row due to insufficient columns: ['$BDP 0.42%']\n",
      "Skipping row due to insufficient columns: ['$CMP 0.38%']\n",
      "Skipping row due to insufficient columns: [' #STAR #MDT #AZERO #BDP #CMP #crypto #cryptonews #cryptoAlerts #blockchain  #cryptotrading #cryptoprices #altcoins #bitcoin', \"['cryptocurrency', 'price', 'GateIo', 'STAR', 'MDT', 'AZERO', 'BDP', 'CMP', 'crypto', 'cryptonews', 'cryptoAlerts', 'blockchain', 'cryptotrading', 'cryptoprices', 'altcoins', 'bitcoin']\", 'Crypto Frog', 'False']\n",
      "Skipping row due to insufficient columns: ['👉https://t.co/dwh8jR9uho']\n",
      "Skipping row due to insufficient columns: ['$EMON 4.14%']\n",
      "Skipping row due to insufficient columns: ['$SFP 0.69%']\n",
      "Skipping row due to insufficient columns: ['$MDT 0.68%']\n",
      "Skipping row due to insufficient columns: ['$MAN 0.58%']\n",
      "Skipping row due to insufficient columns: ['$PHA 0.52%']\n",
      "Skipping row due to insufficient columns: [' #EMON #SFP #MDT #MAN #PHA #crypto #cryptonews #cryptoAlerts #blockchain  #cryptotrading #cryptoprices #altcoins #bitcoin', \"['cryptocurrency', 'price', 'GateIo', 'EMON', 'SFP', 'MDT', 'MAN', 'PHA', 'crypto', 'cryptonews', 'cryptoAlerts', 'blockchain', 'cryptotrading', 'cryptoprices', 'altcoins', 'bitcoin']\", 'Crypto Frog', 'False']\n"
     ]
    },
    {
     "name": "stderr",
     "output_type": "stream",
     "text": [
      "Preprocessing tweets: 118097it [00:40, 2981.80it/s]"
     ]
    },
    {
     "name": "stdout",
     "output_type": "stream",
     "text": [
      "Skipping row due to insufficient columns: ['👉https://t.co/dwh8jR9uho']\n",
      "Skipping row due to insufficient columns: ['$GOAL 6.36%']\n",
      "Skipping row due to insufficient columns: ['$SWAP 2.42%']\n",
      "Skipping row due to insufficient columns: ['$HYVE 1.97%']\n",
      "Skipping row due to insufficient columns: ['$TWT 0.76%']\n",
      "Skipping row due to insufficient columns: ['$IHT 0.75%']\n",
      "Skipping row due to insufficient columns: [' #GOAL #SWAP #HYVE #TWT #IHT #crypto #cryptonews #cryptoAlerts #blockchain  #cryptotrading #cryptoprices #altcoins #bitcoin', \"['cryptocurrency', 'price', 'GateIo', 'GOAL', 'SWAP', 'HYVE', 'TWT', 'IHT', 'crypto', 'cryptonews', 'cryptoAlerts', 'blockchain', 'cryptotrading', 'cryptoprices', 'altcoins', 'bitcoin']\", 'Crypto Frog', 'False']\n",
      "Skipping row due to insufficient columns: ['👉https://t.co/dwh8jR9uho']\n",
      "Skipping row due to insufficient columns: ['$GMPD 3.76%']\n",
      "Skipping row due to insufficient columns: ['$SLK 3.16%']\n",
      "Skipping row due to insufficient columns: ['$DMS 1.83%']\n",
      "Skipping row due to insufficient columns: ['$STOS 0.84%']\n",
      "Skipping row due to insufficient columns: ['$TOKE 0.71%']\n",
      "Skipping row due to insufficient columns: [' #GMPD #SLK #DMS #STOS #TOKE #crypto #cryptonews #cryptoAlerts #blockchain  #cryptotrading #cryptoprices #altcoins #bitcoin', \"['cryptocurrency', 'price', 'GateIo', 'GMPD', 'SLK', 'DMS', 'STOS', 'TOKE', 'crypto', 'cryptonews', 'cryptoAlerts', 'blockchain', 'cryptotrading', 'cryptoprices', 'altcoins', 'bitcoin']\", 'Crypto Frog', 'False']\n",
      "Skipping row due to insufficient columns: ['Coin: $FLOKICEO']\n",
      "Skipping row due to insufficient columns: ['Pairs:']\n",
      "Skipping row due to insufficient columns: ['#FLOKICEO/#USDT']\n",
      "Skipping row due to insufficient columns: ['#newcoinlisting #crypto #cryptonews #cryptoAlerts #altcoins #bitcoin #blockchain #cryptocurrency #cryptotrading', \"['BKEX', 'FLOKICEO', 'USDT', 'newcoinlisting', 'crypto', 'cryptonews', 'cryptoAlerts', 'altcoins', 'bitcoin', 'blockchain', 'cryptocurrency', 'cryptotrading']\", 'CoinListingBot', 'False']\n",
      "Skipping row due to insufficient columns: ['👉https://t.co/dwh8jR9uho']\n",
      "Skipping row due to insufficient columns: ['$SLK 9.49%']\n",
      "Skipping row due to insufficient columns: ['$OAS 0.44%']\n",
      "Skipping row due to insufficient columns: ['$MV 0.43%']\n",
      "Skipping row due to insufficient columns: ['$QUICK 0.39%']\n",
      "Skipping row due to insufficient columns: ['$AOG 0.39%']\n",
      "Skipping row due to insufficient columns: [' #SLK #OAS #MV #QUICK #AOG #crypto #cryptonews #cryptoAlerts #blockchain  #cryptotrading #cryptoprices #altcoins #bitcoin', \"['cryptocurrency', 'price', 'GateIo', 'SLK', 'OAS', 'MV', 'QUICK', 'AOG', 'crypto', 'cryptonews', 'cryptoAlerts', 'blockchain', 'cryptotrading', 'cryptoprices', 'altcoins', 'bitcoin']\", 'Crypto Frog', 'False']\n"
     ]
    },
    {
     "name": "stderr",
     "output_type": "stream",
     "text": [
      "Preprocessing tweets: 118707it [00:40, 3013.23it/s]"
     ]
    },
    {
     "name": "stdout",
     "output_type": "stream",
     "text": [
      "Skipping row due to insufficient columns: ['👉https://t.co/dwh8jR9uho']\n",
      "Skipping row due to insufficient columns: ['$ZAM 4.05%']\n",
      "Skipping row due to insufficient columns: ['$SOLO 0.56%']\n",
      "Skipping row due to insufficient columns: ['$TROY 0.44%']\n",
      "Skipping row due to insufficient columns: ['$BSW 0.42%']\n",
      "Skipping row due to insufficient columns: ['$NEO 0.41%']\n",
      "Skipping row due to insufficient columns: [' #ZAM #SOLO #TROY #BSW #NEO #crypto #cryptonews #cryptoAlerts #blockchain  #cryptotrading #cryptoprices #altcoins #bitcoin', \"['cryptocurrency', 'price', 'GateIo', 'ZAM', 'SOLO', 'TROY', 'BSW', 'NEO', 'crypto', 'cryptonews', 'cryptoAlerts', 'blockchain', 'cryptotrading', 'cryptoprices', 'altcoins', 'bitcoin']\", 'Crypto Frog', 'False']\n",
      "Skipping row due to insufficient columns: ['👉https://t.co/dwh8jR9uho']\n",
      "Skipping row due to insufficient columns: ['$VGX 3.69%']\n",
      "Skipping row due to insufficient columns: ['$FRM 1.5%']\n",
      "Skipping row due to insufficient columns: ['$ROSN 0.41%']\n",
      "Skipping row due to insufficient columns: ['$MAGIC 0.32%']\n",
      "Skipping row due to insufficient columns: [' #VGX #FRM #ROSN #MAGIC #crypto #cryptonews #cryptoAlerts #blockchain  #cryptotrading #cryptoprices #altcoins #bitcoin', \"['cryptocurrency', 'price', 'GateIo', 'VGX', 'FRM', 'ROSN', 'MAGIC', 'crypto', 'cryptonews', 'cryptoAlerts', 'blockchain', 'cryptotrading', 'cryptoprices', 'altcoins', 'bitcoin']\", 'Crypto Frog', 'False']\n"
     ]
    },
    {
     "name": "stderr",
     "output_type": "stream",
     "text": [
      "Preprocessing tweets: 119320it [00:40, 3013.23it/s]"
     ]
    },
    {
     "name": "stdout",
     "output_type": "stream",
     "text": [
      "Skipping row due to insufficient columns: ['👉https://t.co/dwh8jR9uho']\n",
      "Skipping row due to insufficient columns: ['$NBP 6.64%']\n",
      "Skipping row due to insufficient columns: ['$VELO 0.82%']\n",
      "Skipping row due to insufficient columns: ['$CKB 0.78%']\n",
      "Skipping row due to insufficient columns: ['$SHOE 0.7%']\n",
      "Skipping row due to insufficient columns: ['$BDP 0.67%']\n",
      "Skipping row due to insufficient columns: [' #NBP #VELO #CKB #SHOE #BDP #crypto #cryptonews #cryptoAlerts #blockchain  #cryptotrading #cryptoprices #altcoins #bitcoin', \"['cryptocurrency', 'price', 'GateIo', 'NBP', 'VELO', 'CKB', 'SHOE', 'BDP', 'crypto', 'cryptonews', 'cryptoAlerts', 'blockchain', 'cryptotrading', 'cryptoprices', 'altcoins', 'bitcoin']\", 'Crypto Frog', 'False']\n",
      "Skipping row due to insufficient columns: ['👉https://t.co/dwh8jR9uho']\n",
      "Skipping row due to insufficient columns: ['$MOO 7.22%']\n",
      "Skipping row due to insufficient columns: ['$BDP 1.95%']\n",
      "Skipping row due to insufficient columns: ['$PAW 0.42%']\n",
      "Skipping row due to insufficient columns: ['$STX 0.39%']\n",
      "Skipping row due to insufficient columns: ['$CORE 0.37%']\n",
      "Skipping row due to insufficient columns: [' #MOO #BDP #PAW #STX #CORE #crypto #cryptonews #cryptoAlerts #blockchain  #cryptotrading #cryptoprices #altcoins #bitcoin', \"['cryptocurrency', 'price', 'GateIo', 'MOO', 'BDP', 'PAW', 'STX', 'CORE', 'crypto', 'cryptonews', 'cryptoAlerts', 'blockchain', 'cryptotrading', 'cryptoprices', 'altcoins', 'bitcoin']\", 'Crypto Frog', 'False']\n",
      "Skipping row due to insufficient columns: ['👉https://t.co/dwh8jR9uho']\n",
      "Skipping row due to insufficient columns: ['$ALPH 3.59%']\n",
      "Skipping row due to insufficient columns: ['$PAW 0.44%']\n",
      "Skipping row due to insufficient columns: ['$GS 0.42%']\n",
      "Skipping row due to insufficient columns: ['$GMX 0.38%']\n",
      "Skipping row due to insufficient columns: [' #ALPH #PAW #GS #GMX #crypto #cryptonews #cryptoAlerts #blockchain  #cryptotrading #cryptoprices #altcoins #bitcoin', \"['cryptocurrency', 'price', 'GateIo', 'ALPH', 'PAW', 'GS', 'GMX', 'crypto', 'cryptonews', 'cryptoAlerts', 'blockchain', 'cryptotrading', 'cryptoprices', 'altcoins', 'bitcoin']\", 'Crypto Frog', 'False']\n",
      "Skipping row due to insufficient columns: ['👉https://t.co/XsdBPI7qf6']\n",
      "Skipping row due to insufficient columns: ['$LAT 3.41%']\n",
      "Skipping row due to insufficient columns: ['$MDT 1.65%']\n",
      "Skipping row due to insufficient columns: ['$TAKI 1.4%']\n",
      "Skipping row due to insufficient columns: ['$CELT 0.39%']\n",
      "Skipping row due to insufficient columns: [' #LAT #MDT #TAKI #CELT #crypto #cryptonews #cryptoAlerts #blockchain  #cryptotrading #cryptoprices #altcoins #bitcoin', \"['cryptocurrency', 'price', 'OKX', 'LAT', 'MDT', 'TAKI', 'CELT', 'crypto', 'cryptonews', 'cryptoAlerts', 'blockchain', 'cryptotrading', 'cryptoprices', 'altcoins', 'bitcoin']\", 'Crypto Frog', 'False']\n",
      "Skipping row due to insufficient columns: ['👉https://t.co/AdJlZWUXsw']\n",
      "Skipping row due to insufficient columns: ['$ROCO 5.97%']\n",
      "Skipping row due to insufficient columns: ['$MXT 0.41%']\n",
      "Skipping row due to insufficient columns: ['$MBOX 0.4%']\n",
      "Skipping row due to insufficient columns: ['$BONE 0.31%']\n",
      "Skipping row due to insufficient columns: [' #ROCO #MXT #MBOX #BONE #crypto #cryptonews #cryptoAlerts #blockchain  #cryptotrading #cryptoprices #altcoins #bitcoin', \"['cryptocurrency', 'price', 'MEXC', 'ROCO', 'MXT', 'MBOX', 'BONE', 'crypto', 'cryptonews', 'cryptoAlerts', 'blockchain', 'cryptotrading', 'cryptoprices', 'altcoins', 'bitcoin']\", 'Crypto Frog', 'False']\n",
      "Skipping row due to insufficient columns: ['👉https://t.co/AdJlZWUXsw']\n",
      "Skipping row due to insufficient columns: ['$ROCO 5.97%']\n",
      "Skipping row due to insufficient columns: ['$CVP 1.18%']\n",
      "Skipping row due to insufficient columns: ['$FNCY 0.51%']\n",
      "Skipping row due to insufficient columns: [' #ROCO #CVP #FNCY #crypto #cryptonews #cryptoAlerts #blockchain  #cryptotrading #cryptoprices #altcoins #bitcoin', \"['cryptocurrency', 'price', 'MEXC', 'ROCO', 'CVP', 'FNCY', 'crypto', 'cryptonews', 'cryptoAlerts', 'blockchain', 'cryptotrading', 'cryptoprices', 'altcoins', 'bitcoin']\", 'Crypto Frog', 'False']\n"
     ]
    },
    {
     "name": "stderr",
     "output_type": "stream",
     "text": [
      "Preprocessing tweets: 120269it [00:40, 3087.22it/s]"
     ]
    },
    {
     "name": "stdout",
     "output_type": "stream",
     "text": [
      "Skipping row due to insufficient columns: ['👉https://t.co/AdJlZWUXsw']\n",
      "Skipping row due to insufficient columns: ['$ROCO 5.97%']\n",
      "Skipping row due to insufficient columns: ['$ALPA 1.4%']\n",
      "Skipping row due to insufficient columns: ['$SCLP 0.39%']\n",
      "Skipping row due to insufficient columns: [' #ROCO #ALPA #SCLP #crypto #cryptonews #cryptoAlerts #blockchain  #cryptotrading #cryptoprices #altcoins #bitcoin', \"['cryptocurrency', 'price', 'MEXC', 'ROCO', 'ALPA', 'SCLP', 'crypto', 'cryptonews', 'cryptoAlerts', 'blockchain', 'cryptotrading', 'cryptoprices', 'altcoins', 'bitcoin']\", 'Crypto Frog', 'False']\n",
      "Skipping row due to insufficient columns: ['Coin: $EQUILIBRIUM']\n",
      "Skipping row due to insufficient columns: ['Pairs:']\n",
      "Skipping row due to insufficient columns: ['#EQUILIBRIUM/#USDT']\n",
      "Skipping row due to insufficient columns: ['#newcoinlisting #crypto #cryptonews #cryptoAlerts #altcoins #bitcoin #blockchain #cryptocurrency #cryptotrading', \"['MEXC', 'EQUILIBRIUM', 'USDT', 'newcoinlisting', 'crypto', 'cryptonews', 'cryptoAlerts', 'altcoins', 'bitcoin', 'blockchain', 'cryptocurrency', 'cryptotrading']\", 'CoinListingBot', 'False']\n",
      "Skipping row due to insufficient columns: ['👉https://t.co/XsdBPI7qf6']\n",
      "Skipping row due to insufficient columns: ['$ORS 3.13%']\n",
      "Skipping row due to insufficient columns: ['$CGL 0.78%']\n",
      "Skipping row due to insufficient columns: ['$LAT 0.68%']\n",
      "Skipping row due to insufficient columns: [' #ORS #CGL #LAT #crypto #cryptonews #cryptoAlerts #blockchain  #cryptotrading #cryptoprices #altcoins #bitcoin', \"['cryptocurrency', 'price', 'OKX', 'ORS', 'CGL', 'LAT', 'crypto', 'cryptonews', 'cryptoAlerts', 'blockchain', 'cryptotrading', 'cryptoprices', 'altcoins', 'bitcoin']\", 'Crypto Frog', 'False']\n",
      "Skipping row due to insufficient columns: ['👉https://t.co/dwh8jR9uho']\n",
      "Skipping row due to insufficient columns: ['$MIS 7.1%']\n",
      "Skipping row due to insufficient columns: ['$FNZ 1.36%']\n",
      "Skipping row due to insufficient columns: ['$RATIO 1%']\n",
      "Skipping row due to insufficient columns: ['$HERO 0.8%']\n",
      "Skipping row due to insufficient columns: ['$FITFI 0.57%']\n",
      "Skipping row due to insufficient columns: [' #MIS #FNZ #RATIO #HERO #FITFI #crypto #cryptonews #cryptoAlerts #blockchain  #cryptotrading #cryptoprices #altcoins #bitcoin', \"['cryptocurrency', 'price', 'GateIo', 'MIS', 'FNZ', 'RATIO', 'HERO', 'FITFI', 'crypto', 'cryptonews', 'cryptoAlerts', 'blockchain', 'cryptotrading', 'cryptoprices', 'altcoins', 'bitcoin']\", 'Crypto Frog', 'False']\n"
     ]
    },
    {
     "name": "stderr",
     "output_type": "stream",
     "text": [
      "Preprocessing tweets: 121205it [00:41, 3082.64it/s]"
     ]
    },
    {
     "name": "stdout",
     "output_type": "stream",
     "text": [
      "Skipping row due to insufficient columns: ['👉https://t.co/dwh8jR9uho']\n",
      "Skipping row due to insufficient columns: ['$NAS 4.47%']\n",
      "Skipping row due to insufficient columns: ['$PAW 0.69%']\n",
      "Skipping row due to insufficient columns: ['$LIKE 0.67%']\n",
      "Skipping row due to insufficient columns: ['$FIS 0.31%']\n",
      "Skipping row due to insufficient columns: [' #NAS #PAW #LIKE #FIS #crypto #cryptonews #cryptoAlerts #blockchain  #cryptotrading #cryptoprices #altcoins #bitcoin', \"['cryptocurrency', 'price', 'GateIo', 'NAS', 'PAW', 'LIKE', 'FIS', 'crypto', 'cryptonews', 'cryptoAlerts', 'blockchain', 'cryptotrading', 'cryptoprices', 'altcoins', 'bitcoin']\", 'Crypto Frog', 'False']\n",
      "Skipping row due to insufficient columns: ['👉https://t.co/AdJlZWUXsw']\n",
      "Skipping row due to insufficient columns: ['$ROCO 5.97%']\n",
      "Skipping row due to insufficient columns: ['$TAO 0.46%']\n",
      "Skipping row due to insufficient columns: ['$FLUX1 0.43%']\n",
      "Skipping row due to insufficient columns: ['$GFT 0.4%']\n",
      "Skipping row due to insufficient columns: [' #ROCO #TAO #FLUX1 #GFT #crypto #cryptonews #cryptoAlerts #blockchain  #cryptotrading #cryptoprices #altcoins #bitcoin', \"['cryptocurrency', 'price', 'MEXC', 'ROCO', 'TAO', 'FLUX1', 'GFT', 'crypto', 'cryptonews', 'cryptoAlerts', 'blockchain', 'cryptotrading', 'cryptoprices', 'altcoins', 'bitcoin']\", 'Crypto Frog', 'False']\n",
      "Skipping row due to insufficient columns: ['kergit', 'Italy']\n",
      "Skipping row due to insufficient columns: ['👉https://t.co/dwh8jR9uho']\n",
      "Skipping row due to insufficient columns: ['$GS 20.35%']\n",
      "Skipping row due to insufficient columns: ['$BVT 2.06%']\n",
      "Skipping row due to insufficient columns: ['$POSI 1.11%']\n",
      "Skipping row due to insufficient columns: ['$TWT 0.68%']\n",
      "Skipping row due to insufficient columns: ['$MAGIC 0.54%']\n",
      "Skipping row due to insufficient columns: [' #GS #BVT #POSI #TWT #MAGIC #crypto #cryptonews #cryptoAlerts #blockchain  #cryptotrading #cryptoprices #altcoins #bitcoin', \"['cryptocurrency', 'price', 'GateIo', 'GS', 'BVT', 'POSI', 'TWT', 'MAGIC', 'crypto', 'cryptonews', 'cryptoAlerts', 'blockchain', 'cryptotrading', 'cryptoprices', 'altcoins', 'bitcoin']\", 'Crypto Frog', 'False']\n"
     ]
    },
    {
     "name": "stderr",
     "output_type": "stream",
     "text": [
      "Preprocessing tweets: 122164it [00:41, 3147.21it/s]"
     ]
    },
    {
     "name": "stdout",
     "output_type": "stream",
     "text": [
      "Skipping row due to insufficient columns: ['👉https://t.co/dwh8jR9uho']\n",
      "Skipping row due to insufficient columns: ['$CTRC 4.27%']\n",
      "Skipping row due to insufficient columns: ['$NEO 1.31%']\n",
      "Skipping row due to insufficient columns: ['$KBD 0.98%']\n",
      "Skipping row due to insufficient columns: ['$FLM 0.93%']\n",
      "Skipping row due to insufficient columns: ['$QUACK 0.81%']\n",
      "Skipping row due to insufficient columns: [' #CTRC #NEO #KBD #FLM #QUACK #crypto #cryptonews #cryptoAlerts #blockchain  #cryptotrading #cryptoprices #altcoins #bitcoin', \"['cryptocurrency', 'price', 'GateIo', 'CTRC', 'NEO', 'KBD', 'FLM', 'QUACK', 'crypto', 'cryptonews', 'cryptoAlerts', 'blockchain', 'cryptotrading', 'cryptoprices', 'altcoins', 'bitcoin']\", 'Crypto Frog', 'False']\n",
      "Skipping row due to insufficient columns: ['utfan69', \"C�te d'Ivoire\"]\n",
      "Skipping row due to insufficient columns: ['👉https://t.co/dwh8jR9uho']\n",
      "Skipping row due to insufficient columns: ['$DELFI 4.59%']\n",
      "Skipping row due to insufficient columns: ['$PAW 1.07%']\n",
      "Skipping row due to insufficient columns: ['$SOLO 0.88%']\n",
      "Skipping row due to insufficient columns: ['$SDN 0.5%']\n",
      "Skipping row due to insufficient columns: ['$SUN 0.4%']\n",
      "Skipping row due to insufficient columns: [' #DELFI #PAW #SOLO #SDN #SUN #crypto #cryptonews #cryptoAlerts #blockchain  #cryptotrading #cryptoprices #altcoins #bitcoin', \"['cryptocurrency', 'price', 'GateIo', 'DELFI', 'PAW', 'SOLO', 'SDN', 'SUN', 'crypto', 'cryptonews', 'cryptoAlerts', 'blockchain', 'cryptotrading', 'cryptoprices', 'altcoins', 'bitcoin']\", 'Crypto Frog', 'False']\n"
     ]
    },
    {
     "name": "stderr",
     "output_type": "stream",
     "text": [
      "Preprocessing tweets: 122803it [00:41, 3036.22it/s]"
     ]
    },
    {
     "name": "stdout",
     "output_type": "stream",
     "text": [
      "Skipping row due to insufficient columns: ['Coin: $PAW']\n",
      "Skipping row due to insufficient columns: ['Pairs:']\n",
      "Skipping row due to insufficient columns: ['#PAW/#USDT']\n",
      "Skipping row due to insufficient columns: ['#newcoinlisting #crypto #cryptonews #cryptoAlerts #altcoins #bitcoin #blockchain #cryptocurrency #cryptotrading', \"['Biconomy', 'PAW', 'USDT', 'newcoinlisting', 'crypto', 'cryptonews', 'cryptoAlerts', 'altcoins', 'bitcoin', 'blockchain', 'cryptocurrency', 'cryptotrading']\", 'CoinListingBot', 'False']\n",
      "Skipping row due to insufficient columns: ['👉https://t.co/XsdBPI7qf6']\n",
      "Skipping row due to insufficient columns: ['$LDN 4.09%']\n",
      "Skipping row due to insufficient columns: ['$MINA 0.46%']\n",
      "Skipping row due to insufficient columns: ['$SNX 0.41%']\n",
      "Skipping row due to insufficient columns: ['$MKR 0.35%']\n",
      "Skipping row due to insufficient columns: ['$CHE 0.33%']\n",
      "Skipping row due to insufficient columns: [' #LDN #MINA #SNX #MKR #CHE #crypto #cryptonews #cryptoAlerts #blockchain  #cryptotrading #cryptoprices #altcoins #bitcoin', \"['cryptocurrency', 'price', 'OKX', 'LDN', 'MINA', 'SNX', 'MKR', 'CHE', 'crypto', 'cryptonews', 'cryptoAlerts', 'blockchain', 'cryptotrading', 'cryptoprices', 'altcoins', 'bitcoin']\", 'Crypto Frog', 'False']\n",
      "Skipping row due to insufficient columns: ['👉https://t.co/XsdBPI7qf6']\n",
      "Skipping row due to insufficient columns: ['$LDN 8.27%']\n",
      "Skipping row due to insufficient columns: ['$CONV 0.84%']\n",
      "Skipping row due to insufficient columns: ['$GFT 0.65%']\n",
      "Skipping row due to insufficient columns: ['$GAS 0.49%']\n",
      "Skipping row due to insufficient columns: ['$TOPC 0.31%']\n",
      "Skipping row due to insufficient columns: [' #LDN #CONV #GFT #GAS #TOPC #crypto #cryptonews #cryptoAlerts #blockchain  #cryptotrading #cryptoprices #altcoins #bitcoin', \"['cryptocurrency', 'price', 'OKX', 'LDN', 'CONV', 'GFT', 'GAS', 'TOPC', 'crypto', 'cryptonews', 'cryptoAlerts', 'blockchain', 'cryptotrading', 'cryptoprices', 'altcoins', 'bitcoin']\", 'Crypto Frog', 'False']\n",
      "Skipping row due to insufficient columns: ['tomosvlad10', 'Bahrain']\n",
      "Skipping row due to insufficient columns: ['creaturefeaturesuk2016', 'Austria']\n",
      "Skipping row due to insufficient columns: ['pooh_sarul', 'Ecuador']\n"
     ]
    },
    {
     "name": "stderr",
     "output_type": "stream",
     "text": [
      "Preprocessing tweets: 123701it [00:41, 2879.31it/s]"
     ]
    },
    {
     "name": "stdout",
     "output_type": "stream",
     "text": [
      "Skipping row due to insufficient columns: ['👉https://t.co/dwh8jR9uho']\n",
      "Skipping row due to insufficient columns: ['$DELFI 4.46%']\n",
      "Skipping row due to insufficient columns: ['$PNT 0.42%']\n",
      "Skipping row due to insufficient columns: ['$BUY 0.41%']\n",
      "Skipping row due to insufficient columns: ['$INJ 0.39%']\n",
      "Skipping row due to insufficient columns: ['$LGCY 0.38%']\n",
      "Skipping row due to insufficient columns: [' #DELFI #PNT #BUY #INJ #LGCY #crypto #cryptonews #cryptoAlerts #blockchain  #cryptotrading #cryptoprices #altcoins #bitcoin', \"['cryptocurrency', 'price', 'GateIo', 'DELFI', 'PNT', 'BUY', 'INJ', 'LGCY', 'crypto', 'cryptonews', 'cryptoAlerts', 'blockchain', 'cryptotrading', 'cryptoprices', 'altcoins', 'bitcoin']\", 'Crypto Frog', 'False']\n",
      "Skipping row due to insufficient columns: ['Coin: $D2T']\n",
      "Skipping row due to insufficient columns: ['Pairs:']\n",
      "Skipping row due to insufficient columns: ['#D2T/#USDT']\n",
      "Skipping row due to insufficient columns: ['#newcoinlisting #crypto #cryptonews #cryptoAlerts #altcoins #bitcoin #blockchain #cryptocurrency #cryptotrading', \"['XT', 'D2T', 'USDT', 'newcoinlisting', 'crypto', 'cryptonews', 'cryptoAlerts', 'altcoins', 'bitcoin', 'blockchain', 'cryptocurrency', 'cryptotrading']\", 'CoinListingBot', 'False']\n",
      "Skipping row due to insufficient columns: ['Coin: $LIUX']\n",
      "Skipping row due to insufficient columns: ['Pairs:']\n",
      "Skipping row due to insufficient columns: ['#LIUX/#USDT']\n",
      "Skipping row due to insufficient columns: ['#newcoinlisting #crypto #cryptonews #cryptoAlerts #altcoins #bitcoin #blockchain #cryptocurrency #cryptotrading', \"['XT', 'LIUX', 'USDT', 'newcoinlisting', 'crypto', 'cryptonews', 'cryptoAlerts', 'altcoins', 'bitcoin', 'blockchain', 'cryptocurrency', 'cryptotrading']\", 'CoinListingBot', 'False']\n",
      "Skipping row due to insufficient columns: ['Coin: $GLQ']\n",
      "Skipping row due to insufficient columns: ['Pairs:']\n",
      "Skipping row due to insufficient columns: ['#GLQ/#USDT']\n",
      "Skipping row due to insufficient columns: ['#newcoinlisting #crypto #cryptonews #cryptoAlerts #altcoins #bitcoin #blockchain #cryptocurrency #cryptotrading', \"['XT', 'GLQ', 'USDT', 'newcoinlisting', 'crypto', 'cryptonews', 'cryptoAlerts', 'altcoins', 'bitcoin', 'blockchain', 'cryptocurrency', 'cryptotrading']\", 'CoinListingBot', 'False']\n",
      "Skipping row due to insufficient columns: ['Coin: $AIR']\n",
      "Skipping row due to insufficient columns: ['Pairs:']\n",
      "Skipping row due to insufficient columns: ['#AIR/#USDT']\n",
      "Skipping row due to insufficient columns: ['#newcoinlisting #crypto #cryptonews #cryptoAlerts #altcoins #bitcoin #blockchain #cryptocurrency #cryptotrading', \"['XT', 'AIR', 'USDT', 'newcoinlisting', 'crypto', 'cryptonews', 'cryptoAlerts', 'altcoins', 'bitcoin', 'blockchain', 'cryptocurrency', 'cryptotrading']\", 'CoinListingBot', 'False']\n",
      "Skipping row due to insufficient columns: ['👉https://t.co/XsdBPI7qf6']\n",
      "Skipping row due to insufficient columns: ['$APIX 3.32%']\n",
      "Skipping row due to insufficient columns: ['$TRADE 0.76%']\n",
      "Skipping row due to insufficient columns: ['$T 0.47%']\n",
      "Skipping row due to insufficient columns: [' #APIX #TRADE #T #crypto #cryptonews #cryptoAlerts #blockchain  #cryptotrading #cryptoprices #altcoins #bitcoin', \"['cryptocurrency', 'price', 'OKX', 'APIX', 'TRADE', 'T', 'crypto', 'cryptonews', 'cryptoAlerts', 'blockchain', 'cryptotrading', 'cryptoprices', 'altcoins', 'bitcoin']\", 'Crypto Frog', 'False']\n",
      "Skipping row due to insufficient columns: ['👉https://t.co/dwh8jR9uho']\n",
      "Skipping row due to insufficient columns: ['$HAO 3.7%']\n",
      "Skipping row due to insufficient columns: ['$SOLO 0.83%']\n",
      "Skipping row due to insufficient columns: ['$PAW 0.46%']\n",
      "Skipping row due to insufficient columns: ['$CORE 0.34%']\n",
      "Skipping row due to insufficient columns: [' #HAO #SOLO #PAW #CORE #crypto #cryptonews #cryptoAlerts #blockchain  #cryptotrading #cryptoprices #altcoins #bitcoin', \"['cryptocurrency', 'price', 'GateIo', 'HAO', 'SOLO', 'PAW', 'CORE', 'crypto', 'cryptonews', 'cryptoAlerts', 'blockchain', 'cryptotrading', 'cryptoprices', 'altcoins', 'bitcoin']\", 'Crypto Frog', 'False']\n",
      "Skipping row due to insufficient columns: ['👉https://t.co/XsdBPI7qf6']\n",
      "Skipping row due to insufficient columns: ['$LDN 3.24%']\n",
      "Skipping row due to insufficient columns: ['$PNK 1.03%']\n",
      "Skipping row due to insufficient columns: ['$DORA 0.33%']\n",
      "Skipping row due to insufficient columns: ['$REN 0.32%']\n",
      "Skipping row due to insufficient columns: [' #LDN #PNK #DORA #REN #crypto #cryptonews #cryptoAlerts #blockchain  #cryptotrading #cryptoprices #altcoins #bitcoin', \"['cryptocurrency', 'price', 'OKX', 'LDN', 'PNK', 'DORA', 'REN', 'crypto', 'cryptonews', 'cryptoAlerts', 'blockchain', 'cryptotrading', 'cryptoprices', 'altcoins', 'bitcoin']\", 'Crypto Frog', 'False']\n"
     ]
    },
    {
     "name": "stderr",
     "output_type": "stream",
     "text": [
      "Preprocessing tweets: 124858it [00:42, 2829.94it/s]"
     ]
    },
    {
     "name": "stdout",
     "output_type": "stream",
     "text": [
      "Skipping row due to insufficient columns: ['cameronschommer', 'Cambodia']\n",
      "Skipping row due to insufficient columns: ['ron_ronnie', 'Guatemala']\n",
      "Skipping row due to insufficient columns: ['👉https://t.co/dwh8jR9uho']\n",
      "Skipping row due to insufficient columns: ['$GEL 3.57%']\n",
      "Skipping row due to insufficient columns: ['$GFT 0.57%']\n",
      "Skipping row due to insufficient columns: ['$BLUR 0.57%']\n",
      "Skipping row due to insufficient columns: ['$WAVES 0.5%']\n",
      "Skipping row due to insufficient columns: ['$EOS 0.45%']\n",
      "Skipping row due to insufficient columns: [' #GEL #GFT #BLUR #WAVES #EOS #crypto #cryptonews #cryptoAlerts #blockchain  #cryptotrading #cryptoprices #altcoins #bitcoin', \"['cryptocurrency', 'price', 'GateIo', 'GEL', 'GFT', 'BLUR', 'WAVES', 'EOS', 'crypto', 'cryptonews', 'cryptoAlerts', 'blockchain', 'cryptotrading', 'cryptoprices', 'altcoins', 'bitcoin']\", 'Crypto Frog', 'False']\n",
      "Skipping row due to insufficient columns: ['👉https://t.co/XsdBPI7qf6']\n",
      "Skipping row due to insufficient columns: ['$SC 4.03%']\n",
      "Skipping row due to insufficient columns: ['$VRA 0.46%']\n",
      "Skipping row due to insufficient columns: ['$WAVES 0.46%']\n",
      "Skipping row due to insufficient columns: ['$PSTAKE 0.46%']\n",
      "Skipping row due to insufficient columns: ['$ORS 0.39%']\n",
      "Skipping row due to insufficient columns: [' #SC #VRA #WAVES #PSTAKE #ORS #crypto #cryptonews #cryptoAlerts #blockchain  #cryptotrading #cryptoprices #altcoins #bitcoin', \"['cryptocurrency', 'price', 'OKX', 'SC', 'VRA', 'WAVES', 'PSTAKE', 'ORS', 'crypto', 'cryptonews', 'cryptoAlerts', 'blockchain', 'cryptotrading', 'cryptoprices', 'altcoins', 'bitcoin']\", 'Crypto Frog', 'False']\n"
     ]
    },
    {
     "name": "stderr",
     "output_type": "stream",
     "text": [
      "Preprocessing tweets: 125424it [00:42, 2793.75it/s]"
     ]
    },
    {
     "name": "stdout",
     "output_type": "stream",
     "text": [
      "Skipping row due to insufficient columns: ['👉https://t.co/dwh8jR9uho']\n",
      "Skipping row due to insufficient columns: ['$QTC 3.93%']\n",
      "Skipping row due to insufficient columns: ['$HDV 2.24%']\n",
      "Skipping row due to insufficient columns: ['$TROY 0.48%']\n",
      "Skipping row due to insufficient columns: ['$JOE 0.43%']\n",
      "Skipping row due to insufficient columns: ['$CSPR 0.38%']\n",
      "Skipping row due to insufficient columns: [' #QTC #HDV #TROY #JOE #CSPR #crypto #cryptonews #cryptoAlerts #blockchain  #cryptotrading #cryptoprices #altcoins #bitcoin', \"['cryptocurrency', 'price', 'GateIo', 'QTC', 'HDV', 'TROY', 'JOE', 'CSPR', 'crypto', 'cryptonews', 'cryptoAlerts', 'blockchain', 'cryptotrading', 'cryptoprices', 'altcoins', 'bitcoin']\", 'Crypto Frog', 'False']\n",
      "Skipping row due to insufficient columns: ['👉https://t.co/dwh8jR9uho']\n",
      "Skipping row due to insufficient columns: ['$LGCY 3.75%']\n",
      "Skipping row due to insufficient columns: ['$SNFT 1.97%']\n",
      "Skipping row due to insufficient columns: ['$HARD 0.32%']\n",
      "Skipping row due to insufficient columns: ['$AAA 0.32%']\n",
      "Skipping row due to insufficient columns: [' #LGCY #SNFT #HARD #AAA #crypto #cryptonews #cryptoAlerts #blockchain  #cryptotrading #cryptoprices #altcoins #bitcoin', \"['cryptocurrency', 'price', 'GateIo', 'LGCY', 'SNFT', 'HARD', 'AAA', 'crypto', 'cryptonews', 'cryptoAlerts', 'blockchain', 'cryptotrading', 'cryptoprices', 'altcoins', 'bitcoin']\", 'Crypto Frog', 'False']\n"
     ]
    },
    {
     "name": "stderr",
     "output_type": "stream",
     "text": [
      "Preprocessing tweets: 126318it [00:42, 2935.14it/s]"
     ]
    },
    {
     "name": "stdout",
     "output_type": "stream",
     "text": [
      "Skipping row due to insufficient columns: ['👉https://t.co/dwh8jR9uho']\n",
      "Skipping row due to insufficient columns: ['$NOA 5%']\n",
      "Skipping row due to insufficient columns: ['$DMS 2.62%']\n",
      "Skipping row due to insufficient columns: ['$BONE 0.84%']\n",
      "Skipping row due to insufficient columns: ['$STX 0.6%']\n",
      "Skipping row due to insufficient columns: ['$BAKE 0.6%']\n",
      "Skipping row due to insufficient columns: [' #NOA #DMS #BONE #STX #BAKE #crypto #cryptonews #cryptoAlerts #blockchain  #cryptotrading #cryptoprices #altcoins #bitcoin', \"['cryptocurrency', 'price', 'GateIo', 'NOA', 'DMS', 'BONE', 'STX', 'BAKE', 'crypto', 'cryptonews', 'cryptoAlerts', 'blockchain', 'cryptotrading', 'cryptoprices', 'altcoins', 'bitcoin']\", 'Crypto Frog', 'False']\n",
      "Skipping row due to insufficient columns: ['👉https://t.co/dwh8jR9uho']\n",
      "Skipping row due to insufficient columns: ['$DMS 16.56%']\n",
      "Skipping row due to insufficient columns: ['$EGAME 0.36%']\n",
      "Skipping row due to insufficient columns: ['$POLYDOGE 0.33%']\n",
      "Skipping row due to insufficient columns: ['$BONK 0.31%']\n",
      "Skipping row due to insufficient columns: [' #DMS #EGAME #POLYDOGE #BONK #crypto #cryptonews #cryptoAlerts #blockchain  #cryptotrading #cryptoprices #altcoins #bitcoin', \"['cryptocurrency', 'price', 'GateIo', 'DMS', 'EGAME', 'POLYDOGE', 'BONK', 'crypto', 'cryptonews', 'cryptoAlerts', 'blockchain', 'cryptotrading', 'cryptoprices', 'altcoins', 'bitcoin']\", 'Crypto Frog', 'False']\n"
     ]
    },
    {
     "name": "stderr",
     "output_type": "stream",
     "text": [
      "Preprocessing tweets: 127217it [00:43, 2967.24it/s]"
     ]
    },
    {
     "name": "stdout",
     "output_type": "stream",
     "text": [
      "Skipping row due to insufficient columns: ['👉https://t.co/dwh8jR9uho']\n",
      "Skipping row due to insufficient columns: ['$EPK 5.3%']\n",
      "Skipping row due to insufficient columns: ['$FXS 0.34%']\n",
      "Skipping row due to insufficient columns: ['$BLUR 0.34%']\n",
      "Skipping row due to insufficient columns: ['$TWT 0.32%']\n",
      "Skipping row due to insufficient columns: [' #EPK #FXS #BLUR #TWT #crypto #cryptonews #cryptoAlerts #blockchain  #cryptotrading #cryptoprices #altcoins #bitcoin', \"['cryptocurrency', 'price', 'GateIo', 'EPK', 'FXS', 'BLUR', 'TWT', 'crypto', 'cryptonews', 'cryptoAlerts', 'blockchain', 'cryptotrading', 'cryptoprices', 'altcoins', 'bitcoin']\", 'Crypto Frog', 'False']\n",
      "Skipping row due to insufficient columns: ['👉https://t.co/AdJlZWUXsw']\n",
      "Skipping row due to insufficient columns: ['$SRLTY 7.72%']\n",
      "Skipping row due to insufficient columns: ['$IMGNAI 4.32%']\n",
      "Skipping row due to insufficient columns: ['$BONE 0.31%']\n",
      "Skipping row due to insufficient columns: [' #SRLTY #IMGNAI #BONE #crypto #cryptonews #cryptoAlerts #blockchain  #cryptotrading #cryptoprices #altcoins #bitcoin', \"['cryptocurrency', 'price', 'MEXC', 'SRLTY', 'IMGNAI', 'BONE', 'crypto', 'cryptonews', 'cryptoAlerts', 'blockchain', 'cryptotrading', 'cryptoprices', 'altcoins', 'bitcoin']\", 'Crypto Frog', 'False']\n",
      "Skipping row due to insufficient columns: ['caaynee', 'Kyrgyzstan']\n"
     ]
    },
    {
     "name": "stderr",
     "output_type": "stream",
     "text": [
      "Preprocessing tweets: 128419it [00:43, 2960.82it/s]"
     ]
    },
    {
     "name": "stdout",
     "output_type": "stream",
     "text": [
      "Skipping row due to insufficient columns: ['mattnormann', 'Liberia']\n",
      "Skipping row due to insufficient columns: ['omer5637', 'Japan']\n",
      "Skipping row due to insufficient columns: ['gageashland', 'Jordan']\n",
      "Skipping row due to insufficient columns: ['Coin: $SBDEX']\n",
      "Skipping row due to insufficient columns: ['Pairs:']\n",
      "Skipping row due to insufficient columns: ['#SBDEX/#USDT']\n",
      "Skipping row due to insufficient columns: ['#newcoinlisting #crypto #cryptonews #cryptoAlerts #altcoins #bitcoin #blockchain #cryptocurrency #cryptotrading', \"['P2PB2B', 'SBDEX', 'USDT', 'newcoinlisting', 'crypto', 'cryptonews', 'cryptoAlerts', 'altcoins', 'bitcoin', 'blockchain', 'cryptocurrency', 'cryptotrading']\", 'CoinListingBot', 'False']\n",
      "Skipping row due to insufficient columns: ['igbinipeter', 'Grenada']\n",
      "Skipping row due to insufficient columns: ['creaturefeaturesuk2016', 'Austria']\n",
      "Skipping row due to insufficient columns: ['kevinhapes', 'Greece']\n",
      "Skipping row due to insufficient columns: ['kasen_burton', 'Congo']\n"
     ]
    },
    {
     "name": "stderr",
     "output_type": "stream",
     "text": [
      "Preprocessing tweets: 129297it [00:43, 2852.74it/s]"
     ]
    },
    {
     "name": "stdout",
     "output_type": "stream",
     "text": [
      "Skipping row due to insufficient columns: ['👉https://t.co/dwh8jR9uho']\n",
      "Skipping row due to insufficient columns: ['$GOAL 3.83%']\n",
      "Skipping row due to insufficient columns: ['$SHI 1.42%']\n",
      "Skipping row due to insufficient columns: ['$JAM 0.8%']\n",
      "Skipping row due to insufficient columns: ['$WING 0.66%']\n",
      "Skipping row due to insufficient columns: ['$ALI 0.63%']\n",
      "Skipping row due to insufficient columns: [' #GOAL #SHI #JAM #WING #ALI #crypto #cryptonews #cryptoAlerts #blockchain  #cryptotrading #cryptoprices #altcoins #bitcoin', \"['cryptocurrency', 'price', 'GateIo', 'GOAL', 'SHI', 'JAM', 'WING', 'ALI', 'crypto', 'cryptonews', 'cryptoAlerts', 'blockchain', 'cryptotrading', 'cryptoprices', 'altcoins', 'bitcoin']\", 'Crypto Frog', 'False']\n"
     ]
    },
    {
     "name": "stderr",
     "output_type": "stream",
     "text": [
      "Preprocessing tweets: 129935it [00:44, 3028.89it/s]"
     ]
    },
    {
     "name": "stdout",
     "output_type": "stream",
     "text": [
      "Skipping row due to insufficient columns: ['👉https://t.co/dwh8jR9uho']\n",
      "Skipping row due to insufficient columns: ['$BCX 3.05%']\n",
      "Skipping row due to insufficient columns: ['$FET 1.17%']\n",
      "Skipping row due to insufficient columns: ['$OCEAN 1.02%']\n",
      "Skipping row due to insufficient columns: ['$AGIX 0.89%']\n",
      "Skipping row due to insufficient columns: ['$ACH 0.83%']\n",
      "Skipping row due to insufficient columns: [' #BCX #FET #OCEAN #AGIX #ACH #crypto #cryptonews #cryptoAlerts #blockchain  #cryptotrading #cryptoprices #altcoins #bitcoin', \"['cryptocurrency', 'price', 'GateIo', 'BCX', 'FET', 'OCEAN', 'AGIX', 'ACH', 'crypto', 'cryptonews', 'cryptoAlerts', 'blockchain', 'cryptotrading', 'cryptoprices', 'altcoins', 'bitcoin']\", 'Crypto Frog', 'False']\n",
      "Skipping row due to insufficient columns: ['Coin: $AGIX']\n",
      "Skipping row due to insufficient columns: ['Pairs:']\n",
      "Skipping row due to insufficient columns: ['#AGIX/#USDT']\n",
      "Skipping row due to insufficient columns: ['#newcoinlisting #crypto #cryptonews #cryptoAlerts #altcoins #bitcoin #blockchain #cryptocurrency #cryptotrading', \"['AscendEX', 'AGIX', 'USDT', 'newcoinlisting', 'crypto', 'cryptonews', 'cryptoAlerts', 'altcoins', 'bitcoin', 'blockchain', 'cryptocurrency', 'cryptotrading']\", 'CoinListingBot', 'False']\n",
      "Skipping row due to insufficient columns: ['Coin: $INJ']\n",
      "Skipping row due to insufficient columns: ['Pairs:']\n",
      "Skipping row due to insufficient columns: ['#INJ/#USDT']\n",
      "Skipping row due to insufficient columns: ['#newcoinlisting #crypto #cryptonews #cryptoAlerts #altcoins #bitcoin #blockchain #cryptocurrency #cryptotrading', \"['AscendEX', 'INJ', 'USDT', 'newcoinlisting', 'crypto', 'cryptonews', 'cryptoAlerts', 'altcoins', 'bitcoin', 'blockchain', 'cryptocurrency', 'cryptotrading']\", 'CoinListingBot', 'False']\n",
      "Skipping row due to insufficient columns: ['Coin: $HIGH']\n",
      "Skipping row due to insufficient columns: ['Pairs:']\n",
      "Skipping row due to insufficient columns: ['#HIGH/#USDT']\n",
      "Skipping row due to insufficient columns: ['#newcoinlisting #crypto #cryptonews #cryptoAlerts #altcoins #bitcoin #blockchain #cryptocurrency #cryptotrading', \"['AscendEX', 'HIGH', 'USDT', 'newcoinlisting', 'crypto', 'cryptonews', 'cryptoAlerts', 'altcoins', 'bitcoin', 'blockchain', 'cryptocurrency', 'cryptotrading']\", 'CoinListingBot', 'False']\n",
      "Skipping row due to insufficient columns: ['Coin: $DYDX']\n",
      "Skipping row due to insufficient columns: ['Pairs:']\n",
      "Skipping row due to insufficient columns: ['#DYDX/#USDT']\n",
      "Skipping row due to insufficient columns: ['#newcoinlisting #crypto #cryptonews #cryptoAlerts #altcoins #bitcoin #blockchain #cryptocurrency #cryptotrading', \"['AscendEX', 'DYDX', 'USDT', 'newcoinlisting', 'crypto', 'cryptonews', 'cryptoAlerts', 'altcoins', 'bitcoin', 'blockchain', 'cryptocurrency', 'cryptotrading']\", 'CoinListingBot', 'False']\n",
      "Skipping row due to insufficient columns: ['👉https://t.co/dwh8jR9uho']\n",
      "Skipping row due to insufficient columns: ['$LFW 6.05%']\n",
      "Skipping row due to insufficient columns: ['$RBN 0.96%']\n",
      "Skipping row due to insufficient columns: ['$MARSH 0.68%']\n",
      "Skipping row due to insufficient columns: ['$VGX 0.52%']\n",
      "Skipping row due to insufficient columns: ['$ACH 0.48%']\n",
      "Skipping row due to insufficient columns: [' #LFW #RBN #MARSH #VGX #ACH #crypto #cryptonews #cryptoAlerts #blockchain  #cryptotrading #cryptoprices #altcoins #bitcoin', \"['cryptocurrency', 'price', 'GateIo', 'LFW', 'RBN', 'MARSH', 'VGX', 'ACH', 'crypto', 'cryptonews', 'cryptoAlerts', 'blockchain', 'cryptotrading', 'cryptoprices', 'altcoins', 'bitcoin']\", 'Crypto Frog', 'False']\n",
      "Skipping row due to insufficient columns: ['danielmeeks36', 'Hungary']\n"
     ]
    },
    {
     "name": "stderr",
     "output_type": "stream",
     "text": [
      "Preprocessing tweets: 130863it [00:44, 3024.56it/s]"
     ]
    },
    {
     "name": "stdout",
     "output_type": "stream",
     "text": [
      "Skipping row due to insufficient columns: ['👉https://t.co/XsdBPI7qf6']\n",
      "Skipping row due to insufficient columns: ['$CGL 3.18%']\n",
      "Skipping row due to insufficient columns: ['$GALFT 0.74%']\n",
      "Skipping row due to insufficient columns: ['$ANC 0.42%']\n",
      "Skipping row due to insufficient columns: ['$SLP 0.33%']\n",
      "Skipping row due to insufficient columns: ['$VELO 0.33%']\n",
      "Skipping row due to insufficient columns: [' #CGL #GALFT #ANC #SLP #VELO #crypto #cryptonews #cryptoAlerts #blockchain  #cryptotrading #cryptoprices #altcoins #bitcoin', \"['cryptocurrency', 'price', 'OKX', 'CGL', 'GALFT', 'ANC', 'SLP', 'VELO', 'crypto', 'cryptonews', 'cryptoAlerts', 'blockchain', 'cryptotrading', 'cryptoprices', 'altcoins', 'bitcoin']\", 'Crypto Frog', 'False']\n",
      "Skipping row due to insufficient columns: ['👉https://t.co/XsdBPI7qf6']\n",
      "Skipping row due to insufficient columns: ['$LET 7.69%']\n",
      "Skipping row due to insufficient columns: ['$NYM 1.25%']\n",
      "Skipping row due to insufficient columns: ['$PNK 1.04%']\n",
      "Skipping row due to insufficient columns: ['$FITFI 0.5%']\n",
      "Skipping row due to insufficient columns: ['$CEL 0.5%']\n",
      "Skipping row due to insufficient columns: [' #LET #NYM #PNK #FITFI #CEL #crypto #cryptonews #cryptoAlerts #blockchain  #cryptotrading #cryptoprices #altcoins #bitcoin', \"['cryptocurrency', 'price', 'OKX', 'LET', 'NYM', 'PNK', 'FITFI', 'CEL', 'crypto', 'cryptonews', 'cryptoAlerts', 'blockchain', 'cryptotrading', 'cryptoprices', 'altcoins', 'bitcoin']\", 'Crypto Frog', 'False']\n",
      "Skipping row due to insufficient columns: ['👉https://t.co/dwh8jR9uho']\n",
      "Skipping row due to insufficient columns: ['$VRT 4.1%']\n",
      "Skipping row due to insufficient columns: ['$STBU 2.21%']\n",
      "Skipping row due to insufficient columns: ['$SAMO 1.1%']\n",
      "Skipping row due to insufficient columns: ['$ACA 0.63%']\n",
      "Skipping row due to insufficient columns: ['$ENJ 0.52%']\n",
      "Skipping row due to insufficient columns: [' #VRT #STBU #SAMO #ACA #ENJ #crypto #cryptonews #cryptoAlerts #blockchain  #cryptotrading #cryptoprices #altcoins #bitcoin', \"['cryptocurrency', 'price', 'GateIo', 'VRT', 'STBU', 'SAMO', 'ACA', 'ENJ', 'crypto', 'cryptonews', 'cryptoAlerts', 'blockchain', 'cryptotrading', 'cryptoprices', 'altcoins', 'bitcoin']\", 'Crypto Frog', 'False']\n"
     ]
    },
    {
     "name": "stderr",
     "output_type": "stream",
     "text": [
      "Preprocessing tweets: 131769it [00:44, 2917.43it/s]"
     ]
    },
    {
     "name": "stdout",
     "output_type": "stream",
     "text": [
      "Skipping row due to insufficient columns: ['👉https://t.co/dwh8jR9uho']\n",
      "Skipping row due to insufficient columns: ['$LARIX 3.47%']\n",
      "Skipping row due to insufficient columns: ['$TWT 0.5%']\n",
      "Skipping row due to insufficient columns: ['$MBL 0.46%']\n",
      "Skipping row due to insufficient columns: ['$BLUR 0.46%']\n",
      "Skipping row due to insufficient columns: ['$KDA 0.45%']\n",
      "Skipping row due to insufficient columns: [' #LARIX #TWT #MBL #BLUR #KDA #crypto #cryptonews #cryptoAlerts #blockchain  #cryptotrading #cryptoprices #altcoins #bitcoin', \"['cryptocurrency', 'price', 'GateIo', 'LARIX', 'TWT', 'MBL', 'BLUR', 'KDA', 'crypto', 'cryptonews', 'cryptoAlerts', 'blockchain', 'cryptotrading', 'cryptoprices', 'altcoins', 'bitcoin']\", 'Crypto Frog', 'False']\n",
      "Skipping row due to insufficient columns: ['👉https://t.co/dwh8jR9uho']\n",
      "Skipping row due to insufficient columns: ['$DIO 3.38%']\n",
      "Skipping row due to insufficient columns: ['$LQTY 1.06%']\n",
      "Skipping row due to insufficient columns: ['$TWT 0.77%']\n",
      "Skipping row due to insufficient columns: ['$XDB 0.68%']\n",
      "Skipping row due to insufficient columns: ['$HSC 0.68%']\n",
      "Skipping row due to insufficient columns: [' #DIO #LQTY #TWT #XDB #HSC #crypto #cryptonews #cryptoAlerts #blockchain  #cryptotrading #cryptoprices #altcoins #bitcoin', \"['cryptocurrency', 'price', 'GateIo', 'DIO', 'LQTY', 'TWT', 'XDB', 'HSC', 'crypto', 'cryptonews', 'cryptoAlerts', 'blockchain', 'cryptotrading', 'cryptoprices', 'altcoins', 'bitcoin']\", 'Crypto Frog', 'False']\n"
     ]
    },
    {
     "name": "stderr",
     "output_type": "stream",
     "text": [
      "Preprocessing tweets: 132392it [00:44, 3014.31it/s]"
     ]
    },
    {
     "name": "stdout",
     "output_type": "stream",
     "text": [
      "Skipping row due to insufficient columns: ['👉https://t.co/XsdBPI7qf6']\n",
      "Skipping row due to insufficient columns: ['$YOU 3.4%']\n",
      "Skipping row due to insufficient columns: ['$MXC 1.96%']\n",
      "Skipping row due to insufficient columns: ['$ORS 1.91%']\n",
      "Skipping row due to insufficient columns: ['$ANW 0.77%']\n",
      "Skipping row due to insufficient columns: ['$RFUEL 0.5%']\n",
      "Skipping row due to insufficient columns: [' #YOU #MXC #ORS #ANW #RFUEL #crypto #cryptonews #cryptoAlerts #blockchain  #cryptotrading #cryptoprices #altcoins #bitcoin', \"['cryptocurrency', 'price', 'OKX', 'YOU', 'MXC', 'ORS', 'ANW', 'RFUEL', 'crypto', 'cryptonews', 'cryptoAlerts', 'blockchain', 'cryptotrading', 'cryptoprices', 'altcoins', 'bitcoin']\", 'Crypto Frog', 'False']\n",
      "Skipping row due to insufficient columns: ['👉https://t.co/XsdBPI7qf6']\n",
      "Skipping row due to insufficient columns: ['$LDN 3.82%']\n",
      "Skipping row due to insufficient columns: ['$PNK 1.03%']\n",
      "Skipping row due to insufficient columns: ['$ALPHA 0.67%']\n",
      "Skipping row due to insufficient columns: ['$LAT 0.47%']\n",
      "Skipping row due to insufficient columns: ['$ANC 0.43%']\n",
      "Skipping row due to insufficient columns: [' #LDN #PNK #ALPHA #LAT #ANC #crypto #cryptonews #cryptoAlerts #blockchain  #cryptotrading #cryptoprices #altcoins #bitcoin', \"['cryptocurrency', 'price', 'OKX', 'LDN', 'PNK', 'ALPHA', 'LAT', 'ANC', 'crypto', 'cryptonews', 'cryptoAlerts', 'blockchain', 'cryptotrading', 'cryptoprices', 'altcoins', 'bitcoin']\", 'Crypto Frog', 'False']\n",
      "Skipping row due to insufficient columns: ['👉https://t.co/XsdBPI7qf6']\n",
      "Skipping row due to insufficient columns: ['$LOON 8.39%']\n",
      "Skipping row due to insufficient columns: ['$ANW 7.28%']\n",
      "Skipping row due to insufficient columns: ['$IMX 2.51%']\n",
      "Skipping row due to insufficient columns: ['$DORA 1.07%']\n",
      "Skipping row due to insufficient columns: ['$PNK 0.68%']\n",
      "Skipping row due to insufficient columns: [' #LOON #ANW #IMX #DORA #PNK #crypto #cryptonews #cryptoAlerts #blockchain  #cryptotrading #cryptoprices #altcoins #bitcoin', \"['cryptocurrency', 'price', 'OKX', 'LOON', 'ANW', 'IMX', 'DORA', 'PNK', 'crypto', 'cryptonews', 'cryptoAlerts', 'blockchain', 'cryptotrading', 'cryptoprices', 'altcoins', 'bitcoin']\", 'Crypto Frog', 'False']\n",
      "Skipping row due to insufficient columns: ['👉https://t.co/dwh8jR9uho']\n",
      "Skipping row due to insufficient columns: ['$COMBO 4.26%']\n",
      "Skipping row due to insufficient columns: ['$LQTY 3.23%']\n",
      "Skipping row due to insufficient columns: ['$SGB 1%']\n",
      "Skipping row due to insufficient columns: ['$HIGH 0.69%']\n",
      "Skipping row due to insufficient columns: ['$SCY 0.48%']\n",
      "Skipping row due to insufficient columns: [' #COMBO #LQTY #SGB #HIGH #SCY #crypto #cryptonews #cryptoAlerts #blockchain  #cryptotrading #cryptoprices #altcoins #bitcoin', \"['cryptocurrency', 'price', 'GateIo', 'COMBO', 'LQTY', 'SGB', 'HIGH', 'SCY', 'crypto', 'cryptonews', 'cryptoAlerts', 'blockchain', 'cryptotrading', 'cryptoprices', 'altcoins', 'bitcoin']\", 'Crypto Frog', 'False']\n",
      "Skipping row due to insufficient columns: ['👉https://t.co/dwh8jR9uho']\n",
      "Skipping row due to insufficient columns: ['$AM 7.26%']\n",
      "Skipping row due to insufficient columns: ['$PAW 1%']\n",
      "Skipping row due to insufficient columns: ['$CRPT 0.91%']\n",
      "Skipping row due to insufficient columns: ['$BSV 0.79%']\n",
      "Skipping row due to insufficient columns: ['$DAO 0.74%']\n",
      "Skipping row due to insufficient columns: [' #AM #PAW #CRPT #BSV #DAO #crypto #cryptonews #cryptoAlerts #blockchain  #cryptotrading #cryptoprices #altcoins #bitcoin', \"['cryptocurrency', 'price', 'GateIo', 'AM', 'PAW', 'CRPT', 'BSV', 'DAO', 'crypto', 'cryptonews', 'cryptoAlerts', 'blockchain', 'cryptotrading', 'cryptoprices', 'altcoins', 'bitcoin']\", 'Crypto Frog', 'False']\n",
      "Skipping row due to insufficient columns: ['👉https://t.co/XsdBPI7qf6']\n",
      "Skipping row due to insufficient columns: ['$MXC 3.38%']\n",
      "Skipping row due to insufficient columns: ['$FAME 0.46%']\n",
      "Skipping row due to insufficient columns: ['$RIO 0.36%']\n",
      "Skipping row due to insufficient columns: ['$DORA 0.35%']\n",
      "Skipping row due to insufficient columns: ['$CSPR 0.31%']\n",
      "Skipping row due to insufficient columns: [' #MXC #FAME #RIO #DORA #CSPR #crypto #cryptonews #cryptoAlerts #blockchain  #cryptotrading #cryptoprices #altcoins #bitcoin', \"['cryptocurrency', 'price', 'OKX', 'MXC', 'FAME', 'RIO', 'DORA', 'CSPR', 'crypto', 'cryptonews', 'cryptoAlerts', 'blockchain', 'cryptotrading', 'cryptoprices', 'altcoins', 'bitcoin']\", 'Crypto Frog', 'False']\n",
      "Skipping row due to insufficient columns: ['👉https://t.co/AdJlZWUXsw']\n",
      "Skipping row due to insufficient columns: ['$GHD 11%']\n",
      "Skipping row due to insufficient columns: ['$ICB 0.71%']\n",
      "Skipping row due to insufficient columns: ['$KAS 0.5%']\n",
      "Skipping row due to insufficient columns: [' #GHD #ICB #KAS #crypto #cryptonews #cryptoAlerts #blockchain  #cryptotrading #cryptoprices #altcoins #bitcoin', \"['cryptocurrency', 'price', 'MEXC', 'GHD', 'ICB', 'KAS', 'crypto', 'cryptonews', 'cryptoAlerts', 'blockchain', 'cryptotrading', 'cryptoprices', 'altcoins', 'bitcoin']\", 'Crypto Frog', 'False']\n",
      "Skipping row due to insufficient columns: ['Coin: $ECLAT']\n",
      "Skipping row due to insufficient columns: ['Pairs:']\n",
      "Skipping row due to insufficient columns: ['#ECLAT/#USDT']\n",
      "Skipping row due to insufficient columns: ['#newcoinlisting #crypto #cryptonews #cryptoAlerts #altcoins #bitcoin #blockchain #cryptocurrency #cryptotrading', \"['Coinsbit', 'ECLAT', 'USDT', 'newcoinlisting', 'crypto', 'cryptonews', 'cryptoAlerts', 'altcoins', 'bitcoin', 'blockchain', 'cryptocurrency', 'cryptotrading']\", 'CoinListingBot', 'False']\n",
      "Skipping row due to insufficient columns: ['👉https://t.co/dwh8jR9uho']\n",
      "Skipping row due to insufficient columns: ['$IMPT 5.81%']\n",
      "Skipping row due to insufficient columns: ['$HDV 3.02%']\n",
      "Skipping row due to insufficient columns: ['$CRPT 0.79%']\n",
      "Skipping row due to insufficient columns: ['$ZBC 0.67%']\n",
      "Skipping row due to insufficient columns: ['$EMON 0.59%']\n",
      "Skipping row due to insufficient columns: [' #IMPT #HDV #CRPT #ZBC #EMON #crypto #cryptonews #cryptoAlerts #blockchain  #cryptotrading #cryptoprices #altcoins #bitcoin', \"['cryptocurrency', 'price', 'GateIo', 'IMPT', 'HDV', 'CRPT', 'ZBC', 'EMON', 'crypto', 'cryptonews', 'cryptoAlerts', 'blockchain', 'cryptotrading', 'cryptoprices', 'altcoins', 'bitcoin']\", 'Crypto Frog', 'False']\n",
      "Skipping row due to insufficient columns: ['Coin: $WFDP']\n",
      "Skipping row due to insufficient columns: ['Pairs:']\n",
      "Skipping row due to insufficient columns: ['#WFDP/#TRX']\n",
      "Skipping row due to insufficient columns: ['#newcoinlisting #crypto #cryptonews #cryptoAlerts #altcoins #bitcoin #blockchain #cryptocurrency #cryptotrading', \"['DexTrade', 'WFDP', 'TRX', 'newcoinlisting', 'crypto', 'cryptonews', 'cryptoAlerts', 'altcoins', 'bitcoin', 'blockchain', 'cryptocurrency', 'cryptotrading']\", 'CoinListingBot', 'False']\n",
      "Skipping row due to insufficient columns: ['nasandy', 'Egypt']\n",
      "Skipping row due to insufficient columns: ['Coin: $LEXE']\n",
      "Skipping row due to insufficient columns: ['Pairs:']\n",
      "Skipping row due to insufficient columns: ['#LEXE/#USDT']\n",
      "Skipping row due to insufficient columns: ['#newcoinlisting #crypto #cryptonews #cryptoAlerts #altcoins #bitcoin #blockchain #cryptocurrency #cryptotrading', \"['P2PB2B', 'LEXE', 'USDT', 'newcoinlisting', 'crypto', 'cryptonews', 'cryptoAlerts', 'altcoins', 'bitcoin', 'blockchain', 'cryptocurrency', 'cryptotrading']\", 'CoinListingBot', 'False']\n",
      "Skipping row due to insufficient columns: ['👉https://t.co/dwh8jR9uho']\n",
      "Skipping row due to insufficient columns: ['$COREUM 3.91%']\n",
      "Skipping row due to insufficient columns: ['$RBN 1.25%']\n",
      "Skipping row due to insufficient columns: ['$TROY 0.5%']\n",
      "Skipping row due to insufficient columns: ['$KIN 0.45%']\n",
      "Skipping row due to insufficient columns: ['$XCN 0.4%']\n",
      "Skipping row due to insufficient columns: [' #COREUM #RBN #TROY #KIN #XCN #crypto #cryptonews #cryptoAlerts #blockchain  #cryptotrading #cryptoprices #altcoins #bitcoin', \"['cryptocurrency', 'price', 'GateIo', 'COREUM', 'RBN', 'TROY', 'KIN', 'XCN', 'crypto', 'cryptonews', 'cryptoAlerts', 'blockchain', 'cryptotrading', 'cryptoprices', 'altcoins', 'bitcoin']\", 'Crypto Frog', 'False']\n"
     ]
    },
    {
     "name": "stderr",
     "output_type": "stream",
     "text": [
      "Preprocessing tweets: 132999it [00:45, 2997.49it/s]"
     ]
    },
    {
     "name": "stdout",
     "output_type": "stream",
     "text": [
      "Skipping row due to insufficient columns: ['👉https://t.co/dwh8jR9uho']\n",
      "Skipping row due to insufficient columns: ['$COREUM 3.86%']\n",
      "Skipping row due to insufficient columns: ['$MV 2.25%']\n",
      "Skipping row due to insufficient columns: ['$XTZ 0.68%']\n",
      "Skipping row due to insufficient columns: ['$ZKS 0.57%']\n",
      "Skipping row due to insufficient columns: ['$KNOT 0.56%']\n",
      "Skipping row due to insufficient columns: [' #COREUM #MV #XTZ #ZKS #KNOT #crypto #cryptonews #cryptoAlerts #blockchain  #cryptotrading #cryptoprices #altcoins #bitcoin', \"['cryptocurrency', 'price', 'GateIo', 'COREUM', 'MV', 'XTZ', 'ZKS', 'KNOT', 'crypto', 'cryptonews', 'cryptoAlerts', 'blockchain', 'cryptotrading', 'cryptoprices', 'altcoins', 'bitcoin']\", 'Crypto Frog', 'False']\n",
      "Skipping row due to insufficient columns: ['daisy_torres777', 'Hungary']\n",
      "Skipping row due to insufficient columns: ['aymeric_solesse', 'Bhutan']\n",
      "Skipping row due to insufficient columns: ['👉https://t.co/dwh8jRa26W']\n",
      "Skipping row due to insufficient columns: ['$GOAL 3.31%']\n",
      "Skipping row due to insufficient columns: ['$LINA 1.68%']\n",
      "Skipping row due to insufficient columns: ['$ACS 0.87%']\n",
      "Skipping row due to insufficient columns: ['$NEO 0.43%']\n",
      "Skipping row due to insufficient columns: ['$CRPT 0.43%']\n",
      "Skipping row due to insufficient columns: [' #GOAL #LINA #ACS #NEO #CRPT #crypto #cryptonews #cryptoAlerts #blockchain  #cryptotrading #cryptoprices #altcoins #bitcoin', \"['cryptocurrency', 'price', 'GateIo', 'GOAL', 'LINA', 'ACS', 'NEO', 'CRPT', 'crypto', 'cryptonews', 'cryptoAlerts', 'blockchain', 'cryptotrading', 'cryptoprices', 'altcoins', 'bitcoin']\", 'Crypto Frog', 'False']\n",
      "Skipping row due to insufficient columns: ['lohann_gtr', 'Moldova']\n",
      "Skipping row due to insufficient columns: ['Coin: $EMP']\n",
      "Skipping row due to insufficient columns: ['Pairs:']\n",
      "Skipping row due to insufficient columns: ['#EMP/#USDT']\n",
      "Skipping row due to insufficient columns: ['#newcoinlisting #crypto #cryptonews #cryptoAlerts #altcoins #bitcoin #blockchain #cryptocurrency #cryptotrading', \"['Coinsbit', 'EMP', 'USDT', 'newcoinlisting', 'crypto', 'cryptonews', 'cryptoAlerts', 'altcoins', 'bitcoin', 'blockchain', 'cryptocurrency', 'cryptotrading']\", 'CoinListingBot', 'False']\n",
      "Skipping row due to insufficient columns: ['👉https://t.co/XsdBPI7qf6']\n",
      "Skipping row due to insufficient columns: ['$LDN 3.24%']\n",
      "Skipping row due to insufficient columns: ['$ANC 1.27%']\n",
      "Skipping row due to insufficient columns: ['$SD 0.99%']\n",
      "Skipping row due to insufficient columns: ['$GF 0.54%']\n",
      "Skipping row due to insufficient columns: ['$CONV 0.46%']\n",
      "Skipping row due to insufficient columns: [' #LDN #ANC #SD #GF #CONV #crypto #cryptonews #cryptoAlerts #blockchain  #cryptotrading #cryptoprices #altcoins #bitcoin', \"['cryptocurrency', 'price', 'OKX', 'LDN', 'ANC', 'SD', 'GF', 'CONV', 'crypto', 'cryptonews', 'cryptoAlerts', 'blockchain', 'cryptotrading', 'cryptoprices', 'altcoins', 'bitcoin']\", 'Crypto Frog', 'False']\n",
      "Skipping row due to insufficient columns: ['Coin: $WFDP']\n",
      "Skipping row due to insufficient columns: ['Pairs:']\n",
      "Skipping row due to insufficient columns: ['#WFDP/#USDT']\n",
      "Skipping row due to insufficient columns: ['#newcoinlisting #crypto #cryptonews #cryptoAlerts #altcoins #bitcoin #blockchain #cryptocurrency #cryptotrading', \"['DexTrade', 'WFDP', 'USDT', 'newcoinlisting', 'crypto', 'cryptonews', 'cryptoAlerts', 'altcoins', 'bitcoin', 'blockchain', 'cryptocurrency', 'cryptotrading']\", 'CoinListingBot', 'False']\n"
     ]
    },
    {
     "name": "stderr",
     "output_type": "stream",
     "text": [
      "Preprocessing tweets: 133921it [00:45, 2983.43it/s]"
     ]
    },
    {
     "name": "stdout",
     "output_type": "stream",
     "text": [
      "Skipping row due to insufficient columns: ['👉https://t.co/XsdBPI7qf6']\n",
      "Skipping row due to insufficient columns: ['$GOAL 4.65%']\n",
      "Skipping row due to insufficient columns: ['$VSYS 1.59%']\n",
      "Skipping row due to insufficient columns: ['$NAS 0.93%']\n",
      "Skipping row due to insufficient columns: ['$GM 0.91%']\n",
      "Skipping row due to insufficient columns: ['$MDT 0.34%']\n",
      "Skipping row due to insufficient columns: [' #GOAL #VSYS #NAS #GM #MDT #crypto #cryptonews #cryptoAlerts #blockchain  #cryptotrading #cryptoprices #altcoins #bitcoin', \"['cryptocurrency', 'price', 'OKX', 'GOAL', 'VSYS', 'NAS', 'GM', 'MDT', 'crypto', 'cryptonews', 'cryptoAlerts', 'blockchain', 'cryptotrading', 'cryptoprices', 'altcoins', 'bitcoin']\", 'Crypto Frog', 'False']\n",
      "Skipping row due to insufficient columns: ['👉https://t.co/dwh8jR9uho']\n",
      "Skipping row due to insufficient columns: ['$GOAL 8.09%']\n",
      "Skipping row due to insufficient columns: ['$ADS 0.73%']\n",
      "Skipping row due to insufficient columns: ['$EGAME 0.58%']\n",
      "Skipping row due to insufficient columns: ['$FIS 0.57%']\n",
      "Skipping row due to insufficient columns: ['$CKB 0.57%']\n",
      "Skipping row due to insufficient columns: [' #GOAL #ADS #EGAME #FIS #CKB #crypto #cryptonews #cryptoAlerts #blockchain  #cryptotrading #cryptoprices #altcoins #bitcoin', \"['cryptocurrency', 'price', 'GateIo', 'GOAL', 'ADS', 'EGAME', 'FIS', 'CKB', 'crypto', 'cryptonews', 'cryptoAlerts', 'blockchain', 'cryptotrading', 'cryptoprices', 'altcoins', 'bitcoin']\", 'Crypto Frog', 'False']\n",
      "Skipping row due to insufficient columns: ['👉https://t.co/XsdBPI7qf6']\n",
      "Skipping row due to insufficient columns: ['$GOAL 5.89%']\n",
      "Skipping row due to insufficient columns: ['$OP 0.5%']\n",
      "Skipping row due to insufficient columns: ['$DORA 0.41%']\n",
      "Skipping row due to insufficient columns: [' #GOAL #OP #DORA #crypto #cryptonews #cryptoAlerts #blockchain  #cryptotrading #cryptoprices #altcoins #bitcoin', \"['cryptocurrency', 'price', 'OKX', 'GOAL', 'OP', 'DORA', 'crypto', 'cryptonews', 'cryptoAlerts', 'blockchain', 'cryptotrading', 'cryptoprices', 'altcoins', 'bitcoin']\", 'Crypto Frog', 'False']\n",
      "Skipping row due to insufficient columns: ['👉https://t.co/YFfSerrmK2']\n",
      "Skipping row due to insufficient columns: ['$FOR 3.11%']\n",
      "Skipping row due to insufficient columns: ['$AMP 0.45%']\n",
      "Skipping row due to insufficient columns: ['$PBR 0.44%']\n",
      "Skipping row due to insufficient columns: ['$FIS 0.39%']\n",
      "Skipping row due to insufficient columns: [' #FOR #AMP #PBR #FIS #crypto #cryptonews #cryptoAlerts #blockchain  #cryptotrading #cryptoprices #altcoins #bitcoin', \"['cryptocurrency', 'price', 'Huobi', 'FOR', 'AMP', 'PBR', 'FIS', 'crypto', 'cryptonews', 'cryptoAlerts', 'blockchain', 'cryptotrading', 'cryptoprices', 'altcoins', 'bitcoin']\", 'Crypto Frog', 'False']\n",
      "Skipping row due to insufficient columns: ['👉https://t.co/dwh8jR9uho']\n",
      "Skipping row due to insufficient columns: ['$FNZ 4.65%']\n",
      "Skipping row due to insufficient columns: ['$STX 0.74%']\n",
      "Skipping row due to insufficient columns: ['$LQTY 0.72%']\n",
      "Skipping row due to insufficient columns: ['$FXS 0.49%']\n",
      "Skipping row due to insufficient columns: ['$ZEN 0.44%']\n",
      "Skipping row due to insufficient columns: [' #FNZ #STX #LQTY #FXS #ZEN #crypto #cryptonews #cryptoAlerts #blockchain  #cryptotrading #cryptoprices #altcoins #bitcoin', \"['cryptocurrency', 'price', 'GateIo', 'FNZ', 'STX', 'LQTY', 'FXS', 'ZEN', 'crypto', 'cryptonews', 'cryptoAlerts', 'blockchain', 'cryptotrading', 'cryptoprices', 'altcoins', 'bitcoin']\", 'Crypto Frog', 'False']\n",
      "Skipping row due to insufficient columns: ['Coin: $OMMI']\n",
      "Skipping row due to insufficient columns: ['Pairs:']\n",
      "Skipping row due to insufficient columns: ['#OMMI/#USDT']\n",
      "Skipping row due to insufficient columns: ['#newcoinlisting #crypto #cryptonews #cryptoAlerts #altcoins #bitcoin #blockchain #cryptocurrency #cryptotrading', \"['BitMart', 'OMMI', 'USDT', 'newcoinlisting', 'crypto', 'cryptonews', 'cryptoAlerts', 'altcoins', 'bitcoin', 'blockchain', 'cryptocurrency', 'cryptotrading']\", 'CoinListingBot', 'False']\n",
      "Skipping row due to insufficient columns: ['👉https://t.co/dwh8jR9uho']\n",
      "Skipping row due to insufficient columns: ['$THN 5.05%']\n",
      "Skipping row due to insufficient columns: ['$GOAL 3.69%']\n",
      "Skipping row due to insufficient columns: ['$KEY 1.08%']\n",
      "Skipping row due to insufficient columns: ['$GST 0.96%']\n",
      "Skipping row due to insufficient columns: ['$ALI 0.72%']\n",
      "Skipping row due to insufficient columns: [' #THN #GOAL #KEY #GST #ALI #crypto #cryptonews #cryptoAlerts #blockchain  #cryptotrading #cryptoprices #altcoins #bitcoin', \"['cryptocurrency', 'price', 'GateIo', 'THN', 'GOAL', 'KEY', 'GST', 'ALI', 'crypto', 'cryptonews', 'cryptoAlerts', 'blockchain', 'cryptotrading', 'cryptoprices', 'altcoins', 'bitcoin']\", 'Crypto Frog', 'False']\n"
     ]
    },
    {
     "name": "stderr",
     "output_type": "stream",
     "text": [
      "Preprocessing tweets: 134514it [00:45, 2912.68it/s]"
     ]
    },
    {
     "name": "stdout",
     "output_type": "stream",
     "text": [
      "Skipping row due to insufficient columns: ['👉https://t.co/dwh8jR9uho']\n",
      "Skipping row due to insufficient columns: ['$COREUM 4.39%']\n",
      "Skipping row due to insufficient columns: ['$FIS 0.53%']\n",
      "Skipping row due to insufficient columns: ['$CBK 0.51%']\n",
      "Skipping row due to insufficient columns: ['$DYP 0.47%']\n",
      "Skipping row due to insufficient columns: ['$DC 0.4%']\n",
      "Skipping row due to insufficient columns: [' #COREUM #FIS #CBK #DYP #DC #crypto #cryptonews #cryptoAlerts #blockchain  #cryptotrading #cryptoprices #altcoins #bitcoin', \"['cryptocurrency', 'price', 'GateIo', 'COREUM', 'FIS', 'CBK', 'DYP', 'DC', 'crypto', 'cryptonews', 'cryptoAlerts', 'blockchain', 'cryptotrading', 'cryptoprices', 'altcoins', 'bitcoin']\", 'Crypto Frog', 'False']\n",
      "Skipping row due to insufficient columns: ['Coin: $METAWIN']\n",
      "Skipping row due to insufficient columns: ['Pairs:']\n",
      "Skipping row due to insufficient columns: ['#METAWIN/#USDT']\n",
      "Skipping row due to insufficient columns: ['#newcoinlisting #crypto #cryptonews #cryptoAlerts #altcoins #bitcoin #blockchain #cryptocurrency #cryptotrading', \"['DexTrade', 'METAWIN', 'USDT', 'newcoinlisting', 'crypto', 'cryptonews', 'cryptoAlerts', 'altcoins', 'bitcoin', 'blockchain', 'cryptocurrency', 'cryptotrading']\", 'CoinListingBot', 'False']\n",
      "Skipping row due to insufficient columns: ['👉https://t.co/dwh8jR9uho']\n",
      "Skipping row due to insufficient columns: ['$SHOE 5.97%']\n",
      "Skipping row due to insufficient columns: ['$EMON 1.16%']\n",
      "Skipping row due to insufficient columns: ['$TNC 0.48%']\n",
      "Skipping row due to insufficient columns: ['$DENT 0.45%']\n",
      "Skipping row due to insufficient columns: ['$PNT 0.45%']\n",
      "Skipping row due to insufficient columns: [' #SHOE #EMON #TNC #DENT #PNT #crypto #cryptonews #cryptoAlerts #blockchain  #cryptotrading #cryptoprices #altcoins #bitcoin', \"['cryptocurrency', 'price', 'GateIo', 'SHOE', 'EMON', 'TNC', 'DENT', 'PNT', 'crypto', 'cryptonews', 'cryptoAlerts', 'blockchain', 'cryptotrading', 'cryptoprices', 'altcoins', 'bitcoin']\", 'Crypto Frog', 'False']\n",
      "Skipping row due to insufficient columns: ['Coin: $CMM']\n",
      "Skipping row due to insufficient columns: ['Pairs:']\n",
      "Skipping row due to insufficient columns: ['#CMM/#USD']\n",
      "Skipping row due to insufficient columns: ['#newcoinlisting #crypto #cryptonews #cryptoAlerts #altcoins #bitcoin #blockchain #cryptocurrency #cryptotrading', \"['BitCom', 'CMM', 'USD', 'newcoinlisting', 'crypto', 'cryptonews', 'cryptoAlerts', 'altcoins', 'bitcoin', 'blockchain', 'cryptocurrency', 'cryptotrading']\", 'CoinListingBot', 'False']\n"
     ]
    },
    {
     "name": "stderr",
     "output_type": "stream",
     "text": [
      "Preprocessing tweets: 135401it [00:45, 2902.59it/s]"
     ]
    },
    {
     "name": "stdout",
     "output_type": "stream",
     "text": [
      "Skipping row due to insufficient columns: ['Coin: $ANT']\n",
      "Skipping row due to insufficient columns: ['Pairs:']\n",
      "Skipping row due to insufficient columns: ['#ANT/#USDT']\n",
      "Skipping row due to insufficient columns: ['#newcoinlisting #crypto #cryptonews #cryptoAlerts #altcoins #bitcoin #blockchain #cryptocurrency #cryptotrading', \"['DexTrade', 'ANT', 'USDT', 'newcoinlisting', 'crypto', 'cryptonews', 'cryptoAlerts', 'altcoins', 'bitcoin', 'blockchain', 'cryptocurrency', 'cryptotrading']\", 'CoinListingBot', 'False']\n"
     ]
    },
    {
     "name": "stderr",
     "output_type": "stream",
     "text": [
      "Preprocessing tweets: 136279it [00:46, 2832.44it/s]"
     ]
    },
    {
     "name": "stdout",
     "output_type": "stream",
     "text": [
      "Skipping row due to insufficient columns: ['👉https://t.co/dwh8jR9uho']\n",
      "Skipping row due to insufficient columns: ['$ALN 5.3%']\n",
      "Skipping row due to insufficient columns: ['$HELLO 1.48%']\n",
      "Skipping row due to insufficient columns: ['$KEY 1.26%']\n",
      "Skipping row due to insufficient columns: ['$VELO 0.66%']\n",
      "Skipping row due to insufficient columns: ['$SERO 0.5%']\n",
      "Skipping row due to insufficient columns: [' #ALN #HELLO #KEY #VELO #SERO #crypto #cryptonews #cryptoAlerts #blockchain  #cryptotrading #cryptoprices #altcoins #bitcoin', \"['cryptocurrency', 'price', 'GateIo', 'ALN', 'HELLO', 'KEY', 'VELO', 'SERO', 'crypto', 'cryptonews', 'cryptoAlerts', 'blockchain', 'cryptotrading', 'cryptoprices', 'altcoins', 'bitcoin']\", 'Crypto Frog', 'False']\n",
      "Skipping row due to insufficient columns: ['Coin: $1BIT']\n",
      "Skipping row due to insufficient columns: ['Pairs:']\n",
      "Skipping row due to insufficient columns: ['#1BIT/#USD']\n",
      "Skipping row due to insufficient columns: ['#newcoinlisting #crypto #cryptonews #cryptoAlerts #altcoins #bitcoin #blockchain #cryptocurrency #cryptotrading', \"['BitCom', '1BIT', 'USD', 'newcoinlisting', 'crypto', 'cryptonews', 'cryptoAlerts', 'altcoins', 'bitcoin', 'blockchain', 'cryptocurrency', 'cryptotrading']\", 'CoinListingBot', 'False']\n"
     ]
    },
    {
     "name": "stderr",
     "output_type": "stream",
     "text": [
      "Preprocessing tweets: 137145it [00:46, 2668.35it/s]"
     ]
    },
    {
     "name": "stdout",
     "output_type": "stream",
     "text": [
      "Skipping row due to insufficient columns: ['Coin: $VAI']\n",
      "Skipping row due to insufficient columns: ['Pairs:']\n",
      "Skipping row due to insufficient columns: ['#VAI/#USDT']\n",
      "Skipping row due to insufficient columns: ['#newcoinlisting #crypto #cryptonews #cryptoAlerts #altcoins #bitcoin #blockchain #cryptocurrency #cryptotrading', \"['Bitget', 'VAI', 'USDT', 'newcoinlisting', 'crypto', 'cryptonews', 'cryptoAlerts', 'altcoins', 'bitcoin', 'blockchain', 'cryptocurrency', 'cryptotrading']\", 'CoinListingBot', 'False']\n",
      "Skipping row due to insufficient columns: ['Coin: $DMCC']\n",
      "Skipping row due to insufficient columns: ['Pairs:']\n",
      "Skipping row due to insufficient columns: ['#DMCC/#USDT']\n",
      "Skipping row due to insufficient columns: ['#newcoinlisting #crypto #cryptonews #cryptoAlerts #altcoins #bitcoin #blockchain #cryptocurrency #cryptotrading', \"['LBank', 'DMCC', 'USDT', 'newcoinlisting', 'crypto', 'cryptonews', 'cryptoAlerts', 'altcoins', 'bitcoin', 'blockchain', 'cryptocurrency', 'cryptotrading']\", 'CoinListingBot', 'False']\n",
      "Skipping row due to insufficient columns: ['👉https://t.co/dwh8jR9uho']\n",
      "Skipping row due to insufficient columns: ['$LEMN 3.73%']\n",
      "Skipping row due to insufficient columns: ['$JAM 2.21%']\n",
      "Skipping row due to insufficient columns: ['$DG 1.28%']\n",
      "Skipping row due to insufficient columns: ['$IHT 0.58%']\n",
      "Skipping row due to insufficient columns: ['$GOAL 0.47%']\n",
      "Skipping row due to insufficient columns: [' #LEMN #JAM #DG #IHT #GOAL #crypto #cryptonews #cryptoAlerts #blockchain  #cryptotrading #cryptoprices #altcoins #bitcoin', \"['cryptocurrency', 'price', 'GateIo', 'LEMN', 'JAM', 'DG', 'IHT', 'GOAL', 'crypto', 'cryptonews', 'cryptoAlerts', 'blockchain', 'cryptotrading', 'cryptoprices', 'altcoins', 'bitcoin']\", 'Crypto Frog', 'False']\n",
      "Skipping row due to insufficient columns: ['Coin: $IBSC']\n",
      "Skipping row due to insufficient columns: ['Pairs:']\n",
      "Skipping row due to insufficient columns: ['#IBSC/#USDT']\n",
      "Skipping row due to insufficient columns: ['#newcoinlisting #crypto #cryptonews #cryptoAlerts #altcoins #bitcoin #blockchain #cryptocurrency #cryptotrading', \"['P2PB2B', 'IBSC', 'USDT', 'newcoinlisting', 'crypto', 'cryptonews', 'cryptoAlerts', 'altcoins', 'bitcoin', 'blockchain', 'cryptocurrency', 'cryptotrading']\", 'CoinListingBot', 'False']\n",
      "Skipping row due to insufficient columns: ['👉https://t.co/dwh8jR9uho']\n",
      "Skipping row due to insufficient columns: ['$ZLW 6.96%']\n",
      "Skipping row due to insufficient columns: ['$WAS 0.72%']\n",
      "Skipping row due to insufficient columns: ['$AKRO 0.48%']\n",
      "Skipping row due to insufficient columns: ['$BLUR 0.47%']\n",
      "Skipping row due to insufficient columns: ['$RNDR 0.44%']\n",
      "Skipping row due to insufficient columns: [' #ZLW #WAS #AKRO #BLUR #RNDR #crypto #cryptonews #cryptoAlerts #blockchain  #cryptotrading #cryptoprices #altcoins #bitcoin', \"['cryptocurrency', 'price', 'GateIo', 'ZLW', 'WAS', 'AKRO', 'BLUR', 'RNDR', 'crypto', 'cryptonews', 'cryptoAlerts', 'blockchain', 'cryptotrading', 'cryptoprices', 'altcoins', 'bitcoin']\", 'Crypto Frog', 'False']\n"
     ]
    },
    {
     "name": "stderr",
     "output_type": "stream",
     "text": [
      "Preprocessing tweets: 137759it [00:46, 2863.18it/s]"
     ]
    },
    {
     "name": "stdout",
     "output_type": "stream",
     "text": [
      "Skipping row due to insufficient columns: ['👉https://t.co/YFfSerrmK2']\n",
      "Skipping row due to insufficient columns: ['$DBC 3.72%']\n",
      "Skipping row due to insufficient columns: ['$AKRO 0.94%']\n",
      "Skipping row due to insufficient columns: ['$GF 0.87%']\n",
      "Skipping row due to insufficient columns: [' #DBC #AKRO #GF #crypto #cryptonews #cryptoAlerts #blockchain  #cryptotrading #cryptoprices #altcoins #bitcoin', \"['cryptocurrency', 'price', 'Huobi', 'DBC', 'AKRO', 'GF', 'crypto', 'cryptonews', 'cryptoAlerts', 'blockchain', 'cryptotrading', 'cryptoprices', 'altcoins', 'bitcoin']\", 'Crypto Frog', 'False']\n",
      "Skipping row due to insufficient columns: ['👉https://t.co/dwh8jR9uho']\n",
      "Skipping row due to insufficient columns: ['$MESA 3.23%']\n",
      "Skipping row due to insufficient columns: ['$INJ 0.39%']\n",
      "Skipping row due to insufficient columns: ['$TABOO 0.36%']\n",
      "Skipping row due to insufficient columns: ['$WILD 0.31%']\n",
      "Skipping row due to insufficient columns: [' #MESA #INJ #TABOO #WILD #crypto #cryptonews #cryptoAlerts #blockchain  #cryptotrading #cryptoprices #altcoins #bitcoin', \"['cryptocurrency', 'price', 'GateIo', 'MESA', 'INJ', 'TABOO', 'WILD', 'crypto', 'cryptonews', 'cryptoAlerts', 'blockchain', 'cryptotrading', 'cryptoprices', 'altcoins', 'bitcoin']\", 'Crypto Frog', 'False']\n",
      "Skipping row due to insufficient columns: ['Coin: $FLOKICEO']\n",
      "Skipping row due to insufficient columns: ['Pairs:']\n",
      "Skipping row due to insufficient columns: ['#FLOKICEO/#USDT']\n",
      "Skipping row due to insufficient columns: ['#newcoinlisting #crypto #cryptonews #cryptoAlerts #altcoins #bitcoin #blockchain #cryptocurrency #cryptotrading', \"['LBank', 'FLOKICEO', 'USDT', 'newcoinlisting', 'crypto', 'cryptonews', 'cryptoAlerts', 'altcoins', 'bitcoin', 'blockchain', 'cryptocurrency', 'cryptotrading']\", 'CoinListingBot', 'False']\n",
      "Skipping row due to insufficient columns: ['👉https://t.co/dwh8jR9uho']\n",
      "Skipping row due to insufficient columns: ['$ORO 3.57%']\n",
      "Skipping row due to insufficient columns: ['$PAW 1.34%']\n",
      "Skipping row due to insufficient columns: ['$PRT 1.32%']\n",
      "Skipping row due to insufficient columns: ['$XDB 0.71%']\n",
      "Skipping row due to insufficient columns: ['$DYP 0.63%']\n",
      "Skipping row due to insufficient columns: [' #ORO #PAW #PRT #XDB #DYP #crypto #cryptonews #cryptoAlerts #blockchain  #cryptotrading #cryptoprices #altcoins #bitcoin', \"['cryptocurrency', 'price', 'GateIo', 'ORO', 'PAW', 'PRT', 'XDB', 'DYP', 'crypto', 'cryptonews', 'cryptoAlerts', 'blockchain', 'cryptotrading', 'cryptoprices', 'altcoins', 'bitcoin']\", 'Crypto Frog', 'False']\n"
     ]
    },
    {
     "name": "stderr",
     "output_type": "stream",
     "text": [
      "Preprocessing tweets: 138666it [00:47, 2978.87it/s]"
     ]
    },
    {
     "name": "stdout",
     "output_type": "stream",
     "text": [
      "Skipping row due to insufficient columns: ['👉https://t.co/dwh8jR9uho']\n",
      "Skipping row due to insufficient columns: ['$KEY 3.19%']\n",
      "Skipping row due to insufficient columns: ['$KYL 1.15%']\n",
      "Skipping row due to insufficient columns: ['$DESO 0.85%']\n",
      "Skipping row due to insufficient columns: ['$CFX 0.57%']\n",
      "Skipping row due to insufficient columns: ['$QUICK 0.53%']\n",
      "Skipping row due to insufficient columns: [' #KEY #KYL #DESO #CFX #QUICK #crypto #cryptonews #cryptoAlerts #blockchain  #cryptotrading #cryptoprices #altcoins #bitcoin', \"['cryptocurrency', 'price', 'GateIo', 'KEY', 'KYL', 'DESO', 'CFX', 'QUICK', 'crypto', 'cryptonews', 'cryptoAlerts', 'blockchain', 'cryptotrading', 'cryptoprices', 'altcoins', 'bitcoin']\", 'Crypto Frog', 'False']\n",
      "Skipping row due to insufficient columns: ['Coin: $TERZ']\n",
      "Skipping row due to insufficient columns: ['Pairs:']\n",
      "Skipping row due to insufficient columns: ['#TERZ/#BUSD']\n",
      "Skipping row due to insufficient columns: ['#newcoinlisting #crypto #cryptonews #cryptoAlerts #altcoins #bitcoin #blockchain #cryptocurrency #cryptotrading', \"['Bilaxy', 'TERZ', 'BUSD', 'newcoinlisting', 'crypto', 'cryptonews', 'cryptoAlerts', 'altcoins', 'bitcoin', 'blockchain', 'cryptocurrency', 'cryptotrading']\", 'CoinListingBot', 'False']\n",
      "Skipping row due to insufficient columns: ['👉https://t.co/dwh8jR9uho']\n",
      "Skipping row due to insufficient columns: ['$THN 4.34%']\n",
      "Skipping row due to insufficient columns: ['$UNO 0.82%']\n",
      "Skipping row due to insufficient columns: ['$RADAR 0.54%']\n",
      "Skipping row due to insufficient columns: ['$KEY 0.5%']\n",
      "Skipping row due to insufficient columns: ['$PNT 0.48%']\n",
      "Skipping row due to insufficient columns: [' #THN #UNO #RADAR #KEY #PNT #crypto #cryptonews #cryptoAlerts #blockchain  #cryptotrading #cryptoprices #altcoins #bitcoin', \"['cryptocurrency', 'price', 'GateIo', 'THN', 'UNO', 'RADAR', 'KEY', 'PNT', 'crypto', 'cryptonews', 'cryptoAlerts', 'blockchain', 'cryptotrading', 'cryptoprices', 'altcoins', 'bitcoin']\", 'Crypto Frog', 'False']\n",
      "Skipping row due to insufficient columns: ['Coin: $AMB']\n",
      "Skipping row due to insufficient columns: ['Pairs:']\n",
      "Skipping row due to insufficient columns: ['#AMB/#USDT']\n",
      "Skipping row due to insufficient columns: ['#newcoinlisting #crypto #cryptonews #cryptoAlerts #altcoins #bitcoin #blockchain #cryptocurrency #cryptotrading', \"['CoinDCX', 'AMB', 'USDT', 'newcoinlisting', 'crypto', 'cryptonews', 'cryptoAlerts', 'altcoins', 'bitcoin', 'blockchain', 'cryptocurrency', 'cryptotrading']\", 'CoinListingBot', 'False']\n",
      "Skipping row due to insufficient columns: ['Coin: $MNTL']\n",
      "Skipping row due to insufficient columns: ['Pairs:']\n",
      "Skipping row due to insufficient columns: ['#MNTL/#USDT']\n",
      "Skipping row due to insufficient columns: ['#newcoinlisting #crypto #cryptonews #cryptoAlerts #altcoins #bitcoin #blockchain #cryptocurrency #cryptotrading', \"['Bitrue', 'MNTL', 'USDT', 'newcoinlisting', 'crypto', 'cryptonews', 'cryptoAlerts', 'altcoins', 'bitcoin', 'blockchain', 'cryptocurrency', 'cryptotrading']\", 'CoinListingBot', 'False']\n",
      "Skipping row due to insufficient columns: ['Coin: $VEUR']\n",
      "Skipping row due to insufficient columns: ['Pairs:']\n",
      "Skipping row due to insufficient columns: ['#VEUR/#USDT']\n",
      "Skipping row due to insufficient columns: ['#VEUR/#BTC']\n",
      "Skipping row due to insufficient columns: ['#VEUR/#ETH']\n",
      "Skipping row due to insufficient columns: ['#newcoinlisting #crypto #cryptonews #cryptoAlerts #altcoins #bitcoin #blockchain #cryptocurrency #cryptotrading', \"['XT', 'VEUR', 'USDT', 'VEUR', 'BTC', 'VEUR', 'ETH', 'newcoinlisting', 'crypto', 'cryptonews', 'cryptoAlerts', 'altcoins', 'bitcoin', 'blockchain', 'cryptocurrency', 'cryptotrading']\", 'CoinListingBot', 'False']\n",
      "Skipping row due to insufficient columns: ['Coin: $VCHF']\n",
      "Skipping row due to insufficient columns: ['Pairs:']\n",
      "Skipping row due to insufficient columns: ['#VCHF/#USDT']\n",
      "Skipping row due to insufficient columns: ['#VCHF/#BTC']\n",
      "Skipping row due to insufficient columns: ['#VCHF/#ETH']\n",
      "Skipping row due to insufficient columns: ['#newcoinlisting #crypto #cryptonews #cryptoAlerts #altcoins #bitcoin #blockchain #cryptocurrency #cryptotrading', \"['XT', 'VCHF', 'USDT', 'VCHF', 'BTC', 'VCHF', 'ETH', 'newcoinlisting', 'crypto', 'cryptonews', 'cryptoAlerts', 'altcoins', 'bitcoin', 'blockchain', 'cryptocurrency', 'cryptotrading']\", 'CoinListingBot', 'False']\n",
      "Skipping row due to insufficient columns: ['Coin: $EVER']\n",
      "Skipping row due to insufficient columns: ['Pairs:']\n",
      "Skipping row due to insufficient columns: ['#EVER/#USDT']\n",
      "Skipping row due to insufficient columns: ['#newcoinlisting #crypto #cryptonews #cryptoAlerts #altcoins #bitcoin #blockchain #cryptocurrency #cryptotrading', \"['Bybit', 'EVER', 'USDT', 'newcoinlisting', 'crypto', 'cryptonews', 'cryptoAlerts', 'altcoins', 'bitcoin', 'blockchain', 'cryptocurrency', 'cryptotrading']\", 'CoinListingBot', 'False']\n"
     ]
    },
    {
     "name": "stderr",
     "output_type": "stream",
     "text": [
      "Preprocessing tweets: 139558it [00:47, 2919.29it/s]"
     ]
    },
    {
     "name": "stdout",
     "output_type": "stream",
     "text": [
      "Skipping row due to insufficient columns: ['👉https://t.co/XsdBPI7qf6']\n",
      "Skipping row due to insufficient columns: ['$SUN 16.18%']\n",
      "Skipping row due to insufficient columns: ['$JST 0.98%']\n",
      "Skipping row due to insufficient columns: ['$WIN 0.52%']\n",
      "Skipping row due to insufficient columns: ['$LDN 0.43%']\n",
      "Skipping row due to insufficient columns: ['$FAIR 0.43%']\n",
      "Skipping row due to insufficient columns: [' #SUN #JST #WIN #LDN #FAIR #crypto #cryptonews #cryptoAlerts #blockchain  #cryptotrading #cryptoprices #altcoins #bitcoin', \"['cryptocurrency', 'price', 'OKX', 'SUN', 'JST', 'WIN', 'LDN', 'FAIR', 'crypto', 'cryptonews', 'cryptoAlerts', 'blockchain', 'cryptotrading', 'cryptoprices', 'altcoins', 'bitcoin']\", 'Crypto Frog', 'False']\n",
      "Skipping row due to insufficient columns: ['👉https://t.co/XsdBPI7qf6']\n",
      "Skipping row due to insufficient columns: ['$SUN 5.92%']\n",
      "Skipping row due to insufficient columns: ['$JST 0.84%']\n",
      "Skipping row due to insufficient columns: ['$LDN 0.53%']\n",
      "Skipping row due to insufficient columns: ['$REN 0.48%']\n",
      "Skipping row due to insufficient columns: ['$CMT 0.41%']\n",
      "Skipping row due to insufficient columns: [' #SUN #JST #LDN #REN #CMT #crypto #cryptonews #cryptoAlerts #blockchain  #cryptotrading #cryptoprices #altcoins #bitcoin', \"['cryptocurrency', 'price', 'OKX', 'SUN', 'JST', 'LDN', 'REN', 'CMT', 'crypto', 'cryptonews', 'cryptoAlerts', 'blockchain', 'cryptotrading', 'cryptoprices', 'altcoins', 'bitcoin']\", 'Crypto Frog', 'False']\n",
      "Skipping row due to insufficient columns: ['👉https://t.co/dwh8jR9uho']\n",
      "Skipping row due to insufficient columns: ['$PERP 4.71%']\n",
      "Skipping row due to insufficient columns: ['$MUSE 1.48%']\n",
      "Skipping row due to insufficient columns: ['$HSF 0.54%']\n",
      "Skipping row due to insufficient columns: [' #PERP #MUSE #HSF #crypto #cryptonews #cryptoAlerts #blockchain  #cryptotrading #cryptoprices #altcoins #bitcoin', \"['cryptocurrency', 'price', 'GateIo', 'PERP', 'MUSE', 'HSF', 'crypto', 'cryptonews', 'cryptoAlerts', 'blockchain', 'cryptotrading', 'cryptoprices', 'altcoins', 'bitcoin']\", 'Crypto Frog', 'False']\n",
      "Skipping row due to insufficient columns: ['Coin: $VOLT']\n",
      "Skipping row due to insufficient columns: ['Pairs:']\n",
      "Skipping row due to insufficient columns: ['#VOLT/#USDT']\n",
      "Skipping row due to insufficient columns: ['#newcoinlisting #crypto #cryptonews #cryptoAlerts #altcoins #bitcoin #blockchain #cryptocurrency #cryptotrading', \"['BingX', 'VOLT', 'USDT', 'newcoinlisting', 'crypto', 'cryptonews', 'cryptoAlerts', 'altcoins', 'bitcoin', 'blockchain', 'cryptocurrency', 'cryptotrading']\", 'CoinListingBot', 'False']\n",
      "Skipping row due to insufficient columns: ['Coin: $XMP']\n",
      "Skipping row due to insufficient columns: ['Pairs:']\n",
      "Skipping row due to insufficient columns: ['#XMP/#USDT']\n",
      "Skipping row due to insufficient columns: ['#newcoinlisting #crypto #cryptonews #cryptoAlerts #altcoins #bitcoin #blockchain #cryptocurrency #cryptotrading', \"['Digifinex', 'XMP', 'USDT', 'newcoinlisting', 'crypto', 'cryptonews', 'cryptoAlerts', 'altcoins', 'bitcoin', 'blockchain', 'cryptocurrency', 'cryptotrading']\", 'CoinListingBot', 'False']\n",
      "Skipping row due to insufficient columns: ['👉https://t.co/dwh8jR9uho']\n",
      "Skipping row due to insufficient columns: ['$ORO 3.16%']\n",
      "Skipping row due to insufficient columns: ['$EMON 0.89%']\n",
      "Skipping row due to insufficient columns: ['$BNX 0.73%']\n",
      "Skipping row due to insufficient columns: ['$FITFI 0.54%']\n",
      "Skipping row due to insufficient columns: ['$ERG 0.49%']\n",
      "Skipping row due to insufficient columns: [' #ORO #EMON #BNX #FITFI #ERG #crypto #cryptonews #cryptoAlerts #blockchain  #cryptotrading #cryptoprices #altcoins #bitcoin', \"['cryptocurrency', 'price', 'GateIo', 'ORO', 'EMON', 'BNX', 'FITFI', 'ERG', 'crypto', 'cryptonews', 'cryptoAlerts', 'blockchain', 'cryptotrading', 'cryptoprices', 'altcoins', 'bitcoin']\", 'Crypto Frog', 'False']\n",
      "Skipping row due to insufficient columns: ['👉https://t.co/dwh8jR9uho']\n",
      "Skipping row due to insufficient columns: ['$HDV 3.54%']\n",
      "Skipping row due to insufficient columns: ['$CEL 0.66%']\n",
      "Skipping row due to insufficient columns: ['$PAW 0.62%']\n",
      "Skipping row due to insufficient columns: ['$BDP 0.47%']\n",
      "Skipping row due to insufficient columns: ['$WEMIX 0.36%']\n",
      "Skipping row due to insufficient columns: [' #HDV #CEL #PAW #BDP #WEMIX #crypto #cryptonews #cryptoAlerts #blockchain  #cryptotrading #cryptoprices #altcoins #bitcoin', \"['cryptocurrency', 'price', 'GateIo', 'HDV', 'CEL', 'PAW', 'BDP', 'WEMIX', 'crypto', 'cryptonews', 'cryptoAlerts', 'blockchain', 'cryptotrading', 'cryptoprices', 'altcoins', 'bitcoin']\", 'Crypto Frog', 'False']\n"
     ]
    },
    {
     "name": "stderr",
     "output_type": "stream",
     "text": [
      "Preprocessing tweets: 140473it [00:47, 2870.39it/s]"
     ]
    },
    {
     "name": "stdout",
     "output_type": "stream",
     "text": [
      "Skipping row due to insufficient columns: ['Coin: $PANDAI']\n",
      "Skipping row due to insufficient columns: ['Pairs:']\n",
      "Skipping row due to insufficient columns: ['#PANDAI/#USDT']\n",
      "Skipping row due to insufficient columns: ['#newcoinlisting #crypto #cryptonews #cryptoAlerts #altcoins #bitcoin #blockchain #cryptocurrency #cryptotrading', \"['BitMart', 'PANDAI', 'USDT', 'newcoinlisting', 'crypto', 'cryptonews', 'cryptoAlerts', 'altcoins', 'bitcoin', 'blockchain', 'cryptocurrency', 'cryptotrading']\", 'CoinListingBot', 'False']\n",
      "Skipping row due to insufficient columns: ['Coin: $AMB']\n",
      "Skipping row due to insufficient columns: ['Pairs:']\n",
      "Skipping row due to insufficient columns: ['#AMB/#USDT']\n",
      "Skipping row due to insufficient columns: ['#newcoinlisting #crypto #cryptonews #cryptoAlerts #altcoins #bitcoin #blockchain #cryptocurrency #cryptotrading', \"['Nominex', 'AMB', 'USDT', 'newcoinlisting', 'crypto', 'cryptonews', 'cryptoAlerts', 'altcoins', 'bitcoin', 'blockchain', 'cryptocurrency', 'cryptotrading']\", 'CoinListingBot', 'False']\n",
      "Skipping row due to insufficient columns: ['Coin: $BETH']\n",
      "Skipping row due to insufficient columns: ['Pairs:']\n",
      "Skipping row due to insufficient columns: ['#BETH/#USDT']\n",
      "Skipping row due to insufficient columns: ['#newcoinlisting #crypto #cryptonews #cryptoAlerts #altcoins #bitcoin #blockchain #cryptocurrency #cryptotrading', \"['Nominex', 'BETH', 'USDT', 'newcoinlisting', 'crypto', 'cryptonews', 'cryptoAlerts', 'altcoins', 'bitcoin', 'blockchain', 'cryptocurrency', 'cryptotrading']\", 'CoinListingBot', 'False']\n",
      "Skipping row due to insufficient columns: ['Coin: $AIDOGEMINI']\n",
      "Skipping row due to insufficient columns: ['Pairs:']\n",
      "Skipping row due to insufficient columns: ['#AIDOGEMINI/#USDT']\n",
      "Skipping row due to insufficient columns: ['#newcoinlisting #crypto #cryptonews #cryptoAlerts #altcoins #bitcoin #blockchain #cryptocurrency #cryptotrading', \"['VinDAX', 'AIDOGEMINI', 'USDT', 'newcoinlisting', 'crypto', 'cryptonews', 'cryptoAlerts', 'altcoins', 'bitcoin', 'blockchain', 'cryptocurrency', 'cryptotrading']\", 'CoinListingBot', 'False']\n",
      "Skipping row due to insufficient columns: ['Coin: $ALPHA']\n",
      "Skipping row due to insufficient columns: ['Pairs:']\n",
      "Skipping row due to insufficient columns: ['#ALPHA/#USDT']\n",
      "Skipping row due to insufficient columns: ['#newcoinlisting #crypto #cryptonews #cryptoAlerts #altcoins #bitcoin #blockchain #cryptocurrency #cryptotrading', \"['BitForex', 'ALPHA', 'USDT', 'newcoinlisting', 'crypto', 'cryptonews', 'cryptoAlerts', 'altcoins', 'bitcoin', 'blockchain', 'cryptocurrency', 'cryptotrading']\", 'CoinListingBot', 'False']\n",
      "Skipping row due to insufficient columns: ['Coin: $ICHN']\n",
      "Skipping row due to insufficient columns: ['Pairs:']\n",
      "Skipping row due to insufficient columns: ['#ICHN/#USDT']\n",
      "Skipping row due to insufficient columns: ['#newcoinlisting #crypto #cryptonews #cryptoAlerts #altcoins #bitcoin #blockchain #cryptocurrency #cryptotrading', \"['Digifinex', 'ICHN', 'USDT', 'newcoinlisting', 'crypto', 'cryptonews', 'cryptoAlerts', 'altcoins', 'bitcoin', 'blockchain', 'cryptocurrency', 'cryptotrading']\", 'CoinListingBot', 'False']\n",
      "Skipping row due to insufficient columns: ['Coin: $BETH']\n",
      "Skipping row due to insufficient columns: ['Pairs:']\n",
      "Skipping row due to insufficient columns: ['#BETH/#USDT']\n",
      "Skipping row due to insufficient columns: ['#newcoinlisting #crypto #cryptonews #cryptoAlerts #altcoins #bitcoin #blockchain #cryptocurrency #cryptotrading', \"['Binance', 'BETH', 'USDT', 'newcoinlisting', 'crypto', 'cryptonews', 'cryptoAlerts', 'altcoins', 'bitcoin', 'blockchain', 'cryptocurrency', 'cryptotrading']\", 'CoinListingBot', 'False']\n",
      "Skipping row due to insufficient columns: ['Coin: $AMB']\n",
      "Skipping row due to insufficient columns: ['Pairs:']\n",
      "Skipping row due to insufficient columns: ['#AMB/#USDT']\n",
      "Skipping row due to insufficient columns: ['#newcoinlisting #crypto #cryptonews #cryptoAlerts #altcoins #bitcoin #blockchain #cryptocurrency #cryptotrading', \"['Binance', 'AMB', 'USDT', 'newcoinlisting', 'crypto', 'cryptonews', 'cryptoAlerts', 'altcoins', 'bitcoin', 'blockchain', 'cryptocurrency', 'cryptotrading']\", 'CoinListingBot', 'False']\n"
     ]
    },
    {
     "name": "stderr",
     "output_type": "stream",
     "text": [
      "Preprocessing tweets: 141401it [00:48, 3005.87it/s]"
     ]
    },
    {
     "name": "stdout",
     "output_type": "stream",
     "text": [
      "Skipping row due to insufficient columns: ['Coin: $FLOKI']\n",
      "Skipping row due to insufficient columns: ['Pairs:']\n",
      "Skipping row due to insufficient columns: ['#FLOKI/#USD']\n",
      "Skipping row due to insufficient columns: ['#FLOKI/#USDC']\n",
      "Skipping row due to insufficient columns: ['#FLOKI/#USDT']\n",
      "Skipping row due to insufficient columns: ['#newcoinlisting #crypto #cryptonews #cryptoAlerts #altcoins #bitcoin #blockchain #cryptocurrency #cryptotrading', \"['BTSE', 'FLOKI', 'USD', 'FLOKI', 'USDC', 'FLOKI', 'USDT', 'newcoinlisting', 'crypto', 'cryptonews', 'cryptoAlerts', 'altcoins', 'bitcoin', 'blockchain', 'cryptocurrency', 'cryptotrading']\", 'CoinListingBot', 'False']\n",
      "Skipping row due to insufficient columns: ['the_lucio', 'Guyana']\n",
      "Skipping row due to insufficient columns: ['creaturefeaturesuk2016', 'Austria']\n",
      "Skipping row due to insufficient columns: ['danielmeeks36', 'Hungary']\n",
      "Skipping row due to insufficient columns: ['katiusnehebsis', 'Italy']\n",
      "Skipping row due to insufficient columns: ['Coin: $VELO']\n",
      "Skipping row due to insufficient columns: ['Pairs:']\n",
      "Skipping row due to insufficient columns: ['#VELO/#USDT']\n",
      "Skipping row due to insufficient columns: ['#newcoinlisting #crypto #cryptonews #cryptoAlerts #altcoins #bitcoin #blockchain #cryptocurrency #cryptotrading', \"['BitMart', 'VELO', 'USDT', 'newcoinlisting', 'crypto', 'cryptonews', 'cryptoAlerts', 'altcoins', 'bitcoin', 'blockchain', 'cryptocurrency', 'cryptotrading']\", 'CoinListingBot', 'False']\n",
      "Skipping row due to insufficient columns: ['soma_szucs', 'Honduras']\n",
      "Skipping row due to insufficient columns: ['Coin: $EQ']\n",
      "Skipping row due to insufficient columns: ['Pairs:']\n",
      "Skipping row due to insufficient columns: ['#EQ/#USDT']\n",
      "Skipping row due to insufficient columns: ['#newcoinlisting #crypto #cryptonews #cryptoAlerts #altcoins #bitcoin #blockchain #cryptocurrency #cryptotrading', \"['GateIo', 'EQ', 'USDT', 'newcoinlisting', 'crypto', 'cryptonews', 'cryptoAlerts', 'altcoins', 'bitcoin', 'blockchain', 'cryptocurrency', 'cryptotrading']\", 'CoinListingBot', 'False']\n"
     ]
    },
    {
     "name": "stderr",
     "output_type": "stream",
     "text": [
      "Preprocessing tweets: 142019it [00:48, 3052.80it/s]"
     ]
    },
    {
     "name": "stdout",
     "output_type": "stream",
     "text": [
      "Skipping row due to insufficient columns: ['Coin: $CCD']\n",
      "Skipping row due to insufficient columns: ['Pairs:']\n",
      "Skipping row due to insufficient columns: ['#CCD/#USDT']\n",
      "Skipping row due to insufficient columns: ['#newcoinlisting #crypto #cryptonews #cryptoAlerts #altcoins #bitcoin #blockchain #cryptocurrency #cryptotrading', \"['CoinEx', 'CCD', 'USDT', 'newcoinlisting', 'crypto', 'cryptonews', 'cryptoAlerts', 'altcoins', 'bitcoin', 'blockchain', 'cryptocurrency', 'cryptotrading']\", 'CoinListingBot', 'False']\n",
      "Skipping row due to insufficient columns: ['Coin: $AMP']\n",
      "Skipping row due to insufficient columns: ['Pairs:']\n",
      "Skipping row due to insufficient columns: ['#AMP/#USDT']\n",
      "Skipping row due to insufficient columns: ['#newcoinlisting #crypto #cryptonews #cryptoAlerts #altcoins #bitcoin #blockchain #cryptocurrency #cryptotrading', \"['BitForex', 'AMP', 'USDT', 'newcoinlisting', 'crypto', 'cryptonews', 'cryptoAlerts', 'altcoins', 'bitcoin', 'blockchain', 'cryptocurrency', 'cryptotrading']\", 'CoinListingBot', 'False']\n",
      "Skipping row due to insufficient columns: ['👉https://t.co/dwh8jR9uho']\n",
      "Skipping row due to insufficient columns: ['$DVP 3.95%']\n",
      "Skipping row due to insufficient columns: ['$VENT 1.2%']\n",
      "Skipping row due to insufficient columns: ['$RVN 0.54%']\n",
      "Skipping row due to insufficient columns: ['$CEL 0.52%']\n",
      "Skipping row due to insufficient columns: ['$PAW 0.43%']\n",
      "Skipping row due to insufficient columns: [' #DVP #VENT #RVN #CEL #PAW #crypto #cryptonews #cryptoAlerts #blockchain  #cryptotrading #cryptoprices #altcoins #bitcoin', \"['cryptocurrency', 'price', 'GateIo', 'DVP', 'VENT', 'RVN', 'CEL', 'PAW', 'crypto', 'cryptonews', 'cryptoAlerts', 'blockchain', 'cryptotrading', 'cryptoprices', 'altcoins', 'bitcoin']\", 'Crypto Frog', 'False']\n",
      "Skipping row due to insufficient columns: ['Coin: $NXRA']\n",
      "Skipping row due to insufficient columns: ['Pairs:']\n",
      "Skipping row due to insufficient columns: ['#NXRA/#USDT']\n",
      "Skipping row due to insufficient columns: ['#newcoinlisting #crypto #cryptonews #cryptoAlerts #altcoins #bitcoin #blockchain #cryptocurrency #cryptotrading', \"['Hotbit', 'NXRA', 'USDT', 'newcoinlisting', 'crypto', 'cryptonews', 'cryptoAlerts', 'altcoins', 'bitcoin', 'blockchain', 'cryptocurrency', 'cryptotrading']\", 'CoinListingBot', 'False']\n",
      "Skipping row due to insufficient columns: ['Coin: $HORD']\n",
      "Skipping row due to insufficient columns: ['Pairs:']\n",
      "Skipping row due to insufficient columns: ['#HORD/#USDT']\n",
      "Skipping row due to insufficient columns: ['#newcoinlisting #crypto #cryptonews #cryptoAlerts #altcoins #bitcoin #blockchain #cryptocurrency #cryptotrading', \"['Hotbit', 'HORD', 'USDT', 'newcoinlisting', 'crypto', 'cryptonews', 'cryptoAlerts', 'altcoins', 'bitcoin', 'blockchain', 'cryptocurrency', 'cryptotrading']\", 'CoinListingBot', 'False']\n",
      "Skipping row due to insufficient columns: ['Coin: $SGTV2']\n",
      "Skipping row due to insufficient columns: ['Pairs:']\n",
      "Skipping row due to insufficient columns: ['#SGTV2/#USDT']\n",
      "Skipping row due to insufficient columns: ['#newcoinlisting #crypto #cryptonews #cryptoAlerts #altcoins #bitcoin #blockchain #cryptocurrency #cryptotrading', \"['Hotbit', 'SGTV2', 'USDT', 'newcoinlisting', 'crypto', 'cryptonews', 'cryptoAlerts', 'altcoins', 'bitcoin', 'blockchain', 'cryptocurrency', 'cryptotrading']\", 'CoinListingBot', 'False']\n",
      "Skipping row due to insufficient columns: ['Coin: $SWISE']\n",
      "Skipping row due to insufficient columns: ['Pairs:']\n",
      "Skipping row due to insufficient columns: ['#SWISE/#USDT']\n",
      "Skipping row due to insufficient columns: ['#newcoinlisting #crypto #cryptonews #cryptoAlerts #altcoins #bitcoin #blockchain #cryptocurrency #cryptotrading', \"['Hotbit', 'SWISE', 'USDT', 'newcoinlisting', 'crypto', 'cryptonews', 'cryptoAlerts', 'altcoins', 'bitcoin', 'blockchain', 'cryptocurrency', 'cryptotrading']\", 'CoinListingBot', 'False']\n"
     ]
    },
    {
     "name": "stderr",
     "output_type": "stream",
     "text": [
      "Preprocessing tweets: 142683it [00:48, 3184.42it/s]"
     ]
    },
    {
     "name": "stdout",
     "output_type": "stream",
     "text": [
      "Skipping row due to insufficient columns: ['joseph_tedeschi14', 'Croatia']\n",
      "Skipping row due to insufficient columns: ['fit_resolve', 'Indonesia']\n",
      "Skipping row due to insufficient columns: ['Coin: $XRPAYNET']\n",
      "Skipping row due to insufficient columns: ['Pairs:']\n",
      "Skipping row due to insufficient columns: ['#XRPAYNET/#USDT']\n",
      "Skipping row due to insufficient columns: ['#newcoinlisting #crypto #cryptonews #cryptoAlerts #altcoins #bitcoin #blockchain #cryptocurrency #cryptotrading', \"['Coinstore', 'XRPAYNET', 'USDT', 'newcoinlisting', 'crypto', 'cryptonews', 'cryptoAlerts', 'altcoins', 'bitcoin', 'blockchain', 'cryptocurrency', 'cryptotrading']\", 'CoinListingBot', 'False']\n",
      "Skipping row due to insufficient columns: ['👉https://t.co/dwh8jR9uho']\n",
      "Skipping row due to insufficient columns: ['$MDF 3.78%']\n",
      "Skipping row due to insufficient columns: ['$YFI 0.45%']\n",
      "Skipping row due to insufficient columns: ['$HAI 0.42%']\n",
      "Skipping row due to insufficient columns: ['$STARL 0.41%']\n",
      "Skipping row due to insufficient columns: ['$RICE 0.41%']\n",
      "Skipping row due to insufficient columns: [' #MDF #YFI #HAI #STARL #RICE #crypto #cryptonews #cryptoAlerts #blockchain  #cryptotrading #cryptoprices #altcoins #bitcoin', \"['cryptocurrency', 'price', 'GateIo', 'MDF', 'YFI', 'HAI', 'STARL', 'RICE', 'crypto', 'cryptonews', 'cryptoAlerts', 'blockchain', 'cryptotrading', 'cryptoprices', 'altcoins', 'bitcoin']\", 'Crypto Frog', 'False']\n",
      "Skipping row due to insufficient columns: ['👉https://t.co/dwh8jR9uho']\n",
      "Skipping row due to insufficient columns: ['$PIG 3.52%']\n",
      "Skipping row due to insufficient columns: ['$SOLO 1.98%']\n",
      "Skipping row due to insufficient columns: ['$PRIME 0.37%']\n",
      "Skipping row due to insufficient columns: ['$ACS 0.35%']\n",
      "Skipping row due to insufficient columns: ['$CYS 0.34%']\n",
      "Skipping row due to insufficient columns: [' #PIG #SOLO #PRIME #ACS #CYS #crypto #cryptonews #cryptoAlerts #blockchain  #cryptotrading #cryptoprices #altcoins #bitcoin', \"['cryptocurrency', 'price', 'GateIo', 'PIG', 'SOLO', 'PRIME', 'ACS', 'CYS', 'crypto', 'cryptonews', 'cryptoAlerts', 'blockchain', 'cryptotrading', 'cryptoprices', 'altcoins', 'bitcoin']\", 'Crypto Frog', 'False']\n",
      "Skipping row due to insufficient columns: ['Coin: $PAW']\n",
      "Skipping row due to insufficient columns: ['Pairs:']\n",
      "Skipping row due to insufficient columns: ['#PAW/#USDT']\n",
      "Skipping row due to insufficient columns: ['#newcoinlisting #crypto #cryptonews #cryptoAlerts #altcoins #bitcoin #blockchain #cryptocurrency #cryptotrading', \"['MEXC', 'PAW', 'USDT', 'newcoinlisting', 'crypto', 'cryptonews', 'cryptoAlerts', 'altcoins', 'bitcoin', 'blockchain', 'cryptocurrency', 'cryptotrading']\", 'CoinListingBot', 'False']\n"
     ]
    },
    {
     "name": "stderr",
     "output_type": "stream",
     "text": [
      "Preprocessing tweets: 143955it [00:48, 3060.03it/s]"
     ]
    },
    {
     "name": "stdout",
     "output_type": "stream",
     "text": [
      "Skipping row due to insufficient columns: ['Coin: $STX']\n",
      "Skipping row due to insufficient columns: ['Pairs:']\n",
      "Skipping row due to insufficient columns: ['#STX/#USDT']\n",
      "Skipping row due to insufficient columns: ['#newcoinlisting #crypto #cryptonews #cryptoAlerts #altcoins #bitcoin #blockchain #cryptocurrency #cryptotrading', \"['Hotbit', 'STX', 'USDT', 'newcoinlisting', 'crypto', 'cryptonews', 'cryptoAlerts', 'altcoins', 'bitcoin', 'blockchain', 'cryptocurrency', 'cryptotrading']\", 'CoinListingBot', 'False']\n",
      "Skipping row due to insufficient columns: ['Coin: $SIDUS']\n",
      "Skipping row due to insufficient columns: ['Pairs:']\n",
      "Skipping row due to insufficient columns: ['#SIDUS/#USDT']\n",
      "Skipping row due to insufficient columns: ['#newcoinlisting #crypto #cryptonews #cryptoAlerts #altcoins #bitcoin #blockchain #cryptocurrency #cryptotrading', \"['Hotbit', 'SIDUS', 'USDT', 'newcoinlisting', 'crypto', 'cryptonews', 'cryptoAlerts', 'altcoins', 'bitcoin', 'blockchain', 'cryptocurrency', 'cryptotrading']\", 'CoinListingBot', 'False']\n",
      "Skipping row due to insufficient columns: ['👉https://t.co/XsdBPI7qf6']\n",
      "Skipping row due to insufficient columns: ['$LDN 4.54%']\n",
      "Skipping row due to insufficient columns: ['$CGL 1.18%']\n",
      "Skipping row due to insufficient columns: ['$NEO 0.81%']\n",
      "Skipping row due to insufficient columns: ['$NULS 0.7%']\n",
      "Skipping row due to insufficient columns: ['$FLM 0.51%']\n",
      "Skipping row due to insufficient columns: [' #LDN #CGL #NEO #NULS #FLM #crypto #cryptonews #cryptoAlerts #blockchain  #cryptotrading #cryptoprices #altcoins #bitcoin', \"['cryptocurrency', 'price', 'OKX', 'LDN', 'CGL', 'NEO', 'NULS', 'FLM', 'crypto', 'cryptonews', 'cryptoAlerts', 'blockchain', 'cryptotrading', 'cryptoprices', 'altcoins', 'bitcoin']\", 'Crypto Frog', 'False']\n",
      "Skipping row due to insufficient columns: ['👉https://t.co/dwh8jR9uho']\n",
      "Skipping row due to insufficient columns: ['$PAW 3.27%']\n",
      "Skipping row due to insufficient columns: ['$ZBC 0.99%']\n",
      "Skipping row due to insufficient columns: ['$QUICK 0.77%']\n",
      "Skipping row due to insufficient columns: ['$DC 0.72%']\n",
      "Skipping row due to insufficient columns: ['$FET 0.66%']\n",
      "Skipping row due to insufficient columns: [' #PAW #ZBC #QUICK #DC #FET #crypto #cryptonews #cryptoAlerts #blockchain  #cryptotrading #cryptoprices #altcoins #bitcoin', \"['cryptocurrency', 'price', 'GateIo', 'PAW', 'ZBC', 'QUICK', 'DC', 'FET', 'crypto', 'cryptonews', 'cryptoAlerts', 'blockchain', 'cryptotrading', 'cryptoprices', 'altcoins', 'bitcoin']\", 'Crypto Frog', 'False']\n"
     ]
    },
    {
     "name": "stderr",
     "output_type": "stream",
     "text": [
      "Preprocessing tweets: 144598it [00:49, 3133.92it/s]"
     ]
    },
    {
     "name": "stdout",
     "output_type": "stream",
     "text": [
      "Skipping row due to insufficient columns: ['Coin: $KFC']\n",
      "Skipping row due to insufficient columns: ['Pairs:']\n",
      "Skipping row due to insufficient columns: ['#KFC/#USDT']\n",
      "Skipping row due to insufficient columns: ['#newcoinlisting #crypto #cryptonews #cryptoAlerts #altcoins #bitcoin #blockchain #cryptocurrency #cryptotrading', \"['Finexbox', 'KFC', 'USDT', 'newcoinlisting', 'crypto', 'cryptonews', 'cryptoAlerts', 'altcoins', 'bitcoin', 'blockchain', 'cryptocurrency', 'cryptotrading']\", 'CoinListingBot', 'False']\n",
      "Skipping row due to insufficient columns: ['Coin: $VIB']\n",
      "Skipping row due to insufficient columns: ['Pairs:']\n",
      "Skipping row due to insufficient columns: ['#VIB/#USDT']\n",
      "Skipping row due to insufficient columns: ['#newcoinlisting #crypto #cryptonews #cryptoAlerts #altcoins #bitcoin #blockchain #cryptocurrency #cryptotrading', \"['BitForex', 'VIB', 'USDT', 'newcoinlisting', 'crypto', 'cryptonews', 'cryptoAlerts', 'altcoins', 'bitcoin', 'blockchain', 'cryptocurrency', 'cryptotrading']\", 'CoinListingBot', 'False']\n"
     ]
    },
    {
     "name": "stderr",
     "output_type": "stream",
     "text": [
      "Preprocessing tweets: 145261it [00:49, 3225.49it/s]"
     ]
    },
    {
     "name": "stdout",
     "output_type": "stream",
     "text": [
      "Skipping row due to insufficient columns: ['Coin: $USDT']\n",
      "Skipping row due to insufficient columns: ['Pairs:']\n",
      "Skipping row due to insufficient columns: ['#USDT/#GBP']\n",
      "Skipping row due to insufficient columns: ['#newcoinlisting #crypto #cryptonews #cryptoAlerts #altcoins #bitcoin #blockchain #cryptocurrency #cryptotrading', \"['KuCoin', 'USDT', 'GBP', 'newcoinlisting', 'crypto', 'cryptonews', 'cryptoAlerts', 'altcoins', 'bitcoin', 'blockchain', 'cryptocurrency', 'cryptotrading']\", 'CoinListingBot', 'False']\n",
      "Skipping row due to insufficient columns: ['Coin: $ETH']\n",
      "Skipping row due to insufficient columns: ['Pairs:']\n",
      "Skipping row due to insufficient columns: ['#ETH/#GBP']\n",
      "Skipping row due to insufficient columns: ['#newcoinlisting #crypto #cryptonews #cryptoAlerts #altcoins #bitcoin #blockchain #cryptocurrency #cryptotrading', \"['KuCoin', 'ETH', 'GBP', 'newcoinlisting', 'crypto', 'cryptonews', 'cryptoAlerts', 'altcoins', 'bitcoin', 'blockchain', 'cryptocurrency', 'cryptotrading']\", 'CoinListingBot', 'False']\n",
      "Skipping row due to insufficient columns: ['Coin: $GBP']\n",
      "Skipping row due to insufficient columns: ['Pairs:']\n",
      "Skipping row due to insufficient columns: ['#BTC/#GBP']\n",
      "Skipping row due to insufficient columns: ['#newcoinlisting #crypto #cryptonews #cryptoAlerts #altcoins #bitcoin #blockchain #cryptocurrency #cryptotrading', \"['KuCoin', 'BTC', 'GBP', 'newcoinlisting', 'crypto', 'cryptonews', 'cryptoAlerts', 'altcoins', 'bitcoin', 'blockchain', 'cryptocurrency', 'cryptotrading']\", 'CoinListingBot', 'False']\n",
      "Skipping row due to insufficient columns: ['👉https://t.co/XsdBPI7qf6']\n",
      "Skipping row due to insufficient columns: ['$CEL 4.15%']\n",
      "Skipping row due to insufficient columns: ['$KDA 0.97%']\n",
      "Skipping row due to insufficient columns: ['$CVC 0.79%']\n",
      "Skipping row due to insufficient columns: ['$LUNC 0.72%']\n",
      "Skipping row due to insufficient columns: ['$VELO 0.64%']\n",
      "Skipping row due to insufficient columns: [' #CEL #KDA #CVC #LUNC #VELO #crypto #cryptonews #cryptoAlerts #blockchain  #cryptotrading #cryptoprices #altcoins #bitcoin', \"['cryptocurrency', 'price', 'OKX', 'CEL', 'KDA', 'CVC', 'LUNC', 'VELO', 'crypto', 'cryptonews', 'cryptoAlerts', 'blockchain', 'cryptotrading', 'cryptoprices', 'altcoins', 'bitcoin']\", 'Crypto Frog', 'False']\n",
      "Skipping row due to insufficient columns: ['👉https://t.co/dwh8jR9uho']\n",
      "Skipping row due to insufficient columns: ['$ADP 3.03%']\n",
      "Skipping row due to insufficient columns: ['$XET 1.01%']\n",
      "Skipping row due to insufficient columns: ['$FTT 0.66%']\n",
      "Skipping row due to insufficient columns: ['$JST 0.63%']\n",
      "Skipping row due to insufficient columns: ['$PNT 0.5%']\n",
      "Skipping row due to insufficient columns: [' #ADP #XET #FTT #JST #PNT #crypto #cryptonews #cryptoAlerts #blockchain  #cryptotrading #cryptoprices #altcoins #bitcoin', \"['cryptocurrency', 'price', 'GateIo', 'ADP', 'XET', 'FTT', 'JST', 'PNT', 'crypto', 'cryptonews', 'cryptoAlerts', 'blockchain', 'cryptotrading', 'cryptoprices', 'altcoins', 'bitcoin']\", 'Crypto Frog', 'False']\n"
     ]
    },
    {
     "name": "stderr",
     "output_type": "stream",
     "text": [
      "Preprocessing tweets: 146301it [00:49, 3404.66it/s]"
     ]
    },
    {
     "name": "stdout",
     "output_type": "stream",
     "text": [
      "Skipping row due to insufficient columns: ['👉https://t.co/XsdBPI7qf6']\n",
      "Skipping row due to insufficient columns: ['$ANW 3.15%']\n",
      "Skipping row due to insufficient columns: ['$CHE 1.58%']\n",
      "Skipping row due to insufficient columns: ['$MOVEZ 1.05%']\n",
      "Skipping row due to insufficient columns: ['$DORA 0.93%']\n",
      "Skipping row due to insufficient columns: ['$CONV 0.59%']\n",
      "Skipping row due to insufficient columns: [' #ANW #CHE #MOVEZ #DORA #CONV #crypto #cryptonews #cryptoAlerts #blockchain  #cryptotrading #cryptoprices #altcoins #bitcoin', \"['cryptocurrency', 'price', 'OKX', 'ANW', 'CHE', 'MOVEZ', 'DORA', 'CONV', 'crypto', 'cryptonews', 'cryptoAlerts', 'blockchain', 'cryptotrading', 'cryptoprices', 'altcoins', 'bitcoin']\", 'Crypto Frog', 'False']\n",
      "Skipping row due to insufficient columns: ['👉https://t.co/XsdBPI7qf6']\n",
      "Skipping row due to insufficient columns: ['$YOU 3.76%']\n",
      "Skipping row due to insufficient columns: ['$ANW 2.21%']\n",
      "Skipping row due to insufficient columns: ['$LDN 1.81%']\n",
      "Skipping row due to insufficient columns: ['$SWRV 1.14%']\n",
      "Skipping row due to insufficient columns: ['$LUNC 0.96%']\n",
      "Skipping row due to insufficient columns: [' #YOU #ANW #LDN #SWRV #LUNC #crypto #cryptonews #cryptoAlerts #blockchain  #cryptotrading #cryptoprices #altcoins #bitcoin', \"['cryptocurrency', 'price', 'OKX', 'YOU', 'ANW', 'LDN', 'SWRV', 'LUNC', 'crypto', 'cryptonews', 'cryptoAlerts', 'blockchain', 'cryptotrading', 'cryptoprices', 'altcoins', 'bitcoin']\", 'Crypto Frog', 'False']\n",
      "Skipping row due to insufficient columns: ['👉https://t.co/dwh8jR9uho']\n",
      "Skipping row due to insufficient columns: ['$KART 4.25%']\n",
      "Skipping row due to insufficient columns: ['$FDC 3.14%']\n",
      "Skipping row due to insufficient columns: ['$LUNC 2.75%']\n",
      "Skipping row due to insufficient columns: ['$FRA 1.67%']\n",
      "Skipping row due to insufficient columns: ['$HOOK 1.35%']\n",
      "Skipping row due to insufficient columns: [' #KART #FDC #LUNC #FRA #HOOK #crypto #cryptonews #cryptoAlerts #blockchain  #cryptotrading #cryptoprices #altcoins #bitcoin', \"['cryptocurrency', 'price', 'GateIo', 'KART', 'FDC', 'LUNC', 'FRA', 'HOOK', 'crypto', 'cryptonews', 'cryptoAlerts', 'blockchain', 'cryptotrading', 'cryptoprices', 'altcoins', 'bitcoin']\", 'Crypto Frog', 'False']\n",
      "Skipping row due to insufficient columns: ['👉https://t.co/XsdBPI7qf6']\n",
      "Skipping row due to insufficient columns: ['$LUNC 3.28%']\n",
      "Skipping row due to insufficient columns: ['$CELT 1.95%']\n",
      "Skipping row due to insufficient columns: ['$USTC 1.61%']\n",
      "Skipping row due to insufficient columns: ['$GFT 1.57%']\n",
      "Skipping row due to insufficient columns: ['$CEL 1.3%']\n",
      "Skipping row due to insufficient columns: [' #LUNC #CELT #USTC #GFT #CEL #crypto #cryptonews #cryptoAlerts #blockchain  #cryptotrading #cryptoprices #altcoins #bitcoin', \"['cryptocurrency', 'price', 'OKX', 'LUNC', 'CELT', 'USTC', 'GFT', 'CEL', 'crypto', 'cryptonews', 'cryptoAlerts', 'blockchain', 'cryptotrading', 'cryptoprices', 'altcoins', 'bitcoin']\", 'Crypto Frog', 'False']\n"
     ]
    },
    {
     "name": "stderr",
     "output_type": "stream",
     "text": [
      "Preprocessing tweets: 147334it [00:49, 3323.46it/s]"
     ]
    },
    {
     "name": "stdout",
     "output_type": "stream",
     "text": [
      "Skipping row due to insufficient columns: ['👉https://t.co/XsdBPI7qf6']\n",
      "Skipping row due to insufficient columns: ['$BSV 6.95%']\n",
      "Skipping row due to insufficient columns: ['$CEL 3.09%']\n",
      "Skipping row due to insufficient columns: ['$SFG 1.11%']\n",
      "Skipping row due to insufficient columns: ['$SNT 0.97%']\n",
      "Skipping row due to insufficient columns: ['$GFT 0.88%']\n",
      "Skipping row due to insufficient columns: [' #BSV #CEL #SFG #SNT #GFT #crypto #cryptonews #cryptoAlerts #blockchain  #cryptotrading #cryptoprices #altcoins #bitcoin', \"['cryptocurrency', 'price', 'OKX', 'BSV', 'CEL', 'SFG', 'SNT', 'GFT', 'crypto', 'cryptonews', 'cryptoAlerts', 'blockchain', 'cryptotrading', 'cryptoprices', 'altcoins', 'bitcoin']\", 'Crypto Frog', 'False']\n"
     ]
    },
    {
     "name": "stderr",
     "output_type": "stream",
     "text": [
      "Preprocessing tweets: 147987it [00:50, 3129.96it/s]"
     ]
    },
    {
     "name": "stdout",
     "output_type": "stream",
     "text": [
      "Skipping row due to insufficient columns: ['👉https://t.co/XsdBPI7qf6']\n",
      "Skipping row due to insufficient columns: ['$TAKI 3.16%']\n",
      "Skipping row due to insufficient columns: ['$LDN 0.79%']\n",
      "Skipping row due to insufficient columns: ['$MDT 0.74%']\n",
      "Skipping row due to insufficient columns: ['$CMT 0.38%']\n",
      "Skipping row due to insufficient columns: ['$ANC 0.37%']\n",
      "Skipping row due to insufficient columns: [' #TAKI #LDN #MDT #CMT #ANC #crypto #cryptonews #cryptoAlerts #blockchain  #cryptotrading #cryptoprices #altcoins #bitcoin', \"['cryptocurrency', 'price', 'OKX', 'TAKI', 'LDN', 'MDT', 'CMT', 'ANC', 'crypto', 'cryptonews', 'cryptoAlerts', 'blockchain', 'cryptotrading', 'cryptoprices', 'altcoins', 'bitcoin']\", 'Crypto Frog', 'False']\n",
      "Skipping row due to insufficient columns: ['👉https://t.co/XsdBPI7qf6']\n",
      "Skipping row due to insufficient columns: ['$LDN 3.42%']\n",
      "Skipping row due to insufficient columns: ['$MXC 0.45%']\n",
      "Skipping row due to insufficient columns: ['$FLOKI 0.43%']\n",
      "Skipping row due to insufficient columns: ['$ICP 0.34%']\n",
      "Skipping row due to insufficient columns: [' #LDN #MXC #FLOKI #ICP #crypto #cryptonews #cryptoAlerts #blockchain  #cryptotrading #cryptoprices #altcoins #bitcoin', \"['cryptocurrency', 'price', 'OKX', 'LDN', 'MXC', 'FLOKI', 'ICP', 'crypto', 'cryptonews', 'cryptoAlerts', 'blockchain', 'cryptotrading', 'cryptoprices', 'altcoins', 'bitcoin']\", 'Crypto Frog', 'False']\n",
      "Skipping row due to insufficient columns: ['👉https://t.co/dwh8jR9uho']\n",
      "Skipping row due to insufficient columns: ['$SLC 4.04%']\n",
      "Skipping row due to insufficient columns: ['$PAW 0.94%']\n",
      "Skipping row due to insufficient columns: ['$DEP 0.84%']\n",
      "Skipping row due to insufficient columns: ['$TROY 0.7%']\n",
      "Skipping row due to insufficient columns: ['$IOST 0.48%']\n",
      "Skipping row due to insufficient columns: [' #SLC #PAW #DEP #TROY #IOST #crypto #cryptonews #cryptoAlerts #blockchain  #cryptotrading #cryptoprices #altcoins #bitcoin', \"['cryptocurrency', 'price', 'GateIo', 'SLC', 'PAW', 'DEP', 'TROY', 'IOST', 'crypto', 'cryptonews', 'cryptoAlerts', 'blockchain', 'cryptotrading', 'cryptoprices', 'altcoins', 'bitcoin']\", 'Crypto Frog', 'False']\n"
     ]
    },
    {
     "name": "stderr",
     "output_type": "stream",
     "text": [
      "Preprocessing tweets: 148613it [00:50, 3065.72it/s]"
     ]
    },
    {
     "name": "stdout",
     "output_type": "stream",
     "text": [
      "Skipping row due to insufficient columns: ['👉https://t.co/oSeMfIKpqH']\n",
      "Skipping row due to insufficient columns: ['$PIP 6.89%']\n",
      "Skipping row due to insufficient columns: ['$T 1.33%']\n",
      "Skipping row due to insufficient columns: ['$GST 0.3%']\n",
      "Skipping row due to insufficient columns: [' #PIP #T #GST #crypto #cryptonews #cryptoAlerts #blockchain  #cryptotrading #cryptoprices #altcoins #bitcoin', \"['cryptocurrency', 'price', 'Bybit', 'PIP', 'T', 'GST', 'crypto', 'cryptonews', 'cryptoAlerts', 'blockchain', 'cryptotrading', 'cryptoprices', 'altcoins', 'bitcoin']\", 'Crypto Frog', 'False']\n",
      "Skipping row due to insufficient columns: ['👉https://t.co/XsdBPI7qf6']\n",
      "Skipping row due to insufficient columns: ['$LDN 6.55%']\n",
      "Skipping row due to insufficient columns: ['$ORB 0.65%']\n",
      "Skipping row due to insufficient columns: ['$CELT 0.5%']\n",
      "Skipping row due to insufficient columns: ['$RADAR 0.44%']\n",
      "Skipping row due to insufficient columns: ['$ZRX 0.4%']\n",
      "Skipping row due to insufficient columns: [' #LDN #ORB #CELT #RADAR #ZRX #crypto #cryptonews #cryptoAlerts #blockchain  #cryptotrading #cryptoprices #altcoins #bitcoin', \"['cryptocurrency', 'price', 'OKX', 'LDN', 'ORB', 'CELT', 'RADAR', 'ZRX', 'crypto', 'cryptonews', 'cryptoAlerts', 'blockchain', 'cryptotrading', 'cryptoprices', 'altcoins', 'bitcoin']\", 'Crypto Frog', 'False']\n",
      "Skipping row due to insufficient columns: ['👉https://t.co/dwh8jR9uho']\n",
      "Skipping row due to insufficient columns: ['$MRCH 3.59%']\n",
      "Skipping row due to insufficient columns: ['$IAG 2.24%']\n",
      "Skipping row due to insufficient columns: ['$TRR 0.7%']\n",
      "Skipping row due to insufficient columns: ['$CHESS 0.59%']\n",
      "Skipping row due to insufficient columns: ['$SNX 0.42%']\n",
      "Skipping row due to insufficient columns: [' #MRCH #IAG #TRR #CHESS #SNX #crypto #cryptonews #cryptoAlerts #blockchain  #cryptotrading #cryptoprices #altcoins #bitcoin', \"['cryptocurrency', 'price', 'GateIo', 'MRCH', 'IAG', 'TRR', 'CHESS', 'SNX', 'crypto', 'cryptonews', 'cryptoAlerts', 'blockchain', 'cryptotrading', 'cryptoprices', 'altcoins', 'bitcoin']\", 'Crypto Frog', 'False']\n",
      "Skipping row due to insufficient columns: ['Coin: $MF']\n",
      "Skipping row due to insufficient columns: ['Pairs:']\n",
      "Skipping row due to insufficient columns: ['#MF/#USDT']\n",
      "Skipping row due to insufficient columns: ['#newcoinlisting #crypto #cryptonews #cryptoAlerts #altcoins #bitcoin #blockchain #cryptocurrency #cryptotrading', \"['P2PB2B', 'MF', 'USDT', 'newcoinlisting', 'crypto', 'cryptonews', 'cryptoAlerts', 'altcoins', 'bitcoin', 'blockchain', 'cryptocurrency', 'cryptotrading']\", 'CoinListingBot', 'False']\n"
     ]
    },
    {
     "name": "stderr",
     "output_type": "stream",
     "text": [
      "Preprocessing tweets: 149226it [00:50, 3038.68it/s]"
     ]
    },
    {
     "name": "stdout",
     "output_type": "stream",
     "text": [
      "Skipping row due to insufficient columns: ['Coin: $BITAI']\n",
      "Skipping row due to insufficient columns: ['Pairs:']\n",
      "Skipping row due to insufficient columns: ['#BITAI/#BUSD']\n",
      "Skipping row due to insufficient columns: ['#newcoinlisting #crypto #cryptonews #cryptoAlerts #altcoins #bitcoin #blockchain #cryptocurrency #cryptotrading', \"['Bilaxy', 'BITAI', 'BUSD', 'newcoinlisting', 'crypto', 'cryptonews', 'cryptoAlerts', 'altcoins', 'bitcoin', 'blockchain', 'cryptocurrency', 'cryptotrading']\", 'CoinListingBot', 'False']\n",
      "Skipping row due to insufficient columns: ['👉https://t.co/dwh8jR9uho']\n",
      "Skipping row due to insufficient columns: ['$KBD 3.84%']\n",
      "Skipping row due to insufficient columns: ['$PAW 1.12%']\n",
      "Skipping row due to insufficient columns: ['$PERP 0.55%']\n",
      "Skipping row due to insufficient columns: ['$DHX 0.53%']\n",
      "Skipping row due to insufficient columns: [' #KBD #PAW #PERP #DHX #crypto #cryptonews #cryptoAlerts #blockchain  #cryptotrading #cryptoprices #altcoins #bitcoin', \"['cryptocurrency', 'price', 'GateIo', 'KBD', 'PAW', 'PERP', 'DHX', 'crypto', 'cryptonews', 'cryptoAlerts', 'blockchain', 'cryptotrading', 'cryptoprices', 'altcoins', 'bitcoin']\", 'Crypto Frog', 'False']\n",
      "Skipping row due to insufficient columns: ['👉https://t.co/dwh8jR9uho']\n",
      "Skipping row due to insufficient columns: ['$PAW 6.02%']\n",
      "Skipping row due to insufficient columns: ['$CFX 0.56%']\n",
      "Skipping row due to insufficient columns: ['$FLUX 0.4%']\n",
      "Skipping row due to insufficient columns: ['$SIS 0.4%']\n",
      "Skipping row due to insufficient columns: ['$SIDUS 0.35%']\n",
      "Skipping row due to insufficient columns: [' #PAW #CFX #FLUX #SIS #SIDUS #crypto #cryptonews #cryptoAlerts #blockchain  #cryptotrading #cryptoprices #altcoins #bitcoin', \"['cryptocurrency', 'price', 'GateIo', 'PAW', 'CFX', 'FLUX', 'SIS', 'SIDUS', 'crypto', 'cryptonews', 'cryptoAlerts', 'blockchain', 'cryptotrading', 'cryptoprices', 'altcoins', 'bitcoin']\", 'Crypto Frog', 'False']\n",
      "Skipping row due to insufficient columns: ['👉https://t.co/dwh8jR9uho']\n",
      "Skipping row due to insufficient columns: ['$PAW 3.05%']\n",
      "Skipping row due to insufficient columns: ['$STRP 2.6%']\n",
      "Skipping row due to insufficient columns: ['$HFT 1.19%']\n",
      "Skipping row due to insufficient columns: ['$XDB 0.88%']\n",
      "Skipping row due to insufficient columns: ['$AGIX 0.85%']\n",
      "Skipping row due to insufficient columns: [' #PAW #STRP #HFT #XDB #AGIX #crypto #cryptonews #cryptoAlerts #blockchain  #cryptotrading #cryptoprices #altcoins #bitcoin', \"['cryptocurrency', 'price', 'GateIo', 'PAW', 'STRP', 'HFT', 'XDB', 'AGIX', 'crypto', 'cryptonews', 'cryptoAlerts', 'blockchain', 'cryptotrading', 'cryptoprices', 'altcoins', 'bitcoin']\", 'Crypto Frog', 'False']\n",
      "Skipping row due to insufficient columns: ['👉https://t.co/dwh8jR9uho']\n",
      "Skipping row due to insufficient columns: ['$LOA 4.29%']\n",
      "Skipping row due to insufficient columns: ['$PNG 1.5%']\n",
      "Skipping row due to insufficient columns: ['$GARI 1.06%']\n",
      "Skipping row due to insufficient columns: ['$PAW 0.72%']\n",
      "Skipping row due to insufficient columns: ['$JAM 0.65%']\n",
      "Skipping row due to insufficient columns: [' #LOA #PNG #GARI #PAW #JAM #crypto #cryptonews #cryptoAlerts #blockchain  #cryptotrading #cryptoprices #altcoins #bitcoin', \"['cryptocurrency', 'price', 'GateIo', 'LOA', 'PNG', 'GARI', 'PAW', 'JAM', 'crypto', 'cryptonews', 'cryptoAlerts', 'blockchain', 'cryptotrading', 'cryptoprices', 'altcoins', 'bitcoin']\", 'Crypto Frog', 'False']\n"
     ]
    },
    {
     "name": "stderr",
     "output_type": "stream",
     "text": [
      "Preprocessing tweets: 151005it [00:51, 2912.36it/s]"
     ]
    },
    {
     "name": "stdout",
     "output_type": "stream",
     "text": [
      "Skipping row due to insufficient columns: ['👉https://t.co/dwh8jR9uho']\n",
      "Skipping row due to insufficient columns: ['$ITSB 5.7%']\n",
      "Skipping row due to insufficient columns: ['$FIN 0.7%']\n",
      "Skipping row due to insufficient columns: ['$FIRO 0.48%']\n",
      "Skipping row due to insufficient columns: ['$HAPI 0.42%']\n",
      "Skipping row due to insufficient columns: ['$EDEN 0.38%']\n",
      "Skipping row due to insufficient columns: [' #ITSB #FIN #FIRO #HAPI #EDEN #crypto #cryptonews #cryptoAlerts #blockchain  #cryptotrading #cryptoprices #altcoins #bitcoin', \"['cryptocurrency', 'price', 'GateIo', 'ITSB', 'FIN', 'FIRO', 'HAPI', 'EDEN', 'crypto', 'cryptonews', 'cryptoAlerts', 'blockchain', 'cryptotrading', 'cryptoprices', 'altcoins', 'bitcoin']\", 'Crypto Frog', 'False']\n",
      "Skipping row due to insufficient columns: ['👉https://t.co/dwh8jR9uho']\n",
      "Skipping row due to insufficient columns: ['$MED 5.25%']\n",
      "Skipping row due to insufficient columns: ['$CTRC 2.5%']\n",
      "Skipping row due to insufficient columns: ['$FRM 0.49%']\n",
      "Skipping row due to insufficient columns: ['$ELF 0.41%']\n",
      "Skipping row due to insufficient columns: ['$CVX 0.39%']\n",
      "Skipping row due to insufficient columns: [' #MED #CTRC #FRM #ELF #CVX #crypto #cryptonews #cryptoAlerts #blockchain  #cryptotrading #cryptoprices #altcoins #bitcoin', \"['cryptocurrency', 'price', 'GateIo', 'MED', 'CTRC', 'FRM', 'ELF', 'CVX', 'crypto', 'cryptonews', 'cryptoAlerts', 'blockchain', 'cryptotrading', 'cryptoprices', 'altcoins', 'bitcoin']\", 'Crypto Frog', 'False']\n"
     ]
    },
    {
     "name": "stderr",
     "output_type": "stream",
     "text": [
      "Preprocessing tweets: 153020it [00:51, 2812.29it/s]"
     ]
    },
    {
     "name": "stdout",
     "output_type": "stream",
     "text": [
      "Skipping row due to insufficient columns: ['👉https://t.co/dwh8jR9uho']\n",
      "Skipping row due to insufficient columns: ['$FNF 3.21%']\n",
      "Skipping row due to insufficient columns: ['$CRE 2.57%']\n",
      "Skipping row due to insufficient columns: ['$FROG 2.31%']\n",
      "Skipping row due to insufficient columns: ['$AKT 0.66%']\n",
      "Skipping row due to insufficient columns: ['$FCON 0.6%']\n",
      "Skipping row due to insufficient columns: [' #FNF #CRE #FROG #AKT #FCON #crypto #cryptonews #cryptoAlerts #blockchain  #cryptotrading #cryptoprices #altcoins #bitcoin', \"['cryptocurrency', 'price', 'GateIo', 'FNF', 'CRE', 'FROG', 'AKT', 'FCON', 'crypto', 'cryptonews', 'cryptoAlerts', 'blockchain', 'cryptotrading', 'cryptoprices', 'altcoins', 'bitcoin']\", 'Crypto Frog', 'False']\n"
     ]
    },
    {
     "name": "stderr",
     "output_type": "stream",
     "text": [
      "Preprocessing tweets: 155063it [00:52, 2913.18it/s]"
     ]
    },
    {
     "name": "stdout",
     "output_type": "stream",
     "text": [
      "Skipping row due to insufficient columns: ['👉https://t.co/dwh8jR9uho']\n",
      "Skipping row due to insufficient columns: ['$TXT 4.24%']\n",
      "Skipping row due to insufficient columns: ['$RADAR 1.08%']\n",
      "Skipping row due to insufficient columns: ['$XPR 0.68%']\n",
      "Skipping row due to insufficient columns: ['$ADS 0.54%']\n",
      "Skipping row due to insufficient columns: ['$WAXL 0.49%']\n",
      "Skipping row due to insufficient columns: [' #TXT #RADAR #XPR #ADS #WAXL #crypto #cryptonews #cryptoAlerts #blockchain  #cryptotrading #cryptoprices #altcoins #bitcoin', \"['cryptocurrency', 'price', 'GateIo', 'TXT', 'RADAR', 'XPR', 'ADS', 'WAXL', 'crypto', 'cryptonews', 'cryptoAlerts', 'blockchain', 'cryptotrading', 'cryptoprices', 'altcoins', 'bitcoin']\", 'Crypto Frog', 'False']\n",
      "Skipping row due to insufficient columns: ['👉https://t.co/dwh8jR9uho']\n",
      "Skipping row due to insufficient columns: ['$GAN 8.34%']\n",
      "Skipping row due to insufficient columns: ['$PRT 5.16%']\n",
      "Skipping row due to insufficient columns: ['$TEDDY 2.67%']\n",
      "Skipping row due to insufficient columns: ['$NFTB 1.39%']\n",
      "Skipping row due to insufficient columns: ['$POP 1.31%']\n",
      "Skipping row due to insufficient columns: [' #GAN #PRT #TEDDY #NFTB #POP #crypto #cryptonews #cryptoAlerts #blockchain  #cryptotrading #cryptoprices #altcoins #bitcoin', \"['cryptocurrency', 'price', 'GateIo', 'GAN', 'PRT', 'TEDDY', 'NFTB', 'POP', 'crypto', 'cryptonews', 'cryptoAlerts', 'blockchain', 'cryptotrading', 'cryptoprices', 'altcoins', 'bitcoin']\", 'Crypto Frog', 'False']\n"
     ]
    },
    {
     "name": "stderr",
     "output_type": "stream",
     "text": [
      "Preprocessing tweets: 156513it [00:53, 2858.71it/s]"
     ]
    },
    {
     "name": "stdout",
     "output_type": "stream",
     "text": [
      "Skipping row due to insufficient columns: ['👉https://t.co/XsdBPI7qf6']\n",
      "Skipping row due to insufficient columns: ['$ANW 3.72%']\n",
      "Skipping row due to insufficient columns: ['$VELO 1.65%']\n",
      "Skipping row due to insufficient columns: ['$LDO 0.9%']\n",
      "Skipping row due to insufficient columns: ['$PERP 0.85%']\n",
      "Skipping row due to insufficient columns: ['$SWEAT 0.67%']\n",
      "Skipping row due to insufficient columns: [' #ANW #VELO #LDO #PERP #SWEAT #crypto #cryptonews #cryptoAlerts #blockchain  #cryptotrading #cryptoprices #altcoins #bitcoin', \"['cryptocurrency', 'price', 'OKX', 'ANW', 'VELO', 'LDO', 'PERP', 'SWEAT', 'crypto', 'cryptonews', 'cryptoAlerts', 'blockchain', 'cryptotrading', 'cryptoprices', 'altcoins', 'bitcoin']\", 'Crypto Frog', 'False']\n",
      "Skipping row due to insufficient columns: ['Coin: $STSW']\n",
      "Skipping row due to insufficient columns: ['Pairs:']\n",
      "Skipping row due to insufficient columns: ['#STSW/#USDT']\n",
      "Skipping row due to insufficient columns: ['#newcoinlisting #crypto #cryptonews #cryptoAlerts #altcoins #bitcoin #blockchain #cryptocurrency #cryptotrading', \"['Bittrex', 'STSW', 'USDT', 'newcoinlisting', 'crypto', 'cryptonews', 'cryptoAlerts', 'altcoins', 'bitcoin', 'blockchain', 'cryptocurrency', 'cryptotrading']\", 'CoinListingBot', 'False']\n",
      "Skipping row due to insufficient columns: ['👉https://t.co/XsdBPI7qf6']\n",
      "Skipping row due to insufficient columns: ['$TOPC 7.76%']\n",
      "Skipping row due to insufficient columns: ['$YOU 0.54%']\n",
      "Skipping row due to insufficient columns: ['$YFII 0.53%']\n",
      "Skipping row due to insufficient columns: ['$MDT 0.38%']\n",
      "Skipping row due to insufficient columns: ['$CELT 0.35%']\n",
      "Skipping row due to insufficient columns: [' #TOPC #YOU #YFII #MDT #CELT #crypto #cryptonews #cryptoAlerts #blockchain  #cryptotrading #cryptoprices #altcoins #bitcoin', \"['cryptocurrency', 'price', 'OKX', 'TOPC', 'YOU', 'YFII', 'MDT', 'CELT', 'crypto', 'cryptonews', 'cryptoAlerts', 'blockchain', 'cryptotrading', 'cryptoprices', 'altcoins', 'bitcoin']\", 'Crypto Frog', 'False']\n",
      "Skipping row due to insufficient columns: ['👉https://t.co/dwh8jR9uho']\n",
      "Skipping row due to insufficient columns: ['$MM 5.54%']\n",
      "Skipping row due to insufficient columns: ['$HSC 0.65%']\n",
      "Skipping row due to insufficient columns: ['$AAA 0.57%']\n",
      "Skipping row due to insufficient columns: ['$RADAR 0.42%']\n",
      "Skipping row due to insufficient columns: ['$ACA 0.33%']\n",
      "Skipping row due to insufficient columns: [' #MM #HSC #AAA #RADAR #ACA #crypto #cryptonews #cryptoAlerts #blockchain  #cryptotrading #cryptoprices #altcoins #bitcoin', \"['cryptocurrency', 'price', 'GateIo', 'MM', 'HSC', 'AAA', 'RADAR', 'ACA', 'crypto', 'cryptonews', 'cryptoAlerts', 'blockchain', 'cryptotrading', 'cryptoprices', 'altcoins', 'bitcoin']\", 'Crypto Frog', 'False']\n"
     ]
    },
    {
     "name": "stderr",
     "output_type": "stream",
     "text": [
      "Preprocessing tweets: 157392it [00:53, 2889.36it/s]"
     ]
    },
    {
     "name": "stdout",
     "output_type": "stream",
     "text": [
      "Skipping row due to insufficient columns: ['Coin: $ANKR']\n",
      "Skipping row due to insufficient columns: ['Pairs:']\n",
      "Skipping row due to insufficient columns: ['#ANKR/#USDT']\n",
      "Skipping row due to insufficient columns: ['#ANKR/#BTC']\n",
      "Skipping row due to insufficient columns: ['#newcoinlisting #crypto #cryptonews #cryptoAlerts #altcoins #bitcoin #blockchain #cryptocurrency #cryptotrading', \"['DexTrade', 'ANKR', 'USDT', 'ANKR', 'BTC', 'newcoinlisting', 'crypto', 'cryptonews', 'cryptoAlerts', 'altcoins', 'bitcoin', 'blockchain', 'cryptocurrency', 'cryptotrading']\", 'CoinListingBot', 'False']\n",
      "Skipping row due to insufficient columns: ['Coin: $3KM']\n",
      "Skipping row due to insufficient columns: ['Pairs:']\n",
      "Skipping row due to insufficient columns: ['#3KM/#USDT']\n",
      "Skipping row due to insufficient columns: ['#newcoinlisting #crypto #cryptonews #cryptoAlerts #altcoins #bitcoin #blockchain #cryptocurrency #cryptotrading', \"['MEXC', '3KM', 'USDT', 'newcoinlisting', 'crypto', 'cryptonews', 'cryptoAlerts', 'altcoins', 'bitcoin', 'blockchain', 'cryptocurrency', 'cryptotrading']\", 'CoinListingBot', 'False']\n",
      "Skipping row due to insufficient columns: ['👉https://t.co/dwh8jR9uho']\n",
      "Skipping row due to insufficient columns: ['$NBP 3.28%']\n",
      "Skipping row due to insufficient columns: ['$BOBA 0.94%']\n",
      "Skipping row due to insufficient columns: ['$T 0.64%']\n",
      "Skipping row due to insufficient columns: ['$STX 0.6%']\n",
      "Skipping row due to insufficient columns: ['$QRDO 0.47%']\n",
      "Skipping row due to insufficient columns: [' #NBP #BOBA #T #STX #QRDO #crypto #cryptonews #cryptoAlerts #blockchain  #cryptotrading #cryptoprices #altcoins #bitcoin', \"['cryptocurrency', 'price', 'GateIo', 'NBP', 'BOBA', 'T', 'STX', 'QRDO', 'crypto', 'cryptonews', 'cryptoAlerts', 'blockchain', 'cryptotrading', 'cryptoprices', 'altcoins', 'bitcoin']\", 'Crypto Frog', 'False']\n"
     ]
    },
    {
     "name": "stderr",
     "output_type": "stream",
     "text": [
      "Preprocessing tweets: 157981it [00:53, 2884.03it/s]"
     ]
    },
    {
     "name": "stdout",
     "output_type": "stream",
     "text": [
      "Skipping row due to insufficient columns: ['Coin: $IBSC']\n",
      "Skipping row due to insufficient columns: ['Pairs:']\n",
      "Skipping row due to insufficient columns: ['#IBSC/#USDT']\n",
      "Skipping row due to insufficient columns: ['#newcoinlisting #crypto #cryptonews #cryptoAlerts #altcoins #bitcoin #blockchain #cryptocurrency #cryptotrading', \"['Coinsbit', 'IBSC', 'USDT', 'newcoinlisting', 'crypto', 'cryptonews', 'cryptoAlerts', 'altcoins', 'bitcoin', 'blockchain', 'cryptocurrency', 'cryptotrading']\", 'CoinListingBot', 'False']\n",
      "Skipping row due to insufficient columns: ['Coin: $DTRINU']\n",
      "Skipping row due to insufficient columns: ['Pairs:']\n",
      "Skipping row due to insufficient columns: ['#DTRINU/#USDT']\n",
      "Skipping row due to insufficient columns: ['#newcoinlisting #crypto #cryptonews #cryptoAlerts #altcoins #bitcoin #blockchain #cryptocurrency #cryptotrading', \"['LaToken', 'DTRINU', 'USDT', 'newcoinlisting', 'crypto', 'cryptonews', 'cryptoAlerts', 'altcoins', 'bitcoin', 'blockchain', 'cryptocurrency', 'cryptotrading']\", 'CoinListingBot', 'False']\n",
      "Skipping row due to insufficient columns: ['👉https://t.co/dwh8jR9uho']\n",
      "Skipping row due to insufficient columns: ['$GTH 4.38%']\n",
      "Skipping row due to insufficient columns: ['$ADS 1.18%']\n",
      "Skipping row due to insufficient columns: ['$BNC 0.98%']\n",
      "Skipping row due to insufficient columns: ['$BDP 0.72%']\n",
      "Skipping row due to insufficient columns: ['$FNF 0.53%']\n",
      "Skipping row due to insufficient columns: [' #GTH #ADS #BNC #BDP #FNF #crypto #cryptonews #cryptoAlerts #blockchain  #cryptotrading #cryptoprices #altcoins #bitcoin', \"['cryptocurrency', 'price', 'GateIo', 'GTH', 'ADS', 'BNC', 'BDP', 'FNF', 'crypto', 'cryptonews', 'cryptoAlerts', 'blockchain', 'cryptotrading', 'cryptoprices', 'altcoins', 'bitcoin']\", 'Crypto Frog', 'False']\n",
      "Skipping row due to insufficient columns: ['Coin: $FTN']\n",
      "Skipping row due to insufficient columns: ['Pairs:']\n",
      "Skipping row due to insufficient columns: ['#FTN/#USDT']\n",
      "Skipping row due to insufficient columns: ['#newcoinlisting #crypto #cryptonews #cryptoAlerts #altcoins #bitcoin #blockchain #cryptocurrency #cryptotrading', \"['BitMart', 'FTN', 'USDT', 'newcoinlisting', 'crypto', 'cryptonews', 'cryptoAlerts', 'altcoins', 'bitcoin', 'blockchain', 'cryptocurrency', 'cryptotrading']\", 'CoinListingBot', 'False']\n"
     ]
    },
    {
     "name": "stderr",
     "output_type": "stream",
     "text": [
      "Preprocessing tweets: 158851it [00:53, 2846.91it/s]"
     ]
    },
    {
     "name": "stdout",
     "output_type": "stream",
     "text": [
      "Skipping row due to insufficient columns: ['👉https://t.co/dwh8jR9uho']\n",
      "Skipping row due to insufficient columns: ['$HELLO 3.07%']\n",
      "Skipping row due to insufficient columns: ['$KNOT 2.65%']\n",
      "Skipping row due to insufficient columns: ['$SOLO 0.61%']\n",
      "Skipping row due to insufficient columns: [' #HELLO #KNOT #SOLO #crypto #cryptonews #cryptoAlerts #blockchain  #cryptotrading #cryptoprices #altcoins #bitcoin', \"['cryptocurrency', 'price', 'GateIo', 'HELLO', 'KNOT', 'SOLO', 'crypto', 'cryptonews', 'cryptoAlerts', 'blockchain', 'cryptotrading', 'cryptoprices', 'altcoins', 'bitcoin']\", 'Crypto Frog', 'False']\n",
      "Skipping row due to insufficient columns: ['👉https://t.co/dwh8jR9uho']\n",
      "Skipping row due to insufficient columns: ['$POP 4.06%']\n",
      "Skipping row due to insufficient columns: ['$PAW 1.96%']\n",
      "Skipping row due to insufficient columns: ['$XEM 0.8%']\n",
      "Skipping row due to insufficient columns: ['$PROS 0.55%']\n",
      "Skipping row due to insufficient columns: ['$FIRO 0.44%']\n",
      "Skipping row due to insufficient columns: [' #POP #PAW #XEM #PROS #FIRO #crypto #cryptonews #cryptoAlerts #blockchain  #cryptotrading #cryptoprices #altcoins #bitcoin', \"['cryptocurrency', 'price', 'GateIo', 'POP', 'PAW', 'XEM', 'PROS', 'FIRO', 'crypto', 'cryptonews', 'cryptoAlerts', 'blockchain', 'cryptotrading', 'cryptoprices', 'altcoins', 'bitcoin']\", 'Crypto Frog', 'False']\n"
     ]
    },
    {
     "name": "stderr",
     "output_type": "stream",
     "text": [
      "Preprocessing tweets: 160285it [00:54, 2856.85it/s]"
     ]
    },
    {
     "name": "stdout",
     "output_type": "stream",
     "text": [
      "Skipping row due to insufficient columns: ['👉https://t.co/AdJlZWUXsw']\n",
      "Skipping row due to insufficient columns: ['$KPC 3.24%']\n",
      "Skipping row due to insufficient columns: ['$STOS 1%']\n",
      "Skipping row due to insufficient columns: ['$ICB 0.36%']\n",
      "Skipping row due to insufficient columns: [' #KPC #STOS #ICB #crypto #cryptonews #cryptoAlerts #blockchain  #cryptotrading #cryptoprices #altcoins #bitcoin', \"['cryptocurrency', 'price', 'MEXC', 'KPC', 'STOS', 'ICB', 'crypto', 'cryptonews', 'cryptoAlerts', 'blockchain', 'cryptotrading', 'cryptoprices', 'altcoins', 'bitcoin']\", 'Crypto Frog', 'False']\n",
      "Skipping row due to insufficient columns: ['Coin: $TROVE']\n",
      "Skipping row due to insufficient columns: ['Pairs:']\n",
      "Skipping row due to insufficient columns: ['#TROVE/#USDT']\n",
      "Skipping row due to insufficient columns: ['#newcoinlisting #crypto #cryptonews #cryptoAlerts #altcoins #bitcoin #blockchain #cryptocurrency #cryptotrading', \"['Poloniex', 'TROVE', 'USDT', 'newcoinlisting', 'crypto', 'cryptonews', 'cryptoAlerts', 'altcoins', 'bitcoin', 'blockchain', 'cryptocurrency', 'cryptotrading']\", 'CoinListingBot', 'False']\n",
      "Skipping row due to insufficient columns: ['👉https://t.co/dwh8jR9uho']\n",
      "Skipping row due to insufficient columns: ['$ELF 3.44%']\n",
      "Skipping row due to insufficient columns: ['$ELT 1.46%']\n",
      "Skipping row due to insufficient columns: ['$ALI 1.02%']\n",
      "Skipping row due to insufficient columns: ['$PNG 0.94%']\n",
      "Skipping row due to insufficient columns: ['$TRU 0.57%']\n",
      "Skipping row due to insufficient columns: [' #ELF #ELT #ALI #PNG #TRU #crypto #cryptonews #cryptoAlerts #blockchain  #cryptotrading #cryptoprices #altcoins #bitcoin', \"['cryptocurrency', 'price', 'GateIo', 'ELF', 'ELT', 'ALI', 'PNG', 'TRU', 'crypto', 'cryptonews', 'cryptoAlerts', 'blockchain', 'cryptotrading', 'cryptoprices', 'altcoins', 'bitcoin']\", 'Crypto Frog', 'False']\n",
      "Skipping row due to insufficient columns: ['👉https://t.co/dwh8jR9uho']\n",
      "Skipping row due to insufficient columns: ['$NBP 6.07%']\n",
      "Skipping row due to insufficient columns: ['$BNX 1.07%']\n",
      "Skipping row due to insufficient columns: ['$QUACK 0.64%']\n",
      "Skipping row due to insufficient columns: ['$ADS 0.58%']\n",
      "Skipping row due to insufficient columns: ['$MBL 0.32%']\n",
      "Skipping row due to insufficient columns: [' #NBP #BNX #QUACK #ADS #MBL #crypto #cryptonews #cryptoAlerts #blockchain  #cryptotrading #cryptoprices #altcoins #bitcoin', \"['cryptocurrency', 'price', 'GateIo', 'NBP', 'BNX', 'QUACK', 'ADS', 'MBL', 'crypto', 'cryptonews', 'cryptoAlerts', 'blockchain', 'cryptotrading', 'cryptoprices', 'altcoins', 'bitcoin']\", 'Crypto Frog', 'False']\n",
      "Skipping row due to insufficient columns: ['Coin: $EUROC']\n",
      "Skipping row due to insufficient columns: ['Pairs:']\n",
      "Skipping row due to insufficient columns: ['#EUROC/#USDC']\n",
      "Skipping row due to insufficient columns: ['#newcoinlisting #crypto #cryptonews #cryptoAlerts #altcoins #bitcoin #blockchain #cryptocurrency #cryptotrading', \"['Bitstamp', 'EUROC', 'USDC', 'newcoinlisting', 'crypto', 'cryptonews', 'cryptoAlerts', 'altcoins', 'bitcoin', 'blockchain', 'cryptocurrency', 'cryptotrading']\", 'CoinListingBot', 'False']\n"
     ]
    },
    {
     "name": "stderr",
     "output_type": "stream",
     "text": [
      "Preprocessing tweets: 160883it [00:54, 2923.56it/s]"
     ]
    },
    {
     "name": "stdout",
     "output_type": "stream",
     "text": [
      "Skipping row due to insufficient columns: ['Coin: $EUROC']\n",
      "Skipping row due to insufficient columns: ['Pairs:']\n",
      "Skipping row due to insufficient columns: ['#EUROC/#EUR']\n",
      "Skipping row due to insufficient columns: ['#newcoinlisting #crypto #cryptonews #cryptoAlerts #altcoins #bitcoin #blockchain #cryptocurrency #cryptotrading', \"['Bitstamp', 'EUROC', 'EUR', 'newcoinlisting', 'crypto', 'cryptonews', 'cryptoAlerts', 'altcoins', 'bitcoin', 'blockchain', 'cryptocurrency', 'cryptotrading']\", 'CoinListingBot', 'False']\n",
      "Skipping row due to insufficient columns: ['👉https://t.co/XsdBPI7qf6']\n",
      "Skipping row due to insufficient columns: ['$SIS 6.94%']\n",
      "Skipping row due to insufficient columns: ['$ANW 1.37%']\n",
      "Skipping row due to insufficient columns: ['$LDN 0.99%']\n",
      "Skipping row due to insufficient columns: ['$SUN 0.59%']\n",
      "Skipping row due to insufficient columns: ['$BSV 0.48%']\n",
      "Skipping row due to insufficient columns: [' #SIS #ANW #LDN #SUN #BSV #crypto #cryptonews #cryptoAlerts #blockchain  #cryptotrading #cryptoprices #altcoins #bitcoin', \"['cryptocurrency', 'price', 'OKX', 'SIS', 'ANW', 'LDN', 'SUN', 'BSV', 'crypto', 'cryptonews', 'cryptoAlerts', 'blockchain', 'cryptotrading', 'cryptoprices', 'altcoins', 'bitcoin']\", 'Crypto Frog', 'False']\n",
      "Skipping row due to insufficient columns: ['Coin: $CRED']\n",
      "Skipping row due to insufficient columns: ['Pairs:']\n",
      "Skipping row due to insufficient columns: ['#CRED/#USDT']\n",
      "Skipping row due to insufficient columns: ['#newcoinlisting #crypto #cryptonews #cryptoAlerts #altcoins #bitcoin #blockchain #cryptocurrency #cryptotrading', \"['P2PB2B', 'CRED', 'USDT', 'newcoinlisting', 'crypto', 'cryptonews', 'cryptoAlerts', 'altcoins', 'bitcoin', 'blockchain', 'cryptocurrency', 'cryptotrading']\", 'CoinListingBot', 'False']\n",
      "Skipping row due to insufficient columns: ['👉https://t.co/dwh8jR9uho']\n",
      "Skipping row due to insufficient columns: ['$PERA 3.42%']\n",
      "Skipping row due to insufficient columns: ['$RFUEL 1.51%']\n",
      "Skipping row due to insufficient columns: ['$T 1.15%']\n",
      "Skipping row due to insufficient columns: ['$TNC 0.94%']\n",
      "Skipping row due to insufficient columns: ['$REEF 0.79%']\n",
      "Skipping row due to insufficient columns: [' #PERA #RFUEL #T #TNC #REEF #crypto #cryptonews #cryptoAlerts #blockchain  #cryptotrading #cryptoprices #altcoins #bitcoin', \"['cryptocurrency', 'price', 'GateIo', 'PERA', 'RFUEL', 'T', 'TNC', 'REEF', 'crypto', 'cryptonews', 'cryptoAlerts', 'blockchain', 'cryptotrading', 'cryptoprices', 'altcoins', 'bitcoin']\", 'Crypto Frog', 'False']\n",
      "Skipping row due to insufficient columns: ['Coin: $GNS']\n",
      "Skipping row due to insufficient columns: ['Pairs:']\n",
      "Skipping row due to insufficient columns: ['#GNS/#USD']\n",
      "Skipping row due to insufficient columns: ['#newcoinlisting #crypto #cryptonews #cryptoAlerts #altcoins #bitcoin #blockchain #cryptocurrency #cryptotrading', \"['CryptoCom', 'GNS', 'USD', 'newcoinlisting', 'crypto', 'cryptonews', 'cryptoAlerts', 'altcoins', 'bitcoin', 'blockchain', 'cryptocurrency', 'cryptotrading']\", 'CoinListingBot', 'False']\n"
     ]
    },
    {
     "name": "stderr",
     "output_type": "stream",
     "text": [
      "Preprocessing tweets: 162060it [00:55, 2854.41it/s]"
     ]
    },
    {
     "name": "stdout",
     "output_type": "stream",
     "text": [
      "Skipping row due to insufficient columns: ['Coin: $PRIME']\n",
      "Skipping row due to insufficient columns: ['Pairs:']\n",
      "Skipping row due to insufficient columns: ['#PRIME/#USDT']\n",
      "Skipping row due to insufficient columns: ['#newcoinlisting #crypto #cryptonews #cryptoAlerts #altcoins #bitcoin #blockchain #cryptocurrency #cryptotrading', \"['LBank', 'PRIME', 'USDT', 'newcoinlisting', 'crypto', 'cryptonews', 'cryptoAlerts', 'altcoins', 'bitcoin', 'blockchain', 'cryptocurrency', 'cryptotrading']\", 'CoinListingBot', 'False']\n",
      "Skipping row due to insufficient columns: ['Coin: $BONE']\n",
      "Skipping row due to insufficient columns: ['Pairs:']\n",
      "Skipping row due to insufficient columns: ['#BONE/#USD']\n",
      "Skipping row due to insufficient columns: ['#newcoinlisting #crypto #cryptonews #cryptoAlerts #altcoins #bitcoin #blockchain #cryptocurrency #cryptotrading', \"['CryptoCom', 'BONE', 'USD', 'newcoinlisting', 'crypto', 'cryptonews', 'cryptoAlerts', 'altcoins', 'bitcoin', 'blockchain', 'cryptocurrency', 'cryptotrading']\", 'CoinListingBot', 'False']\n",
      "Skipping row due to insufficient columns: ['Coin: $RECRUIT']\n",
      "Skipping row due to insufficient columns: ['Pairs:']\n",
      "Skipping row due to insufficient columns: ['#RECRUIT/#USDT']\n",
      "Skipping row due to insufficient columns: ['#newcoinlisting #crypto #cryptonews #cryptoAlerts #altcoins #bitcoin #blockchain #cryptocurrency #cryptotrading', \"['BitMart', 'RECRUIT', 'USDT', 'newcoinlisting', 'crypto', 'cryptonews', 'cryptoAlerts', 'altcoins', 'bitcoin', 'blockchain', 'cryptocurrency', 'cryptotrading']\", 'CoinListingBot', 'False']\n",
      "Skipping row due to insufficient columns: ['Coin: $WEBAI']\n",
      "Skipping row due to insufficient columns: ['Pairs:']\n",
      "Skipping row due to insufficient columns: ['#WEBAI/#USDT']\n",
      "Skipping row due to insufficient columns: ['#newcoinlisting #crypto #cryptonews #cryptoAlerts #altcoins #bitcoin #blockchain #cryptocurrency #cryptotrading', \"['Coinstore', 'WEBAI', 'USDT', 'newcoinlisting', 'crypto', 'cryptonews', 'cryptoAlerts', 'altcoins', 'bitcoin', 'blockchain', 'cryptocurrency', 'cryptotrading']\", 'CoinListingBot', 'False']\n"
     ]
    },
    {
     "name": "stderr",
     "output_type": "stream",
     "text": [
      "Preprocessing tweets: 162895it [00:55, 2713.21it/s]"
     ]
    },
    {
     "name": "stdout",
     "output_type": "stream",
     "text": [
      "Skipping row due to insufficient columns: ['👉https://t.co/dwh8jR9uho']\n",
      "Skipping row due to insufficient columns: ['$FIC 4.11%']\n",
      "Skipping row due to insufficient columns: ['$AIRTNT 0.55%']\n",
      "Skipping row due to insufficient columns: ['$USTC 0.37%']\n",
      "Skipping row due to insufficient columns: [' #FIC #AIRTNT #USTC #crypto #cryptonews #cryptoAlerts #blockchain  #cryptotrading #cryptoprices #altcoins #bitcoin', \"['cryptocurrency', 'price', 'GateIo', 'FIC', 'AIRTNT', 'USTC', 'crypto', 'cryptonews', 'cryptoAlerts', 'blockchain', 'cryptotrading', 'cryptoprices', 'altcoins', 'bitcoin']\", 'Crypto Frog', 'False']\n",
      "Skipping row due to insufficient columns: ['👉https://t.co/AdJlZWUXsw']\n",
      "Skipping row due to insufficient columns: ['$DKM 4.44%']\n",
      "Skipping row due to insufficient columns: ['$KAS 0.51%']\n",
      "Skipping row due to insufficient columns: ['$JST 0.38%']\n",
      "Skipping row due to insufficient columns: [' #DKM #KAS #JST #crypto #cryptonews #cryptoAlerts #blockchain  #cryptotrading #cryptoprices #altcoins #bitcoin', \"['cryptocurrency', 'price', 'MEXC', 'DKM', 'KAS', 'JST', 'crypto', 'cryptonews', 'cryptoAlerts', 'blockchain', 'cryptotrading', 'cryptoprices', 'altcoins', 'bitcoin']\", 'Crypto Frog', 'False']\n",
      "Skipping row due to insufficient columns: ['Coin: $$PRIME']\n",
      "Skipping row due to insufficient columns: ['Pairs:']\n",
      "Skipping row due to insufficient columns: ['#$PRIME/#USDT']\n",
      "Skipping row due to insufficient columns: ['#newcoinlisting #crypto #cryptonews #cryptoAlerts #altcoins #bitcoin #blockchain #cryptocurrency #cryptotrading', \"['BitMart', 'USDT', 'newcoinlisting', 'crypto', 'cryptonews', 'cryptoAlerts', 'altcoins', 'bitcoin', 'blockchain', 'cryptocurrency', 'cryptotrading']\", 'CoinListingBot', 'False']\n"
     ]
    },
    {
     "name": "stderr",
     "output_type": "stream",
     "text": [
      "Preprocessing tweets: 163519it [00:55, 2539.11it/s]"
     ]
    },
    {
     "name": "stdout",
     "output_type": "stream",
     "text": [
      "Skipping row due to insufficient columns: ['Coin: $CFX3S']\n",
      "Skipping row due to insufficient columns: ['Pairs:']\n",
      "Skipping row due to insufficient columns: ['#CFX3S/#USDT']\n",
      "Skipping row due to insufficient columns: ['#newcoinlisting #crypto #cryptonews #cryptoAlerts #altcoins #bitcoin #blockchain #cryptocurrency #cryptotrading', \"['BKEX', 'CFX3S', 'USDT', 'newcoinlisting', 'crypto', 'cryptonews', 'cryptoAlerts', 'altcoins', 'bitcoin', 'blockchain', 'cryptocurrency', 'cryptotrading']\", 'CoinListingBot', 'False']\n",
      "Skipping row due to insufficient columns: ['Coin: $CFX3L']\n",
      "Skipping row due to insufficient columns: ['Pairs:']\n",
      "Skipping row due to insufficient columns: ['#CFX3L/#USDT']\n",
      "Skipping row due to insufficient columns: ['#newcoinlisting #crypto #cryptonews #cryptoAlerts #altcoins #bitcoin #blockchain #cryptocurrency #cryptotrading', \"['BKEX', 'CFX3L', 'USDT', 'newcoinlisting', 'crypto', 'cryptonews', 'cryptoAlerts', 'altcoins', 'bitcoin', 'blockchain', 'cryptocurrency', 'cryptotrading']\", 'CoinListingBot', 'False']\n",
      "Skipping row due to insufficient columns: ['👉https://t.co/dwh8jR9uho']\n",
      "Skipping row due to insufficient columns: ['$PAW 3.4%']\n",
      "Skipping row due to insufficient columns: ['$PBR 0.9%']\n",
      "Skipping row due to insufficient columns: ['$ARSW 0.57%']\n",
      "Skipping row due to insufficient columns: ['$BURP 0.5%']\n",
      "Skipping row due to insufficient columns: ['$LUNC 0.49%']\n",
      "Skipping row due to insufficient columns: [' #PAW #PBR #ARSW #BURP #LUNC #crypto #cryptonews #cryptoAlerts #blockchain  #cryptotrading #cryptoprices #altcoins #bitcoin', \"['cryptocurrency', 'price', 'GateIo', 'PAW', 'PBR', 'ARSW', 'BURP', 'LUNC', 'crypto', 'cryptonews', 'cryptoAlerts', 'blockchain', 'cryptotrading', 'cryptoprices', 'altcoins', 'bitcoin']\", 'Crypto Frog', 'False']\n",
      "Skipping row due to insufficient columns: ['Coin: $SSV3S']\n",
      "Skipping row due to insufficient columns: ['Pairs:']\n",
      "Skipping row due to insufficient columns: ['#SSV3S/#USDT']\n",
      "Skipping row due to insufficient columns: ['#newcoinlisting #crypto #cryptonews #cryptoAlerts #altcoins #bitcoin #blockchain #cryptocurrency #cryptotrading', \"['LBank', 'SSV3S', 'USDT', 'newcoinlisting', 'crypto', 'cryptonews', 'cryptoAlerts', 'altcoins', 'bitcoin', 'blockchain', 'cryptocurrency', 'cryptotrading']\", 'CoinListingBot', 'False']\n",
      "Skipping row due to insufficient columns: ['Coin: $SSV3L']\n",
      "Skipping row due to insufficient columns: ['Pairs:']\n",
      "Skipping row due to insufficient columns: ['#SSV3L/#USDT']\n",
      "Skipping row due to insufficient columns: ['#newcoinlisting #crypto #cryptonews #cryptoAlerts #altcoins #bitcoin #blockchain #cryptocurrency #cryptotrading', \"['LBank', 'SSV3L', 'USDT', 'newcoinlisting', 'crypto', 'cryptonews', 'cryptoAlerts', 'altcoins', 'bitcoin', 'blockchain', 'cryptocurrency', 'cryptotrading']\", 'CoinListingBot', 'False']\n",
      "Skipping row due to insufficient columns: ['Coin: $AGIX3S']\n",
      "Skipping row due to insufficient columns: ['Pairs:']\n",
      "Skipping row due to insufficient columns: ['#AGIX3S/#USDT']\n",
      "Skipping row due to insufficient columns: ['#newcoinlisting #crypto #cryptonews #cryptoAlerts #altcoins #bitcoin #blockchain #cryptocurrency #cryptotrading', \"['LBank', 'AGIX3S', 'USDT', 'newcoinlisting', 'crypto', 'cryptonews', 'cryptoAlerts', 'altcoins', 'bitcoin', 'blockchain', 'cryptocurrency', 'cryptotrading']\", 'CoinListingBot', 'False']\n",
      "Skipping row due to insufficient columns: ['Coin: $AGIX3L']\n",
      "Skipping row due to insufficient columns: ['Pairs:']\n",
      "Skipping row due to insufficient columns: ['#AGIX3L/#USDT']\n",
      "Skipping row due to insufficient columns: ['#newcoinlisting #crypto #cryptonews #cryptoAlerts #altcoins #bitcoin #blockchain #cryptocurrency #cryptotrading', \"['LBank', 'AGIX3L', 'USDT', 'newcoinlisting', 'crypto', 'cryptonews', 'cryptoAlerts', 'altcoins', 'bitcoin', 'blockchain', 'cryptocurrency', 'cryptotrading']\", 'CoinListingBot', 'False']\n",
      "Skipping row due to insufficient columns: ['Coin: $KAKI']\n",
      "Skipping row due to insufficient columns: ['Pairs:']\n",
      "Skipping row due to insufficient columns: ['#KAKI/#USDT']\n",
      "Skipping row due to insufficient columns: ['#newcoinlisting #crypto #cryptonews #cryptoAlerts #altcoins #bitcoin #blockchain #cryptocurrency #cryptotrading', \"['Digifinex', 'KAKI', 'USDT', 'newcoinlisting', 'crypto', 'cryptonews', 'cryptoAlerts', 'altcoins', 'bitcoin', 'blockchain', 'cryptocurrency', 'cryptotrading']\", 'CoinListingBot', 'False']\n",
      "Skipping row due to insufficient columns: ['Coin: $SYN']\n",
      "Skipping row due to insufficient columns: ['Pairs:']\n",
      "Skipping row due to insufficient columns: ['#SYN/#USDT']\n",
      "Skipping row due to insufficient columns: ['#newcoinlisting #crypto #cryptonews #cryptoAlerts #altcoins #bitcoin #blockchain #cryptocurrency #cryptotrading', \"['Phemex', 'SYN', 'USDT', 'newcoinlisting', 'crypto', 'cryptonews', 'cryptoAlerts', 'altcoins', 'bitcoin', 'blockchain', 'cryptocurrency', 'cryptotrading']\", 'CoinListingBot', 'False']\n",
      "Skipping row due to insufficient columns: ['Coin: $GNS']\n",
      "Skipping row due to insufficient columns: ['Pairs:']\n",
      "Skipping row due to insufficient columns: ['#GNS/#USDT']\n",
      "Skipping row due to insufficient columns: ['#newcoinlisting #crypto #cryptonews #cryptoAlerts #altcoins #bitcoin #blockchain #cryptocurrency #cryptotrading', \"['Phemex', 'GNS', 'USDT', 'newcoinlisting', 'crypto', 'cryptonews', 'cryptoAlerts', 'altcoins', 'bitcoin', 'blockchain', 'cryptocurrency', 'cryptotrading']\", 'CoinListingBot', 'False']\n",
      "Skipping row due to insufficient columns: ['Coin: $GRAIL']\n",
      "Skipping row due to insufficient columns: ['Pairs:']\n",
      "Skipping row due to insufficient columns: ['#GRAIL/#USDT']\n",
      "Skipping row due to insufficient columns: ['#newcoinlisting #crypto #cryptonews #cryptoAlerts #altcoins #bitcoin #blockchain #cryptocurrency #cryptotrading', \"['Phemex', 'GRAIL', 'USDT', 'newcoinlisting', 'crypto', 'cryptonews', 'cryptoAlerts', 'altcoins', 'bitcoin', 'blockchain', 'cryptocurrency', 'cryptotrading']\", 'CoinListingBot', 'False']\n",
      "Skipping row due to insufficient columns: ['Coin: $DPX']\n",
      "Skipping row due to insufficient columns: ['Pairs:']\n",
      "Skipping row due to insufficient columns: ['#DPX/#USDT']\n",
      "Skipping row due to insufficient columns: ['#newcoinlisting #crypto #cryptonews #cryptoAlerts #altcoins #bitcoin #blockchain #cryptocurrency #cryptotrading', \"['Phemex', 'DPX', 'USDT', 'newcoinlisting', 'crypto', 'cryptonews', 'cryptoAlerts', 'altcoins', 'bitcoin', 'blockchain', 'cryptocurrency', 'cryptotrading']\", 'CoinListingBot', 'False']\n",
      "Skipping row due to insufficient columns: ['Coin: $RDNT']\n",
      "Skipping row due to insufficient columns: ['Pairs:']\n",
      "Skipping row due to insufficient columns: ['#RDNT/#USDT']\n",
      "Skipping row due to insufficient columns: ['#newcoinlisting #crypto #cryptonews #cryptoAlerts #altcoins #bitcoin #blockchain #cryptocurrency #cryptotrading', \"['Phemex', 'RDNT', 'USDT', 'newcoinlisting', 'crypto', 'cryptonews', 'cryptoAlerts', 'altcoins', 'bitcoin', 'blockchain', 'cryptocurrency', 'cryptotrading']\", 'CoinListingBot', 'False']\n",
      "Skipping row due to insufficient columns: ['Coin: $LQTY']\n",
      "Skipping row due to insufficient columns: ['Pairs:']\n",
      "Skipping row due to insufficient columns: ['#LQTY/#USDT']\n",
      "Skipping row due to insufficient columns: ['#newcoinlisting #crypto #cryptonews #cryptoAlerts #altcoins #bitcoin #blockchain #cryptocurrency #cryptotrading', \"['Phemex', 'LQTY', 'USDT', 'newcoinlisting', 'crypto', 'cryptonews', 'cryptoAlerts', 'altcoins', 'bitcoin', 'blockchain', 'cryptocurrency', 'cryptotrading']\", 'CoinListingBot', 'False']\n",
      "Skipping row due to insufficient columns: ['Coin: $ACH']\n",
      "Skipping row due to insufficient columns: ['Pairs:']\n",
      "Skipping row due to insufficient columns: ['#ACH/#USDT']\n",
      "Skipping row due to insufficient columns: ['#newcoinlisting #crypto #cryptonews #cryptoAlerts #altcoins #bitcoin #blockchain #cryptocurrency #cryptotrading', \"['BitForex', 'ACH', 'USDT', 'newcoinlisting', 'crypto', 'cryptonews', 'cryptoAlerts', 'altcoins', 'bitcoin', 'blockchain', 'cryptocurrency', 'cryptotrading']\", 'CoinListingBot', 'False']\n",
      "Skipping row due to insufficient columns: ['Coin: $PEPES']\n",
      "Skipping row due to insufficient columns: ['Pairs:']\n",
      "Skipping row due to insufficient columns: ['#PEPES/#USDT']\n",
      "Skipping row due to insufficient columns: ['#newcoinlisting #crypto #cryptonews #cryptoAlerts #altcoins #bitcoin #blockchain #cryptocurrency #cryptotrading', \"['ZT', 'PEPES', 'USDT', 'newcoinlisting', 'crypto', 'cryptonews', 'cryptoAlerts', 'altcoins', 'bitcoin', 'blockchain', 'cryptocurrency', 'cryptotrading']\", 'CoinListingBot', 'False']\n",
      "Skipping row due to insufficient columns: ['Coin: $PRIME']\n",
      "Skipping row due to insufficient columns: ['Pairs:']\n",
      "Skipping row due to insufficient columns: ['#PRIME/#USDT']\n",
      "Skipping row due to insufficient columns: ['#newcoinlisting #crypto #cryptonews #cryptoAlerts #altcoins #bitcoin #blockchain #cryptocurrency #cryptotrading', \"['ZT', 'PRIME', 'USDT', 'newcoinlisting', 'crypto', 'cryptonews', 'cryptoAlerts', 'altcoins', 'bitcoin', 'blockchain', 'cryptocurrency', 'cryptotrading']\", 'CoinListingBot', 'False']\n",
      "Skipping row due to insufficient columns: ['Coin: $LRC']\n",
      "Skipping row due to insufficient columns: ['Pairs:']\n",
      "Skipping row due to insufficient columns: ['#LRC/#USDT']\n",
      "Skipping row due to insufficient columns: ['#LRC/#USDC']\n",
      "Skipping row due to insufficient columns: ['#newcoinlisting #crypto #cryptonews #cryptoAlerts #altcoins #bitcoin #blockchain #cryptocurrency #cryptotrading', \"['HitBTC', 'LRC', 'USDT', 'LRC', 'USDC', 'newcoinlisting', 'crypto', 'cryptonews', 'cryptoAlerts', 'altcoins', 'bitcoin', 'blockchain', 'cryptocurrency', 'cryptotrading']\", 'CoinListingBot', 'False']\n",
      "Skipping row due to insufficient columns: ['Coin: $PEPES']\n",
      "Skipping row due to insufficient columns: ['Pairs:']\n",
      "Skipping row due to insufficient columns: ['#PEPES/#USDT']\n",
      "Skipping row due to insufficient columns: ['#newcoinlisting #crypto #cryptonews #cryptoAlerts #altcoins #bitcoin #blockchain #cryptocurrency #cryptotrading', \"['Hotbit', 'PEPES', 'USDT', 'newcoinlisting', 'crypto', 'cryptonews', 'cryptoAlerts', 'altcoins', 'bitcoin', 'blockchain', 'cryptocurrency', 'cryptotrading']\", 'CoinListingBot', 'False']\n",
      "Skipping row due to insufficient columns: ['Coin: $EQUILIBRIUMGAMES']\n",
      "Skipping row due to insufficient columns: ['Pairs:']\n",
      "Skipping row due to insufficient columns: ['#EQUILIBRIUMGAMES/#USDT']\n",
      "Skipping row due to insufficient columns: ['#newcoinlisting #crypto #cryptonews #cryptoAlerts #altcoins #bitcoin #blockchain #cryptocurrency #cryptotrading', \"['MEXC', 'EQUILIBRIUMGAMES', 'USDT', 'newcoinlisting', 'crypto', 'cryptonews', 'cryptoAlerts', 'altcoins', 'bitcoin', 'blockchain', 'cryptocurrency', 'cryptotrading']\", 'CoinListingBot', 'False']\n",
      "Skipping row due to insufficient columns: ['Coin: $ALLIN']\n",
      "Skipping row due to insufficient columns: ['Pairs:']\n",
      "Skipping row due to insufficient columns: ['#ALLIN/#USDT']\n",
      "Skipping row due to insufficient columns: ['#newcoinlisting #crypto #cryptonews #cryptoAlerts #altcoins #bitcoin #blockchain #cryptocurrency #cryptotrading', \"['Coinstore', 'ALLIN', 'USDT', 'newcoinlisting', 'crypto', 'cryptonews', 'cryptoAlerts', 'altcoins', 'bitcoin', 'blockchain', 'cryptocurrency', 'cryptotrading']\", 'CoinListingBot', 'False']\n",
      "Skipping row due to insufficient columns: ['👉https://t.co/dwh8jR9uho']\n",
      "Skipping row due to insufficient columns: ['$VRX 5.05%']\n",
      "Skipping row due to insufficient columns: ['$PWAR 1.86%']\n",
      "Skipping row due to insufficient columns: ['$LUNC 1.57%']\n",
      "Skipping row due to insufficient columns: ['$ANC 0.72%']\n",
      "Skipping row due to insufficient columns: ['$SPO 0.53%']\n",
      "Skipping row due to insufficient columns: [' #VRX #PWAR #LUNC #ANC #SPO #crypto #cryptonews #cryptoAlerts #blockchain  #cryptotrading #cryptoprices #altcoins #bitcoin', \"['cryptocurrency', 'price', 'GateIo', 'VRX', 'PWAR', 'LUNC', 'ANC', 'SPO', 'crypto', 'cryptonews', 'cryptoAlerts', 'blockchain', 'cryptotrading', 'cryptoprices', 'altcoins', 'bitcoin']\", 'Crypto Frog', 'False']\n"
     ]
    },
    {
     "name": "stderr",
     "output_type": "stream",
     "text": [
      "Preprocessing tweets: 164090it [00:55, 2680.94it/s]"
     ]
    },
    {
     "name": "stdout",
     "output_type": "stream",
     "text": [
      "Skipping row due to insufficient columns: ['👉https://t.co/XsdBPI7qf6']\n",
      "Skipping row due to insufficient columns: ['$MRST 7.53%']\n",
      "Skipping row due to insufficient columns: ['$ANC 0.37%']\n",
      "Skipping row due to insufficient columns: ['$CONV 0.36%']\n",
      "Skipping row due to insufficient columns: [' #MRST #ANC #CONV #crypto #cryptonews #cryptoAlerts #blockchain  #cryptotrading #cryptoprices #altcoins #bitcoin', \"['cryptocurrency', 'price', 'OKX', 'MRST', 'ANC', 'CONV', 'crypto', 'cryptonews', 'cryptoAlerts', 'blockchain', 'cryptotrading', 'cryptoprices', 'altcoins', 'bitcoin']\", 'Crypto Frog', 'False']\n",
      "Skipping row due to insufficient columns: ['Coin: $CONE']\n",
      "Skipping row due to insufficient columns: ['Pairs:']\n",
      "Skipping row due to insufficient columns: ['#CONE/#USDT']\n",
      "Skipping row due to insufficient columns: ['#newcoinlisting #crypto #cryptonews #cryptoAlerts #altcoins #bitcoin #blockchain #cryptocurrency #cryptotrading', \"['BitMart', 'CONE', 'USDT', 'newcoinlisting', 'crypto', 'cryptonews', 'cryptoAlerts', 'altcoins', 'bitcoin', 'blockchain', 'cryptocurrency', 'cryptotrading']\", 'CoinListingBot', 'False']\n",
      "Skipping row due to insufficient columns: ['Coin: $PAW']\n",
      "Skipping row due to insufficient columns: ['Pairs:']\n",
      "Skipping row due to insufficient columns: ['#PAW/#USDT']\n",
      "Skipping row due to insufficient columns: ['#newcoinlisting #crypto #cryptonews #cryptoAlerts #altcoins #bitcoin #blockchain #cryptocurrency #cryptotrading', \"['Bitrue', 'PAW', 'USDT', 'newcoinlisting', 'crypto', 'cryptonews', 'cryptoAlerts', 'altcoins', 'bitcoin', 'blockchain', 'cryptocurrency', 'cryptotrading']\", 'CoinListingBot', 'False']\n",
      "Skipping row due to insufficient columns: ['👉https://t.co/dwh8jR9uho']\n",
      "Skipping row due to insufficient columns: ['$PRIME 5.37%']\n",
      "Skipping row due to insufficient columns: ['$ZAM 1.21%']\n",
      "Skipping row due to insufficient columns: ['$GST 0.83%']\n",
      "Skipping row due to insufficient columns: ['$ELF 0.61%']\n",
      "Skipping row due to insufficient columns: ['$TPT 0.5%']\n",
      "Skipping row due to insufficient columns: [' #PRIME #ZAM #GST #ELF #TPT #crypto #cryptonews #cryptoAlerts #blockchain  #cryptotrading #cryptoprices #altcoins #bitcoin', \"['cryptocurrency', 'price', 'GateIo', 'PRIME', 'ZAM', 'GST', 'ELF', 'TPT', 'crypto', 'cryptonews', 'cryptoAlerts', 'blockchain', 'cryptotrading', 'cryptoprices', 'altcoins', 'bitcoin']\", 'Crypto Frog', 'False']\n",
      "Skipping row due to insufficient columns: ['Coin: $BNXOLD']\n",
      "Skipping row due to insufficient columns: ['Pairs:']\n",
      "Skipping row due to insufficient columns: ['#BNXOLD/#USDT']\n",
      "Skipping row due to insufficient columns: ['#newcoinlisting #crypto #cryptonews #cryptoAlerts #altcoins #bitcoin #blockchain #cryptocurrency #cryptotrading', \"['Phemex', 'BNXOLD', 'USDT', 'newcoinlisting', 'crypto', 'cryptonews', 'cryptoAlerts', 'altcoins', 'bitcoin', 'blockchain', 'cryptocurrency', 'cryptotrading']\", 'CoinListingBot', 'False']\n",
      "Skipping row due to insufficient columns: ['👉https://t.co/dwh8jR9uho']\n",
      "Skipping row due to insufficient columns: ['$PRARE 3.46%']\n",
      "Skipping row due to insufficient columns: ['$CKB 0.57%']\n",
      "Skipping row due to insufficient columns: ['$AR 0.54%']\n",
      "Skipping row due to insufficient columns: ['$LOOKS 0.44%']\n",
      "Skipping row due to insufficient columns: ['$TRU 0.41%']\n",
      "Skipping row due to insufficient columns: [' #PRARE #CKB #AR #LOOKS #TRU #crypto #cryptonews #cryptoAlerts #blockchain  #cryptotrading #cryptoprices #altcoins #bitcoin', \"['cryptocurrency', 'price', 'GateIo', 'PRARE', 'CKB', 'AR', 'LOOKS', 'TRU', 'crypto', 'cryptonews', 'cryptoAlerts', 'blockchain', 'cryptotrading', 'cryptoprices', 'altcoins', 'bitcoin']\", 'Crypto Frog', 'False']\n",
      "Skipping row due to insufficient columns: ['Coin: $PUS']\n",
      "Skipping row due to insufficient columns: ['Pairs:']\n",
      "Skipping row due to insufficient columns: ['#PUS/#USDT']\n",
      "Skipping row due to insufficient columns: ['#newcoinlisting #crypto #cryptonews #cryptoAlerts #altcoins #bitcoin #blockchain #cryptocurrency #cryptotrading', \"['VinDAX', 'PUS', 'USDT', 'newcoinlisting', 'crypto', 'cryptonews', 'cryptoAlerts', 'altcoins', 'bitcoin', 'blockchain', 'cryptocurrency', 'cryptotrading']\", 'CoinListingBot', 'False']\n",
      "Skipping row due to insufficient columns: ['Coin: $GMT']\n",
      "Skipping row due to insufficient columns: ['Pairs:']\n",
      "Skipping row due to insufficient columns: ['#GMT/#BTC']\n",
      "Skipping row due to insufficient columns: ['#GMT/#ETH']\n",
      "Skipping row due to insufficient columns: ['#GMT/#USD']\n",
      "Skipping row due to insufficient columns: ['#GMT/#USDC']\n",
      "Skipping row due to insufficient columns: ['#GMT/#USDT']\n",
      "Skipping row due to insufficient columns: ['#newcoinlisting #crypto #cryptonews #cryptoAlerts #altcoins #bitcoin #blockchain #cryptocurrency #cryptotrading', \"['BTSE', 'GMT', 'BTC', 'GMT', 'ETH', 'GMT', 'USD', 'GMT', 'USDC', 'GMT', 'USDT', 'newcoinlisting', 'crypto', 'cryptonews', 'cryptoAlerts', 'altcoins', 'bitcoin', 'blockchain', 'cryptocurrency', 'cryptotrading']\", 'CoinListingBot', 'False']\n",
      "Skipping row due to insufficient columns: ['Coin: $AGIX']\n",
      "Skipping row due to insufficient columns: ['Pairs:']\n",
      "Skipping row due to insufficient columns: ['#AGIX/#USDT']\n",
      "Skipping row due to insufficient columns: ['#newcoinlisting #crypto #cryptonews #cryptoAlerts #altcoins #bitcoin #blockchain #cryptocurrency #cryptotrading', \"['BitForex', 'AGIX', 'USDT', 'newcoinlisting', 'crypto', 'cryptonews', 'cryptoAlerts', 'altcoins', 'bitcoin', 'blockchain', 'cryptocurrency', 'cryptotrading']\", 'CoinListingBot', 'False']\n"
     ]
    },
    {
     "name": "stderr",
     "output_type": "stream",
     "text": [
      "Preprocessing tweets: 164930it [00:56, 2738.36it/s]"
     ]
    },
    {
     "name": "stdout",
     "output_type": "stream",
     "text": [
      "Skipping row due to insufficient columns: ['Coin: $PIP']\n",
      "Skipping row due to insufficient columns: ['Pairs:']\n",
      "Skipping row due to insufficient columns: ['#PIP/#USDT']\n",
      "Skipping row due to insufficient columns: ['#newcoinlisting #crypto #cryptonews #cryptoAlerts #altcoins #bitcoin #blockchain #cryptocurrency #cryptotrading', \"['Bybit', 'PIP', 'USDT', 'newcoinlisting', 'crypto', 'cryptonews', 'cryptoAlerts', 'altcoins', 'bitcoin', 'blockchain', 'cryptocurrency', 'cryptotrading']\", 'CoinListingBot', 'False']\n",
      "Skipping row due to insufficient columns: ['Coin: $ASTR']\n",
      "Skipping row due to insufficient columns: ['Pairs:']\n",
      "Skipping row due to insufficient columns: ['#ASTR/#USDT']\n",
      "Skipping row due to insufficient columns: ['#newcoinlisting #crypto #cryptonews #cryptoAlerts #altcoins #bitcoin #blockchain #cryptocurrency #cryptotrading', \"['Phemex', 'ASTR', 'USDT', 'newcoinlisting', 'crypto', 'cryptonews', 'cryptoAlerts', 'altcoins', 'bitcoin', 'blockchain', 'cryptocurrency', 'cryptotrading']\", 'CoinListingBot', 'False']\n",
      "Skipping row due to insufficient columns: ['Coin: $SYN']\n",
      "Skipping row due to insufficient columns: ['Pairs:']\n",
      "Skipping row due to insufficient columns: ['#SYN/#USDT']\n",
      "Skipping row due to insufficient columns: ['#newcoinlisting #crypto #cryptonews #cryptoAlerts #altcoins #bitcoin #blockchain #cryptocurrency #cryptotrading', \"['LBank', 'SYN', 'USDT', 'newcoinlisting', 'crypto', 'cryptonews', 'cryptoAlerts', 'altcoins', 'bitcoin', 'blockchain', 'cryptocurrency', 'cryptotrading']\", 'CoinListingBot', 'False']\n",
      "Skipping row due to insufficient columns: ['👉https://t.co/dwh8jR9uho']\n",
      "Skipping row due to insufficient columns: ['$DVI 3.05%']\n",
      "Skipping row due to insufficient columns: ['$GZONE 1.92%']\n",
      "Skipping row due to insufficient columns: ['$PAW 1.92%']\n",
      "Skipping row due to insufficient columns: ['$PRQ 0.87%']\n",
      "Skipping row due to insufficient columns: ['$STOS 0.45%']\n",
      "Skipping row due to insufficient columns: [' #DVI #GZONE #PAW #PRQ #STOS #crypto #cryptonews #cryptoAlerts #blockchain  #cryptotrading #cryptoprices #altcoins #bitcoin', \"['cryptocurrency', 'price', 'GateIo', 'DVI', 'GZONE', 'PAW', 'PRQ', 'STOS', 'crypto', 'cryptonews', 'cryptoAlerts', 'blockchain', 'cryptotrading', 'cryptoprices', 'altcoins', 'bitcoin']\", 'Crypto Frog', 'False']\n",
      "Skipping row due to insufficient columns: ['Coin: $CATSHIRA']\n",
      "Skipping row due to insufficient columns: ['Pairs:']\n",
      "Skipping row due to insufficient columns: ['#CATSHIRA/#BUSD']\n",
      "Skipping row due to insufficient columns: ['#newcoinlisting #crypto #cryptonews #cryptoAlerts #altcoins #bitcoin #blockchain #cryptocurrency #cryptotrading', \"['Bilaxy', 'CATSHIRA', 'BUSD', 'newcoinlisting', 'crypto', 'cryptonews', 'cryptoAlerts', 'altcoins', 'bitcoin', 'blockchain', 'cryptocurrency', 'cryptotrading']\", 'CoinListingBot', 'False']\n",
      "Skipping row due to insufficient columns: ['Coin: $VXL']\n",
      "Skipping row due to insufficient columns: ['Pairs:']\n",
      "Skipping row due to insufficient columns: ['#VXL/#USDT']\n",
      "Skipping row due to insufficient columns: ['#newcoinlisting #crypto #cryptonews #cryptoAlerts #altcoins #bitcoin #blockchain #cryptocurrency #cryptotrading', \"['Bitget', 'VXL', 'USDT', 'newcoinlisting', 'crypto', 'cryptonews', 'cryptoAlerts', 'altcoins', 'bitcoin', 'blockchain', 'cryptocurrency', 'cryptotrading']\", 'CoinListingBot', 'False']\n",
      "Skipping row due to insufficient columns: ['Coin: $ELON']\n",
      "Skipping row due to insufficient columns: ['Pairs:']\n",
      "Skipping row due to insufficient columns: ['#ELON/#USDT']\n",
      "Skipping row due to insufficient columns: ['#newcoinlisting #crypto #cryptonews #cryptoAlerts #altcoins #bitcoin #blockchain #cryptocurrency #cryptotrading', \"['Bitget', 'ELON', 'USDT', 'newcoinlisting', 'crypto', 'cryptonews', 'cryptoAlerts', 'altcoins', 'bitcoin', 'blockchain', 'cryptocurrency', 'cryptotrading']\", 'CoinListingBot', 'False']\n",
      "Skipping row due to insufficient columns: ['Coin: $PEPES']\n",
      "Skipping row due to insufficient columns: ['Pairs:']\n",
      "Skipping row due to insufficient columns: ['#PEPES/#USDT']\n",
      "Skipping row due to insufficient columns: ['#newcoinlisting #crypto #cryptonews #cryptoAlerts #altcoins #bitcoin #blockchain #cryptocurrency #cryptotrading', \"['Bitget', 'PEPES', 'USDT', 'newcoinlisting', 'crypto', 'cryptonews', 'cryptoAlerts', 'altcoins', 'bitcoin', 'blockchain', 'cryptocurrency', 'cryptotrading']\", 'CoinListingBot', 'False']\n",
      "Skipping row due to insufficient columns: ['Coin: $SPOOL']\n",
      "Skipping row due to insufficient columns: ['Pairs:']\n",
      "Skipping row due to insufficient columns: ['#SPOOL/#USDT']\n",
      "Skipping row due to insufficient columns: ['#newcoinlisting #crypto #cryptonews #cryptoAlerts #altcoins #bitcoin #blockchain #cryptocurrency #cryptotrading', \"['Bitget', 'SPOOL', 'USDT', 'newcoinlisting', 'crypto', 'cryptonews', 'cryptoAlerts', 'altcoins', 'bitcoin', 'blockchain', 'cryptocurrency', 'cryptotrading']\", 'CoinListingBot', 'False']\n",
      "Skipping row due to insufficient columns: ['Coin: $PRIME1']\n",
      "Skipping row due to insufficient columns: ['Pairs:']\n",
      "Skipping row due to insufficient columns: ['#PRIME1/#USDT']\n",
      "Skipping row due to insufficient columns: ['#newcoinlisting #crypto #cryptonews #cryptoAlerts #altcoins #bitcoin #blockchain #cryptocurrency #cryptotrading', \"['Bitget', 'PRIME1', 'USDT', 'newcoinlisting', 'crypto', 'cryptonews', 'cryptoAlerts', 'altcoins', 'bitcoin', 'blockchain', 'cryptocurrency', 'cryptotrading']\", 'CoinListingBot', 'False']\n",
      "Skipping row due to insufficient columns: ['Coin: $KAKI']\n",
      "Skipping row due to insufficient columns: ['Pairs:']\n",
      "Skipping row due to insufficient columns: ['#KAKI/#USDT']\n",
      "Skipping row due to insufficient columns: ['#newcoinlisting #crypto #cryptonews #cryptoAlerts #altcoins #bitcoin #blockchain #cryptocurrency #cryptotrading', \"['Bitget', 'KAKI', 'USDT', 'newcoinlisting', 'crypto', 'cryptonews', 'cryptoAlerts', 'altcoins', 'bitcoin', 'blockchain', 'cryptocurrency', 'cryptotrading']\", 'CoinListingBot', 'False']\n"
     ]
    },
    {
     "name": "stderr",
     "output_type": "stream",
     "text": [
      "Preprocessing tweets: 165561it [00:56, 2927.77it/s]"
     ]
    },
    {
     "name": "stdout",
     "output_type": "stream",
     "text": [
      "Skipping row due to insufficient columns: ['Coin: $HIBEANZ']\n",
      "Skipping row due to insufficient columns: ['Pairs:']\n",
      "Skipping row due to insufficient columns: ['#HIBEANZ/#USDT']\n",
      "Skipping row due to insufficient columns: ['#newcoinlisting #crypto #cryptonews #cryptoAlerts #altcoins #bitcoin #blockchain #cryptocurrency #cryptotrading', \"['KuCoin', 'HIBEANZ', 'USDT', 'newcoinlisting', 'crypto', 'cryptonews', 'cryptoAlerts', 'altcoins', 'bitcoin', 'blockchain', 'cryptocurrency', 'cryptotrading']\", 'CoinListingBot', 'False']\n",
      "Skipping row due to insufficient columns: ['Coin: $TORN']\n",
      "Skipping row due to insufficient columns: ['Pairs:']\n",
      "Skipping row due to insufficient columns: ['#TORN/#USDT']\n",
      "Skipping row due to insufficient columns: ['#newcoinlisting #crypto #cryptonews #cryptoAlerts #altcoins #bitcoin #blockchain #cryptocurrency #cryptotrading', \"['BitForex', 'TORN', 'USDT', 'newcoinlisting', 'crypto', 'cryptonews', 'cryptoAlerts', 'altcoins', 'bitcoin', 'blockchain', 'cryptocurrency', 'cryptotrading']\", 'CoinListingBot', 'False']\n",
      "Skipping row due to insufficient columns: ['Coin: $OAS']\n",
      "Skipping row due to insufficient columns: ['Pairs:']\n",
      "Skipping row due to insufficient columns: ['#OAS/#USDT']\n",
      "Skipping row due to insufficient columns: ['#newcoinlisting #crypto #cryptonews #cryptoAlerts #altcoins #bitcoin #blockchain #cryptocurrency #cryptotrading', \"['CoinEx', 'OAS', 'USDT', 'newcoinlisting', 'crypto', 'cryptonews', 'cryptoAlerts', 'altcoins', 'bitcoin', 'blockchain', 'cryptocurrency', 'cryptotrading']\", 'CoinListingBot', 'False']\n",
      "Skipping row due to insufficient columns: ['Coin: $PEPES']\n",
      "Skipping row due to insufficient columns: ['Pairs:']\n",
      "Skipping row due to insufficient columns: ['#PEPES/#USDT']\n",
      "Skipping row due to insufficient columns: ['#newcoinlisting #crypto #cryptonews #cryptoAlerts #altcoins #bitcoin #blockchain #cryptocurrency #cryptotrading', \"['LBank', 'PEPES', 'USDT', 'newcoinlisting', 'crypto', 'cryptonews', 'cryptoAlerts', 'altcoins', 'bitcoin', 'blockchain', 'cryptocurrency', 'cryptotrading']\", 'CoinListingBot', 'False']\n",
      "Skipping row due to insufficient columns: ['Coin: $TAO1']\n",
      "Skipping row due to insufficient columns: ['Pairs:']\n",
      "Skipping row due to insufficient columns: ['#TAO1/#USDT']\n",
      "Skipping row due to insufficient columns: ['#newcoinlisting #crypto #cryptonews #cryptoAlerts #altcoins #bitcoin #blockchain #cryptocurrency #cryptotrading', \"['MEXC', 'TAO1', 'USDT', 'newcoinlisting', 'crypto', 'cryptonews', 'cryptoAlerts', 'altcoins', 'bitcoin', 'blockchain', 'cryptocurrency', 'cryptotrading']\", 'CoinListingBot', 'False']\n",
      "Skipping row due to insufficient columns: ['👉https://t.co/dwh8jR9uho']\n",
      "Skipping row due to insufficient columns: ['$FXF 5.16%']\n",
      "Skipping row due to insufficient columns: ['$THN 3.23%']\n",
      "Skipping row due to insufficient columns: ['$MINA 0.57%']\n",
      "Skipping row due to insufficient columns: ['$T 0.56%']\n",
      "Skipping row due to insufficient columns: ['$REN 0.55%']\n",
      "Skipping row due to insufficient columns: [' #FXF #THN #MINA #T #REN #crypto #cryptonews #cryptoAlerts #blockchain  #cryptotrading #cryptoprices #altcoins #bitcoin', \"['cryptocurrency', 'price', 'GateIo', 'FXF', 'THN', 'MINA', 'T', 'REN', 'crypto', 'cryptonews', 'cryptoAlerts', 'blockchain', 'cryptotrading', 'cryptoprices', 'altcoins', 'bitcoin']\", 'Crypto Frog', 'False']\n"
     ]
    },
    {
     "name": "stderr",
     "output_type": "stream",
     "text": [
      "Preprocessing tweets: 166724it [00:56, 2759.36it/s]"
     ]
    },
    {
     "name": "stdout",
     "output_type": "stream",
     "text": [
      "Skipping row due to insufficient columns: ['👉https://t.co/dwh8jR9uho']\n",
      "Skipping row due to insufficient columns: ['$UDO 3.58%']\n",
      "Skipping row due to insufficient columns: ['$AXIS 0.89%']\n",
      "Skipping row due to insufficient columns: ['$HIGH 0.33%']\n",
      "Skipping row due to insufficient columns: ['$ICX 0.31%']\n",
      "Skipping row due to insufficient columns: [' #UDO #AXIS #HIGH #ICX #crypto #cryptonews #cryptoAlerts #blockchain  #cryptotrading #cryptoprices #altcoins #bitcoin', \"['cryptocurrency', 'price', 'GateIo', 'UDO', 'AXIS', 'HIGH', 'ICX', 'crypto', 'cryptonews', 'cryptoAlerts', 'blockchain', 'cryptotrading', 'cryptoprices', 'altcoins', 'bitcoin']\", 'Crypto Frog', 'False']\n",
      "Skipping row due to insufficient columns: ['Coin: $PRIME']\n",
      "Skipping row due to insufficient columns: ['Pairs:']\n",
      "Skipping row due to insufficient columns: ['#PRIME/#USDT']\n",
      "Skipping row due to insufficient columns: ['#newcoinlisting #crypto #cryptonews #cryptoAlerts #altcoins #bitcoin #blockchain #cryptocurrency #cryptotrading', \"['Hotbit', 'PRIME', 'USDT', 'newcoinlisting', 'crypto', 'cryptonews', 'cryptoAlerts', 'altcoins', 'bitcoin', 'blockchain', 'cryptocurrency', 'cryptotrading']\", 'CoinListingBot', 'False']\n",
      "Skipping row due to insufficient columns: ['Coin: $GOVI']\n",
      "Skipping row due to insufficient columns: ['Pairs:']\n",
      "Skipping row due to insufficient columns: ['#GOVI/#USDT']\n",
      "Skipping row due to insufficient columns: ['#newcoinlisting #crypto #cryptonews #cryptoAlerts #altcoins #bitcoin #blockchain #cryptocurrency #cryptotrading', \"['Hotbit', 'GOVI', 'USDT', 'newcoinlisting', 'crypto', 'cryptonews', 'cryptoAlerts', 'altcoins', 'bitcoin', 'blockchain', 'cryptocurrency', 'cryptotrading']\", 'CoinListingBot', 'False']\n",
      "Skipping row due to insufficient columns: ['👉https://t.co/dwh8jR9uho']\n",
      "Skipping row due to insufficient columns: ['$POP 3.69%']\n",
      "Skipping row due to insufficient columns: ['$STORE 1.05%']\n",
      "Skipping row due to insufficient columns: ['$LPT 0.76%']\n",
      "Skipping row due to insufficient columns: ['$NVIR 0.75%']\n",
      "Skipping row due to insufficient columns: ['$PYM 0.32%']\n",
      "Skipping row due to insufficient columns: [' #POP #STORE #LPT #NVIR #PYM #crypto #cryptonews #cryptoAlerts #blockchain  #cryptotrading #cryptoprices #altcoins #bitcoin', \"['cryptocurrency', 'price', 'GateIo', 'POP', 'STORE', 'LPT', 'NVIR', 'PYM', 'crypto', 'cryptonews', 'cryptoAlerts', 'blockchain', 'cryptotrading', 'cryptoprices', 'altcoins', 'bitcoin']\", 'Crypto Frog', 'False']\n",
      "Skipping row due to insufficient columns: ['👉https://t.co/dwh8jR9uho']\n",
      "Skipping row due to insufficient columns: ['$POP 3.11%']\n",
      "Skipping row due to insufficient columns: ['$STORE 1.26%']\n",
      "Skipping row due to insufficient columns: ['$SHI 0.32%']\n",
      "Skipping row due to insufficient columns: [' #POP #STORE #SHI #crypto #cryptonews #cryptoAlerts #blockchain  #cryptotrading #cryptoprices #altcoins #bitcoin', \"['cryptocurrency', 'price', 'GateIo', 'POP', 'STORE', 'SHI', 'crypto', 'cryptonews', 'cryptoAlerts', 'blockchain', 'cryptotrading', 'cryptoprices', 'altcoins', 'bitcoin']\", 'Crypto Frog', 'False']\n",
      "Skipping row due to insufficient columns: ['👉https://t.co/dwh8jR9uho']\n",
      "Skipping row due to insufficient columns: ['$MESA 4.09%']\n",
      "Skipping row due to insufficient columns: ['$PYM 0.44%']\n",
      "Skipping row due to insufficient columns: ['$KIN 0.42%']\n",
      "Skipping row due to insufficient columns: ['$CEL 0.34%']\n",
      "Skipping row due to insufficient columns: ['$FLUX 0.31%']\n",
      "Skipping row due to insufficient columns: [' #MESA #PYM #KIN #CEL #FLUX #crypto #cryptonews #cryptoAlerts #blockchain  #cryptotrading #cryptoprices #altcoins #bitcoin', \"['cryptocurrency', 'price', 'GateIo', 'MESA', 'PYM', 'KIN', 'CEL', 'FLUX', 'crypto', 'cryptonews', 'cryptoAlerts', 'blockchain', 'cryptotrading', 'cryptoprices', 'altcoins', 'bitcoin']\", 'Crypto Frog', 'False']\n",
      "Skipping row due to insufficient columns: ['👉https://t.co/XsdBPI7qf6']\n",
      "Skipping row due to insufficient columns: ['$ANW 3.24%']\n",
      "Skipping row due to insufficient columns: ['$FAIR 0.94%']\n",
      "Skipping row due to insufficient columns: ['$CELR 0.86%']\n",
      "Skipping row due to insufficient columns: ['$T 0.48%']\n",
      "Skipping row due to insufficient columns: ['$GFT 0.42%']\n",
      "Skipping row due to insufficient columns: [' #ANW #FAIR #CELR #T #GFT #crypto #cryptonews #cryptoAlerts #blockchain  #cryptotrading #cryptoprices #altcoins #bitcoin', \"['cryptocurrency', 'price', 'OKX', 'ANW', 'FAIR', 'CELR', 'T', 'GFT', 'crypto', 'cryptonews', 'cryptoAlerts', 'blockchain', 'cryptotrading', 'cryptoprices', 'altcoins', 'bitcoin']\", 'Crypto Frog', 'False']\n"
     ]
    },
    {
     "name": "stderr",
     "output_type": "stream",
     "text": [
      "Preprocessing tweets: 167304it [00:56, 2820.86it/s]"
     ]
    },
    {
     "name": "stdout",
     "output_type": "stream",
     "text": [
      "Skipping row due to insufficient columns: ['👉https://t.co/dwh8jR9uho']\n",
      "Skipping row due to insufficient columns: ['$UDO 20.22%']\n",
      "Skipping row due to insufficient columns: ['$BASE 0.95%']\n",
      "Skipping row due to insufficient columns: ['$DC 0.69%']\n",
      "Skipping row due to insufficient columns: ['$CATE 0.56%']\n",
      "Skipping row due to insufficient columns: ['$ACA 0.55%']\n",
      "Skipping row due to insufficient columns: [' #UDO #BASE #DC #CATE #ACA #crypto #cryptonews #cryptoAlerts #blockchain  #cryptotrading #cryptoprices #altcoins #bitcoin', \"['cryptocurrency', 'price', 'GateIo', 'UDO', 'BASE', 'DC', 'CATE', 'ACA', 'crypto', 'cryptonews', 'cryptoAlerts', 'blockchain', 'cryptotrading', 'cryptoprices', 'altcoins', 'bitcoin']\", 'Crypto Frog', 'False']\n",
      "Skipping row due to insufficient columns: ['👉https://t.co/XsdBPI7qf6']\n",
      "Skipping row due to insufficient columns: ['$FAIR 3.19%']\n",
      "Skipping row due to insufficient columns: ['$FAME 0.4%']\n",
      "Skipping row due to insufficient columns: ['$CMT 0.38%']\n",
      "Skipping row due to insufficient columns: ['$MXT 0.36%']\n",
      "Skipping row due to insufficient columns: ['$GOG 0.34%']\n",
      "Skipping row due to insufficient columns: [' #FAIR #FAME #CMT #MXT #GOG #crypto #cryptonews #cryptoAlerts #blockchain  #cryptotrading #cryptoprices #altcoins #bitcoin', \"['cryptocurrency', 'price', 'OKX', 'FAIR', 'FAME', 'CMT', 'MXT', 'GOG', 'crypto', 'cryptonews', 'cryptoAlerts', 'blockchain', 'cryptotrading', 'cryptoprices', 'altcoins', 'bitcoin']\", 'Crypto Frog', 'False']\n",
      "Skipping row due to insufficient columns: ['Coin: $ADVT']\n",
      "Skipping row due to insufficient columns: ['Pairs:']\n",
      "Skipping row due to insufficient columns: ['#ADVT/#USDT']\n",
      "Skipping row due to insufficient columns: ['#newcoinlisting #crypto #cryptonews #cryptoAlerts #altcoins #bitcoin #blockchain #cryptocurrency #cryptotrading', \"['Hotbit', 'ADVT', 'USDT', 'newcoinlisting', 'crypto', 'cryptonews', 'cryptoAlerts', 'altcoins', 'bitcoin', 'blockchain', 'cryptocurrency', 'cryptotrading']\", 'CoinListingBot', 'False']\n",
      "Skipping row due to insufficient columns: ['Coin: $SHARBI']\n",
      "Skipping row due to insufficient columns: ['Pairs:']\n",
      "Skipping row due to insufficient columns: ['#SHARBI/#USDT']\n",
      "Skipping row due to insufficient columns: ['#newcoinlisting #crypto #cryptonews #cryptoAlerts #altcoins #bitcoin #blockchain #cryptocurrency #cryptotrading', \"['Hotbit', 'SHARBI', 'USDT', 'newcoinlisting', 'crypto', 'cryptonews', 'cryptoAlerts', 'altcoins', 'bitcoin', 'blockchain', 'cryptocurrency', 'cryptotrading']\", 'CoinListingBot', 'False']\n",
      "Skipping row due to insufficient columns: ['Coin: $EXYA']\n",
      "Skipping row due to insufficient columns: ['Pairs:']\n",
      "Skipping row due to insufficient columns: ['#EXYA/#USDT']\n",
      "Skipping row due to insufficient columns: ['#newcoinlisting #crypto #cryptonews #cryptoAlerts #altcoins #bitcoin #blockchain #cryptocurrency #cryptotrading', \"['Hotbit', 'EXYA', 'USDT', 'newcoinlisting', 'crypto', 'cryptonews', 'cryptoAlerts', 'altcoins', 'bitcoin', 'blockchain', 'cryptocurrency', 'cryptotrading']\", 'CoinListingBot', 'False']\n"
     ]
    },
    {
     "name": "stderr",
     "output_type": "stream",
     "text": [
      "Preprocessing tweets: 168231it [00:57, 2947.37it/s]"
     ]
    },
    {
     "name": "stdout",
     "output_type": "stream",
     "text": [
      "Skipping row due to insufficient columns: ['Coin: $EGLD']\n",
      "Skipping row due to insufficient columns: ['Pairs:']\n",
      "Skipping row due to insufficient columns: ['#EGLD/#USDT']\n",
      "Skipping row due to insufficient columns: ['#newcoinlisting #crypto #cryptonews #cryptoAlerts #altcoins #bitcoin #blockchain #cryptocurrency #cryptotrading', \"['BitForex', 'EGLD', 'USDT', 'newcoinlisting', 'crypto', 'cryptonews', 'cryptoAlerts', 'altcoins', 'bitcoin', 'blockchain', 'cryptocurrency', 'cryptotrading']\", 'CoinListingBot', 'False']\n",
      "Skipping row due to insufficient columns: ['Coin: $OHO']\n",
      "Skipping row due to insufficient columns: ['Pairs:']\n",
      "Skipping row due to insufficient columns: ['#OHO/#USDT']\n",
      "Skipping row due to insufficient columns: ['#newcoinlisting #crypto #cryptonews #cryptoAlerts #altcoins #bitcoin #blockchain #cryptocurrency #cryptotrading', \"['Tapbit', 'OHO', 'USDT', 'newcoinlisting', 'crypto', 'cryptonews', 'cryptoAlerts', 'altcoins', 'bitcoin', 'blockchain', 'cryptocurrency', 'cryptotrading']\", 'CoinListingBot', 'False']\n",
      "Skipping row due to insufficient columns: ['👉https://t.co/AdJlZWUXsw']\n",
      "Skipping row due to insufficient columns: ['$DUX 8.95%']\n",
      "Skipping row due to insufficient columns: ['$CEL 0.86%']\n",
      "Skipping row due to insufficient columns: ['$SRM 0.41%']\n",
      "Skipping row due to insufficient columns: [' #DUX #CEL #SRM #crypto #cryptonews #cryptoAlerts #blockchain  #cryptotrading #cryptoprices #altcoins #bitcoin', \"['cryptocurrency', 'price', 'MEXC', 'DUX', 'CEL', 'SRM', 'crypto', 'cryptonews', 'cryptoAlerts', 'blockchain', 'cryptotrading', 'cryptoprices', 'altcoins', 'bitcoin']\", 'Crypto Frog', 'False']\n",
      "Skipping row due to insufficient columns: ['Coin: $MATH']\n",
      "Skipping row due to insufficient columns: ['Pairs:']\n",
      "Skipping row due to insufficient columns: ['#MATH/#USDT']\n",
      "Skipping row due to insufficient columns: ['#newcoinlisting #crypto #cryptonews #cryptoAlerts #altcoins #bitcoin #blockchain #cryptocurrency #cryptotrading', \"['CoinEx', 'MATH', 'USDT', 'newcoinlisting', 'crypto', 'cryptonews', 'cryptoAlerts', 'altcoins', 'bitcoin', 'blockchain', 'cryptocurrency', 'cryptotrading']\", 'CoinListingBot', 'False']\n",
      "Skipping row due to insufficient columns: ['👉https://t.co/dwh8jR9uho']\n",
      "Skipping row due to insufficient columns: ['$ESG 5.59%']\n",
      "Skipping row due to insufficient columns: ['$VELO 1.06%']\n",
      "Skipping row due to insufficient columns: ['$RBN 0.74%']\n",
      "Skipping row due to insufficient columns: ['$SHOE 0.56%']\n",
      "Skipping row due to insufficient columns: ['$GMT 0.38%']\n",
      "Skipping row due to insufficient columns: [' #ESG #VELO #RBN #SHOE #GMT #crypto #cryptonews #cryptoAlerts #blockchain  #cryptotrading #cryptoprices #altcoins #bitcoin', \"['cryptocurrency', 'price', 'GateIo', 'ESG', 'VELO', 'RBN', 'SHOE', 'GMT', 'crypto', 'cryptonews', 'cryptoAlerts', 'blockchain', 'cryptotrading', 'cryptoprices', 'altcoins', 'bitcoin']\", 'Crypto Frog', 'False']\n"
     ]
    },
    {
     "name": "stderr",
     "output_type": "stream",
     "text": [
      "Preprocessing tweets: 168829it [00:57, 2933.68it/s]"
     ]
    },
    {
     "name": "stdout",
     "output_type": "stream",
     "text": [
      "Skipping row due to insufficient columns: ['👉https://t.co/dwh8jR9uho']\n",
      "Skipping row due to insufficient columns: ['$BOX 3.96%']\n",
      "Skipping row due to insufficient columns: ['$NCT 0.47%']\n",
      "Skipping row due to insufficient columns: ['$EPK 0.46%']\n",
      "Skipping row due to insufficient columns: ['$RNDR 0.39%']\n",
      "Skipping row due to insufficient columns: ['$SNX 0.38%']\n",
      "Skipping row due to insufficient columns: [' #BOX #NCT #EPK #RNDR #SNX #crypto #cryptonews #cryptoAlerts #blockchain  #cryptotrading #cryptoprices #altcoins #bitcoin', \"['cryptocurrency', 'price', 'GateIo', 'BOX', 'NCT', 'EPK', 'RNDR', 'SNX', 'crypto', 'cryptonews', 'cryptoAlerts', 'blockchain', 'cryptotrading', 'cryptoprices', 'altcoins', 'bitcoin']\", 'Crypto Frog', 'False']\n",
      "Skipping row due to insufficient columns: ['Coin: $PRIME']\n",
      "Skipping row due to insufficient columns: ['Pairs:']\n",
      "Skipping row due to insufficient columns: ['#PRIME/#USDT']\n",
      "Skipping row due to insufficient columns: ['#newcoinlisting #crypto #cryptonews #cryptoAlerts #altcoins #bitcoin #blockchain #cryptocurrency #cryptotrading', \"['BKEX', 'PRIME', 'USDT', 'newcoinlisting', 'crypto', 'cryptonews', 'cryptoAlerts', 'altcoins', 'bitcoin', 'blockchain', 'cryptocurrency', 'cryptotrading']\", 'CoinListingBot', 'False']\n",
      "Skipping row due to insufficient columns: ['👉https://t.co/dwh8jR9uho']\n",
      "Skipping row due to insufficient columns: ['$TIFI 3.31%']\n",
      "Skipping row due to insufficient columns: ['$SIDUS 0.51%']\n",
      "Skipping row due to insufficient columns: ['$BURP 0.36%']\n",
      "Skipping row due to insufficient columns: ['$XCH 0.32%']\n",
      "Skipping row due to insufficient columns: [' #TIFI #SIDUS #BURP #XCH #crypto #cryptonews #cryptoAlerts #blockchain  #cryptotrading #cryptoprices #altcoins #bitcoin', \"['cryptocurrency', 'price', 'GateIo', 'TIFI', 'SIDUS', 'BURP', 'XCH', 'crypto', 'cryptonews', 'cryptoAlerts', 'blockchain', 'cryptotrading', 'cryptoprices', 'altcoins', 'bitcoin']\", 'Crypto Frog', 'False']\n",
      "Skipping row due to insufficient columns: ['👉https://t.co/dwh8jR9uho']\n",
      "Skipping row due to insufficient columns: ['$SOV 4.24%']\n",
      "Skipping row due to insufficient columns: ['$DESO 1.13%']\n",
      "Skipping row due to insufficient columns: ['$OPUL 1.1%']\n",
      "Skipping row due to insufficient columns: ['$RNDR 0.85%']\n",
      "Skipping row due to insufficient columns: ['$MKR 0.75%']\n",
      "Skipping row due to insufficient columns: [' #SOV #DESO #OPUL #RNDR #MKR #crypto #cryptonews #cryptoAlerts #blockchain  #cryptotrading #cryptoprices #altcoins #bitcoin', \"['cryptocurrency', 'price', 'GateIo', 'SOV', 'DESO', 'OPUL', 'RNDR', 'MKR', 'crypto', 'cryptonews', 'cryptoAlerts', 'blockchain', 'cryptotrading', 'cryptoprices', 'altcoins', 'bitcoin']\", 'Crypto Frog', 'False']\n",
      "Skipping row due to insufficient columns: ['👉https://t.co/dwh8jR9uho']\n",
      "Skipping row due to insufficient columns: ['$CTRC 3.46%']\n",
      "Skipping row due to insufficient columns: ['$DMTR 1.15%']\n",
      "Skipping row due to insufficient columns: ['$IMPT 0.58%']\n",
      "Skipping row due to insufficient columns: ['$DAR 0.38%']\n",
      "Skipping row due to insufficient columns: [' #CTRC #DMTR #IMPT #DAR #crypto #cryptonews #cryptoAlerts #blockchain  #cryptotrading #cryptoprices #altcoins #bitcoin', \"['cryptocurrency', 'price', 'GateIo', 'CTRC', 'DMTR', 'IMPT', 'DAR', 'crypto', 'cryptonews', 'cryptoAlerts', 'blockchain', 'cryptotrading', 'cryptoprices', 'altcoins', 'bitcoin']\", 'Crypto Frog', 'False']\n",
      "Skipping row due to insufficient columns: ['👉https://t.co/dwh8jR9uho']\n",
      "Skipping row due to insufficient columns: ['$TXT 5.1%']\n",
      "Skipping row due to insufficient columns: ['$BURP 1.77%']\n",
      "Skipping row due to insufficient columns: ['$ZBC 1.48%']\n",
      "Skipping row due to insufficient columns: ['$NXD 0.82%']\n",
      "Skipping row due to insufficient columns: ['$PAW 0.81%']\n",
      "Skipping row due to insufficient columns: [' #TXT #BURP #ZBC #NXD #PAW #crypto #cryptonews #cryptoAlerts #blockchain  #cryptotrading #cryptoprices #altcoins #bitcoin', \"['cryptocurrency', 'price', 'GateIo', 'TXT', 'BURP', 'ZBC', 'NXD', 'PAW', 'crypto', 'cryptonews', 'cryptoAlerts', 'blockchain', 'cryptotrading', 'cryptoprices', 'altcoins', 'bitcoin']\", 'Crypto Frog', 'False']\n",
      "Skipping row due to insufficient columns: ['👉https://t.co/XsdBPI7qf6']\n",
      "Skipping row due to insufficient columns: ['$CSPR 3.8%']\n",
      "Skipping row due to insufficient columns: ['$FAIR 0.98%']\n",
      "Skipping row due to insufficient columns: ['$MXT 0.55%']\n",
      "Skipping row due to insufficient columns: ['$BLUR 0.42%']\n",
      "Skipping row due to insufficient columns: ['$VRA 0.41%']\n",
      "Skipping row due to insufficient columns: [' #CSPR #FAIR #MXT #BLUR #VRA #crypto #cryptonews #cryptoAlerts #blockchain  #cryptotrading #cryptoprices #altcoins #bitcoin', \"['cryptocurrency', 'price', 'OKX', 'CSPR', 'FAIR', 'MXT', 'BLUR', 'VRA', 'crypto', 'cryptonews', 'cryptoAlerts', 'blockchain', 'cryptotrading', 'cryptoprices', 'altcoins', 'bitcoin']\", 'Crypto Frog', 'False']\n"
     ]
    },
    {
     "name": "stderr",
     "output_type": "stream",
     "text": [
      "Preprocessing tweets: 170404it [00:57, 3138.62it/s]"
     ]
    },
    {
     "name": "stdout",
     "output_type": "stream",
     "text": [
      "Skipping row due to insufficient columns: ['👉https://t.co/dwh8jR9uho']\n",
      "Skipping row due to insufficient columns: ['$UFI 3.14%']\n",
      "Skipping row due to insufficient columns: ['$STBU 1.2%']\n",
      "Skipping row due to insufficient columns: ['$WOM 1.07%']\n",
      "Skipping row due to insufficient columns: ['$ADS 0.85%']\n",
      "Skipping row due to insufficient columns: ['$MDT 0.64%']\n",
      "Skipping row due to insufficient columns: [' #UFI #STBU #WOM #ADS #MDT #crypto #cryptonews #cryptoAlerts #blockchain  #cryptotrading #cryptoprices #altcoins #bitcoin', \"['cryptocurrency', 'price', 'GateIo', 'UFI', 'STBU', 'WOM', 'ADS', 'MDT', 'crypto', 'cryptonews', 'cryptoAlerts', 'blockchain', 'cryptotrading', 'cryptoprices', 'altcoins', 'bitcoin']\", 'Crypto Frog', 'False']\n",
      "Skipping row due to insufficient columns: ['👉https://t.co/dwh8jR9uho']\n",
      "Skipping row due to insufficient columns: ['$PWAR 3.88%']\n",
      "Skipping row due to insufficient columns: ['$XPR 0.91%']\n",
      "Skipping row due to insufficient columns: ['$TNC 0.68%']\n",
      "Skipping row due to insufficient columns: ['$MDX 0.5%']\n",
      "Skipping row due to insufficient columns: ['$TRVL 0.41%']\n",
      "Skipping row due to insufficient columns: [' #PWAR #XPR #TNC #MDX #TRVL #crypto #cryptonews #cryptoAlerts #blockchain  #cryptotrading #cryptoprices #altcoins #bitcoin', \"['cryptocurrency', 'price', 'GateIo', 'PWAR', 'XPR', 'TNC', 'MDX', 'TRVL', 'crypto', 'cryptonews', 'cryptoAlerts', 'blockchain', 'cryptotrading', 'cryptoprices', 'altcoins', 'bitcoin']\", 'Crypto Frog', 'False']\n",
      "Skipping row due to insufficient columns: ['👉https://t.co/XsdBPI7qf6']\n",
      "Skipping row due to insufficient columns: ['$LDN 3.51%']\n",
      "Skipping row due to insufficient columns: ['$VELO 1.9%']\n",
      "Skipping row due to insufficient columns: ['$GOG 0.78%']\n",
      "Skipping row due to insufficient columns: ['$STX 0.64%']\n",
      "Skipping row due to insufficient columns: ['$ASTR 0.49%']\n",
      "Skipping row due to insufficient columns: [' #LDN #VELO #GOG #STX #ASTR #crypto #cryptonews #cryptoAlerts #blockchain  #cryptotrading #cryptoprices #altcoins #bitcoin', \"['cryptocurrency', 'price', 'OKX', 'LDN', 'VELO', 'GOG', 'STX', 'ASTR', 'crypto', 'cryptonews', 'cryptoAlerts', 'blockchain', 'cryptotrading', 'cryptoprices', 'altcoins', 'bitcoin']\", 'Crypto Frog', 'False']\n",
      "Skipping row due to insufficient columns: ['👉https://t.co/dwh8jR9uho']\n",
      "Skipping row due to insufficient columns: ['$PAW 3.2%']\n",
      "Skipping row due to insufficient columns: ['$T 1.57%']\n",
      "Skipping row due to insufficient columns: ['$SSV 0.55%']\n",
      "Skipping row due to insufficient columns: ['$SOLO 0.41%']\n",
      "Skipping row due to insufficient columns: ['$TRU 0.4%']\n",
      "Skipping row due to insufficient columns: [' #PAW #T #SSV #SOLO #TRU #crypto #cryptonews #cryptoAlerts #blockchain  #cryptotrading #cryptoprices #altcoins #bitcoin', \"['cryptocurrency', 'price', 'GateIo', 'PAW', 'T', 'SSV', 'SOLO', 'TRU', 'crypto', 'cryptonews', 'cryptoAlerts', 'blockchain', 'cryptotrading', 'cryptoprices', 'altcoins', 'bitcoin']\", 'Crypto Frog', 'False']\n",
      "Skipping row due to insufficient columns: ['👉https://t.co/dwh8jR9uho']\n",
      "Skipping row due to insufficient columns: ['$RATIO 3.28%']\n",
      "Skipping row due to insufficient columns: ['$MBL 1.45%']\n",
      "Skipping row due to insufficient columns: ['$STX 1.04%']\n",
      "Skipping row due to insufficient columns: ['$REN 0.9%']\n",
      "Skipping row due to insufficient columns: ['$SUKU 0.82%']\n",
      "Skipping row due to insufficient columns: [' #RATIO #MBL #STX #REN #SUKU #crypto #cryptonews #cryptoAlerts #blockchain  #cryptotrading #cryptoprices #altcoins #bitcoin', \"['cryptocurrency', 'price', 'GateIo', 'RATIO', 'MBL', 'STX', 'REN', 'SUKU', 'crypto', 'cryptonews', 'cryptoAlerts', 'blockchain', 'cryptotrading', 'cryptoprices', 'altcoins', 'bitcoin']\", 'Crypto Frog', 'False']\n",
      "Skipping row due to insufficient columns: ['Coin: $FTVT']\n",
      "Skipping row due to insufficient columns: ['Pairs:']\n",
      "Skipping row due to insufficient columns: ['#FTVT/#USDT']\n",
      "Skipping row due to insufficient columns: ['#newcoinlisting #crypto #cryptonews #cryptoAlerts #altcoins #bitcoin #blockchain #cryptocurrency #cryptotrading', \"['ProBitGlobal', 'FTVT', 'USDT', 'newcoinlisting', 'crypto', 'cryptonews', 'cryptoAlerts', 'altcoins', 'bitcoin', 'blockchain', 'cryptocurrency', 'cryptotrading']\", 'CoinListingBot', 'False']\n",
      "Skipping row due to insufficient columns: ['👉https://t.co/dwh8jR9uho']\n",
      "Skipping row due to insufficient columns: ['$ALN 4.62%']\n",
      "Skipping row due to insufficient columns: ['$MKR 1.73%']\n",
      "Skipping row due to insufficient columns: ['$IONX 1.11%']\n",
      "Skipping row due to insufficient columns: ['$KISHU 1.04%']\n",
      "Skipping row due to insufficient columns: ['$REN 0.98%']\n",
      "Skipping row due to insufficient columns: [' #ALN #MKR #IONX #KISHU #REN #crypto #cryptonews #cryptoAlerts #blockchain  #cryptotrading #cryptoprices #altcoins #bitcoin', \"['cryptocurrency', 'price', 'GateIo', 'ALN', 'MKR', 'IONX', 'KISHU', 'REN', 'crypto', 'cryptonews', 'cryptoAlerts', 'blockchain', 'cryptotrading', 'cryptoprices', 'altcoins', 'bitcoin']\", 'Crypto Frog', 'False']\n"
     ]
    },
    {
     "name": "stderr",
     "output_type": "stream",
     "text": [
      "Preprocessing tweets: 171025it [00:58, 3038.46it/s]"
     ]
    },
    {
     "name": "stdout",
     "output_type": "stream",
     "text": [
      "Skipping row due to insufficient columns: []\n",
      "Skipping row due to insufficient columns: ['Via https://t.co/p6iec02QvX']\n",
      "Skipping row due to insufficient columns: []\n",
      "Skipping row due to insufficient columns: ['#btc    #4chan  #altcoin https://t.co/06rNOAn9Fb', \"['btc', '4chan', 'altcoin']\", 'topstonks', 'False']\n",
      "Skipping row due to insufficient columns: ['jaden_sergio_', 'Mayotte']\n",
      "Skipping row due to insufficient columns: ['gribas_82', 'Bulgaria']\n",
      "Skipping row due to insufficient columns: ['pakuadanny', 'Barbados']\n",
      "Skipping row due to insufficient columns: []\n",
      "Skipping row due to insufficient columns: ['Via https://t.co/p6iec02QvX']\n",
      "Skipping row due to insufficient columns: []\n",
      "Skipping row due to insufficient columns: ['#btc    #4chan  #crypto https://t.co/EgwTp4HH2G', \"['btc', '4chan', 'crypto']\", 'topstonks', 'False']\n",
      "Skipping row due to insufficient columns: ['tenebraepaw', 'Azerbaijan']\n",
      "Skipping row due to insufficient columns: ['kosnyy', 'Holy See']\n"
     ]
    },
    {
     "name": "stderr",
     "output_type": "stream",
     "text": [
      "Preprocessing tweets: 172220it [00:58, 2905.48it/s]"
     ]
    },
    {
     "name": "stdout",
     "output_type": "stream",
     "text": [
      "Skipping row due to insufficient columns: []\n",
      "Skipping row due to insufficient columns: ['Via https://t.co/p6iec02QvX']\n",
      "Skipping row due to insufficient columns: []\n",
      "Skipping row due to insufficient columns: ['#btc    #4chan  #cryptocurrency https://t.co/fuff3JhiJx', \"['btc', '4chan', 'cryptocurrency']\", 'topstonks', 'False']\n",
      "Skipping row due to insufficient columns: []\n",
      "Skipping row due to insufficient columns: ['Via https://t.co/p6iec02QvX']\n",
      "Skipping row due to insufficient columns: []\n",
      "Skipping row due to insufficient columns: ['#btc    #4chan  #cryptocurrency https://t.co/0xeKWal0xr', \"['btc', '4chan', 'cryptocurrency']\", 'topstonks', 'False']\n"
     ]
    },
    {
     "name": "stderr",
     "output_type": "stream",
     "text": [
      "Preprocessing tweets: 173098it [00:58, 2890.35it/s]"
     ]
    },
    {
     "name": "stdout",
     "output_type": "stream",
     "text": [
      "Skipping row due to insufficient columns: []\n",
      "Skipping row due to insufficient columns: ['Via https://t.co/p6iec02QvX']\n",
      "Skipping row due to insufficient columns: []\n",
      "Skipping row due to insufficient columns: ['#btc    #4chan  #cryptocurrency https://t.co/5EPrDHSjig', \"['btc', '4chan', 'cryptocurrency']\", 'topstonks', 'False']\n"
     ]
    },
    {
     "name": "stderr",
     "output_type": "stream",
     "text": [
      "Preprocessing tweets: 174274it [00:59, 2871.11it/s]"
     ]
    },
    {
     "name": "stdout",
     "output_type": "stream",
     "text": [
      "Skipping row due to insufficient columns: []\n",
      "Skipping row due to insufficient columns: ['Via https://t.co/p6iec02QvX']\n",
      "Skipping row due to insufficient columns: []\n",
      "Skipping row due to insufficient columns: ['#btc    #4chan  #cryptocurrency https://t.co/162sQTXjHj', \"['btc', '4chan', 'cryptocurrency']\", 'topstonks', 'False']\n",
      "Skipping row due to insufficient columns: []\n",
      "Skipping row due to insufficient columns: ['Via https://t.co/p6iec02QvX']\n",
      "Skipping row due to insufficient columns: []\n",
      "Skipping row due to insufficient columns: ['#btc    #4chan  #cryptocurrency https://t.co/KeMQ6uj6bw', \"['btc', '4chan', 'cryptocurrency']\", 'topstonks', 'False']\n",
      "Skipping row due to insufficient columns: []\n",
      "Skipping row due to insufficient columns: ['Via https://t.co/p6iec02QvX']\n",
      "Skipping row due to insufficient columns: []\n",
      "Skipping row due to insufficient columns: ['#btc    #4chan  #altcoin https://t.co/38603Icnac', \"['btc', '4chan', 'altcoin']\", 'topstonks', 'False']\n"
     ]
    },
    {
     "name": "stderr",
     "output_type": "stream",
     "text": [
      "Preprocessing tweets: 174438it [00:59, 2938.59it/s]\n"
     ]
    },
    {
     "name": "stdout",
     "output_type": "stream",
     "text": [
      "\n",
      "Preprocessed data saved to '/kaggle/working/preprocessed_bitcoin_tweets.csv'\n",
      "Total tweets processed: 169820\n",
      "Sentiment analysis completed and saved to '/kaggle/working/sentiment_labeled_bitcoin_tweets.csv'\n",
      "\n",
      "Sentiment Distribution:\n",
      "sentiment\n",
      "neutral     75181\n",
      "positive    68995\n",
      "negative    25644\n",
      "Name: count, dtype: int64\n"
     ]
    }
   ],
   "source": [
    "import csv\n",
    "import re\n",
    "import pandas as pd\n",
    "import numpy as np\n",
    "from tqdm import tqdm\n",
    "import nltk\n",
    "from nltk.tokenize import word_tokenize\n",
    "from nltk.stem import PorterStemmer\n",
    "from nltk.corpus import stopwords\n",
    "from nltk.sentiment import SentimentIntensityAnalyzer\n",
    "\n",
    "# Download necessary NLTK data\n",
    "nltk.download('punkt', quiet=True)\n",
    "nltk.download('stopwords', quiet=True)\n",
    "nltk.download('vader_lexicon', quiet=True)\n",
    "\n",
    "# Initialize NLTK tools\n",
    "stemmer = PorterStemmer()\n",
    "stop_words = set(stopwords.words('english'))\n",
    "sia = SentimentIntensityAnalyzer()\n",
    "\n",
    "def preprocess_text(text):\n",
    "    if not isinstance(text, str):\n",
    "        if pd.isna(text):\n",
    "            return ''\n",
    "        text = str(text)\n",
    "    \n",
    "    # Remove URLs\n",
    "    text = re.sub(r'http\\S+|www\\S+|https\\S+', '', text, flags=re.MULTILINE)\n",
    "    # Remove special characters and numbers\n",
    "    text = re.sub(r'[^a-zA-Z\\s]', '', text)\n",
    "    # Convert to lowercase\n",
    "    text = text.lower()\n",
    "    # Tokenization\n",
    "    tokens = word_tokenize(text)\n",
    "    # Remove stopwords and apply stemming\n",
    "    tokens = [stemmer.stem(word) for word in tokens if word not in stop_words]\n",
    "    \n",
    "    return ' '.join(tokens)\n",
    "\n",
    "def read_and_process_csv(file_path, chunk_size=10000):\n",
    "    total_tweets = 0\n",
    "    unique_tweets = set()\n",
    "    processed_chunks = []\n",
    "    current_chunk = []\n",
    "\n",
    "    with open(file_path, 'r', encoding='utf-8', errors='replace') as file:\n",
    "        # Read the header\n",
    "        header = next(csv.reader([file.readline()]))\n",
    "        text_column_index = header.index('text') if 'text' in header else None\n",
    "\n",
    "        if text_column_index is None:\n",
    "            print(\"Error: 'text' column not found in the CSV file.\")\n",
    "            return None, 0, set()\n",
    "\n",
    "        csv_reader = csv.reader((line.replace('\\0', '') for line in file))\n",
    "        for row in tqdm(csv_reader, desc=\"Preprocessing tweets\"):\n",
    "            try:\n",
    "                if len(row) > text_column_index:\n",
    "                    tweet_text = row[text_column_index]\n",
    "                    processed_text = preprocess_text(tweet_text)\n",
    "                    current_chunk.append([tweet_text, processed_text])\n",
    "                    unique_tweets.add(tweet_text)\n",
    "                    \n",
    "                    if len(current_chunk) >= chunk_size:\n",
    "                        df_chunk = pd.DataFrame(current_chunk, columns=['text', 'processed_text'])\n",
    "                        processed_chunks.append(df_chunk)\n",
    "                        total_tweets += len(current_chunk)\n",
    "                        current_chunk = []\n",
    "                else:\n",
    "                    print(f\"Skipping row due to insufficient columns: {row}\")\n",
    "            except Exception as e:\n",
    "                print(f\"Error processing row: {e}\")\n",
    "                continue\n",
    "\n",
    "    if current_chunk:\n",
    "        df_chunk = pd.DataFrame(current_chunk, columns=['text', 'processed_text'])\n",
    "        processed_chunks.append(df_chunk)\n",
    "        total_tweets += len(current_chunk)\n",
    "\n",
    "    df = pd.concat(processed_chunks, ignore_index=True)\n",
    "    return df, total_tweets, unique_tweets\n",
    "\n",
    "# File path to your raw tweet dataset in Kaggle\n",
    "file_path = '/kaggle/input/bitcoin-tweets/Bitcoin_tweets_dataset_2.csv'\n",
    "df_raw, total_tweets, unique_tweets = read_and_process_csv(file_path)\n",
    "\n",
    "if df_raw is not None:\n",
    "    # Save preprocessed data to Kaggle working directory\n",
    "    df_raw.to_csv('/kaggle/working/preprocessed_bitcoin_tweets.csv', index=False)\n",
    "    print(\"\\nPreprocessed data saved to '/kaggle/working/preprocessed_bitcoin_tweets.csv'\")\n",
    "    print(f\"Total tweets processed: {total_tweets}\")\n",
    "\n",
    "    # Sentiment labeling using VADER\n",
    "    def analyze_sentiment(text):\n",
    "        sentiment_scores = sia.polarity_scores(text)\n",
    "        compound_score = sentiment_scores['compound']\n",
    "        if compound_score >= 0.05:\n",
    "            return 'positive'\n",
    "        elif compound_score <= -0.05:\n",
    "            return 'negative'\n",
    "        else:\n",
    "            return 'neutral'\n",
    "\n",
    "    # Apply sentiment analysis (using original text)\n",
    "    df_raw['sentiment'] = df_raw['text'].apply(analyze_sentiment)\n",
    "    \n",
    "    # Save sentiment-labeled data\n",
    "    df_raw.to_csv('/kaggle/working/sentiment_labeled_bitcoin_tweets.csv', index=False)\n",
    "    print(\"Sentiment analysis completed and saved to '/kaggle/working/sentiment_labeled_bitcoin_tweets.csv'\")\n",
    "    \n",
    "    # Display some statistics\n",
    "    print(\"\\nSentiment Distribution:\")\n",
    "    print(df_raw['sentiment'].value_counts())\n",
    "else:\n",
    "    print(\"Failed to process the CSV file.\")"
   ]
  },
  {
   "cell_type": "code",
   "execution_count": 4,
   "id": "d468124d",
   "metadata": {
    "execution": {
     "iopub.execute_input": "2025-04-20T13:51:25.562851Z",
     "iopub.status.busy": "2025-04-20T13:51:25.562203Z",
     "iopub.status.idle": "2025-04-20T13:51:30.108716Z",
     "shell.execute_reply": "2025-04-20T13:51:30.107867Z"
    },
    "papermill": {
     "duration": 4.594476,
     "end_time": "2025-04-20T13:51:30.110010",
     "exception": false,
     "start_time": "2025-04-20T13:51:25.515534",
     "status": "completed"
    },
    "tags": []
   },
   "outputs": [
    {
     "name": "stdout",
     "output_type": "stream",
     "text": [
      "Removed 1 rows with missing processed text.\n",
      "TF-IDF matrix shape: (169819, 5000)\n",
      "Number of features: 5000\n"
     ]
    }
   ],
   "source": [
    "import joblib\n",
    "from sklearn.feature_extraction.text import TfidfVectorizer\n",
    "from scipy.sparse import save_npz\n",
    "import numpy as np\n",
    "import pandas as pd\n",
    "\n",
    "# Load the sentiment-labeled data\n",
    "df = pd.read_csv('/kaggle/working/sentiment_labeled_bitcoin_tweets.csv')\n",
    "df_clean = df.dropna(subset=['processed_text'])\n",
    "print(f\"Removed {len(df) - len(df_clean)} rows with missing processed text.\")\n",
    "\n",
    "# Initialize TF-IDF Vectorizer\n",
    "tfidf_vectorizer = TfidfVectorizer(max_features=5000, stop_words='english')\n",
    "tfidf_matrix = tfidf_vectorizer.fit_transform(df_clean['processed_text'])\n",
    "\n",
    "# Save TF-IDF matrix and vectorizer to Kaggle working directory\n",
    "save_npz('/kaggle/working/tfidf_matrix.npz', tfidf_matrix)\n",
    "joblib.dump(tfidf_vectorizer, '/kaggle/working/tfidf_vectorizer.joblib')\n",
    "\n",
    "# Save feature names\n",
    "feature_names = tfidf_vectorizer.get_feature_names_out()\n",
    "np.save('/kaggle/working/tfidf_feature_names.npy', feature_names)\n",
    "\n",
    "print(f\"TF-IDF matrix shape: {tfidf_matrix.shape}\")\n",
    "print(f\"Number of features: {len(feature_names)}\")"
   ]
  },
  {
   "cell_type": "code",
   "execution_count": 5,
   "id": "6574a5f5",
   "metadata": {
    "execution": {
     "iopub.execute_input": "2025-04-20T13:51:30.248321Z",
     "iopub.status.busy": "2025-04-20T13:51:30.248028Z",
     "iopub.status.idle": "2025-04-20T17:47:20.216504Z",
     "shell.execute_reply": "2025-04-20T17:47:20.215512Z"
    },
    "papermill": {
     "duration": 14150.016428,
     "end_time": "2025-04-20T17:47:20.217997",
     "exception": false,
     "start_time": "2025-04-20T13:51:30.201569",
     "status": "completed"
    },
    "tags": []
   },
   "outputs": [
    {
     "name": "stderr",
     "output_type": "stream",
     "text": [
      "[I 2025-04-20 13:51:34,953] A new study created in memory with name: no-name-80774f83-36c9-48d6-a5b2-dfb2f6ff54c2\n"
     ]
    },
    {
     "name": "stdout",
     "output_type": "stream",
     "text": [
      "Starting hyperparameter tuning for XGBoost using Optuna...\n",
      "[LightGBM] [Info] This is the GPU trainer!!\n",
      "[LightGBM] [Info] Total Bins 219747\n",
      "[LightGBM] [Info] Number of data points in the train set: 113212, number of used features: 4693\n",
      "[LightGBM] [Info] Using GPU Device: Tesla T4, Vendor: NVIDIA Corporation\n",
      "[LightGBM] [Info] Compiling OpenCL Kernel with 256 bins...\n"
     ]
    },
    {
     "name": "stderr",
     "output_type": "stream",
     "text": [
      "1 warning generated.\n",
      "1 warning generated.\n",
      "1 warning generated.\n",
      "1 warning generated.\n",
      "1 warning generated.\n",
      "1 warning generated.\n",
      "1 warning generated.\n",
      "1 warning generated.\n",
      "1 warning generated.\n",
      "1 warning generated.\n",
      "1 warning generated.\n",
      "1 warning generated.\n",
      "1 warning generated.\n",
      "1 warning generated.\n",
      "1 warning generated.\n",
      "1 warning generated.\n",
      "1 warning generated.\n",
      "1 warning generated.\n",
      "1 warning generated.\n",
      "1 warning generated.\n",
      "1 warning generated.\n",
      "1 warning generated.\n",
      "1 warning generated.\n",
      "1 warning generated.\n",
      "1 warning generated.\n",
      "1 warning generated.\n",
      "1 warning generated.\n",
      "1 warning generated.\n",
      "1 warning generated.\n",
      "1 warning generated.\n",
      "1 warning generated.\n",
      "1 warning generated.\n",
      "1 warning generated.\n"
     ]
    },
    {
     "name": "stdout",
     "output_type": "stream",
     "text": [
      "[LightGBM] [Info] GPU programs have been built\n",
      "[LightGBM] [Info] Size of histogram bin entry: 8\n",
      "[LightGBM] [Info] 2 dense feature groups (0.43 MB) transferred to GPU in 0.000778 secs. 1 sparse feature groups\n",
      "[LightGBM] [Info] Start training from score -1.890418\n",
      "[LightGBM] [Info] Start training from score -0.814842\n",
      "[LightGBM] [Info] Start training from score -0.900708\n"
     ]
    },
    {
     "name": "stderr",
     "output_type": "stream",
     "text": [
      "/usr/local/lib/python3.11/dist-packages/xgboost/core.py:729: UserWarning: [13:58:32] WARNING: /workspace/src/common/error_msg.cc:58: Falling back to prediction using DMatrix due to mismatched devices. This might lead to higher memory usage and slower performance. XGBoost is running on: cuda:0, while the input data is on: cpu.\n",
      "Potential solutions:\n",
      "- Use a data structure that matches the device ordinal in the booster.\n",
      "- Set the device for booster before call to inplace_predict.\n",
      "\n",
      "This warning will only be shown once.\n",
      "\n",
      "  return func(**kwargs)\n"
     ]
    },
    {
     "name": "stdout",
     "output_type": "stream",
     "text": [
      "[LightGBM] [Info] This is the GPU trainer!!\n",
      "[LightGBM] [Info] Total Bins 183848\n",
      "[LightGBM] [Info] Number of data points in the train set: 90569, number of used features: 4159\n",
      "[LightGBM] [Info] Using GPU Device: Tesla T4, Vendor: NVIDIA Corporation\n",
      "[LightGBM] [Info] Compiling OpenCL Kernel with 256 bins...\n",
      "[LightGBM] [Info] GPU programs have been built\n",
      "[LightGBM] [Info] Size of histogram bin entry: 8\n",
      "[LightGBM] [Info] 2 dense feature groups (0.35 MB) transferred to GPU in 0.000831 secs. 1 sparse feature groups\n",
      "[LightGBM] [Info] Start training from score -1.890470\n",
      "[LightGBM] [Info] Start training from score -0.814835\n",
      "[LightGBM] [Info] Start training from score -0.900696\n"
     ]
    },
    {
     "name": "stderr",
     "output_type": "stream",
     "text": [
      "/usr/local/lib/python3.11/dist-packages/sklearn/utils/validation.py:2739: UserWarning: X does not have valid feature names, but LGBMClassifier was fitted with feature names\n",
      "  warnings.warn(\n"
     ]
    },
    {
     "name": "stdout",
     "output_type": "stream",
     "text": [
      "[LightGBM] [Info] This is the GPU trainer!!\n",
      "[LightGBM] [Info] Total Bins 181604\n",
      "[LightGBM] [Info] Number of data points in the train set: 90569, number of used features: 4143\n",
      "[LightGBM] [Info] Using GPU Device: Tesla T4, Vendor: NVIDIA Corporation\n",
      "[LightGBM] [Info] Compiling OpenCL Kernel with 256 bins...\n",
      "[LightGBM] [Info] GPU programs have been built\n",
      "[LightGBM] [Info] Size of histogram bin entry: 8\n",
      "[LightGBM] [Info] 3 dense feature groups (0.35 MB) transferred to GPU in 0.000941 secs. 1 sparse feature groups\n",
      "[LightGBM] [Info] Start training from score -1.890396\n",
      "[LightGBM] [Info] Start training from score -0.814835\n",
      "[LightGBM] [Info] Start training from score -0.900723\n"
     ]
    },
    {
     "name": "stderr",
     "output_type": "stream",
     "text": [
      "/usr/local/lib/python3.11/dist-packages/sklearn/utils/validation.py:2739: UserWarning: X does not have valid feature names, but LGBMClassifier was fitted with feature names\n",
      "  warnings.warn(\n"
     ]
    },
    {
     "name": "stdout",
     "output_type": "stream",
     "text": [
      "[LightGBM] [Info] This is the GPU trainer!!\n",
      "[LightGBM] [Info] Total Bins 186456\n",
      "[LightGBM] [Info] Number of data points in the train set: 90570, number of used features: 4224\n",
      "[LightGBM] [Info] Using GPU Device: Tesla T4, Vendor: NVIDIA Corporation\n",
      "[LightGBM] [Info] Compiling OpenCL Kernel with 256 bins...\n",
      "[LightGBM] [Info] GPU programs have been built\n",
      "[LightGBM] [Info] Size of histogram bin entry: 8\n",
      "[LightGBM] [Info] 3 dense feature groups (0.35 MB) transferred to GPU in 0.000777 secs. 1 sparse feature groups\n",
      "[LightGBM] [Info] Start training from score -1.890407\n",
      "[LightGBM] [Info] Start training from score -0.814846\n",
      "[LightGBM] [Info] Start training from score -0.900707\n"
     ]
    },
    {
     "name": "stderr",
     "output_type": "stream",
     "text": [
      "/usr/local/lib/python3.11/dist-packages/sklearn/utils/validation.py:2739: UserWarning: X does not have valid feature names, but LGBMClassifier was fitted with feature names\n",
      "  warnings.warn(\n"
     ]
    },
    {
     "name": "stdout",
     "output_type": "stream",
     "text": [
      "[LightGBM] [Info] This is the GPU trainer!!\n",
      "[LightGBM] [Info] Total Bins 183954\n",
      "[LightGBM] [Info] Number of data points in the train set: 90570, number of used features: 4215\n",
      "[LightGBM] [Info] Using GPU Device: Tesla T4, Vendor: NVIDIA Corporation\n",
      "[LightGBM] [Info] Compiling OpenCL Kernel with 256 bins...\n",
      "[LightGBM] [Info] GPU programs have been built\n",
      "[LightGBM] [Info] Size of histogram bin entry: 8\n",
      "[LightGBM] [Info] 2 dense feature groups (0.35 MB) transferred to GPU in 0.000774 secs. 1 sparse feature groups\n",
      "[LightGBM] [Info] Start training from score -1.890407\n",
      "[LightGBM] [Info] Start training from score -0.814846\n",
      "[LightGBM] [Info] Start training from score -0.900707\n"
     ]
    },
    {
     "name": "stderr",
     "output_type": "stream",
     "text": [
      "/usr/local/lib/python3.11/dist-packages/sklearn/utils/validation.py:2739: UserWarning: X does not have valid feature names, but LGBMClassifier was fitted with feature names\n",
      "  warnings.warn(\n"
     ]
    },
    {
     "name": "stdout",
     "output_type": "stream",
     "text": [
      "[LightGBM] [Info] This is the GPU trainer!!\n",
      "[LightGBM] [Info] Total Bins 183045\n",
      "[LightGBM] [Info] Number of data points in the train set: 90570, number of used features: 4189\n",
      "[LightGBM] [Info] Using GPU Device: Tesla T4, Vendor: NVIDIA Corporation\n",
      "[LightGBM] [Info] Compiling OpenCL Kernel with 256 bins...\n",
      "[LightGBM] [Info] GPU programs have been built\n",
      "[LightGBM] [Info] Size of histogram bin entry: 8\n",
      "[LightGBM] [Info] 2 dense feature groups (0.35 MB) transferred to GPU in 0.000862 secs. 1 sparse feature groups\n",
      "[LightGBM] [Info] Start training from score -1.890407\n",
      "[LightGBM] [Info] Start training from score -0.814846\n",
      "[LightGBM] [Info] Start training from score -0.900707\n"
     ]
    },
    {
     "name": "stderr",
     "output_type": "stream",
     "text": [
      "/usr/local/lib/python3.11/dist-packages/sklearn/utils/validation.py:2739: UserWarning: X does not have valid feature names, but LGBMClassifier was fitted with feature names\n",
      "  warnings.warn(\n",
      "/usr/local/lib/python3.11/dist-packages/sklearn/utils/validation.py:2739: UserWarning: X does not have valid feature names, but LGBMClassifier was fitted with feature names\n",
      "  warnings.warn(\n"
     ]
    },
    {
     "name": "stdout",
     "output_type": "stream",
     "text": [
      "[LightGBM] [Info] This is the GPU trainer!!\n",
      "[LightGBM] [Info] Total Bins 219996\n",
      "[LightGBM] [Info] Number of data points in the train set: 113213, number of used features: 4703\n",
      "[LightGBM] [Info] Using GPU Device: Tesla T4, Vendor: NVIDIA Corporation\n",
      "[LightGBM] [Info] Compiling OpenCL Kernel with 256 bins...\n",
      "[LightGBM] [Info] GPU programs have been built\n",
      "[LightGBM] [Info] Size of histogram bin entry: 8\n",
      "[LightGBM] [Info] 2 dense feature groups (0.43 MB) transferred to GPU in 0.000992 secs. 1 sparse feature groups\n",
      "[LightGBM] [Info] Start training from score -1.890426\n",
      "[LightGBM] [Info] Start training from score -0.814851\n",
      "[LightGBM] [Info] Start training from score -0.900695\n",
      "[LightGBM] [Info] This is the GPU trainer!!\n",
      "[LightGBM] [Info] Total Bins 184313\n",
      "[LightGBM] [Info] Number of data points in the train set: 90570, number of used features: 4193\n",
      "[LightGBM] [Info] Using GPU Device: Tesla T4, Vendor: NVIDIA Corporation\n",
      "[LightGBM] [Info] Compiling OpenCL Kernel with 256 bins...\n",
      "[LightGBM] [Info] GPU programs have been built\n",
      "[LightGBM] [Info] Size of histogram bin entry: 8\n",
      "[LightGBM] [Info] 2 dense feature groups (0.35 MB) transferred to GPU in 0.000865 secs. 1 sparse feature groups\n",
      "[LightGBM] [Info] Start training from score -1.890481\n",
      "[LightGBM] [Info] Start training from score -0.814846\n",
      "[LightGBM] [Info] Start training from score -0.900680\n"
     ]
    },
    {
     "name": "stderr",
     "output_type": "stream",
     "text": [
      "/usr/local/lib/python3.11/dist-packages/sklearn/utils/validation.py:2739: UserWarning: X does not have valid feature names, but LGBMClassifier was fitted with feature names\n",
      "  warnings.warn(\n"
     ]
    },
    {
     "name": "stdout",
     "output_type": "stream",
     "text": [
      "[LightGBM] [Info] This is the GPU trainer!!\n",
      "[LightGBM] [Info] Total Bins 181585\n",
      "[LightGBM] [Info] Number of data points in the train set: 90570, number of used features: 4148\n",
      "[LightGBM] [Info] Using GPU Device: Tesla T4, Vendor: NVIDIA Corporation\n",
      "[LightGBM] [Info] Compiling OpenCL Kernel with 256 bins...\n",
      "[LightGBM] [Info] GPU programs have been built\n",
      "[LightGBM] [Info] Size of histogram bin entry: 8\n",
      "[LightGBM] [Info] 2 dense feature groups (0.35 MB) transferred to GPU in 0.000831 secs. 1 sparse feature groups\n",
      "[LightGBM] [Info] Start training from score -1.890407\n",
      "[LightGBM] [Info] Start training from score -0.814846\n",
      "[LightGBM] [Info] Start training from score -0.900707\n"
     ]
    },
    {
     "name": "stderr",
     "output_type": "stream",
     "text": [
      "/usr/local/lib/python3.11/dist-packages/sklearn/utils/validation.py:2739: UserWarning: X does not have valid feature names, but LGBMClassifier was fitted with feature names\n",
      "  warnings.warn(\n"
     ]
    },
    {
     "name": "stdout",
     "output_type": "stream",
     "text": [
      "[LightGBM] [Info] This is the GPU trainer!!\n",
      "[LightGBM] [Info] Total Bins 186099\n",
      "[LightGBM] [Info] Number of data points in the train set: 90570, number of used features: 4244\n",
      "[LightGBM] [Info] Using GPU Device: Tesla T4, Vendor: NVIDIA Corporation\n",
      "[LightGBM] [Info] Compiling OpenCL Kernel with 256 bins...\n",
      "[LightGBM] [Info] GPU programs have been built\n",
      "[LightGBM] [Info] Size of histogram bin entry: 8\n",
      "[LightGBM] [Info] 3 dense feature groups (0.35 MB) transferred to GPU in 0.000837 secs. 1 sparse feature groups\n",
      "[LightGBM] [Info] Start training from score -1.890407\n",
      "[LightGBM] [Info] Start training from score -0.814846\n",
      "[LightGBM] [Info] Start training from score -0.900707\n"
     ]
    },
    {
     "name": "stderr",
     "output_type": "stream",
     "text": [
      "/usr/local/lib/python3.11/dist-packages/sklearn/utils/validation.py:2739: UserWarning: X does not have valid feature names, but LGBMClassifier was fitted with feature names\n",
      "  warnings.warn(\n"
     ]
    },
    {
     "name": "stdout",
     "output_type": "stream",
     "text": [
      "[LightGBM] [Info] This is the GPU trainer!!\n",
      "[LightGBM] [Info] Total Bins 183959\n",
      "[LightGBM] [Info] Number of data points in the train set: 90571, number of used features: 4212\n",
      "[LightGBM] [Info] Using GPU Device: Tesla T4, Vendor: NVIDIA Corporation\n",
      "[LightGBM] [Info] Compiling OpenCL Kernel with 256 bins...\n",
      "[LightGBM] [Info] GPU programs have been built\n",
      "[LightGBM] [Info] Size of histogram bin entry: 8\n",
      "[LightGBM] [Info] 2 dense feature groups (0.35 MB) transferred to GPU in 0.000832 secs. 1 sparse feature groups\n",
      "[LightGBM] [Info] Start training from score -1.890418\n",
      "[LightGBM] [Info] Start training from score -0.814857\n",
      "[LightGBM] [Info] Start training from score -0.900691\n"
     ]
    },
    {
     "name": "stderr",
     "output_type": "stream",
     "text": [
      "/usr/local/lib/python3.11/dist-packages/sklearn/utils/validation.py:2739: UserWarning: X does not have valid feature names, but LGBMClassifier was fitted with feature names\n",
      "  warnings.warn(\n"
     ]
    },
    {
     "name": "stdout",
     "output_type": "stream",
     "text": [
      "[LightGBM] [Info] This is the GPU trainer!!\n",
      "[LightGBM] [Info] Total Bins 182581\n",
      "[LightGBM] [Info] Number of data points in the train set: 90571, number of used features: 4196\n",
      "[LightGBM] [Info] Using GPU Device: Tesla T4, Vendor: NVIDIA Corporation\n",
      "[LightGBM] [Info] Compiling OpenCL Kernel with 256 bins...\n",
      "[LightGBM] [Info] GPU programs have been built\n",
      "[LightGBM] [Info] Size of histogram bin entry: 8\n",
      "[LightGBM] [Info] 2 dense feature groups (0.35 MB) transferred to GPU in 0.000791 secs. 1 sparse feature groups\n",
      "[LightGBM] [Info] Start training from score -1.890418\n",
      "[LightGBM] [Info] Start training from score -0.814857\n",
      "[LightGBM] [Info] Start training from score -0.900691\n"
     ]
    },
    {
     "name": "stderr",
     "output_type": "stream",
     "text": [
      "/usr/local/lib/python3.11/dist-packages/sklearn/utils/validation.py:2739: UserWarning: X does not have valid feature names, but LGBMClassifier was fitted with feature names\n",
      "  warnings.warn(\n",
      "/usr/local/lib/python3.11/dist-packages/sklearn/utils/validation.py:2739: UserWarning: X does not have valid feature names, but LGBMClassifier was fitted with feature names\n",
      "  warnings.warn(\n"
     ]
    },
    {
     "name": "stdout",
     "output_type": "stream",
     "text": [
      "[LightGBM] [Info] This is the GPU trainer!!\n",
      "[LightGBM] [Info] Total Bins 220276\n",
      "[LightGBM] [Info] Number of data points in the train set: 113213, number of used features: 4705\n",
      "[LightGBM] [Info] Using GPU Device: Tesla T4, Vendor: NVIDIA Corporation\n",
      "[LightGBM] [Info] Compiling OpenCL Kernel with 256 bins...\n",
      "[LightGBM] [Info] GPU programs have been built\n",
      "[LightGBM] [Info] Size of histogram bin entry: 8\n",
      "[LightGBM] [Info] 2 dense feature groups (0.43 MB) transferred to GPU in 0.000856 secs. 1 sparse feature groups\n",
      "[LightGBM] [Info] Start training from score -1.890426\n",
      "[LightGBM] [Info] Start training from score -0.814851\n",
      "[LightGBM] [Info] Start training from score -0.900695\n",
      "[LightGBM] [Info] This is the GPU trainer!!\n",
      "[LightGBM] [Info] Total Bins 184342\n",
      "[LightGBM] [Info] Number of data points in the train set: 90570, number of used features: 4167\n",
      "[LightGBM] [Info] Using GPU Device: Tesla T4, Vendor: NVIDIA Corporation\n",
      "[LightGBM] [Info] Compiling OpenCL Kernel with 256 bins...\n",
      "[LightGBM] [Info] GPU programs have been built\n",
      "[LightGBM] [Info] Size of histogram bin entry: 8\n",
      "[LightGBM] [Info] 2 dense feature groups (0.35 MB) transferred to GPU in 0.000743 secs. 1 sparse feature groups\n",
      "[LightGBM] [Info] Start training from score -1.890481\n",
      "[LightGBM] [Info] Start training from score -0.814846\n",
      "[LightGBM] [Info] Start training from score -0.900680\n"
     ]
    },
    {
     "name": "stderr",
     "output_type": "stream",
     "text": [
      "/usr/local/lib/python3.11/dist-packages/sklearn/utils/validation.py:2739: UserWarning: X does not have valid feature names, but LGBMClassifier was fitted with feature names\n",
      "  warnings.warn(\n"
     ]
    },
    {
     "name": "stdout",
     "output_type": "stream",
     "text": [
      "[LightGBM] [Info] This is the GPU trainer!!\n",
      "[LightGBM] [Info] Total Bins 181731\n",
      "[LightGBM] [Info] Number of data points in the train set: 90570, number of used features: 4159\n",
      "[LightGBM] [Info] Using GPU Device: Tesla T4, Vendor: NVIDIA Corporation\n",
      "[LightGBM] [Info] Compiling OpenCL Kernel with 256 bins...\n",
      "[LightGBM] [Info] GPU programs have been built\n",
      "[LightGBM] [Info] Size of histogram bin entry: 8\n",
      "[LightGBM] [Info] 2 dense feature groups (0.35 MB) transferred to GPU in 0.000715 secs. 1 sparse feature groups\n",
      "[LightGBM] [Info] Start training from score -1.890407\n",
      "[LightGBM] [Info] Start training from score -0.814846\n",
      "[LightGBM] [Info] Start training from score -0.900707\n"
     ]
    },
    {
     "name": "stderr",
     "output_type": "stream",
     "text": [
      "/usr/local/lib/python3.11/dist-packages/sklearn/utils/validation.py:2739: UserWarning: X does not have valid feature names, but LGBMClassifier was fitted with feature names\n",
      "  warnings.warn(\n"
     ]
    },
    {
     "name": "stdout",
     "output_type": "stream",
     "text": [
      "[LightGBM] [Info] This is the GPU trainer!!\n",
      "[LightGBM] [Info] Total Bins 187029\n",
      "[LightGBM] [Info] Number of data points in the train set: 90570, number of used features: 4220\n",
      "[LightGBM] [Info] Using GPU Device: Tesla T4, Vendor: NVIDIA Corporation\n",
      "[LightGBM] [Info] Compiling OpenCL Kernel with 256 bins...\n",
      "[LightGBM] [Info] GPU programs have been built\n",
      "[LightGBM] [Info] Size of histogram bin entry: 8\n",
      "[LightGBM] [Info] 3 dense feature groups (0.35 MB) transferred to GPU in 0.000722 secs. 1 sparse feature groups\n",
      "[LightGBM] [Info] Start training from score -1.890407\n",
      "[LightGBM] [Info] Start training from score -0.814846\n",
      "[LightGBM] [Info] Start training from score -0.900707\n"
     ]
    },
    {
     "name": "stderr",
     "output_type": "stream",
     "text": [
      "/usr/local/lib/python3.11/dist-packages/sklearn/utils/validation.py:2739: UserWarning: X does not have valid feature names, but LGBMClassifier was fitted with feature names\n",
      "  warnings.warn(\n"
     ]
    },
    {
     "name": "stdout",
     "output_type": "stream",
     "text": [
      "[LightGBM] [Info] This is the GPU trainer!!\n",
      "[LightGBM] [Info] Total Bins 183970\n",
      "[LightGBM] [Info] Number of data points in the train set: 90571, number of used features: 4217\n",
      "[LightGBM] [Info] Using GPU Device: Tesla T4, Vendor: NVIDIA Corporation\n",
      "[LightGBM] [Info] Compiling OpenCL Kernel with 256 bins...\n",
      "[LightGBM] [Info] GPU programs have been built\n",
      "[LightGBM] [Info] Size of histogram bin entry: 8\n",
      "[LightGBM] [Info] 2 dense feature groups (0.35 MB) transferred to GPU in 0.000697 secs. 1 sparse feature groups\n",
      "[LightGBM] [Info] Start training from score -1.890418\n",
      "[LightGBM] [Info] Start training from score -0.814857\n",
      "[LightGBM] [Info] Start training from score -0.900691\n"
     ]
    },
    {
     "name": "stderr",
     "output_type": "stream",
     "text": [
      "/usr/local/lib/python3.11/dist-packages/sklearn/utils/validation.py:2739: UserWarning: X does not have valid feature names, but LGBMClassifier was fitted with feature names\n",
      "  warnings.warn(\n"
     ]
    },
    {
     "name": "stdout",
     "output_type": "stream",
     "text": [
      "[LightGBM] [Info] This is the GPU trainer!!\n",
      "[LightGBM] [Info] Total Bins 183113\n",
      "[LightGBM] [Info] Number of data points in the train set: 90571, number of used features: 4167\n",
      "[LightGBM] [Info] Using GPU Device: Tesla T4, Vendor: NVIDIA Corporation\n",
      "[LightGBM] [Info] Compiling OpenCL Kernel with 256 bins...\n",
      "[LightGBM] [Info] GPU programs have been built\n",
      "[LightGBM] [Info] Size of histogram bin entry: 8\n",
      "[LightGBM] [Info] 2 dense feature groups (0.35 MB) transferred to GPU in 0.000880 secs. 1 sparse feature groups\n",
      "[LightGBM] [Info] Start training from score -1.890418\n",
      "[LightGBM] [Info] Start training from score -0.814857\n",
      "[LightGBM] [Info] Start training from score -0.900691\n"
     ]
    },
    {
     "name": "stderr",
     "output_type": "stream",
     "text": [
      "/usr/local/lib/python3.11/dist-packages/sklearn/utils/validation.py:2739: UserWarning: X does not have valid feature names, but LGBMClassifier was fitted with feature names\n",
      "  warnings.warn(\n",
      "/usr/local/lib/python3.11/dist-packages/sklearn/utils/validation.py:2739: UserWarning: X does not have valid feature names, but LGBMClassifier was fitted with feature names\n",
      "  warnings.warn(\n",
      "[I 2025-04-20 14:22:34,760] Trial 0 finished with value: 0.910369280752573 and parameters: {'xgb_n_estimators': 128, 'xgb_learning_rate': 0.2981428677094213, 'xgb_max_depth': 11}. Best is trial 0 with value: 0.910369280752573.\n"
     ]
    },
    {
     "name": "stdout",
     "output_type": "stream",
     "text": [
      "[LightGBM] [Info] This is the GPU trainer!!\n",
      "[LightGBM] [Info] Total Bins 219747\n",
      "[LightGBM] [Info] Number of data points in the train set: 113212, number of used features: 4693\n",
      "[LightGBM] [Info] Using GPU Device: Tesla T4, Vendor: NVIDIA Corporation\n",
      "[LightGBM] [Info] Compiling OpenCL Kernel with 256 bins...\n",
      "[LightGBM] [Info] GPU programs have been built\n",
      "[LightGBM] [Info] Size of histogram bin entry: 8\n",
      "[LightGBM] [Info] 2 dense feature groups (0.43 MB) transferred to GPU in 0.000730 secs. 1 sparse feature groups\n",
      "[LightGBM] [Info] Start training from score -1.890418\n",
      "[LightGBM] [Info] Start training from score -0.814842\n",
      "[LightGBM] [Info] Start training from score -0.900708\n",
      "[LightGBM] [Info] This is the GPU trainer!!\n",
      "[LightGBM] [Info] Total Bins 183848\n",
      "[LightGBM] [Info] Number of data points in the train set: 90569, number of used features: 4159\n",
      "[LightGBM] [Info] Using GPU Device: Tesla T4, Vendor: NVIDIA Corporation\n",
      "[LightGBM] [Info] Compiling OpenCL Kernel with 256 bins...\n",
      "[LightGBM] [Info] GPU programs have been built\n",
      "[LightGBM] [Info] Size of histogram bin entry: 8\n",
      "[LightGBM] [Info] 2 dense feature groups (0.35 MB) transferred to GPU in 0.000698 secs. 1 sparse feature groups\n",
      "[LightGBM] [Info] Start training from score -1.890470\n",
      "[LightGBM] [Info] Start training from score -0.814835\n",
      "[LightGBM] [Info] Start training from score -0.900696\n"
     ]
    },
    {
     "name": "stderr",
     "output_type": "stream",
     "text": [
      "/usr/local/lib/python3.11/dist-packages/sklearn/utils/validation.py:2739: UserWarning: X does not have valid feature names, but LGBMClassifier was fitted with feature names\n",
      "  warnings.warn(\n"
     ]
    },
    {
     "name": "stdout",
     "output_type": "stream",
     "text": [
      "[LightGBM] [Info] This is the GPU trainer!!\n",
      "[LightGBM] [Info] Total Bins 181604\n",
      "[LightGBM] [Info] Number of data points in the train set: 90569, number of used features: 4143\n",
      "[LightGBM] [Info] Using GPU Device: Tesla T4, Vendor: NVIDIA Corporation\n",
      "[LightGBM] [Info] Compiling OpenCL Kernel with 256 bins...\n",
      "[LightGBM] [Info] GPU programs have been built\n",
      "[LightGBM] [Info] Size of histogram bin entry: 8\n",
      "[LightGBM] [Info] 3 dense feature groups (0.35 MB) transferred to GPU in 0.000773 secs. 1 sparse feature groups\n",
      "[LightGBM] [Info] Start training from score -1.890396\n",
      "[LightGBM] [Info] Start training from score -0.814835\n",
      "[LightGBM] [Info] Start training from score -0.900723\n"
     ]
    },
    {
     "name": "stderr",
     "output_type": "stream",
     "text": [
      "/usr/local/lib/python3.11/dist-packages/sklearn/utils/validation.py:2739: UserWarning: X does not have valid feature names, but LGBMClassifier was fitted with feature names\n",
      "  warnings.warn(\n"
     ]
    },
    {
     "name": "stdout",
     "output_type": "stream",
     "text": [
      "[LightGBM] [Info] This is the GPU trainer!!\n",
      "[LightGBM] [Info] Total Bins 186456\n",
      "[LightGBM] [Info] Number of data points in the train set: 90570, number of used features: 4224\n",
      "[LightGBM] [Info] Using GPU Device: Tesla T4, Vendor: NVIDIA Corporation\n",
      "[LightGBM] [Info] Compiling OpenCL Kernel with 256 bins...\n",
      "[LightGBM] [Info] GPU programs have been built\n",
      "[LightGBM] [Info] Size of histogram bin entry: 8\n",
      "[LightGBM] [Info] 3 dense feature groups (0.35 MB) transferred to GPU in 0.000775 secs. 1 sparse feature groups\n",
      "[LightGBM] [Info] Start training from score -1.890407\n",
      "[LightGBM] [Info] Start training from score -0.814846\n",
      "[LightGBM] [Info] Start training from score -0.900707\n"
     ]
    },
    {
     "name": "stderr",
     "output_type": "stream",
     "text": [
      "/usr/local/lib/python3.11/dist-packages/sklearn/utils/validation.py:2739: UserWarning: X does not have valid feature names, but LGBMClassifier was fitted with feature names\n",
      "  warnings.warn(\n"
     ]
    },
    {
     "name": "stdout",
     "output_type": "stream",
     "text": [
      "[LightGBM] [Info] This is the GPU trainer!!\n",
      "[LightGBM] [Info] Total Bins 183954\n",
      "[LightGBM] [Info] Number of data points in the train set: 90570, number of used features: 4215\n",
      "[LightGBM] [Info] Using GPU Device: Tesla T4, Vendor: NVIDIA Corporation\n",
      "[LightGBM] [Info] Compiling OpenCL Kernel with 256 bins...\n",
      "[LightGBM] [Info] GPU programs have been built\n",
      "[LightGBM] [Info] Size of histogram bin entry: 8\n",
      "[LightGBM] [Info] 2 dense feature groups (0.35 MB) transferred to GPU in 0.000655 secs. 1 sparse feature groups\n",
      "[LightGBM] [Info] Start training from score -1.890407\n",
      "[LightGBM] [Info] Start training from score -0.814846\n",
      "[LightGBM] [Info] Start training from score -0.900707\n"
     ]
    },
    {
     "name": "stderr",
     "output_type": "stream",
     "text": [
      "/usr/local/lib/python3.11/dist-packages/sklearn/utils/validation.py:2739: UserWarning: X does not have valid feature names, but LGBMClassifier was fitted with feature names\n",
      "  warnings.warn(\n"
     ]
    },
    {
     "name": "stdout",
     "output_type": "stream",
     "text": [
      "[LightGBM] [Info] This is the GPU trainer!!\n",
      "[LightGBM] [Info] Total Bins 183045\n",
      "[LightGBM] [Info] Number of data points in the train set: 90570, number of used features: 4189\n",
      "[LightGBM] [Info] Using GPU Device: Tesla T4, Vendor: NVIDIA Corporation\n",
      "[LightGBM] [Info] Compiling OpenCL Kernel with 256 bins...\n",
      "[LightGBM] [Info] GPU programs have been built\n",
      "[LightGBM] [Info] Size of histogram bin entry: 8\n",
      "[LightGBM] [Info] 2 dense feature groups (0.35 MB) transferred to GPU in 0.000664 secs. 1 sparse feature groups\n",
      "[LightGBM] [Info] Start training from score -1.890407\n",
      "[LightGBM] [Info] Start training from score -0.814846\n",
      "[LightGBM] [Info] Start training from score -0.900707\n"
     ]
    },
    {
     "name": "stderr",
     "output_type": "stream",
     "text": [
      "/usr/local/lib/python3.11/dist-packages/sklearn/utils/validation.py:2739: UserWarning: X does not have valid feature names, but LGBMClassifier was fitted with feature names\n",
      "  warnings.warn(\n",
      "/usr/local/lib/python3.11/dist-packages/sklearn/utils/validation.py:2739: UserWarning: X does not have valid feature names, but LGBMClassifier was fitted with feature names\n",
      "  warnings.warn(\n"
     ]
    },
    {
     "name": "stdout",
     "output_type": "stream",
     "text": [
      "[LightGBM] [Info] This is the GPU trainer!!\n",
      "[LightGBM] [Info] Total Bins 219996\n",
      "[LightGBM] [Info] Number of data points in the train set: 113213, number of used features: 4703\n",
      "[LightGBM] [Info] Using GPU Device: Tesla T4, Vendor: NVIDIA Corporation\n",
      "[LightGBM] [Info] Compiling OpenCL Kernel with 256 bins...\n",
      "[LightGBM] [Info] GPU programs have been built\n",
      "[LightGBM] [Info] Size of histogram bin entry: 8\n",
      "[LightGBM] [Info] 2 dense feature groups (0.43 MB) transferred to GPU in 0.000889 secs. 1 sparse feature groups\n",
      "[LightGBM] [Info] Start training from score -1.890426\n",
      "[LightGBM] [Info] Start training from score -0.814851\n",
      "[LightGBM] [Info] Start training from score -0.900695\n",
      "[LightGBM] [Info] This is the GPU trainer!!\n",
      "[LightGBM] [Info] Total Bins 184313\n",
      "[LightGBM] [Info] Number of data points in the train set: 90570, number of used features: 4193\n",
      "[LightGBM] [Info] Using GPU Device: Tesla T4, Vendor: NVIDIA Corporation\n",
      "[LightGBM] [Info] Compiling OpenCL Kernel with 256 bins...\n",
      "[LightGBM] [Info] GPU programs have been built\n",
      "[LightGBM] [Info] Size of histogram bin entry: 8\n",
      "[LightGBM] [Info] 2 dense feature groups (0.35 MB) transferred to GPU in 0.000702 secs. 1 sparse feature groups\n",
      "[LightGBM] [Info] Start training from score -1.890481\n",
      "[LightGBM] [Info] Start training from score -0.814846\n",
      "[LightGBM] [Info] Start training from score -0.900680\n"
     ]
    },
    {
     "name": "stderr",
     "output_type": "stream",
     "text": [
      "/usr/local/lib/python3.11/dist-packages/sklearn/utils/validation.py:2739: UserWarning: X does not have valid feature names, but LGBMClassifier was fitted with feature names\n",
      "  warnings.warn(\n"
     ]
    },
    {
     "name": "stdout",
     "output_type": "stream",
     "text": [
      "[LightGBM] [Info] This is the GPU trainer!!\n",
      "[LightGBM] [Info] Total Bins 181585\n",
      "[LightGBM] [Info] Number of data points in the train set: 90570, number of used features: 4148\n",
      "[LightGBM] [Info] Using GPU Device: Tesla T4, Vendor: NVIDIA Corporation\n",
      "[LightGBM] [Info] Compiling OpenCL Kernel with 256 bins...\n",
      "[LightGBM] [Info] GPU programs have been built\n",
      "[LightGBM] [Info] Size of histogram bin entry: 8\n",
      "[LightGBM] [Info] 2 dense feature groups (0.35 MB) transferred to GPU in 0.000705 secs. 1 sparse feature groups\n",
      "[LightGBM] [Info] Start training from score -1.890407\n",
      "[LightGBM] [Info] Start training from score -0.814846\n",
      "[LightGBM] [Info] Start training from score -0.900707\n"
     ]
    },
    {
     "name": "stderr",
     "output_type": "stream",
     "text": [
      "/usr/local/lib/python3.11/dist-packages/sklearn/utils/validation.py:2739: UserWarning: X does not have valid feature names, but LGBMClassifier was fitted with feature names\n",
      "  warnings.warn(\n"
     ]
    },
    {
     "name": "stdout",
     "output_type": "stream",
     "text": [
      "[LightGBM] [Info] This is the GPU trainer!!\n",
      "[LightGBM] [Info] Total Bins 186099\n",
      "[LightGBM] [Info] Number of data points in the train set: 90570, number of used features: 4244\n",
      "[LightGBM] [Info] Using GPU Device: Tesla T4, Vendor: NVIDIA Corporation\n",
      "[LightGBM] [Info] Compiling OpenCL Kernel with 256 bins...\n",
      "[LightGBM] [Info] GPU programs have been built\n",
      "[LightGBM] [Info] Size of histogram bin entry: 8\n",
      "[LightGBM] [Info] 3 dense feature groups (0.35 MB) transferred to GPU in 0.000759 secs. 1 sparse feature groups\n",
      "[LightGBM] [Info] Start training from score -1.890407\n",
      "[LightGBM] [Info] Start training from score -0.814846\n",
      "[LightGBM] [Info] Start training from score -0.900707\n"
     ]
    },
    {
     "name": "stderr",
     "output_type": "stream",
     "text": [
      "/usr/local/lib/python3.11/dist-packages/sklearn/utils/validation.py:2739: UserWarning: X does not have valid feature names, but LGBMClassifier was fitted with feature names\n",
      "  warnings.warn(\n"
     ]
    },
    {
     "name": "stdout",
     "output_type": "stream",
     "text": [
      "[LightGBM] [Info] This is the GPU trainer!!\n",
      "[LightGBM] [Info] Total Bins 183959\n",
      "[LightGBM] [Info] Number of data points in the train set: 90571, number of used features: 4212\n",
      "[LightGBM] [Info] Using GPU Device: Tesla T4, Vendor: NVIDIA Corporation\n",
      "[LightGBM] [Info] Compiling OpenCL Kernel with 256 bins...\n",
      "[LightGBM] [Info] GPU programs have been built\n",
      "[LightGBM] [Info] Size of histogram bin entry: 8\n",
      "[LightGBM] [Info] 2 dense feature groups (0.35 MB) transferred to GPU in 0.000687 secs. 1 sparse feature groups\n",
      "[LightGBM] [Info] Start training from score -1.890418\n",
      "[LightGBM] [Info] Start training from score -0.814857\n",
      "[LightGBM] [Info] Start training from score -0.900691\n"
     ]
    },
    {
     "name": "stderr",
     "output_type": "stream",
     "text": [
      "/usr/local/lib/python3.11/dist-packages/sklearn/utils/validation.py:2739: UserWarning: X does not have valid feature names, but LGBMClassifier was fitted with feature names\n",
      "  warnings.warn(\n"
     ]
    },
    {
     "name": "stdout",
     "output_type": "stream",
     "text": [
      "[LightGBM] [Info] This is the GPU trainer!!\n",
      "[LightGBM] [Info] Total Bins 182581\n",
      "[LightGBM] [Info] Number of data points in the train set: 90571, number of used features: 4196\n",
      "[LightGBM] [Info] Using GPU Device: Tesla T4, Vendor: NVIDIA Corporation\n",
      "[LightGBM] [Info] Compiling OpenCL Kernel with 256 bins...\n",
      "[LightGBM] [Info] GPU programs have been built\n",
      "[LightGBM] [Info] Size of histogram bin entry: 8\n",
      "[LightGBM] [Info] 2 dense feature groups (0.35 MB) transferred to GPU in 0.000997 secs. 1 sparse feature groups\n",
      "[LightGBM] [Info] Start training from score -1.890418\n",
      "[LightGBM] [Info] Start training from score -0.814857\n",
      "[LightGBM] [Info] Start training from score -0.900691\n"
     ]
    },
    {
     "name": "stderr",
     "output_type": "stream",
     "text": [
      "/usr/local/lib/python3.11/dist-packages/sklearn/utils/validation.py:2739: UserWarning: X does not have valid feature names, but LGBMClassifier was fitted with feature names\n",
      "  warnings.warn(\n",
      "/usr/local/lib/python3.11/dist-packages/sklearn/utils/validation.py:2739: UserWarning: X does not have valid feature names, but LGBMClassifier was fitted with feature names\n",
      "  warnings.warn(\n"
     ]
    },
    {
     "name": "stdout",
     "output_type": "stream",
     "text": [
      "[LightGBM] [Info] This is the GPU trainer!!\n",
      "[LightGBM] [Info] Total Bins 220276\n",
      "[LightGBM] [Info] Number of data points in the train set: 113213, number of used features: 4705\n",
      "[LightGBM] [Info] Using GPU Device: Tesla T4, Vendor: NVIDIA Corporation\n",
      "[LightGBM] [Info] Compiling OpenCL Kernel with 256 bins...\n",
      "[LightGBM] [Info] GPU programs have been built\n",
      "[LightGBM] [Info] Size of histogram bin entry: 8\n",
      "[LightGBM] [Info] 2 dense feature groups (0.43 MB) transferred to GPU in 0.000837 secs. 1 sparse feature groups\n",
      "[LightGBM] [Info] Start training from score -1.890426\n",
      "[LightGBM] [Info] Start training from score -0.814851\n",
      "[LightGBM] [Info] Start training from score -0.900695\n",
      "[LightGBM] [Info] This is the GPU trainer!!\n",
      "[LightGBM] [Info] Total Bins 184342\n",
      "[LightGBM] [Info] Number of data points in the train set: 90570, number of used features: 4167\n",
      "[LightGBM] [Info] Using GPU Device: Tesla T4, Vendor: NVIDIA Corporation\n",
      "[LightGBM] [Info] Compiling OpenCL Kernel with 256 bins...\n",
      "[LightGBM] [Info] GPU programs have been built\n",
      "[LightGBM] [Info] Size of histogram bin entry: 8\n",
      "[LightGBM] [Info] 2 dense feature groups (0.35 MB) transferred to GPU in 0.000670 secs. 1 sparse feature groups\n",
      "[LightGBM] [Info] Start training from score -1.890481\n",
      "[LightGBM] [Info] Start training from score -0.814846\n",
      "[LightGBM] [Info] Start training from score -0.900680\n"
     ]
    },
    {
     "name": "stderr",
     "output_type": "stream",
     "text": [
      "/usr/local/lib/python3.11/dist-packages/sklearn/utils/validation.py:2739: UserWarning: X does not have valid feature names, but LGBMClassifier was fitted with feature names\n",
      "  warnings.warn(\n"
     ]
    },
    {
     "name": "stdout",
     "output_type": "stream",
     "text": [
      "[LightGBM] [Info] This is the GPU trainer!!\n",
      "[LightGBM] [Info] Total Bins 181731\n",
      "[LightGBM] [Info] Number of data points in the train set: 90570, number of used features: 4159\n",
      "[LightGBM] [Info] Using GPU Device: Tesla T4, Vendor: NVIDIA Corporation\n",
      "[LightGBM] [Info] Compiling OpenCL Kernel with 256 bins...\n",
      "[LightGBM] [Info] GPU programs have been built\n",
      "[LightGBM] [Info] Size of histogram bin entry: 8\n",
      "[LightGBM] [Info] 2 dense feature groups (0.35 MB) transferred to GPU in 0.000688 secs. 1 sparse feature groups\n",
      "[LightGBM] [Info] Start training from score -1.890407\n",
      "[LightGBM] [Info] Start training from score -0.814846\n",
      "[LightGBM] [Info] Start training from score -0.900707\n"
     ]
    },
    {
     "name": "stderr",
     "output_type": "stream",
     "text": [
      "/usr/local/lib/python3.11/dist-packages/sklearn/utils/validation.py:2739: UserWarning: X does not have valid feature names, but LGBMClassifier was fitted with feature names\n",
      "  warnings.warn(\n"
     ]
    },
    {
     "name": "stdout",
     "output_type": "stream",
     "text": [
      "[LightGBM] [Info] This is the GPU trainer!!\n",
      "[LightGBM] [Info] Total Bins 187029\n",
      "[LightGBM] [Info] Number of data points in the train set: 90570, number of used features: 4220\n",
      "[LightGBM] [Info] Using GPU Device: Tesla T4, Vendor: NVIDIA Corporation\n",
      "[LightGBM] [Info] Compiling OpenCL Kernel with 256 bins...\n",
      "[LightGBM] [Info] GPU programs have been built\n",
      "[LightGBM] [Info] Size of histogram bin entry: 8\n",
      "[LightGBM] [Info] 3 dense feature groups (0.35 MB) transferred to GPU in 0.000776 secs. 1 sparse feature groups\n",
      "[LightGBM] [Info] Start training from score -1.890407\n",
      "[LightGBM] [Info] Start training from score -0.814846\n",
      "[LightGBM] [Info] Start training from score -0.900707\n"
     ]
    },
    {
     "name": "stderr",
     "output_type": "stream",
     "text": [
      "/usr/local/lib/python3.11/dist-packages/sklearn/utils/validation.py:2739: UserWarning: X does not have valid feature names, but LGBMClassifier was fitted with feature names\n",
      "  warnings.warn(\n"
     ]
    },
    {
     "name": "stdout",
     "output_type": "stream",
     "text": [
      "[LightGBM] [Info] This is the GPU trainer!!\n",
      "[LightGBM] [Info] Total Bins 183970\n",
      "[LightGBM] [Info] Number of data points in the train set: 90571, number of used features: 4217\n",
      "[LightGBM] [Info] Using GPU Device: Tesla T4, Vendor: NVIDIA Corporation\n",
      "[LightGBM] [Info] Compiling OpenCL Kernel with 256 bins...\n",
      "[LightGBM] [Info] GPU programs have been built\n",
      "[LightGBM] [Info] Size of histogram bin entry: 8\n",
      "[LightGBM] [Info] 2 dense feature groups (0.35 MB) transferred to GPU in 0.000663 secs. 1 sparse feature groups\n",
      "[LightGBM] [Info] Start training from score -1.890418\n",
      "[LightGBM] [Info] Start training from score -0.814857\n",
      "[LightGBM] [Info] Start training from score -0.900691\n"
     ]
    },
    {
     "name": "stderr",
     "output_type": "stream",
     "text": [
      "/usr/local/lib/python3.11/dist-packages/sklearn/utils/validation.py:2739: UserWarning: X does not have valid feature names, but LGBMClassifier was fitted with feature names\n",
      "  warnings.warn(\n"
     ]
    },
    {
     "name": "stdout",
     "output_type": "stream",
     "text": [
      "[LightGBM] [Info] This is the GPU trainer!!\n",
      "[LightGBM] [Info] Total Bins 183113\n",
      "[LightGBM] [Info] Number of data points in the train set: 90571, number of used features: 4167\n",
      "[LightGBM] [Info] Using GPU Device: Tesla T4, Vendor: NVIDIA Corporation\n",
      "[LightGBM] [Info] Compiling OpenCL Kernel with 256 bins...\n",
      "[LightGBM] [Info] GPU programs have been built\n",
      "[LightGBM] [Info] Size of histogram bin entry: 8\n",
      "[LightGBM] [Info] 2 dense feature groups (0.35 MB) transferred to GPU in 0.000716 secs. 1 sparse feature groups\n",
      "[LightGBM] [Info] Start training from score -1.890418\n",
      "[LightGBM] [Info] Start training from score -0.814857\n",
      "[LightGBM] [Info] Start training from score -0.900691\n"
     ]
    },
    {
     "name": "stderr",
     "output_type": "stream",
     "text": [
      "/usr/local/lib/python3.11/dist-packages/sklearn/utils/validation.py:2739: UserWarning: X does not have valid feature names, but LGBMClassifier was fitted with feature names\n",
      "  warnings.warn(\n",
      "/usr/local/lib/python3.11/dist-packages/sklearn/utils/validation.py:2739: UserWarning: X does not have valid feature names, but LGBMClassifier was fitted with feature names\n",
      "  warnings.warn(\n",
      "[I 2025-04-20 14:53:21,480] Trial 1 finished with value: 0.9105694943715084 and parameters: {'xgb_n_estimators': 234, 'xgb_learning_rate': 0.09894159334191009, 'xgb_max_depth': 3}. Best is trial 1 with value: 0.9105694943715084.\n"
     ]
    },
    {
     "name": "stdout",
     "output_type": "stream",
     "text": [
      "[LightGBM] [Info] This is the GPU trainer!!\n",
      "[LightGBM] [Info] Total Bins 219747\n",
      "[LightGBM] [Info] Number of data points in the train set: 113212, number of used features: 4693\n",
      "[LightGBM] [Info] Using GPU Device: Tesla T4, Vendor: NVIDIA Corporation\n",
      "[LightGBM] [Info] Compiling OpenCL Kernel with 256 bins...\n",
      "[LightGBM] [Info] GPU programs have been built\n",
      "[LightGBM] [Info] Size of histogram bin entry: 8\n",
      "[LightGBM] [Info] 2 dense feature groups (0.43 MB) transferred to GPU in 0.000777 secs. 1 sparse feature groups\n",
      "[LightGBM] [Info] Start training from score -1.890418\n",
      "[LightGBM] [Info] Start training from score -0.814842\n",
      "[LightGBM] [Info] Start training from score -0.900708\n",
      "[LightGBM] [Info] This is the GPU trainer!!\n",
      "[LightGBM] [Info] Total Bins 183848\n",
      "[LightGBM] [Info] Number of data points in the train set: 90569, number of used features: 4159\n",
      "[LightGBM] [Info] Using GPU Device: Tesla T4, Vendor: NVIDIA Corporation\n",
      "[LightGBM] [Info] Compiling OpenCL Kernel with 256 bins...\n",
      "[LightGBM] [Info] GPU programs have been built\n",
      "[LightGBM] [Info] Size of histogram bin entry: 8\n",
      "[LightGBM] [Info] 2 dense feature groups (0.35 MB) transferred to GPU in 0.000660 secs. 1 sparse feature groups\n",
      "[LightGBM] [Info] Start training from score -1.890470\n",
      "[LightGBM] [Info] Start training from score -0.814835\n",
      "[LightGBM] [Info] Start training from score -0.900696\n"
     ]
    },
    {
     "name": "stderr",
     "output_type": "stream",
     "text": [
      "/usr/local/lib/python3.11/dist-packages/sklearn/utils/validation.py:2739: UserWarning: X does not have valid feature names, but LGBMClassifier was fitted with feature names\n",
      "  warnings.warn(\n"
     ]
    },
    {
     "name": "stdout",
     "output_type": "stream",
     "text": [
      "[LightGBM] [Info] This is the GPU trainer!!\n",
      "[LightGBM] [Info] Total Bins 181604\n",
      "[LightGBM] [Info] Number of data points in the train set: 90569, number of used features: 4143\n",
      "[LightGBM] [Info] Using GPU Device: Tesla T4, Vendor: NVIDIA Corporation\n",
      "[LightGBM] [Info] Compiling OpenCL Kernel with 256 bins...\n",
      "[LightGBM] [Info] GPU programs have been built\n",
      "[LightGBM] [Info] Size of histogram bin entry: 8\n",
      "[LightGBM] [Info] 3 dense feature groups (0.35 MB) transferred to GPU in 0.000751 secs. 1 sparse feature groups\n",
      "[LightGBM] [Info] Start training from score -1.890396\n",
      "[LightGBM] [Info] Start training from score -0.814835\n",
      "[LightGBM] [Info] Start training from score -0.900723\n"
     ]
    },
    {
     "name": "stderr",
     "output_type": "stream",
     "text": [
      "/usr/local/lib/python3.11/dist-packages/sklearn/utils/validation.py:2739: UserWarning: X does not have valid feature names, but LGBMClassifier was fitted with feature names\n",
      "  warnings.warn(\n"
     ]
    },
    {
     "name": "stdout",
     "output_type": "stream",
     "text": [
      "[LightGBM] [Info] This is the GPU trainer!!\n",
      "[LightGBM] [Info] Total Bins 186456\n",
      "[LightGBM] [Info] Number of data points in the train set: 90570, number of used features: 4224\n",
      "[LightGBM] [Info] Using GPU Device: Tesla T4, Vendor: NVIDIA Corporation\n",
      "[LightGBM] [Info] Compiling OpenCL Kernel with 256 bins...\n",
      "[LightGBM] [Info] GPU programs have been built\n",
      "[LightGBM] [Info] Size of histogram bin entry: 8\n",
      "[LightGBM] [Info] 3 dense feature groups (0.35 MB) transferred to GPU in 0.000685 secs. 1 sparse feature groups\n",
      "[LightGBM] [Info] Start training from score -1.890407\n",
      "[LightGBM] [Info] Start training from score -0.814846\n",
      "[LightGBM] [Info] Start training from score -0.900707\n"
     ]
    },
    {
     "name": "stderr",
     "output_type": "stream",
     "text": [
      "/usr/local/lib/python3.11/dist-packages/sklearn/utils/validation.py:2739: UserWarning: X does not have valid feature names, but LGBMClassifier was fitted with feature names\n",
      "  warnings.warn(\n"
     ]
    },
    {
     "name": "stdout",
     "output_type": "stream",
     "text": [
      "[LightGBM] [Info] This is the GPU trainer!!\n",
      "[LightGBM] [Info] Total Bins 183954\n",
      "[LightGBM] [Info] Number of data points in the train set: 90570, number of used features: 4215\n",
      "[LightGBM] [Info] Using GPU Device: Tesla T4, Vendor: NVIDIA Corporation\n",
      "[LightGBM] [Info] Compiling OpenCL Kernel with 256 bins...\n",
      "[LightGBM] [Info] GPU programs have been built\n",
      "[LightGBM] [Info] Size of histogram bin entry: 8\n",
      "[LightGBM] [Info] 2 dense feature groups (0.35 MB) transferred to GPU in 0.000723 secs. 1 sparse feature groups\n",
      "[LightGBM] [Info] Start training from score -1.890407\n",
      "[LightGBM] [Info] Start training from score -0.814846\n",
      "[LightGBM] [Info] Start training from score -0.900707\n"
     ]
    },
    {
     "name": "stderr",
     "output_type": "stream",
     "text": [
      "/usr/local/lib/python3.11/dist-packages/sklearn/utils/validation.py:2739: UserWarning: X does not have valid feature names, but LGBMClassifier was fitted with feature names\n",
      "  warnings.warn(\n"
     ]
    },
    {
     "name": "stdout",
     "output_type": "stream",
     "text": [
      "[LightGBM] [Info] This is the GPU trainer!!\n",
      "[LightGBM] [Info] Total Bins 183045\n",
      "[LightGBM] [Info] Number of data points in the train set: 90570, number of used features: 4189\n",
      "[LightGBM] [Info] Using GPU Device: Tesla T4, Vendor: NVIDIA Corporation\n",
      "[LightGBM] [Info] Compiling OpenCL Kernel with 256 bins...\n",
      "[LightGBM] [Info] GPU programs have been built\n",
      "[LightGBM] [Info] Size of histogram bin entry: 8\n",
      "[LightGBM] [Info] 2 dense feature groups (0.35 MB) transferred to GPU in 0.000705 secs. 1 sparse feature groups\n",
      "[LightGBM] [Info] Start training from score -1.890407\n",
      "[LightGBM] [Info] Start training from score -0.814846\n",
      "[LightGBM] [Info] Start training from score -0.900707\n"
     ]
    },
    {
     "name": "stderr",
     "output_type": "stream",
     "text": [
      "/usr/local/lib/python3.11/dist-packages/sklearn/utils/validation.py:2739: UserWarning: X does not have valid feature names, but LGBMClassifier was fitted with feature names\n",
      "  warnings.warn(\n",
      "/usr/local/lib/python3.11/dist-packages/sklearn/utils/validation.py:2739: UserWarning: X does not have valid feature names, but LGBMClassifier was fitted with feature names\n",
      "  warnings.warn(\n"
     ]
    },
    {
     "name": "stdout",
     "output_type": "stream",
     "text": [
      "[LightGBM] [Info] This is the GPU trainer!!\n",
      "[LightGBM] [Info] Total Bins 219996\n",
      "[LightGBM] [Info] Number of data points in the train set: 113213, number of used features: 4703\n",
      "[LightGBM] [Info] Using GPU Device: Tesla T4, Vendor: NVIDIA Corporation\n",
      "[LightGBM] [Info] Compiling OpenCL Kernel with 256 bins...\n",
      "[LightGBM] [Info] GPU programs have been built\n",
      "[LightGBM] [Info] Size of histogram bin entry: 8\n",
      "[LightGBM] [Info] 2 dense feature groups (0.43 MB) transferred to GPU in 0.000813 secs. 1 sparse feature groups\n",
      "[LightGBM] [Info] Start training from score -1.890426\n",
      "[LightGBM] [Info] Start training from score -0.814851\n",
      "[LightGBM] [Info] Start training from score -0.900695\n",
      "[LightGBM] [Info] This is the GPU trainer!!\n",
      "[LightGBM] [Info] Total Bins 184313\n",
      "[LightGBM] [Info] Number of data points in the train set: 90570, number of used features: 4193\n",
      "[LightGBM] [Info] Using GPU Device: Tesla T4, Vendor: NVIDIA Corporation\n",
      "[LightGBM] [Info] Compiling OpenCL Kernel with 256 bins...\n",
      "[LightGBM] [Info] GPU programs have been built\n",
      "[LightGBM] [Info] Size of histogram bin entry: 8\n",
      "[LightGBM] [Info] 2 dense feature groups (0.35 MB) transferred to GPU in 0.000685 secs. 1 sparse feature groups\n",
      "[LightGBM] [Info] Start training from score -1.890481\n",
      "[LightGBM] [Info] Start training from score -0.814846\n",
      "[LightGBM] [Info] Start training from score -0.900680\n"
     ]
    },
    {
     "name": "stderr",
     "output_type": "stream",
     "text": [
      "/usr/local/lib/python3.11/dist-packages/sklearn/utils/validation.py:2739: UserWarning: X does not have valid feature names, but LGBMClassifier was fitted with feature names\n",
      "  warnings.warn(\n"
     ]
    },
    {
     "name": "stdout",
     "output_type": "stream",
     "text": [
      "[LightGBM] [Info] This is the GPU trainer!!\n",
      "[LightGBM] [Info] Total Bins 181585\n",
      "[LightGBM] [Info] Number of data points in the train set: 90570, number of used features: 4148\n",
      "[LightGBM] [Info] Using GPU Device: Tesla T4, Vendor: NVIDIA Corporation\n",
      "[LightGBM] [Info] Compiling OpenCL Kernel with 256 bins...\n",
      "[LightGBM] [Info] GPU programs have been built\n",
      "[LightGBM] [Info] Size of histogram bin entry: 8\n",
      "[LightGBM] [Info] 2 dense feature groups (0.35 MB) transferred to GPU in 0.000743 secs. 1 sparse feature groups\n",
      "[LightGBM] [Info] Start training from score -1.890407\n",
      "[LightGBM] [Info] Start training from score -0.814846\n",
      "[LightGBM] [Info] Start training from score -0.900707\n"
     ]
    },
    {
     "name": "stderr",
     "output_type": "stream",
     "text": [
      "/usr/local/lib/python3.11/dist-packages/sklearn/utils/validation.py:2739: UserWarning: X does not have valid feature names, but LGBMClassifier was fitted with feature names\n",
      "  warnings.warn(\n"
     ]
    },
    {
     "name": "stdout",
     "output_type": "stream",
     "text": [
      "[LightGBM] [Info] This is the GPU trainer!!\n",
      "[LightGBM] [Info] Total Bins 186099\n",
      "[LightGBM] [Info] Number of data points in the train set: 90570, number of used features: 4244\n",
      "[LightGBM] [Info] Using GPU Device: Tesla T4, Vendor: NVIDIA Corporation\n",
      "[LightGBM] [Info] Compiling OpenCL Kernel with 256 bins...\n",
      "[LightGBM] [Info] GPU programs have been built\n",
      "[LightGBM] [Info] Size of histogram bin entry: 8\n",
      "[LightGBM] [Info] 3 dense feature groups (0.35 MB) transferred to GPU in 0.000746 secs. 1 sparse feature groups\n",
      "[LightGBM] [Info] Start training from score -1.890407\n",
      "[LightGBM] [Info] Start training from score -0.814846\n",
      "[LightGBM] [Info] Start training from score -0.900707\n"
     ]
    },
    {
     "name": "stderr",
     "output_type": "stream",
     "text": [
      "/usr/local/lib/python3.11/dist-packages/sklearn/utils/validation.py:2739: UserWarning: X does not have valid feature names, but LGBMClassifier was fitted with feature names\n",
      "  warnings.warn(\n"
     ]
    },
    {
     "name": "stdout",
     "output_type": "stream",
     "text": [
      "[LightGBM] [Info] This is the GPU trainer!!\n",
      "[LightGBM] [Info] Total Bins 183959\n",
      "[LightGBM] [Info] Number of data points in the train set: 90571, number of used features: 4212\n",
      "[LightGBM] [Info] Using GPU Device: Tesla T4, Vendor: NVIDIA Corporation\n",
      "[LightGBM] [Info] Compiling OpenCL Kernel with 256 bins...\n",
      "[LightGBM] [Info] GPU programs have been built\n",
      "[LightGBM] [Info] Size of histogram bin entry: 8\n",
      "[LightGBM] [Info] 2 dense feature groups (0.35 MB) transferred to GPU in 0.000671 secs. 1 sparse feature groups\n",
      "[LightGBM] [Info] Start training from score -1.890418\n",
      "[LightGBM] [Info] Start training from score -0.814857\n",
      "[LightGBM] [Info] Start training from score -0.900691\n"
     ]
    },
    {
     "name": "stderr",
     "output_type": "stream",
     "text": [
      "/usr/local/lib/python3.11/dist-packages/sklearn/utils/validation.py:2739: UserWarning: X does not have valid feature names, but LGBMClassifier was fitted with feature names\n",
      "  warnings.warn(\n"
     ]
    },
    {
     "name": "stdout",
     "output_type": "stream",
     "text": [
      "[LightGBM] [Info] This is the GPU trainer!!\n",
      "[LightGBM] [Info] Total Bins 182581\n",
      "[LightGBM] [Info] Number of data points in the train set: 90571, number of used features: 4196\n",
      "[LightGBM] [Info] Using GPU Device: Tesla T4, Vendor: NVIDIA Corporation\n",
      "[LightGBM] [Info] Compiling OpenCL Kernel with 256 bins...\n",
      "[LightGBM] [Info] GPU programs have been built\n",
      "[LightGBM] [Info] Size of histogram bin entry: 8\n",
      "[LightGBM] [Info] 2 dense feature groups (0.35 MB) transferred to GPU in 0.000708 secs. 1 sparse feature groups\n",
      "[LightGBM] [Info] Start training from score -1.890418\n",
      "[LightGBM] [Info] Start training from score -0.814857\n",
      "[LightGBM] [Info] Start training from score -0.900691\n"
     ]
    },
    {
     "name": "stderr",
     "output_type": "stream",
     "text": [
      "/usr/local/lib/python3.11/dist-packages/sklearn/utils/validation.py:2739: UserWarning: X does not have valid feature names, but LGBMClassifier was fitted with feature names\n",
      "  warnings.warn(\n",
      "/usr/local/lib/python3.11/dist-packages/sklearn/utils/validation.py:2739: UserWarning: X does not have valid feature names, but LGBMClassifier was fitted with feature names\n",
      "  warnings.warn(\n"
     ]
    },
    {
     "name": "stdout",
     "output_type": "stream",
     "text": [
      "[LightGBM] [Info] This is the GPU trainer!!\n",
      "[LightGBM] [Info] Total Bins 220276\n",
      "[LightGBM] [Info] Number of data points in the train set: 113213, number of used features: 4705\n",
      "[LightGBM] [Info] Using GPU Device: Tesla T4, Vendor: NVIDIA Corporation\n",
      "[LightGBM] [Info] Compiling OpenCL Kernel with 256 bins...\n",
      "[LightGBM] [Info] GPU programs have been built\n",
      "[LightGBM] [Info] Size of histogram bin entry: 8\n",
      "[LightGBM] [Info] 2 dense feature groups (0.43 MB) transferred to GPU in 0.001048 secs. 1 sparse feature groups\n",
      "[LightGBM] [Info] Start training from score -1.890426\n",
      "[LightGBM] [Info] Start training from score -0.814851\n",
      "[LightGBM] [Info] Start training from score -0.900695\n",
      "[LightGBM] [Info] This is the GPU trainer!!\n",
      "[LightGBM] [Info] Total Bins 184342\n",
      "[LightGBM] [Info] Number of data points in the train set: 90570, number of used features: 4167\n",
      "[LightGBM] [Info] Using GPU Device: Tesla T4, Vendor: NVIDIA Corporation\n",
      "[LightGBM] [Info] Compiling OpenCL Kernel with 256 bins...\n",
      "[LightGBM] [Info] GPU programs have been built\n",
      "[LightGBM] [Info] Size of histogram bin entry: 8\n",
      "[LightGBM] [Info] 2 dense feature groups (0.35 MB) transferred to GPU in 0.000722 secs. 1 sparse feature groups\n",
      "[LightGBM] [Info] Start training from score -1.890481\n",
      "[LightGBM] [Info] Start training from score -0.814846\n",
      "[LightGBM] [Info] Start training from score -0.900680\n"
     ]
    },
    {
     "name": "stderr",
     "output_type": "stream",
     "text": [
      "/usr/local/lib/python3.11/dist-packages/sklearn/utils/validation.py:2739: UserWarning: X does not have valid feature names, but LGBMClassifier was fitted with feature names\n",
      "  warnings.warn(\n"
     ]
    },
    {
     "name": "stdout",
     "output_type": "stream",
     "text": [
      "[LightGBM] [Info] This is the GPU trainer!!\n",
      "[LightGBM] [Info] Total Bins 181731\n",
      "[LightGBM] [Info] Number of data points in the train set: 90570, number of used features: 4159\n",
      "[LightGBM] [Info] Using GPU Device: Tesla T4, Vendor: NVIDIA Corporation\n",
      "[LightGBM] [Info] Compiling OpenCL Kernel with 256 bins...\n",
      "[LightGBM] [Info] GPU programs have been built\n",
      "[LightGBM] [Info] Size of histogram bin entry: 8\n",
      "[LightGBM] [Info] 2 dense feature groups (0.35 MB) transferred to GPU in 0.000747 secs. 1 sparse feature groups\n",
      "[LightGBM] [Info] Start training from score -1.890407\n",
      "[LightGBM] [Info] Start training from score -0.814846\n",
      "[LightGBM] [Info] Start training from score -0.900707\n"
     ]
    },
    {
     "name": "stderr",
     "output_type": "stream",
     "text": [
      "/usr/local/lib/python3.11/dist-packages/sklearn/utils/validation.py:2739: UserWarning: X does not have valid feature names, but LGBMClassifier was fitted with feature names\n",
      "  warnings.warn(\n"
     ]
    },
    {
     "name": "stdout",
     "output_type": "stream",
     "text": [
      "[LightGBM] [Info] This is the GPU trainer!!\n",
      "[LightGBM] [Info] Total Bins 187029\n",
      "[LightGBM] [Info] Number of data points in the train set: 90570, number of used features: 4220\n",
      "[LightGBM] [Info] Using GPU Device: Tesla T4, Vendor: NVIDIA Corporation\n",
      "[LightGBM] [Info] Compiling OpenCL Kernel with 256 bins...\n",
      "[LightGBM] [Info] GPU programs have been built\n",
      "[LightGBM] [Info] Size of histogram bin entry: 8\n",
      "[LightGBM] [Info] 3 dense feature groups (0.35 MB) transferred to GPU in 0.000699 secs. 1 sparse feature groups\n",
      "[LightGBM] [Info] Start training from score -1.890407\n",
      "[LightGBM] [Info] Start training from score -0.814846\n",
      "[LightGBM] [Info] Start training from score -0.900707\n"
     ]
    },
    {
     "name": "stderr",
     "output_type": "stream",
     "text": [
      "/usr/local/lib/python3.11/dist-packages/sklearn/utils/validation.py:2739: UserWarning: X does not have valid feature names, but LGBMClassifier was fitted with feature names\n",
      "  warnings.warn(\n"
     ]
    },
    {
     "name": "stdout",
     "output_type": "stream",
     "text": [
      "[LightGBM] [Info] This is the GPU trainer!!\n",
      "[LightGBM] [Info] Total Bins 183970\n",
      "[LightGBM] [Info] Number of data points in the train set: 90571, number of used features: 4217\n",
      "[LightGBM] [Info] Using GPU Device: Tesla T4, Vendor: NVIDIA Corporation\n",
      "[LightGBM] [Info] Compiling OpenCL Kernel with 256 bins...\n",
      "[LightGBM] [Info] GPU programs have been built\n",
      "[LightGBM] [Info] Size of histogram bin entry: 8\n",
      "[LightGBM] [Info] 2 dense feature groups (0.35 MB) transferred to GPU in 0.000644 secs. 1 sparse feature groups\n",
      "[LightGBM] [Info] Start training from score -1.890418\n",
      "[LightGBM] [Info] Start training from score -0.814857\n",
      "[LightGBM] [Info] Start training from score -0.900691\n"
     ]
    },
    {
     "name": "stderr",
     "output_type": "stream",
     "text": [
      "/usr/local/lib/python3.11/dist-packages/sklearn/utils/validation.py:2739: UserWarning: X does not have valid feature names, but LGBMClassifier was fitted with feature names\n",
      "  warnings.warn(\n"
     ]
    },
    {
     "name": "stdout",
     "output_type": "stream",
     "text": [
      "[LightGBM] [Info] This is the GPU trainer!!\n",
      "[LightGBM] [Info] Total Bins 183113\n",
      "[LightGBM] [Info] Number of data points in the train set: 90571, number of used features: 4167\n",
      "[LightGBM] [Info] Using GPU Device: Tesla T4, Vendor: NVIDIA Corporation\n",
      "[LightGBM] [Info] Compiling OpenCL Kernel with 256 bins...\n",
      "[LightGBM] [Info] GPU programs have been built\n",
      "[LightGBM] [Info] Size of histogram bin entry: 8\n",
      "[LightGBM] [Info] 2 dense feature groups (0.35 MB) transferred to GPU in 0.000641 secs. 1 sparse feature groups\n",
      "[LightGBM] [Info] Start training from score -1.890418\n",
      "[LightGBM] [Info] Start training from score -0.814857\n",
      "[LightGBM] [Info] Start training from score -0.900691\n"
     ]
    },
    {
     "name": "stderr",
     "output_type": "stream",
     "text": [
      "/usr/local/lib/python3.11/dist-packages/sklearn/utils/validation.py:2739: UserWarning: X does not have valid feature names, but LGBMClassifier was fitted with feature names\n",
      "  warnings.warn(\n",
      "/usr/local/lib/python3.11/dist-packages/sklearn/utils/validation.py:2739: UserWarning: X does not have valid feature names, but LGBMClassifier was fitted with feature names\n",
      "  warnings.warn(\n",
      "[I 2025-04-20 15:24:09,138] Trial 2 finished with value: 0.9105694962439946 and parameters: {'xgb_n_estimators': 223, 'xgb_learning_rate': 0.020287058756695852, 'xgb_max_depth': 3}. Best is trial 2 with value: 0.9105694962439946.\n"
     ]
    },
    {
     "name": "stdout",
     "output_type": "stream",
     "text": [
      "[LightGBM] [Info] This is the GPU trainer!!\n",
      "[LightGBM] [Info] Total Bins 219747\n",
      "[LightGBM] [Info] Number of data points in the train set: 113212, number of used features: 4693\n",
      "[LightGBM] [Info] Using GPU Device: Tesla T4, Vendor: NVIDIA Corporation\n",
      "[LightGBM] [Info] Compiling OpenCL Kernel with 256 bins...\n",
      "[LightGBM] [Info] GPU programs have been built\n",
      "[LightGBM] [Info] Size of histogram bin entry: 8\n",
      "[LightGBM] [Info] 2 dense feature groups (0.43 MB) transferred to GPU in 0.000837 secs. 1 sparse feature groups\n",
      "[LightGBM] [Info] Start training from score -1.890418\n",
      "[LightGBM] [Info] Start training from score -0.814842\n",
      "[LightGBM] [Info] Start training from score -0.900708\n",
      "[LightGBM] [Info] This is the GPU trainer!!\n",
      "[LightGBM] [Info] Total Bins 183848\n",
      "[LightGBM] [Info] Number of data points in the train set: 90569, number of used features: 4159\n",
      "[LightGBM] [Info] Using GPU Device: Tesla T4, Vendor: NVIDIA Corporation\n",
      "[LightGBM] [Info] Compiling OpenCL Kernel with 256 bins...\n",
      "[LightGBM] [Info] GPU programs have been built\n",
      "[LightGBM] [Info] Size of histogram bin entry: 8\n",
      "[LightGBM] [Info] 2 dense feature groups (0.35 MB) transferred to GPU in 0.000708 secs. 1 sparse feature groups\n",
      "[LightGBM] [Info] Start training from score -1.890470\n",
      "[LightGBM] [Info] Start training from score -0.814835\n",
      "[LightGBM] [Info] Start training from score -0.900696\n"
     ]
    },
    {
     "name": "stderr",
     "output_type": "stream",
     "text": [
      "/usr/local/lib/python3.11/dist-packages/sklearn/utils/validation.py:2739: UserWarning: X does not have valid feature names, but LGBMClassifier was fitted with feature names\n",
      "  warnings.warn(\n"
     ]
    },
    {
     "name": "stdout",
     "output_type": "stream",
     "text": [
      "[LightGBM] [Info] This is the GPU trainer!!\n",
      "[LightGBM] [Info] Total Bins 181604\n",
      "[LightGBM] [Info] Number of data points in the train set: 90569, number of used features: 4143\n",
      "[LightGBM] [Info] Using GPU Device: Tesla T4, Vendor: NVIDIA Corporation\n",
      "[LightGBM] [Info] Compiling OpenCL Kernel with 256 bins...\n",
      "[LightGBM] [Info] GPU programs have been built\n",
      "[LightGBM] [Info] Size of histogram bin entry: 8\n",
      "[LightGBM] [Info] 3 dense feature groups (0.35 MB) transferred to GPU in 0.000732 secs. 1 sparse feature groups\n",
      "[LightGBM] [Info] Start training from score -1.890396\n",
      "[LightGBM] [Info] Start training from score -0.814835\n",
      "[LightGBM] [Info] Start training from score -0.900723\n"
     ]
    },
    {
     "name": "stderr",
     "output_type": "stream",
     "text": [
      "/usr/local/lib/python3.11/dist-packages/sklearn/utils/validation.py:2739: UserWarning: X does not have valid feature names, but LGBMClassifier was fitted with feature names\n",
      "  warnings.warn(\n"
     ]
    },
    {
     "name": "stdout",
     "output_type": "stream",
     "text": [
      "[LightGBM] [Info] This is the GPU trainer!!\n",
      "[LightGBM] [Info] Total Bins 186456\n",
      "[LightGBM] [Info] Number of data points in the train set: 90570, number of used features: 4224\n",
      "[LightGBM] [Info] Using GPU Device: Tesla T4, Vendor: NVIDIA Corporation\n",
      "[LightGBM] [Info] Compiling OpenCL Kernel with 256 bins...\n",
      "[LightGBM] [Info] GPU programs have been built\n",
      "[LightGBM] [Info] Size of histogram bin entry: 8\n",
      "[LightGBM] [Info] 3 dense feature groups (0.35 MB) transferred to GPU in 0.000832 secs. 1 sparse feature groups\n",
      "[LightGBM] [Info] Start training from score -1.890407\n",
      "[LightGBM] [Info] Start training from score -0.814846\n",
      "[LightGBM] [Info] Start training from score -0.900707\n"
     ]
    },
    {
     "name": "stderr",
     "output_type": "stream",
     "text": [
      "/usr/local/lib/python3.11/dist-packages/sklearn/utils/validation.py:2739: UserWarning: X does not have valid feature names, but LGBMClassifier was fitted with feature names\n",
      "  warnings.warn(\n"
     ]
    },
    {
     "name": "stdout",
     "output_type": "stream",
     "text": [
      "[LightGBM] [Info] This is the GPU trainer!!\n",
      "[LightGBM] [Info] Total Bins 183954\n",
      "[LightGBM] [Info] Number of data points in the train set: 90570, number of used features: 4215\n",
      "[LightGBM] [Info] Using GPU Device: Tesla T4, Vendor: NVIDIA Corporation\n",
      "[LightGBM] [Info] Compiling OpenCL Kernel with 256 bins...\n",
      "[LightGBM] [Info] GPU programs have been built\n",
      "[LightGBM] [Info] Size of histogram bin entry: 8\n",
      "[LightGBM] [Info] 2 dense feature groups (0.35 MB) transferred to GPU in 0.000800 secs. 1 sparse feature groups\n",
      "[LightGBM] [Info] Start training from score -1.890407\n",
      "[LightGBM] [Info] Start training from score -0.814846\n",
      "[LightGBM] [Info] Start training from score -0.900707\n"
     ]
    },
    {
     "name": "stderr",
     "output_type": "stream",
     "text": [
      "/usr/local/lib/python3.11/dist-packages/sklearn/utils/validation.py:2739: UserWarning: X does not have valid feature names, but LGBMClassifier was fitted with feature names\n",
      "  warnings.warn(\n"
     ]
    },
    {
     "name": "stdout",
     "output_type": "stream",
     "text": [
      "[LightGBM] [Info] This is the GPU trainer!!\n",
      "[LightGBM] [Info] Total Bins 183045\n",
      "[LightGBM] [Info] Number of data points in the train set: 90570, number of used features: 4189\n",
      "[LightGBM] [Info] Using GPU Device: Tesla T4, Vendor: NVIDIA Corporation\n",
      "[LightGBM] [Info] Compiling OpenCL Kernel with 256 bins...\n",
      "[LightGBM] [Info] GPU programs have been built\n",
      "[LightGBM] [Info] Size of histogram bin entry: 8\n",
      "[LightGBM] [Info] 2 dense feature groups (0.35 MB) transferred to GPU in 0.000712 secs. 1 sparse feature groups\n",
      "[LightGBM] [Info] Start training from score -1.890407\n",
      "[LightGBM] [Info] Start training from score -0.814846\n",
      "[LightGBM] [Info] Start training from score -0.900707\n"
     ]
    },
    {
     "name": "stderr",
     "output_type": "stream",
     "text": [
      "/usr/local/lib/python3.11/dist-packages/sklearn/utils/validation.py:2739: UserWarning: X does not have valid feature names, but LGBMClassifier was fitted with feature names\n",
      "  warnings.warn(\n",
      "/usr/local/lib/python3.11/dist-packages/sklearn/utils/validation.py:2739: UserWarning: X does not have valid feature names, but LGBMClassifier was fitted with feature names\n",
      "  warnings.warn(\n"
     ]
    },
    {
     "name": "stdout",
     "output_type": "stream",
     "text": [
      "[LightGBM] [Info] This is the GPU trainer!!\n",
      "[LightGBM] [Info] Total Bins 219996\n",
      "[LightGBM] [Info] Number of data points in the train set: 113213, number of used features: 4703\n",
      "[LightGBM] [Info] Using GPU Device: Tesla T4, Vendor: NVIDIA Corporation\n",
      "[LightGBM] [Info] Compiling OpenCL Kernel with 256 bins...\n",
      "[LightGBM] [Info] GPU programs have been built\n",
      "[LightGBM] [Info] Size of histogram bin entry: 8\n",
      "[LightGBM] [Info] 2 dense feature groups (0.43 MB) transferred to GPU in 0.000756 secs. 1 sparse feature groups\n",
      "[LightGBM] [Info] Start training from score -1.890426\n",
      "[LightGBM] [Info] Start training from score -0.814851\n",
      "[LightGBM] [Info] Start training from score -0.900695\n",
      "[LightGBM] [Info] This is the GPU trainer!!\n",
      "[LightGBM] [Info] Total Bins 184313\n",
      "[LightGBM] [Info] Number of data points in the train set: 90570, number of used features: 4193\n",
      "[LightGBM] [Info] Using GPU Device: Tesla T4, Vendor: NVIDIA Corporation\n",
      "[LightGBM] [Info] Compiling OpenCL Kernel with 256 bins...\n",
      "[LightGBM] [Info] GPU programs have been built\n",
      "[LightGBM] [Info] Size of histogram bin entry: 8\n",
      "[LightGBM] [Info] 2 dense feature groups (0.35 MB) transferred to GPU in 0.000854 secs. 1 sparse feature groups\n",
      "[LightGBM] [Info] Start training from score -1.890481\n",
      "[LightGBM] [Info] Start training from score -0.814846\n",
      "[LightGBM] [Info] Start training from score -0.900680\n"
     ]
    },
    {
     "name": "stderr",
     "output_type": "stream",
     "text": [
      "/usr/local/lib/python3.11/dist-packages/sklearn/utils/validation.py:2739: UserWarning: X does not have valid feature names, but LGBMClassifier was fitted with feature names\n",
      "  warnings.warn(\n"
     ]
    },
    {
     "name": "stdout",
     "output_type": "stream",
     "text": [
      "[LightGBM] [Info] This is the GPU trainer!!\n",
      "[LightGBM] [Info] Total Bins 181585\n",
      "[LightGBM] [Info] Number of data points in the train set: 90570, number of used features: 4148\n",
      "[LightGBM] [Info] Using GPU Device: Tesla T4, Vendor: NVIDIA Corporation\n",
      "[LightGBM] [Info] Compiling OpenCL Kernel with 256 bins...\n",
      "[LightGBM] [Info] GPU programs have been built\n",
      "[LightGBM] [Info] Size of histogram bin entry: 8\n",
      "[LightGBM] [Info] 2 dense feature groups (0.35 MB) transferred to GPU in 0.000634 secs. 1 sparse feature groups\n",
      "[LightGBM] [Info] Start training from score -1.890407\n",
      "[LightGBM] [Info] Start training from score -0.814846\n",
      "[LightGBM] [Info] Start training from score -0.900707\n"
     ]
    },
    {
     "name": "stderr",
     "output_type": "stream",
     "text": [
      "/usr/local/lib/python3.11/dist-packages/sklearn/utils/validation.py:2739: UserWarning: X does not have valid feature names, but LGBMClassifier was fitted with feature names\n",
      "  warnings.warn(\n"
     ]
    },
    {
     "name": "stdout",
     "output_type": "stream",
     "text": [
      "[LightGBM] [Info] This is the GPU trainer!!\n",
      "[LightGBM] [Info] Total Bins 186099\n",
      "[LightGBM] [Info] Number of data points in the train set: 90570, number of used features: 4244\n",
      "[LightGBM] [Info] Using GPU Device: Tesla T4, Vendor: NVIDIA Corporation\n",
      "[LightGBM] [Info] Compiling OpenCL Kernel with 256 bins...\n",
      "[LightGBM] [Info] GPU programs have been built\n",
      "[LightGBM] [Info] Size of histogram bin entry: 8\n",
      "[LightGBM] [Info] 3 dense feature groups (0.35 MB) transferred to GPU in 0.000697 secs. 1 sparse feature groups\n",
      "[LightGBM] [Info] Start training from score -1.890407\n",
      "[LightGBM] [Info] Start training from score -0.814846\n",
      "[LightGBM] [Info] Start training from score -0.900707\n"
     ]
    },
    {
     "name": "stderr",
     "output_type": "stream",
     "text": [
      "/usr/local/lib/python3.11/dist-packages/sklearn/utils/validation.py:2739: UserWarning: X does not have valid feature names, but LGBMClassifier was fitted with feature names\n",
      "  warnings.warn(\n"
     ]
    },
    {
     "name": "stdout",
     "output_type": "stream",
     "text": [
      "[LightGBM] [Info] This is the GPU trainer!!\n",
      "[LightGBM] [Info] Total Bins 183959\n",
      "[LightGBM] [Info] Number of data points in the train set: 90571, number of used features: 4212\n",
      "[LightGBM] [Info] Using GPU Device: Tesla T4, Vendor: NVIDIA Corporation\n",
      "[LightGBM] [Info] Compiling OpenCL Kernel with 256 bins...\n",
      "[LightGBM] [Info] GPU programs have been built\n",
      "[LightGBM] [Info] Size of histogram bin entry: 8\n",
      "[LightGBM] [Info] 2 dense feature groups (0.35 MB) transferred to GPU in 0.000668 secs. 1 sparse feature groups\n",
      "[LightGBM] [Info] Start training from score -1.890418\n",
      "[LightGBM] [Info] Start training from score -0.814857\n",
      "[LightGBM] [Info] Start training from score -0.900691\n"
     ]
    },
    {
     "name": "stderr",
     "output_type": "stream",
     "text": [
      "/usr/local/lib/python3.11/dist-packages/sklearn/utils/validation.py:2739: UserWarning: X does not have valid feature names, but LGBMClassifier was fitted with feature names\n",
      "  warnings.warn(\n"
     ]
    },
    {
     "name": "stdout",
     "output_type": "stream",
     "text": [
      "[LightGBM] [Info] This is the GPU trainer!!\n",
      "[LightGBM] [Info] Total Bins 182581\n",
      "[LightGBM] [Info] Number of data points in the train set: 90571, number of used features: 4196\n",
      "[LightGBM] [Info] Using GPU Device: Tesla T4, Vendor: NVIDIA Corporation\n",
      "[LightGBM] [Info] Compiling OpenCL Kernel with 256 bins...\n",
      "[LightGBM] [Info] GPU programs have been built\n",
      "[LightGBM] [Info] Size of histogram bin entry: 8\n",
      "[LightGBM] [Info] 2 dense feature groups (0.35 MB) transferred to GPU in 0.000660 secs. 1 sparse feature groups\n",
      "[LightGBM] [Info] Start training from score -1.890418\n",
      "[LightGBM] [Info] Start training from score -0.814857\n",
      "[LightGBM] [Info] Start training from score -0.900691\n"
     ]
    },
    {
     "name": "stderr",
     "output_type": "stream",
     "text": [
      "/usr/local/lib/python3.11/dist-packages/sklearn/utils/validation.py:2739: UserWarning: X does not have valid feature names, but LGBMClassifier was fitted with feature names\n",
      "  warnings.warn(\n",
      "/usr/local/lib/python3.11/dist-packages/sklearn/utils/validation.py:2739: UserWarning: X does not have valid feature names, but LGBMClassifier was fitted with feature names\n",
      "  warnings.warn(\n"
     ]
    },
    {
     "name": "stdout",
     "output_type": "stream",
     "text": [
      "[LightGBM] [Info] This is the GPU trainer!!\n",
      "[LightGBM] [Info] Total Bins 220276\n",
      "[LightGBM] [Info] Number of data points in the train set: 113213, number of used features: 4705\n",
      "[LightGBM] [Info] Using GPU Device: Tesla T4, Vendor: NVIDIA Corporation\n",
      "[LightGBM] [Info] Compiling OpenCL Kernel with 256 bins...\n",
      "[LightGBM] [Info] GPU programs have been built\n",
      "[LightGBM] [Info] Size of histogram bin entry: 8\n",
      "[LightGBM] [Info] 2 dense feature groups (0.43 MB) transferred to GPU in 0.000827 secs. 1 sparse feature groups\n",
      "[LightGBM] [Info] Start training from score -1.890426\n",
      "[LightGBM] [Info] Start training from score -0.814851\n",
      "[LightGBM] [Info] Start training from score -0.900695\n",
      "[LightGBM] [Info] This is the GPU trainer!!\n",
      "[LightGBM] [Info] Total Bins 184342\n",
      "[LightGBM] [Info] Number of data points in the train set: 90570, number of used features: 4167\n",
      "[LightGBM] [Info] Using GPU Device: Tesla T4, Vendor: NVIDIA Corporation\n",
      "[LightGBM] [Info] Compiling OpenCL Kernel with 256 bins...\n",
      "[LightGBM] [Info] GPU programs have been built\n",
      "[LightGBM] [Info] Size of histogram bin entry: 8\n",
      "[LightGBM] [Info] 2 dense feature groups (0.35 MB) transferred to GPU in 0.000702 secs. 1 sparse feature groups\n",
      "[LightGBM] [Info] Start training from score -1.890481\n",
      "[LightGBM] [Info] Start training from score -0.814846\n",
      "[LightGBM] [Info] Start training from score -0.900680\n"
     ]
    },
    {
     "name": "stderr",
     "output_type": "stream",
     "text": [
      "/usr/local/lib/python3.11/dist-packages/sklearn/utils/validation.py:2739: UserWarning: X does not have valid feature names, but LGBMClassifier was fitted with feature names\n",
      "  warnings.warn(\n"
     ]
    },
    {
     "name": "stdout",
     "output_type": "stream",
     "text": [
      "[LightGBM] [Info] This is the GPU trainer!!\n",
      "[LightGBM] [Info] Total Bins 181731\n",
      "[LightGBM] [Info] Number of data points in the train set: 90570, number of used features: 4159\n",
      "[LightGBM] [Info] Using GPU Device: Tesla T4, Vendor: NVIDIA Corporation\n",
      "[LightGBM] [Info] Compiling OpenCL Kernel with 256 bins...\n",
      "[LightGBM] [Info] GPU programs have been built\n",
      "[LightGBM] [Info] Size of histogram bin entry: 8\n",
      "[LightGBM] [Info] 2 dense feature groups (0.35 MB) transferred to GPU in 0.000707 secs. 1 sparse feature groups\n",
      "[LightGBM] [Info] Start training from score -1.890407\n",
      "[LightGBM] [Info] Start training from score -0.814846\n",
      "[LightGBM] [Info] Start training from score -0.900707\n"
     ]
    },
    {
     "name": "stderr",
     "output_type": "stream",
     "text": [
      "/usr/local/lib/python3.11/dist-packages/sklearn/utils/validation.py:2739: UserWarning: X does not have valid feature names, but LGBMClassifier was fitted with feature names\n",
      "  warnings.warn(\n"
     ]
    },
    {
     "name": "stdout",
     "output_type": "stream",
     "text": [
      "[LightGBM] [Info] This is the GPU trainer!!\n",
      "[LightGBM] [Info] Total Bins 187029\n",
      "[LightGBM] [Info] Number of data points in the train set: 90570, number of used features: 4220\n",
      "[LightGBM] [Info] Using GPU Device: Tesla T4, Vendor: NVIDIA Corporation\n",
      "[LightGBM] [Info] Compiling OpenCL Kernel with 256 bins...\n",
      "[LightGBM] [Info] GPU programs have been built\n",
      "[LightGBM] [Info] Size of histogram bin entry: 8\n",
      "[LightGBM] [Info] 3 dense feature groups (0.35 MB) transferred to GPU in 0.000984 secs. 1 sparse feature groups\n",
      "[LightGBM] [Info] Start training from score -1.890407\n",
      "[LightGBM] [Info] Start training from score -0.814846\n",
      "[LightGBM] [Info] Start training from score -0.900707\n"
     ]
    },
    {
     "name": "stderr",
     "output_type": "stream",
     "text": [
      "/usr/local/lib/python3.11/dist-packages/sklearn/utils/validation.py:2739: UserWarning: X does not have valid feature names, but LGBMClassifier was fitted with feature names\n",
      "  warnings.warn(\n"
     ]
    },
    {
     "name": "stdout",
     "output_type": "stream",
     "text": [
      "[LightGBM] [Info] This is the GPU trainer!!\n",
      "[LightGBM] [Info] Total Bins 183970\n",
      "[LightGBM] [Info] Number of data points in the train set: 90571, number of used features: 4217\n",
      "[LightGBM] [Info] Using GPU Device: Tesla T4, Vendor: NVIDIA Corporation\n",
      "[LightGBM] [Info] Compiling OpenCL Kernel with 256 bins...\n",
      "[LightGBM] [Info] GPU programs have been built\n",
      "[LightGBM] [Info] Size of histogram bin entry: 8\n",
      "[LightGBM] [Info] 2 dense feature groups (0.35 MB) transferred to GPU in 0.000884 secs. 1 sparse feature groups\n",
      "[LightGBM] [Info] Start training from score -1.890418\n",
      "[LightGBM] [Info] Start training from score -0.814857\n",
      "[LightGBM] [Info] Start training from score -0.900691\n"
     ]
    },
    {
     "name": "stderr",
     "output_type": "stream",
     "text": [
      "/usr/local/lib/python3.11/dist-packages/sklearn/utils/validation.py:2739: UserWarning: X does not have valid feature names, but LGBMClassifier was fitted with feature names\n",
      "  warnings.warn(\n"
     ]
    },
    {
     "name": "stdout",
     "output_type": "stream",
     "text": [
      "[LightGBM] [Info] This is the GPU trainer!!\n",
      "[LightGBM] [Info] Total Bins 183113\n",
      "[LightGBM] [Info] Number of data points in the train set: 90571, number of used features: 4167\n",
      "[LightGBM] [Info] Using GPU Device: Tesla T4, Vendor: NVIDIA Corporation\n",
      "[LightGBM] [Info] Compiling OpenCL Kernel with 256 bins...\n",
      "[LightGBM] [Info] GPU programs have been built\n",
      "[LightGBM] [Info] Size of histogram bin entry: 8\n",
      "[LightGBM] [Info] 2 dense feature groups (0.35 MB) transferred to GPU in 0.000732 secs. 1 sparse feature groups\n",
      "[LightGBM] [Info] Start training from score -1.890418\n",
      "[LightGBM] [Info] Start training from score -0.814857\n",
      "[LightGBM] [Info] Start training from score -0.900691\n"
     ]
    },
    {
     "name": "stderr",
     "output_type": "stream",
     "text": [
      "/usr/local/lib/python3.11/dist-packages/sklearn/utils/validation.py:2739: UserWarning: X does not have valid feature names, but LGBMClassifier was fitted with feature names\n",
      "  warnings.warn(\n",
      "/usr/local/lib/python3.11/dist-packages/sklearn/utils/validation.py:2739: UserWarning: X does not have valid feature names, but LGBMClassifier was fitted with feature names\n",
      "  warnings.warn(\n",
      "[I 2025-04-20 15:55:23,024] Trial 3 finished with value: 0.9106342701215956 and parameters: {'xgb_n_estimators': 277, 'xgb_learning_rate': 0.15096222212757654, 'xgb_max_depth': 7}. Best is trial 3 with value: 0.9106342701215956.\n"
     ]
    },
    {
     "name": "stdout",
     "output_type": "stream",
     "text": [
      "[LightGBM] [Info] This is the GPU trainer!!\n",
      "[LightGBM] [Info] Total Bins 219747\n",
      "[LightGBM] [Info] Number of data points in the train set: 113212, number of used features: 4693\n",
      "[LightGBM] [Info] Using GPU Device: Tesla T4, Vendor: NVIDIA Corporation\n",
      "[LightGBM] [Info] Compiling OpenCL Kernel with 256 bins...\n",
      "[LightGBM] [Info] GPU programs have been built\n",
      "[LightGBM] [Info] Size of histogram bin entry: 8\n",
      "[LightGBM] [Info] 2 dense feature groups (0.43 MB) transferred to GPU in 0.000814 secs. 1 sparse feature groups\n",
      "[LightGBM] [Info] Start training from score -1.890418\n",
      "[LightGBM] [Info] Start training from score -0.814842\n",
      "[LightGBM] [Info] Start training from score -0.900708\n",
      "[LightGBM] [Info] This is the GPU trainer!!\n",
      "[LightGBM] [Info] Total Bins 183848\n",
      "[LightGBM] [Info] Number of data points in the train set: 90569, number of used features: 4159\n",
      "[LightGBM] [Info] Using GPU Device: Tesla T4, Vendor: NVIDIA Corporation\n",
      "[LightGBM] [Info] Compiling OpenCL Kernel with 256 bins...\n",
      "[LightGBM] [Info] GPU programs have been built\n",
      "[LightGBM] [Info] Size of histogram bin entry: 8\n",
      "[LightGBM] [Info] 2 dense feature groups (0.35 MB) transferred to GPU in 0.000711 secs. 1 sparse feature groups\n",
      "[LightGBM] [Info] Start training from score -1.890470\n",
      "[LightGBM] [Info] Start training from score -0.814835\n",
      "[LightGBM] [Info] Start training from score -0.900696\n"
     ]
    },
    {
     "name": "stderr",
     "output_type": "stream",
     "text": [
      "/usr/local/lib/python3.11/dist-packages/sklearn/utils/validation.py:2739: UserWarning: X does not have valid feature names, but LGBMClassifier was fitted with feature names\n",
      "  warnings.warn(\n"
     ]
    },
    {
     "name": "stdout",
     "output_type": "stream",
     "text": [
      "[LightGBM] [Info] This is the GPU trainer!!\n",
      "[LightGBM] [Info] Total Bins 181604\n",
      "[LightGBM] [Info] Number of data points in the train set: 90569, number of used features: 4143\n",
      "[LightGBM] [Info] Using GPU Device: Tesla T4, Vendor: NVIDIA Corporation\n",
      "[LightGBM] [Info] Compiling OpenCL Kernel with 256 bins...\n",
      "[LightGBM] [Info] GPU programs have been built\n",
      "[LightGBM] [Info] Size of histogram bin entry: 8\n",
      "[LightGBM] [Info] 3 dense feature groups (0.35 MB) transferred to GPU in 0.000699 secs. 1 sparse feature groups\n",
      "[LightGBM] [Info] Start training from score -1.890396\n",
      "[LightGBM] [Info] Start training from score -0.814835\n",
      "[LightGBM] [Info] Start training from score -0.900723\n"
     ]
    },
    {
     "name": "stderr",
     "output_type": "stream",
     "text": [
      "/usr/local/lib/python3.11/dist-packages/sklearn/utils/validation.py:2739: UserWarning: X does not have valid feature names, but LGBMClassifier was fitted with feature names\n",
      "  warnings.warn(\n"
     ]
    },
    {
     "name": "stdout",
     "output_type": "stream",
     "text": [
      "[LightGBM] [Info] This is the GPU trainer!!\n",
      "[LightGBM] [Info] Total Bins 186456\n",
      "[LightGBM] [Info] Number of data points in the train set: 90570, number of used features: 4224\n",
      "[LightGBM] [Info] Using GPU Device: Tesla T4, Vendor: NVIDIA Corporation\n",
      "[LightGBM] [Info] Compiling OpenCL Kernel with 256 bins...\n",
      "[LightGBM] [Info] GPU programs have been built\n",
      "[LightGBM] [Info] Size of histogram bin entry: 8\n",
      "[LightGBM] [Info] 3 dense feature groups (0.35 MB) transferred to GPU in 0.000730 secs. 1 sparse feature groups\n",
      "[LightGBM] [Info] Start training from score -1.890407\n",
      "[LightGBM] [Info] Start training from score -0.814846\n",
      "[LightGBM] [Info] Start training from score -0.900707\n"
     ]
    },
    {
     "name": "stderr",
     "output_type": "stream",
     "text": [
      "/usr/local/lib/python3.11/dist-packages/sklearn/utils/validation.py:2739: UserWarning: X does not have valid feature names, but LGBMClassifier was fitted with feature names\n",
      "  warnings.warn(\n"
     ]
    },
    {
     "name": "stdout",
     "output_type": "stream",
     "text": [
      "[LightGBM] [Info] This is the GPU trainer!!\n",
      "[LightGBM] [Info] Total Bins 183954\n",
      "[LightGBM] [Info] Number of data points in the train set: 90570, number of used features: 4215\n",
      "[LightGBM] [Info] Using GPU Device: Tesla T4, Vendor: NVIDIA Corporation\n",
      "[LightGBM] [Info] Compiling OpenCL Kernel with 256 bins...\n",
      "[LightGBM] [Info] GPU programs have been built\n",
      "[LightGBM] [Info] Size of histogram bin entry: 8\n",
      "[LightGBM] [Info] 2 dense feature groups (0.35 MB) transferred to GPU in 0.000640 secs. 1 sparse feature groups\n",
      "[LightGBM] [Info] Start training from score -1.890407\n",
      "[LightGBM] [Info] Start training from score -0.814846\n",
      "[LightGBM] [Info] Start training from score -0.900707\n"
     ]
    },
    {
     "name": "stderr",
     "output_type": "stream",
     "text": [
      "/usr/local/lib/python3.11/dist-packages/sklearn/utils/validation.py:2739: UserWarning: X does not have valid feature names, but LGBMClassifier was fitted with feature names\n",
      "  warnings.warn(\n"
     ]
    },
    {
     "name": "stdout",
     "output_type": "stream",
     "text": [
      "[LightGBM] [Info] This is the GPU trainer!!\n",
      "[LightGBM] [Info] Total Bins 183045\n",
      "[LightGBM] [Info] Number of data points in the train set: 90570, number of used features: 4189\n",
      "[LightGBM] [Info] Using GPU Device: Tesla T4, Vendor: NVIDIA Corporation\n",
      "[LightGBM] [Info] Compiling OpenCL Kernel with 256 bins...\n",
      "[LightGBM] [Info] GPU programs have been built\n",
      "[LightGBM] [Info] Size of histogram bin entry: 8\n",
      "[LightGBM] [Info] 2 dense feature groups (0.35 MB) transferred to GPU in 0.000713 secs. 1 sparse feature groups\n",
      "[LightGBM] [Info] Start training from score -1.890407\n",
      "[LightGBM] [Info] Start training from score -0.814846\n",
      "[LightGBM] [Info] Start training from score -0.900707\n"
     ]
    },
    {
     "name": "stderr",
     "output_type": "stream",
     "text": [
      "/usr/local/lib/python3.11/dist-packages/sklearn/utils/validation.py:2739: UserWarning: X does not have valid feature names, but LGBMClassifier was fitted with feature names\n",
      "  warnings.warn(\n",
      "/usr/local/lib/python3.11/dist-packages/sklearn/utils/validation.py:2739: UserWarning: X does not have valid feature names, but LGBMClassifier was fitted with feature names\n",
      "  warnings.warn(\n"
     ]
    },
    {
     "name": "stdout",
     "output_type": "stream",
     "text": [
      "[LightGBM] [Info] This is the GPU trainer!!\n",
      "[LightGBM] [Info] Total Bins 219996\n",
      "[LightGBM] [Info] Number of data points in the train set: 113213, number of used features: 4703\n",
      "[LightGBM] [Info] Using GPU Device: Tesla T4, Vendor: NVIDIA Corporation\n",
      "[LightGBM] [Info] Compiling OpenCL Kernel with 256 bins...\n",
      "[LightGBM] [Info] GPU programs have been built\n",
      "[LightGBM] [Info] Size of histogram bin entry: 8\n",
      "[LightGBM] [Info] 2 dense feature groups (0.43 MB) transferred to GPU in 0.000846 secs. 1 sparse feature groups\n",
      "[LightGBM] [Info] Start training from score -1.890426\n",
      "[LightGBM] [Info] Start training from score -0.814851\n",
      "[LightGBM] [Info] Start training from score -0.900695\n",
      "[LightGBM] [Info] This is the GPU trainer!!\n",
      "[LightGBM] [Info] Total Bins 184313\n",
      "[LightGBM] [Info] Number of data points in the train set: 90570, number of used features: 4193\n",
      "[LightGBM] [Info] Using GPU Device: Tesla T4, Vendor: NVIDIA Corporation\n",
      "[LightGBM] [Info] Compiling OpenCL Kernel with 256 bins...\n",
      "[LightGBM] [Info] GPU programs have been built\n",
      "[LightGBM] [Info] Size of histogram bin entry: 8\n",
      "[LightGBM] [Info] 2 dense feature groups (0.35 MB) transferred to GPU in 0.000699 secs. 1 sparse feature groups\n",
      "[LightGBM] [Info] Start training from score -1.890481\n",
      "[LightGBM] [Info] Start training from score -0.814846\n",
      "[LightGBM] [Info] Start training from score -0.900680\n"
     ]
    },
    {
     "name": "stderr",
     "output_type": "stream",
     "text": [
      "/usr/local/lib/python3.11/dist-packages/sklearn/utils/validation.py:2739: UserWarning: X does not have valid feature names, but LGBMClassifier was fitted with feature names\n",
      "  warnings.warn(\n"
     ]
    },
    {
     "name": "stdout",
     "output_type": "stream",
     "text": [
      "[LightGBM] [Info] This is the GPU trainer!!\n",
      "[LightGBM] [Info] Total Bins 181585\n",
      "[LightGBM] [Info] Number of data points in the train set: 90570, number of used features: 4148\n",
      "[LightGBM] [Info] Using GPU Device: Tesla T4, Vendor: NVIDIA Corporation\n",
      "[LightGBM] [Info] Compiling OpenCL Kernel with 256 bins...\n",
      "[LightGBM] [Info] GPU programs have been built\n",
      "[LightGBM] [Info] Size of histogram bin entry: 8\n",
      "[LightGBM] [Info] 2 dense feature groups (0.35 MB) transferred to GPU in 0.000684 secs. 1 sparse feature groups\n",
      "[LightGBM] [Info] Start training from score -1.890407\n",
      "[LightGBM] [Info] Start training from score -0.814846\n",
      "[LightGBM] [Info] Start training from score -0.900707\n"
     ]
    },
    {
     "name": "stderr",
     "output_type": "stream",
     "text": [
      "/usr/local/lib/python3.11/dist-packages/sklearn/utils/validation.py:2739: UserWarning: X does not have valid feature names, but LGBMClassifier was fitted with feature names\n",
      "  warnings.warn(\n"
     ]
    },
    {
     "name": "stdout",
     "output_type": "stream",
     "text": [
      "[LightGBM] [Info] This is the GPU trainer!!\n",
      "[LightGBM] [Info] Total Bins 186099\n",
      "[LightGBM] [Info] Number of data points in the train set: 90570, number of used features: 4244\n",
      "[LightGBM] [Info] Using GPU Device: Tesla T4, Vendor: NVIDIA Corporation\n",
      "[LightGBM] [Info] Compiling OpenCL Kernel with 256 bins...\n",
      "[LightGBM] [Info] GPU programs have been built\n",
      "[LightGBM] [Info] Size of histogram bin entry: 8\n",
      "[LightGBM] [Info] 3 dense feature groups (0.35 MB) transferred to GPU in 0.000715 secs. 1 sparse feature groups\n",
      "[LightGBM] [Info] Start training from score -1.890407\n",
      "[LightGBM] [Info] Start training from score -0.814846\n",
      "[LightGBM] [Info] Start training from score -0.900707\n"
     ]
    },
    {
     "name": "stderr",
     "output_type": "stream",
     "text": [
      "/usr/local/lib/python3.11/dist-packages/sklearn/utils/validation.py:2739: UserWarning: X does not have valid feature names, but LGBMClassifier was fitted with feature names\n",
      "  warnings.warn(\n"
     ]
    },
    {
     "name": "stdout",
     "output_type": "stream",
     "text": [
      "[LightGBM] [Info] This is the GPU trainer!!\n",
      "[LightGBM] [Info] Total Bins 183959\n",
      "[LightGBM] [Info] Number of data points in the train set: 90571, number of used features: 4212\n",
      "[LightGBM] [Info] Using GPU Device: Tesla T4, Vendor: NVIDIA Corporation\n",
      "[LightGBM] [Info] Compiling OpenCL Kernel with 256 bins...\n",
      "[LightGBM] [Info] GPU programs have been built\n",
      "[LightGBM] [Info] Size of histogram bin entry: 8\n",
      "[LightGBM] [Info] 2 dense feature groups (0.35 MB) transferred to GPU in 0.000752 secs. 1 sparse feature groups\n",
      "[LightGBM] [Info] Start training from score -1.890418\n",
      "[LightGBM] [Info] Start training from score -0.814857\n",
      "[LightGBM] [Info] Start training from score -0.900691\n"
     ]
    },
    {
     "name": "stderr",
     "output_type": "stream",
     "text": [
      "/usr/local/lib/python3.11/dist-packages/sklearn/utils/validation.py:2739: UserWarning: X does not have valid feature names, but LGBMClassifier was fitted with feature names\n",
      "  warnings.warn(\n"
     ]
    },
    {
     "name": "stdout",
     "output_type": "stream",
     "text": [
      "[LightGBM] [Info] This is the GPU trainer!!\n",
      "[LightGBM] [Info] Total Bins 182581\n",
      "[LightGBM] [Info] Number of data points in the train set: 90571, number of used features: 4196\n",
      "[LightGBM] [Info] Using GPU Device: Tesla T4, Vendor: NVIDIA Corporation\n",
      "[LightGBM] [Info] Compiling OpenCL Kernel with 256 bins...\n",
      "[LightGBM] [Info] GPU programs have been built\n",
      "[LightGBM] [Info] Size of histogram bin entry: 8\n",
      "[LightGBM] [Info] 2 dense feature groups (0.35 MB) transferred to GPU in 0.000809 secs. 1 sparse feature groups\n",
      "[LightGBM] [Info] Start training from score -1.890418\n",
      "[LightGBM] [Info] Start training from score -0.814857\n",
      "[LightGBM] [Info] Start training from score -0.900691\n"
     ]
    },
    {
     "name": "stderr",
     "output_type": "stream",
     "text": [
      "/usr/local/lib/python3.11/dist-packages/sklearn/utils/validation.py:2739: UserWarning: X does not have valid feature names, but LGBMClassifier was fitted with feature names\n",
      "  warnings.warn(\n",
      "/usr/local/lib/python3.11/dist-packages/sklearn/utils/validation.py:2739: UserWarning: X does not have valid feature names, but LGBMClassifier was fitted with feature names\n",
      "  warnings.warn(\n"
     ]
    },
    {
     "name": "stdout",
     "output_type": "stream",
     "text": [
      "[LightGBM] [Info] This is the GPU trainer!!\n",
      "[LightGBM] [Info] Total Bins 220276\n",
      "[LightGBM] [Info] Number of data points in the train set: 113213, number of used features: 4705\n",
      "[LightGBM] [Info] Using GPU Device: Tesla T4, Vendor: NVIDIA Corporation\n",
      "[LightGBM] [Info] Compiling OpenCL Kernel with 256 bins...\n",
      "[LightGBM] [Info] GPU programs have been built\n",
      "[LightGBM] [Info] Size of histogram bin entry: 8\n",
      "[LightGBM] [Info] 2 dense feature groups (0.43 MB) transferred to GPU in 0.000767 secs. 1 sparse feature groups\n",
      "[LightGBM] [Info] Start training from score -1.890426\n",
      "[LightGBM] [Info] Start training from score -0.814851\n",
      "[LightGBM] [Info] Start training from score -0.900695\n",
      "[LightGBM] [Info] This is the GPU trainer!!\n",
      "[LightGBM] [Info] Total Bins 184342\n",
      "[LightGBM] [Info] Number of data points in the train set: 90570, number of used features: 4167\n",
      "[LightGBM] [Info] Using GPU Device: Tesla T4, Vendor: NVIDIA Corporation\n",
      "[LightGBM] [Info] Compiling OpenCL Kernel with 256 bins...\n",
      "[LightGBM] [Info] GPU programs have been built\n",
      "[LightGBM] [Info] Size of histogram bin entry: 8\n",
      "[LightGBM] [Info] 2 dense feature groups (0.35 MB) transferred to GPU in 0.000870 secs. 1 sparse feature groups\n",
      "[LightGBM] [Info] Start training from score -1.890481\n",
      "[LightGBM] [Info] Start training from score -0.814846\n",
      "[LightGBM] [Info] Start training from score -0.900680\n"
     ]
    },
    {
     "name": "stderr",
     "output_type": "stream",
     "text": [
      "/usr/local/lib/python3.11/dist-packages/sklearn/utils/validation.py:2739: UserWarning: X does not have valid feature names, but LGBMClassifier was fitted with feature names\n",
      "  warnings.warn(\n"
     ]
    },
    {
     "name": "stdout",
     "output_type": "stream",
     "text": [
      "[LightGBM] [Info] This is the GPU trainer!!\n",
      "[LightGBM] [Info] Total Bins 181731\n",
      "[LightGBM] [Info] Number of data points in the train set: 90570, number of used features: 4159\n",
      "[LightGBM] [Info] Using GPU Device: Tesla T4, Vendor: NVIDIA Corporation\n",
      "[LightGBM] [Info] Compiling OpenCL Kernel with 256 bins...\n",
      "[LightGBM] [Info] GPU programs have been built\n",
      "[LightGBM] [Info] Size of histogram bin entry: 8\n",
      "[LightGBM] [Info] 2 dense feature groups (0.35 MB) transferred to GPU in 0.000789 secs. 1 sparse feature groups\n",
      "[LightGBM] [Info] Start training from score -1.890407\n",
      "[LightGBM] [Info] Start training from score -0.814846\n",
      "[LightGBM] [Info] Start training from score -0.900707\n"
     ]
    },
    {
     "name": "stderr",
     "output_type": "stream",
     "text": [
      "/usr/local/lib/python3.11/dist-packages/sklearn/utils/validation.py:2739: UserWarning: X does not have valid feature names, but LGBMClassifier was fitted with feature names\n",
      "  warnings.warn(\n"
     ]
    },
    {
     "name": "stdout",
     "output_type": "stream",
     "text": [
      "[LightGBM] [Info] This is the GPU trainer!!\n",
      "[LightGBM] [Info] Total Bins 187029\n",
      "[LightGBM] [Info] Number of data points in the train set: 90570, number of used features: 4220\n",
      "[LightGBM] [Info] Using GPU Device: Tesla T4, Vendor: NVIDIA Corporation\n",
      "[LightGBM] [Info] Compiling OpenCL Kernel with 256 bins...\n",
      "[LightGBM] [Info] GPU programs have been built\n",
      "[LightGBM] [Info] Size of histogram bin entry: 8\n",
      "[LightGBM] [Info] 3 dense feature groups (0.35 MB) transferred to GPU in 0.000868 secs. 1 sparse feature groups\n",
      "[LightGBM] [Info] Start training from score -1.890407\n",
      "[LightGBM] [Info] Start training from score -0.814846\n",
      "[LightGBM] [Info] Start training from score -0.900707\n"
     ]
    },
    {
     "name": "stderr",
     "output_type": "stream",
     "text": [
      "/usr/local/lib/python3.11/dist-packages/sklearn/utils/validation.py:2739: UserWarning: X does not have valid feature names, but LGBMClassifier was fitted with feature names\n",
      "  warnings.warn(\n"
     ]
    },
    {
     "name": "stdout",
     "output_type": "stream",
     "text": [
      "[LightGBM] [Info] This is the GPU trainer!!\n",
      "[LightGBM] [Info] Total Bins 183970\n",
      "[LightGBM] [Info] Number of data points in the train set: 90571, number of used features: 4217\n",
      "[LightGBM] [Info] Using GPU Device: Tesla T4, Vendor: NVIDIA Corporation\n",
      "[LightGBM] [Info] Compiling OpenCL Kernel with 256 bins...\n",
      "[LightGBM] [Info] GPU programs have been built\n",
      "[LightGBM] [Info] Size of histogram bin entry: 8\n",
      "[LightGBM] [Info] 2 dense feature groups (0.35 MB) transferred to GPU in 0.000689 secs. 1 sparse feature groups\n",
      "[LightGBM] [Info] Start training from score -1.890418\n",
      "[LightGBM] [Info] Start training from score -0.814857\n",
      "[LightGBM] [Info] Start training from score -0.900691\n"
     ]
    },
    {
     "name": "stderr",
     "output_type": "stream",
     "text": [
      "/usr/local/lib/python3.11/dist-packages/sklearn/utils/validation.py:2739: UserWarning: X does not have valid feature names, but LGBMClassifier was fitted with feature names\n",
      "  warnings.warn(\n"
     ]
    },
    {
     "name": "stdout",
     "output_type": "stream",
     "text": [
      "[LightGBM] [Info] This is the GPU trainer!!\n",
      "[LightGBM] [Info] Total Bins 183113\n",
      "[LightGBM] [Info] Number of data points in the train set: 90571, number of used features: 4167\n",
      "[LightGBM] [Info] Using GPU Device: Tesla T4, Vendor: NVIDIA Corporation\n",
      "[LightGBM] [Info] Compiling OpenCL Kernel with 256 bins...\n",
      "[LightGBM] [Info] GPU programs have been built\n",
      "[LightGBM] [Info] Size of histogram bin entry: 8\n",
      "[LightGBM] [Info] 2 dense feature groups (0.35 MB) transferred to GPU in 0.000749 secs. 1 sparse feature groups\n",
      "[LightGBM] [Info] Start training from score -1.890418\n",
      "[LightGBM] [Info] Start training from score -0.814857\n",
      "[LightGBM] [Info] Start training from score -0.900691\n"
     ]
    },
    {
     "name": "stderr",
     "output_type": "stream",
     "text": [
      "/usr/local/lib/python3.11/dist-packages/sklearn/utils/validation.py:2739: UserWarning: X does not have valid feature names, but LGBMClassifier was fitted with feature names\n",
      "  warnings.warn(\n",
      "/usr/local/lib/python3.11/dist-packages/sklearn/utils/validation.py:2739: UserWarning: X does not have valid feature names, but LGBMClassifier was fitted with feature names\n",
      "  warnings.warn(\n",
      "[I 2025-04-20 16:26:08,278] Trial 4 finished with value: 0.9103457259154454 and parameters: {'xgb_n_estimators': 296, 'xgb_learning_rate': 0.0727104237200201, 'xgb_max_depth': 3}. Best is trial 3 with value: 0.9106342701215956.\n"
     ]
    },
    {
     "name": "stdout",
     "output_type": "stream",
     "text": [
      "Hyperparameter tuning completed in 9273.33 seconds.\n",
      "Best XGBoost parameters found: {'xgb_n_estimators': 277, 'xgb_learning_rate': 0.15096222212757654, 'xgb_max_depth': 7}\n",
      "\n",
      "Performing cross-validation with the Final Stacked Ensemble...\n"
     ]
    },
    {
     "name": "stderr",
     "output_type": "stream",
     "text": [
      "CV Folds:   0%|          | 0/5 [00:00<?, ?it/s]"
     ]
    },
    {
     "name": "stdout",
     "output_type": "stream",
     "text": [
      "[LightGBM] [Info] This is the GPU trainer!!\n",
      "[LightGBM] [Info] Total Bins 250901\n",
      "[LightGBM] [Info] Number of data points in the train set: 135855, number of used features: 4916\n",
      "[LightGBM] [Info] Using GPU Device: Tesla T4, Vendor: NVIDIA Corporation\n",
      "[LightGBM] [Info] Compiling OpenCL Kernel with 256 bins...\n",
      "[LightGBM] [Info] GPU programs have been built\n",
      "[LightGBM] [Info] Size of histogram bin entry: 8\n",
      "[LightGBM] [Info] 2 dense feature groups (0.52 MB) transferred to GPU in 0.001260 secs. 1 sparse feature groups\n",
      "[LightGBM] [Info] Start training from score -1.890432\n",
      "[LightGBM] [Info] Start training from score -0.814846\n",
      "[LightGBM] [Info] Start training from score -0.900698\n",
      "[LightGBM] [Info] This is the GPU trainer!!\n",
      "[LightGBM] [Info] Total Bins 212473\n",
      "[LightGBM] [Info] Number of data points in the train set: 108684, number of used features: 4559\n",
      "[LightGBM] [Info] Using GPU Device: Tesla T4, Vendor: NVIDIA Corporation\n",
      "[LightGBM] [Info] Compiling OpenCL Kernel with 256 bins...\n",
      "[LightGBM] [Info] GPU programs have been built\n",
      "[LightGBM] [Info] Size of histogram bin entry: 8\n",
      "[LightGBM] [Info] 2 dense feature groups (0.41 MB) transferred to GPU in 0.000947 secs. 1 sparse feature groups\n",
      "[LightGBM] [Info] Start training from score -1.890432\n",
      "[LightGBM] [Info] Start training from score -0.814851\n",
      "[LightGBM] [Info] Start training from score -0.900693\n"
     ]
    },
    {
     "name": "stderr",
     "output_type": "stream",
     "text": [
      "/usr/local/lib/python3.11/dist-packages/sklearn/utils/validation.py:2739: UserWarning: X does not have valid feature names, but LGBMClassifier was fitted with feature names\n",
      "  warnings.warn(\n"
     ]
    },
    {
     "name": "stdout",
     "output_type": "stream",
     "text": [
      "[LightGBM] [Info] This is the GPU trainer!!\n",
      "[LightGBM] [Info] Total Bins 209804\n",
      "[LightGBM] [Info] Number of data points in the train set: 108684, number of used features: 4509\n",
      "[LightGBM] [Info] Using GPU Device: Tesla T4, Vendor: NVIDIA Corporation\n",
      "[LightGBM] [Info] Compiling OpenCL Kernel with 256 bins...\n",
      "[LightGBM] [Info] GPU programs have been built\n",
      "[LightGBM] [Info] Size of histogram bin entry: 8\n",
      "[LightGBM] [Info] 2 dense feature groups (0.41 MB) transferred to GPU in 0.001021 secs. 1 sparse feature groups\n",
      "[LightGBM] [Info] Start training from score -1.890432\n",
      "[LightGBM] [Info] Start training from score -0.814851\n",
      "[LightGBM] [Info] Start training from score -0.900693\n"
     ]
    },
    {
     "name": "stderr",
     "output_type": "stream",
     "text": [
      "/usr/local/lib/python3.11/dist-packages/sklearn/utils/validation.py:2739: UserWarning: X does not have valid feature names, but LGBMClassifier was fitted with feature names\n",
      "  warnings.warn(\n"
     ]
    },
    {
     "name": "stdout",
     "output_type": "stream",
     "text": [
      "[LightGBM] [Info] This is the GPU trainer!!\n",
      "[LightGBM] [Info] Total Bins 215300\n",
      "[LightGBM] [Info] Number of data points in the train set: 108684, number of used features: 4595\n",
      "[LightGBM] [Info] Using GPU Device: Tesla T4, Vendor: NVIDIA Corporation\n",
      "[LightGBM] [Info] Compiling OpenCL Kernel with 256 bins...\n",
      "[LightGBM] [Info] GPU programs have been built\n",
      "[LightGBM] [Info] Size of histogram bin entry: 8\n",
      "[LightGBM] [Info] 3 dense feature groups (0.41 MB) transferred to GPU in 0.000828 secs. 1 sparse feature groups\n",
      "[LightGBM] [Info] Start training from score -1.890432\n",
      "[LightGBM] [Info] Start training from score -0.814851\n",
      "[LightGBM] [Info] Start training from score -0.900693\n"
     ]
    },
    {
     "name": "stderr",
     "output_type": "stream",
     "text": [
      "/usr/local/lib/python3.11/dist-packages/sklearn/utils/validation.py:2739: UserWarning: X does not have valid feature names, but LGBMClassifier was fitted with feature names\n",
      "  warnings.warn(\n"
     ]
    },
    {
     "name": "stdout",
     "output_type": "stream",
     "text": [
      "[LightGBM] [Info] This is the GPU trainer!!\n",
      "[LightGBM] [Info] Total Bins 212817\n",
      "[LightGBM] [Info] Number of data points in the train set: 108684, number of used features: 4606\n",
      "[LightGBM] [Info] Using GPU Device: Tesla T4, Vendor: NVIDIA Corporation\n",
      "[LightGBM] [Info] Compiling OpenCL Kernel with 256 bins...\n",
      "[LightGBM] [Info] GPU programs have been built\n",
      "[LightGBM] [Info] Size of histogram bin entry: 8\n",
      "[LightGBM] [Info] 2 dense feature groups (0.41 MB) transferred to GPU in 0.000957 secs. 1 sparse feature groups\n",
      "[LightGBM] [Info] Start training from score -1.890432\n",
      "[LightGBM] [Info] Start training from score -0.814851\n",
      "[LightGBM] [Info] Start training from score -0.900693\n"
     ]
    },
    {
     "name": "stderr",
     "output_type": "stream",
     "text": [
      "/usr/local/lib/python3.11/dist-packages/sklearn/utils/validation.py:2739: UserWarning: X does not have valid feature names, but LGBMClassifier was fitted with feature names\n",
      "  warnings.warn(\n"
     ]
    },
    {
     "name": "stdout",
     "output_type": "stream",
     "text": [
      "[LightGBM] [Info] This is the GPU trainer!!\n",
      "[LightGBM] [Info] Total Bins 211621\n",
      "[LightGBM] [Info] Number of data points in the train set: 108684, number of used features: 4568\n",
      "[LightGBM] [Info] Using GPU Device: Tesla T4, Vendor: NVIDIA Corporation\n",
      "[LightGBM] [Info] Compiling OpenCL Kernel with 256 bins...\n",
      "[LightGBM] [Info] GPU programs have been built\n",
      "[LightGBM] [Info] Size of histogram bin entry: 8\n",
      "[LightGBM] [Info] 2 dense feature groups (0.41 MB) transferred to GPU in 0.000806 secs. 1 sparse feature groups\n",
      "[LightGBM] [Info] Start training from score -1.890432\n",
      "[LightGBM] [Info] Start training from score -0.814830\n",
      "[LightGBM] [Info] Start training from score -0.900716\n"
     ]
    },
    {
     "name": "stderr",
     "output_type": "stream",
     "text": [
      "/usr/local/lib/python3.11/dist-packages/sklearn/utils/validation.py:2739: UserWarning: X does not have valid feature names, but LGBMClassifier was fitted with feature names\n",
      "  warnings.warn(\n",
      "/usr/local/lib/python3.11/dist-packages/sklearn/utils/validation.py:2739: UserWarning: X does not have valid feature names, but LGBMClassifier was fitted with feature names\n",
      "  warnings.warn(\n",
      "CV Folds:  20%|██        | 1/5 [12:59<51:58, 779.58s/it]"
     ]
    },
    {
     "name": "stdout",
     "output_type": "stream",
     "text": [
      "[LightGBM] [Info] This is the GPU trainer!!\n",
      "[LightGBM] [Info] Total Bins 251186\n",
      "[LightGBM] [Info] Number of data points in the train set: 135855, number of used features: 4930\n",
      "[LightGBM] [Info] Using GPU Device: Tesla T4, Vendor: NVIDIA Corporation\n",
      "[LightGBM] [Info] Compiling OpenCL Kernel with 256 bins...\n",
      "[LightGBM] [Info] GPU programs have been built\n",
      "[LightGBM] [Info] Size of histogram bin entry: 8\n",
      "[LightGBM] [Info] 2 dense feature groups (0.52 MB) transferred to GPU in 0.000963 secs. 1 sparse feature groups\n",
      "[LightGBM] [Info] Start training from score -1.890432\n",
      "[LightGBM] [Info] Start training from score -0.814846\n",
      "[LightGBM] [Info] Start training from score -0.900698\n",
      "[LightGBM] [Info] This is the GPU trainer!!\n",
      "[LightGBM] [Info] Total Bins 212526\n",
      "[LightGBM] [Info] Number of data points in the train set: 108684, number of used features: 4569\n",
      "[LightGBM] [Info] Using GPU Device: Tesla T4, Vendor: NVIDIA Corporation\n",
      "[LightGBM] [Info] Compiling OpenCL Kernel with 256 bins...\n",
      "[LightGBM] [Info] GPU programs have been built\n",
      "[LightGBM] [Info] Size of histogram bin entry: 8\n",
      "[LightGBM] [Info] 2 dense feature groups (0.41 MB) transferred to GPU in 0.000867 secs. 1 sparse feature groups\n",
      "[LightGBM] [Info] Start training from score -1.890432\n",
      "[LightGBM] [Info] Start training from score -0.814851\n",
      "[LightGBM] [Info] Start training from score -0.900693\n"
     ]
    },
    {
     "name": "stderr",
     "output_type": "stream",
     "text": [
      "/usr/local/lib/python3.11/dist-packages/sklearn/utils/validation.py:2739: UserWarning: X does not have valid feature names, but LGBMClassifier was fitted with feature names\n",
      "  warnings.warn(\n"
     ]
    },
    {
     "name": "stdout",
     "output_type": "stream",
     "text": [
      "[LightGBM] [Info] This is the GPU trainer!!\n",
      "[LightGBM] [Info] Total Bins 209853\n",
      "[LightGBM] [Info] Number of data points in the train set: 108684, number of used features: 4531\n",
      "[LightGBM] [Info] Using GPU Device: Tesla T4, Vendor: NVIDIA Corporation\n",
      "[LightGBM] [Info] Compiling OpenCL Kernel with 256 bins...\n",
      "[LightGBM] [Info] GPU programs have been built\n",
      "[LightGBM] [Info] Size of histogram bin entry: 8\n",
      "[LightGBM] [Info] 2 dense feature groups (0.41 MB) transferred to GPU in 0.000834 secs. 1 sparse feature groups\n",
      "[LightGBM] [Info] Start training from score -1.890432\n",
      "[LightGBM] [Info] Start training from score -0.814851\n",
      "[LightGBM] [Info] Start training from score -0.900693\n"
     ]
    },
    {
     "name": "stderr",
     "output_type": "stream",
     "text": [
      "/usr/local/lib/python3.11/dist-packages/sklearn/utils/validation.py:2739: UserWarning: X does not have valid feature names, but LGBMClassifier was fitted with feature names\n",
      "  warnings.warn(\n"
     ]
    },
    {
     "name": "stdout",
     "output_type": "stream",
     "text": [
      "[LightGBM] [Info] This is the GPU trainer!!\n",
      "[LightGBM] [Info] Total Bins 215330\n",
      "[LightGBM] [Info] Number of data points in the train set: 108684, number of used features: 4611\n",
      "[LightGBM] [Info] Using GPU Device: Tesla T4, Vendor: NVIDIA Corporation\n",
      "[LightGBM] [Info] Compiling OpenCL Kernel with 256 bins...\n",
      "[LightGBM] [Info] GPU programs have been built\n",
      "[LightGBM] [Info] Size of histogram bin entry: 8\n",
      "[LightGBM] [Info] 3 dense feature groups (0.41 MB) transferred to GPU in 0.000860 secs. 1 sparse feature groups\n",
      "[LightGBM] [Info] Start training from score -1.890432\n",
      "[LightGBM] [Info] Start training from score -0.814851\n",
      "[LightGBM] [Info] Start training from score -0.900693\n"
     ]
    },
    {
     "name": "stderr",
     "output_type": "stream",
     "text": [
      "/usr/local/lib/python3.11/dist-packages/sklearn/utils/validation.py:2739: UserWarning: X does not have valid feature names, but LGBMClassifier was fitted with feature names\n",
      "  warnings.warn(\n"
     ]
    },
    {
     "name": "stdout",
     "output_type": "stream",
     "text": [
      "[LightGBM] [Info] This is the GPU trainer!!\n",
      "[LightGBM] [Info] Total Bins 212934\n",
      "[LightGBM] [Info] Number of data points in the train set: 108684, number of used features: 4626\n",
      "[LightGBM] [Info] Using GPU Device: Tesla T4, Vendor: NVIDIA Corporation\n",
      "[LightGBM] [Info] Compiling OpenCL Kernel with 256 bins...\n",
      "[LightGBM] [Info] GPU programs have been built\n",
      "[LightGBM] [Info] Size of histogram bin entry: 8\n",
      "[LightGBM] [Info] 2 dense feature groups (0.41 MB) transferred to GPU in 0.000886 secs. 1 sparse feature groups\n",
      "[LightGBM] [Info] Start training from score -1.890432\n",
      "[LightGBM] [Info] Start training from score -0.814851\n",
      "[LightGBM] [Info] Start training from score -0.900693\n"
     ]
    },
    {
     "name": "stderr",
     "output_type": "stream",
     "text": [
      "/usr/local/lib/python3.11/dist-packages/sklearn/utils/validation.py:2739: UserWarning: X does not have valid feature names, but LGBMClassifier was fitted with feature names\n",
      "  warnings.warn(\n"
     ]
    },
    {
     "name": "stdout",
     "output_type": "stream",
     "text": [
      "[LightGBM] [Info] This is the GPU trainer!!\n",
      "[LightGBM] [Info] Total Bins 211568\n",
      "[LightGBM] [Info] Number of data points in the train set: 108684, number of used features: 4575\n",
      "[LightGBM] [Info] Using GPU Device: Tesla T4, Vendor: NVIDIA Corporation\n",
      "[LightGBM] [Info] Compiling OpenCL Kernel with 256 bins...\n",
      "[LightGBM] [Info] GPU programs have been built\n",
      "[LightGBM] [Info] Size of histogram bin entry: 8\n",
      "[LightGBM] [Info] 2 dense feature groups (0.41 MB) transferred to GPU in 0.000837 secs. 1 sparse feature groups\n",
      "[LightGBM] [Info] Start training from score -1.890432\n",
      "[LightGBM] [Info] Start training from score -0.814830\n",
      "[LightGBM] [Info] Start training from score -0.900716\n"
     ]
    },
    {
     "name": "stderr",
     "output_type": "stream",
     "text": [
      "/usr/local/lib/python3.11/dist-packages/sklearn/utils/validation.py:2739: UserWarning: X does not have valid feature names, but LGBMClassifier was fitted with feature names\n",
      "  warnings.warn(\n",
      "/usr/local/lib/python3.11/dist-packages/sklearn/utils/validation.py:2739: UserWarning: X does not have valid feature names, but LGBMClassifier was fitted with feature names\n",
      "  warnings.warn(\n",
      "CV Folds:  40%|████      | 2/5 [25:44<38:33, 771.01s/it]"
     ]
    },
    {
     "name": "stdout",
     "output_type": "stream",
     "text": [
      "[LightGBM] [Info] This is the GPU trainer!!\n",
      "[LightGBM] [Info] Total Bins 251051\n",
      "[LightGBM] [Info] Number of data points in the train set: 135855, number of used features: 4932\n",
      "[LightGBM] [Info] Using GPU Device: Tesla T4, Vendor: NVIDIA Corporation\n",
      "[LightGBM] [Info] Compiling OpenCL Kernel with 256 bins...\n",
      "[LightGBM] [Info] GPU programs have been built\n",
      "[LightGBM] [Info] Size of histogram bin entry: 8\n",
      "[LightGBM] [Info] 2 dense feature groups (0.52 MB) transferred to GPU in 0.001031 secs. 1 sparse feature groups\n",
      "[LightGBM] [Info] Start training from score -1.890432\n",
      "[LightGBM] [Info] Start training from score -0.814846\n",
      "[LightGBM] [Info] Start training from score -0.900698\n",
      "[LightGBM] [Info] This is the GPU trainer!!\n",
      "[LightGBM] [Info] Total Bins 212790\n",
      "[LightGBM] [Info] Number of data points in the train set: 108684, number of used features: 4554\n",
      "[LightGBM] [Info] Using GPU Device: Tesla T4, Vendor: NVIDIA Corporation\n",
      "[LightGBM] [Info] Compiling OpenCL Kernel with 256 bins...\n",
      "[LightGBM] [Info] GPU programs have been built\n",
      "[LightGBM] [Info] Size of histogram bin entry: 8\n",
      "[LightGBM] [Info] 2 dense feature groups (0.41 MB) transferred to GPU in 0.000730 secs. 1 sparse feature groups\n",
      "[LightGBM] [Info] Start training from score -1.890432\n",
      "[LightGBM] [Info] Start training from score -0.814851\n",
      "[LightGBM] [Info] Start training from score -0.900693\n"
     ]
    },
    {
     "name": "stderr",
     "output_type": "stream",
     "text": [
      "/usr/local/lib/python3.11/dist-packages/sklearn/utils/validation.py:2739: UserWarning: X does not have valid feature names, but LGBMClassifier was fitted with feature names\n",
      "  warnings.warn(\n"
     ]
    },
    {
     "name": "stdout",
     "output_type": "stream",
     "text": [
      "[LightGBM] [Info] This is the GPU trainer!!\n",
      "[LightGBM] [Info] Total Bins 209915\n",
      "[LightGBM] [Info] Number of data points in the train set: 108684, number of used features: 4542\n",
      "[LightGBM] [Info] Using GPU Device: Tesla T4, Vendor: NVIDIA Corporation\n",
      "[LightGBM] [Info] Compiling OpenCL Kernel with 256 bins...\n",
      "[LightGBM] [Info] GPU programs have been built\n",
      "[LightGBM] [Info] Size of histogram bin entry: 8\n",
      "[LightGBM] [Info] 2 dense feature groups (0.41 MB) transferred to GPU in 0.000803 secs. 1 sparse feature groups\n",
      "[LightGBM] [Info] Start training from score -1.890432\n",
      "[LightGBM] [Info] Start training from score -0.814851\n",
      "[LightGBM] [Info] Start training from score -0.900693\n"
     ]
    },
    {
     "name": "stderr",
     "output_type": "stream",
     "text": [
      "/usr/local/lib/python3.11/dist-packages/sklearn/utils/validation.py:2739: UserWarning: X does not have valid feature names, but LGBMClassifier was fitted with feature names\n",
      "  warnings.warn(\n"
     ]
    },
    {
     "name": "stdout",
     "output_type": "stream",
     "text": [
      "[LightGBM] [Info] This is the GPU trainer!!\n",
      "[LightGBM] [Info] Total Bins 215356\n",
      "[LightGBM] [Info] Number of data points in the train set: 108684, number of used features: 4596\n",
      "[LightGBM] [Info] Using GPU Device: Tesla T4, Vendor: NVIDIA Corporation\n",
      "[LightGBM] [Info] Compiling OpenCL Kernel with 256 bins...\n",
      "[LightGBM] [Info] GPU programs have been built\n",
      "[LightGBM] [Info] Size of histogram bin entry: 8\n",
      "[LightGBM] [Info] 3 dense feature groups (0.41 MB) transferred to GPU in 0.001177 secs. 1 sparse feature groups\n",
      "[LightGBM] [Info] Start training from score -1.890432\n",
      "[LightGBM] [Info] Start training from score -0.814851\n",
      "[LightGBM] [Info] Start training from score -0.900693\n"
     ]
    },
    {
     "name": "stderr",
     "output_type": "stream",
     "text": [
      "/usr/local/lib/python3.11/dist-packages/sklearn/utils/validation.py:2739: UserWarning: X does not have valid feature names, but LGBMClassifier was fitted with feature names\n",
      "  warnings.warn(\n"
     ]
    },
    {
     "name": "stdout",
     "output_type": "stream",
     "text": [
      "[LightGBM] [Info] This is the GPU trainer!!\n",
      "[LightGBM] [Info] Total Bins 212962\n",
      "[LightGBM] [Info] Number of data points in the train set: 108684, number of used features: 4607\n",
      "[LightGBM] [Info] Using GPU Device: Tesla T4, Vendor: NVIDIA Corporation\n",
      "[LightGBM] [Info] Compiling OpenCL Kernel with 256 bins...\n",
      "[LightGBM] [Info] GPU programs have been built\n",
      "[LightGBM] [Info] Size of histogram bin entry: 8\n",
      "[LightGBM] [Info] 2 dense feature groups (0.41 MB) transferred to GPU in 0.000762 secs. 1 sparse feature groups\n",
      "[LightGBM] [Info] Start training from score -1.890432\n",
      "[LightGBM] [Info] Start training from score -0.814851\n",
      "[LightGBM] [Info] Start training from score -0.900693\n"
     ]
    },
    {
     "name": "stderr",
     "output_type": "stream",
     "text": [
      "/usr/local/lib/python3.11/dist-packages/sklearn/utils/validation.py:2739: UserWarning: X does not have valid feature names, but LGBMClassifier was fitted with feature names\n",
      "  warnings.warn(\n"
     ]
    },
    {
     "name": "stdout",
     "output_type": "stream",
     "text": [
      "[LightGBM] [Info] This is the GPU trainer!!\n",
      "[LightGBM] [Info] Total Bins 211424\n",
      "[LightGBM] [Info] Number of data points in the train set: 108684, number of used features: 4564\n",
      "[LightGBM] [Info] Using GPU Device: Tesla T4, Vendor: NVIDIA Corporation\n",
      "[LightGBM] [Info] Compiling OpenCL Kernel with 256 bins...\n",
      "[LightGBM] [Info] GPU programs have been built\n",
      "[LightGBM] [Info] Size of histogram bin entry: 8\n",
      "[LightGBM] [Info] 2 dense feature groups (0.41 MB) transferred to GPU in 0.000854 secs. 1 sparse feature groups\n",
      "[LightGBM] [Info] Start training from score -1.890432\n",
      "[LightGBM] [Info] Start training from score -0.814830\n",
      "[LightGBM] [Info] Start training from score -0.900716\n"
     ]
    },
    {
     "name": "stderr",
     "output_type": "stream",
     "text": [
      "/usr/local/lib/python3.11/dist-packages/sklearn/utils/validation.py:2739: UserWarning: X does not have valid feature names, but LGBMClassifier was fitted with feature names\n",
      "  warnings.warn(\n",
      "/usr/local/lib/python3.11/dist-packages/sklearn/utils/validation.py:2739: UserWarning: X does not have valid feature names, but LGBMClassifier was fitted with feature names\n",
      "  warnings.warn(\n",
      "CV Folds:  60%|██████    | 3/5 [38:35<25:41, 770.92s/it]"
     ]
    },
    {
     "name": "stdout",
     "output_type": "stream",
     "text": [
      "[LightGBM] [Info] This is the GPU trainer!!\n",
      "[LightGBM] [Info] Total Bins 250996\n",
      "[LightGBM] [Info] Number of data points in the train set: 135855, number of used features: 4930\n",
      "[LightGBM] [Info] Using GPU Device: Tesla T4, Vendor: NVIDIA Corporation\n",
      "[LightGBM] [Info] Compiling OpenCL Kernel with 256 bins...\n",
      "[LightGBM] [Info] GPU programs have been built\n",
      "[LightGBM] [Info] Size of histogram bin entry: 8\n",
      "[LightGBM] [Info] 2 dense feature groups (0.52 MB) transferred to GPU in 0.000995 secs. 1 sparse feature groups\n",
      "[LightGBM] [Info] Start training from score -1.890432\n",
      "[LightGBM] [Info] Start training from score -0.814846\n",
      "[LightGBM] [Info] Start training from score -0.900698\n",
      "[LightGBM] [Info] This is the GPU trainer!!\n",
      "[LightGBM] [Info] Total Bins 212703\n",
      "[LightGBM] [Info] Number of data points in the train set: 108684, number of used features: 4576\n",
      "[LightGBM] [Info] Using GPU Device: Tesla T4, Vendor: NVIDIA Corporation\n",
      "[LightGBM] [Info] Compiling OpenCL Kernel with 256 bins...\n",
      "[LightGBM] [Info] GPU programs have been built\n",
      "[LightGBM] [Info] Size of histogram bin entry: 8\n",
      "[LightGBM] [Info] 2 dense feature groups (0.41 MB) transferred to GPU in 0.000808 secs. 1 sparse feature groups\n",
      "[LightGBM] [Info] Start training from score -1.890432\n",
      "[LightGBM] [Info] Start training from score -0.814851\n",
      "[LightGBM] [Info] Start training from score -0.900693\n"
     ]
    },
    {
     "name": "stderr",
     "output_type": "stream",
     "text": [
      "/usr/local/lib/python3.11/dist-packages/sklearn/utils/validation.py:2739: UserWarning: X does not have valid feature names, but LGBMClassifier was fitted with feature names\n",
      "  warnings.warn(\n"
     ]
    },
    {
     "name": "stdout",
     "output_type": "stream",
     "text": [
      "[LightGBM] [Info] This is the GPU trainer!!\n",
      "[LightGBM] [Info] Total Bins 209823\n",
      "[LightGBM] [Info] Number of data points in the train set: 108684, number of used features: 4530\n",
      "[LightGBM] [Info] Using GPU Device: Tesla T4, Vendor: NVIDIA Corporation\n",
      "[LightGBM] [Info] Compiling OpenCL Kernel with 256 bins...\n",
      "[LightGBM] [Info] GPU programs have been built\n",
      "[LightGBM] [Info] Size of histogram bin entry: 8\n",
      "[LightGBM] [Info] 2 dense feature groups (0.41 MB) transferred to GPU in 0.000806 secs. 1 sparse feature groups\n",
      "[LightGBM] [Info] Start training from score -1.890432\n",
      "[LightGBM] [Info] Start training from score -0.814851\n",
      "[LightGBM] [Info] Start training from score -0.900693\n"
     ]
    },
    {
     "name": "stderr",
     "output_type": "stream",
     "text": [
      "/usr/local/lib/python3.11/dist-packages/sklearn/utils/validation.py:2739: UserWarning: X does not have valid feature names, but LGBMClassifier was fitted with feature names\n",
      "  warnings.warn(\n"
     ]
    },
    {
     "name": "stdout",
     "output_type": "stream",
     "text": [
      "[LightGBM] [Info] This is the GPU trainer!!\n",
      "[LightGBM] [Info] Total Bins 215428\n",
      "[LightGBM] [Info] Number of data points in the train set: 108684, number of used features: 4606\n",
      "[LightGBM] [Info] Using GPU Device: Tesla T4, Vendor: NVIDIA Corporation\n",
      "[LightGBM] [Info] Compiling OpenCL Kernel with 256 bins...\n",
      "[LightGBM] [Info] GPU programs have been built\n",
      "[LightGBM] [Info] Size of histogram bin entry: 8\n",
      "[LightGBM] [Info] 3 dense feature groups (0.41 MB) transferred to GPU in 0.000870 secs. 1 sparse feature groups\n",
      "[LightGBM] [Info] Start training from score -1.890432\n",
      "[LightGBM] [Info] Start training from score -0.814851\n",
      "[LightGBM] [Info] Start training from score -0.900693\n"
     ]
    },
    {
     "name": "stderr",
     "output_type": "stream",
     "text": [
      "/usr/local/lib/python3.11/dist-packages/sklearn/utils/validation.py:2739: UserWarning: X does not have valid feature names, but LGBMClassifier was fitted with feature names\n",
      "  warnings.warn(\n"
     ]
    },
    {
     "name": "stdout",
     "output_type": "stream",
     "text": [
      "[LightGBM] [Info] This is the GPU trainer!!\n",
      "[LightGBM] [Info] Total Bins 212881\n",
      "[LightGBM] [Info] Number of data points in the train set: 108684, number of used features: 4615\n",
      "[LightGBM] [Info] Using GPU Device: Tesla T4, Vendor: NVIDIA Corporation\n",
      "[LightGBM] [Info] Compiling OpenCL Kernel with 256 bins...\n",
      "[LightGBM] [Info] GPU programs have been built\n",
      "[LightGBM] [Info] Size of histogram bin entry: 8\n",
      "[LightGBM] [Info] 2 dense feature groups (0.41 MB) transferred to GPU in 0.001019 secs. 1 sparse feature groups\n",
      "[LightGBM] [Info] Start training from score -1.890432\n",
      "[LightGBM] [Info] Start training from score -0.814851\n",
      "[LightGBM] [Info] Start training from score -0.900693\n"
     ]
    },
    {
     "name": "stderr",
     "output_type": "stream",
     "text": [
      "/usr/local/lib/python3.11/dist-packages/sklearn/utils/validation.py:2739: UserWarning: X does not have valid feature names, but LGBMClassifier was fitted with feature names\n",
      "  warnings.warn(\n"
     ]
    },
    {
     "name": "stdout",
     "output_type": "stream",
     "text": [
      "[LightGBM] [Info] This is the GPU trainer!!\n",
      "[LightGBM] [Info] Total Bins 211377\n",
      "[LightGBM] [Info] Number of data points in the train set: 108684, number of used features: 4571\n",
      "[LightGBM] [Info] Using GPU Device: Tesla T4, Vendor: NVIDIA Corporation\n",
      "[LightGBM] [Info] Compiling OpenCL Kernel with 256 bins...\n",
      "[LightGBM] [Info] GPU programs have been built\n",
      "[LightGBM] [Info] Size of histogram bin entry: 8\n",
      "[LightGBM] [Info] 2 dense feature groups (0.41 MB) transferred to GPU in 0.000794 secs. 1 sparse feature groups\n",
      "[LightGBM] [Info] Start training from score -1.890432\n",
      "[LightGBM] [Info] Start training from score -0.814830\n",
      "[LightGBM] [Info] Start training from score -0.900716\n"
     ]
    },
    {
     "name": "stderr",
     "output_type": "stream",
     "text": [
      "/usr/local/lib/python3.11/dist-packages/sklearn/utils/validation.py:2739: UserWarning: X does not have valid feature names, but LGBMClassifier was fitted with feature names\n",
      "  warnings.warn(\n",
      "/usr/local/lib/python3.11/dist-packages/sklearn/utils/validation.py:2739: UserWarning: X does not have valid feature names, but LGBMClassifier was fitted with feature names\n",
      "  warnings.warn(\n",
      "CV Folds:  80%|████████  | 4/5 [51:31<12:53, 773.05s/it]"
     ]
    },
    {
     "name": "stdout",
     "output_type": "stream",
     "text": [
      "[LightGBM] [Info] This is the GPU trainer!!\n",
      "[LightGBM] [Info] Total Bins 251268\n",
      "[LightGBM] [Info] Number of data points in the train set: 135856, number of used features: 4937\n",
      "[LightGBM] [Info] Using GPU Device: Tesla T4, Vendor: NVIDIA Corporation\n",
      "[LightGBM] [Info] Compiling OpenCL Kernel with 256 bins...\n",
      "[LightGBM] [Info] GPU programs have been built\n",
      "[LightGBM] [Info] Size of histogram bin entry: 8\n",
      "[LightGBM] [Info] 2 dense feature groups (0.52 MB) transferred to GPU in 0.000932 secs. 1 sparse feature groups\n",
      "[LightGBM] [Info] Start training from score -1.890390\n",
      "[LightGBM] [Info] Start training from score -0.814854\n",
      "[LightGBM] [Info] Start training from score -0.900705\n",
      "[LightGBM] [Info] This is the GPU trainer!!\n",
      "[LightGBM] [Info] Total Bins 212896\n",
      "[LightGBM] [Info] Number of data points in the train set: 108684, number of used features: 4585\n",
      "[LightGBM] [Info] Using GPU Device: Tesla T4, Vendor: NVIDIA Corporation\n",
      "[LightGBM] [Info] Compiling OpenCL Kernel with 256 bins...\n",
      "[LightGBM] [Info] GPU programs have been built\n",
      "[LightGBM] [Info] Size of histogram bin entry: 8\n",
      "[LightGBM] [Info] 2 dense feature groups (0.41 MB) transferred to GPU in 0.000754 secs. 1 sparse feature groups\n",
      "[LightGBM] [Info] Start training from score -1.890432\n",
      "[LightGBM] [Info] Start training from score -0.814830\n",
      "[LightGBM] [Info] Start training from score -0.900716\n"
     ]
    },
    {
     "name": "stderr",
     "output_type": "stream",
     "text": [
      "/usr/local/lib/python3.11/dist-packages/sklearn/utils/validation.py:2739: UserWarning: X does not have valid feature names, but LGBMClassifier was fitted with feature names\n",
      "  warnings.warn(\n"
     ]
    },
    {
     "name": "stdout",
     "output_type": "stream",
     "text": [
      "[LightGBM] [Info] This is the GPU trainer!!\n",
      "[LightGBM] [Info] Total Bins 210084\n",
      "[LightGBM] [Info] Number of data points in the train set: 108685, number of used features: 4528\n",
      "[LightGBM] [Info] Using GPU Device: Tesla T4, Vendor: NVIDIA Corporation\n",
      "[LightGBM] [Info] Compiling OpenCL Kernel with 256 bins...\n",
      "[LightGBM] [Info] GPU programs have been built\n",
      "[LightGBM] [Info] Size of histogram bin entry: 8\n",
      "[LightGBM] [Info] 2 dense feature groups (0.41 MB) transferred to GPU in 0.000743 secs. 1 sparse feature groups\n",
      "[LightGBM] [Info] Start training from score -1.890380\n",
      "[LightGBM] [Info] Start training from score -0.814860\n",
      "[LightGBM] [Info] Start training from score -0.900702\n"
     ]
    },
    {
     "name": "stderr",
     "output_type": "stream",
     "text": [
      "/usr/local/lib/python3.11/dist-packages/sklearn/utils/validation.py:2739: UserWarning: X does not have valid feature names, but LGBMClassifier was fitted with feature names\n",
      "  warnings.warn(\n"
     ]
    },
    {
     "name": "stdout",
     "output_type": "stream",
     "text": [
      "[LightGBM] [Info] This is the GPU trainer!!\n",
      "[LightGBM] [Info] Total Bins 215339\n",
      "[LightGBM] [Info] Number of data points in the train set: 108685, number of used features: 4611\n",
      "[LightGBM] [Info] Using GPU Device: Tesla T4, Vendor: NVIDIA Corporation\n",
      "[LightGBM] [Info] Compiling OpenCL Kernel with 256 bins...\n",
      "[LightGBM] [Info] GPU programs have been built\n",
      "[LightGBM] [Info] Size of histogram bin entry: 8\n",
      "[LightGBM] [Info] 3 dense feature groups (0.41 MB) transferred to GPU in 0.000939 secs. 1 sparse feature groups\n",
      "[LightGBM] [Info] Start training from score -1.890380\n",
      "[LightGBM] [Info] Start training from score -0.814860\n",
      "[LightGBM] [Info] Start training from score -0.900702\n"
     ]
    },
    {
     "name": "stderr",
     "output_type": "stream",
     "text": [
      "/usr/local/lib/python3.11/dist-packages/sklearn/utils/validation.py:2739: UserWarning: X does not have valid feature names, but LGBMClassifier was fitted with feature names\n",
      "  warnings.warn(\n"
     ]
    },
    {
     "name": "stdout",
     "output_type": "stream",
     "text": [
      "[LightGBM] [Info] This is the GPU trainer!!\n",
      "[LightGBM] [Info] Total Bins 213132\n",
      "[LightGBM] [Info] Number of data points in the train set: 108685, number of used features: 4619\n",
      "[LightGBM] [Info] Using GPU Device: Tesla T4, Vendor: NVIDIA Corporation\n",
      "[LightGBM] [Info] Compiling OpenCL Kernel with 256 bins...\n",
      "[LightGBM] [Info] GPU programs have been built\n",
      "[LightGBM] [Info] Size of histogram bin entry: 8\n",
      "[LightGBM] [Info] 2 dense feature groups (0.41 MB) transferred to GPU in 0.000795 secs. 1 sparse feature groups\n",
      "[LightGBM] [Info] Start training from score -1.890380\n",
      "[LightGBM] [Info] Start training from score -0.814860\n",
      "[LightGBM] [Info] Start training from score -0.900702\n"
     ]
    },
    {
     "name": "stderr",
     "output_type": "stream",
     "text": [
      "/usr/local/lib/python3.11/dist-packages/sklearn/utils/validation.py:2739: UserWarning: X does not have valid feature names, but LGBMClassifier was fitted with feature names\n",
      "  warnings.warn(\n"
     ]
    },
    {
     "name": "stdout",
     "output_type": "stream",
     "text": [
      "[LightGBM] [Info] This is the GPU trainer!!\n",
      "[LightGBM] [Info] Total Bins 211772\n",
      "[LightGBM] [Info] Number of data points in the train set: 108685, number of used features: 4559\n",
      "[LightGBM] [Info] Using GPU Device: Tesla T4, Vendor: NVIDIA Corporation\n",
      "[LightGBM] [Info] Compiling OpenCL Kernel with 256 bins...\n",
      "[LightGBM] [Info] GPU programs have been built\n",
      "[LightGBM] [Info] Size of histogram bin entry: 8\n",
      "[LightGBM] [Info] 2 dense feature groups (0.41 MB) transferred to GPU in 0.000765 secs. 1 sparse feature groups\n",
      "[LightGBM] [Info] Start training from score -1.890380\n",
      "[LightGBM] [Info] Start training from score -0.814860\n",
      "[LightGBM] [Info] Start training from score -0.900702\n"
     ]
    },
    {
     "name": "stderr",
     "output_type": "stream",
     "text": [
      "/usr/local/lib/python3.11/dist-packages/sklearn/utils/validation.py:2739: UserWarning: X does not have valid feature names, but LGBMClassifier was fitted with feature names\n",
      "  warnings.warn(\n",
      "/usr/local/lib/python3.11/dist-packages/sklearn/utils/validation.py:2739: UserWarning: X does not have valid feature names, but LGBMClassifier was fitted with feature names\n",
      "  warnings.warn(\n",
      "CV Folds: 100%|██████████| 5/5 [1:04:12<00:00, 770.56s/it]\n"
     ]
    },
    {
     "name": "stdout",
     "output_type": "stream",
     "text": [
      "\n",
      "Final Stacked Ensemble - Cross-validation Accuracy:\n",
      "Mean accuracy: 0.9129 (+/- 0.0021)\n",
      "\n",
      "Training the Final Stacked Ensemble on the full dataset...\n",
      "[LightGBM] [Info] This is the GPU trainer!!\n",
      "[LightGBM] [Info] Total Bins 291481\n",
      "[LightGBM] [Info] Number of data points in the train set: 169819, number of used features: 4978\n",
      "[LightGBM] [Info] Using GPU Device: Tesla T4, Vendor: NVIDIA Corporation\n",
      "[LightGBM] [Info] Compiling OpenCL Kernel with 256 bins...\n",
      "[LightGBM] [Info] GPU programs have been built\n",
      "[LightGBM] [Info] Size of histogram bin entry: 8\n",
      "[LightGBM] [Info] 2 dense feature groups (0.65 MB) transferred to GPU in 0.001577 secs. 1 sparse feature groups\n",
      "[LightGBM] [Info] Start training from score -1.890424\n",
      "[LightGBM] [Info] Start training from score -0.814848\n",
      "[LightGBM] [Info] Start training from score -0.900699\n",
      "[LightGBM] [Info] This is the GPU trainer!!\n",
      "[LightGBM] [Info] Total Bins 250336\n",
      "[LightGBM] [Info] Number of data points in the train set: 135855, number of used features: 4847\n",
      "[LightGBM] [Info] Using GPU Device: Tesla T4, Vendor: NVIDIA Corporation\n",
      "[LightGBM] [Info] Compiling OpenCL Kernel with 256 bins...\n",
      "[LightGBM] [Info] GPU programs have been built\n",
      "[LightGBM] [Info] Size of histogram bin entry: 8\n",
      "[LightGBM] [Info] 2 dense feature groups (0.52 MB) transferred to GPU in 0.001010 secs. 1 sparse feature groups\n",
      "[LightGBM] [Info] Start training from score -1.890432\n",
      "[LightGBM] [Info] Start training from score -0.814846\n",
      "[LightGBM] [Info] Start training from score -0.900698\n"
     ]
    },
    {
     "name": "stderr",
     "output_type": "stream",
     "text": [
      "/usr/local/lib/python3.11/dist-packages/sklearn/utils/validation.py:2739: UserWarning: X does not have valid feature names, but LGBMClassifier was fitted with feature names\n",
      "  warnings.warn(\n"
     ]
    },
    {
     "name": "stdout",
     "output_type": "stream",
     "text": [
      "[LightGBM] [Info] This is the GPU trainer!!\n",
      "[LightGBM] [Info] Total Bins 246537\n",
      "[LightGBM] [Info] Number of data points in the train set: 135855, number of used features: 4817\n",
      "[LightGBM] [Info] Using GPU Device: Tesla T4, Vendor: NVIDIA Corporation\n",
      "[LightGBM] [Info] Compiling OpenCL Kernel with 256 bins...\n",
      "[LightGBM] [Info] GPU programs have been built\n",
      "[LightGBM] [Info] Size of histogram bin entry: 8\n",
      "[LightGBM] [Info] 2 dense feature groups (0.52 MB) transferred to GPU in 0.001046 secs. 1 sparse feature groups\n",
      "[LightGBM] [Info] Start training from score -1.890432\n",
      "[LightGBM] [Info] Start training from score -0.814846\n",
      "[LightGBM] [Info] Start training from score -0.900698\n"
     ]
    },
    {
     "name": "stderr",
     "output_type": "stream",
     "text": [
      "/usr/local/lib/python3.11/dist-packages/sklearn/utils/validation.py:2739: UserWarning: X does not have valid feature names, but LGBMClassifier was fitted with feature names\n",
      "  warnings.warn(\n"
     ]
    },
    {
     "name": "stdout",
     "output_type": "stream",
     "text": [
      "[LightGBM] [Info] This is the GPU trainer!!\n",
      "[LightGBM] [Info] Total Bins 252529\n",
      "[LightGBM] [Info] Number of data points in the train set: 135855, number of used features: 4870\n",
      "[LightGBM] [Info] Using GPU Device: Tesla T4, Vendor: NVIDIA Corporation\n",
      "[LightGBM] [Info] Compiling OpenCL Kernel with 256 bins...\n",
      "[LightGBM] [Info] GPU programs have been built\n",
      "[LightGBM] [Info] Size of histogram bin entry: 8\n",
      "[LightGBM] [Info] 3 dense feature groups (0.52 MB) transferred to GPU in 0.000968 secs. 1 sparse feature groups\n",
      "[LightGBM] [Info] Start training from score -1.890432\n",
      "[LightGBM] [Info] Start training from score -0.814846\n",
      "[LightGBM] [Info] Start training from score -0.900698\n"
     ]
    },
    {
     "name": "stderr",
     "output_type": "stream",
     "text": [
      "/usr/local/lib/python3.11/dist-packages/sklearn/utils/validation.py:2739: UserWarning: X does not have valid feature names, but LGBMClassifier was fitted with feature names\n",
      "  warnings.warn(\n"
     ]
    },
    {
     "name": "stdout",
     "output_type": "stream",
     "text": [
      "[LightGBM] [Info] This is the GPU trainer!!\n",
      "[LightGBM] [Info] Total Bins 250186\n",
      "[LightGBM] [Info] Number of data points in the train set: 135855, number of used features: 4878\n",
      "[LightGBM] [Info] Using GPU Device: Tesla T4, Vendor: NVIDIA Corporation\n",
      "[LightGBM] [Info] Compiling OpenCL Kernel with 256 bins...\n",
      "[LightGBM] [Info] GPU programs have been built\n",
      "[LightGBM] [Info] Size of histogram bin entry: 8\n",
      "[LightGBM] [Info] 2 dense feature groups (0.52 MB) transferred to GPU in 0.000901 secs. 1 sparse feature groups\n",
      "[LightGBM] [Info] Start training from score -1.890432\n",
      "[LightGBM] [Info] Start training from score -0.814846\n",
      "[LightGBM] [Info] Start training from score -0.900698\n"
     ]
    },
    {
     "name": "stderr",
     "output_type": "stream",
     "text": [
      "/usr/local/lib/python3.11/dist-packages/sklearn/utils/validation.py:2739: UserWarning: X does not have valid feature names, but LGBMClassifier was fitted with feature names\n",
      "  warnings.warn(\n"
     ]
    },
    {
     "name": "stdout",
     "output_type": "stream",
     "text": [
      "[LightGBM] [Info] This is the GPU trainer!!\n",
      "[LightGBM] [Info] Total Bins 248990\n",
      "[LightGBM] [Info] Number of data points in the train set: 135856, number of used features: 4854\n",
      "[LightGBM] [Info] Using GPU Device: Tesla T4, Vendor: NVIDIA Corporation\n",
      "[LightGBM] [Info] Compiling OpenCL Kernel with 256 bins...\n",
      "[LightGBM] [Info] GPU programs have been built\n",
      "[LightGBM] [Info] Size of histogram bin entry: 8\n",
      "[LightGBM] [Info] 2 dense feature groups (0.52 MB) transferred to GPU in 0.001271 secs. 1 sparse feature groups\n",
      "[LightGBM] [Info] Start training from score -1.890390\n",
      "[LightGBM] [Info] Start training from score -0.814854\n",
      "[LightGBM] [Info] Start training from score -0.900705\n"
     ]
    },
    {
     "name": "stderr",
     "output_type": "stream",
     "text": [
      "/usr/local/lib/python3.11/dist-packages/sklearn/utils/validation.py:2739: UserWarning: X does not have valid feature names, but LGBMClassifier was fitted with feature names\n",
      "  warnings.warn(\n",
      "/usr/local/lib/python3.11/dist-packages/sklearn/utils/validation.py:2739: UserWarning: X does not have valid feature names, but LGBMClassifier was fitted with feature names\n",
      "  warnings.warn(\n"
     ]
    },
    {
     "name": "stdout",
     "output_type": "stream",
     "text": [
      "\n",
      "Classification Report (Final Stacked Ensemble):\n",
      "              precision    recall  f1-score   support\n",
      "\n",
      "    negative       0.94      0.91      0.93     25644\n",
      "     neutral       0.96      0.97      0.97     75180\n",
      "    positive       0.96      0.96      0.96     68995\n",
      "\n",
      "    accuracy                           0.96    169819\n",
      "   macro avg       0.95      0.95      0.95    169819\n",
      "weighted avg       0.96      0.96      0.96    169819\n",
      "\n",
      "\n",
      "Model training complete. The final stacked ensemble model and label encoder have been saved.\n"
     ]
    }
   ],
   "source": [
    "import numpy as np\n",
    "import pandas as pd\n",
    "from scipy.sparse import load_npz\n",
    "from sklearn.model_selection import StratifiedKFold\n",
    "from sklearn.preprocessing import LabelEncoder\n",
    "from sklearn.ensemble import RandomForestClassifier, StackingClassifier\n",
    "from xgboost import XGBClassifier\n",
    "from lightgbm import LGBMClassifier\n",
    "from sklearn.linear_model import LogisticRegression\n",
    "from sklearn.metrics import classification_report, confusion_matrix\n",
    "import matplotlib.pyplot as plt\n",
    "import seaborn as sns\n",
    "import joblib\n",
    "from tqdm import tqdm\n",
    "import optuna\n",
    "import time\n",
    "\n",
    "# Load TF-IDF matrix and sentiment-labeled data\n",
    "tfidf_matrix = load_npz('/kaggle/working/tfidf_matrix.npz')\n",
    "df = pd.read_csv('/kaggle/working/sentiment_labeled_bitcoin_tweets.csv')\n",
    "df_clean = df.dropna(subset=['processed_text'])\n",
    "sentiments = df_clean['sentiment']\n",
    "\n",
    "# Encode string labels into integers\n",
    "le = LabelEncoder()\n",
    "encoded_labels = le.fit_transform(sentiments)\n",
    "\n",
    "# Hyperparameter Tuning for XGBoost using Optuna\n",
    "def objective(trial):\n",
    "    params = {\n",
    "        'n_estimators': trial.suggest_int('xgb_n_estimators', 100, 300),\n",
    "        'learning_rate': trial.suggest_float('xgb_learning_rate', 0.01, 0.3, log=True),\n",
    "        'max_depth': trial.suggest_int('xgb_max_depth', 3, 12)\n",
    "    }\n",
    "    \n",
    "    xgb_trial = XGBClassifier(\n",
    "        random_state=42, \n",
    "        eval_metric='mlogloss',\n",
    "        tree_method='hist',    \n",
    "        device='cuda',         \n",
    "        **params\n",
    "    )\n",
    "    \n",
    "    estimators_trial = [\n",
    "        ('rf', RandomForestClassifier(n_estimators=100, random_state=42, n_jobs=-1)),\n",
    "        ('xgb', xgb_trial),\n",
    "        ('lgbm', LGBMClassifier(\n",
    "            boosting_type='gbdt',\n",
    "            objective='multiclass',\n",
    "            n_estimators=200,\n",
    "            learning_rate=0.1,\n",
    "            device='gpu'\n",
    "        ))\n",
    "    ]\n",
    "    \n",
    "    stacking_trial = StackingClassifier(\n",
    "        estimators=estimators_trial,\n",
    "        final_estimator=LogisticRegression(),\n",
    "        cv=5,\n",
    "        n_jobs=1\n",
    "    )\n",
    "    \n",
    "    cv = StratifiedKFold(n_splits=3, shuffle=True, random_state=42)\n",
    "    scores = []\n",
    "    for train_idx, test_idx in cv.split(tfidf_matrix, encoded_labels):\n",
    "        X_train = tfidf_matrix[train_idx].copy()\n",
    "        X_test = tfidf_matrix[test_idx].copy()\n",
    "        y_train, y_test = encoded_labels[train_idx], encoded_labels[test_idx]\n",
    "        stacking_trial.fit(X_train, y_train)\n",
    "        scores.append(stacking_trial.score(X_test, y_test))\n",
    "    return np.mean(scores)\n",
    "\n",
    "print(\"Starting hyperparameter tuning for XGBoost using Optuna...\")\n",
    "study = optuna.create_study(direction=\"maximize\")\n",
    "start_time = time.time()\n",
    "study.optimize(objective, n_trials=5)\n",
    "print(f\"Hyperparameter tuning completed in {time.time() - start_time:.2f} seconds.\")\n",
    "print(\"Best XGBoost parameters found:\", study.best_trial.params)\n",
    "\n",
    "# Build Final Stacked Ensemble with Tuned XGBoost\n",
    "best_params = study.best_trial.params\n",
    "xgb_final = XGBClassifier(\n",
    "    random_state=42, \n",
    "    eval_metric='mlogloss',\n",
    "    tree_method='hist',\n",
    "    device='cuda',\n",
    "    n_estimators=best_params['xgb_n_estimators'],\n",
    "    learning_rate=best_params['xgb_learning_rate'],\n",
    "    max_depth=best_params['xgb_max_depth']\n",
    ")\n",
    "\n",
    "rf = RandomForestClassifier(n_estimators=100, random_state=42, n_jobs=-1)\n",
    "lgbm = LGBMClassifier(\n",
    "    boosting_type='gbdt',\n",
    "    objective='multiclass',\n",
    "    n_estimators=200,\n",
    "    learning_rate=0.1,\n",
    "    device='gpu'\n",
    ")\n",
    "\n",
    "estimators = [\n",
    "    ('rf', rf),\n",
    "    ('xgb', xgb_final),\n",
    "    ('lgbm', lgbm)\n",
    "]\n",
    "\n",
    "stacking_clf = StackingClassifier(\n",
    "    estimators=estimators,\n",
    "    final_estimator=LogisticRegression(),\n",
    "    cv=5,\n",
    "    n_jobs=1\n",
    ")\n",
    "\n",
    "# Cross-validation of the Final Stacked Ensemble\n",
    "cv = StratifiedKFold(n_splits=5, shuffle=True, random_state=42)\n",
    "cv_scores = []\n",
    "\n",
    "print(\"\\nPerforming cross-validation with the Final Stacked Ensemble...\")\n",
    "for train_index, test_index in tqdm(cv.split(tfidf_matrix, encoded_labels), total=cv.get_n_splits(), desc=\"CV Folds\"):\n",
    "    X_train = tfidf_matrix[train_index].copy()\n",
    "    X_test  = tfidf_matrix[test_index].copy()\n",
    "    y_train, y_test = encoded_labels[train_index], encoded_labels[test_index]\n",
    "    \n",
    "    stacking_clf.fit(X_train, y_train)\n",
    "    score = stacking_clf.score(X_test, y_test)\n",
    "    cv_scores.append(score)\n",
    "\n",
    "print(\"\\nFinal Stacked Ensemble - Cross-validation Accuracy:\")\n",
    "print(f\"Mean accuracy: {np.mean(cv_scores):.4f} (+/- {np.std(cv_scores)*2:.4f})\")\n",
    "\n",
    "# Train the Final Stacked Ensemble on the Full Dataset and Evaluate\n",
    "print(\"\\nTraining the Final Stacked Ensemble on the full dataset...\")\n",
    "stacking_clf.fit(tfidf_matrix.copy(), encoded_labels)\n",
    "\n",
    "predictions = stacking_clf.predict(tfidf_matrix.copy())\n",
    "print(\"\\nClassification Report (Final Stacked Ensemble):\")\n",
    "print(classification_report(encoded_labels, predictions, target_names=le.classes_))\n",
    "\n",
    "cm = confusion_matrix(encoded_labels, predictions)\n",
    "plt.figure(figsize=(8,6))\n",
    "sns.heatmap(cm, annot=True, fmt='d', cmap='Blues', xticklabels=le.classes_, yticklabels=le.classes_)\n",
    "plt.title('Confusion Matrix - Final Stacked Ensemble')\n",
    "plt.xlabel('Predicted')\n",
    "plt.ylabel('Actual')\n",
    "plt.tight_layout()\n",
    "plt.savefig('/kaggle/working/final_stacked_confusion_matrix.png')\n",
    "plt.close()\n",
    "\n",
    "# Save the Final Model and Label Encoder\n",
    "joblib.dump(stacking_clf, '/kaggle/working/final_stacked_model.joblib')\n",
    "joblib.dump(le, '/kaggle/working/label_encoder.joblib')\n",
    "\n",
    "print(\"\\nModel training complete. The final stacked ensemble model and label encoder have been saved.\")"
   ]
  },
  {
   "cell_type": "code",
   "execution_count": null,
   "id": "5f39f6b5",
   "metadata": {
    "execution": {
     "iopub.execute_input": "2025-04-20T13:44:21.920666Z",
     "iopub.status.busy": "2025-04-20T13:44:21.920279Z",
     "iopub.status.idle": "2025-04-20T13:44:22.317695Z",
     "shell.execute_reply": "2025-04-20T13:44:22.316393Z",
     "shell.execute_reply.started": "2025-04-20T13:44:21.920635Z"
    },
    "papermill": {
     "duration": 0.063205,
     "end_time": "2025-04-20T17:47:20.348457",
     "exception": false,
     "start_time": "2025-04-20T17:47:20.285252",
     "status": "completed"
    },
    "tags": []
   },
   "outputs": [],
   "source": []
  }
 ],
 "metadata": {
  "kaggle": {
   "accelerator": "nvidiaTeslaT4",
   "dataSources": [
    {
     "datasetId": 1155801,
     "sourceId": 5141688,
     "sourceType": "datasetVersion"
    }
   ],
   "dockerImageVersionId": 31012,
   "isGpuEnabled": true,
   "isInternetEnabled": true,
   "language": "python",
   "sourceType": "notebook"
  },
  "kernelspec": {
   "display_name": "Python 3",
   "language": "python",
   "name": "python3"
  },
  "language_info": {
   "codemirror_mode": {
    "name": "ipython",
    "version": 3
   },
   "file_extension": ".py",
   "mimetype": "text/x-python",
   "name": "python",
   "nbconvert_exporter": "python",
   "pygments_lexer": "ipython3",
   "version": "3.11.11"
  },
  "papermill": {
   "default_parameters": {},
   "duration": 14303.019019,
   "end_time": "2025-04-20T17:47:21.574567",
   "environment_variables": {},
   "exception": null,
   "input_path": "__notebook__.ipynb",
   "output_path": "__notebook__.ipynb",
   "parameters": {},
   "start_time": "2025-04-20T13:48:58.555548",
   "version": "2.6.0"
  }
 },
 "nbformat": 4,
 "nbformat_minor": 5
}
