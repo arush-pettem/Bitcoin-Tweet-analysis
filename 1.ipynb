{
 "cells": [
  {
   "cell_type": "code",
   "execution_count": null,
   "metadata": {},
   "outputs": [
    {
     "name": "stdout",
     "output_type": "stream",
     "text": [
      "5000\n",
      "['aapl' 'aaron' 'aav' 'aax' 'abc' 'abil' 'abl' 'abomost' 'absolut'\n",
      " 'abstract']\n"
     ]
    }
   ],
   "source": [
    "import numpy as np\n",
    "\n",
    "# Load the .npy file with pickle support\n",
    "data = np.load(\"tfidf_feature_names.np\", allow_pickle=True)\n",
    "\n",
    "# Print the contents\n",
    "print(len(data))\n",
    "\n",
    "# If it's a list or array, print the first few elements\n",
    "print(data[:10])  # Adjust as needed\n"
   ]
  }
 ],
 "metadata": {
  "kernelspec": {
   "display_name": "Python 3",
   "language": "python",
   "name": "python3"
  },
  "language_info": {
   "codemirror_mode": {
    "name": "ipython",
    "version": 3
   },
   "file_extension": ".py",
   "mimetype": "text/x-python",
   "name": "python",
   "nbconvert_exporter": "python",
   "pygments_lexer": "ipython3",
   "version": "3.13.2"
  }
 },
 "nbformat": 4,
 "nbformat_minor": 2
}
